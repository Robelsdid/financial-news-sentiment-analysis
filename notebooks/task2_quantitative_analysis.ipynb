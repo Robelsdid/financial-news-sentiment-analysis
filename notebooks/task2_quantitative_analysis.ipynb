{
 "cells": [
  {
   "cell_type": "code",
   "execution_count": 8,
   "metadata": {},
   "outputs": [
    {
     "name": "stdout",
     "output_type": "stream",
     "text": [
      "Current working directory: c:\\Users\\aweso\\financial-news-sentiment-analysis\\notebooks\n",
      "Files in data/: ['AAPL_historical_data.csv', 'AMZN_historical_data.csv', 'GOOG_historical_data.csv', 'keyword_counts.png', 'META_historical_data.csv', 'MSFT_historical_data.csv', 'NVDA_historical_data.csv', 'publication_dates.png', 'raw_analyst_ratings.csv', 'time_distribution.png', 'top_publishers.png', 'TSLA_historical_data.csv']\n"
     ]
    }
   ],
   "source": [
    "import os\n",
    "print(\"Current working directory:\", os.getcwd())\n",
    "print(\"Files in data/:\", os.listdir(os.path.join(os.getcwd(), \"..\", \"data\")))"
   ]
  },
  {
   "cell_type": "code",
   "execution_count": 9,
   "metadata": {},
   "outputs": [],
   "source": [
    "import sys\n",
    "import os\n",
    "sys.path.append(os.path.abspath(os.path.join(os.getcwd(), \"..\")))"
   ]
  },
  {
   "cell_type": "code",
   "execution_count": 10,
   "metadata": {},
   "outputs": [
    {
     "name": "stdout",
     "output_type": "stream",
     "text": [
      "\n",
      "AAPL Stock Price Data (head):\n"
     ]
    },
    {
     "data": {
      "text/html": [
       "<div>\n",
       "<style scoped>\n",
       "    .dataframe tbody tr th:only-of-type {\n",
       "        vertical-align: middle;\n",
       "    }\n",
       "\n",
       "    .dataframe tbody tr th {\n",
       "        vertical-align: top;\n",
       "    }\n",
       "\n",
       "    .dataframe thead th {\n",
       "        text-align: right;\n",
       "    }\n",
       "</style>\n",
       "<table border=\"1\" class=\"dataframe\">\n",
       "  <thead>\n",
       "    <tr style=\"text-align: right;\">\n",
       "      <th></th>\n",
       "      <th>Date</th>\n",
       "      <th>Open</th>\n",
       "      <th>High</th>\n",
       "      <th>Low</th>\n",
       "      <th>Close</th>\n",
       "      <th>Adj Close</th>\n",
       "      <th>Volume</th>\n",
       "      <th>Dividends</th>\n",
       "      <th>Stock Splits</th>\n",
       "    </tr>\n",
       "  </thead>\n",
       "  <tbody>\n",
       "    <tr>\n",
       "      <th>0</th>\n",
       "      <td>1980-12-12</td>\n",
       "      <td>0.128348</td>\n",
       "      <td>0.128906</td>\n",
       "      <td>0.128348</td>\n",
       "      <td>0.128348</td>\n",
       "      <td>0.098943</td>\n",
       "      <td>469033600</td>\n",
       "      <td>0.0</td>\n",
       "      <td>0.0</td>\n",
       "    </tr>\n",
       "    <tr>\n",
       "      <th>1</th>\n",
       "      <td>1980-12-15</td>\n",
       "      <td>0.122210</td>\n",
       "      <td>0.122210</td>\n",
       "      <td>0.121652</td>\n",
       "      <td>0.121652</td>\n",
       "      <td>0.093781</td>\n",
       "      <td>175884800</td>\n",
       "      <td>0.0</td>\n",
       "      <td>0.0</td>\n",
       "    </tr>\n",
       "    <tr>\n",
       "      <th>2</th>\n",
       "      <td>1980-12-16</td>\n",
       "      <td>0.113281</td>\n",
       "      <td>0.113281</td>\n",
       "      <td>0.112723</td>\n",
       "      <td>0.112723</td>\n",
       "      <td>0.086898</td>\n",
       "      <td>105728000</td>\n",
       "      <td>0.0</td>\n",
       "      <td>0.0</td>\n",
       "    </tr>\n",
       "    <tr>\n",
       "      <th>3</th>\n",
       "      <td>1980-12-17</td>\n",
       "      <td>0.115513</td>\n",
       "      <td>0.116071</td>\n",
       "      <td>0.115513</td>\n",
       "      <td>0.115513</td>\n",
       "      <td>0.089049</td>\n",
       "      <td>86441600</td>\n",
       "      <td>0.0</td>\n",
       "      <td>0.0</td>\n",
       "    </tr>\n",
       "    <tr>\n",
       "      <th>4</th>\n",
       "      <td>1980-12-18</td>\n",
       "      <td>0.118862</td>\n",
       "      <td>0.119420</td>\n",
       "      <td>0.118862</td>\n",
       "      <td>0.118862</td>\n",
       "      <td>0.091630</td>\n",
       "      <td>73449600</td>\n",
       "      <td>0.0</td>\n",
       "      <td>0.0</td>\n",
       "    </tr>\n",
       "  </tbody>\n",
       "</table>\n",
       "</div>"
      ],
      "text/plain": [
       "         Date      Open      High       Low     Close  Adj Close     Volume  \\\n",
       "0  1980-12-12  0.128348  0.128906  0.128348  0.128348   0.098943  469033600   \n",
       "1  1980-12-15  0.122210  0.122210  0.121652  0.121652   0.093781  175884800   \n",
       "2  1980-12-16  0.113281  0.113281  0.112723  0.112723   0.086898  105728000   \n",
       "3  1980-12-17  0.115513  0.116071  0.115513  0.115513   0.089049   86441600   \n",
       "4  1980-12-18  0.118862  0.119420  0.118862  0.118862   0.091630   73449600   \n",
       "\n",
       "   Dividends  Stock Splits  \n",
       "0        0.0           0.0  \n",
       "1        0.0           0.0  \n",
       "2        0.0           0.0  \n",
       "3        0.0           0.0  \n",
       "4        0.0           0.0  "
      ]
     },
     "metadata": {},
     "output_type": "display_data"
    },
    {
     "name": "stdout",
     "output_type": "stream",
     "text": [
      "\n",
      "Columns: ['Date', 'Open', 'High', 'Low', 'Close', 'Adj Close', 'Volume', 'Dividends', 'Stock Splits']\n",
      "Shape: (10998, 9)\n",
      "<class 'pandas.core.frame.DataFrame'>\n",
      "RangeIndex: 10998 entries, 0 to 10997\n",
      "Data columns (total 9 columns):\n",
      " #   Column        Non-Null Count  Dtype  \n",
      "---  ------        --------------  -----  \n",
      " 0   Date          10998 non-null  object \n",
      " 1   Open          10998 non-null  float64\n",
      " 2   High          10998 non-null  float64\n",
      " 3   Low           10998 non-null  float64\n",
      " 4   Close         10998 non-null  float64\n",
      " 5   Adj Close     10998 non-null  float64\n",
      " 6   Volume        10998 non-null  int64  \n",
      " 7   Dividends     10998 non-null  float64\n",
      " 8   Stock Splits  10998 non-null  float64\n",
      "dtypes: float64(7), int64(1), object(1)\n",
      "memory usage: 773.4+ KB\n",
      "None\n",
      "\n",
      "AMZN Stock Price Data (head):\n"
     ]
    },
    {
     "data": {
      "text/html": [
       "<div>\n",
       "<style scoped>\n",
       "    .dataframe tbody tr th:only-of-type {\n",
       "        vertical-align: middle;\n",
       "    }\n",
       "\n",
       "    .dataframe tbody tr th {\n",
       "        vertical-align: top;\n",
       "    }\n",
       "\n",
       "    .dataframe thead th {\n",
       "        text-align: right;\n",
       "    }\n",
       "</style>\n",
       "<table border=\"1\" class=\"dataframe\">\n",
       "  <thead>\n",
       "    <tr style=\"text-align: right;\">\n",
       "      <th></th>\n",
       "      <th>Date</th>\n",
       "      <th>Open</th>\n",
       "      <th>High</th>\n",
       "      <th>Low</th>\n",
       "      <th>Close</th>\n",
       "      <th>Adj Close</th>\n",
       "      <th>Volume</th>\n",
       "      <th>Dividends</th>\n",
       "      <th>Stock Splits</th>\n",
       "    </tr>\n",
       "  </thead>\n",
       "  <tbody>\n",
       "    <tr>\n",
       "      <th>0</th>\n",
       "      <td>1997-05-15</td>\n",
       "      <td>0.121875</td>\n",
       "      <td>0.125000</td>\n",
       "      <td>0.096354</td>\n",
       "      <td>0.097917</td>\n",
       "      <td>0.097917</td>\n",
       "      <td>1443120000</td>\n",
       "      <td>0.0</td>\n",
       "      <td>0.0</td>\n",
       "    </tr>\n",
       "    <tr>\n",
       "      <th>1</th>\n",
       "      <td>1997-05-16</td>\n",
       "      <td>0.098438</td>\n",
       "      <td>0.098958</td>\n",
       "      <td>0.085417</td>\n",
       "      <td>0.086458</td>\n",
       "      <td>0.086458</td>\n",
       "      <td>294000000</td>\n",
       "      <td>0.0</td>\n",
       "      <td>0.0</td>\n",
       "    </tr>\n",
       "    <tr>\n",
       "      <th>2</th>\n",
       "      <td>1997-05-19</td>\n",
       "      <td>0.088021</td>\n",
       "      <td>0.088542</td>\n",
       "      <td>0.081250</td>\n",
       "      <td>0.085417</td>\n",
       "      <td>0.085417</td>\n",
       "      <td>122136000</td>\n",
       "      <td>0.0</td>\n",
       "      <td>0.0</td>\n",
       "    </tr>\n",
       "    <tr>\n",
       "      <th>3</th>\n",
       "      <td>1997-05-20</td>\n",
       "      <td>0.086458</td>\n",
       "      <td>0.087500</td>\n",
       "      <td>0.081771</td>\n",
       "      <td>0.081771</td>\n",
       "      <td>0.081771</td>\n",
       "      <td>109344000</td>\n",
       "      <td>0.0</td>\n",
       "      <td>0.0</td>\n",
       "    </tr>\n",
       "    <tr>\n",
       "      <th>4</th>\n",
       "      <td>1997-05-21</td>\n",
       "      <td>0.081771</td>\n",
       "      <td>0.082292</td>\n",
       "      <td>0.068750</td>\n",
       "      <td>0.071354</td>\n",
       "      <td>0.071354</td>\n",
       "      <td>377064000</td>\n",
       "      <td>0.0</td>\n",
       "      <td>0.0</td>\n",
       "    </tr>\n",
       "  </tbody>\n",
       "</table>\n",
       "</div>"
      ],
      "text/plain": [
       "         Date      Open      High       Low     Close  Adj Close      Volume  \\\n",
       "0  1997-05-15  0.121875  0.125000  0.096354  0.097917   0.097917  1443120000   \n",
       "1  1997-05-16  0.098438  0.098958  0.085417  0.086458   0.086458   294000000   \n",
       "2  1997-05-19  0.088021  0.088542  0.081250  0.085417   0.085417   122136000   \n",
       "3  1997-05-20  0.086458  0.087500  0.081771  0.081771   0.081771   109344000   \n",
       "4  1997-05-21  0.081771  0.082292  0.068750  0.071354   0.071354   377064000   \n",
       "\n",
       "   Dividends  Stock Splits  \n",
       "0        0.0           0.0  \n",
       "1        0.0           0.0  \n",
       "2        0.0           0.0  \n",
       "3        0.0           0.0  \n",
       "4        0.0           0.0  "
      ]
     },
     "metadata": {},
     "output_type": "display_data"
    },
    {
     "name": "stdout",
     "output_type": "stream",
     "text": [
      "\n",
      "Columns: ['Date', 'Open', 'High', 'Low', 'Close', 'Adj Close', 'Volume', 'Dividends', 'Stock Splits']\n",
      "Shape: (6846, 9)\n",
      "<class 'pandas.core.frame.DataFrame'>\n",
      "RangeIndex: 6846 entries, 0 to 6845\n",
      "Data columns (total 9 columns):\n",
      " #   Column        Non-Null Count  Dtype  \n",
      "---  ------        --------------  -----  \n",
      " 0   Date          6846 non-null   object \n",
      " 1   Open          6846 non-null   float64\n",
      " 2   High          6846 non-null   float64\n",
      " 3   Low           6846 non-null   float64\n",
      " 4   Close         6846 non-null   float64\n",
      " 5   Adj Close     6846 non-null   float64\n",
      " 6   Volume        6846 non-null   int64  \n",
      " 7   Dividends     6846 non-null   float64\n",
      " 8   Stock Splits  6846 non-null   float64\n",
      "dtypes: float64(7), int64(1), object(1)\n",
      "memory usage: 481.5+ KB\n",
      "None\n",
      "\n",
      "GOOG Stock Price Data (head):\n"
     ]
    },
    {
     "data": {
      "text/html": [
       "<div>\n",
       "<style scoped>\n",
       "    .dataframe tbody tr th:only-of-type {\n",
       "        vertical-align: middle;\n",
       "    }\n",
       "\n",
       "    .dataframe tbody tr th {\n",
       "        vertical-align: top;\n",
       "    }\n",
       "\n",
       "    .dataframe thead th {\n",
       "        text-align: right;\n",
       "    }\n",
       "</style>\n",
       "<table border=\"1\" class=\"dataframe\">\n",
       "  <thead>\n",
       "    <tr style=\"text-align: right;\">\n",
       "      <th></th>\n",
       "      <th>Date</th>\n",
       "      <th>Open</th>\n",
       "      <th>High</th>\n",
       "      <th>Low</th>\n",
       "      <th>Close</th>\n",
       "      <th>Adj Close</th>\n",
       "      <th>Volume</th>\n",
       "      <th>Dividends</th>\n",
       "      <th>Stock Splits</th>\n",
       "    </tr>\n",
       "  </thead>\n",
       "  <tbody>\n",
       "    <tr>\n",
       "      <th>0</th>\n",
       "      <td>2004-08-19</td>\n",
       "      <td>2.490664</td>\n",
       "      <td>2.591785</td>\n",
       "      <td>2.390042</td>\n",
       "      <td>2.499133</td>\n",
       "      <td>2.496292</td>\n",
       "      <td>897427216</td>\n",
       "      <td>0.0</td>\n",
       "      <td>0.0</td>\n",
       "    </tr>\n",
       "    <tr>\n",
       "      <th>1</th>\n",
       "      <td>2004-08-20</td>\n",
       "      <td>2.515820</td>\n",
       "      <td>2.716817</td>\n",
       "      <td>2.503118</td>\n",
       "      <td>2.697639</td>\n",
       "      <td>2.694573</td>\n",
       "      <td>458857488</td>\n",
       "      <td>0.0</td>\n",
       "      <td>0.0</td>\n",
       "    </tr>\n",
       "    <tr>\n",
       "      <th>2</th>\n",
       "      <td>2004-08-23</td>\n",
       "      <td>2.758411</td>\n",
       "      <td>2.826406</td>\n",
       "      <td>2.716070</td>\n",
       "      <td>2.724787</td>\n",
       "      <td>2.721690</td>\n",
       "      <td>366857939</td>\n",
       "      <td>0.0</td>\n",
       "      <td>0.0</td>\n",
       "    </tr>\n",
       "    <tr>\n",
       "      <th>3</th>\n",
       "      <td>2004-08-24</td>\n",
       "      <td>2.770615</td>\n",
       "      <td>2.779581</td>\n",
       "      <td>2.579581</td>\n",
       "      <td>2.611960</td>\n",
       "      <td>2.608991</td>\n",
       "      <td>306396159</td>\n",
       "      <td>0.0</td>\n",
       "      <td>0.0</td>\n",
       "    </tr>\n",
       "    <tr>\n",
       "      <th>4</th>\n",
       "      <td>2004-08-25</td>\n",
       "      <td>2.614201</td>\n",
       "      <td>2.689918</td>\n",
       "      <td>2.587302</td>\n",
       "      <td>2.640104</td>\n",
       "      <td>2.637103</td>\n",
       "      <td>184645512</td>\n",
       "      <td>0.0</td>\n",
       "      <td>0.0</td>\n",
       "    </tr>\n",
       "  </tbody>\n",
       "</table>\n",
       "</div>"
      ],
      "text/plain": [
       "         Date      Open      High       Low     Close  Adj Close     Volume  \\\n",
       "0  2004-08-19  2.490664  2.591785  2.390042  2.499133   2.496292  897427216   \n",
       "1  2004-08-20  2.515820  2.716817  2.503118  2.697639   2.694573  458857488   \n",
       "2  2004-08-23  2.758411  2.826406  2.716070  2.724787   2.721690  366857939   \n",
       "3  2004-08-24  2.770615  2.779581  2.579581  2.611960   2.608991  306396159   \n",
       "4  2004-08-25  2.614201  2.689918  2.587302  2.640104   2.637103  184645512   \n",
       "\n",
       "   Dividends  Stock Splits  \n",
       "0        0.0           0.0  \n",
       "1        0.0           0.0  \n",
       "2        0.0           0.0  \n",
       "3        0.0           0.0  \n",
       "4        0.0           0.0  "
      ]
     },
     "metadata": {},
     "output_type": "display_data"
    },
    {
     "name": "stdout",
     "output_type": "stream",
     "text": [
      "\n",
      "Columns: ['Date', 'Open', 'High', 'Low', 'Close', 'Adj Close', 'Volume', 'Dividends', 'Stock Splits']\n",
      "Shape: (5020, 9)\n",
      "<class 'pandas.core.frame.DataFrame'>\n",
      "RangeIndex: 5020 entries, 0 to 5019\n",
      "Data columns (total 9 columns):\n",
      " #   Column        Non-Null Count  Dtype  \n",
      "---  ------        --------------  -----  \n",
      " 0   Date          5020 non-null   object \n",
      " 1   Open          5020 non-null   float64\n",
      " 2   High          5020 non-null   float64\n",
      " 3   Low           5020 non-null   float64\n",
      " 4   Close         5020 non-null   float64\n",
      " 5   Adj Close     5020 non-null   float64\n",
      " 6   Volume        5020 non-null   int64  \n",
      " 7   Dividends     5020 non-null   float64\n",
      " 8   Stock Splits  5020 non-null   float64\n",
      "dtypes: float64(7), int64(1), object(1)\n",
      "memory usage: 353.1+ KB\n",
      "None\n",
      "\n",
      "META Stock Price Data (head):\n"
     ]
    },
    {
     "data": {
      "text/html": [
       "<div>\n",
       "<style scoped>\n",
       "    .dataframe tbody tr th:only-of-type {\n",
       "        vertical-align: middle;\n",
       "    }\n",
       "\n",
       "    .dataframe tbody tr th {\n",
       "        vertical-align: top;\n",
       "    }\n",
       "\n",
       "    .dataframe thead th {\n",
       "        text-align: right;\n",
       "    }\n",
       "</style>\n",
       "<table border=\"1\" class=\"dataframe\">\n",
       "  <thead>\n",
       "    <tr style=\"text-align: right;\">\n",
       "      <th></th>\n",
       "      <th>Date</th>\n",
       "      <th>Open</th>\n",
       "      <th>High</th>\n",
       "      <th>Low</th>\n",
       "      <th>Close</th>\n",
       "      <th>Adj Close</th>\n",
       "      <th>Volume</th>\n",
       "      <th>Dividends</th>\n",
       "      <th>Stock Splits</th>\n",
       "    </tr>\n",
       "  </thead>\n",
       "  <tbody>\n",
       "    <tr>\n",
       "      <th>0</th>\n",
       "      <td>2012-12-12</td>\n",
       "      <td>28.000000</td>\n",
       "      <td>28.139999</td>\n",
       "      <td>27.370001</td>\n",
       "      <td>27.580000</td>\n",
       "      <td>27.523441</td>\n",
       "      <td>46704200</td>\n",
       "      <td>0.0</td>\n",
       "      <td>0.0</td>\n",
       "    </tr>\n",
       "    <tr>\n",
       "      <th>1</th>\n",
       "      <td>2012-12-13</td>\n",
       "      <td>27.590000</td>\n",
       "      <td>28.750000</td>\n",
       "      <td>27.430000</td>\n",
       "      <td>28.240000</td>\n",
       "      <td>28.182087</td>\n",
       "      <td>81051600</td>\n",
       "      <td>0.0</td>\n",
       "      <td>0.0</td>\n",
       "    </tr>\n",
       "    <tr>\n",
       "      <th>2</th>\n",
       "      <td>2012-12-14</td>\n",
       "      <td>28.180000</td>\n",
       "      <td>28.330000</td>\n",
       "      <td>26.760000</td>\n",
       "      <td>26.809999</td>\n",
       "      <td>26.755020</td>\n",
       "      <td>91631600</td>\n",
       "      <td>0.0</td>\n",
       "      <td>0.0</td>\n",
       "    </tr>\n",
       "    <tr>\n",
       "      <th>3</th>\n",
       "      <td>2012-12-17</td>\n",
       "      <td>26.770000</td>\n",
       "      <td>27.000000</td>\n",
       "      <td>26.320000</td>\n",
       "      <td>26.750000</td>\n",
       "      <td>26.695143</td>\n",
       "      <td>57742500</td>\n",
       "      <td>0.0</td>\n",
       "      <td>0.0</td>\n",
       "    </tr>\n",
       "    <tr>\n",
       "      <th>4</th>\n",
       "      <td>2012-12-18</td>\n",
       "      <td>26.959999</td>\n",
       "      <td>27.910000</td>\n",
       "      <td>26.900000</td>\n",
       "      <td>27.709999</td>\n",
       "      <td>27.653173</td>\n",
       "      <td>60512900</td>\n",
       "      <td>0.0</td>\n",
       "      <td>0.0</td>\n",
       "    </tr>\n",
       "  </tbody>\n",
       "</table>\n",
       "</div>"
      ],
      "text/plain": [
       "         Date       Open       High        Low      Close  Adj Close  \\\n",
       "0  2012-12-12  28.000000  28.139999  27.370001  27.580000  27.523441   \n",
       "1  2012-12-13  27.590000  28.750000  27.430000  28.240000  28.182087   \n",
       "2  2012-12-14  28.180000  28.330000  26.760000  26.809999  26.755020   \n",
       "3  2012-12-17  26.770000  27.000000  26.320000  26.750000  26.695143   \n",
       "4  2012-12-18  26.959999  27.910000  26.900000  27.709999  27.653173   \n",
       "\n",
       "     Volume  Dividends  Stock Splits  \n",
       "0  46704200        0.0           0.0  \n",
       "1  81051600        0.0           0.0  \n",
       "2  91631600        0.0           0.0  \n",
       "3  57742500        0.0           0.0  \n",
       "4  60512900        0.0           0.0  "
      ]
     },
     "metadata": {},
     "output_type": "display_data"
    },
    {
     "name": "stdout",
     "output_type": "stream",
     "text": [
      "\n",
      "Columns: ['Date', 'Open', 'High', 'Low', 'Close', 'Adj Close', 'Volume', 'Dividends', 'Stock Splits']\n",
      "Shape: (2926, 9)\n",
      "<class 'pandas.core.frame.DataFrame'>\n",
      "RangeIndex: 2926 entries, 0 to 2925\n",
      "Data columns (total 9 columns):\n",
      " #   Column        Non-Null Count  Dtype  \n",
      "---  ------        --------------  -----  \n",
      " 0   Date          2926 non-null   object \n",
      " 1   Open          2926 non-null   float64\n",
      " 2   High          2926 non-null   float64\n",
      " 3   Low           2926 non-null   float64\n",
      " 4   Close         2926 non-null   float64\n",
      " 5   Adj Close     2926 non-null   float64\n",
      " 6   Volume        2926 non-null   int64  \n",
      " 7   Dividends     2926 non-null   float64\n",
      " 8   Stock Splits  2926 non-null   float64\n",
      "dtypes: float64(7), int64(1), object(1)\n",
      "memory usage: 205.9+ KB\n",
      "None\n",
      "\n",
      "MSFT Stock Price Data (head):\n"
     ]
    },
    {
     "data": {
      "text/html": [
       "<div>\n",
       "<style scoped>\n",
       "    .dataframe tbody tr th:only-of-type {\n",
       "        vertical-align: middle;\n",
       "    }\n",
       "\n",
       "    .dataframe tbody tr th {\n",
       "        vertical-align: top;\n",
       "    }\n",
       "\n",
       "    .dataframe thead th {\n",
       "        text-align: right;\n",
       "    }\n",
       "</style>\n",
       "<table border=\"1\" class=\"dataframe\">\n",
       "  <thead>\n",
       "    <tr style=\"text-align: right;\">\n",
       "      <th></th>\n",
       "      <th>Date</th>\n",
       "      <th>Open</th>\n",
       "      <th>High</th>\n",
       "      <th>Low</th>\n",
       "      <th>Close</th>\n",
       "      <th>Adj Close</th>\n",
       "      <th>Volume</th>\n",
       "      <th>Dividends</th>\n",
       "      <th>Stock Splits</th>\n",
       "    </tr>\n",
       "  </thead>\n",
       "  <tbody>\n",
       "    <tr>\n",
       "      <th>0</th>\n",
       "      <td>1986-03-13</td>\n",
       "      <td>0.088542</td>\n",
       "      <td>0.101563</td>\n",
       "      <td>0.088542</td>\n",
       "      <td>0.097222</td>\n",
       "      <td>0.059946</td>\n",
       "      <td>1031788800</td>\n",
       "      <td>0.0</td>\n",
       "      <td>0.0</td>\n",
       "    </tr>\n",
       "    <tr>\n",
       "      <th>1</th>\n",
       "      <td>1986-03-14</td>\n",
       "      <td>0.097222</td>\n",
       "      <td>0.102431</td>\n",
       "      <td>0.097222</td>\n",
       "      <td>0.100694</td>\n",
       "      <td>0.062087</td>\n",
       "      <td>308160000</td>\n",
       "      <td>0.0</td>\n",
       "      <td>0.0</td>\n",
       "    </tr>\n",
       "    <tr>\n",
       "      <th>2</th>\n",
       "      <td>1986-03-17</td>\n",
       "      <td>0.100694</td>\n",
       "      <td>0.103299</td>\n",
       "      <td>0.100694</td>\n",
       "      <td>0.102431</td>\n",
       "      <td>0.063158</td>\n",
       "      <td>133171200</td>\n",
       "      <td>0.0</td>\n",
       "      <td>0.0</td>\n",
       "    </tr>\n",
       "    <tr>\n",
       "      <th>3</th>\n",
       "      <td>1986-03-18</td>\n",
       "      <td>0.102431</td>\n",
       "      <td>0.103299</td>\n",
       "      <td>0.098958</td>\n",
       "      <td>0.099826</td>\n",
       "      <td>0.061552</td>\n",
       "      <td>67766400</td>\n",
       "      <td>0.0</td>\n",
       "      <td>0.0</td>\n",
       "    </tr>\n",
       "    <tr>\n",
       "      <th>4</th>\n",
       "      <td>1986-03-19</td>\n",
       "      <td>0.099826</td>\n",
       "      <td>0.100694</td>\n",
       "      <td>0.097222</td>\n",
       "      <td>0.098090</td>\n",
       "      <td>0.060482</td>\n",
       "      <td>47894400</td>\n",
       "      <td>0.0</td>\n",
       "      <td>0.0</td>\n",
       "    </tr>\n",
       "  </tbody>\n",
       "</table>\n",
       "</div>"
      ],
      "text/plain": [
       "         Date      Open      High       Low     Close  Adj Close      Volume  \\\n",
       "0  1986-03-13  0.088542  0.101563  0.088542  0.097222   0.059946  1031788800   \n",
       "1  1986-03-14  0.097222  0.102431  0.097222  0.100694   0.062087   308160000   \n",
       "2  1986-03-17  0.100694  0.103299  0.100694  0.102431   0.063158   133171200   \n",
       "3  1986-03-18  0.102431  0.103299  0.098958  0.099826   0.061552    67766400   \n",
       "4  1986-03-19  0.099826  0.100694  0.097222  0.098090   0.060482    47894400   \n",
       "\n",
       "   Dividends  Stock Splits  \n",
       "0        0.0           0.0  \n",
       "1        0.0           0.0  \n",
       "2        0.0           0.0  \n",
       "3        0.0           0.0  \n",
       "4        0.0           0.0  "
      ]
     },
     "metadata": {},
     "output_type": "display_data"
    },
    {
     "name": "stdout",
     "output_type": "stream",
     "text": [
      "\n",
      "Columns: ['Date', 'Open', 'High', 'Low', 'Close', 'Adj Close', 'Volume', 'Dividends', 'Stock Splits']\n",
      "Shape: (9672, 9)\n",
      "<class 'pandas.core.frame.DataFrame'>\n",
      "RangeIndex: 9672 entries, 0 to 9671\n",
      "Data columns (total 9 columns):\n",
      " #   Column        Non-Null Count  Dtype  \n",
      "---  ------        --------------  -----  \n",
      " 0   Date          9672 non-null   object \n",
      " 1   Open          9672 non-null   float64\n",
      " 2   High          9672 non-null   float64\n",
      " 3   Low           9672 non-null   float64\n",
      " 4   Close         9672 non-null   float64\n",
      " 5   Adj Close     9672 non-null   float64\n",
      " 6   Volume        9672 non-null   int64  \n",
      " 7   Dividends     9672 non-null   float64\n",
      " 8   Stock Splits  9672 non-null   float64\n",
      "dtypes: float64(7), int64(1), object(1)\n",
      "memory usage: 680.2+ KB\n",
      "None\n",
      "\n",
      "NVDA Stock Price Data (head):\n"
     ]
    },
    {
     "data": {
      "text/html": [
       "<div>\n",
       "<style scoped>\n",
       "    .dataframe tbody tr th:only-of-type {\n",
       "        vertical-align: middle;\n",
       "    }\n",
       "\n",
       "    .dataframe tbody tr th {\n",
       "        vertical-align: top;\n",
       "    }\n",
       "\n",
       "    .dataframe thead th {\n",
       "        text-align: right;\n",
       "    }\n",
       "</style>\n",
       "<table border=\"1\" class=\"dataframe\">\n",
       "  <thead>\n",
       "    <tr style=\"text-align: right;\">\n",
       "      <th></th>\n",
       "      <th>Date</th>\n",
       "      <th>Open</th>\n",
       "      <th>High</th>\n",
       "      <th>Low</th>\n",
       "      <th>Close</th>\n",
       "      <th>Adj Close</th>\n",
       "      <th>Volume</th>\n",
       "      <th>Dividends</th>\n",
       "      <th>Stock Splits</th>\n",
       "    </tr>\n",
       "  </thead>\n",
       "  <tbody>\n",
       "    <tr>\n",
       "      <th>0</th>\n",
       "      <td>1999-01-22</td>\n",
       "      <td>0.043750</td>\n",
       "      <td>0.048828</td>\n",
       "      <td>0.038802</td>\n",
       "      <td>0.041016</td>\n",
       "      <td>0.037621</td>\n",
       "      <td>2714688000</td>\n",
       "      <td>0.0</td>\n",
       "      <td>0.0</td>\n",
       "    </tr>\n",
       "    <tr>\n",
       "      <th>1</th>\n",
       "      <td>1999-01-25</td>\n",
       "      <td>0.044271</td>\n",
       "      <td>0.045833</td>\n",
       "      <td>0.041016</td>\n",
       "      <td>0.045313</td>\n",
       "      <td>0.041562</td>\n",
       "      <td>510480000</td>\n",
       "      <td>0.0</td>\n",
       "      <td>0.0</td>\n",
       "    </tr>\n",
       "    <tr>\n",
       "      <th>2</th>\n",
       "      <td>1999-01-26</td>\n",
       "      <td>0.045833</td>\n",
       "      <td>0.046745</td>\n",
       "      <td>0.041146</td>\n",
       "      <td>0.041797</td>\n",
       "      <td>0.038337</td>\n",
       "      <td>343200000</td>\n",
       "      <td>0.0</td>\n",
       "      <td>0.0</td>\n",
       "    </tr>\n",
       "    <tr>\n",
       "      <th>3</th>\n",
       "      <td>1999-01-27</td>\n",
       "      <td>0.041927</td>\n",
       "      <td>0.042969</td>\n",
       "      <td>0.039583</td>\n",
       "      <td>0.041667</td>\n",
       "      <td>0.038218</td>\n",
       "      <td>244368000</td>\n",
       "      <td>0.0</td>\n",
       "      <td>0.0</td>\n",
       "    </tr>\n",
       "    <tr>\n",
       "      <th>4</th>\n",
       "      <td>1999-01-28</td>\n",
       "      <td>0.041667</td>\n",
       "      <td>0.041927</td>\n",
       "      <td>0.041276</td>\n",
       "      <td>0.041536</td>\n",
       "      <td>0.038098</td>\n",
       "      <td>227520000</td>\n",
       "      <td>0.0</td>\n",
       "      <td>0.0</td>\n",
       "    </tr>\n",
       "  </tbody>\n",
       "</table>\n",
       "</div>"
      ],
      "text/plain": [
       "         Date      Open      High       Low     Close  Adj Close      Volume  \\\n",
       "0  1999-01-22  0.043750  0.048828  0.038802  0.041016   0.037621  2714688000   \n",
       "1  1999-01-25  0.044271  0.045833  0.041016  0.045313   0.041562   510480000   \n",
       "2  1999-01-26  0.045833  0.046745  0.041146  0.041797   0.038337   343200000   \n",
       "3  1999-01-27  0.041927  0.042969  0.039583  0.041667   0.038218   244368000   \n",
       "4  1999-01-28  0.041667  0.041927  0.041276  0.041536   0.038098   227520000   \n",
       "\n",
       "   Dividends  Stock Splits  \n",
       "0        0.0           0.0  \n",
       "1        0.0           0.0  \n",
       "2        0.0           0.0  \n",
       "3        0.0           0.0  \n",
       "4        0.0           0.0  "
      ]
     },
     "metadata": {},
     "output_type": "display_data"
    },
    {
     "name": "stdout",
     "output_type": "stream",
     "text": [
      "\n",
      "Columns: ['Date', 'Open', 'High', 'Low', 'Close', 'Adj Close', 'Volume', 'Dividends', 'Stock Splits']\n",
      "Shape: (6421, 9)\n",
      "<class 'pandas.core.frame.DataFrame'>\n",
      "RangeIndex: 6421 entries, 0 to 6420\n",
      "Data columns (total 9 columns):\n",
      " #   Column        Non-Null Count  Dtype  \n",
      "---  ------        --------------  -----  \n",
      " 0   Date          6421 non-null   object \n",
      " 1   Open          6421 non-null   float64\n",
      " 2   High          6421 non-null   float64\n",
      " 3   Low           6421 non-null   float64\n",
      " 4   Close         6421 non-null   float64\n",
      " 5   Adj Close     6421 non-null   float64\n",
      " 6   Volume        6421 non-null   int64  \n",
      " 7   Dividends     6421 non-null   float64\n",
      " 8   Stock Splits  6421 non-null   float64\n",
      "dtypes: float64(7), int64(1), object(1)\n",
      "memory usage: 451.6+ KB\n",
      "None\n",
      "\n",
      "TSLA Stock Price Data (head):\n"
     ]
    },
    {
     "data": {
      "text/html": [
       "<div>\n",
       "<style scoped>\n",
       "    .dataframe tbody tr th:only-of-type {\n",
       "        vertical-align: middle;\n",
       "    }\n",
       "\n",
       "    .dataframe tbody tr th {\n",
       "        vertical-align: top;\n",
       "    }\n",
       "\n",
       "    .dataframe thead th {\n",
       "        text-align: right;\n",
       "    }\n",
       "</style>\n",
       "<table border=\"1\" class=\"dataframe\">\n",
       "  <thead>\n",
       "    <tr style=\"text-align: right;\">\n",
       "      <th></th>\n",
       "      <th>Date</th>\n",
       "      <th>Open</th>\n",
       "      <th>High</th>\n",
       "      <th>Low</th>\n",
       "      <th>Close</th>\n",
       "      <th>Adj Close</th>\n",
       "      <th>Volume</th>\n",
       "      <th>Dividends</th>\n",
       "      <th>Stock Splits</th>\n",
       "    </tr>\n",
       "  </thead>\n",
       "  <tbody>\n",
       "    <tr>\n",
       "      <th>0</th>\n",
       "      <td>2010-06-29</td>\n",
       "      <td>1.266667</td>\n",
       "      <td>1.666667</td>\n",
       "      <td>1.169333</td>\n",
       "      <td>1.592667</td>\n",
       "      <td>1.592667</td>\n",
       "      <td>281494500</td>\n",
       "      <td>0.0</td>\n",
       "      <td>0.0</td>\n",
       "    </tr>\n",
       "    <tr>\n",
       "      <th>1</th>\n",
       "      <td>2010-06-30</td>\n",
       "      <td>1.719333</td>\n",
       "      <td>2.028000</td>\n",
       "      <td>1.553333</td>\n",
       "      <td>1.588667</td>\n",
       "      <td>1.588667</td>\n",
       "      <td>257806500</td>\n",
       "      <td>0.0</td>\n",
       "      <td>0.0</td>\n",
       "    </tr>\n",
       "    <tr>\n",
       "      <th>2</th>\n",
       "      <td>2010-07-01</td>\n",
       "      <td>1.666667</td>\n",
       "      <td>1.728000</td>\n",
       "      <td>1.351333</td>\n",
       "      <td>1.464000</td>\n",
       "      <td>1.464000</td>\n",
       "      <td>123282000</td>\n",
       "      <td>0.0</td>\n",
       "      <td>0.0</td>\n",
       "    </tr>\n",
       "    <tr>\n",
       "      <th>3</th>\n",
       "      <td>2010-07-02</td>\n",
       "      <td>1.533333</td>\n",
       "      <td>1.540000</td>\n",
       "      <td>1.247333</td>\n",
       "      <td>1.280000</td>\n",
       "      <td>1.280000</td>\n",
       "      <td>77097000</td>\n",
       "      <td>0.0</td>\n",
       "      <td>0.0</td>\n",
       "    </tr>\n",
       "    <tr>\n",
       "      <th>4</th>\n",
       "      <td>2010-07-06</td>\n",
       "      <td>1.333333</td>\n",
       "      <td>1.333333</td>\n",
       "      <td>1.055333</td>\n",
       "      <td>1.074000</td>\n",
       "      <td>1.074000</td>\n",
       "      <td>103003500</td>\n",
       "      <td>0.0</td>\n",
       "      <td>0.0</td>\n",
       "    </tr>\n",
       "  </tbody>\n",
       "</table>\n",
       "</div>"
      ],
      "text/plain": [
       "         Date      Open      High       Low     Close  Adj Close     Volume  \\\n",
       "0  2010-06-29  1.266667  1.666667  1.169333  1.592667   1.592667  281494500   \n",
       "1  2010-06-30  1.719333  2.028000  1.553333  1.588667   1.588667  257806500   \n",
       "2  2010-07-01  1.666667  1.728000  1.351333  1.464000   1.464000  123282000   \n",
       "3  2010-07-02  1.533333  1.540000  1.247333  1.280000   1.280000   77097000   \n",
       "4  2010-07-06  1.333333  1.333333  1.055333  1.074000   1.074000  103003500   \n",
       "\n",
       "   Dividends  Stock Splits  \n",
       "0        0.0           0.0  \n",
       "1        0.0           0.0  \n",
       "2        0.0           0.0  \n",
       "3        0.0           0.0  \n",
       "4        0.0           0.0  "
      ]
     },
     "metadata": {},
     "output_type": "display_data"
    },
    {
     "name": "stdout",
     "output_type": "stream",
     "text": [
      "\n",
      "Columns: ['Date', 'Open', 'High', 'Low', 'Close', 'Adj Close', 'Volume', 'Dividends', 'Stock Splits']\n",
      "Shape: (3545, 9)\n",
      "<class 'pandas.core.frame.DataFrame'>\n",
      "RangeIndex: 3545 entries, 0 to 3544\n",
      "Data columns (total 9 columns):\n",
      " #   Column        Non-Null Count  Dtype  \n",
      "---  ------        --------------  -----  \n",
      " 0   Date          3545 non-null   object \n",
      " 1   Open          3545 non-null   float64\n",
      " 2   High          3545 non-null   float64\n",
      " 3   Low           3545 non-null   float64\n",
      " 4   Close         3545 non-null   float64\n",
      " 5   Adj Close     3545 non-null   float64\n",
      " 6   Volume        3545 non-null   int64  \n",
      " 7   Dividends     3545 non-null   float64\n",
      " 8   Stock Splits  3545 non-null   float64\n",
      "dtypes: float64(7), int64(1), object(1)\n",
      "memory usage: 249.4+ KB\n",
      "None\n"
     ]
    }
   ],
   "source": [
    "from src.stock_data_loader import load_stock_data\n",
    "\n",
    "tickers = [\"AAPL\", \"AMZN\", \"GOOG\", \"META\", \"MSFT\", \"NVDA\", \"TSLA\"]\n",
    "stock_data = load_stock_data(tickers, data_dir=\"../data\")\n",
    "\n",
    "# Print the head of each DataFrame\n",
    "for ticker, df in stock_data.items():\n",
    "    print(f\"\\n{ticker} Stock Price Data (head):\")\n",
    "    display(df.head())  # Use display for better notebook output\n",
    "    print(\"\\nColumns:\", df.columns.tolist())\n",
    "    print(\"Shape:\", df.shape)\n",
    "    print(df.info())"
   ]
  },
  {
   "cell_type": "code",
   "execution_count": 11,
   "metadata": {},
   "outputs": [
    {
     "name": "stdout",
     "output_type": "stream",
     "text": [
      "\n",
      "AAPL info:\n",
      "<class 'pandas.core.frame.DataFrame'>\n",
      "RangeIndex: 10998 entries, 0 to 10997\n",
      "Data columns (total 9 columns):\n",
      " #   Column        Non-Null Count  Dtype  \n",
      "---  ------        --------------  -----  \n",
      " 0   Date          10998 non-null  object \n",
      " 1   Open          10998 non-null  float64\n",
      " 2   High          10998 non-null  float64\n",
      " 3   Low           10998 non-null  float64\n",
      " 4   Close         10998 non-null  float64\n",
      " 5   Adj Close     10998 non-null  float64\n",
      " 6   Volume        10998 non-null  int64  \n",
      " 7   Dividends     10998 non-null  float64\n",
      " 8   Stock Splits  10998 non-null  float64\n",
      "dtypes: float64(7), int64(1), object(1)\n",
      "memory usage: 773.4+ KB\n",
      "None\n",
      "Date range: 1980-12-12 to 2024-07-30\n",
      "Missing values:\n",
      " Date            0\n",
      "Open            0\n",
      "High            0\n",
      "Low             0\n",
      "Close           0\n",
      "Adj Close       0\n",
      "Volume          0\n",
      "Dividends       0\n",
      "Stock Splits    0\n",
      "dtype: int64\n",
      "\n",
      "AMZN info:\n",
      "<class 'pandas.core.frame.DataFrame'>\n",
      "RangeIndex: 6846 entries, 0 to 6845\n",
      "Data columns (total 9 columns):\n",
      " #   Column        Non-Null Count  Dtype  \n",
      "---  ------        --------------  -----  \n",
      " 0   Date          6846 non-null   object \n",
      " 1   Open          6846 non-null   float64\n",
      " 2   High          6846 non-null   float64\n",
      " 3   Low           6846 non-null   float64\n",
      " 4   Close         6846 non-null   float64\n",
      " 5   Adj Close     6846 non-null   float64\n",
      " 6   Volume        6846 non-null   int64  \n",
      " 7   Dividends     6846 non-null   float64\n",
      " 8   Stock Splits  6846 non-null   float64\n",
      "dtypes: float64(7), int64(1), object(1)\n",
      "memory usage: 481.5+ KB\n",
      "None\n",
      "Date range: 1997-05-15 to 2024-07-30\n",
      "Missing values:\n",
      " Date            0\n",
      "Open            0\n",
      "High            0\n",
      "Low             0\n",
      "Close           0\n",
      "Adj Close       0\n",
      "Volume          0\n",
      "Dividends       0\n",
      "Stock Splits    0\n",
      "dtype: int64\n",
      "\n",
      "GOOG info:\n",
      "<class 'pandas.core.frame.DataFrame'>\n",
      "RangeIndex: 5020 entries, 0 to 5019\n",
      "Data columns (total 9 columns):\n",
      " #   Column        Non-Null Count  Dtype  \n",
      "---  ------        --------------  -----  \n",
      " 0   Date          5020 non-null   object \n",
      " 1   Open          5020 non-null   float64\n",
      " 2   High          5020 non-null   float64\n",
      " 3   Low           5020 non-null   float64\n",
      " 4   Close         5020 non-null   float64\n",
      " 5   Adj Close     5020 non-null   float64\n",
      " 6   Volume        5020 non-null   int64  \n",
      " 7   Dividends     5020 non-null   float64\n",
      " 8   Stock Splits  5020 non-null   float64\n",
      "dtypes: float64(7), int64(1), object(1)\n",
      "memory usage: 353.1+ KB\n",
      "None\n",
      "Date range: 2004-08-19 to 2024-07-30\n",
      "Missing values:\n",
      " Date            0\n",
      "Open            0\n",
      "High            0\n",
      "Low             0\n",
      "Close           0\n",
      "Adj Close       0\n",
      "Volume          0\n",
      "Dividends       0\n",
      "Stock Splits    0\n",
      "dtype: int64\n",
      "\n",
      "META info:\n",
      "<class 'pandas.core.frame.DataFrame'>\n",
      "RangeIndex: 2926 entries, 0 to 2925\n",
      "Data columns (total 9 columns):\n",
      " #   Column        Non-Null Count  Dtype  \n",
      "---  ------        --------------  -----  \n",
      " 0   Date          2926 non-null   object \n",
      " 1   Open          2926 non-null   float64\n",
      " 2   High          2926 non-null   float64\n",
      " 3   Low           2926 non-null   float64\n",
      " 4   Close         2926 non-null   float64\n",
      " 5   Adj Close     2926 non-null   float64\n",
      " 6   Volume        2926 non-null   int64  \n",
      " 7   Dividends     2926 non-null   float64\n",
      " 8   Stock Splits  2926 non-null   float64\n",
      "dtypes: float64(7), int64(1), object(1)\n",
      "memory usage: 205.9+ KB\n",
      "None\n",
      "Date range: 2012-12-12 to 2024-07-30\n",
      "Missing values:\n",
      " Date            0\n",
      "Open            0\n",
      "High            0\n",
      "Low             0\n",
      "Close           0\n",
      "Adj Close       0\n",
      "Volume          0\n",
      "Dividends       0\n",
      "Stock Splits    0\n",
      "dtype: int64\n",
      "\n",
      "MSFT info:\n",
      "<class 'pandas.core.frame.DataFrame'>\n",
      "RangeIndex: 9672 entries, 0 to 9671\n",
      "Data columns (total 9 columns):\n",
      " #   Column        Non-Null Count  Dtype  \n",
      "---  ------        --------------  -----  \n",
      " 0   Date          9672 non-null   object \n",
      " 1   Open          9672 non-null   float64\n",
      " 2   High          9672 non-null   float64\n",
      " 3   Low           9672 non-null   float64\n",
      " 4   Close         9672 non-null   float64\n",
      " 5   Adj Close     9672 non-null   float64\n",
      " 6   Volume        9672 non-null   int64  \n",
      " 7   Dividends     9672 non-null   float64\n",
      " 8   Stock Splits  9672 non-null   float64\n",
      "dtypes: float64(7), int64(1), object(1)\n",
      "memory usage: 680.2+ KB\n",
      "None\n",
      "Date range: 1986-03-13 to 2024-07-30\n",
      "Missing values:\n",
      " Date            0\n",
      "Open            0\n",
      "High            0\n",
      "Low             0\n",
      "Close           0\n",
      "Adj Close       0\n",
      "Volume          0\n",
      "Dividends       0\n",
      "Stock Splits    0\n",
      "dtype: int64\n",
      "\n",
      "NVDA info:\n",
      "<class 'pandas.core.frame.DataFrame'>\n",
      "RangeIndex: 6421 entries, 0 to 6420\n",
      "Data columns (total 9 columns):\n",
      " #   Column        Non-Null Count  Dtype  \n",
      "---  ------        --------------  -----  \n",
      " 0   Date          6421 non-null   object \n",
      " 1   Open          6421 non-null   float64\n",
      " 2   High          6421 non-null   float64\n",
      " 3   Low           6421 non-null   float64\n",
      " 4   Close         6421 non-null   float64\n",
      " 5   Adj Close     6421 non-null   float64\n",
      " 6   Volume        6421 non-null   int64  \n",
      " 7   Dividends     6421 non-null   float64\n",
      " 8   Stock Splits  6421 non-null   float64\n",
      "dtypes: float64(7), int64(1), object(1)\n",
      "memory usage: 451.6+ KB\n",
      "None\n",
      "Date range: 1999-01-22 to 2024-07-30\n",
      "Missing values:\n",
      " Date            0\n",
      "Open            0\n",
      "High            0\n",
      "Low             0\n",
      "Close           0\n",
      "Adj Close       0\n",
      "Volume          0\n",
      "Dividends       0\n",
      "Stock Splits    0\n",
      "dtype: int64\n",
      "\n",
      "TSLA info:\n",
      "<class 'pandas.core.frame.DataFrame'>\n",
      "RangeIndex: 3545 entries, 0 to 3544\n",
      "Data columns (total 9 columns):\n",
      " #   Column        Non-Null Count  Dtype  \n",
      "---  ------        --------------  -----  \n",
      " 0   Date          3545 non-null   object \n",
      " 1   Open          3545 non-null   float64\n",
      " 2   High          3545 non-null   float64\n",
      " 3   Low           3545 non-null   float64\n",
      " 4   Close         3545 non-null   float64\n",
      " 5   Adj Close     3545 non-null   float64\n",
      " 6   Volume        3545 non-null   int64  \n",
      " 7   Dividends     3545 non-null   float64\n",
      " 8   Stock Splits  3545 non-null   float64\n",
      "dtypes: float64(7), int64(1), object(1)\n",
      "memory usage: 249.4+ KB\n",
      "None\n",
      "Date range: 2010-06-29 to 2024-07-30\n",
      "Missing values:\n",
      " Date            0\n",
      "Open            0\n",
      "High            0\n",
      "Low             0\n",
      "Close           0\n",
      "Adj Close       0\n",
      "Volume          0\n",
      "Dividends       0\n",
      "Stock Splits    0\n",
      "dtype: int64\n"
     ]
    }
   ],
   "source": [
    "for ticker, df in stock_data.items():\n",
    "    print(f\"\\n{ticker} info:\")\n",
    "    print(df.info())\n",
    "    print(\"Date range:\", df['Date'].min(), \"to\", df['Date'].max())\n",
    "    print(\"Missing values:\\n\", df.isnull().sum())"
   ]
  },
  {
   "cell_type": "code",
   "execution_count": 14,
   "metadata": {},
   "outputs": [
    {
     "data": {
      "text/html": [
       "<div>\n",
       "<style scoped>\n",
       "    .dataframe tbody tr th:only-of-type {\n",
       "        vertical-align: middle;\n",
       "    }\n",
       "\n",
       "    .dataframe tbody tr th {\n",
       "        vertical-align: top;\n",
       "    }\n",
       "\n",
       "    .dataframe thead th {\n",
       "        text-align: right;\n",
       "    }\n",
       "</style>\n",
       "<table border=\"1\" class=\"dataframe\">\n",
       "  <thead>\n",
       "    <tr style=\"text-align: right;\">\n",
       "      <th></th>\n",
       "      <th>Date</th>\n",
       "      <th>Open</th>\n",
       "      <th>High</th>\n",
       "      <th>Low</th>\n",
       "      <th>Close</th>\n",
       "      <th>Adj Close</th>\n",
       "      <th>Volume</th>\n",
       "      <th>Dividends</th>\n",
       "      <th>Stock Splits</th>\n",
       "      <th>SMA_20</th>\n",
       "      <th>SMA_50</th>\n",
       "      <th>EMA_20</th>\n",
       "      <th>RSI</th>\n",
       "      <th>MACD</th>\n",
       "      <th>MACD_signal</th>\n",
       "      <th>MACD_diff</th>\n",
       "      <th>BB_high</th>\n",
       "      <th>BB_low</th>\n",
       "      <th>BB_mid</th>\n",
       "      <th>OBV</th>\n",
       "    </tr>\n",
       "  </thead>\n",
       "  <tbody>\n",
       "    <tr>\n",
       "      <th>10993</th>\n",
       "      <td>2024-07-24</td>\n",
       "      <td>224.000000</td>\n",
       "      <td>224.800003</td>\n",
       "      <td>217.130005</td>\n",
       "      <td>218.539993</td>\n",
       "      <td>218.287323</td>\n",
       "      <td>61777600</td>\n",
       "      <td>0.0</td>\n",
       "      <td>0.0</td>\n",
       "      <td>224.228500</td>\n",
       "      <td>208.474199</td>\n",
       "      <td>222.376929</td>\n",
       "      <td>48.687742</td>\n",
       "      <td>4.662717</td>\n",
       "      <td>6.678882</td>\n",
       "      <td>-2.016164</td>\n",
       "      <td>237.809121</td>\n",
       "      <td>210.647878</td>\n",
       "      <td>224.228500</td>\n",
       "      <td>224467786100</td>\n",
       "    </tr>\n",
       "    <tr>\n",
       "      <th>10994</th>\n",
       "      <td>2024-07-25</td>\n",
       "      <td>218.929993</td>\n",
       "      <td>220.850006</td>\n",
       "      <td>214.619995</td>\n",
       "      <td>217.490005</td>\n",
       "      <td>217.238556</td>\n",
       "      <td>51391200</td>\n",
       "      <td>0.0</td>\n",
       "      <td>0.0</td>\n",
       "      <td>224.440500</td>\n",
       "      <td>209.098399</td>\n",
       "      <td>221.911508</td>\n",
       "      <td>47.386437</td>\n",
       "      <td>3.748082</td>\n",
       "      <td>6.092722</td>\n",
       "      <td>-2.344640</td>\n",
       "      <td>237.449323</td>\n",
       "      <td>211.431677</td>\n",
       "      <td>224.440500</td>\n",
       "      <td>224416394900</td>\n",
       "    </tr>\n",
       "    <tr>\n",
       "      <th>10995</th>\n",
       "      <td>2024-07-26</td>\n",
       "      <td>218.699997</td>\n",
       "      <td>219.490005</td>\n",
       "      <td>216.009995</td>\n",
       "      <td>217.960007</td>\n",
       "      <td>217.708008</td>\n",
       "      <td>41601300</td>\n",
       "      <td>0.0</td>\n",
       "      <td>0.0</td>\n",
       "      <td>224.633500</td>\n",
       "      <td>209.709000</td>\n",
       "      <td>221.535174</td>\n",
       "      <td>48.055700</td>\n",
       "      <td>3.026267</td>\n",
       "      <td>5.479431</td>\n",
       "      <td>-2.453164</td>\n",
       "      <td>237.127285</td>\n",
       "      <td>212.139714</td>\n",
       "      <td>224.633500</td>\n",
       "      <td>224457996200</td>\n",
       "    </tr>\n",
       "    <tr>\n",
       "      <th>10996</th>\n",
       "      <td>2024-07-29</td>\n",
       "      <td>216.960007</td>\n",
       "      <td>219.300003</td>\n",
       "      <td>215.750000</td>\n",
       "      <td>218.240005</td>\n",
       "      <td>217.987686</td>\n",
       "      <td>36311800</td>\n",
       "      <td>0.0</td>\n",
       "      <td>0.0</td>\n",
       "      <td>225.014500</td>\n",
       "      <td>210.279400</td>\n",
       "      <td>221.221349</td>\n",
       "      <td>48.476184</td>\n",
       "      <td>2.448591</td>\n",
       "      <td>4.873263</td>\n",
       "      <td>-2.424672</td>\n",
       "      <td>236.168590</td>\n",
       "      <td>213.860411</td>\n",
       "      <td>225.014500</td>\n",
       "      <td>224494308000</td>\n",
       "    </tr>\n",
       "    <tr>\n",
       "      <th>10997</th>\n",
       "      <td>2024-07-30</td>\n",
       "      <td>219.190002</td>\n",
       "      <td>220.330002</td>\n",
       "      <td>216.119995</td>\n",
       "      <td>218.800003</td>\n",
       "      <td>218.547043</td>\n",
       "      <td>41643800</td>\n",
       "      <td>0.0</td>\n",
       "      <td>0.0</td>\n",
       "      <td>225.117001</td>\n",
       "      <td>210.858600</td>\n",
       "      <td>220.990744</td>\n",
       "      <td>49.359115</td>\n",
       "      <td>2.012764</td>\n",
       "      <td>4.301163</td>\n",
       "      <td>-2.288399</td>\n",
       "      <td>235.999799</td>\n",
       "      <td>214.234202</td>\n",
       "      <td>225.117001</td>\n",
       "      <td>224535951800</td>\n",
       "    </tr>\n",
       "  </tbody>\n",
       "</table>\n",
       "</div>"
      ],
      "text/plain": [
       "             Date        Open        High         Low       Close   Adj Close  \\\n",
       "10993  2024-07-24  224.000000  224.800003  217.130005  218.539993  218.287323   \n",
       "10994  2024-07-25  218.929993  220.850006  214.619995  217.490005  217.238556   \n",
       "10995  2024-07-26  218.699997  219.490005  216.009995  217.960007  217.708008   \n",
       "10996  2024-07-29  216.960007  219.300003  215.750000  218.240005  217.987686   \n",
       "10997  2024-07-30  219.190002  220.330002  216.119995  218.800003  218.547043   \n",
       "\n",
       "         Volume  Dividends  Stock Splits      SMA_20      SMA_50      EMA_20  \\\n",
       "10993  61777600        0.0           0.0  224.228500  208.474199  222.376929   \n",
       "10994  51391200        0.0           0.0  224.440500  209.098399  221.911508   \n",
       "10995  41601300        0.0           0.0  224.633500  209.709000  221.535174   \n",
       "10996  36311800        0.0           0.0  225.014500  210.279400  221.221349   \n",
       "10997  41643800        0.0           0.0  225.117001  210.858600  220.990744   \n",
       "\n",
       "             RSI      MACD  MACD_signal  MACD_diff     BB_high      BB_low  \\\n",
       "10993  48.687742  4.662717     6.678882  -2.016164  237.809121  210.647878   \n",
       "10994  47.386437  3.748082     6.092722  -2.344640  237.449323  211.431677   \n",
       "10995  48.055700  3.026267     5.479431  -2.453164  237.127285  212.139714   \n",
       "10996  48.476184  2.448591     4.873263  -2.424672  236.168590  213.860411   \n",
       "10997  49.359115  2.012764     4.301163  -2.288399  235.999799  214.234202   \n",
       "\n",
       "           BB_mid           OBV  \n",
       "10993  224.228500  224467786100  \n",
       "10994  224.440500  224416394900  \n",
       "10995  224.633500  224457996200  \n",
       "10996  225.014500  224494308000  \n",
       "10997  225.117001  224535951800  "
      ]
     },
     "execution_count": 14,
     "metadata": {},
     "output_type": "execute_result"
    }
   ],
   "source": [
    "import ta\n",
    "import pandas as pd\n",
    "aapl = pd.read_csv(\"../data/AAPL_historical_data.csv\")\n",
    "\n",
    "def add_technical_indicators(df):\n",
    "    # Add common technical indicators\n",
    "    df['SMA_20'] = ta.trend.sma_indicator(df['Close'], window=20)\n",
    "    df['SMA_50'] = ta.trend.sma_indicator(df['Close'], window=50)\n",
    "    df['EMA_20'] = ta.trend.ema_indicator(df['Close'], window=20)\n",
    "    df['RSI'] = ta.momentum.RSIIndicator(df['Close']).rsi()\n",
    "    macd = ta.trend.MACD(df['Close'])\n",
    "    df['MACD'] = macd.macd()\n",
    "    df['MACD_signal'] = macd.macd_signal()\n",
    "    df['MACD_diff'] = macd.macd_diff()\n",
    "    boll = ta.volatility.BollingerBands(df['Close'])\n",
    "    df['BB_high'] = boll.bollinger_hband()\n",
    "    df['BB_low'] = boll.bollinger_lband()\n",
    "    df['BB_mid'] = boll.bollinger_mavg()\n",
    "    df['OBV'] = ta.volume.on_balance_volume(df['Close'], df['Volume'])\n",
    "    return df\n",
    "\n",
    "# Example for AAPL:\n",
    "aapl = add_technical_indicators(aapl)\n",
    "aapl.tail()"
   ]
  },
  {
   "cell_type": "code",
   "execution_count": 1,
   "metadata": {},
   "outputs": [
    {
     "name": "stdout",
     "output_type": "stream",
     "text": [
      "Loaded AAPL data: 10998 rows from 1980-12-12 00:00:00 to 2024-07-30 00:00:00\n",
      "Loaded AMZN data: 6846 rows from 1997-05-15 00:00:00 to 2024-07-30 00:00:00\n",
      "Loaded GOOG data: 5020 rows from 2004-08-19 00:00:00 to 2024-07-30 00:00:00\n",
      "Loaded META data: 2926 rows from 2012-12-12 00:00:00 to 2024-07-30 00:00:00\n",
      "Loaded MSFT data: 9672 rows from 1986-03-13 00:00:00 to 2024-07-30 00:00:00\n",
      "Loaded NVDA data: 6421 rows from 1999-01-22 00:00:00 to 2024-07-30 00:00:00\n",
      "Loaded TSLA data: 3545 rows from 2010-06-29 00:00:00 to 2024-07-30 00:00:00\n",
      "\n",
      "Loaded stock data for: ['AAPL', 'AMZN', 'GOOG', 'META', 'MSFT', 'NVDA', 'TSLA']\n",
      "\n",
      "AAPL data shape: (10998, 8)\n",
      "Date range: 1980-12-12 00:00:00 to 2024-07-30 00:00:00\n",
      "\n",
      "AMZN data shape: (6846, 8)\n",
      "Date range: 1997-05-15 00:00:00 to 2024-07-30 00:00:00\n",
      "\n",
      "GOOG data shape: (5020, 8)\n",
      "Date range: 2004-08-19 00:00:00 to 2024-07-30 00:00:00\n",
      "\n",
      "META data shape: (2926, 8)\n",
      "Date range: 2012-12-12 00:00:00 to 2024-07-30 00:00:00\n",
      "\n",
      "MSFT data shape: (9672, 8)\n",
      "Date range: 1986-03-13 00:00:00 to 2024-07-30 00:00:00\n",
      "\n",
      "NVDA data shape: (6421, 8)\n",
      "Date range: 1999-01-22 00:00:00 to 2024-07-30 00:00:00\n",
      "\n",
      "TSLA data shape: (3545, 8)\n",
      "Date range: 2010-06-29 00:00:00 to 2024-07-30 00:00:00\n"
     ]
    }
   ],
   "source": [
    "# Import necessary modules\n",
    "import sys\n",
    "import os\n",
    "import importlib\n",
    "\n",
    "# Force reload the module\n",
    "if 'src.stock_data_loader' in sys.modules:\n",
    "    importlib.reload(sys.modules['src.stock_data_loader'])\n",
    "else:\n",
    "    sys.path.append(os.path.abspath('..'))\n",
    "    from src import stock_data_loader\n",
    "\n",
    "# Load stock data\n",
    "tickers = [\"AAPL\", \"AMZN\", \"GOOG\", \"META\", \"MSFT\", \"NVDA\", \"TSLA\"]\n",
    "stock_data = stock_data_loader.load_stock_data(tickers, data_dir=\"../data\")\n",
    "\n",
    "# Print to verify data was loaded\n",
    "print(\"\\nLoaded stock data for:\", list(stock_data.keys()))\n",
    "for ticker in stock_data:\n",
    "    print(f\"\\n{ticker} data shape:\", stock_data[ticker].shape)\n",
    "    print(f\"Date range: {stock_data[ticker].index.min()} to {stock_data[ticker].index.max()}\")"
   ]
  },
  {
   "cell_type": "code",
   "execution_count": 5,
   "metadata": {},
   "outputs": [
    {
     "name": "stdout",
     "output_type": "stream",
     "text": [
      "\n",
      "Initializing analyzer for AAPL...\n",
      "\n",
      "AAPL Technical Analysis Summary:\n",
      "Current Price: $218.80\n",
      "\n",
      "Trend Analysis:\n",
      "Above 20-day SMA: False\n",
      "Above 50-day SMA: True\n",
      "Above 200-day SMA: True\n",
      "Golden Cross: True\n",
      "Death Cross: False\n",
      "\n",
      "Momentum Indicators:\n",
      "RSI: 49.36 (Neutral)\n",
      "MACD Signal: Bearish\n",
      "Stochastic: Oversold\n",
      "\n",
      "Volatility:\n",
      "Bollinger Band Width: 0.10\n",
      "20-day Volatility: 23.35%\n",
      "\n",
      "Volume Analysis:\n",
      "Money Flow Index: 34.61 (Neutral)\n",
      "\n",
      "Trading Signal Effectiveness (5-day forward returns):\n",
      "\n",
      "RSI_Signal:\n",
      "  Sell: 0.81% average return\n",
      "  Neutral: 0.50% average return\n",
      "  Buy: 1.51% average return\n",
      "\n",
      "MACD_Signal:\n",
      "  Sell: 0.51% average return\n",
      "  Buy: 0.62% average return\n",
      "\n",
      "BB_Signal:\n",
      "  Sell: 0.67% average return\n",
      "  Neutral: 0.55% average return\n",
      "  Buy: 0.72% average return\n",
      "\n",
      "Initializing analyzer for AMZN...\n",
      "\n",
      "AMZN Technical Analysis Summary:\n",
      "Current Price: $181.71\n",
      "\n",
      "Trend Analysis:\n",
      "Above 20-day SMA: False\n",
      "Above 50-day SMA: False\n",
      "Above 200-day SMA: True\n",
      "Golden Cross: True\n",
      "Death Cross: False\n",
      "\n",
      "Momentum Indicators:\n",
      "RSI: 40.41 (Neutral)\n",
      "MACD Signal: Bearish\n",
      "Stochastic: Neutral\n",
      "\n",
      "Volatility:\n",
      "Bollinger Band Width: 0.16\n",
      "20-day Volatility: 22.25%\n",
      "\n",
      "Volume Analysis:\n",
      "Money Flow Index: 32.32 (Neutral)\n",
      "\n",
      "Trading Signal Effectiveness (5-day forward returns):\n",
      "\n",
      "RSI_Signal:\n",
      "  Sell: 1.18% average return\n",
      "  Neutral: 0.67% average return\n",
      "  Buy: 3.83% average return\n",
      "\n",
      "MACD_Signal:\n",
      "  Sell: 1.06% average return\n",
      "  Buy: 0.49% average return\n",
      "\n",
      "BB_Signal:\n",
      "  Sell: 0.40% average return\n",
      "  Neutral: 0.72% average return\n",
      "  Buy: 2.47% average return\n",
      "\n",
      "Initializing analyzer for GOOG...\n",
      "\n",
      "GOOG Technical Analysis Summary:\n",
      "Current Price: $171.86\n",
      "\n",
      "Trend Analysis:\n",
      "Above 20-day SMA: False\n",
      "Above 50-day SMA: False\n",
      "Above 200-day SMA: True\n",
      "Golden Cross: True\n",
      "Death Cross: False\n",
      "\n",
      "Momentum Indicators:\n",
      "RSI: 37.92 (Neutral)\n",
      "MACD Signal: Bearish\n",
      "Stochastic: Neutral\n",
      "\n",
      "Volatility:\n",
      "Bollinger Band Width: 0.17\n",
      "20-day Volatility: 29.34%\n",
      "\n",
      "Volume Analysis:\n",
      "Money Flow Index: 31.05 (Neutral)\n",
      "\n",
      "Trading Signal Effectiveness (5-day forward returns):\n",
      "\n",
      "RSI_Signal:\n",
      "  Sell: -0.03% average return\n",
      "  Neutral: 0.43% average return\n",
      "  Buy: 2.16% average return\n",
      "\n",
      "MACD_Signal:\n",
      "  Sell: 0.46% average return\n",
      "  Buy: 0.37% average return\n",
      "\n",
      "BB_Signal:\n",
      "  Sell: 0.17% average return\n",
      "  Neutral: 0.40% average return\n",
      "  Buy: 1.06% average return\n",
      "\n",
      "Initializing analyzer for META...\n",
      "\n",
      "META Technical Analysis Summary:\n",
      "Current Price: $463.19\n",
      "\n",
      "Trend Analysis:\n",
      "Above 20-day SMA: False\n",
      "Above 50-day SMA: False\n",
      "Above 200-day SMA: True\n",
      "Golden Cross: True\n",
      "Death Cross: False\n",
      "\n",
      "Momentum Indicators:\n",
      "RSI: 39.79 (Neutral)\n",
      "MACD Signal: Bearish\n",
      "Stochastic: Neutral\n",
      "\n",
      "Volatility:\n",
      "Bollinger Band Width: 0.22\n",
      "20-day Volatility: 44.82%\n",
      "\n",
      "Volume Analysis:\n",
      "Money Flow Index: 36.85 (Neutral)\n",
      "\n",
      "Trading Signal Effectiveness (5-day forward returns):\n",
      "\n",
      "RSI_Signal:\n",
      "  Sell: -0.17% average return\n",
      "  Neutral: 0.57% average return\n",
      "  Buy: 1.95% average return\n",
      "\n",
      "MACD_Signal:\n",
      "  Sell: 0.87% average return\n",
      "  Buy: 0.22% average return\n",
      "\n",
      "BB_Signal:\n",
      "  Sell: -0.41% average return\n",
      "  Neutral: 0.57% average return\n",
      "  Buy: 1.45% average return\n",
      "\n",
      "Initializing analyzer for MSFT...\n",
      "\n",
      "MSFT Technical Analysis Summary:\n",
      "Current Price: $422.92\n",
      "\n",
      "Trend Analysis:\n",
      "Above 20-day SMA: False\n",
      "Above 50-day SMA: False\n",
      "Above 200-day SMA: True\n",
      "Golden Cross: True\n",
      "Death Cross: False\n",
      "\n",
      "Momentum Indicators:\n",
      "RSI: 37.08 (Neutral)\n",
      "MACD Signal: Bearish\n",
      "Stochastic: Oversold\n",
      "\n",
      "Volatility:\n",
      "Bollinger Band Width: 0.14\n",
      "20-day Volatility: 22.59%\n",
      "\n",
      "Volume Analysis:\n",
      "Money Flow Index: 28.11 (Neutral)\n",
      "\n",
      "Trading Signal Effectiveness (5-day forward returns):\n",
      "\n",
      "RSI_Signal:\n",
      "  Sell: 0.28% average return\n",
      "  Neutral: 0.51% average return\n",
      "  Buy: 1.79% average return\n",
      "\n",
      "MACD_Signal:\n",
      "  Sell: 0.57% average return\n",
      "  Buy: 0.46% average return\n",
      "\n",
      "BB_Signal:\n",
      "  Sell: 0.62% average return\n",
      "  Neutral: 0.46% average return\n",
      "  Buy: 1.51% average return\n",
      "\n",
      "Initializing analyzer for NVDA...\n",
      "\n",
      "NVDA Technical Analysis Summary:\n",
      "Current Price: $103.73\n",
      "\n",
      "Trend Analysis:\n",
      "Above 20-day SMA: False\n",
      "Above 50-day SMA: False\n",
      "Above 200-day SMA: True\n",
      "Golden Cross: True\n",
      "Death Cross: False\n",
      "\n",
      "Momentum Indicators:\n",
      "RSI: 33.35 (Neutral)\n",
      "MACD Signal: Bearish\n",
      "Stochastic: Oversold\n",
      "\n",
      "Volatility:\n",
      "Bollinger Band Width: 0.25\n",
      "20-day Volatility: 57.25%\n",
      "\n",
      "Volume Analysis:\n",
      "Money Flow Index: 24.89 (Neutral)\n",
      "\n",
      "Trading Signal Effectiveness (5-day forward returns):\n",
      "\n",
      "RSI_Signal:\n",
      "  Sell: 1.15% average return\n",
      "  Neutral: 0.89% average return\n",
      "  Buy: 2.40% average return\n",
      "\n",
      "MACD_Signal:\n",
      "  Sell: 1.10% average return\n",
      "  Buy: 0.84% average return\n",
      "\n",
      "BB_Signal:\n",
      "  Sell: 1.09% average return\n",
      "  Neutral: 0.97% average return\n",
      "  Buy: 0.56% average return\n",
      "\n",
      "Initializing analyzer for TSLA...\n",
      "\n",
      "TSLA Technical Analysis Summary:\n",
      "Current Price: $222.62\n",
      "\n",
      "Trend Analysis:\n",
      "Above 20-day SMA: False\n",
      "Above 50-day SMA: True\n",
      "Above 200-day SMA: True\n",
      "Golden Cross: True\n",
      "Death Cross: False\n",
      "\n",
      "Momentum Indicators:\n",
      "RSI: 48.22 (Neutral)\n",
      "MACD Signal: Bearish\n",
      "Stochastic: Oversold\n",
      "\n",
      "Volatility:\n",
      "Bollinger Band Width: 0.23\n",
      "20-day Volatility: 82.12%\n",
      "\n",
      "Volume Analysis:\n",
      "Money Flow Index: 33.47 (Neutral)\n",
      "\n",
      "Trading Signal Effectiveness (5-day forward returns):\n",
      "\n",
      "RSI_Signal:\n",
      "  Sell: 2.67% average return\n",
      "  Neutral: 0.77% average return\n",
      "  Buy: 3.04% average return\n",
      "\n",
      "MACD_Signal:\n",
      "  Sell: 0.66% average return\n",
      "  Buy: 1.41% average return\n",
      "\n",
      "BB_Signal:\n",
      "  Sell: 3.66% average return\n",
      "  Neutral: 0.79% average return\n",
      "  Buy: 1.34% average return\n"
     ]
    }
   ],
   "source": [
    "# Import the TechnicalAnalyzer\n",
    "from src.ta_analysis import TechnicalAnalyzer\n",
    "\n",
    "# Initialize technical analyzers for each stock\n",
    "analyzers = {}\n",
    "for ticker in stock_data:\n",
    "    print(f\"\\nInitializing analyzer for {ticker}...\")\n",
    "    # Reset the index to make Date a column\n",
    "    df_with_date = stock_data[ticker].reset_index()\n",
    "    analyzers[ticker] = TechnicalAnalyzer(df_with_date, symbol=ticker)\n",
    "    \n",
    "    # Get technical summary\n",
    "    summary = analyzers[ticker].get_technical_summary()\n",
    "    \n",
    "    # Print analysis summary\n",
    "    print(f\"\\n{ticker} Technical Analysis Summary:\")\n",
    "    print(f\"Current Price: ${summary['Price']['Current']:.2f}\")\n",
    "    print(\"\\nTrend Analysis:\")\n",
    "    print(f\"Above 20-day SMA: {summary['Trend']['Above_SMA_20']}\")\n",
    "    print(f\"Above 50-day SMA: {summary['Trend']['Above_SMA_50']}\")\n",
    "    print(f\"Above 200-day SMA: {summary['Trend']['Above_SMA_200']}\")\n",
    "    print(f\"Golden Cross: {summary['Trend']['Golden_Cross']}\")\n",
    "    print(f\"Death Cross: {summary['Trend']['Death_Cross']}\")\n",
    "    \n",
    "    print(\"\\nMomentum Indicators:\")\n",
    "    print(f\"RSI: {summary['Momentum']['RSI']:.2f} ({summary['Momentum']['RSI_Signal']})\")\n",
    "    print(f\"MACD Signal: {summary['Momentum']['MACD_Signal']}\")\n",
    "    print(f\"Stochastic: {summary['Momentum']['Stochastic_Signal']}\")\n",
    "    \n",
    "    print(\"\\nVolatility:\")\n",
    "    print(f\"Bollinger Band Width: {summary['Volatility']['BB_Width']:.2f}\")\n",
    "    print(f\"20-day Volatility: {summary['Volatility']['Volatility_20d']:.2%}\")\n",
    "    \n",
    "    print(\"\\nVolume Analysis:\")\n",
    "    print(f\"Money Flow Index: {summary['Volume']['MFI']:.2f} ({summary['Volume']['MFI_Signal']})\")\n",
    "    \n",
    "    # Get and display trading signals\n",
    "    signals = analyzers[ticker].analyze_trading_signals()\n",
    "    print(\"\\nTrading Signal Effectiveness (5-day forward returns):\")\n",
    "    for signal_name, returns in signals.items():\n",
    "        print(f\"\\n{signal_name}:\")\n",
    "        for signal_value, avg_return in returns.items():\n",
    "            signal_type = \"Buy\" if signal_value == 1 else \"Sell\" if signal_value == -1 else \"Neutral\"\n",
    "            print(f\"  {signal_type}: {avg_return:.2%} average return\")"
   ]
  },
  {
   "cell_type": "code",
   "execution_count": 7,
   "metadata": {},
   "outputs": [
    {
     "name": "stdout",
     "output_type": "stream",
     "text": [
      "\n",
      "Generating technical analysis plot for AAPL...\n"
     ]
    },
    {
     "data": {
      "application/vnd.plotly.v1+json": {
       "config": {
        "plotlyServerURL": "https://plot.ly"
       },
       "data": [
        {
         "close": {
          "bdata": "AAAAQOG6ZEAAAADAzNxkQAAAAOCjIGVAAAAA4Ho8ZUAAAACgmSllQAAAAAAAsGVAAAAAYI9KZUAAAACgmSllQAAAAMD1oGVAAAAAACnsZkAAAABguLZmQAEAAMDMzGZAAQAAIK7XZkAAAACAPRJnQAAAAKCZ4WZAAAAAwPVIZ0AAAACAwm1nQAAAAEAKt2dAAQAAQOG6Z0AAAAAA17tnQAAAAKBH4WdA////PzMLaEABAADAzNxnQAAAAAApXGdA////H1y/Z0ABAAAgrr9nQAAAAKBHyWdAAAAAoEfpZ0AAAAAAAAhoQAAAAMD1QGhA////PzNLaEAAAAAA13toQP///x9cT2hAAAAA4HqcaEAAAAAA1yNoQAEAAMDM5GlAAAAAgD2iakABAAAgrsdqQAEAACCuj2pAAAAAoHAVa0AAAACgR8lqQAAAAIDCNWpAAQAAIK7vaUAAAADgegRqQAAAAIA9ImpAAAAAAACoakD///8/M8NqQAAAAADXU2pAAAAAAAAYa0D////fo4hrQAAAAKCZsWtAAQAAQOFKbEAAAACAPXpsQAAAAIDClWxA////H1wfbUAAAACAPXJsQAAAAKBH0WxAAQAAwMxMbUAAAACAPVptQAAAAAApnGxAAAAAgMIFbED///9/6wlsQAAAAGC4/mtAAQAA4FEgbEAAAACgR1FrQAEAACCuL2tAAAAAYLg+a0ABAAAgrkdrQAAAAKCZWWtA",
          "dtype": "f8"
         },
         "high": {
          "bdata": "AAAA4FHoZEAAAACgmeFkQAAAAKCZKWVAAAAAIIVTZUAAAABA4WplQAAAAMD1AGZAAAAAIK7fZUAAAABguJZlQAAAAKBwrWVAAAAAAABgZ0AAAABgZgZnQAEAAMDMHGdAAAAAgD3iZkD///+/HhVnQAEAAEDhImdA////PzNjZ0AAAACgmYlnQAEAAMDM1GdA////PzPjZ0D///9/69lnQAAAAKBw/WdA////H1wXaEAAAACAPRpoQAAAAAAA4GdAAAAAYI/SZ0AAAAAAACBoQAAAAAAACGhAAAAAgMIFaEAAAACAPRJoQAEAACCuX2hAAAAAgD1qaEABAADAzJxoQAAAAAAAkGhAAAAAgBSeaEAAAACgmaloQP///78e5WlAAAAAYGaGa0AAAAAAABhrQAAAAKBw5WpAAAAAYGZea0AAAAAAKVRrQAEAACCux2pAAAAA4Hp8akAAAABgZpZqQAAAAAApbGpAAQAAIIXbakABAAAgrvdqQAAAAIA9AmtAAQAA4FEwa0AAAAAAKYxrQAAAAKCZsWtAAAAAYGZObED///8/M3tsQAEAAMDMrGxAAAAAYI8ibUAAAADgegxtQAAAAOB6FG1A////H1ynbUD////fo4htQAAAAGC47mxAAAAAgBTObEAAAACgmVlsQAAAAMD1eGxAAAAAgBRebEAAAACgmRlsQP///z8zm2tAAQAAIK5va0AAAACgmWlrQAAAAGCPimtA",
          "dtype": "f8"
         },
         "low": {
          "bdata": "AAAA4KOYZEAAAACgcJ1kQAAAAGC4xmRAAAAAwMwEZUAAAACAwiVlQAAAAEAzo2VAAAAAAABAZUAAAAAghSNlQAAAAOB6XGVA////vx7VZkAAAACgcI1mQAAAAIA9qmZAAAAAYGauZkABAAAghcNmQAAAAAApxGZAAAAAANcTZ0AAAACgR0lnQAAAAADXa2dA////vx61Z0AAAACAwqVnQAEAAOBRoGdAAAAAoHDdZ0D////fo8hnQAAAAAApVGdAAAAAoEeBZ0D///8/M6NnQAEAAOBRsGdAAAAAACnUZ0D///+/Hr1nQP///9+jEGhAAAAAwPUgaEAAAAAA11toQAAAAKBwRWhAAAAA4HpEaEABAADAzARoQAAAAAApNGhAAQAAwMzcaUD///8/M3NqQAAAAKCZaWpAAAAAQAqXakAAAAAAAKBqQP///z8zG2pAAQAAIIXjaUABAABA4dJpQAEAACCFE2pAAAAA4HpUakD///8/M4tqQAAAAKCZSWpAAAAAoHB9akD///8/M+NqQAAAAMD1YGtAAQAAwMy0a0AAAAAAAOhrQAAAAADXS2xAAAAAAACobED////fozhsQAAAAIDClWxAAQAAQOEibUAAAABgjwptQAAAAOB6VGxA////36PIa0AAAADA9ehrQAEAAEDh4mtAAAAAgMLVa0AAAAAAKSRrQAAAAADX02pAAQAA4FEAa0AAAAAAAPhqQAAAAADXA2tA",
          "dtype": "f8"
         },
         "name": "OHLC",
         "open": {
          "bdata": "AAAA4KOwZEAAAABAM6tkQAAAAKBH0WRAAAAAwPUwZUAAAAAAKTxlQAAAAADXq2VAAAAAYI+qZUAAAABgjzJlQAAAAOBRkGVAAQAAwMxUZ0D///8/M8tmQAAAAGBm7mZA////PzPbZkD///9/69FmQAEAAMDMHGdAAAAAgBQuZ0ABAADgUXBnQP///78efWdAAAAAQArPZ0ABAADgUbBnQAAAAGCPqmdAAQAAQOHiZ0D////fowhoQP///x9c32dAAAAAgD2aZ0ABAADgUfBnQAEAACCFs2dAAQAA4FHYZ0AAAACAFO5nQAEAAMDMHGhAAAAA4HpUaEABAADAzGxoQAAAAIAUdmhAAQAAwMxUaEABAADAzJxoQAEAAMDMNGhAAAAAANfraUABAAAgrtdqQP///z8zu2pAAAAAANerakABAABA4TJrQAAAAIDCvWpAAAAA4HpMakAAAABACvdpQAEAAMDMJGpAAAAAAABwakAAAACAFNZqQP///9+j+GpAAQAAQOGCakABAADAzARrQAAAAAAAgGtAAQAAwMy0a0ABAABA4WJsQAAAAIDCfWxAAAAAoJmpbEAAAADgeuxsQAAAAKBwnWxA////H1yPbUAAAAAAAGBtQAAAAGBmrmxAAAAAwPXIbEAAAACAPRpsQAEAAOBRYGxAAAAAANcLbEAAAAAAAABsQAAAAIDCXWtAAAAAYGZWa0AAAABguB5rQAAAAIAUZmtA",
          "dtype": "f8"
         },
         "type": "candlestick",
         "x": [
          "2024-04-22T00:00:00.000000000",
          "2024-04-23T00:00:00.000000000",
          "2024-04-24T00:00:00.000000000",
          "2024-04-25T00:00:00.000000000",
          "2024-04-26T00:00:00.000000000",
          "2024-04-29T00:00:00.000000000",
          "2024-04-30T00:00:00.000000000",
          "2024-05-01T00:00:00.000000000",
          "2024-05-02T00:00:00.000000000",
          "2024-05-03T00:00:00.000000000",
          "2024-05-06T00:00:00.000000000",
          "2024-05-07T00:00:00.000000000",
          "2024-05-08T00:00:00.000000000",
          "2024-05-09T00:00:00.000000000",
          "2024-05-10T00:00:00.000000000",
          "2024-05-13T00:00:00.000000000",
          "2024-05-14T00:00:00.000000000",
          "2024-05-15T00:00:00.000000000",
          "2024-05-16T00:00:00.000000000",
          "2024-05-17T00:00:00.000000000",
          "2024-05-20T00:00:00.000000000",
          "2024-05-21T00:00:00.000000000",
          "2024-05-22T00:00:00.000000000",
          "2024-05-23T00:00:00.000000000",
          "2024-05-24T00:00:00.000000000",
          "2024-05-28T00:00:00.000000000",
          "2024-05-29T00:00:00.000000000",
          "2024-05-30T00:00:00.000000000",
          "2024-05-31T00:00:00.000000000",
          "2024-06-03T00:00:00.000000000",
          "2024-06-04T00:00:00.000000000",
          "2024-06-05T00:00:00.000000000",
          "2024-06-06T00:00:00.000000000",
          "2024-06-07T00:00:00.000000000",
          "2024-06-10T00:00:00.000000000",
          "2024-06-11T00:00:00.000000000",
          "2024-06-12T00:00:00.000000000",
          "2024-06-13T00:00:00.000000000",
          "2024-06-14T00:00:00.000000000",
          "2024-06-17T00:00:00.000000000",
          "2024-06-18T00:00:00.000000000",
          "2024-06-20T00:00:00.000000000",
          "2024-06-21T00:00:00.000000000",
          "2024-06-24T00:00:00.000000000",
          "2024-06-25T00:00:00.000000000",
          "2024-06-26T00:00:00.000000000",
          "2024-06-27T00:00:00.000000000",
          "2024-06-28T00:00:00.000000000",
          "2024-07-01T00:00:00.000000000",
          "2024-07-02T00:00:00.000000000",
          "2024-07-03T00:00:00.000000000",
          "2024-07-05T00:00:00.000000000",
          "2024-07-08T00:00:00.000000000",
          "2024-07-09T00:00:00.000000000",
          "2024-07-10T00:00:00.000000000",
          "2024-07-11T00:00:00.000000000",
          "2024-07-12T00:00:00.000000000",
          "2024-07-15T00:00:00.000000000",
          "2024-07-16T00:00:00.000000000",
          "2024-07-17T00:00:00.000000000",
          "2024-07-18T00:00:00.000000000",
          "2024-07-19T00:00:00.000000000",
          "2024-07-22T00:00:00.000000000",
          "2024-07-23T00:00:00.000000000",
          "2024-07-24T00:00:00.000000000",
          "2024-07-25T00:00:00.000000000",
          "2024-07-26T00:00:00.000000000",
          "2024-07-29T00:00:00.000000000",
          "2024-07-30T00:00:00.000000000"
         ],
         "xaxis": "x",
         "yaxis": "y"
        },
        {
         "line": {
          "color": "blue"
         },
         "name": "SMA 20",
         "type": "scatter",
         "x": [
          "2024-04-22T00:00:00.000000000",
          "2024-04-23T00:00:00.000000000",
          "2024-04-24T00:00:00.000000000",
          "2024-04-25T00:00:00.000000000",
          "2024-04-26T00:00:00.000000000",
          "2024-04-29T00:00:00.000000000",
          "2024-04-30T00:00:00.000000000",
          "2024-05-01T00:00:00.000000000",
          "2024-05-02T00:00:00.000000000",
          "2024-05-03T00:00:00.000000000",
          "2024-05-06T00:00:00.000000000",
          "2024-05-07T00:00:00.000000000",
          "2024-05-08T00:00:00.000000000",
          "2024-05-09T00:00:00.000000000",
          "2024-05-10T00:00:00.000000000",
          "2024-05-13T00:00:00.000000000",
          "2024-05-14T00:00:00.000000000",
          "2024-05-15T00:00:00.000000000",
          "2024-05-16T00:00:00.000000000",
          "2024-05-17T00:00:00.000000000",
          "2024-05-20T00:00:00.000000000",
          "2024-05-21T00:00:00.000000000",
          "2024-05-22T00:00:00.000000000",
          "2024-05-23T00:00:00.000000000",
          "2024-05-24T00:00:00.000000000",
          "2024-05-28T00:00:00.000000000",
          "2024-05-29T00:00:00.000000000",
          "2024-05-30T00:00:00.000000000",
          "2024-05-31T00:00:00.000000000",
          "2024-06-03T00:00:00.000000000",
          "2024-06-04T00:00:00.000000000",
          "2024-06-05T00:00:00.000000000",
          "2024-06-06T00:00:00.000000000",
          "2024-06-07T00:00:00.000000000",
          "2024-06-10T00:00:00.000000000",
          "2024-06-11T00:00:00.000000000",
          "2024-06-12T00:00:00.000000000",
          "2024-06-13T00:00:00.000000000",
          "2024-06-14T00:00:00.000000000",
          "2024-06-17T00:00:00.000000000",
          "2024-06-18T00:00:00.000000000",
          "2024-06-20T00:00:00.000000000",
          "2024-06-21T00:00:00.000000000",
          "2024-06-24T00:00:00.000000000",
          "2024-06-25T00:00:00.000000000",
          "2024-06-26T00:00:00.000000000",
          "2024-06-27T00:00:00.000000000",
          "2024-06-28T00:00:00.000000000",
          "2024-07-01T00:00:00.000000000",
          "2024-07-02T00:00:00.000000000",
          "2024-07-03T00:00:00.000000000",
          "2024-07-05T00:00:00.000000000",
          "2024-07-08T00:00:00.000000000",
          "2024-07-09T00:00:00.000000000",
          "2024-07-10T00:00:00.000000000",
          "2024-07-11T00:00:00.000000000",
          "2024-07-12T00:00:00.000000000",
          "2024-07-15T00:00:00.000000000",
          "2024-07-16T00:00:00.000000000",
          "2024-07-17T00:00:00.000000000",
          "2024-07-18T00:00:00.000000000",
          "2024-07-19T00:00:00.000000000",
          "2024-07-22T00:00:00.000000000",
          "2024-07-23T00:00:00.000000000",
          "2024-07-24T00:00:00.000000000",
          "2024-07-25T00:00:00.000000000",
          "2024-07-26T00:00:00.000000000",
          "2024-07-29T00:00:00.000000000",
          "2024-07-30T00:00:00.000000000"
         ],
         "xaxis": "x",
         "y": {
          "bdata": "MzMzA1Y8ZUBmZmYWBDZlQGZmZnbpNGVAmpmZoXAvZUDNzMy08ytlQM3MzASBMWVAMzMzU+MzZUAAAAD4UzNlQJqZmWEQOmVAzczM3CRQZUCamZkpXGVlQGZmZl66eWVAzczM/KmRZUAzMzN76aBlQJqZmeFPq2VAAAAAWA7BZUBmZmae791lQJqZmSGwAGZAMzMzAyslZkAzMzPD9UxmQGZmZq5HdWZAmpmZAQCeZkDNzMwMAsFmQAAAACgx3GZAZmZmrkf9ZkDNzMz8qRdnQJqZmZmZN2dAMzMzs8haZ0BmZmY2iXlnQDMzM3OTimdAMzMzy8yeZ0AzMzMbWrRnQGZmZs4ix2dAMzMzE9naZ0BmZma+9epnQAAAABhaDGhAZmZmPmA1aEAzMzOjm1xoQM3MzBTZgGhAzczMXLqraEAAAACQ7dBoQM3MzOyn7GhAmpmZMTMHaUCamZlJNylpQGZmZo7CR2lAmpmZ2flsaUBmZmZuEpNpQAAAAAAAsmlAMzMzMzPZaUAzMzMbLwNqQJqZmTm0LmpAzczMvHRfakBmZmbOzJRqQM3MzPypx2pAzczMpHAHa0BmZmauHChrQDMzM2MQRGtAMzMz61Fka0CamZlJDIhrQJqZmYGVm2tAMzMzc2ira0BmZmbm0MJrQDMzMwMr3WtAZmZm9ij4a0BmZmbeTwdsQDMzM5MYDmxAmpmZoUUUbECamZnJdiBsQAAAAHi+I2xA",
          "dtype": "f8"
         },
         "yaxis": "y"
        },
        {
         "line": {
          "color": "orange"
         },
         "name": "SMA 50",
         "type": "scatter",
         "x": [
          "2024-04-22T00:00:00.000000000",
          "2024-04-23T00:00:00.000000000",
          "2024-04-24T00:00:00.000000000",
          "2024-04-25T00:00:00.000000000",
          "2024-04-26T00:00:00.000000000",
          "2024-04-29T00:00:00.000000000",
          "2024-04-30T00:00:00.000000000",
          "2024-05-01T00:00:00.000000000",
          "2024-05-02T00:00:00.000000000",
          "2024-05-03T00:00:00.000000000",
          "2024-05-06T00:00:00.000000000",
          "2024-05-07T00:00:00.000000000",
          "2024-05-08T00:00:00.000000000",
          "2024-05-09T00:00:00.000000000",
          "2024-05-10T00:00:00.000000000",
          "2024-05-13T00:00:00.000000000",
          "2024-05-14T00:00:00.000000000",
          "2024-05-15T00:00:00.000000000",
          "2024-05-16T00:00:00.000000000",
          "2024-05-17T00:00:00.000000000",
          "2024-05-20T00:00:00.000000000",
          "2024-05-21T00:00:00.000000000",
          "2024-05-22T00:00:00.000000000",
          "2024-05-23T00:00:00.000000000",
          "2024-05-24T00:00:00.000000000",
          "2024-05-28T00:00:00.000000000",
          "2024-05-29T00:00:00.000000000",
          "2024-05-30T00:00:00.000000000",
          "2024-05-31T00:00:00.000000000",
          "2024-06-03T00:00:00.000000000",
          "2024-06-04T00:00:00.000000000",
          "2024-06-05T00:00:00.000000000",
          "2024-06-06T00:00:00.000000000",
          "2024-06-07T00:00:00.000000000",
          "2024-06-10T00:00:00.000000000",
          "2024-06-11T00:00:00.000000000",
          "2024-06-12T00:00:00.000000000",
          "2024-06-13T00:00:00.000000000",
          "2024-06-14T00:00:00.000000000",
          "2024-06-17T00:00:00.000000000",
          "2024-06-18T00:00:00.000000000",
          "2024-06-20T00:00:00.000000000",
          "2024-06-21T00:00:00.000000000",
          "2024-06-24T00:00:00.000000000",
          "2024-06-25T00:00:00.000000000",
          "2024-06-26T00:00:00.000000000",
          "2024-06-27T00:00:00.000000000",
          "2024-06-28T00:00:00.000000000",
          "2024-07-01T00:00:00.000000000",
          "2024-07-02T00:00:00.000000000",
          "2024-07-03T00:00:00.000000000",
          "2024-07-05T00:00:00.000000000",
          "2024-07-08T00:00:00.000000000",
          "2024-07-09T00:00:00.000000000",
          "2024-07-10T00:00:00.000000000",
          "2024-07-11T00:00:00.000000000",
          "2024-07-12T00:00:00.000000000",
          "2024-07-15T00:00:00.000000000",
          "2024-07-16T00:00:00.000000000",
          "2024-07-17T00:00:00.000000000",
          "2024-07-18T00:00:00.000000000",
          "2024-07-19T00:00:00.000000000",
          "2024-07-22T00:00:00.000000000",
          "2024-07-23T00:00:00.000000000",
          "2024-07-24T00:00:00.000000000",
          "2024-07-25T00:00:00.000000000",
          "2024-07-26T00:00:00.000000000",
          "2024-07-29T00:00:00.000000000",
          "2024-07-30T00:00:00.000000000"
         ],
         "xaxis": "x",
         "y": {
          "bdata": "Ctej0ADWZUBmZmaG9MdlQLgehRtavGVA7FG47qeyZUCPwvXoJqllQHE9CoeFomVAmpmZudqaZUDD9SgMApNlQI/C9fgPjWVAXI/CxW2MZUAAAAAQ6YtlQI/C9Ti0jGVA7FG4PsaMZUB7FK5Xyo5lQM3MzCxDkGVAuB6Fy3+UZUAK16PwY5xlQEjhejTvqGVAhetR+DG2ZUD2KFxPjcNlQGZmZuaM0GVApHA9KhjdZUB7FK43Z+hlQClcj7J78mVAMzMzs1n9ZUCkcD2adwhmQOF6FG4SE2ZA9ihcb84cZkAfhethfyVmQPYoXP//M2ZAKVyP8h9CZkCPwvU4I1JmQJqZmYn9YWZAKVyP4hRxZkAfheth7n5mQPYoXB+wlmZASOF6xP6yZkBSuB5liM9mQJqZmUl762ZAMzMzg54JZ0AAAADw9CZnQM3MzCyQQGdAMzMzQ/pZZ0DhehReKW9nQB+F63H5g2dAuB6Fy+6dZ0CF61G4jbpnQEjhepTU1WdAFK5HEaX1Z0AUrkeBBBloQIXrUQisPGhA7FG4rrZiaECamZl5WIhoQArXo6D4rWhAUrge9bnWaECamZnJVPloQHsUrpfdH2lAMzMzk4dJaUAAAABAE3FpQIXrUfgxjmlACtejQGCpaUCamZnJMsRpQFyPwkWU3mlAXI/C9XX4aUA9CtejLA9qQGZmZhYmI2pAAAAAILA2akB7FK7X8EhqQGZmZqZ5W2pA",
          "dtype": "f8"
         },
         "yaxis": "y"
        },
        {
         "line": {
          "color": "red"
         },
         "name": "SMA 200",
         "type": "scatter",
         "x": [
          "2024-04-22T00:00:00.000000000",
          "2024-04-23T00:00:00.000000000",
          "2024-04-24T00:00:00.000000000",
          "2024-04-25T00:00:00.000000000",
          "2024-04-26T00:00:00.000000000",
          "2024-04-29T00:00:00.000000000",
          "2024-04-30T00:00:00.000000000",
          "2024-05-01T00:00:00.000000000",
          "2024-05-02T00:00:00.000000000",
          "2024-05-03T00:00:00.000000000",
          "2024-05-06T00:00:00.000000000",
          "2024-05-07T00:00:00.000000000",
          "2024-05-08T00:00:00.000000000",
          "2024-05-09T00:00:00.000000000",
          "2024-05-10T00:00:00.000000000",
          "2024-05-13T00:00:00.000000000",
          "2024-05-14T00:00:00.000000000",
          "2024-05-15T00:00:00.000000000",
          "2024-05-16T00:00:00.000000000",
          "2024-05-17T00:00:00.000000000",
          "2024-05-20T00:00:00.000000000",
          "2024-05-21T00:00:00.000000000",
          "2024-05-22T00:00:00.000000000",
          "2024-05-23T00:00:00.000000000",
          "2024-05-24T00:00:00.000000000",
          "2024-05-28T00:00:00.000000000",
          "2024-05-29T00:00:00.000000000",
          "2024-05-30T00:00:00.000000000",
          "2024-05-31T00:00:00.000000000",
          "2024-06-03T00:00:00.000000000",
          "2024-06-04T00:00:00.000000000",
          "2024-06-05T00:00:00.000000000",
          "2024-06-06T00:00:00.000000000",
          "2024-06-07T00:00:00.000000000",
          "2024-06-10T00:00:00.000000000",
          "2024-06-11T00:00:00.000000000",
          "2024-06-12T00:00:00.000000000",
          "2024-06-13T00:00:00.000000000",
          "2024-06-14T00:00:00.000000000",
          "2024-06-17T00:00:00.000000000",
          "2024-06-18T00:00:00.000000000",
          "2024-06-20T00:00:00.000000000",
          "2024-06-21T00:00:00.000000000",
          "2024-06-24T00:00:00.000000000",
          "2024-06-25T00:00:00.000000000",
          "2024-06-26T00:00:00.000000000",
          "2024-06-27T00:00:00.000000000",
          "2024-06-28T00:00:00.000000000",
          "2024-07-01T00:00:00.000000000",
          "2024-07-02T00:00:00.000000000",
          "2024-07-03T00:00:00.000000000",
          "2024-07-05T00:00:00.000000000",
          "2024-07-08T00:00:00.000000000",
          "2024-07-09T00:00:00.000000000",
          "2024-07-10T00:00:00.000000000",
          "2024-07-11T00:00:00.000000000",
          "2024-07-12T00:00:00.000000000",
          "2024-07-15T00:00:00.000000000",
          "2024-07-16T00:00:00.000000000",
          "2024-07-17T00:00:00.000000000",
          "2024-07-18T00:00:00.000000000",
          "2024-07-19T00:00:00.000000000",
          "2024-07-22T00:00:00.000000000",
          "2024-07-23T00:00:00.000000000",
          "2024-07-24T00:00:00.000000000",
          "2024-07-25T00:00:00.000000000",
          "2024-07-26T00:00:00.000000000",
          "2024-07-29T00:00:00.000000000",
          "2024-07-30T00:00:00.000000000"
         ],
         "xaxis": "x",
         "y": {
          "bdata": "ZmZmNjzCZkBxPQovbr5mQHE9CsdLu2ZAcT0Kt2K4ZkC4HoVDHLVmQKRwPU5ismZAw/UoXCCvZkDsUbgOLatmQLgehS/dp2ZAZmZmIv2lZkBxPQpfKaRmQM3MzJyiomZAZmZmmgihZkBmZmbqlZ9mQEjheuzAnWZAFK5HqaScZkDNzMyYTJtmQHsUru84mmZAzczMmEyZZkCF61GY3ZhmQFK4HkXYmGZAmpmZnYCaZkCuR+EubpxmQOF6FC6QnWZAUrgeGXOfZkAAAABwX6FmQAAAAHBfo2ZAZmZm/kOlZkB7FK4zoqdmQI/C9VxtqmZApHA95q6tZkB7FK6fGrFmQKRwPR4WtGZAhetRZDu3ZkDXo3DpJrlmQMP1KEATvmZAuB6Fu5bDZkB7FK5rCclmQM3MzHSTzWZAmpmZHTjSZkD2KFxHctZmQBSuR32u2WZAcT0KK4fcZkDsUbiWkOBmQFK4Hj2b5WZAzczMtDfrZkDD9SioxvBmQPYoXGdE9mZAuB6F1xL9ZkBmZmbKMgRnQFyPwhGlC2dAH4XrTWITZ0DsUbgaLxtnQMP1KMSxI2dAhetRdCQtZ0CuR+FSljVnQBSuRwFNPmdAAAAAjEpIZ0CkcD32l1JnQArXo2znW2dAMzMzE2FkZ0AzMzMDeGxnQFK4Hum3dGdAzczMNO98Z0BmZmZK6oNnQM3MzLBQimdArkfh5oyQZ0BI4Xoo7ZZnQFK4HpkqnWdA",
          "dtype": "f8"
         },
         "yaxis": "y"
        },
        {
         "line": {
          "color": "gray",
          "dash": "dash"
         },
         "name": "BB High",
         "type": "scatter",
         "x": [
          "2024-04-22T00:00:00.000000000",
          "2024-04-23T00:00:00.000000000",
          "2024-04-24T00:00:00.000000000",
          "2024-04-25T00:00:00.000000000",
          "2024-04-26T00:00:00.000000000",
          "2024-04-29T00:00:00.000000000",
          "2024-04-30T00:00:00.000000000",
          "2024-05-01T00:00:00.000000000",
          "2024-05-02T00:00:00.000000000",
          "2024-05-03T00:00:00.000000000",
          "2024-05-06T00:00:00.000000000",
          "2024-05-07T00:00:00.000000000",
          "2024-05-08T00:00:00.000000000",
          "2024-05-09T00:00:00.000000000",
          "2024-05-10T00:00:00.000000000",
          "2024-05-13T00:00:00.000000000",
          "2024-05-14T00:00:00.000000000",
          "2024-05-15T00:00:00.000000000",
          "2024-05-16T00:00:00.000000000",
          "2024-05-17T00:00:00.000000000",
          "2024-05-20T00:00:00.000000000",
          "2024-05-21T00:00:00.000000000",
          "2024-05-22T00:00:00.000000000",
          "2024-05-23T00:00:00.000000000",
          "2024-05-24T00:00:00.000000000",
          "2024-05-28T00:00:00.000000000",
          "2024-05-29T00:00:00.000000000",
          "2024-05-30T00:00:00.000000000",
          "2024-05-31T00:00:00.000000000",
          "2024-06-03T00:00:00.000000000",
          "2024-06-04T00:00:00.000000000",
          "2024-06-05T00:00:00.000000000",
          "2024-06-06T00:00:00.000000000",
          "2024-06-07T00:00:00.000000000",
          "2024-06-10T00:00:00.000000000",
          "2024-06-11T00:00:00.000000000",
          "2024-06-12T00:00:00.000000000",
          "2024-06-13T00:00:00.000000000",
          "2024-06-14T00:00:00.000000000",
          "2024-06-17T00:00:00.000000000",
          "2024-06-18T00:00:00.000000000",
          "2024-06-20T00:00:00.000000000",
          "2024-06-21T00:00:00.000000000",
          "2024-06-24T00:00:00.000000000",
          "2024-06-25T00:00:00.000000000",
          "2024-06-26T00:00:00.000000000",
          "2024-06-27T00:00:00.000000000",
          "2024-06-28T00:00:00.000000000",
          "2024-07-01T00:00:00.000000000",
          "2024-07-02T00:00:00.000000000",
          "2024-07-03T00:00:00.000000000",
          "2024-07-05T00:00:00.000000000",
          "2024-07-08T00:00:00.000000000",
          "2024-07-09T00:00:00.000000000",
          "2024-07-10T00:00:00.000000000",
          "2024-07-11T00:00:00.000000000",
          "2024-07-12T00:00:00.000000000",
          "2024-07-15T00:00:00.000000000",
          "2024-07-16T00:00:00.000000000",
          "2024-07-17T00:00:00.000000000",
          "2024-07-18T00:00:00.000000000",
          "2024-07-19T00:00:00.000000000",
          "2024-07-22T00:00:00.000000000",
          "2024-07-23T00:00:00.000000000",
          "2024-07-24T00:00:00.000000000",
          "2024-07-25T00:00:00.000000000",
          "2024-07-26T00:00:00.000000000",
          "2024-07-29T00:00:00.000000000",
          "2024-07-30T00:00:00.000000000"
         ],
         "xaxis": "x",
         "y": {
          "bdata": "QVrNuJjuZUDzl8YBXuxlQHyXdv9/62VA5zkELA/eZUA++A0WGNhlQA1Nw1Xp5mVAVD7M9kvpZUAJqhKKyuhlQMqbNe429WVAjlnk3yJaZkCUxJyzoZdmQPODCFiL0GZAgNJtwP8CZ0DBDwtOnzVnQFoCseQ0VWdAR7EKsECPZ0ADOoZYfspnQPIxBznkCmhAupR3kaU/aECh021xImRoQA/FRH2vhmhAzSDIibSoaEAh/M33eb5oQGc1WS4NvWhAsVlcqtC7aEBHuOABOcJoQNmbk9D5r2hAsVa68uaCaEB8EgwLEFtoQK1p83U3cmhA+ooPC3J/aEDV53mm+JJoQAbPUDQEl2hAGBYPRCGtaECC6W0CWJ1oQBjGNSwRG2lAolZWOZG3aUBGKTWPfjhqQCvMh7tskWpAsytbiaX8akAQrVpZl0ZrQEqZOQ/JbWtAo5/agg+Fa0DS4j9ahJBrQLFoBGqooGtARt2SiEC8a0Aib2h4Q9NrQCeic0Qf1WtAsDn8LL3sa0BWmaZQvxNsQJJCuaJzNmxA6k4JRbVxbEDvnSMmZp5sQBBGkz/2yGxAv9nhNLXkbEAgInqIwQptQBR4dqdNRG1ARuB76IaQbUCUr+9Z7dNtQItmp//S8G1AIF42+EH6bUD7d5i9L/ltQFK0ZTKk6W1ArRkDRQvWbUAN0ypS5LltQMxLcNpgrm1ACcvkuBKkbUD5PZUXZYVtQKFCOVr+f21A",
          "dtype": "f8"
         },
         "yaxis": "y"
        },
        {
         "line": {
          "color": "gray",
          "dash": "dash"
         },
         "name": "BB Low",
         "type": "scatter",
         "x": [
          "2024-04-22T00:00:00.000000000",
          "2024-04-23T00:00:00.000000000",
          "2024-04-24T00:00:00.000000000",
          "2024-04-25T00:00:00.000000000",
          "2024-04-26T00:00:00.000000000",
          "2024-04-29T00:00:00.000000000",
          "2024-04-30T00:00:00.000000000",
          "2024-05-01T00:00:00.000000000",
          "2024-05-02T00:00:00.000000000",
          "2024-05-03T00:00:00.000000000",
          "2024-05-06T00:00:00.000000000",
          "2024-05-07T00:00:00.000000000",
          "2024-05-08T00:00:00.000000000",
          "2024-05-09T00:00:00.000000000",
          "2024-05-10T00:00:00.000000000",
          "2024-05-13T00:00:00.000000000",
          "2024-05-14T00:00:00.000000000",
          "2024-05-15T00:00:00.000000000",
          "2024-05-16T00:00:00.000000000",
          "2024-05-17T00:00:00.000000000",
          "2024-05-20T00:00:00.000000000",
          "2024-05-21T00:00:00.000000000",
          "2024-05-22T00:00:00.000000000",
          "2024-05-23T00:00:00.000000000",
          "2024-05-24T00:00:00.000000000",
          "2024-05-28T00:00:00.000000000",
          "2024-05-29T00:00:00.000000000",
          "2024-05-30T00:00:00.000000000",
          "2024-05-31T00:00:00.000000000",
          "2024-06-03T00:00:00.000000000",
          "2024-06-04T00:00:00.000000000",
          "2024-06-05T00:00:00.000000000",
          "2024-06-06T00:00:00.000000000",
          "2024-06-07T00:00:00.000000000",
          "2024-06-10T00:00:00.000000000",
          "2024-06-11T00:00:00.000000000",
          "2024-06-12T00:00:00.000000000",
          "2024-06-13T00:00:00.000000000",
          "2024-06-14T00:00:00.000000000",
          "2024-06-17T00:00:00.000000000",
          "2024-06-18T00:00:00.000000000",
          "2024-06-20T00:00:00.000000000",
          "2024-06-21T00:00:00.000000000",
          "2024-06-24T00:00:00.000000000",
          "2024-06-25T00:00:00.000000000",
          "2024-06-26T00:00:00.000000000",
          "2024-06-27T00:00:00.000000000",
          "2024-06-28T00:00:00.000000000",
          "2024-07-01T00:00:00.000000000",
          "2024-07-02T00:00:00.000000000",
          "2024-07-03T00:00:00.000000000",
          "2024-07-05T00:00:00.000000000",
          "2024-07-08T00:00:00.000000000",
          "2024-07-09T00:00:00.000000000",
          "2024-07-10T00:00:00.000000000",
          "2024-07-11T00:00:00.000000000",
          "2024-07-12T00:00:00.000000000",
          "2024-07-15T00:00:00.000000000",
          "2024-07-16T00:00:00.000000000",
          "2024-07-17T00:00:00.000000000",
          "2024-07-18T00:00:00.000000000",
          "2024-07-19T00:00:00.000000000",
          "2024-07-22T00:00:00.000000000",
          "2024-07-23T00:00:00.000000000",
          "2024-07-24T00:00:00.000000000",
          "2024-07-25T00:00:00.000000000",
          "2024-07-26T00:00:00.000000000",
          "2024-07-29T00:00:00.000000000",
          "2024-07-30T00:00:00.000000000"
         ],
         "xaxis": "x",
         "y": {
          "bdata": "JQyZTROKZEDZNAYrqn9kQFA1Vu1SfmRATfkuF9KAZEBcoYtTz39kQI1M1rMYfGRAEiiar3p+ZED3Ve1l3X1kQGqX/dTpfmRADEC12SZGZECgbpafFjNkQNlIxGTpImRAGscrOVQgZEClVluoMwxkQNowgt5qAWRAuU71/9vyY0DJkkbkYPFjQEIBLAp89mNArNHudLAKZEDFkvgUyTVkQL0HiN/fY2RAZxJreUuTZEB5ncshisNkQJnKpiFV+2RAG3Nwsr4+ZUBT4bj3Gm1lQFuXn2I5v2VAtQ+sc6oyZkBQusBhAphmQLn8cnDvomZAbNtWiye+ZkCRfuyPu9VmQMb9e2hB92ZATlBX4pAIZ0BK4156kzhnQOg5ygOj/WZAKnZ2Qy+zZkAgPTG3uIBmQG/NEW5FcGZA520+MM9aZkDwUqXGQ1tmQFAAYMqGa2ZAkZNY4FaJZkBiUPM46sFmQBtkyLLc7mZA7lWgKrMdZ0CqXWRk4VJnQNldjLvgjmdAtixqOanFZ0AQzb/lnvJnQKLwedD0JmhAsEqQNDRNaEDdLql2M4toQIpTBrpdxmhA27+3FCwqaUCsqlLUd0VpQFLu7x7TQ2lAIIbq7Rw4aUCgg0M5KzxpQKnMiwNYRmlARggw7o5caUDRVDQPcoxpQBSyANSx0GlAH7PJp0YaakC/+aFqu1RqQJoa9kvQbWpAK2hOiniEakA79Z17iLtqQF+9xpV+x2pA",
          "dtype": "f8"
         },
         "yaxis": "y"
        },
        {
         "name": "Volume",
         "type": "bar",
         "x": [
          "2024-04-22T00:00:00.000000000",
          "2024-04-23T00:00:00.000000000",
          "2024-04-24T00:00:00.000000000",
          "2024-04-25T00:00:00.000000000",
          "2024-04-26T00:00:00.000000000",
          "2024-04-29T00:00:00.000000000",
          "2024-04-30T00:00:00.000000000",
          "2024-05-01T00:00:00.000000000",
          "2024-05-02T00:00:00.000000000",
          "2024-05-03T00:00:00.000000000",
          "2024-05-06T00:00:00.000000000",
          "2024-05-07T00:00:00.000000000",
          "2024-05-08T00:00:00.000000000",
          "2024-05-09T00:00:00.000000000",
          "2024-05-10T00:00:00.000000000",
          "2024-05-13T00:00:00.000000000",
          "2024-05-14T00:00:00.000000000",
          "2024-05-15T00:00:00.000000000",
          "2024-05-16T00:00:00.000000000",
          "2024-05-17T00:00:00.000000000",
          "2024-05-20T00:00:00.000000000",
          "2024-05-21T00:00:00.000000000",
          "2024-05-22T00:00:00.000000000",
          "2024-05-23T00:00:00.000000000",
          "2024-05-24T00:00:00.000000000",
          "2024-05-28T00:00:00.000000000",
          "2024-05-29T00:00:00.000000000",
          "2024-05-30T00:00:00.000000000",
          "2024-05-31T00:00:00.000000000",
          "2024-06-03T00:00:00.000000000",
          "2024-06-04T00:00:00.000000000",
          "2024-06-05T00:00:00.000000000",
          "2024-06-06T00:00:00.000000000",
          "2024-06-07T00:00:00.000000000",
          "2024-06-10T00:00:00.000000000",
          "2024-06-11T00:00:00.000000000",
          "2024-06-12T00:00:00.000000000",
          "2024-06-13T00:00:00.000000000",
          "2024-06-14T00:00:00.000000000",
          "2024-06-17T00:00:00.000000000",
          "2024-06-18T00:00:00.000000000",
          "2024-06-20T00:00:00.000000000",
          "2024-06-21T00:00:00.000000000",
          "2024-06-24T00:00:00.000000000",
          "2024-06-25T00:00:00.000000000",
          "2024-06-26T00:00:00.000000000",
          "2024-06-27T00:00:00.000000000",
          "2024-06-28T00:00:00.000000000",
          "2024-07-01T00:00:00.000000000",
          "2024-07-02T00:00:00.000000000",
          "2024-07-03T00:00:00.000000000",
          "2024-07-05T00:00:00.000000000",
          "2024-07-08T00:00:00.000000000",
          "2024-07-09T00:00:00.000000000",
          "2024-07-10T00:00:00.000000000",
          "2024-07-11T00:00:00.000000000",
          "2024-07-12T00:00:00.000000000",
          "2024-07-15T00:00:00.000000000",
          "2024-07-16T00:00:00.000000000",
          "2024-07-17T00:00:00.000000000",
          "2024-07-18T00:00:00.000000000",
          "2024-07-19T00:00:00.000000000",
          "2024-07-22T00:00:00.000000000",
          "2024-07-23T00:00:00.000000000",
          "2024-07-24T00:00:00.000000000",
          "2024-07-25T00:00:00.000000000",
          "2024-07-26T00:00:00.000000000",
          "2024-07-29T00:00:00.000000000",
          "2024-07-30T00:00:00.000000000"
         ],
         "xaxis": "x2",
         "y": {
          "bdata": "sDLeAgjj8wKYQ+ACXHUDAwAurAK4LhAE0BXuA/zIAAP0mp0FJJq6CeTgrgTIl5sETISvAthr6wJMhwYDAFFLBIB2HwMAODIEkFomA1TtdQJU5qQCGJeFArSxEALMSQoDyM8pAiS7HQPgwCkD/CT6AhzTegT0KvwCKFvUAgBeOgNoYnQCHE0qAxQazAU0NUYKHErPCyxE1QXM/C0ELC6WBYTWwwRU4yIFmBewDtjLzwSsYmEDUFXyA5x49wJsgOsE1KyZA/i2dQPINzoC8NGZA0yUhQNEld0CdJ+7A8hn2wPkbCkDhK27A/yzkwJsB2sDqJvvAwz+7QJIgN8C7L5hAsCmrgPgKhADFMl6AvgSKgIYb3sC",
          "dtype": "i4"
         },
         "yaxis": "y2"
        },
        {
         "name": "RSI",
         "type": "scatter",
         "x": [
          "2024-04-22T00:00:00.000000000",
          "2024-04-23T00:00:00.000000000",
          "2024-04-24T00:00:00.000000000",
          "2024-04-25T00:00:00.000000000",
          "2024-04-26T00:00:00.000000000",
          "2024-04-29T00:00:00.000000000",
          "2024-04-30T00:00:00.000000000",
          "2024-05-01T00:00:00.000000000",
          "2024-05-02T00:00:00.000000000",
          "2024-05-03T00:00:00.000000000",
          "2024-05-06T00:00:00.000000000",
          "2024-05-07T00:00:00.000000000",
          "2024-05-08T00:00:00.000000000",
          "2024-05-09T00:00:00.000000000",
          "2024-05-10T00:00:00.000000000",
          "2024-05-13T00:00:00.000000000",
          "2024-05-14T00:00:00.000000000",
          "2024-05-15T00:00:00.000000000",
          "2024-05-16T00:00:00.000000000",
          "2024-05-17T00:00:00.000000000",
          "2024-05-20T00:00:00.000000000",
          "2024-05-21T00:00:00.000000000",
          "2024-05-22T00:00:00.000000000",
          "2024-05-23T00:00:00.000000000",
          "2024-05-24T00:00:00.000000000",
          "2024-05-28T00:00:00.000000000",
          "2024-05-29T00:00:00.000000000",
          "2024-05-30T00:00:00.000000000",
          "2024-05-31T00:00:00.000000000",
          "2024-06-03T00:00:00.000000000",
          "2024-06-04T00:00:00.000000000",
          "2024-06-05T00:00:00.000000000",
          "2024-06-06T00:00:00.000000000",
          "2024-06-07T00:00:00.000000000",
          "2024-06-10T00:00:00.000000000",
          "2024-06-11T00:00:00.000000000",
          "2024-06-12T00:00:00.000000000",
          "2024-06-13T00:00:00.000000000",
          "2024-06-14T00:00:00.000000000",
          "2024-06-17T00:00:00.000000000",
          "2024-06-18T00:00:00.000000000",
          "2024-06-20T00:00:00.000000000",
          "2024-06-21T00:00:00.000000000",
          "2024-06-24T00:00:00.000000000",
          "2024-06-25T00:00:00.000000000",
          "2024-06-26T00:00:00.000000000",
          "2024-06-27T00:00:00.000000000",
          "2024-06-28T00:00:00.000000000",
          "2024-07-01T00:00:00.000000000",
          "2024-07-02T00:00:00.000000000",
          "2024-07-03T00:00:00.000000000",
          "2024-07-05T00:00:00.000000000",
          "2024-07-08T00:00:00.000000000",
          "2024-07-09T00:00:00.000000000",
          "2024-07-10T00:00:00.000000000",
          "2024-07-11T00:00:00.000000000",
          "2024-07-12T00:00:00.000000000",
          "2024-07-15T00:00:00.000000000",
          "2024-07-16T00:00:00.000000000",
          "2024-07-17T00:00:00.000000000",
          "2024-07-18T00:00:00.000000000",
          "2024-07-19T00:00:00.000000000",
          "2024-07-22T00:00:00.000000000",
          "2024-07-23T00:00:00.000000000",
          "2024-07-24T00:00:00.000000000",
          "2024-07-25T00:00:00.000000000",
          "2024-07-26T00:00:00.000000000",
          "2024-07-29T00:00:00.000000000",
          "2024-07-30T00:00:00.000000000"
         ],
         "xaxis": "x3",
         "y": {
          "bdata": "8z8QfaPiQ0AAsroJoxNFQEHMPMYHWUdAt5rmGds9SEDxX3DafKlHQB4qjL/cvUtAR2uK7bajSEDHKnyiMrZHQPd5QMDuE0tARiebBvK1UECoKVNuVONPQHRMdwwMIFBAWd08Yeo3UEBVuHBy87hQQKK5EEzIz09AM022BevRUEDodP1Moh9RQNqbw8VHtFFAjfh3lwS8UUAgyo0WF75RQO6Y/wclEVJANHjK7+trUkA4saqw7VxRQH4zhyMEpE1AjtRpoSPZT0CPQdP849pPQGVE0axbCVBAEH5SYUNoUEC6mSlNd8JQQCiwbWIfYlFAsCgGDUh+UUABWHageQJSQOrlbiX03VBAmh1Qs3u6UUAj303gixZOQAOVNGTVzVJAIpQKqiu2U0CK9I7lGd9TQIikXCze8lJAbwX2RSuYU0BG1I5aHmRSQKr9kh18TVBAthY3dK7QTkDZHhq5YiVPQMEAB8lUok9Aq7KuR+3WUED9gnTFpwhRQDUMpbfs1E5AbQvzAg7hUEANcuPuZpRRQKVfMM560lFA+SZ6SlGoUkDq2BPl2ORSQJalCTR7CFNA1GknanyvU0Bic3C/SCVRQCaXfRDKs1FAtW9htGJcUkDz1FvGK25SQDjwE3Ioy09AovoLXbp1TECufC3b5YZMQIm2qM6PRUxAL0gJh9PhTEBRfKzuB1hIQDnlnsd2sUdAd9TWLiEHSEAZeA6V8zxIQPIqb3n3rUhA",
          "dtype": "f8"
         },
         "yaxis": "y3"
        },
        {
         "name": "MACD",
         "type": "scatter",
         "x": [
          "2024-04-22T00:00:00.000000000",
          "2024-04-23T00:00:00.000000000",
          "2024-04-24T00:00:00.000000000",
          "2024-04-25T00:00:00.000000000",
          "2024-04-26T00:00:00.000000000",
          "2024-04-29T00:00:00.000000000",
          "2024-04-30T00:00:00.000000000",
          "2024-05-01T00:00:00.000000000",
          "2024-05-02T00:00:00.000000000",
          "2024-05-03T00:00:00.000000000",
          "2024-05-06T00:00:00.000000000",
          "2024-05-07T00:00:00.000000000",
          "2024-05-08T00:00:00.000000000",
          "2024-05-09T00:00:00.000000000",
          "2024-05-10T00:00:00.000000000",
          "2024-05-13T00:00:00.000000000",
          "2024-05-14T00:00:00.000000000",
          "2024-05-15T00:00:00.000000000",
          "2024-05-16T00:00:00.000000000",
          "2024-05-17T00:00:00.000000000",
          "2024-05-20T00:00:00.000000000",
          "2024-05-21T00:00:00.000000000",
          "2024-05-22T00:00:00.000000000",
          "2024-05-23T00:00:00.000000000",
          "2024-05-24T00:00:00.000000000",
          "2024-05-28T00:00:00.000000000",
          "2024-05-29T00:00:00.000000000",
          "2024-05-30T00:00:00.000000000",
          "2024-05-31T00:00:00.000000000",
          "2024-06-03T00:00:00.000000000",
          "2024-06-04T00:00:00.000000000",
          "2024-06-05T00:00:00.000000000",
          "2024-06-06T00:00:00.000000000",
          "2024-06-07T00:00:00.000000000",
          "2024-06-10T00:00:00.000000000",
          "2024-06-11T00:00:00.000000000",
          "2024-06-12T00:00:00.000000000",
          "2024-06-13T00:00:00.000000000",
          "2024-06-14T00:00:00.000000000",
          "2024-06-17T00:00:00.000000000",
          "2024-06-18T00:00:00.000000000",
          "2024-06-20T00:00:00.000000000",
          "2024-06-21T00:00:00.000000000",
          "2024-06-24T00:00:00.000000000",
          "2024-06-25T00:00:00.000000000",
          "2024-06-26T00:00:00.000000000",
          "2024-06-27T00:00:00.000000000",
          "2024-06-28T00:00:00.000000000",
          "2024-07-01T00:00:00.000000000",
          "2024-07-02T00:00:00.000000000",
          "2024-07-03T00:00:00.000000000",
          "2024-07-05T00:00:00.000000000",
          "2024-07-08T00:00:00.000000000",
          "2024-07-09T00:00:00.000000000",
          "2024-07-10T00:00:00.000000000",
          "2024-07-11T00:00:00.000000000",
          "2024-07-12T00:00:00.000000000",
          "2024-07-15T00:00:00.000000000",
          "2024-07-16T00:00:00.000000000",
          "2024-07-17T00:00:00.000000000",
          "2024-07-18T00:00:00.000000000",
          "2024-07-19T00:00:00.000000000",
          "2024-07-22T00:00:00.000000000",
          "2024-07-23T00:00:00.000000000",
          "2024-07-24T00:00:00.000000000",
          "2024-07-25T00:00:00.000000000",
          "2024-07-26T00:00:00.000000000",
          "2024-07-29T00:00:00.000000000",
          "2024-07-30T00:00:00.000000000"
         ],
         "xaxis": "x4",
         "y": {
          "bdata": "gBiZxKI9AMBADS22rlQAwIBHYGJ8uf2/AO3i1mv5+b+AkHd2PH73vwDJHGZs1++/AO0V6Ya0678A7814LcfqvwDqMqSSOeC/APet/Q6m4j+Aq7zDc7/0PwCbe5aWV/4/AAs8pD75AkDAxC8riucGQIBVxW3MwAhAQPtT4hD7C0BAtYedrOwOQMCpxwKCKxFAoFvjM7tZEkAgBjtbbhMTQICmVwzYzBNAYFUmOFuPFEBgWR8AU3UUQACjomTd3BJAQDUOcgtjEkDgtYkZx84RQOBn+tAqPxFAYORf8gXuEEAAmDFcessQQOBrt1jREBFAYKvpPH8vEUCgvlA8j5ERQEC5kiyXORFAgFCNQEiHEUAgKl1KDl0QQCDh5ia6vRNA4DKDcSsNGEBgIeyhGIcbQKBztV0SYR1AQC2nxyjUH0AAR98bGVAgQICRYAxMaB9AwB36ZmllHUAgee7/WLEbQMDWKoThVhpAgBW0RApQGkBgE7PCWUMaQKCKGOCE0BhA4JmQ0VNaGUDgSIvM3psaQAASI9S4shtAoEit+qrDHUBAJTm/JYQfQND3upbpZiBAEJOVyNVnIUCAu64fYyEhQLAlNWeFMSFA8B3bMqipIUDA/tIPaOUhQHBEGFBm7SBAYE2tV31zHkDgx0Mqn3obQGAjy3W+uRhAoBwHHSCfFkAABNVmn6YSQADSSE4S/A1AwFVuUMs1CEDA54PBtpYDQMCIRNYjGgBA",
          "dtype": "f8"
         },
         "yaxis": "y4"
        },
        {
         "name": "Signal",
         "type": "scatter",
         "x": [
          "2024-04-22T00:00:00.000000000",
          "2024-04-23T00:00:00.000000000",
          "2024-04-24T00:00:00.000000000",
          "2024-04-25T00:00:00.000000000",
          "2024-04-26T00:00:00.000000000",
          "2024-04-29T00:00:00.000000000",
          "2024-04-30T00:00:00.000000000",
          "2024-05-01T00:00:00.000000000",
          "2024-05-02T00:00:00.000000000",
          "2024-05-03T00:00:00.000000000",
          "2024-05-06T00:00:00.000000000",
          "2024-05-07T00:00:00.000000000",
          "2024-05-08T00:00:00.000000000",
          "2024-05-09T00:00:00.000000000",
          "2024-05-10T00:00:00.000000000",
          "2024-05-13T00:00:00.000000000",
          "2024-05-14T00:00:00.000000000",
          "2024-05-15T00:00:00.000000000",
          "2024-05-16T00:00:00.000000000",
          "2024-05-17T00:00:00.000000000",
          "2024-05-20T00:00:00.000000000",
          "2024-05-21T00:00:00.000000000",
          "2024-05-22T00:00:00.000000000",
          "2024-05-23T00:00:00.000000000",
          "2024-05-24T00:00:00.000000000",
          "2024-05-28T00:00:00.000000000",
          "2024-05-29T00:00:00.000000000",
          "2024-05-30T00:00:00.000000000",
          "2024-05-31T00:00:00.000000000",
          "2024-06-03T00:00:00.000000000",
          "2024-06-04T00:00:00.000000000",
          "2024-06-05T00:00:00.000000000",
          "2024-06-06T00:00:00.000000000",
          "2024-06-07T00:00:00.000000000",
          "2024-06-10T00:00:00.000000000",
          "2024-06-11T00:00:00.000000000",
          "2024-06-12T00:00:00.000000000",
          "2024-06-13T00:00:00.000000000",
          "2024-06-14T00:00:00.000000000",
          "2024-06-17T00:00:00.000000000",
          "2024-06-18T00:00:00.000000000",
          "2024-06-20T00:00:00.000000000",
          "2024-06-21T00:00:00.000000000",
          "2024-06-24T00:00:00.000000000",
          "2024-06-25T00:00:00.000000000",
          "2024-06-26T00:00:00.000000000",
          "2024-06-27T00:00:00.000000000",
          "2024-06-28T00:00:00.000000000",
          "2024-07-01T00:00:00.000000000",
          "2024-07-02T00:00:00.000000000",
          "2024-07-03T00:00:00.000000000",
          "2024-07-05T00:00:00.000000000",
          "2024-07-08T00:00:00.000000000",
          "2024-07-09T00:00:00.000000000",
          "2024-07-10T00:00:00.000000000",
          "2024-07-11T00:00:00.000000000",
          "2024-07-12T00:00:00.000000000",
          "2024-07-15T00:00:00.000000000",
          "2024-07-16T00:00:00.000000000",
          "2024-07-17T00:00:00.000000000",
          "2024-07-18T00:00:00.000000000",
          "2024-07-19T00:00:00.000000000",
          "2024-07-22T00:00:00.000000000",
          "2024-07-23T00:00:00.000000000",
          "2024-07-24T00:00:00.000000000",
          "2024-07-25T00:00:00.000000000",
          "2024-07-26T00:00:00.000000000",
          "2024-07-29T00:00:00.000000000",
          "2024-07-30T00:00:00.000000000"
         ],
         "xaxis": "x4",
         "y": {
          "bdata": "6u2/0weE/L87XXglTFj9v0m/pjG8a/2/1S4ZuUW7/L/FqMWrEK/7v1HObWDLVPm/W9amlxYJ978wEJo4MBv1v/O95nDogfK/Usu0Ttfh6b+3VYoUL9DYv1B3ajlLsbE/Va66orny4D93wu7Xz+HvP8o8e7Vxp/Y/IpXqHshQ/T8akxJfP+kBQMjskbNmMgVAekhppDZMCEAI1msOixELQDpUeRAskw1AVjI9vUfiD0BpjOt+YNgQQFT33KysPxFA6jZN1PJ5EUBPUFkV6ooRQDmIedTDexFAQTRBp2pfEUCbrtcx1EERQEOhN9MGOBFAFnCOG1I2EUBlGYKIkUgRQF45UqmSRRFAMnHE+rZSEUCV/OI9lSERQEsqSjk2pxFAAyzvqs3uEkB8wyGp3KYUQISzpTO0ZRZAqpg/UZhIGECJlvIYt/MZQO77bhYICxtATJxX84GDG0DeLtz1rIwbQNi2uHi3ThtA+vzqB8gbG0BCzt/GfvAaQIiNUTKzgxpAzlyRuDlIGkA4vylW9FgaQMfPjqIbnhpAJhvITTg/G0AsHUUxzhkcQN3gTv2bCh1AhLtHgQUyHkCeerINLAIfQJLXcGclrx9ABCmMM8o0IECQIGcsUIsgQCOOijPuniBAP8aZS35XIEDF/mmBg6QfQLGfsBhcQh5ArriOGVC7HEC+x5zCLLcaQJiBUXDyXhhAp9bl4e/qFUBMqd6UOH4TQFDIhQxkNBFA",
          "dtype": "f8"
         },
         "yaxis": "y4"
        },
        {
         "name": "MACD Diff",
         "type": "bar",
         "x": [
          "2024-04-22T00:00:00.000000000",
          "2024-04-23T00:00:00.000000000",
          "2024-04-24T00:00:00.000000000",
          "2024-04-25T00:00:00.000000000",
          "2024-04-26T00:00:00.000000000",
          "2024-04-29T00:00:00.000000000",
          "2024-04-30T00:00:00.000000000",
          "2024-05-01T00:00:00.000000000",
          "2024-05-02T00:00:00.000000000",
          "2024-05-03T00:00:00.000000000",
          "2024-05-06T00:00:00.000000000",
          "2024-05-07T00:00:00.000000000",
          "2024-05-08T00:00:00.000000000",
          "2024-05-09T00:00:00.000000000",
          "2024-05-10T00:00:00.000000000",
          "2024-05-13T00:00:00.000000000",
          "2024-05-14T00:00:00.000000000",
          "2024-05-15T00:00:00.000000000",
          "2024-05-16T00:00:00.000000000",
          "2024-05-17T00:00:00.000000000",
          "2024-05-20T00:00:00.000000000",
          "2024-05-21T00:00:00.000000000",
          "2024-05-22T00:00:00.000000000",
          "2024-05-23T00:00:00.000000000",
          "2024-05-24T00:00:00.000000000",
          "2024-05-28T00:00:00.000000000",
          "2024-05-29T00:00:00.000000000",
          "2024-05-30T00:00:00.000000000",
          "2024-05-31T00:00:00.000000000",
          "2024-06-03T00:00:00.000000000",
          "2024-06-04T00:00:00.000000000",
          "2024-06-05T00:00:00.000000000",
          "2024-06-06T00:00:00.000000000",
          "2024-06-07T00:00:00.000000000",
          "2024-06-10T00:00:00.000000000",
          "2024-06-11T00:00:00.000000000",
          "2024-06-12T00:00:00.000000000",
          "2024-06-13T00:00:00.000000000",
          "2024-06-14T00:00:00.000000000",
          "2024-06-17T00:00:00.000000000",
          "2024-06-18T00:00:00.000000000",
          "2024-06-20T00:00:00.000000000",
          "2024-06-21T00:00:00.000000000",
          "2024-06-24T00:00:00.000000000",
          "2024-06-25T00:00:00.000000000",
          "2024-06-26T00:00:00.000000000",
          "2024-06-27T00:00:00.000000000",
          "2024-06-28T00:00:00.000000000",
          "2024-07-01T00:00:00.000000000",
          "2024-07-02T00:00:00.000000000",
          "2024-07-03T00:00:00.000000000",
          "2024-07-05T00:00:00.000000000",
          "2024-07-08T00:00:00.000000000",
          "2024-07-09T00:00:00.000000000",
          "2024-07-10T00:00:00.000000000",
          "2024-07-11T00:00:00.000000000",
          "2024-07-12T00:00:00.000000000",
          "2024-07-15T00:00:00.000000000",
          "2024-07-16T00:00:00.000000000",
          "2024-07-17T00:00:00.000000000",
          "2024-07-18T00:00:00.000000000",
          "2024-07-19T00:00:00.000000000",
          "2024-07-22T00:00:00.000000000",
          "2024-07-23T00:00:00.000000000",
          "2024-07-24T00:00:00.000000000",
          "2024-07-25T00:00:00.000000000",
          "2024-07-26T00:00:00.000000000",
          "2024-07-29T00:00:00.000000000",
          "2024-07-30T00:00:00.000000000"
         ],
         "xaxis": "x4",
         "y": {
          "bdata": "sBiSq+25z78o6g03iojKv8ANYi4McJO/qA6yEc8Oxj8UYTjVUMPQP6LTvloq0uI/tr83RqZd4j/AYszwZd7eP+aRmj0+yuQ/KWExJvND9j/uQN+If/P6P4vz5OKBPP0/1r4adyB5/T9EKGhqLN79PzZuDyYn2vo/XmG9pVml+j9MROp82gb6P3DN+qM6Sfo/jN26hn/O+D9wbBRQoyr2P4zxaxAIDfQ/1PAeZt148j+4Z54JlOfsP8C6WnwL09k/wMofuBMjzT9AZBkMQfewP4AskL+BTK6/QPhTOC1ZvL/ApoVpdZa9v4CxGkC9mqO/ANgSk3pLe7/ATqnzbD+yPwA8AH/59oe/AKdv5KJIqj+gTrpw3pDIv6i25WwftOA/dBtQGnd59D+Qdynj74D7P3AAP6h47fs/WFKe2UEu/j/c3S977LH6P0hWxtcPdfE/QBcoOnce3j8AISUJBVaiPwADvJG++s6/QO/cZrh3yb9AXJeFoKTFv4AukCPlMtu/wF0Y4Ly8zb8AamKYnbqwP5AjRBnTSdE/0GspZ5Uj5D+gQKBvvFLrPxh2OIG5Ge4/cKqNP5h28j8Q41eN0QTqP3Ceyzcrn+U/wE7v9N9N5z8A4702fqHlP0CTbSMHnsM/8Pgx/Pnb4b+U25hckafwv0TxlYt2Iva/OHAe8r9w+L98h4+3GiEAwDAxWpLSwQLAjlddcxSgA8DYajloumUDwOAHx0KkTgLA",
          "dtype": "f8"
         },
         "yaxis": "y4"
        }
       ],
       "layout": {
        "height": 1000,
        "shapes": [
         {
          "line": {
           "color": "red",
           "dash": "dash"
          },
          "type": "line",
          "x0": 0,
          "x1": 1,
          "xref": "x3 domain",
          "y0": 70,
          "y1": 70,
          "yref": "y3"
         },
         {
          "line": {
           "color": "green",
           "dash": "dash"
          },
          "type": "line",
          "x0": 0,
          "x1": 1,
          "xref": "x3 domain",
          "y0": 30,
          "y1": 30,
          "yref": "y3"
         }
        ],
        "template": {
         "data": {
          "bar": [
           {
            "error_x": {
             "color": "#2a3f5f"
            },
            "error_y": {
             "color": "#2a3f5f"
            },
            "marker": {
             "line": {
              "color": "#E5ECF6",
              "width": 0.5
             },
             "pattern": {
              "fillmode": "overlay",
              "size": 10,
              "solidity": 0.2
             }
            },
            "type": "bar"
           }
          ],
          "barpolar": [
           {
            "marker": {
             "line": {
              "color": "#E5ECF6",
              "width": 0.5
             },
             "pattern": {
              "fillmode": "overlay",
              "size": 10,
              "solidity": 0.2
             }
            },
            "type": "barpolar"
           }
          ],
          "carpet": [
           {
            "aaxis": {
             "endlinecolor": "#2a3f5f",
             "gridcolor": "white",
             "linecolor": "white",
             "minorgridcolor": "white",
             "startlinecolor": "#2a3f5f"
            },
            "baxis": {
             "endlinecolor": "#2a3f5f",
             "gridcolor": "white",
             "linecolor": "white",
             "minorgridcolor": "white",
             "startlinecolor": "#2a3f5f"
            },
            "type": "carpet"
           }
          ],
          "choropleth": [
           {
            "colorbar": {
             "outlinewidth": 0,
             "ticks": ""
            },
            "type": "choropleth"
           }
          ],
          "contour": [
           {
            "colorbar": {
             "outlinewidth": 0,
             "ticks": ""
            },
            "colorscale": [
             [
              0,
              "#0d0887"
             ],
             [
              0.1111111111111111,
              "#46039f"
             ],
             [
              0.2222222222222222,
              "#7201a8"
             ],
             [
              0.3333333333333333,
              "#9c179e"
             ],
             [
              0.4444444444444444,
              "#bd3786"
             ],
             [
              0.5555555555555556,
              "#d8576b"
             ],
             [
              0.6666666666666666,
              "#ed7953"
             ],
             [
              0.7777777777777778,
              "#fb9f3a"
             ],
             [
              0.8888888888888888,
              "#fdca26"
             ],
             [
              1,
              "#f0f921"
             ]
            ],
            "type": "contour"
           }
          ],
          "contourcarpet": [
           {
            "colorbar": {
             "outlinewidth": 0,
             "ticks": ""
            },
            "type": "contourcarpet"
           }
          ],
          "heatmap": [
           {
            "colorbar": {
             "outlinewidth": 0,
             "ticks": ""
            },
            "colorscale": [
             [
              0,
              "#0d0887"
             ],
             [
              0.1111111111111111,
              "#46039f"
             ],
             [
              0.2222222222222222,
              "#7201a8"
             ],
             [
              0.3333333333333333,
              "#9c179e"
             ],
             [
              0.4444444444444444,
              "#bd3786"
             ],
             [
              0.5555555555555556,
              "#d8576b"
             ],
             [
              0.6666666666666666,
              "#ed7953"
             ],
             [
              0.7777777777777778,
              "#fb9f3a"
             ],
             [
              0.8888888888888888,
              "#fdca26"
             ],
             [
              1,
              "#f0f921"
             ]
            ],
            "type": "heatmap"
           }
          ],
          "histogram": [
           {
            "marker": {
             "pattern": {
              "fillmode": "overlay",
              "size": 10,
              "solidity": 0.2
             }
            },
            "type": "histogram"
           }
          ],
          "histogram2d": [
           {
            "colorbar": {
             "outlinewidth": 0,
             "ticks": ""
            },
            "colorscale": [
             [
              0,
              "#0d0887"
             ],
             [
              0.1111111111111111,
              "#46039f"
             ],
             [
              0.2222222222222222,
              "#7201a8"
             ],
             [
              0.3333333333333333,
              "#9c179e"
             ],
             [
              0.4444444444444444,
              "#bd3786"
             ],
             [
              0.5555555555555556,
              "#d8576b"
             ],
             [
              0.6666666666666666,
              "#ed7953"
             ],
             [
              0.7777777777777778,
              "#fb9f3a"
             ],
             [
              0.8888888888888888,
              "#fdca26"
             ],
             [
              1,
              "#f0f921"
             ]
            ],
            "type": "histogram2d"
           }
          ],
          "histogram2dcontour": [
           {
            "colorbar": {
             "outlinewidth": 0,
             "ticks": ""
            },
            "colorscale": [
             [
              0,
              "#0d0887"
             ],
             [
              0.1111111111111111,
              "#46039f"
             ],
             [
              0.2222222222222222,
              "#7201a8"
             ],
             [
              0.3333333333333333,
              "#9c179e"
             ],
             [
              0.4444444444444444,
              "#bd3786"
             ],
             [
              0.5555555555555556,
              "#d8576b"
             ],
             [
              0.6666666666666666,
              "#ed7953"
             ],
             [
              0.7777777777777778,
              "#fb9f3a"
             ],
             [
              0.8888888888888888,
              "#fdca26"
             ],
             [
              1,
              "#f0f921"
             ]
            ],
            "type": "histogram2dcontour"
           }
          ],
          "mesh3d": [
           {
            "colorbar": {
             "outlinewidth": 0,
             "ticks": ""
            },
            "type": "mesh3d"
           }
          ],
          "parcoords": [
           {
            "line": {
             "colorbar": {
              "outlinewidth": 0,
              "ticks": ""
             }
            },
            "type": "parcoords"
           }
          ],
          "pie": [
           {
            "automargin": true,
            "type": "pie"
           }
          ],
          "scatter": [
           {
            "fillpattern": {
             "fillmode": "overlay",
             "size": 10,
             "solidity": 0.2
            },
            "type": "scatter"
           }
          ],
          "scatter3d": [
           {
            "line": {
             "colorbar": {
              "outlinewidth": 0,
              "ticks": ""
             }
            },
            "marker": {
             "colorbar": {
              "outlinewidth": 0,
              "ticks": ""
             }
            },
            "type": "scatter3d"
           }
          ],
          "scattercarpet": [
           {
            "marker": {
             "colorbar": {
              "outlinewidth": 0,
              "ticks": ""
             }
            },
            "type": "scattercarpet"
           }
          ],
          "scattergeo": [
           {
            "marker": {
             "colorbar": {
              "outlinewidth": 0,
              "ticks": ""
             }
            },
            "type": "scattergeo"
           }
          ],
          "scattergl": [
           {
            "marker": {
             "colorbar": {
              "outlinewidth": 0,
              "ticks": ""
             }
            },
            "type": "scattergl"
           }
          ],
          "scattermap": [
           {
            "marker": {
             "colorbar": {
              "outlinewidth": 0,
              "ticks": ""
             }
            },
            "type": "scattermap"
           }
          ],
          "scattermapbox": [
           {
            "marker": {
             "colorbar": {
              "outlinewidth": 0,
              "ticks": ""
             }
            },
            "type": "scattermapbox"
           }
          ],
          "scatterpolar": [
           {
            "marker": {
             "colorbar": {
              "outlinewidth": 0,
              "ticks": ""
             }
            },
            "type": "scatterpolar"
           }
          ],
          "scatterpolargl": [
           {
            "marker": {
             "colorbar": {
              "outlinewidth": 0,
              "ticks": ""
             }
            },
            "type": "scatterpolargl"
           }
          ],
          "scatterternary": [
           {
            "marker": {
             "colorbar": {
              "outlinewidth": 0,
              "ticks": ""
             }
            },
            "type": "scatterternary"
           }
          ],
          "surface": [
           {
            "colorbar": {
             "outlinewidth": 0,
             "ticks": ""
            },
            "colorscale": [
             [
              0,
              "#0d0887"
             ],
             [
              0.1111111111111111,
              "#46039f"
             ],
             [
              0.2222222222222222,
              "#7201a8"
             ],
             [
              0.3333333333333333,
              "#9c179e"
             ],
             [
              0.4444444444444444,
              "#bd3786"
             ],
             [
              0.5555555555555556,
              "#d8576b"
             ],
             [
              0.6666666666666666,
              "#ed7953"
             ],
             [
              0.7777777777777778,
              "#fb9f3a"
             ],
             [
              0.8888888888888888,
              "#fdca26"
             ],
             [
              1,
              "#f0f921"
             ]
            ],
            "type": "surface"
           }
          ],
          "table": [
           {
            "cells": {
             "fill": {
              "color": "#EBF0F8"
             },
             "line": {
              "color": "white"
             }
            },
            "header": {
             "fill": {
              "color": "#C8D4E3"
             },
             "line": {
              "color": "white"
             }
            },
            "type": "table"
           }
          ]
         },
         "layout": {
          "annotationdefaults": {
           "arrowcolor": "#2a3f5f",
           "arrowhead": 0,
           "arrowwidth": 1
          },
          "autotypenumbers": "strict",
          "coloraxis": {
           "colorbar": {
            "outlinewidth": 0,
            "ticks": ""
           }
          },
          "colorscale": {
           "diverging": [
            [
             0,
             "#8e0152"
            ],
            [
             0.1,
             "#c51b7d"
            ],
            [
             0.2,
             "#de77ae"
            ],
            [
             0.3,
             "#f1b6da"
            ],
            [
             0.4,
             "#fde0ef"
            ],
            [
             0.5,
             "#f7f7f7"
            ],
            [
             0.6,
             "#e6f5d0"
            ],
            [
             0.7,
             "#b8e186"
            ],
            [
             0.8,
             "#7fbc41"
            ],
            [
             0.9,
             "#4d9221"
            ],
            [
             1,
             "#276419"
            ]
           ],
           "sequential": [
            [
             0,
             "#0d0887"
            ],
            [
             0.1111111111111111,
             "#46039f"
            ],
            [
             0.2222222222222222,
             "#7201a8"
            ],
            [
             0.3333333333333333,
             "#9c179e"
            ],
            [
             0.4444444444444444,
             "#bd3786"
            ],
            [
             0.5555555555555556,
             "#d8576b"
            ],
            [
             0.6666666666666666,
             "#ed7953"
            ],
            [
             0.7777777777777778,
             "#fb9f3a"
            ],
            [
             0.8888888888888888,
             "#fdca26"
            ],
            [
             1,
             "#f0f921"
            ]
           ],
           "sequentialminus": [
            [
             0,
             "#0d0887"
            ],
            [
             0.1111111111111111,
             "#46039f"
            ],
            [
             0.2222222222222222,
             "#7201a8"
            ],
            [
             0.3333333333333333,
             "#9c179e"
            ],
            [
             0.4444444444444444,
             "#bd3786"
            ],
            [
             0.5555555555555556,
             "#d8576b"
            ],
            [
             0.6666666666666666,
             "#ed7953"
            ],
            [
             0.7777777777777778,
             "#fb9f3a"
            ],
            [
             0.8888888888888888,
             "#fdca26"
            ],
            [
             1,
             "#f0f921"
            ]
           ]
          },
          "colorway": [
           "#636efa",
           "#EF553B",
           "#00cc96",
           "#ab63fa",
           "#FFA15A",
           "#19d3f3",
           "#FF6692",
           "#B6E880",
           "#FF97FF",
           "#FECB52"
          ],
          "font": {
           "color": "#2a3f5f"
          },
          "geo": {
           "bgcolor": "white",
           "lakecolor": "white",
           "landcolor": "#E5ECF6",
           "showlakes": true,
           "showland": true,
           "subunitcolor": "white"
          },
          "hoverlabel": {
           "align": "left"
          },
          "hovermode": "closest",
          "mapbox": {
           "style": "light"
          },
          "paper_bgcolor": "white",
          "plot_bgcolor": "#E5ECF6",
          "polar": {
           "angularaxis": {
            "gridcolor": "white",
            "linecolor": "white",
            "ticks": ""
           },
           "bgcolor": "#E5ECF6",
           "radialaxis": {
            "gridcolor": "white",
            "linecolor": "white",
            "ticks": ""
           }
          },
          "scene": {
           "xaxis": {
            "backgroundcolor": "#E5ECF6",
            "gridcolor": "white",
            "gridwidth": 2,
            "linecolor": "white",
            "showbackground": true,
            "ticks": "",
            "zerolinecolor": "white"
           },
           "yaxis": {
            "backgroundcolor": "#E5ECF6",
            "gridcolor": "white",
            "gridwidth": 2,
            "linecolor": "white",
            "showbackground": true,
            "ticks": "",
            "zerolinecolor": "white"
           },
           "zaxis": {
            "backgroundcolor": "#E5ECF6",
            "gridcolor": "white",
            "gridwidth": 2,
            "linecolor": "white",
            "showbackground": true,
            "ticks": "",
            "zerolinecolor": "white"
           }
          },
          "shapedefaults": {
           "line": {
            "color": "#2a3f5f"
           }
          },
          "ternary": {
           "aaxis": {
            "gridcolor": "white",
            "linecolor": "white",
            "ticks": ""
           },
           "baxis": {
            "gridcolor": "white",
            "linecolor": "white",
            "ticks": ""
           },
           "bgcolor": "#E5ECF6",
           "caxis": {
            "gridcolor": "white",
            "linecolor": "white",
            "ticks": ""
           }
          },
          "title": {
           "x": 0.05
          },
          "xaxis": {
           "automargin": true,
           "gridcolor": "white",
           "linecolor": "white",
           "ticks": "",
           "title": {
            "standoff": 15
           },
           "zerolinecolor": "white",
           "zerolinewidth": 2
          },
          "yaxis": {
           "automargin": true,
           "gridcolor": "white",
           "linecolor": "white",
           "ticks": "",
           "title": {
            "standoff": 15
           },
           "zerolinecolor": "white",
           "zerolinewidth": 2
          }
         }
        },
        "title": {
         "text": "Technical Analysis"
        },
        "xaxis": {
         "anchor": "y",
         "domain": [
          0,
          1
         ],
         "matches": "x4",
         "rangeslider": {
          "visible": false
         },
         "showticklabels": false
        },
        "xaxis2": {
         "anchor": "y2",
         "domain": [
          0,
          1
         ],
         "matches": "x4",
         "showticklabels": false
        },
        "xaxis3": {
         "anchor": "y3",
         "domain": [
          0,
          1
         ],
         "matches": "x4",
         "showticklabels": false
        },
        "xaxis4": {
         "anchor": "y4",
         "domain": [
          0,
          1
         ]
        },
        "yaxis": {
         "anchor": "x",
         "domain": [
          0.66,
          1
         ],
         "title": {
          "text": "Price"
         }
        },
        "yaxis2": {
         "anchor": "x2",
         "domain": [
          0.44000000000000006,
          0.6100000000000001
         ],
         "title": {
          "text": "Volume"
         }
        },
        "yaxis3": {
         "anchor": "x3",
         "domain": [
          0.22000000000000003,
          0.39
         ],
         "title": {
          "text": "RSI"
         }
        },
        "yaxis4": {
         "anchor": "x4",
         "domain": [
          0,
          0.17
         ],
         "title": {
          "text": "MACD"
         }
        }
       }
      }
     },
     "metadata": {},
     "output_type": "display_data"
    },
    {
     "name": "stdout",
     "output_type": "stream",
     "text": [
      "\n",
      "Generating technical analysis plot for AMZN...\n"
     ]
    },
    {
     "data": {
      "application/vnd.plotly.v1+json": {
       "config": {
        "plotlyServerURL": "https://plot.ly"
       },
       "data": [
        {
         "close": {
          "bdata": "AAAAIFwnZkAAAACgR3FmQAAAAEDhEmZAAAAAoHC1ZUAAAAAA13NmQAAAAGC4nmZAAAAAAADgZUAAAAAAAGBmQAAAAEAKF2dAAAAAYLhGZ0AAAABgZpZnQAEAAOBRmGdAAAAAAACAZ0AAAAAAALBnQP///x9cb2dAAAAAgD1SZ0AAAACAPWJnQAEAACCuP2dAAAAAACn0ZkAAAABgZhZnQAAAAKBH8WZAAQAAwMzkZkAAAAAAKeRmQAAAAKCZoWZAAAAAAACYZkABAADAzMRmQP///9+jwGZAAAAAgD1qZkAAAACAFA5mQAAAAEDhSmZAAAAAQOFqZkAAAADA9ahmQAAAAAAAIGdAAAAAoJkJZ0D///9/62FnQP///x9cZ2dAAAAA4HpcZ0AAAABgj/pmQP///78e9WZA////f+sBZ0D///9/69lmQP///z8zQ2dAAAAAYI+iZ0AAAACAPTJnQAEAAEDhSmdAAQAAIIUzaED///8/M7toQAAAAAAAKGhAAAAAYGamaEAAAAAAAABpQAEAAEDhsmhAAAAAAAAAaUAAAACgR+loQAEAAEDh6mhAAAAAoEf5aEAAAACgmWFoQAEAACCuT2hAAAAAQAoXaED////foyBoQAAAAIDCfWdAAAAAAAD4ZkAAAAAAKeRmQAAAAKCZ0WZA////vx5NZ0AAAABgj5pmQAAAAEAze2ZAAAAAAADQZkAAAABgZuZmQAAAAGC4tmZA",
          "dtype": "f8"
         },
         "high": {
          "bdata": "AAAAANdbZkAAAACAwn1mQAAAAIA9imZAAAAAoHC9ZUAAAACAPZpmQAAAAMD18GZAAQAAIK7fZkABAADAzCRnQP///z8zI2dAAAAAANd7Z0AAAAAAAJhnQAAAAIAUvmdAAAAAgMKNZ0AAAABgZvZnQAAAAOB6vGdA////f+uJZ0AAAABACndnQAAAAEAKV2dA////f+tpZ0AAAACgmSlnQAAAAKBwVWdAAQAA4FHoZkAAAABACidnQAEAAOBRGGdAAAAAgBTOZkABAAAgrsdmQAAAAGCPAmdAAQAAQOGqZkAAAABguGZmQAAAAGBmVmZAAAAAgD16ZkAAAAAAALBmQAAAAAAAIGdAAAAAoEdJZ0D///8fXGdnQP///9+jeGdA////PzOLZ0AAAACgcHVnQAAAAEAK92ZAAAAAAAAgZ0AAAACgRwlnQAEAAOBRUGdAAAAAwPWoZ0AAAAAAAOBnQAEAAEDhmmdAAAAAoJlZaEABAABA4fpoQP///z8z22hAAAAAoJnJaEAAAACAwg1pQAAAAMD1AGlAAAAAoJkRaUAAAABgZiZpQAAAAIA9EmlAAQAAIIUDaUD////fowhpQAAAAEAKj2hAAAAAgBSGaEAAAAAA15NoQAAAAGCP8mdAAAAAgMK1Z0AAAACAwh1nQP///3/rIWdAAAAA4HqsZ0AAAABgZi5nQAEAAMDM/GZAAAAAgBTmZkAAAAAAABhnQAEAACCFO2dA",
          "dtype": "f8"
         },
         "low": {
          "bdata": "AAAAgOvRZUAAAAAgXP9lQAAAAIDCBWZAAAAAgD3KZEAAAAAAKQRmQAAAAOB6bGZAAAAAoJnZZUAAAACA6xFmQAAAAMAefWZAAAAAoHAtZ0AAAACgmRlnQP///3/raWdAAAAA4HpMZ0AAAACAFG5nQAAAAIDCXWdAAQAAIIUrZ0AAAABgZu5mQP///x9c12ZAAAAAYLjuZkD///8/M+tmQAAAAMD16GZAAAAAAACYZkAAAABACr9mQAAAAGCPgmZAAAAAoJmJZkAAAAAgrm9mQAAAAKCZsWZAAAAAIIVLZkAAAAAA17tlQAAAAKBw/WVAAAAAgBQOZkAAAAAAAFhmQAEAACCur2ZAAQAAIIXrZkAAAACgR/lmQAAAAKBHEWdAAAAAgMItZ0AAAACgcNVmQP///x9cx2ZAAAAAQAqnZkAAAACAwq1mQAAAAEAK12ZAAQAAIIU7Z0AAAABgjypnQAAAAKBwLWdAAQAA4FFIZ0AAAABgZkZoQAAAAAAAEGhAAAAAgD0aaEAAAACAwn1oQAEAAOBRmGhAAAAAoHDFaEAAAABguL5oQAAAAKCZ4WhAAAAAgBS2aEABAAAghRtoQAAAAGCPOmhAAAAAYI/aZ0ABAAAgrgdoQAEAACCuP2dAAAAAYGauZkAAAAAghYNmQP///x9cz2ZA////f+vxZkD///+/Ho1mQAAAAKCZGWZAAQAAIK6HZkAAAAAAKcxmQAAAAAApbGZA",
          "dtype": "f8"
         },
         "name": "OHLC",
         "open": {
          "bdata": "AAAAgBQeZkAAAABgj0JmQAAAAIAUfmZAAAAAgMI1ZUAAAACgmTlmQAAAAAAA2GZAAQAAQOGiZkAAAADgerRmQP///z8zm2ZAAQAAIK5fZ0AAAADA9UhnQAAAAKBwnWdAAAAAgBRuZ0AAAAAAKZxnQP///78epWdAAAAAAACAZ0AAAACAPfpmQAAAAEAKP2dA////PzMzZ0ABAADgUfhmQAEAAEDhCmdAAAAAoJnJZkAAAAAAKfxmQP///78e9WZAAQAAwMy0ZkAAAACAwn1mQAAAAGBmtmZA////f+upZkAAAACgmUlmQAAAAGBmNmZAAAAA4Ho0ZkAAAABAM4NmQAAAAAAAuGZAAQAAwMwcZ0AAAACAPQJnQP///3/rYWdA////36OAZ0ABAABA4UJnQAAAAGCP4mZA////36PQZkABAAAgrvdmQP///78e3WZAAAAAoJl5Z0AAAABgj6pnQP///3/rWWdAAAAAoHBdZ0ABAADgUWBoQP///x9ct2hAAQAAIK4vaEAAAADA9ahoQAAAAIAU/mhAAQAAwMzUaEAAAACgRwFpQAEAAMDM7GhAAAAAAAAAaUABAABA4QJpQAAAAKCZWWhA////f+tRaEABAABA4XJoQP///z8z62dAAQAAQOGyZ0AAAADgeqRmQAAAAAAAIGdA////PzMDZ0AAAABgZuZmQP///78e3WZAAAAA4HqMZkABAABA4fpmQAAAAEAKF2dA",
          "dtype": "f8"
         },
         "type": "candlestick",
         "x": [
          "2024-04-22T00:00:00.000000000",
          "2024-04-23T00:00:00.000000000",
          "2024-04-24T00:00:00.000000000",
          "2024-04-25T00:00:00.000000000",
          "2024-04-26T00:00:00.000000000",
          "2024-04-29T00:00:00.000000000",
          "2024-04-30T00:00:00.000000000",
          "2024-05-01T00:00:00.000000000",
          "2024-05-02T00:00:00.000000000",
          "2024-05-03T00:00:00.000000000",
          "2024-05-06T00:00:00.000000000",
          "2024-05-07T00:00:00.000000000",
          "2024-05-08T00:00:00.000000000",
          "2024-05-09T00:00:00.000000000",
          "2024-05-10T00:00:00.000000000",
          "2024-05-13T00:00:00.000000000",
          "2024-05-14T00:00:00.000000000",
          "2024-05-15T00:00:00.000000000",
          "2024-05-16T00:00:00.000000000",
          "2024-05-17T00:00:00.000000000",
          "2024-05-20T00:00:00.000000000",
          "2024-05-21T00:00:00.000000000",
          "2024-05-22T00:00:00.000000000",
          "2024-05-23T00:00:00.000000000",
          "2024-05-24T00:00:00.000000000",
          "2024-05-28T00:00:00.000000000",
          "2024-05-29T00:00:00.000000000",
          "2024-05-30T00:00:00.000000000",
          "2024-05-31T00:00:00.000000000",
          "2024-06-03T00:00:00.000000000",
          "2024-06-04T00:00:00.000000000",
          "2024-06-05T00:00:00.000000000",
          "2024-06-06T00:00:00.000000000",
          "2024-06-07T00:00:00.000000000",
          "2024-06-10T00:00:00.000000000",
          "2024-06-11T00:00:00.000000000",
          "2024-06-12T00:00:00.000000000",
          "2024-06-13T00:00:00.000000000",
          "2024-06-14T00:00:00.000000000",
          "2024-06-17T00:00:00.000000000",
          "2024-06-18T00:00:00.000000000",
          "2024-06-20T00:00:00.000000000",
          "2024-06-21T00:00:00.000000000",
          "2024-06-24T00:00:00.000000000",
          "2024-06-25T00:00:00.000000000",
          "2024-06-26T00:00:00.000000000",
          "2024-06-27T00:00:00.000000000",
          "2024-06-28T00:00:00.000000000",
          "2024-07-01T00:00:00.000000000",
          "2024-07-02T00:00:00.000000000",
          "2024-07-03T00:00:00.000000000",
          "2024-07-05T00:00:00.000000000",
          "2024-07-08T00:00:00.000000000",
          "2024-07-09T00:00:00.000000000",
          "2024-07-10T00:00:00.000000000",
          "2024-07-11T00:00:00.000000000",
          "2024-07-12T00:00:00.000000000",
          "2024-07-15T00:00:00.000000000",
          "2024-07-16T00:00:00.000000000",
          "2024-07-17T00:00:00.000000000",
          "2024-07-18T00:00:00.000000000",
          "2024-07-19T00:00:00.000000000",
          "2024-07-22T00:00:00.000000000",
          "2024-07-23T00:00:00.000000000",
          "2024-07-24T00:00:00.000000000",
          "2024-07-25T00:00:00.000000000",
          "2024-07-26T00:00:00.000000000",
          "2024-07-29T00:00:00.000000000",
          "2024-07-30T00:00:00.000000000"
         ],
         "xaxis": "x",
         "yaxis": "y"
        },
        {
         "line": {
          "color": "blue"
         },
         "name": "SMA 20",
         "type": "scatter",
         "x": [
          "2024-04-22T00:00:00.000000000",
          "2024-04-23T00:00:00.000000000",
          "2024-04-24T00:00:00.000000000",
          "2024-04-25T00:00:00.000000000",
          "2024-04-26T00:00:00.000000000",
          "2024-04-29T00:00:00.000000000",
          "2024-04-30T00:00:00.000000000",
          "2024-05-01T00:00:00.000000000",
          "2024-05-02T00:00:00.000000000",
          "2024-05-03T00:00:00.000000000",
          "2024-05-06T00:00:00.000000000",
          "2024-05-07T00:00:00.000000000",
          "2024-05-08T00:00:00.000000000",
          "2024-05-09T00:00:00.000000000",
          "2024-05-10T00:00:00.000000000",
          "2024-05-13T00:00:00.000000000",
          "2024-05-14T00:00:00.000000000",
          "2024-05-15T00:00:00.000000000",
          "2024-05-16T00:00:00.000000000",
          "2024-05-17T00:00:00.000000000",
          "2024-05-20T00:00:00.000000000",
          "2024-05-21T00:00:00.000000000",
          "2024-05-22T00:00:00.000000000",
          "2024-05-23T00:00:00.000000000",
          "2024-05-24T00:00:00.000000000",
          "2024-05-28T00:00:00.000000000",
          "2024-05-29T00:00:00.000000000",
          "2024-05-30T00:00:00.000000000",
          "2024-05-31T00:00:00.000000000",
          "2024-06-03T00:00:00.000000000",
          "2024-06-04T00:00:00.000000000",
          "2024-06-05T00:00:00.000000000",
          "2024-06-06T00:00:00.000000000",
          "2024-06-07T00:00:00.000000000",
          "2024-06-10T00:00:00.000000000",
          "2024-06-11T00:00:00.000000000",
          "2024-06-12T00:00:00.000000000",
          "2024-06-13T00:00:00.000000000",
          "2024-06-14T00:00:00.000000000",
          "2024-06-17T00:00:00.000000000",
          "2024-06-18T00:00:00.000000000",
          "2024-06-20T00:00:00.000000000",
          "2024-06-21T00:00:00.000000000",
          "2024-06-24T00:00:00.000000000",
          "2024-06-25T00:00:00.000000000",
          "2024-06-26T00:00:00.000000000",
          "2024-06-27T00:00:00.000000000",
          "2024-06-28T00:00:00.000000000",
          "2024-07-01T00:00:00.000000000",
          "2024-07-02T00:00:00.000000000",
          "2024-07-03T00:00:00.000000000",
          "2024-07-05T00:00:00.000000000",
          "2024-07-08T00:00:00.000000000",
          "2024-07-09T00:00:00.000000000",
          "2024-07-10T00:00:00.000000000",
          "2024-07-11T00:00:00.000000000",
          "2024-07-12T00:00:00.000000000",
          "2024-07-15T00:00:00.000000000",
          "2024-07-16T00:00:00.000000000",
          "2024-07-17T00:00:00.000000000",
          "2024-07-18T00:00:00.000000000",
          "2024-07-19T00:00:00.000000000",
          "2024-07-22T00:00:00.000000000",
          "2024-07-23T00:00:00.000000000",
          "2024-07-24T00:00:00.000000000",
          "2024-07-25T00:00:00.000000000",
          "2024-07-26T00:00:00.000000000",
          "2024-07-29T00:00:00.000000000",
          "2024-07-30T00:00:00.000000000"
         ],
         "xaxis": "x",
         "y": {
          "bdata": "ZmZmDte9ZkAzMzNrkb1mQAAAAADVumZAzczM3PmwZkAAAACQwq9mQAAAAHi+r2ZAAAAA2KOmZkAzMzMbL6FmQDMzM2u8qGZAzczMXI+qZkBmZmYOLbBmQAAAALgetWZAZmZmZma4ZkAAAAC4HrlmQM3MzKxHu2ZAAAAAAADAZkAAAAAAAMZmQAAAADiJzWZAZmZmjpfUZkCamZk5tORmQM3MzMzM7mZAzczMdJP0ZkBmZmY+Cv9mQAAAABjZCmdAmpmZ8acMZ0DNzMxcjw5nQJqZmcHKGWdAzczM1E0aZ0AAAABYDg1nQJqZmcl2AGdAZmZm7nzxZkAAAAAgheVmQDMzM1O44GZAAAAAaGbYZkAAAABgutdmQM3MzLTI2GZAmpmZ+X7YZkDNzMw8CtVmQGZmZoYW1WZAmZmZYRDUZkD///9f5dJmQDIzM7Od12ZAmZmZ0SLhZkBmZmY2XuhmQP///99P8WZAzMzM5KUDZ0DMzMzc+RxnQGZmZpZDM2dAmZmZ4XpUZ0CZmZnRIndnQMzMzARWlGdAMjMzu0myZ0CZmZnpJslnQDMzM0s34WdAAAAAgJX1Z0AzMzOTGAJoQJqZmYlBDmhAmpmZ4XocaEDNzMy8dCtoQDMzM+OlMWhAmpmZ6SYzaEBmZmZmZi5oQGZmZrbzI2hAZmZmxkslaECamZnhehxoQJqZmcl2BmhAzczMbOftZ0CamZnx0t1nQGZmZj4KxWdA",
          "dtype": "f8"
         },
         "yaxis": "y"
        },
        {
         "line": {
          "color": "orange"
         },
         "name": "SMA 50",
         "type": "scatter",
         "x": [
          "2024-04-22T00:00:00.000000000",
          "2024-04-23T00:00:00.000000000",
          "2024-04-24T00:00:00.000000000",
          "2024-04-25T00:00:00.000000000",
          "2024-04-26T00:00:00.000000000",
          "2024-04-29T00:00:00.000000000",
          "2024-04-30T00:00:00.000000000",
          "2024-05-01T00:00:00.000000000",
          "2024-05-02T00:00:00.000000000",
          "2024-05-03T00:00:00.000000000",
          "2024-05-06T00:00:00.000000000",
          "2024-05-07T00:00:00.000000000",
          "2024-05-08T00:00:00.000000000",
          "2024-05-09T00:00:00.000000000",
          "2024-05-10T00:00:00.000000000",
          "2024-05-13T00:00:00.000000000",
          "2024-05-14T00:00:00.000000000",
          "2024-05-15T00:00:00.000000000",
          "2024-05-16T00:00:00.000000000",
          "2024-05-17T00:00:00.000000000",
          "2024-05-20T00:00:00.000000000",
          "2024-05-21T00:00:00.000000000",
          "2024-05-22T00:00:00.000000000",
          "2024-05-23T00:00:00.000000000",
          "2024-05-24T00:00:00.000000000",
          "2024-05-28T00:00:00.000000000",
          "2024-05-29T00:00:00.000000000",
          "2024-05-30T00:00:00.000000000",
          "2024-05-31T00:00:00.000000000",
          "2024-06-03T00:00:00.000000000",
          "2024-06-04T00:00:00.000000000",
          "2024-06-05T00:00:00.000000000",
          "2024-06-06T00:00:00.000000000",
          "2024-06-07T00:00:00.000000000",
          "2024-06-10T00:00:00.000000000",
          "2024-06-11T00:00:00.000000000",
          "2024-06-12T00:00:00.000000000",
          "2024-06-13T00:00:00.000000000",
          "2024-06-14T00:00:00.000000000",
          "2024-06-17T00:00:00.000000000",
          "2024-06-18T00:00:00.000000000",
          "2024-06-20T00:00:00.000000000",
          "2024-06-21T00:00:00.000000000",
          "2024-06-24T00:00:00.000000000",
          "2024-06-25T00:00:00.000000000",
          "2024-06-26T00:00:00.000000000",
          "2024-06-27T00:00:00.000000000",
          "2024-06-28T00:00:00.000000000",
          "2024-07-01T00:00:00.000000000",
          "2024-07-02T00:00:00.000000000",
          "2024-07-03T00:00:00.000000000",
          "2024-07-05T00:00:00.000000000",
          "2024-07-08T00:00:00.000000000",
          "2024-07-09T00:00:00.000000000",
          "2024-07-10T00:00:00.000000000",
          "2024-07-11T00:00:00.000000000",
          "2024-07-12T00:00:00.000000000",
          "2024-07-15T00:00:00.000000000",
          "2024-07-16T00:00:00.000000000",
          "2024-07-17T00:00:00.000000000",
          "2024-07-18T00:00:00.000000000",
          "2024-07-19T00:00:00.000000000",
          "2024-07-22T00:00:00.000000000",
          "2024-07-23T00:00:00.000000000",
          "2024-07-24T00:00:00.000000000",
          "2024-07-25T00:00:00.000000000",
          "2024-07-26T00:00:00.000000000",
          "2024-07-29T00:00:00.000000000",
          "2024-07-30T00:00:00.000000000"
         ],
         "xaxis": "x",
         "y": {
          "bdata": "rkfhWkIqZkDNzMxMhC1mQOxRuJ48MGZAw/UovHQzZkAAAABQ/DhmQEjhesQgQGZAAAAAQKRDZkCPwvU4RUtmQGZmZvaXVWZAw/UobAldZkCuR+Gqz2VmQHsUrlfKbmZAhetReAt4ZkDXo3CdgIJmQK5H4fpciWZAuB6FC7WOZkAzMzPjx5RmQLgehatgnGZAuB6Fu9qiZkCkcD3K5admQDMzM6MjrWZAFK5HAU20ZkAK16MgQblmQFK4HsUgvGZAMzMzc2i9ZkDsUbjuWsJmQJqZmUkux2ZA9ihcn17JZkBSuB51RshmQGZmZpZlyGZAexSul7LIZkAfhevRs8lmQMP1KIz9zWZAmpmZ6dnQZkDNzMxcINVmQAAAAAAi2WZA7FG4zhndZkBcj8J1At5mQNejcB1a4GZAKVyPorTfZkAfheuxLt5mQFyPwiV13mZAexSu93XgZkDhehTOO95mQFyPwjVe3mZAj8L1+MLkZkAUrkeRD+5mQLgehbu49WZAMzMzkzoBZ0AfhesxdxFnQKRwPfp+HmdAUrgeJZcrZ0AAAABQHjpnQFyPwhWMSmdAzczMvHRXZ0DhehQ+eWBnQMP1KHzybGdA7FG4Xrp1Z0DhehQ+CntnQLgehQskfGdAmpmZCfl4Z0DsUbieXnVnQBSuR7HhcWdA16NwbedvZ0BI4XrkpWtnQDMzM+NYZ2dAMzMzI2xkZ0Bcj8IFo2JnQDMzM3NoYWdA",
          "dtype": "f8"
         },
         "yaxis": "y"
        },
        {
         "line": {
          "color": "red"
         },
         "name": "SMA 200",
         "type": "scatter",
         "x": [
          "2024-04-22T00:00:00.000000000",
          "2024-04-23T00:00:00.000000000",
          "2024-04-24T00:00:00.000000000",
          "2024-04-25T00:00:00.000000000",
          "2024-04-26T00:00:00.000000000",
          "2024-04-29T00:00:00.000000000",
          "2024-04-30T00:00:00.000000000",
          "2024-05-01T00:00:00.000000000",
          "2024-05-02T00:00:00.000000000",
          "2024-05-03T00:00:00.000000000",
          "2024-05-06T00:00:00.000000000",
          "2024-05-07T00:00:00.000000000",
          "2024-05-08T00:00:00.000000000",
          "2024-05-09T00:00:00.000000000",
          "2024-05-10T00:00:00.000000000",
          "2024-05-13T00:00:00.000000000",
          "2024-05-14T00:00:00.000000000",
          "2024-05-15T00:00:00.000000000",
          "2024-05-16T00:00:00.000000000",
          "2024-05-17T00:00:00.000000000",
          "2024-05-20T00:00:00.000000000",
          "2024-05-21T00:00:00.000000000",
          "2024-05-22T00:00:00.000000000",
          "2024-05-23T00:00:00.000000000",
          "2024-05-24T00:00:00.000000000",
          "2024-05-28T00:00:00.000000000",
          "2024-05-29T00:00:00.000000000",
          "2024-05-30T00:00:00.000000000",
          "2024-05-31T00:00:00.000000000",
          "2024-06-03T00:00:00.000000000",
          "2024-06-04T00:00:00.000000000",
          "2024-06-05T00:00:00.000000000",
          "2024-06-06T00:00:00.000000000",
          "2024-06-07T00:00:00.000000000",
          "2024-06-10T00:00:00.000000000",
          "2024-06-11T00:00:00.000000000",
          "2024-06-12T00:00:00.000000000",
          "2024-06-13T00:00:00.000000000",
          "2024-06-14T00:00:00.000000000",
          "2024-06-17T00:00:00.000000000",
          "2024-06-18T00:00:00.000000000",
          "2024-06-20T00:00:00.000000000",
          "2024-06-21T00:00:00.000000000",
          "2024-06-24T00:00:00.000000000",
          "2024-06-25T00:00:00.000000000",
          "2024-06-26T00:00:00.000000000",
          "2024-06-27T00:00:00.000000000",
          "2024-06-28T00:00:00.000000000",
          "2024-07-01T00:00:00.000000000",
          "2024-07-02T00:00:00.000000000",
          "2024-07-03T00:00:00.000000000",
          "2024-07-05T00:00:00.000000000",
          "2024-07-08T00:00:00.000000000",
          "2024-07-09T00:00:00.000000000",
          "2024-07-10T00:00:00.000000000",
          "2024-07-11T00:00:00.000000000",
          "2024-07-12T00:00:00.000000000",
          "2024-07-15T00:00:00.000000000",
          "2024-07-16T00:00:00.000000000",
          "2024-07-17T00:00:00.000000000",
          "2024-07-18T00:00:00.000000000",
          "2024-07-19T00:00:00.000000000",
          "2024-07-22T00:00:00.000000000",
          "2024-07-23T00:00:00.000000000",
          "2024-07-24T00:00:00.000000000",
          "2024-07-25T00:00:00.000000000",
          "2024-07-26T00:00:00.000000000",
          "2024-07-29T00:00:00.000000000",
          "2024-07-30T00:00:00.000000000"
         ],
         "xaxis": "x",
         "y": {
          "bdata": "XI/C9+S9YkBSuB4j28ViQM3MzATFzWJAKVyPtvPUYkAUrkdhw9xiQK5H4ZI65GJAzczMFK7qYkBcj8JN8/FiQD0K17dA+mJAzczMiGMCY0CkcD2GyQtjQNejcFUwFWNAZmZmKqkeY0B7FK7rUShjQD0K1xPQMWNA16Nw3SQ7Y0CkcD3u60NjQEjheoxKTGNArkfhAppUY0D2KFzXo11jQIXrUXxhZmNAmpmZhVptY0DhehQy5nNjQHsUrg96emNA7FG4PleBY0CPwvWwUIhjQI/C9fRKj2NAw/UoKH6VY0BSuB4tsptjQD0K14OeomNAH4XrdeCpY0C4HoX/kLFjQHE9ChueuWNA9ihcJ6DBY0D2KFw738ljQJqZmQG80mNAj8L1sFDbY0DD9Sj0bONjQI/C9cA562NApHA9YhDzY0CF61FkO/pjQDMzM6foAWRAZmZmyjIKZEBI4XpkOxJkQK5H4Yr9GWRAhetR6NkiZEB7FK53nCtkQI/C9TTvM2RAZmZmdk88ZEAzMzO7J0VkQArXo6ROTmRAAAAAEOlXZEA9CtenxmFkQM3MzCQGbGRA9ihcL0x3ZECamZmt2IFkQPYoXCv2i2RAj8L11qOWZECF61HMXaFkQHE9CkVHq2RAmpmZ1Va0ZECF61Eo7bxkQD0K198txmRArkfhTq/PZEApXI/IdthkQOxRuDLE4GRAZmZm3nHpZEDXo3A9CvJkQDMzM1MF+mRA",
          "dtype": "f8"
         },
         "yaxis": "y"
        },
        {
         "line": {
          "color": "gray",
          "dash": "dash"
         },
         "name": "BB High",
         "type": "scatter",
         "x": [
          "2024-04-22T00:00:00.000000000",
          "2024-04-23T00:00:00.000000000",
          "2024-04-24T00:00:00.000000000",
          "2024-04-25T00:00:00.000000000",
          "2024-04-26T00:00:00.000000000",
          "2024-04-29T00:00:00.000000000",
          "2024-04-30T00:00:00.000000000",
          "2024-05-01T00:00:00.000000000",
          "2024-05-02T00:00:00.000000000",
          "2024-05-03T00:00:00.000000000",
          "2024-05-06T00:00:00.000000000",
          "2024-05-07T00:00:00.000000000",
          "2024-05-08T00:00:00.000000000",
          "2024-05-09T00:00:00.000000000",
          "2024-05-10T00:00:00.000000000",
          "2024-05-13T00:00:00.000000000",
          "2024-05-14T00:00:00.000000000",
          "2024-05-15T00:00:00.000000000",
          "2024-05-16T00:00:00.000000000",
          "2024-05-17T00:00:00.000000000",
          "2024-05-20T00:00:00.000000000",
          "2024-05-21T00:00:00.000000000",
          "2024-05-22T00:00:00.000000000",
          "2024-05-23T00:00:00.000000000",
          "2024-05-24T00:00:00.000000000",
          "2024-05-28T00:00:00.000000000",
          "2024-05-29T00:00:00.000000000",
          "2024-05-30T00:00:00.000000000",
          "2024-05-31T00:00:00.000000000",
          "2024-06-03T00:00:00.000000000",
          "2024-06-04T00:00:00.000000000",
          "2024-06-05T00:00:00.000000000",
          "2024-06-06T00:00:00.000000000",
          "2024-06-07T00:00:00.000000000",
          "2024-06-10T00:00:00.000000000",
          "2024-06-11T00:00:00.000000000",
          "2024-06-12T00:00:00.000000000",
          "2024-06-13T00:00:00.000000000",
          "2024-06-14T00:00:00.000000000",
          "2024-06-17T00:00:00.000000000",
          "2024-06-18T00:00:00.000000000",
          "2024-06-20T00:00:00.000000000",
          "2024-06-21T00:00:00.000000000",
          "2024-06-24T00:00:00.000000000",
          "2024-06-25T00:00:00.000000000",
          "2024-06-26T00:00:00.000000000",
          "2024-06-27T00:00:00.000000000",
          "2024-06-28T00:00:00.000000000",
          "2024-07-01T00:00:00.000000000",
          "2024-07-02T00:00:00.000000000",
          "2024-07-03T00:00:00.000000000",
          "2024-07-05T00:00:00.000000000",
          "2024-07-08T00:00:00.000000000",
          "2024-07-09T00:00:00.000000000",
          "2024-07-10T00:00:00.000000000",
          "2024-07-11T00:00:00.000000000",
          "2024-07-12T00:00:00.000000000",
          "2024-07-15T00:00:00.000000000",
          "2024-07-16T00:00:00.000000000",
          "2024-07-17T00:00:00.000000000",
          "2024-07-18T00:00:00.000000000",
          "2024-07-19T00:00:00.000000000",
          "2024-07-22T00:00:00.000000000",
          "2024-07-23T00:00:00.000000000",
          "2024-07-24T00:00:00.000000000",
          "2024-07-25T00:00:00.000000000",
          "2024-07-26T00:00:00.000000000",
          "2024-07-29T00:00:00.000000000",
          "2024-07-30T00:00:00.000000000"
         ],
         "xaxis": "x",
         "y": {
          "bdata": "esaiALqaZ0C1m8s70ZpnQNIU08v+nmdAIwvdSPauZ0BiBDOvq65nQM6hp6yormdAlBQFMBq1Z0A4Yvi2uLBnQFJwFaiHvGdAlKGxpADCZ0DRLYQYftVnQKzBZqpY5mdAr0MCZMjwZ0AsUz5AtfNnQGwkV1g4+mdAA6RHHuMEaEBEMJooIxJoQAQqfVmDHWhA7dpNm5MhaEB627q/Ch1oQLPV3IHQGmhA5f9EghkbaEDtOyaMCBNoQMFJ2Tu39mdATPoJS2L0Z0AYJP3VP/NnQH4rg0ES1GdAQfMuWJXSZ0BEXxZ7VOdnQMq0/IGY6GdADQh4LKLXZ0CPR754VcBnQL7bdQzDsWdAOwMv6+qTZ0BqyBZhKZFnQGmEVG02lWdA4yEZXxmUZ0Blyf2lYotnQMDnPnJ3i2dAr2zwnzCJZ0B0yTHQjYdnQEEGdWC3kmdARaAnTiOwZ0BP/zFFF7hnQH++jlzTwWdAh7SCHKb9Z0DLLPGbglVoQAX1EPASdWhA+HqCZWWfaEBO5AOTtttoQKHXN1fl+2hARPZ7tN8paUBRfraSoFFpQG2fai6tcmlA1rdE7kKUaUB43NDH8Z1pQOkpEholpGlAAIkXYCmeaUBs8Wn9k5RpQGKVST0CimlAkk1aX7WFaUBr27L7mZBpQChvDYFSoWlAtSgY2myfaUC4TNuKz7FpQHBV0HlkwmlA7BjBC1K1aUAHotNla7JpQNHhMbP0oGlA",
          "dtype": "f8"
         },
         "yaxis": "y"
        },
        {
         "line": {
          "color": "gray",
          "dash": "dash"
         },
         "name": "BB Low",
         "type": "scatter",
         "x": [
          "2024-04-22T00:00:00.000000000",
          "2024-04-23T00:00:00.000000000",
          "2024-04-24T00:00:00.000000000",
          "2024-04-25T00:00:00.000000000",
          "2024-04-26T00:00:00.000000000",
          "2024-04-29T00:00:00.000000000",
          "2024-04-30T00:00:00.000000000",
          "2024-05-01T00:00:00.000000000",
          "2024-05-02T00:00:00.000000000",
          "2024-05-03T00:00:00.000000000",
          "2024-05-06T00:00:00.000000000",
          "2024-05-07T00:00:00.000000000",
          "2024-05-08T00:00:00.000000000",
          "2024-05-09T00:00:00.000000000",
          "2024-05-10T00:00:00.000000000",
          "2024-05-13T00:00:00.000000000",
          "2024-05-14T00:00:00.000000000",
          "2024-05-15T00:00:00.000000000",
          "2024-05-16T00:00:00.000000000",
          "2024-05-17T00:00:00.000000000",
          "2024-05-20T00:00:00.000000000",
          "2024-05-21T00:00:00.000000000",
          "2024-05-22T00:00:00.000000000",
          "2024-05-23T00:00:00.000000000",
          "2024-05-24T00:00:00.000000000",
          "2024-05-28T00:00:00.000000000",
          "2024-05-29T00:00:00.000000000",
          "2024-05-30T00:00:00.000000000",
          "2024-05-31T00:00:00.000000000",
          "2024-06-03T00:00:00.000000000",
          "2024-06-04T00:00:00.000000000",
          "2024-06-05T00:00:00.000000000",
          "2024-06-06T00:00:00.000000000",
          "2024-06-07T00:00:00.000000000",
          "2024-06-10T00:00:00.000000000",
          "2024-06-11T00:00:00.000000000",
          "2024-06-12T00:00:00.000000000",
          "2024-06-13T00:00:00.000000000",
          "2024-06-14T00:00:00.000000000",
          "2024-06-17T00:00:00.000000000",
          "2024-06-18T00:00:00.000000000",
          "2024-06-20T00:00:00.000000000",
          "2024-06-21T00:00:00.000000000",
          "2024-06-24T00:00:00.000000000",
          "2024-06-25T00:00:00.000000000",
          "2024-06-26T00:00:00.000000000",
          "2024-06-27T00:00:00.000000000",
          "2024-06-28T00:00:00.000000000",
          "2024-07-01T00:00:00.000000000",
          "2024-07-02T00:00:00.000000000",
          "2024-07-03T00:00:00.000000000",
          "2024-07-05T00:00:00.000000000",
          "2024-07-08T00:00:00.000000000",
          "2024-07-09T00:00:00.000000000",
          "2024-07-10T00:00:00.000000000",
          "2024-07-11T00:00:00.000000000",
          "2024-07-12T00:00:00.000000000",
          "2024-07-15T00:00:00.000000000",
          "2024-07-16T00:00:00.000000000",
          "2024-07-17T00:00:00.000000000",
          "2024-07-18T00:00:00.000000000",
          "2024-07-19T00:00:00.000000000",
          "2024-07-22T00:00:00.000000000",
          "2024-07-23T00:00:00.000000000",
          "2024-07-24T00:00:00.000000000",
          "2024-07-25T00:00:00.000000000",
          "2024-07-26T00:00:00.000000000",
          "2024-07-29T00:00:00.000000000",
          "2024-07-30T00:00:00.000000000"
         ],
         "xaxis": "x",
         "y": {
          "bdata": "UgYqHPTgZUCxypqaUeBlQC7rLDSr1mVAd468cP2yZUCe+8xw2bBlQDJeWEPUsGVAbOv6fy2YZUAuBG5/pZFlQBT2UC7xlGVABvjnFB6TZUD7nkgE3IplQFQ+mcXkg2VAHYnKaASAZUDUrMEviH5lQC51QgFXfGVA/Vu44Rx7ZUC8z2XX3HllQPzVghaPfWVA3/F+gZuHZUC6V3izXaxlQOfDvBfJwmVAtZlUZw3OZUDfkKbwC+tlQD+2JvT6HmZA6DgpmO0kZkCCdZzj3ilmQLYHsEGDX2ZAWaZqUQZiZkC8oOk0yDJmQGp+NhFVGGZAv8RUsFcLZkBxuEHHtApmQKiK8JmtD2ZAxfzQ5OEcZkCWN+leSx5mQDEVRfxaHGZAUREalOQcZkA10JvTsR5mQAzljZq1HmZAg8ZCI/AeZkCKNs7vPB5mQCNg8QWEHGZA7ZILVSISZkB9zZonpRhmQH9BcWPMIGZAEeUWraUJZkDNbKgdceRlQMfXuzx08WVAOriwXZAJZkDkTi8QjxJmQPfBYbLGLGZAIHDqwbM6ZkDhtHxArUBmQPnG+2fBT2ZAKki7EehWZkDuiZVeP2ZmQEsJIfldeGZANKobY8yaZkAuqC98VcJmQATRHIlJ2WZAouXYc5jgZkBh8RnRMsxmQKRdv+uUpmZAF6S0siqrZkB85lc4JodmQMTdYhmJSmZAroDYzXwmZkAtkV99OglmQPvqmskf6WVA",
          "dtype": "f8"
         },
         "yaxis": "y"
        },
        {
         "name": "Volume",
         "type": "bar",
         "x": [
          "2024-04-22T00:00:00.000000000",
          "2024-04-23T00:00:00.000000000",
          "2024-04-24T00:00:00.000000000",
          "2024-04-25T00:00:00.000000000",
          "2024-04-26T00:00:00.000000000",
          "2024-04-29T00:00:00.000000000",
          "2024-04-30T00:00:00.000000000",
          "2024-05-01T00:00:00.000000000",
          "2024-05-02T00:00:00.000000000",
          "2024-05-03T00:00:00.000000000",
          "2024-05-06T00:00:00.000000000",
          "2024-05-07T00:00:00.000000000",
          "2024-05-08T00:00:00.000000000",
          "2024-05-09T00:00:00.000000000",
          "2024-05-10T00:00:00.000000000",
          "2024-05-13T00:00:00.000000000",
          "2024-05-14T00:00:00.000000000",
          "2024-05-15T00:00:00.000000000",
          "2024-05-16T00:00:00.000000000",
          "2024-05-17T00:00:00.000000000",
          "2024-05-20T00:00:00.000000000",
          "2024-05-21T00:00:00.000000000",
          "2024-05-22T00:00:00.000000000",
          "2024-05-23T00:00:00.000000000",
          "2024-05-24T00:00:00.000000000",
          "2024-05-28T00:00:00.000000000",
          "2024-05-29T00:00:00.000000000",
          "2024-05-30T00:00:00.000000000",
          "2024-05-31T00:00:00.000000000",
          "2024-06-03T00:00:00.000000000",
          "2024-06-04T00:00:00.000000000",
          "2024-06-05T00:00:00.000000000",
          "2024-06-06T00:00:00.000000000",
          "2024-06-07T00:00:00.000000000",
          "2024-06-10T00:00:00.000000000",
          "2024-06-11T00:00:00.000000000",
          "2024-06-12T00:00:00.000000000",
          "2024-06-13T00:00:00.000000000",
          "2024-06-14T00:00:00.000000000",
          "2024-06-17T00:00:00.000000000",
          "2024-06-18T00:00:00.000000000",
          "2024-06-20T00:00:00.000000000",
          "2024-06-21T00:00:00.000000000",
          "2024-06-24T00:00:00.000000000",
          "2024-06-25T00:00:00.000000000",
          "2024-06-26T00:00:00.000000000",
          "2024-06-27T00:00:00.000000000",
          "2024-06-28T00:00:00.000000000",
          "2024-07-01T00:00:00.000000000",
          "2024-07-02T00:00:00.000000000",
          "2024-07-03T00:00:00.000000000",
          "2024-07-05T00:00:00.000000000",
          "2024-07-08T00:00:00.000000000",
          "2024-07-09T00:00:00.000000000",
          "2024-07-10T00:00:00.000000000",
          "2024-07-11T00:00:00.000000000",
          "2024-07-12T00:00:00.000000000",
          "2024-07-15T00:00:00.000000000",
          "2024-07-16T00:00:00.000000000",
          "2024-07-17T00:00:00.000000000",
          "2024-07-18T00:00:00.000000000",
          "2024-07-19T00:00:00.000000000",
          "2024-07-22T00:00:00.000000000",
          "2024-07-23T00:00:00.000000000",
          "2024-07-24T00:00:00.000000000",
          "2024-07-25T00:00:00.000000000",
          "2024-07-26T00:00:00.000000000",
          "2024-07-29T00:00:00.000000000",
          "2024-07-30T00:00:00.000000000"
         ],
         "xaxis": "x2",
         "y": {
          "bdata": "JLBCAuRINQKMnwkCeHzvArgpngIc8zgDuBakBWwrpAUMmzwDoLdVArTdEQKEiwcCUM+OAdC/lQJo9ggCKOx7Adh8TgI8bX8ERJFQApQ4+gG4ktEBPL4HA0CErQE4xAECdJyiAVimyAFUbOgBsE6+AVzNggMoxNUBwAOfAbAO6gHAr94B/JKrASRYDgJMCKAByI4GAhwaXgIQb4QB7D0fAgBgLwIQeqoC2NlYBOBABAMEW7wCHGjhAzw3bwSY3JUEQIp0AgDNtwJMJeIB1DJgAsSBEgLE9vIBWMT1AQgCqAJk5dIBwMZsAsy3BgJEld0CEN0KA0hgkQL8T2ECJF7VAvC7eQJIeKYC0DnCAVSp+wF42loC",
          "dtype": "i4"
         },
         "yaxis": "y2"
        },
        {
         "name": "RSI",
         "type": "scatter",
         "x": [
          "2024-04-22T00:00:00.000000000",
          "2024-04-23T00:00:00.000000000",
          "2024-04-24T00:00:00.000000000",
          "2024-04-25T00:00:00.000000000",
          "2024-04-26T00:00:00.000000000",
          "2024-04-29T00:00:00.000000000",
          "2024-04-30T00:00:00.000000000",
          "2024-05-01T00:00:00.000000000",
          "2024-05-02T00:00:00.000000000",
          "2024-05-03T00:00:00.000000000",
          "2024-05-06T00:00:00.000000000",
          "2024-05-07T00:00:00.000000000",
          "2024-05-08T00:00:00.000000000",
          "2024-05-09T00:00:00.000000000",
          "2024-05-10T00:00:00.000000000",
          "2024-05-13T00:00:00.000000000",
          "2024-05-14T00:00:00.000000000",
          "2024-05-15T00:00:00.000000000",
          "2024-05-16T00:00:00.000000000",
          "2024-05-17T00:00:00.000000000",
          "2024-05-20T00:00:00.000000000",
          "2024-05-21T00:00:00.000000000",
          "2024-05-22T00:00:00.000000000",
          "2024-05-23T00:00:00.000000000",
          "2024-05-24T00:00:00.000000000",
          "2024-05-28T00:00:00.000000000",
          "2024-05-29T00:00:00.000000000",
          "2024-05-30T00:00:00.000000000",
          "2024-05-31T00:00:00.000000000",
          "2024-06-03T00:00:00.000000000",
          "2024-06-04T00:00:00.000000000",
          "2024-06-05T00:00:00.000000000",
          "2024-06-06T00:00:00.000000000",
          "2024-06-07T00:00:00.000000000",
          "2024-06-10T00:00:00.000000000",
          "2024-06-11T00:00:00.000000000",
          "2024-06-12T00:00:00.000000000",
          "2024-06-13T00:00:00.000000000",
          "2024-06-14T00:00:00.000000000",
          "2024-06-17T00:00:00.000000000",
          "2024-06-18T00:00:00.000000000",
          "2024-06-20T00:00:00.000000000",
          "2024-06-21T00:00:00.000000000",
          "2024-06-24T00:00:00.000000000",
          "2024-06-25T00:00:00.000000000",
          "2024-06-26T00:00:00.000000000",
          "2024-06-27T00:00:00.000000000",
          "2024-06-28T00:00:00.000000000",
          "2024-07-01T00:00:00.000000000",
          "2024-07-02T00:00:00.000000000",
          "2024-07-03T00:00:00.000000000",
          "2024-07-05T00:00:00.000000000",
          "2024-07-08T00:00:00.000000000",
          "2024-07-09T00:00:00.000000000",
          "2024-07-10T00:00:00.000000000",
          "2024-07-11T00:00:00.000000000",
          "2024-07-12T00:00:00.000000000",
          "2024-07-15T00:00:00.000000000",
          "2024-07-16T00:00:00.000000000",
          "2024-07-17T00:00:00.000000000",
          "2024-07-18T00:00:00.000000000",
          "2024-07-19T00:00:00.000000000",
          "2024-07-22T00:00:00.000000000",
          "2024-07-23T00:00:00.000000000",
          "2024-07-24T00:00:00.000000000",
          "2024-07-25T00:00:00.000000000",
          "2024-07-26T00:00:00.000000000",
          "2024-07-29T00:00:00.000000000",
          "2024-07-30T00:00:00.000000000"
         ],
         "xaxis": "x3",
         "y": {
          "bdata": "Ib0h3hFgRkDZGVK/Z6dIQI1G6jZfJEZA8scjPxD5Q0AYo63TMElJQJjL74yHTUpAd4fBeuP4RUAmbvSN7PNIQOi3oW5CekxAIxYBAYJLTUApbxnOm55OQDy/TtPUpk5A4tcp8Fj5TUB/VVQWc99OQG7ASuxu/ExAzfQGLcImTEDeMtn9doRMQBUve9WgcktAG+kYFLI4SUBmAZYsVypKQFI5YXAcDUlAHTuF17yrSEAW8SfzcqZIQHQL51cXiUZAKEJPcTo9RkB4VZ04xfVHQJUzdBz8z0dAAfvUHbbtRECKLqstYV9CQIzlnyXS5URA2cXoAWAoRkDf3kBjnHdIQO6u2F+DM0xAdWwkiLdjS0DujpDsF9pNQE88lBsW/01AAhEJkUSKTUB5c887hb5JQIvrVVQ9jElArl9KTvUCSkC5Z+FPcHNIQOnsDs0QKkxA7ccIfyvgTkCr6Xv7oKxKQBb9hdybZktA0CAAxgtrUECKu2oaX4tRQKCtxRCAbE5Aj8HUn5ZIUECqydOes/RQQBw5UR0jpk9Amht1pYpwUEDegAUF5BhQQFRp1S18HFBAHkF6770+UECtSv+SQ8BLQJruRYLSPktA9j9hUYKnSUBbMCAnPulJQCxjh/B8uUVA4fXzPCYCQ0D8ucei3qJCQJ9JGmSURkJAFYqi73UjRkAVV+i9VpxCQCW3L0ryEEJAtk4MsceSREDTwGIXWjdFQOKIL/hUNERA",
          "dtype": "f8"
         },
         "yaxis": "y3"
        },
        {
         "name": "MACD",
         "type": "scatter",
         "x": [
          "2024-04-22T00:00:00.000000000",
          "2024-04-23T00:00:00.000000000",
          "2024-04-24T00:00:00.000000000",
          "2024-04-25T00:00:00.000000000",
          "2024-04-26T00:00:00.000000000",
          "2024-04-29T00:00:00.000000000",
          "2024-04-30T00:00:00.000000000",
          "2024-05-01T00:00:00.000000000",
          "2024-05-02T00:00:00.000000000",
          "2024-05-03T00:00:00.000000000",
          "2024-05-06T00:00:00.000000000",
          "2024-05-07T00:00:00.000000000",
          "2024-05-08T00:00:00.000000000",
          "2024-05-09T00:00:00.000000000",
          "2024-05-10T00:00:00.000000000",
          "2024-05-13T00:00:00.000000000",
          "2024-05-14T00:00:00.000000000",
          "2024-05-15T00:00:00.000000000",
          "2024-05-16T00:00:00.000000000",
          "2024-05-17T00:00:00.000000000",
          "2024-05-20T00:00:00.000000000",
          "2024-05-21T00:00:00.000000000",
          "2024-05-22T00:00:00.000000000",
          "2024-05-23T00:00:00.000000000",
          "2024-05-24T00:00:00.000000000",
          "2024-05-28T00:00:00.000000000",
          "2024-05-29T00:00:00.000000000",
          "2024-05-30T00:00:00.000000000",
          "2024-05-31T00:00:00.000000000",
          "2024-06-03T00:00:00.000000000",
          "2024-06-04T00:00:00.000000000",
          "2024-06-05T00:00:00.000000000",
          "2024-06-06T00:00:00.000000000",
          "2024-06-07T00:00:00.000000000",
          "2024-06-10T00:00:00.000000000",
          "2024-06-11T00:00:00.000000000",
          "2024-06-12T00:00:00.000000000",
          "2024-06-13T00:00:00.000000000",
          "2024-06-14T00:00:00.000000000",
          "2024-06-17T00:00:00.000000000",
          "2024-06-18T00:00:00.000000000",
          "2024-06-20T00:00:00.000000000",
          "2024-06-21T00:00:00.000000000",
          "2024-06-24T00:00:00.000000000",
          "2024-06-25T00:00:00.000000000",
          "2024-06-26T00:00:00.000000000",
          "2024-06-27T00:00:00.000000000",
          "2024-06-28T00:00:00.000000000",
          "2024-07-01T00:00:00.000000000",
          "2024-07-02T00:00:00.000000000",
          "2024-07-03T00:00:00.000000000",
          "2024-07-05T00:00:00.000000000",
          "2024-07-08T00:00:00.000000000",
          "2024-07-09T00:00:00.000000000",
          "2024-07-10T00:00:00.000000000",
          "2024-07-11T00:00:00.000000000",
          "2024-07-12T00:00:00.000000000",
          "2024-07-15T00:00:00.000000000",
          "2024-07-16T00:00:00.000000000",
          "2024-07-17T00:00:00.000000000",
          "2024-07-18T00:00:00.000000000",
          "2024-07-19T00:00:00.000000000",
          "2024-07-22T00:00:00.000000000",
          "2024-07-23T00:00:00.000000000",
          "2024-07-24T00:00:00.000000000",
          "2024-07-25T00:00:00.000000000",
          "2024-07-26T00:00:00.000000000",
          "2024-07-29T00:00:00.000000000",
          "2024-07-30T00:00:00.000000000"
         ],
         "xaxis": "x4",
         "y": {
          "bdata": "AApQygmA6D8AeaO5EGfjPwDwMsn5oM4/ANIOLCEs0r8AgC5G+6XLvwDwpQ9WWau/ACJCzMun2b8AOGUcC13WvwD42hLfWMM/AEpGLKUi5T+AuMAHlgL0PwBg5SyuQfs/AEIQNUKn/z+ALtPIclMCQAAdSLJAyQJAAP5hVhNaAkAAHulBHh8CQMD++p+dCwFAgFhievQA/T8APaB2pw36PwChbhbc9vU/AC0UaTYD8j8AO9W4D1/tPwALEkSQg+I/AKZQIaoP0j8AlA9PN0nEPwBgMDDIR6k/ADiBPawh0L8AwUzVBeLmvwDoanuAYe2/AB6955aV778Au1gAnv/rvwAKMJN2v96/AGBzHuBgzL8AWNZJzxLKPwCyBkIhi+E/APuDPREd6T8AlrEqcfLmPwC4CmjejeQ/ANpkfVx34z8A1BhzAGfePwAnwUm0FeQ/AB0R9gRK7z8AfbNzPMDuPwDsba3B8e8/gLISzmmJ+T+Ai47+VxMDQEDC/k403QRAwEiI32GMCEAAu0oFK/EMQIAVUdM+hA5AwOwHy194EEDgFaqcZgERQAD1UiY7PxFAoIfgwR1iEUCAoITNFI8PQEC2v9crVAxAAI1NfH1YCEDA99jolCMFQABYIf5aRv4/AM7cKYdh7j8AKExdOUPDPwC8kLrmv+C/AI3F1eSZ578AMcIM33j1vwBB4ghEDv6/gDlf0ieHAMDAD37vchEBwICHesBtPwLA",
          "dtype": "f8"
         },
         "yaxis": "y4"
        },
        {
         "name": "Signal",
         "type": "scatter",
         "x": [
          "2024-04-22T00:00:00.000000000",
          "2024-04-23T00:00:00.000000000",
          "2024-04-24T00:00:00.000000000",
          "2024-04-25T00:00:00.000000000",
          "2024-04-26T00:00:00.000000000",
          "2024-04-29T00:00:00.000000000",
          "2024-04-30T00:00:00.000000000",
          "2024-05-01T00:00:00.000000000",
          "2024-05-02T00:00:00.000000000",
          "2024-05-03T00:00:00.000000000",
          "2024-05-06T00:00:00.000000000",
          "2024-05-07T00:00:00.000000000",
          "2024-05-08T00:00:00.000000000",
          "2024-05-09T00:00:00.000000000",
          "2024-05-10T00:00:00.000000000",
          "2024-05-13T00:00:00.000000000",
          "2024-05-14T00:00:00.000000000",
          "2024-05-15T00:00:00.000000000",
          "2024-05-16T00:00:00.000000000",
          "2024-05-17T00:00:00.000000000",
          "2024-05-20T00:00:00.000000000",
          "2024-05-21T00:00:00.000000000",
          "2024-05-22T00:00:00.000000000",
          "2024-05-23T00:00:00.000000000",
          "2024-05-24T00:00:00.000000000",
          "2024-05-28T00:00:00.000000000",
          "2024-05-29T00:00:00.000000000",
          "2024-05-30T00:00:00.000000000",
          "2024-05-31T00:00:00.000000000",
          "2024-06-03T00:00:00.000000000",
          "2024-06-04T00:00:00.000000000",
          "2024-06-05T00:00:00.000000000",
          "2024-06-06T00:00:00.000000000",
          "2024-06-07T00:00:00.000000000",
          "2024-06-10T00:00:00.000000000",
          "2024-06-11T00:00:00.000000000",
          "2024-06-12T00:00:00.000000000",
          "2024-06-13T00:00:00.000000000",
          "2024-06-14T00:00:00.000000000",
          "2024-06-17T00:00:00.000000000",
          "2024-06-18T00:00:00.000000000",
          "2024-06-20T00:00:00.000000000",
          "2024-06-21T00:00:00.000000000",
          "2024-06-24T00:00:00.000000000",
          "2024-06-25T00:00:00.000000000",
          "2024-06-26T00:00:00.000000000",
          "2024-06-27T00:00:00.000000000",
          "2024-06-28T00:00:00.000000000",
          "2024-07-01T00:00:00.000000000",
          "2024-07-02T00:00:00.000000000",
          "2024-07-03T00:00:00.000000000",
          "2024-07-05T00:00:00.000000000",
          "2024-07-08T00:00:00.000000000",
          "2024-07-09T00:00:00.000000000",
          "2024-07-10T00:00:00.000000000",
          "2024-07-11T00:00:00.000000000",
          "2024-07-12T00:00:00.000000000",
          "2024-07-15T00:00:00.000000000",
          "2024-07-16T00:00:00.000000000",
          "2024-07-17T00:00:00.000000000",
          "2024-07-18T00:00:00.000000000",
          "2024-07-19T00:00:00.000000000",
          "2024-07-22T00:00:00.000000000",
          "2024-07-23T00:00:00.000000000",
          "2024-07-24T00:00:00.000000000",
          "2024-07-25T00:00:00.000000000",
          "2024-07-26T00:00:00.000000000",
          "2024-07-29T00:00:00.000000000",
          "2024-07-30T00:00:00.000000000"
         ],
         "xaxis": "x4",
         "y": {
          "bdata": "H03DgBvnAEBL1MgTFPz8PwkjdU4W9Pc/VV7DLxBB8j/udumIANPrP1l/VY3i6uU/KfjhUtvv3T+I7gajE3rTP22kTgQmhNE/8m3BrpN31j8u3ABJqv3gP74J9uXNfug/s6plM/kg8D/CNAwTwjv0PzWcJvCBs/c/xRVGfDxN+j/Rg8h9PEr8P44COD48c/0/8kYNF2Fc/T/1RMTDCLP8P/jwfwczWvs/YGNqgQB8+T80op2TG1P3P92CGbDXgvQ/mArydNtP8T/APnflobbsPwHNLDhnSec/AbhjwCcE4T8Cpk2roxLSP0BzNIqvpaU/wM2MaiLwxL9N0FvEGZPTv9jbH1Qsz9W/4J++rAZJ1L8z7tI44T3Lvz5aWq/MCK+/HAevgpbEuz/Yejoj/XbNP7166GrxAdQ/ZLlIIebK1z8dJT/LUR3ZP+TGfyYjINw/wrtpDQ+C4T9o4t4hGCjkP+19+3Cgg+Y/WN8D4N057D+9KtQlr+vyP34Jdtdte/c/GYsubOWa/D8+kCH5/ToBQOWqxCQ+4wNA0U1tO4t/BkA0epvU/swIQJGQnexJvQpAGt3XCkdYDEDJnS2Y1vwMQK6iF9ga2wxAjNGIki70C0DKcjIKQ5cKQAhLxVTYTAhAU0ZPbI31BECPxTYOFQIBQOXC4tC9ifk/a6ch+AAS8j94K+iH21LkPxojsKRR8sA/XLQedYWq07++VKQhXoXlv2XjSxuj0O+/",
          "dtype": "f8"
         },
         "yaxis": "y4"
        },
        {
         "name": "MACD Diff",
         "type": "bar",
         "x": [
          "2024-04-22T00:00:00.000000000",
          "2024-04-23T00:00:00.000000000",
          "2024-04-24T00:00:00.000000000",
          "2024-04-25T00:00:00.000000000",
          "2024-04-26T00:00:00.000000000",
          "2024-04-29T00:00:00.000000000",
          "2024-04-30T00:00:00.000000000",
          "2024-05-01T00:00:00.000000000",
          "2024-05-02T00:00:00.000000000",
          "2024-05-03T00:00:00.000000000",
          "2024-05-06T00:00:00.000000000",
          "2024-05-07T00:00:00.000000000",
          "2024-05-08T00:00:00.000000000",
          "2024-05-09T00:00:00.000000000",
          "2024-05-10T00:00:00.000000000",
          "2024-05-13T00:00:00.000000000",
          "2024-05-14T00:00:00.000000000",
          "2024-05-15T00:00:00.000000000",
          "2024-05-16T00:00:00.000000000",
          "2024-05-17T00:00:00.000000000",
          "2024-05-20T00:00:00.000000000",
          "2024-05-21T00:00:00.000000000",
          "2024-05-22T00:00:00.000000000",
          "2024-05-23T00:00:00.000000000",
          "2024-05-24T00:00:00.000000000",
          "2024-05-28T00:00:00.000000000",
          "2024-05-29T00:00:00.000000000",
          "2024-05-30T00:00:00.000000000",
          "2024-05-31T00:00:00.000000000",
          "2024-06-03T00:00:00.000000000",
          "2024-06-04T00:00:00.000000000",
          "2024-06-05T00:00:00.000000000",
          "2024-06-06T00:00:00.000000000",
          "2024-06-07T00:00:00.000000000",
          "2024-06-10T00:00:00.000000000",
          "2024-06-11T00:00:00.000000000",
          "2024-06-12T00:00:00.000000000",
          "2024-06-13T00:00:00.000000000",
          "2024-06-14T00:00:00.000000000",
          "2024-06-17T00:00:00.000000000",
          "2024-06-18T00:00:00.000000000",
          "2024-06-20T00:00:00.000000000",
          "2024-06-21T00:00:00.000000000",
          "2024-06-24T00:00:00.000000000",
          "2024-06-25T00:00:00.000000000",
          "2024-06-26T00:00:00.000000000",
          "2024-06-27T00:00:00.000000000",
          "2024-06-28T00:00:00.000000000",
          "2024-07-01T00:00:00.000000000",
          "2024-07-02T00:00:00.000000000",
          "2024-07-03T00:00:00.000000000",
          "2024-07-05T00:00:00.000000000",
          "2024-07-08T00:00:00.000000000",
          "2024-07-09T00:00:00.000000000",
          "2024-07-10T00:00:00.000000000",
          "2024-07-11T00:00:00.000000000",
          "2024-07-12T00:00:00.000000000",
          "2024-07-15T00:00:00.000000000",
          "2024-07-16T00:00:00.000000000",
          "2024-07-17T00:00:00.000000000",
          "2024-07-18T00:00:00.000000000",
          "2024-07-19T00:00:00.000000000",
          "2024-07-22T00:00:00.000000000",
          "2024-07-23T00:00:00.000000000",
          "2024-07-24T00:00:00.000000000",
          "2024-07-25T00:00:00.000000000",
          "2024-07-26T00:00:00.000000000",
          "2024-07-29T00:00:00.000000000",
          "2024-07-30T00:00:00.000000000"
         ],
         "xaxis": "x4",
         "y": {
          "bdata": "PpVeHDKO9b/LF/e2i0jzvwnFThX3H/S/1RLHehjM9r93izqtP17xv1neT+53oOe/FA2Sj9PL679EE7Zfj+vkv7ShhOvZXr+/DibLqbbN0z/SlIDGgQfnP0K21HOOBO4/mi5VA5IM7z8+KJp+I2vwP5Y70+j+ves/dsz7YNTN5D+84CYYANDfP8jr9wb8j9I/gJy7Kifblr+oPyBpCivFv+A/RcRbjdW/gNlYYSjj3b9oCWZuJ0fhv7r6IBwfgua/MMI72eGX6b/AWbMRVKTnvwHHKbXqtOW/AVQk3/0U6b8BlPOqV+vvvzQvDnTbu+6/kOoZTY5Z6r/a0ioeETbiv1BcIH6U4MG/gL8TdlpiuD8ao1RBWKjaP6RX/Ayue+M/HBoubX6k5T+U7sXDYynfP0P1LGXLGdU/OPUBs6VHzj+Mu2afuia1PzgOBdqKFsg/fMJO0euP2z8wNamjSDDVPybc5HhC3NI/qIUhvPXY5j9D7EjXADvzPwJ7h8b6PvI/ZwbiUt599D+EVVIYWmz3PzbVGF0BQvU/XhdFtWji9D8YY3HJnGvyP7xlIYCxBO8/mMik49Gv6T+4Fbiq8ZHUP8CN/Qrg3bC/YCTasYjd3L8o7GWFuM7lvxA+aatVU/K/piWwQ1e6+r8eBsTwwpv/v3KQFZfY9ADA620EY/Pe/b+8RrbQTKL/v7IivB5HFgDA6cV2R64j/L8h9SnONmD3v04dT/OJlvS/",
          "dtype": "f8"
         },
         "yaxis": "y4"
        }
       ],
       "layout": {
        "height": 1000,
        "shapes": [
         {
          "line": {
           "color": "red",
           "dash": "dash"
          },
          "type": "line",
          "x0": 0,
          "x1": 1,
          "xref": "x3 domain",
          "y0": 70,
          "y1": 70,
          "yref": "y3"
         },
         {
          "line": {
           "color": "green",
           "dash": "dash"
          },
          "type": "line",
          "x0": 0,
          "x1": 1,
          "xref": "x3 domain",
          "y0": 30,
          "y1": 30,
          "yref": "y3"
         }
        ],
        "template": {
         "data": {
          "bar": [
           {
            "error_x": {
             "color": "#2a3f5f"
            },
            "error_y": {
             "color": "#2a3f5f"
            },
            "marker": {
             "line": {
              "color": "#E5ECF6",
              "width": 0.5
             },
             "pattern": {
              "fillmode": "overlay",
              "size": 10,
              "solidity": 0.2
             }
            },
            "type": "bar"
           }
          ],
          "barpolar": [
           {
            "marker": {
             "line": {
              "color": "#E5ECF6",
              "width": 0.5
             },
             "pattern": {
              "fillmode": "overlay",
              "size": 10,
              "solidity": 0.2
             }
            },
            "type": "barpolar"
           }
          ],
          "carpet": [
           {
            "aaxis": {
             "endlinecolor": "#2a3f5f",
             "gridcolor": "white",
             "linecolor": "white",
             "minorgridcolor": "white",
             "startlinecolor": "#2a3f5f"
            },
            "baxis": {
             "endlinecolor": "#2a3f5f",
             "gridcolor": "white",
             "linecolor": "white",
             "minorgridcolor": "white",
             "startlinecolor": "#2a3f5f"
            },
            "type": "carpet"
           }
          ],
          "choropleth": [
           {
            "colorbar": {
             "outlinewidth": 0,
             "ticks": ""
            },
            "type": "choropleth"
           }
          ],
          "contour": [
           {
            "colorbar": {
             "outlinewidth": 0,
             "ticks": ""
            },
            "colorscale": [
             [
              0,
              "#0d0887"
             ],
             [
              0.1111111111111111,
              "#46039f"
             ],
             [
              0.2222222222222222,
              "#7201a8"
             ],
             [
              0.3333333333333333,
              "#9c179e"
             ],
             [
              0.4444444444444444,
              "#bd3786"
             ],
             [
              0.5555555555555556,
              "#d8576b"
             ],
             [
              0.6666666666666666,
              "#ed7953"
             ],
             [
              0.7777777777777778,
              "#fb9f3a"
             ],
             [
              0.8888888888888888,
              "#fdca26"
             ],
             [
              1,
              "#f0f921"
             ]
            ],
            "type": "contour"
           }
          ],
          "contourcarpet": [
           {
            "colorbar": {
             "outlinewidth": 0,
             "ticks": ""
            },
            "type": "contourcarpet"
           }
          ],
          "heatmap": [
           {
            "colorbar": {
             "outlinewidth": 0,
             "ticks": ""
            },
            "colorscale": [
             [
              0,
              "#0d0887"
             ],
             [
              0.1111111111111111,
              "#46039f"
             ],
             [
              0.2222222222222222,
              "#7201a8"
             ],
             [
              0.3333333333333333,
              "#9c179e"
             ],
             [
              0.4444444444444444,
              "#bd3786"
             ],
             [
              0.5555555555555556,
              "#d8576b"
             ],
             [
              0.6666666666666666,
              "#ed7953"
             ],
             [
              0.7777777777777778,
              "#fb9f3a"
             ],
             [
              0.8888888888888888,
              "#fdca26"
             ],
             [
              1,
              "#f0f921"
             ]
            ],
            "type": "heatmap"
           }
          ],
          "histogram": [
           {
            "marker": {
             "pattern": {
              "fillmode": "overlay",
              "size": 10,
              "solidity": 0.2
             }
            },
            "type": "histogram"
           }
          ],
          "histogram2d": [
           {
            "colorbar": {
             "outlinewidth": 0,
             "ticks": ""
            },
            "colorscale": [
             [
              0,
              "#0d0887"
             ],
             [
              0.1111111111111111,
              "#46039f"
             ],
             [
              0.2222222222222222,
              "#7201a8"
             ],
             [
              0.3333333333333333,
              "#9c179e"
             ],
             [
              0.4444444444444444,
              "#bd3786"
             ],
             [
              0.5555555555555556,
              "#d8576b"
             ],
             [
              0.6666666666666666,
              "#ed7953"
             ],
             [
              0.7777777777777778,
              "#fb9f3a"
             ],
             [
              0.8888888888888888,
              "#fdca26"
             ],
             [
              1,
              "#f0f921"
             ]
            ],
            "type": "histogram2d"
           }
          ],
          "histogram2dcontour": [
           {
            "colorbar": {
             "outlinewidth": 0,
             "ticks": ""
            },
            "colorscale": [
             [
              0,
              "#0d0887"
             ],
             [
              0.1111111111111111,
              "#46039f"
             ],
             [
              0.2222222222222222,
              "#7201a8"
             ],
             [
              0.3333333333333333,
              "#9c179e"
             ],
             [
              0.4444444444444444,
              "#bd3786"
             ],
             [
              0.5555555555555556,
              "#d8576b"
             ],
             [
              0.6666666666666666,
              "#ed7953"
             ],
             [
              0.7777777777777778,
              "#fb9f3a"
             ],
             [
              0.8888888888888888,
              "#fdca26"
             ],
             [
              1,
              "#f0f921"
             ]
            ],
            "type": "histogram2dcontour"
           }
          ],
          "mesh3d": [
           {
            "colorbar": {
             "outlinewidth": 0,
             "ticks": ""
            },
            "type": "mesh3d"
           }
          ],
          "parcoords": [
           {
            "line": {
             "colorbar": {
              "outlinewidth": 0,
              "ticks": ""
             }
            },
            "type": "parcoords"
           }
          ],
          "pie": [
           {
            "automargin": true,
            "type": "pie"
           }
          ],
          "scatter": [
           {
            "fillpattern": {
             "fillmode": "overlay",
             "size": 10,
             "solidity": 0.2
            },
            "type": "scatter"
           }
          ],
          "scatter3d": [
           {
            "line": {
             "colorbar": {
              "outlinewidth": 0,
              "ticks": ""
             }
            },
            "marker": {
             "colorbar": {
              "outlinewidth": 0,
              "ticks": ""
             }
            },
            "type": "scatter3d"
           }
          ],
          "scattercarpet": [
           {
            "marker": {
             "colorbar": {
              "outlinewidth": 0,
              "ticks": ""
             }
            },
            "type": "scattercarpet"
           }
          ],
          "scattergeo": [
           {
            "marker": {
             "colorbar": {
              "outlinewidth": 0,
              "ticks": ""
             }
            },
            "type": "scattergeo"
           }
          ],
          "scattergl": [
           {
            "marker": {
             "colorbar": {
              "outlinewidth": 0,
              "ticks": ""
             }
            },
            "type": "scattergl"
           }
          ],
          "scattermap": [
           {
            "marker": {
             "colorbar": {
              "outlinewidth": 0,
              "ticks": ""
             }
            },
            "type": "scattermap"
           }
          ],
          "scattermapbox": [
           {
            "marker": {
             "colorbar": {
              "outlinewidth": 0,
              "ticks": ""
             }
            },
            "type": "scattermapbox"
           }
          ],
          "scatterpolar": [
           {
            "marker": {
             "colorbar": {
              "outlinewidth": 0,
              "ticks": ""
             }
            },
            "type": "scatterpolar"
           }
          ],
          "scatterpolargl": [
           {
            "marker": {
             "colorbar": {
              "outlinewidth": 0,
              "ticks": ""
             }
            },
            "type": "scatterpolargl"
           }
          ],
          "scatterternary": [
           {
            "marker": {
             "colorbar": {
              "outlinewidth": 0,
              "ticks": ""
             }
            },
            "type": "scatterternary"
           }
          ],
          "surface": [
           {
            "colorbar": {
             "outlinewidth": 0,
             "ticks": ""
            },
            "colorscale": [
             [
              0,
              "#0d0887"
             ],
             [
              0.1111111111111111,
              "#46039f"
             ],
             [
              0.2222222222222222,
              "#7201a8"
             ],
             [
              0.3333333333333333,
              "#9c179e"
             ],
             [
              0.4444444444444444,
              "#bd3786"
             ],
             [
              0.5555555555555556,
              "#d8576b"
             ],
             [
              0.6666666666666666,
              "#ed7953"
             ],
             [
              0.7777777777777778,
              "#fb9f3a"
             ],
             [
              0.8888888888888888,
              "#fdca26"
             ],
             [
              1,
              "#f0f921"
             ]
            ],
            "type": "surface"
           }
          ],
          "table": [
           {
            "cells": {
             "fill": {
              "color": "#EBF0F8"
             },
             "line": {
              "color": "white"
             }
            },
            "header": {
             "fill": {
              "color": "#C8D4E3"
             },
             "line": {
              "color": "white"
             }
            },
            "type": "table"
           }
          ]
         },
         "layout": {
          "annotationdefaults": {
           "arrowcolor": "#2a3f5f",
           "arrowhead": 0,
           "arrowwidth": 1
          },
          "autotypenumbers": "strict",
          "coloraxis": {
           "colorbar": {
            "outlinewidth": 0,
            "ticks": ""
           }
          },
          "colorscale": {
           "diverging": [
            [
             0,
             "#8e0152"
            ],
            [
             0.1,
             "#c51b7d"
            ],
            [
             0.2,
             "#de77ae"
            ],
            [
             0.3,
             "#f1b6da"
            ],
            [
             0.4,
             "#fde0ef"
            ],
            [
             0.5,
             "#f7f7f7"
            ],
            [
             0.6,
             "#e6f5d0"
            ],
            [
             0.7,
             "#b8e186"
            ],
            [
             0.8,
             "#7fbc41"
            ],
            [
             0.9,
             "#4d9221"
            ],
            [
             1,
             "#276419"
            ]
           ],
           "sequential": [
            [
             0,
             "#0d0887"
            ],
            [
             0.1111111111111111,
             "#46039f"
            ],
            [
             0.2222222222222222,
             "#7201a8"
            ],
            [
             0.3333333333333333,
             "#9c179e"
            ],
            [
             0.4444444444444444,
             "#bd3786"
            ],
            [
             0.5555555555555556,
             "#d8576b"
            ],
            [
             0.6666666666666666,
             "#ed7953"
            ],
            [
             0.7777777777777778,
             "#fb9f3a"
            ],
            [
             0.8888888888888888,
             "#fdca26"
            ],
            [
             1,
             "#f0f921"
            ]
           ],
           "sequentialminus": [
            [
             0,
             "#0d0887"
            ],
            [
             0.1111111111111111,
             "#46039f"
            ],
            [
             0.2222222222222222,
             "#7201a8"
            ],
            [
             0.3333333333333333,
             "#9c179e"
            ],
            [
             0.4444444444444444,
             "#bd3786"
            ],
            [
             0.5555555555555556,
             "#d8576b"
            ],
            [
             0.6666666666666666,
             "#ed7953"
            ],
            [
             0.7777777777777778,
             "#fb9f3a"
            ],
            [
             0.8888888888888888,
             "#fdca26"
            ],
            [
             1,
             "#f0f921"
            ]
           ]
          },
          "colorway": [
           "#636efa",
           "#EF553B",
           "#00cc96",
           "#ab63fa",
           "#FFA15A",
           "#19d3f3",
           "#FF6692",
           "#B6E880",
           "#FF97FF",
           "#FECB52"
          ],
          "font": {
           "color": "#2a3f5f"
          },
          "geo": {
           "bgcolor": "white",
           "lakecolor": "white",
           "landcolor": "#E5ECF6",
           "showlakes": true,
           "showland": true,
           "subunitcolor": "white"
          },
          "hoverlabel": {
           "align": "left"
          },
          "hovermode": "closest",
          "mapbox": {
           "style": "light"
          },
          "paper_bgcolor": "white",
          "plot_bgcolor": "#E5ECF6",
          "polar": {
           "angularaxis": {
            "gridcolor": "white",
            "linecolor": "white",
            "ticks": ""
           },
           "bgcolor": "#E5ECF6",
           "radialaxis": {
            "gridcolor": "white",
            "linecolor": "white",
            "ticks": ""
           }
          },
          "scene": {
           "xaxis": {
            "backgroundcolor": "#E5ECF6",
            "gridcolor": "white",
            "gridwidth": 2,
            "linecolor": "white",
            "showbackground": true,
            "ticks": "",
            "zerolinecolor": "white"
           },
           "yaxis": {
            "backgroundcolor": "#E5ECF6",
            "gridcolor": "white",
            "gridwidth": 2,
            "linecolor": "white",
            "showbackground": true,
            "ticks": "",
            "zerolinecolor": "white"
           },
           "zaxis": {
            "backgroundcolor": "#E5ECF6",
            "gridcolor": "white",
            "gridwidth": 2,
            "linecolor": "white",
            "showbackground": true,
            "ticks": "",
            "zerolinecolor": "white"
           }
          },
          "shapedefaults": {
           "line": {
            "color": "#2a3f5f"
           }
          },
          "ternary": {
           "aaxis": {
            "gridcolor": "white",
            "linecolor": "white",
            "ticks": ""
           },
           "baxis": {
            "gridcolor": "white",
            "linecolor": "white",
            "ticks": ""
           },
           "bgcolor": "#E5ECF6",
           "caxis": {
            "gridcolor": "white",
            "linecolor": "white",
            "ticks": ""
           }
          },
          "title": {
           "x": 0.05
          },
          "xaxis": {
           "automargin": true,
           "gridcolor": "white",
           "linecolor": "white",
           "ticks": "",
           "title": {
            "standoff": 15
           },
           "zerolinecolor": "white",
           "zerolinewidth": 2
          },
          "yaxis": {
           "automargin": true,
           "gridcolor": "white",
           "linecolor": "white",
           "ticks": "",
           "title": {
            "standoff": 15
           },
           "zerolinecolor": "white",
           "zerolinewidth": 2
          }
         }
        },
        "title": {
         "text": "Technical Analysis"
        },
        "xaxis": {
         "anchor": "y",
         "domain": [
          0,
          1
         ],
         "matches": "x4",
         "rangeslider": {
          "visible": false
         },
         "showticklabels": false
        },
        "xaxis2": {
         "anchor": "y2",
         "domain": [
          0,
          1
         ],
         "matches": "x4",
         "showticklabels": false
        },
        "xaxis3": {
         "anchor": "y3",
         "domain": [
          0,
          1
         ],
         "matches": "x4",
         "showticklabels": false
        },
        "xaxis4": {
         "anchor": "y4",
         "domain": [
          0,
          1
         ]
        },
        "yaxis": {
         "anchor": "x",
         "domain": [
          0.66,
          1
         ],
         "title": {
          "text": "Price"
         }
        },
        "yaxis2": {
         "anchor": "x2",
         "domain": [
          0.44000000000000006,
          0.6100000000000001
         ],
         "title": {
          "text": "Volume"
         }
        },
        "yaxis3": {
         "anchor": "x3",
         "domain": [
          0.22000000000000003,
          0.39
         ],
         "title": {
          "text": "RSI"
         }
        },
        "yaxis4": {
         "anchor": "x4",
         "domain": [
          0,
          0.17
         ],
         "title": {
          "text": "MACD"
         }
        }
       }
      }
     },
     "metadata": {},
     "output_type": "display_data"
    },
    {
     "name": "stdout",
     "output_type": "stream",
     "text": [
      "\n",
      "Generating technical analysis plot for GOOG...\n"
     ]
    },
    {
     "data": {
      "application/vnd.plotly.v1+json": {
       "config": {
        "plotlyServerURL": "https://plot.ly"
       },
       "data": [
        {
         "close": {
          "bdata": "AAAAYGa+Y0AAAACgcP1jQAAAAEAzI2RAAAAAYGa+Y0AAAACAFLZlQAAAAMDM/GRAAAAA4HqUZEAAAACAPbJkQAAAAGC4DmVAAAAAIK4fZUAAAABgjzplQAAAACBcn2VAAAAAwB5lZUAAAABgj3JlQAAAAKBHSWVAAAAAwMxcZUAAAACAwn1lQAAAAAApvGVAAAAAgMLtZUAAAACgRylmQAAAAGC4TmZAAAAAoEdxZkAAAAAAAEBmQAAAAIDr4WVAAAAAYI8KZkAAAADgo0BmQAAAAMDMLGZAAAAAgOuxZUAAAABguL5lQAAAAKBwzWVAAAAAACnkZUAAAACAPSJmQAAAAEAzS2ZAAAAAYGb+ZUAAAAAAKRRmQAAAAIAURmZAAAAAgOtxZkAAAAAgrhdmQAAAAADXS2ZAAAAAwPVYZkAAAABgZg5mQAAAAGC4NmZAAQAA4FGIZkAAAACgR5lmQAAAAGCPMmdAAAAAANcrZ0ABAAAghVtnQAAAAKBw7WZAAQAAIK4PZ0ABAAAghVNnQAAAAOB6bGdAAAAAYLj+Z0D///8fXM9nQAAAAIAUzmdA////vx4VaEAAAACgmWlnQAAAAMD1WGdAAAAAgBSGZ0AAAAAAADBnQAAAAADX02ZAAAAAQApnZkAAAADgemxmQP///z8z62ZA////PzPzZkAAAAAA18tlQAAAAMAeJWVAAAAAgMIVZUAAAAAAKWRlQAAAACCFe2VA",
          "dtype": "f8"
         },
         "high": {
          "bdata": "AAAAgOvlY0AAAAAgXA9kQAAAAOB6LGRAAAAAwPXIY0AAAACgcA1mQAAAAAApbGVAAAAAANc7ZUAAAACA6xllQAAAAMD1EGVAAAAAQDM7ZUAAAADAzDxlQAAAAEAKr2VAAAAAgBZ9ZUAAAACAFI5lQAAAAEDhamVAAAAAYGZeZUAAAADA9ZhlQAAAAOB4wWVAAAAAQOEKZkAAAAAA1y9mQAAAAGBmfmZAAAAAgD16ZkAAAACgQ1tmQAAAAMAefWZAAAAAYLopZkAAAADgUVBmQAAAACBcR2ZAAAAAgBQWZkAAAACgcM1lQAAAACCF+2VAAAAAgBTmZUAAAABACj9mQAAAAGC4VmZAAAAAoHBtZkAAAABACk9mQAAAAOB6TGZAAAAAYI/CZkAAAADgUVBmQAAAACBcV2ZAAAAAoHB9ZkAAAADAHl1mQAAAACCuV2ZAAAAAQGLQZkAAAABgj8JmQAAAAAAAOGdAAAAAgMI9Z0AAAAAAAHBnQAAAAGCPUmdAAQAAQOEqZ0AAAABgZl5nQAAAAADXc2dAAQAA4FEIaEAAAABguvVnQAEAACCFG2hA////f+spaED///+/Hg1oQAAAAIAUlmdAAQAAwMy8Z0ABAABA4cpnQP///x9cJ2dAAAAAoJkBZ0AAAABACr9mQAAAAKCZCWdAAAAAQAonZ0AAAABgZj5mQAAAAGBm5mVAAAAAQOE6ZUAAAADAHoVlQAAAAGBmnmVA",
          "dtype": "f8"
         },
         "low": {
          "bdata": "AAAAwB51Y0AAAABA4b5jQAAAAIA92mNAAAAAgJMYY0AAAADAzGxlQAAAAIDr4WRAAAAAAACQZEAAAADAzJxkQAAAAIAUtmRAAAAAIFyfZEAAAADgevxkQAAAAAAAQGVAAAAAQLRQZUAAAACAwj1lQAAAAMAe/WRAAAAA4FG4ZEAAAACgcE1lQAAAAMD1gGVAAAAAoJnBZUAAAAAgXN9lQAAAAEAzJ2ZAAAAAgOspZkAAAADA9RhmQAAAAKBH0WVAAAAAYGbmZUAAAACAwvVlQAAAAOBRCGZAAAAAIFynZUAAAABACl9lQAAAAGBmjmVAAAAAQAqnZUAAAACgR+llQAAAAGC4JmZAAAAAoEf5ZUAAAAAAKcxlQAAAAIAU7mVAAAAAwPU4ZkAAAADAHhVmQAAAAKBD+2VAAAAAIK4PZkAAAAAA1/NlQAAAAGC4DmZAAAAAgOtBZkD///8fXIdmQP///x9co2ZAAQAAIK7/ZkAAAABgZi5nQAAAAGBm6mZA////H1zXZkD///9/6+FmQAEAAOBRLGdAAAAAgD1qZ0AAAACAPapnQP///x9cx2dAAAAAANfTZ0AAAACAPVpnQAAAAOB6RGdAAQAAIK5PZ0AAAAAA1yNnQAAAAADXs2ZAAAAAYLhGZkAAAAAghVtmQAEAAMDMvGZAAAAAYI/qZkAAAACAPbJlQAAAAKCZIWVAAAAAIK67ZEAAAABACjdlQAAAAADXQ2VA",
          "dtype": "f8"
         },
         "name": "OHLC",
         "open": {
          "bdata": "AAAA4FGAY0AAAABA4dJjQAAAAEDh4mNAAAAAIIUrY0AAAAAgrv9lQAAAAOCjWGVAAAAAACnsZEAAAACAwsVkQAAAAKBw1WRAAAAAoEcxZUAAAABACidlQAAAAADXQ2VAAAAAAABYZUAAAADAzGRlQAAAAIAUNmVAAAAAoBq7ZEAAAABA4XJlQAAAAKCZiWVAAAAAQDPTZUAAAACgmfFlQAAAAIDrKWZAAAAAwMxMZkAAAADAzExmQAAAAMD1WGZAAAAA4KMQZkAAAAAgrvdlQAAAAIDrGWZAAAAAgBQWZkAAAADAzKxlQAAAAAApvGVAAAAAYGbOZUAAAADAHhFmQAAAAIDCLWZAAAAAYLhOZkAAAABgZg5mQAAAAEAKN2ZAAAAAAAB4ZkAAAABA4TpmQAAAAKBD+2VAAAAAIFwfZkAAAACgR1lmQAAAAGC4FmZAAAAAIK5PZkAAAADA9ahmQP///9+jpGZAAAAAYGYGZ0D////fozRnQAAAAEAKN2dA////H1wPZ0AAAABACu9mQAAAAKCZSWdAAAAAgD1qZ0ABAAAgrutnQAAAAAAA+GdAAAAAAADYZ0ABAABA4epnQAAAAKBwXWdAAQAAIK5PZ0AAAABguJ5nQAAAAIDCFWdAAAAAoEfxZkAAAAAA14tmQP///z8zy2ZAAQAAQOH6ZkAAAADgeuxlQAAAAAAAyGVAAAAA4KMYZUAAAAAAAFBlQAAAAGCPemVA",
          "dtype": "f8"
         },
         "type": "candlestick",
         "x": [
          "2024-04-22T00:00:00.000000000",
          "2024-04-23T00:00:00.000000000",
          "2024-04-24T00:00:00.000000000",
          "2024-04-25T00:00:00.000000000",
          "2024-04-26T00:00:00.000000000",
          "2024-04-29T00:00:00.000000000",
          "2024-04-30T00:00:00.000000000",
          "2024-05-01T00:00:00.000000000",
          "2024-05-02T00:00:00.000000000",
          "2024-05-03T00:00:00.000000000",
          "2024-05-06T00:00:00.000000000",
          "2024-05-07T00:00:00.000000000",
          "2024-05-08T00:00:00.000000000",
          "2024-05-09T00:00:00.000000000",
          "2024-05-10T00:00:00.000000000",
          "2024-05-13T00:00:00.000000000",
          "2024-05-14T00:00:00.000000000",
          "2024-05-15T00:00:00.000000000",
          "2024-05-16T00:00:00.000000000",
          "2024-05-17T00:00:00.000000000",
          "2024-05-20T00:00:00.000000000",
          "2024-05-21T00:00:00.000000000",
          "2024-05-22T00:00:00.000000000",
          "2024-05-23T00:00:00.000000000",
          "2024-05-24T00:00:00.000000000",
          "2024-05-28T00:00:00.000000000",
          "2024-05-29T00:00:00.000000000",
          "2024-05-30T00:00:00.000000000",
          "2024-05-31T00:00:00.000000000",
          "2024-06-03T00:00:00.000000000",
          "2024-06-04T00:00:00.000000000",
          "2024-06-05T00:00:00.000000000",
          "2024-06-06T00:00:00.000000000",
          "2024-06-07T00:00:00.000000000",
          "2024-06-10T00:00:00.000000000",
          "2024-06-11T00:00:00.000000000",
          "2024-06-12T00:00:00.000000000",
          "2024-06-13T00:00:00.000000000",
          "2024-06-14T00:00:00.000000000",
          "2024-06-17T00:00:00.000000000",
          "2024-06-18T00:00:00.000000000",
          "2024-06-20T00:00:00.000000000",
          "2024-06-21T00:00:00.000000000",
          "2024-06-24T00:00:00.000000000",
          "2024-06-25T00:00:00.000000000",
          "2024-06-26T00:00:00.000000000",
          "2024-06-27T00:00:00.000000000",
          "2024-06-28T00:00:00.000000000",
          "2024-07-01T00:00:00.000000000",
          "2024-07-02T00:00:00.000000000",
          "2024-07-03T00:00:00.000000000",
          "2024-07-05T00:00:00.000000000",
          "2024-07-08T00:00:00.000000000",
          "2024-07-09T00:00:00.000000000",
          "2024-07-10T00:00:00.000000000",
          "2024-07-11T00:00:00.000000000",
          "2024-07-12T00:00:00.000000000",
          "2024-07-15T00:00:00.000000000",
          "2024-07-16T00:00:00.000000000",
          "2024-07-17T00:00:00.000000000",
          "2024-07-18T00:00:00.000000000",
          "2024-07-19T00:00:00.000000000",
          "2024-07-22T00:00:00.000000000",
          "2024-07-23T00:00:00.000000000",
          "2024-07-24T00:00:00.000000000",
          "2024-07-25T00:00:00.000000000",
          "2024-07-26T00:00:00.000000000",
          "2024-07-29T00:00:00.000000000",
          "2024-07-30T00:00:00.000000000"
         ],
         "xaxis": "x",
         "yaxis": "y"
        },
        {
         "line": {
          "color": "blue"
         },
         "name": "SMA 20",
         "type": "scatter",
         "x": [
          "2024-04-22T00:00:00.000000000",
          "2024-04-23T00:00:00.000000000",
          "2024-04-24T00:00:00.000000000",
          "2024-04-25T00:00:00.000000000",
          "2024-04-26T00:00:00.000000000",
          "2024-04-29T00:00:00.000000000",
          "2024-04-30T00:00:00.000000000",
          "2024-05-01T00:00:00.000000000",
          "2024-05-02T00:00:00.000000000",
          "2024-05-03T00:00:00.000000000",
          "2024-05-06T00:00:00.000000000",
          "2024-05-07T00:00:00.000000000",
          "2024-05-08T00:00:00.000000000",
          "2024-05-09T00:00:00.000000000",
          "2024-05-10T00:00:00.000000000",
          "2024-05-13T00:00:00.000000000",
          "2024-05-14T00:00:00.000000000",
          "2024-05-15T00:00:00.000000000",
          "2024-05-16T00:00:00.000000000",
          "2024-05-17T00:00:00.000000000",
          "2024-05-20T00:00:00.000000000",
          "2024-05-21T00:00:00.000000000",
          "2024-05-22T00:00:00.000000000",
          "2024-05-23T00:00:00.000000000",
          "2024-05-24T00:00:00.000000000",
          "2024-05-28T00:00:00.000000000",
          "2024-05-29T00:00:00.000000000",
          "2024-05-30T00:00:00.000000000",
          "2024-05-31T00:00:00.000000000",
          "2024-06-03T00:00:00.000000000",
          "2024-06-04T00:00:00.000000000",
          "2024-06-05T00:00:00.000000000",
          "2024-06-06T00:00:00.000000000",
          "2024-06-07T00:00:00.000000000",
          "2024-06-10T00:00:00.000000000",
          "2024-06-11T00:00:00.000000000",
          "2024-06-12T00:00:00.000000000",
          "2024-06-13T00:00:00.000000000",
          "2024-06-14T00:00:00.000000000",
          "2024-06-17T00:00:00.000000000",
          "2024-06-18T00:00:00.000000000",
          "2024-06-20T00:00:00.000000000",
          "2024-06-21T00:00:00.000000000",
          "2024-06-24T00:00:00.000000000",
          "2024-06-25T00:00:00.000000000",
          "2024-06-26T00:00:00.000000000",
          "2024-06-27T00:00:00.000000000",
          "2024-06-28T00:00:00.000000000",
          "2024-07-01T00:00:00.000000000",
          "2024-07-02T00:00:00.000000000",
          "2024-07-03T00:00:00.000000000",
          "2024-07-05T00:00:00.000000000",
          "2024-07-08T00:00:00.000000000",
          "2024-07-09T00:00:00.000000000",
          "2024-07-10T00:00:00.000000000",
          "2024-07-11T00:00:00.000000000",
          "2024-07-12T00:00:00.000000000",
          "2024-07-15T00:00:00.000000000",
          "2024-07-16T00:00:00.000000000",
          "2024-07-17T00:00:00.000000000",
          "2024-07-18T00:00:00.000000000",
          "2024-07-19T00:00:00.000000000",
          "2024-07-22T00:00:00.000000000",
          "2024-07-23T00:00:00.000000000",
          "2024-07-24T00:00:00.000000000",
          "2024-07-25T00:00:00.000000000",
          "2024-07-26T00:00:00.000000000",
          "2024-07-29T00:00:00.000000000",
          "2024-07-30T00:00:00.000000000"
         ],
         "xaxis": "x",
         "y": {
          "bdata": "mpmZuUl2Y0AzMzPrUYRjQJqZmSlck2NAMzMz2/mcY0BmZmaWQ79jQGZmZgaB0WNAAAAAOInfY0AzMzOLQe5jQDMzMyOwCGRAZmZmnsQgZEAzMzMLrDZkQJqZmYFqTmRAMzMzGwRkZECamZmxR3VkQAAAAEAKh2RAZmZmHlqeZEAzMzML17dkQGZmZj4K02RAAAAAwMrvZECamZnRTRJlQAAAALgeM2VAmpmZEYNSZUBmZmZOjW1lQAAAAJDtiGVAAAAA6CaNZUAAAAAQWJ1lQGZmZo7CsWVAmpmZQYu+ZUBmZmYOWMdlQGZmZi4I0GVAAAAAEIPYZUDNzMxUDt9lQDMzM1uP6mVAZmZmTo3xZUDNzMwssvtlQJqZmSlcB2ZAmpmZaZETZkBmZmbeJBhmQAAAABjZHGZAZmZmZjsfZkCamZkZBBxmQJqZmYkWGWZAMzMzO7QcZkDNzMw83yVmQJqZmQmsNGZAAAAAmG5AZkCamZlpkU9mQJqZmRFYX2ZAAAAAKDFwZkBmZmYusoNmQAAAAOBPl2ZAmpmZ0SKvZkAzMzNDi8JmQGZmZl662WZAmpmZQWDzZkBmZma28wFnQGZmZgaBDWdAmpmZ8dIfZ0DNzMxkOytnQJqZmUFgMWdAmpmZ2c41Z0CamZn5fjhnQM3MzKRwPWdAAAAAoO9BZ0CamZkBADBnQM3MzGQQFmdAzczM3Pn4ZkCamZnhT+VmQJqZmaEa0WZA",
          "dtype": "f8"
         },
         "yaxis": "y"
        },
        {
         "line": {
          "color": "orange"
         },
         "name": "SMA 50",
         "type": "scatter",
         "x": [
          "2024-04-22T00:00:00.000000000",
          "2024-04-23T00:00:00.000000000",
          "2024-04-24T00:00:00.000000000",
          "2024-04-25T00:00:00.000000000",
          "2024-04-26T00:00:00.000000000",
          "2024-04-29T00:00:00.000000000",
          "2024-04-30T00:00:00.000000000",
          "2024-05-01T00:00:00.000000000",
          "2024-05-02T00:00:00.000000000",
          "2024-05-03T00:00:00.000000000",
          "2024-05-06T00:00:00.000000000",
          "2024-05-07T00:00:00.000000000",
          "2024-05-08T00:00:00.000000000",
          "2024-05-09T00:00:00.000000000",
          "2024-05-10T00:00:00.000000000",
          "2024-05-13T00:00:00.000000000",
          "2024-05-14T00:00:00.000000000",
          "2024-05-15T00:00:00.000000000",
          "2024-05-16T00:00:00.000000000",
          "2024-05-17T00:00:00.000000000",
          "2024-05-20T00:00:00.000000000",
          "2024-05-21T00:00:00.000000000",
          "2024-05-22T00:00:00.000000000",
          "2024-05-23T00:00:00.000000000",
          "2024-05-24T00:00:00.000000000",
          "2024-05-28T00:00:00.000000000",
          "2024-05-29T00:00:00.000000000",
          "2024-05-30T00:00:00.000000000",
          "2024-05-31T00:00:00.000000000",
          "2024-06-03T00:00:00.000000000",
          "2024-06-04T00:00:00.000000000",
          "2024-06-05T00:00:00.000000000",
          "2024-06-06T00:00:00.000000000",
          "2024-06-07T00:00:00.000000000",
          "2024-06-10T00:00:00.000000000",
          "2024-06-11T00:00:00.000000000",
          "2024-06-12T00:00:00.000000000",
          "2024-06-13T00:00:00.000000000",
          "2024-06-14T00:00:00.000000000",
          "2024-06-17T00:00:00.000000000",
          "2024-06-18T00:00:00.000000000",
          "2024-06-20T00:00:00.000000000",
          "2024-06-21T00:00:00.000000000",
          "2024-06-24T00:00:00.000000000",
          "2024-06-25T00:00:00.000000000",
          "2024-06-26T00:00:00.000000000",
          "2024-06-27T00:00:00.000000000",
          "2024-06-28T00:00:00.000000000",
          "2024-07-01T00:00:00.000000000",
          "2024-07-02T00:00:00.000000000",
          "2024-07-03T00:00:00.000000000",
          "2024-07-05T00:00:00.000000000",
          "2024-07-08T00:00:00.000000000",
          "2024-07-09T00:00:00.000000000",
          "2024-07-10T00:00:00.000000000",
          "2024-07-11T00:00:00.000000000",
          "2024-07-12T00:00:00.000000000",
          "2024-07-15T00:00:00.000000000",
          "2024-07-16T00:00:00.000000000",
          "2024-07-17T00:00:00.000000000",
          "2024-07-18T00:00:00.000000000",
          "2024-07-19T00:00:00.000000000",
          "2024-07-22T00:00:00.000000000",
          "2024-07-23T00:00:00.000000000",
          "2024-07-24T00:00:00.000000000",
          "2024-07-25T00:00:00.000000000",
          "2024-07-26T00:00:00.000000000",
          "2024-07-29T00:00:00.000000000",
          "2024-07-30T00:00:00.000000000"
         ],
         "xaxis": "x",
         "y": {
          "bdata": "UrgeVex3YkBI4XqUIX5iQIXrUUgMhmJAzczMjHWNYkAK16OAc55iQLgehRvJrWJASOF6xG28YkBcj8K1YstiQD0K13Mk22JAuB6Fi0rqYkDhehQu//liQMP1KGznD2NArkfhSsgjY0DhehRuozljQAAAADAqTWNApHA9aitiY0CPwvUYUXpjQFK4HhX7k2NAcT0K52qvY0D2KFxfVMpjQB+F64FR5WNAj8L1aE3/Y0BxPQqX3RdkQJqZmanPLWRAexSu50hCZEAfheuROllkQClcj9K8a2RA4XoUriV8ZEB7FK63r4tkQArXoyAfnGRA4XoUbhKrZECkcD0qqbtkQArXo4C3zGRAzczMTBXcZEBSuB4VrutkQFyPwsWP+WRASOF6JLkIZUAK16OQwhVlQK5H4dqsJmVAPQrXo5I2ZUCuR+E6kkNlQEjhepQYUGVAzczMXI9eZUCamZkpXGtlQGZmZuY/fGVAAAAA0NWOZUCkcD3qlaJlQKRwPTqSs2VAKVyP0t7EZUBxPQrXo9hlQKRwPUp762VAmpmZufz/ZUB7FK5XyhJmQBSuR4GVJ2ZAzczMjLkzZkDD9SgMJEBmQHE9CndPTmZAZmZmhslcZkC4HoVbsWdmQOxRuH5qcGZAPQrX82x2ZkCuR+Eqh3pmQArXo2BUgmZAw/UovAWKZkA9CtczooxmQPYoXB+Fi2ZASOF6pHCJZkBSuB4VrodmQM3MzCxlhWZA",
          "dtype": "f8"
         },
         "yaxis": "y"
        },
        {
         "line": {
          "color": "red"
         },
         "name": "SMA 200",
         "type": "scatter",
         "x": [
          "2024-04-22T00:00:00.000000000",
          "2024-04-23T00:00:00.000000000",
          "2024-04-24T00:00:00.000000000",
          "2024-04-25T00:00:00.000000000",
          "2024-04-26T00:00:00.000000000",
          "2024-04-29T00:00:00.000000000",
          "2024-04-30T00:00:00.000000000",
          "2024-05-01T00:00:00.000000000",
          "2024-05-02T00:00:00.000000000",
          "2024-05-03T00:00:00.000000000",
          "2024-05-06T00:00:00.000000000",
          "2024-05-07T00:00:00.000000000",
          "2024-05-08T00:00:00.000000000",
          "2024-05-09T00:00:00.000000000",
          "2024-05-10T00:00:00.000000000",
          "2024-05-13T00:00:00.000000000",
          "2024-05-14T00:00:00.000000000",
          "2024-05-15T00:00:00.000000000",
          "2024-05-16T00:00:00.000000000",
          "2024-05-17T00:00:00.000000000",
          "2024-05-20T00:00:00.000000000",
          "2024-05-21T00:00:00.000000000",
          "2024-05-22T00:00:00.000000000",
          "2024-05-23T00:00:00.000000000",
          "2024-05-24T00:00:00.000000000",
          "2024-05-28T00:00:00.000000000",
          "2024-05-29T00:00:00.000000000",
          "2024-05-30T00:00:00.000000000",
          "2024-05-31T00:00:00.000000000",
          "2024-06-03T00:00:00.000000000",
          "2024-06-04T00:00:00.000000000",
          "2024-06-05T00:00:00.000000000",
          "2024-06-06T00:00:00.000000000",
          "2024-06-07T00:00:00.000000000",
          "2024-06-10T00:00:00.000000000",
          "2024-06-11T00:00:00.000000000",
          "2024-06-12T00:00:00.000000000",
          "2024-06-13T00:00:00.000000000",
          "2024-06-14T00:00:00.000000000",
          "2024-06-17T00:00:00.000000000",
          "2024-06-18T00:00:00.000000000",
          "2024-06-20T00:00:00.000000000",
          "2024-06-21T00:00:00.000000000",
          "2024-06-24T00:00:00.000000000",
          "2024-06-25T00:00:00.000000000",
          "2024-06-26T00:00:00.000000000",
          "2024-06-27T00:00:00.000000000",
          "2024-06-28T00:00:00.000000000",
          "2024-07-01T00:00:00.000000000",
          "2024-07-02T00:00:00.000000000",
          "2024-07-03T00:00:00.000000000",
          "2024-07-05T00:00:00.000000000",
          "2024-07-08T00:00:00.000000000",
          "2024-07-09T00:00:00.000000000",
          "2024-07-10T00:00:00.000000000",
          "2024-07-11T00:00:00.000000000",
          "2024-07-12T00:00:00.000000000",
          "2024-07-15T00:00:00.000000000",
          "2024-07-16T00:00:00.000000000",
          "2024-07-17T00:00:00.000000000",
          "2024-07-18T00:00:00.000000000",
          "2024-07-19T00:00:00.000000000",
          "2024-07-22T00:00:00.000000000",
          "2024-07-23T00:00:00.000000000",
          "2024-07-24T00:00:00.000000000",
          "2024-07-25T00:00:00.000000000",
          "2024-07-26T00:00:00.000000000",
          "2024-07-29T00:00:00.000000000",
          "2024-07-30T00:00:00.000000000"
         ],
         "xaxis": "x",
         "y": {
          "bdata": "SOF6zvdNYUAAAAAyVVRhQDMzM9toW2FAw/UoFtlhYUAzMzPLf2phQM3MzPBjcWFAhetR7J53YUApXI82Gn5hQArXowQ0hWFAexSux5iMYUDXo3ARpZRhQGZmZm4SnWFA7FG48PSkYUCPwvVgw6xhQBSuR5VDs2FAAAAALNS5YUBcj8JVDsBhQKRwPUaUxmFAw/UorIvNYUCF61FgVNVhQFyPwq1H3WFAuB6Fo3DlYUCamZlBz+xhQMP1KIy582FACtejFB37YUDNzMxgwwJiQDMzM+tRCmJAH4XrLf8QYkDNzMy4/BdiQClcj548H2JA16NwTWImYkCF61G0Ny5iQOxRuPIfNmJAH4XrwYY9YkCamZk9eURiQGZmZuYdTGJA16Nwne9TYkBI4XrEIFtiQFyPwiH9YWJArkfhTq9oYkAAAADY8G5iQEjheoR8dWJAMzMzU3R8YkBmZma6uINiQBSuR1Wfi2JAhetRYFSTYkDNzMxUMJtiQNejcMnDomJA9ihcf0iqYkAzMzMD57FiQFK4Hr3BuWJAZmZmnjzCYkA9CtczgMpiQJqZmdFv02JA7FG4qj7dYkCamZl5NuZiQI/C9Uzz7mJAKVyPSln4YkCPwvXE/gBjQFK4HuHpCGNAuB6FJ34QY0A9CtdnkRdjQMP1KHSTH2NAMzMzFyYnY0ApXI8iSi1jQIXrUYwoMmNA7FG4wtM2Y0BSuB6d7ztjQHsUrvfCQGNA",
          "dtype": "f8"
         },
         "yaxis": "y"
        },
        {
         "line": {
          "color": "gray",
          "dash": "dash"
         },
         "name": "BB High",
         "type": "scatter",
         "x": [
          "2024-04-22T00:00:00.000000000",
          "2024-04-23T00:00:00.000000000",
          "2024-04-24T00:00:00.000000000",
          "2024-04-25T00:00:00.000000000",
          "2024-04-26T00:00:00.000000000",
          "2024-04-29T00:00:00.000000000",
          "2024-04-30T00:00:00.000000000",
          "2024-05-01T00:00:00.000000000",
          "2024-05-02T00:00:00.000000000",
          "2024-05-03T00:00:00.000000000",
          "2024-05-06T00:00:00.000000000",
          "2024-05-07T00:00:00.000000000",
          "2024-05-08T00:00:00.000000000",
          "2024-05-09T00:00:00.000000000",
          "2024-05-10T00:00:00.000000000",
          "2024-05-13T00:00:00.000000000",
          "2024-05-14T00:00:00.000000000",
          "2024-05-15T00:00:00.000000000",
          "2024-05-16T00:00:00.000000000",
          "2024-05-17T00:00:00.000000000",
          "2024-05-20T00:00:00.000000000",
          "2024-05-21T00:00:00.000000000",
          "2024-05-22T00:00:00.000000000",
          "2024-05-23T00:00:00.000000000",
          "2024-05-24T00:00:00.000000000",
          "2024-05-28T00:00:00.000000000",
          "2024-05-29T00:00:00.000000000",
          "2024-05-30T00:00:00.000000000",
          "2024-05-31T00:00:00.000000000",
          "2024-06-03T00:00:00.000000000",
          "2024-06-04T00:00:00.000000000",
          "2024-06-05T00:00:00.000000000",
          "2024-06-06T00:00:00.000000000",
          "2024-06-07T00:00:00.000000000",
          "2024-06-10T00:00:00.000000000",
          "2024-06-11T00:00:00.000000000",
          "2024-06-12T00:00:00.000000000",
          "2024-06-13T00:00:00.000000000",
          "2024-06-14T00:00:00.000000000",
          "2024-06-17T00:00:00.000000000",
          "2024-06-18T00:00:00.000000000",
          "2024-06-20T00:00:00.000000000",
          "2024-06-21T00:00:00.000000000",
          "2024-06-24T00:00:00.000000000",
          "2024-06-25T00:00:00.000000000",
          "2024-06-26T00:00:00.000000000",
          "2024-06-27T00:00:00.000000000",
          "2024-06-28T00:00:00.000000000",
          "2024-07-01T00:00:00.000000000",
          "2024-07-02T00:00:00.000000000",
          "2024-07-03T00:00:00.000000000",
          "2024-07-05T00:00:00.000000000",
          "2024-07-08T00:00:00.000000000",
          "2024-07-09T00:00:00.000000000",
          "2024-07-10T00:00:00.000000000",
          "2024-07-11T00:00:00.000000000",
          "2024-07-12T00:00:00.000000000",
          "2024-07-15T00:00:00.000000000",
          "2024-07-16T00:00:00.000000000",
          "2024-07-17T00:00:00.000000000",
          "2024-07-18T00:00:00.000000000",
          "2024-07-19T00:00:00.000000000",
          "2024-07-22T00:00:00.000000000",
          "2024-07-23T00:00:00.000000000",
          "2024-07-24T00:00:00.000000000",
          "2024-07-25T00:00:00.000000000",
          "2024-07-26T00:00:00.000000000",
          "2024-07-29T00:00:00.000000000",
          "2024-07-30T00:00:00.000000000"
         ],
         "xaxis": "x",
         "y": {
          "bdata": "imXJ4RgfZECORQA7BylkQNgHySVrOGRAISjv3e4zZEBiDLt5ZspkQPH1KUsW/WRAAW4iXOoTZUC8kQDYLC1lQOmwALA1S2VA2M/N8gFrZUBZp5BKYY5lQGqqaSuiw2VAF4uc1Q/lZUBKFP9BBAZmQAseK35GHGZAVMBJ5WIsZkA/OawJYjpmQDKhKpZmTmZA7d7rREtlZkAsNtf0RnVmQJJs1JSGi2ZANWCpGbemZkDVWROFqLJmQJb0BiMhjmZA6irlEtCXZkC5Y7yqS6pmQOEfN8Q9qGZAZncNFG+XZkC1JHsFtpBmQIBUNu0gimZA2R9Yw5eFZkAkkw3Q5IxmQPiFzFcElWZA+gnYrvqSZkBElUXa54lmQLs8CgfOhGZADBwCwUqIZkDxyqMNw4VmQAnzp1TcimZAlwcxmj6QZkAg6lGAFYtmQPSY0GDsgWZA6cPlvjOPZkAAh/PTGqFmQLGMU0fJ3WZAyfNEhQUJZ0AckIQqqjpnQOMLxhhYSGdAP74ZIAdZZ0DsqNXc9nNnQCf3avwukGdAbWQHLNHOZ0CGCDKaLPhnQAc7vsl+FmhAXcLB37s+aECZFeDtH0doQBuDD2nETWhAAO25yzdPaEDrp9nenkpoQPWA14V3Q2hAODRlokw3aEB8vmh3NzBoQLUlTR2fKmhAvDXlCbklaEBG7IAJQUhoQMUClQ5af2hAAlaiq6ufaEDKBO43bq9oQMelPnfmtGhA",
          "dtype": "f8"
         },
         "yaxis": "y"
        },
        {
         "line": {
          "color": "gray",
          "dash": "dash"
         },
         "name": "BB Low",
         "type": "scatter",
         "x": [
          "2024-04-22T00:00:00.000000000",
          "2024-04-23T00:00:00.000000000",
          "2024-04-24T00:00:00.000000000",
          "2024-04-25T00:00:00.000000000",
          "2024-04-26T00:00:00.000000000",
          "2024-04-29T00:00:00.000000000",
          "2024-04-30T00:00:00.000000000",
          "2024-05-01T00:00:00.000000000",
          "2024-05-02T00:00:00.000000000",
          "2024-05-03T00:00:00.000000000",
          "2024-05-06T00:00:00.000000000",
          "2024-05-07T00:00:00.000000000",
          "2024-05-08T00:00:00.000000000",
          "2024-05-09T00:00:00.000000000",
          "2024-05-10T00:00:00.000000000",
          "2024-05-13T00:00:00.000000000",
          "2024-05-14T00:00:00.000000000",
          "2024-05-15T00:00:00.000000000",
          "2024-05-16T00:00:00.000000000",
          "2024-05-17T00:00:00.000000000",
          "2024-05-20T00:00:00.000000000",
          "2024-05-21T00:00:00.000000000",
          "2024-05-22T00:00:00.000000000",
          "2024-05-23T00:00:00.000000000",
          "2024-05-24T00:00:00.000000000",
          "2024-05-28T00:00:00.000000000",
          "2024-05-29T00:00:00.000000000",
          "2024-05-30T00:00:00.000000000",
          "2024-05-31T00:00:00.000000000",
          "2024-06-03T00:00:00.000000000",
          "2024-06-04T00:00:00.000000000",
          "2024-06-05T00:00:00.000000000",
          "2024-06-06T00:00:00.000000000",
          "2024-06-07T00:00:00.000000000",
          "2024-06-10T00:00:00.000000000",
          "2024-06-11T00:00:00.000000000",
          "2024-06-12T00:00:00.000000000",
          "2024-06-13T00:00:00.000000000",
          "2024-06-14T00:00:00.000000000",
          "2024-06-17T00:00:00.000000000",
          "2024-06-18T00:00:00.000000000",
          "2024-06-20T00:00:00.000000000",
          "2024-06-21T00:00:00.000000000",
          "2024-06-24T00:00:00.000000000",
          "2024-06-25T00:00:00.000000000",
          "2024-06-26T00:00:00.000000000",
          "2024-06-27T00:00:00.000000000",
          "2024-06-28T00:00:00.000000000",
          "2024-07-01T00:00:00.000000000",
          "2024-07-02T00:00:00.000000000",
          "2024-07-03T00:00:00.000000000",
          "2024-07-05T00:00:00.000000000",
          "2024-07-08T00:00:00.000000000",
          "2024-07-09T00:00:00.000000000",
          "2024-07-10T00:00:00.000000000",
          "2024-07-11T00:00:00.000000000",
          "2024-07-12T00:00:00.000000000",
          "2024-07-15T00:00:00.000000000",
          "2024-07-16T00:00:00.000000000",
          "2024-07-17T00:00:00.000000000",
          "2024-07-18T00:00:00.000000000",
          "2024-07-19T00:00:00.000000000",
          "2024-07-22T00:00:00.000000000",
          "2024-07-23T00:00:00.000000000",
          "2024-07-24T00:00:00.000000000",
          "2024-07-25T00:00:00.000000000",
          "2024-07-26T00:00:00.000000000",
          "2024-07-29T00:00:00.000000000",
          "2024-07-30T00:00:00.000000000"
         ],
         "xaxis": "x",
         "y": {
          "bdata": "qs1pkXrNYkDYIGabnN9iQFwrai1N7mJART532AQGY0BqwBGzILRiQNvWosHrpWJA/5HdEyirYkCq1GU+Vq9iQH21ZZYqxmJA9Pz+SYfWYkANv9XL9t5iQMqIydcy2WJAT9vJYPjiYkDqHjQhi+RiQPXh1AHO8WJAeAyDV1EQY0AnLboMTDVjQJorouatV2NAEyEUO0p6Y0AI/VuuVK9jQG6TK9u22mNA/9KJCU/+Y0D3crkXcihkQGoL+fy5g2RAFtUavX2CZEBHnEN1ZJBkQOuslVhHu2RAzrslb6flZEAXqFEX+v1kQEx4lm/vFWVAJ+CnXG4rZUB2BozZNzFlQG7gmV4aQGVA0sL07R9QZUBWBFR/fG1lQHn2KEzqiWVAKBcxEtieZUDbASmvhqplQPcMWNvVrmVANcWbMjiuZUAUSeGy8qxlQECaYrJAsGVAfaKAtzSqZUCaEqalo6plQIOm38uOi2VANwy7qtd3ZUAYo66oeGRlQFEnbQpYdmVAwUHmL1uHZUDgI/d/bZNlQNkIlcNwnmVAx84rd3SPZUDgXTTs6YxlQMWRDvP1nGVA13BxowSoZUAzt+x+x7xlQLFJvaM9zWVANEZ5F27wZUCv8b/q1wtmQD+yW/1IH2ZA/P7NEFE0ZkC4dMp7xkBmQOVzTCxCUGZARMoaNiZeZkDuRrL5vhdmQNWWBLvGrGVAmEP3DUhSZUBqLkWLMRtlQG2N9MtO7WRA",
          "dtype": "f8"
         },
         "yaxis": "y"
        },
        {
         "name": "Volume",
         "type": "bar",
         "x": [
          "2024-04-22T00:00:00.000000000",
          "2024-04-23T00:00:00.000000000",
          "2024-04-24T00:00:00.000000000",
          "2024-04-25T00:00:00.000000000",
          "2024-04-26T00:00:00.000000000",
          "2024-04-29T00:00:00.000000000",
          "2024-04-30T00:00:00.000000000",
          "2024-05-01T00:00:00.000000000",
          "2024-05-02T00:00:00.000000000",
          "2024-05-03T00:00:00.000000000",
          "2024-05-06T00:00:00.000000000",
          "2024-05-07T00:00:00.000000000",
          "2024-05-08T00:00:00.000000000",
          "2024-05-09T00:00:00.000000000",
          "2024-05-10T00:00:00.000000000",
          "2024-05-13T00:00:00.000000000",
          "2024-05-14T00:00:00.000000000",
          "2024-05-15T00:00:00.000000000",
          "2024-05-16T00:00:00.000000000",
          "2024-05-17T00:00:00.000000000",
          "2024-05-20T00:00:00.000000000",
          "2024-05-21T00:00:00.000000000",
          "2024-05-22T00:00:00.000000000",
          "2024-05-23T00:00:00.000000000",
          "2024-05-24T00:00:00.000000000",
          "2024-05-28T00:00:00.000000000",
          "2024-05-29T00:00:00.000000000",
          "2024-05-30T00:00:00.000000000",
          "2024-05-31T00:00:00.000000000",
          "2024-06-03T00:00:00.000000000",
          "2024-06-04T00:00:00.000000000",
          "2024-06-05T00:00:00.000000000",
          "2024-06-06T00:00:00.000000000",
          "2024-06-07T00:00:00.000000000",
          "2024-06-10T00:00:00.000000000",
          "2024-06-11T00:00:00.000000000",
          "2024-06-12T00:00:00.000000000",
          "2024-06-13T00:00:00.000000000",
          "2024-06-14T00:00:00.000000000",
          "2024-06-17T00:00:00.000000000",
          "2024-06-18T00:00:00.000000000",
          "2024-06-20T00:00:00.000000000",
          "2024-06-21T00:00:00.000000000",
          "2024-06-24T00:00:00.000000000",
          "2024-06-25T00:00:00.000000000",
          "2024-06-26T00:00:00.000000000",
          "2024-06-27T00:00:00.000000000",
          "2024-06-28T00:00:00.000000000",
          "2024-07-01T00:00:00.000000000",
          "2024-07-02T00:00:00.000000000",
          "2024-07-03T00:00:00.000000000",
          "2024-07-05T00:00:00.000000000",
          "2024-07-08T00:00:00.000000000",
          "2024-07-09T00:00:00.000000000",
          "2024-07-10T00:00:00.000000000",
          "2024-07-11T00:00:00.000000000",
          "2024-07-12T00:00:00.000000000",
          "2024-07-15T00:00:00.000000000",
          "2024-07-16T00:00:00.000000000",
          "2024-07-17T00:00:00.000000000",
          "2024-07-18T00:00:00.000000000",
          "2024-07-19T00:00:00.000000000",
          "2024-07-22T00:00:00.000000000",
          "2024-07-23T00:00:00.000000000",
          "2024-07-24T00:00:00.000000000",
          "2024-07-25T00:00:00.000000000",
          "2024-07-26T00:00:00.000000000",
          "2024-07-29T00:00:00.000000000",
          "2024-07-30T00:00:00.000000000"
         ],
         "xaxis": "x2",
         "y": {
          "bdata": "/B4HAcjm9QAEVCkBqFUoAkAiXgNoAyQCAO3AASDggAHMBgQB/GVbAXwj5wBA/0EBrFHeAKQntgAU9R0BWNArARzKHQH4yz8BRCwHAWB6/AA89AoBUGXgANgH9wAQyuMAmPWtAITh7gC4PuUAYIkfAdCLrAGQgjwBqKPWAGxz6AC4htkAjI3gAJhDBQFgw9sA0NEbAaR78wCAn7wAxAvpAOym7gAwov8AgGCPAxyvFQFEqSAB1BjMAKTBxgBQcl8B3Eu0AOyUvwDMDXEAqEDaAECYuADknZsApOm3AKAJ+wDMedwAkPG5ACS0wgBYJQkB0MgQAYwJ3QAcx/gAuL1qAQzZ3AHcA7oBlMJ/AcQY0gD4wtAA",
          "dtype": "i4"
         },
         "yaxis": "y2"
        },
        {
         "name": "RSI",
         "type": "scatter",
         "x": [
          "2024-04-22T00:00:00.000000000",
          "2024-04-23T00:00:00.000000000",
          "2024-04-24T00:00:00.000000000",
          "2024-04-25T00:00:00.000000000",
          "2024-04-26T00:00:00.000000000",
          "2024-04-29T00:00:00.000000000",
          "2024-04-30T00:00:00.000000000",
          "2024-05-01T00:00:00.000000000",
          "2024-05-02T00:00:00.000000000",
          "2024-05-03T00:00:00.000000000",
          "2024-05-06T00:00:00.000000000",
          "2024-05-07T00:00:00.000000000",
          "2024-05-08T00:00:00.000000000",
          "2024-05-09T00:00:00.000000000",
          "2024-05-10T00:00:00.000000000",
          "2024-05-13T00:00:00.000000000",
          "2024-05-14T00:00:00.000000000",
          "2024-05-15T00:00:00.000000000",
          "2024-05-16T00:00:00.000000000",
          "2024-05-17T00:00:00.000000000",
          "2024-05-20T00:00:00.000000000",
          "2024-05-21T00:00:00.000000000",
          "2024-05-22T00:00:00.000000000",
          "2024-05-23T00:00:00.000000000",
          "2024-05-24T00:00:00.000000000",
          "2024-05-28T00:00:00.000000000",
          "2024-05-29T00:00:00.000000000",
          "2024-05-30T00:00:00.000000000",
          "2024-05-31T00:00:00.000000000",
          "2024-06-03T00:00:00.000000000",
          "2024-06-04T00:00:00.000000000",
          "2024-06-05T00:00:00.000000000",
          "2024-06-06T00:00:00.000000000",
          "2024-06-07T00:00:00.000000000",
          "2024-06-10T00:00:00.000000000",
          "2024-06-11T00:00:00.000000000",
          "2024-06-12T00:00:00.000000000",
          "2024-06-13T00:00:00.000000000",
          "2024-06-14T00:00:00.000000000",
          "2024-06-17T00:00:00.000000000",
          "2024-06-18T00:00:00.000000000",
          "2024-06-20T00:00:00.000000000",
          "2024-06-21T00:00:00.000000000",
          "2024-06-24T00:00:00.000000000",
          "2024-06-25T00:00:00.000000000",
          "2024-06-26T00:00:00.000000000",
          "2024-06-27T00:00:00.000000000",
          "2024-06-28T00:00:00.000000000",
          "2024-07-01T00:00:00.000000000",
          "2024-07-02T00:00:00.000000000",
          "2024-07-03T00:00:00.000000000",
          "2024-07-05T00:00:00.000000000",
          "2024-07-08T00:00:00.000000000",
          "2024-07-09T00:00:00.000000000",
          "2024-07-10T00:00:00.000000000",
          "2024-07-11T00:00:00.000000000",
          "2024-07-12T00:00:00.000000000",
          "2024-07-15T00:00:00.000000000",
          "2024-07-16T00:00:00.000000000",
          "2024-07-17T00:00:00.000000000",
          "2024-07-18T00:00:00.000000000",
          "2024-07-19T00:00:00.000000000",
          "2024-07-22T00:00:00.000000000",
          "2024-07-23T00:00:00.000000000",
          "2024-07-24T00:00:00.000000000",
          "2024-07-25T00:00:00.000000000",
          "2024-07-26T00:00:00.000000000",
          "2024-07-29T00:00:00.000000000",
          "2024-07-30T00:00:00.000000000"
         ],
         "xaxis": "x3",
         "y": {
          "bdata": "tVgivO8HTkDMqPuRHaRPQAzIDsI8RlBAoTLUdo9/TECOSx3lnY9SQGpg9lMqBFBAA6qcN/OSTUBnkjebaAtOQIV1F5ENeU9AMsBp5ym7T0BCs68N7BNQQMhGmTvi11BADnenwLv6T0Dcu/dmDhpQQDpxtv5X7k5AauFudKNOT0AnBKf/V/RPQHgpUh1+klBASOTuIMYFUUCA46dZr4lRQLHNM9nE2VFA8S22Ef0iUkB0LibxQhZRQL4dHgYzik5AQStMGAh1T0Ay8+I1tFBQQHLsBuep1U9AHcp7fV5hS0Ap1npU27pLQP+rT+fqJUxAu9D4jEDPTEAu424n7YpOQDMYTOR+nE9ADhpW9aB0TEDVyz9yqhdNQO1YM4nyg05A4DjvnZqxT0COYyCPe/JLQPLKGHptdU1AmMKrK0jVTUDHuXPly9ZKQOgAsVM1HkxALEX0ufZ3TkAP7GguXe1OQOCDtADQPFFAZBlihWQWUUDh/eFKvZRRQLnB/3ftcE5AqW/t0WxIT0CUN0Nzt21QQJ6cv/d7tFBA/3p0LIobUkA+N+BfZhlRQELyAE5RElFA/t2tJlDFUUCMeB4Jc+lMQIEq27P2W0xAbzKuj9yATUBSjYI/1ZxKQHsz/GFP6UdA+S9SB6ktRUCzi6+6ylpFQFY8UsRaKklAjj3scFdjSUBLiLXWpLdCQIBMAPO4I0BACNXMRwzYP0AFsvg03kVCQNWq08XE9UJA",
          "dtype": "f8"
         },
         "yaxis": "y3"
        },
        {
         "name": "MACD",
         "type": "scatter",
         "x": [
          "2024-04-22T00:00:00.000000000",
          "2024-04-23T00:00:00.000000000",
          "2024-04-24T00:00:00.000000000",
          "2024-04-25T00:00:00.000000000",
          "2024-04-26T00:00:00.000000000",
          "2024-04-29T00:00:00.000000000",
          "2024-04-30T00:00:00.000000000",
          "2024-05-01T00:00:00.000000000",
          "2024-05-02T00:00:00.000000000",
          "2024-05-03T00:00:00.000000000",
          "2024-05-06T00:00:00.000000000",
          "2024-05-07T00:00:00.000000000",
          "2024-05-08T00:00:00.000000000",
          "2024-05-09T00:00:00.000000000",
          "2024-05-10T00:00:00.000000000",
          "2024-05-13T00:00:00.000000000",
          "2024-05-14T00:00:00.000000000",
          "2024-05-15T00:00:00.000000000",
          "2024-05-16T00:00:00.000000000",
          "2024-05-17T00:00:00.000000000",
          "2024-05-20T00:00:00.000000000",
          "2024-05-21T00:00:00.000000000",
          "2024-05-22T00:00:00.000000000",
          "2024-05-23T00:00:00.000000000",
          "2024-05-24T00:00:00.000000000",
          "2024-05-28T00:00:00.000000000",
          "2024-05-29T00:00:00.000000000",
          "2024-05-30T00:00:00.000000000",
          "2024-05-31T00:00:00.000000000",
          "2024-06-03T00:00:00.000000000",
          "2024-06-04T00:00:00.000000000",
          "2024-06-05T00:00:00.000000000",
          "2024-06-06T00:00:00.000000000",
          "2024-06-07T00:00:00.000000000",
          "2024-06-10T00:00:00.000000000",
          "2024-06-11T00:00:00.000000000",
          "2024-06-12T00:00:00.000000000",
          "2024-06-13T00:00:00.000000000",
          "2024-06-14T00:00:00.000000000",
          "2024-06-17T00:00:00.000000000",
          "2024-06-18T00:00:00.000000000",
          "2024-06-20T00:00:00.000000000",
          "2024-06-21T00:00:00.000000000",
          "2024-06-24T00:00:00.000000000",
          "2024-06-25T00:00:00.000000000",
          "2024-06-26T00:00:00.000000000",
          "2024-06-27T00:00:00.000000000",
          "2024-06-28T00:00:00.000000000",
          "2024-07-01T00:00:00.000000000",
          "2024-07-02T00:00:00.000000000",
          "2024-07-03T00:00:00.000000000",
          "2024-07-05T00:00:00.000000000",
          "2024-07-08T00:00:00.000000000",
          "2024-07-09T00:00:00.000000000",
          "2024-07-10T00:00:00.000000000",
          "2024-07-11T00:00:00.000000000",
          "2024-07-12T00:00:00.000000000",
          "2024-07-15T00:00:00.000000000",
          "2024-07-16T00:00:00.000000000",
          "2024-07-17T00:00:00.000000000",
          "2024-07-18T00:00:00.000000000",
          "2024-07-19T00:00:00.000000000",
          "2024-07-22T00:00:00.000000000",
          "2024-07-23T00:00:00.000000000",
          "2024-07-24T00:00:00.000000000",
          "2024-07-25T00:00:00.000000000",
          "2024-07-26T00:00:00.000000000",
          "2024-07-29T00:00:00.000000000",
          "2024-07-30T00:00:00.000000000"
         ],
         "xaxis": "x4",
         "y": {
          "bdata": "QPZhwgWVBkBARO41MiEHQMCI7YxSDAhAQHUy68B7BkBAtwwA0gsPQECKxXNf2hBAAFj3EKepEEBAZsjX1p4QQKBZhgn0URFAACivmAzXEUDAUc+e5U8SQICksZx3ehNAYHW4HuWWE0BAK6JtU5YTQEDnnjpc8xJAoMEoLzluEkCAKcUySCQSQOCsauC2VBJAgEifgcvDEkAAjfdVBHwTQADSgtIUMxRAYGokcczfFEAALWtvbKwUQGDOkn2zVxNA4O326BB8EkDAGUF2HCQSQADl7zihdxFAACeWMLgHD0DAz7CZbd8LQABR4nz8XwlAgLsQgveUB0BAfuK5eyUHQACVF7S6WwdAACPyyfy5BUAA2zBOaKIEQECSMNcGigRAAM3xMtMaBUDAd7E1/YEDQMA9A6kPEwNAgPQz73zHAkBAqGYL1dgAQIDbE9734/8/wLB5nDOvAEDAZaujXGkBQIAbTRb61gRAwJfWyHUnB0DARA6viKcJQEAqlBUrIAlAAKAwQZ8bCUDA2pFSKSkKQIC4d+1yLwtAQC3Kb0CYDkBA6QFdBfkPQID5O2DMVBBAYF5QcasfEUDAgAC/oq0PQIBHVPP3+AxAwPa3Ex1sC0AAn8kvti0IQID69eQOhgNAAHgEVgD4+j8Ai3uzRWrxPwAi0cBtku0/ABquTuHA6T8AgE0QJ36hvwBQpxYEtfG/gAY/ABGQ/7/AJkKZPXcDwMA/F4MrqgXA",
          "dtype": "f8"
         },
         "yaxis": "y4"
        },
        {
         "name": "Signal",
         "type": "scatter",
         "x": [
          "2024-04-22T00:00:00.000000000",
          "2024-04-23T00:00:00.000000000",
          "2024-04-24T00:00:00.000000000",
          "2024-04-25T00:00:00.000000000",
          "2024-04-26T00:00:00.000000000",
          "2024-04-29T00:00:00.000000000",
          "2024-04-30T00:00:00.000000000",
          "2024-05-01T00:00:00.000000000",
          "2024-05-02T00:00:00.000000000",
          "2024-05-03T00:00:00.000000000",
          "2024-05-06T00:00:00.000000000",
          "2024-05-07T00:00:00.000000000",
          "2024-05-08T00:00:00.000000000",
          "2024-05-09T00:00:00.000000000",
          "2024-05-10T00:00:00.000000000",
          "2024-05-13T00:00:00.000000000",
          "2024-05-14T00:00:00.000000000",
          "2024-05-15T00:00:00.000000000",
          "2024-05-16T00:00:00.000000000",
          "2024-05-17T00:00:00.000000000",
          "2024-05-20T00:00:00.000000000",
          "2024-05-21T00:00:00.000000000",
          "2024-05-22T00:00:00.000000000",
          "2024-05-23T00:00:00.000000000",
          "2024-05-24T00:00:00.000000000",
          "2024-05-28T00:00:00.000000000",
          "2024-05-29T00:00:00.000000000",
          "2024-05-30T00:00:00.000000000",
          "2024-05-31T00:00:00.000000000",
          "2024-06-03T00:00:00.000000000",
          "2024-06-04T00:00:00.000000000",
          "2024-06-05T00:00:00.000000000",
          "2024-06-06T00:00:00.000000000",
          "2024-06-07T00:00:00.000000000",
          "2024-06-10T00:00:00.000000000",
          "2024-06-11T00:00:00.000000000",
          "2024-06-12T00:00:00.000000000",
          "2024-06-13T00:00:00.000000000",
          "2024-06-14T00:00:00.000000000",
          "2024-06-17T00:00:00.000000000",
          "2024-06-18T00:00:00.000000000",
          "2024-06-20T00:00:00.000000000",
          "2024-06-21T00:00:00.000000000",
          "2024-06-24T00:00:00.000000000",
          "2024-06-25T00:00:00.000000000",
          "2024-06-26T00:00:00.000000000",
          "2024-06-27T00:00:00.000000000",
          "2024-06-28T00:00:00.000000000",
          "2024-07-01T00:00:00.000000000",
          "2024-07-02T00:00:00.000000000",
          "2024-07-03T00:00:00.000000000",
          "2024-07-05T00:00:00.000000000",
          "2024-07-08T00:00:00.000000000",
          "2024-07-09T00:00:00.000000000",
          "2024-07-10T00:00:00.000000000",
          "2024-07-11T00:00:00.000000000",
          "2024-07-12T00:00:00.000000000",
          "2024-07-15T00:00:00.000000000",
          "2024-07-16T00:00:00.000000000",
          "2024-07-17T00:00:00.000000000",
          "2024-07-18T00:00:00.000000000",
          "2024-07-19T00:00:00.000000000",
          "2024-07-22T00:00:00.000000000",
          "2024-07-23T00:00:00.000000000",
          "2024-07-24T00:00:00.000000000",
          "2024-07-25T00:00:00.000000000",
          "2024-07-26T00:00:00.000000000",
          "2024-07-29T00:00:00.000000000",
          "2024-07-30T00:00:00.000000000"
         ],
         "xaxis": "x4",
         "y": {
          "bdata": "tCspw53BCUDRYx3aITsJQGie4P2R/ghAlPzwxgF+CEC37lzSkc0JQEb2MnA0YgtAaxvyxmySDECjC0XCeYENQMPGOZ9ciA5AnEh0vOiPD0CYYL4Ei0kQQGChiInt7BBAlJj4QFJ1EUC2ghp9UuIRQGswaAnuGBJAQhr1EP0pEkBOHYXk2CgSQNIGs+OeMRJAj61IA9tOEkDZczh6FosSQHtTR/Li3xJAQ4tz2ERGE0BpeAtd5o0TQAHwjGMPgxNA+lXVF3ZOE0C8Fh6RyhITQJfZFBmPwBJAYBiGstEaEkAT9fzqZUURQMNlR5W3WhBAhfvbCCTiDkB44nZfAlYNQJRs/Qn0IwxAQ8SUY4/bCkA2L+f47ZwJQAZDXCUmmQhAn16twUjmB0CmY+HYbAUHQKz1tDVaOwZA11vOWpSKBUAfa4bkOpoEQHO4oObHqwNA6bZlcd0SA0Dh2aauw70CQAHnlPY0KQNAjj3VU6j1A0DMC0eZOxkFQOMR8H5r5wVAHPv82HWLBkBwwRq+mUQHQHOMYJQrDQhAanlCwC9cCUAv9pvfwK4KQFrClAzs4AtAoieXagEnDUCobN/hVKgNQG2Yw0tChQ1A5UTBc9QZDUDrVilmzh0MQHBEUkzbZQpAWtzbeK/QB0CVpKLyLMsEQCqSjNgPHQJAqh+/SJaO/z9VnUuV4SL5PxGhtD9NkfA/ajGpyxzE2z+8+cTXY93Bv/NkoC2d5+S/",
          "dtype": "f8"
         },
         "yaxis": "y4"
        },
        {
         "name": "MACD Diff",
         "type": "bar",
         "x": [
          "2024-04-22T00:00:00.000000000",
          "2024-04-23T00:00:00.000000000",
          "2024-04-24T00:00:00.000000000",
          "2024-04-25T00:00:00.000000000",
          "2024-04-26T00:00:00.000000000",
          "2024-04-29T00:00:00.000000000",
          "2024-04-30T00:00:00.000000000",
          "2024-05-01T00:00:00.000000000",
          "2024-05-02T00:00:00.000000000",
          "2024-05-03T00:00:00.000000000",
          "2024-05-06T00:00:00.000000000",
          "2024-05-07T00:00:00.000000000",
          "2024-05-08T00:00:00.000000000",
          "2024-05-09T00:00:00.000000000",
          "2024-05-10T00:00:00.000000000",
          "2024-05-13T00:00:00.000000000",
          "2024-05-14T00:00:00.000000000",
          "2024-05-15T00:00:00.000000000",
          "2024-05-16T00:00:00.000000000",
          "2024-05-17T00:00:00.000000000",
          "2024-05-20T00:00:00.000000000",
          "2024-05-21T00:00:00.000000000",
          "2024-05-22T00:00:00.000000000",
          "2024-05-23T00:00:00.000000000",
          "2024-05-24T00:00:00.000000000",
          "2024-05-28T00:00:00.000000000",
          "2024-05-29T00:00:00.000000000",
          "2024-05-30T00:00:00.000000000",
          "2024-05-31T00:00:00.000000000",
          "2024-06-03T00:00:00.000000000",
          "2024-06-04T00:00:00.000000000",
          "2024-06-05T00:00:00.000000000",
          "2024-06-06T00:00:00.000000000",
          "2024-06-07T00:00:00.000000000",
          "2024-06-10T00:00:00.000000000",
          "2024-06-11T00:00:00.000000000",
          "2024-06-12T00:00:00.000000000",
          "2024-06-13T00:00:00.000000000",
          "2024-06-14T00:00:00.000000000",
          "2024-06-17T00:00:00.000000000",
          "2024-06-18T00:00:00.000000000",
          "2024-06-20T00:00:00.000000000",
          "2024-06-21T00:00:00.000000000",
          "2024-06-24T00:00:00.000000000",
          "2024-06-25T00:00:00.000000000",
          "2024-06-26T00:00:00.000000000",
          "2024-06-27T00:00:00.000000000",
          "2024-06-28T00:00:00.000000000",
          "2024-07-01T00:00:00.000000000",
          "2024-07-02T00:00:00.000000000",
          "2024-07-03T00:00:00.000000000",
          "2024-07-05T00:00:00.000000000",
          "2024-07-08T00:00:00.000000000",
          "2024-07-09T00:00:00.000000000",
          "2024-07-10T00:00:00.000000000",
          "2024-07-11T00:00:00.000000000",
          "2024-07-12T00:00:00.000000000",
          "2024-07-15T00:00:00.000000000",
          "2024-07-16T00:00:00.000000000",
          "2024-07-17T00:00:00.000000000",
          "2024-07-18T00:00:00.000000000",
          "2024-07-19T00:00:00.000000000",
          "2024-07-22T00:00:00.000000000",
          "2024-07-23T00:00:00.000000000",
          "2024-07-24T00:00:00.000000000",
          "2024-07-25T00:00:00.000000000",
          "2024-07-26T00:00:00.000000000",
          "2024-07-29T00:00:00.000000000",
          "2024-07-30T00:00:00.000000000"
         ],
         "xaxis": "x4",
         "y": {
          "bdata": "oKs5BsBk2b+I/Hghfc/QvwC1Yh7uR76/oDr03QYS0L8kIr+2APnkP+h4YN0pSuk/VFLya4UD4z/oBl5qn+HdP/SxS88tbuA/kB2o08F44D9AiYfQ1DLgPwAZSJlQbOQ/YOb+7ZYM4T+giHoID0DbP6Da1ibGTcs/gNfpjAcPsT8AOM//xkJyvwAH01v+i6E/QLymlR88vT/gJON3ux3OP1DotwMeM9U/0PENi3mY2T9wSfslYejRP4DQEP3yraW/QAPN26VMyr+An59bw9XNv3BJTwLejtS/ACfY0ay35L+YaSTxeK3qvxjqsbbKVe2/FAAtG7I07b/gkFGWGsLov1Bel1flIOO/DIWKZkqG5L/YUNmqFurjvxjDrjh9POC/+Izcdaxb1r8wX38ZfRvcv2C/jWVUQtm/uDrTXLsY1r/4Fv7ILgvev5hVtrxfzt2/SDFgp04d078QQrevcEbFv/BHg/tR3Mo/kNEKqGuO2T/Q4xxXNDniP+jCILX8xdk/ICedQUuB1D+AyrijfCTXP2hgucg6Etk/WM8evkLw5D9EzJf1ESnlP5jCjM+yIuM/eFQm4FVh5D/AoAjpbirQP6Ad6g1LibG/UOKUAHbbyr9Yv/2ywYDfv8AncZ0xf+u/tECzm16p9L8qvskxFCz4v1STsNDocPW/qhJooSWu8r9VCc7N0q75v4j4LasoIwHAbamUGYxAA8Ak18VbZ1kCwIMmrzdEcADA",
          "dtype": "f8"
         },
         "yaxis": "y4"
        }
       ],
       "layout": {
        "height": 1000,
        "shapes": [
         {
          "line": {
           "color": "red",
           "dash": "dash"
          },
          "type": "line",
          "x0": 0,
          "x1": 1,
          "xref": "x3 domain",
          "y0": 70,
          "y1": 70,
          "yref": "y3"
         },
         {
          "line": {
           "color": "green",
           "dash": "dash"
          },
          "type": "line",
          "x0": 0,
          "x1": 1,
          "xref": "x3 domain",
          "y0": 30,
          "y1": 30,
          "yref": "y3"
         }
        ],
        "template": {
         "data": {
          "bar": [
           {
            "error_x": {
             "color": "#2a3f5f"
            },
            "error_y": {
             "color": "#2a3f5f"
            },
            "marker": {
             "line": {
              "color": "#E5ECF6",
              "width": 0.5
             },
             "pattern": {
              "fillmode": "overlay",
              "size": 10,
              "solidity": 0.2
             }
            },
            "type": "bar"
           }
          ],
          "barpolar": [
           {
            "marker": {
             "line": {
              "color": "#E5ECF6",
              "width": 0.5
             },
             "pattern": {
              "fillmode": "overlay",
              "size": 10,
              "solidity": 0.2
             }
            },
            "type": "barpolar"
           }
          ],
          "carpet": [
           {
            "aaxis": {
             "endlinecolor": "#2a3f5f",
             "gridcolor": "white",
             "linecolor": "white",
             "minorgridcolor": "white",
             "startlinecolor": "#2a3f5f"
            },
            "baxis": {
             "endlinecolor": "#2a3f5f",
             "gridcolor": "white",
             "linecolor": "white",
             "minorgridcolor": "white",
             "startlinecolor": "#2a3f5f"
            },
            "type": "carpet"
           }
          ],
          "choropleth": [
           {
            "colorbar": {
             "outlinewidth": 0,
             "ticks": ""
            },
            "type": "choropleth"
           }
          ],
          "contour": [
           {
            "colorbar": {
             "outlinewidth": 0,
             "ticks": ""
            },
            "colorscale": [
             [
              0,
              "#0d0887"
             ],
             [
              0.1111111111111111,
              "#46039f"
             ],
             [
              0.2222222222222222,
              "#7201a8"
             ],
             [
              0.3333333333333333,
              "#9c179e"
             ],
             [
              0.4444444444444444,
              "#bd3786"
             ],
             [
              0.5555555555555556,
              "#d8576b"
             ],
             [
              0.6666666666666666,
              "#ed7953"
             ],
             [
              0.7777777777777778,
              "#fb9f3a"
             ],
             [
              0.8888888888888888,
              "#fdca26"
             ],
             [
              1,
              "#f0f921"
             ]
            ],
            "type": "contour"
           }
          ],
          "contourcarpet": [
           {
            "colorbar": {
             "outlinewidth": 0,
             "ticks": ""
            },
            "type": "contourcarpet"
           }
          ],
          "heatmap": [
           {
            "colorbar": {
             "outlinewidth": 0,
             "ticks": ""
            },
            "colorscale": [
             [
              0,
              "#0d0887"
             ],
             [
              0.1111111111111111,
              "#46039f"
             ],
             [
              0.2222222222222222,
              "#7201a8"
             ],
             [
              0.3333333333333333,
              "#9c179e"
             ],
             [
              0.4444444444444444,
              "#bd3786"
             ],
             [
              0.5555555555555556,
              "#d8576b"
             ],
             [
              0.6666666666666666,
              "#ed7953"
             ],
             [
              0.7777777777777778,
              "#fb9f3a"
             ],
             [
              0.8888888888888888,
              "#fdca26"
             ],
             [
              1,
              "#f0f921"
             ]
            ],
            "type": "heatmap"
           }
          ],
          "histogram": [
           {
            "marker": {
             "pattern": {
              "fillmode": "overlay",
              "size": 10,
              "solidity": 0.2
             }
            },
            "type": "histogram"
           }
          ],
          "histogram2d": [
           {
            "colorbar": {
             "outlinewidth": 0,
             "ticks": ""
            },
            "colorscale": [
             [
              0,
              "#0d0887"
             ],
             [
              0.1111111111111111,
              "#46039f"
             ],
             [
              0.2222222222222222,
              "#7201a8"
             ],
             [
              0.3333333333333333,
              "#9c179e"
             ],
             [
              0.4444444444444444,
              "#bd3786"
             ],
             [
              0.5555555555555556,
              "#d8576b"
             ],
             [
              0.6666666666666666,
              "#ed7953"
             ],
             [
              0.7777777777777778,
              "#fb9f3a"
             ],
             [
              0.8888888888888888,
              "#fdca26"
             ],
             [
              1,
              "#f0f921"
             ]
            ],
            "type": "histogram2d"
           }
          ],
          "histogram2dcontour": [
           {
            "colorbar": {
             "outlinewidth": 0,
             "ticks": ""
            },
            "colorscale": [
             [
              0,
              "#0d0887"
             ],
             [
              0.1111111111111111,
              "#46039f"
             ],
             [
              0.2222222222222222,
              "#7201a8"
             ],
             [
              0.3333333333333333,
              "#9c179e"
             ],
             [
              0.4444444444444444,
              "#bd3786"
             ],
             [
              0.5555555555555556,
              "#d8576b"
             ],
             [
              0.6666666666666666,
              "#ed7953"
             ],
             [
              0.7777777777777778,
              "#fb9f3a"
             ],
             [
              0.8888888888888888,
              "#fdca26"
             ],
             [
              1,
              "#f0f921"
             ]
            ],
            "type": "histogram2dcontour"
           }
          ],
          "mesh3d": [
           {
            "colorbar": {
             "outlinewidth": 0,
             "ticks": ""
            },
            "type": "mesh3d"
           }
          ],
          "parcoords": [
           {
            "line": {
             "colorbar": {
              "outlinewidth": 0,
              "ticks": ""
             }
            },
            "type": "parcoords"
           }
          ],
          "pie": [
           {
            "automargin": true,
            "type": "pie"
           }
          ],
          "scatter": [
           {
            "fillpattern": {
             "fillmode": "overlay",
             "size": 10,
             "solidity": 0.2
            },
            "type": "scatter"
           }
          ],
          "scatter3d": [
           {
            "line": {
             "colorbar": {
              "outlinewidth": 0,
              "ticks": ""
             }
            },
            "marker": {
             "colorbar": {
              "outlinewidth": 0,
              "ticks": ""
             }
            },
            "type": "scatter3d"
           }
          ],
          "scattercarpet": [
           {
            "marker": {
             "colorbar": {
              "outlinewidth": 0,
              "ticks": ""
             }
            },
            "type": "scattercarpet"
           }
          ],
          "scattergeo": [
           {
            "marker": {
             "colorbar": {
              "outlinewidth": 0,
              "ticks": ""
             }
            },
            "type": "scattergeo"
           }
          ],
          "scattergl": [
           {
            "marker": {
             "colorbar": {
              "outlinewidth": 0,
              "ticks": ""
             }
            },
            "type": "scattergl"
           }
          ],
          "scattermap": [
           {
            "marker": {
             "colorbar": {
              "outlinewidth": 0,
              "ticks": ""
             }
            },
            "type": "scattermap"
           }
          ],
          "scattermapbox": [
           {
            "marker": {
             "colorbar": {
              "outlinewidth": 0,
              "ticks": ""
             }
            },
            "type": "scattermapbox"
           }
          ],
          "scatterpolar": [
           {
            "marker": {
             "colorbar": {
              "outlinewidth": 0,
              "ticks": ""
             }
            },
            "type": "scatterpolar"
           }
          ],
          "scatterpolargl": [
           {
            "marker": {
             "colorbar": {
              "outlinewidth": 0,
              "ticks": ""
             }
            },
            "type": "scatterpolargl"
           }
          ],
          "scatterternary": [
           {
            "marker": {
             "colorbar": {
              "outlinewidth": 0,
              "ticks": ""
             }
            },
            "type": "scatterternary"
           }
          ],
          "surface": [
           {
            "colorbar": {
             "outlinewidth": 0,
             "ticks": ""
            },
            "colorscale": [
             [
              0,
              "#0d0887"
             ],
             [
              0.1111111111111111,
              "#46039f"
             ],
             [
              0.2222222222222222,
              "#7201a8"
             ],
             [
              0.3333333333333333,
              "#9c179e"
             ],
             [
              0.4444444444444444,
              "#bd3786"
             ],
             [
              0.5555555555555556,
              "#d8576b"
             ],
             [
              0.6666666666666666,
              "#ed7953"
             ],
             [
              0.7777777777777778,
              "#fb9f3a"
             ],
             [
              0.8888888888888888,
              "#fdca26"
             ],
             [
              1,
              "#f0f921"
             ]
            ],
            "type": "surface"
           }
          ],
          "table": [
           {
            "cells": {
             "fill": {
              "color": "#EBF0F8"
             },
             "line": {
              "color": "white"
             }
            },
            "header": {
             "fill": {
              "color": "#C8D4E3"
             },
             "line": {
              "color": "white"
             }
            },
            "type": "table"
           }
          ]
         },
         "layout": {
          "annotationdefaults": {
           "arrowcolor": "#2a3f5f",
           "arrowhead": 0,
           "arrowwidth": 1
          },
          "autotypenumbers": "strict",
          "coloraxis": {
           "colorbar": {
            "outlinewidth": 0,
            "ticks": ""
           }
          },
          "colorscale": {
           "diverging": [
            [
             0,
             "#8e0152"
            ],
            [
             0.1,
             "#c51b7d"
            ],
            [
             0.2,
             "#de77ae"
            ],
            [
             0.3,
             "#f1b6da"
            ],
            [
             0.4,
             "#fde0ef"
            ],
            [
             0.5,
             "#f7f7f7"
            ],
            [
             0.6,
             "#e6f5d0"
            ],
            [
             0.7,
             "#b8e186"
            ],
            [
             0.8,
             "#7fbc41"
            ],
            [
             0.9,
             "#4d9221"
            ],
            [
             1,
             "#276419"
            ]
           ],
           "sequential": [
            [
             0,
             "#0d0887"
            ],
            [
             0.1111111111111111,
             "#46039f"
            ],
            [
             0.2222222222222222,
             "#7201a8"
            ],
            [
             0.3333333333333333,
             "#9c179e"
            ],
            [
             0.4444444444444444,
             "#bd3786"
            ],
            [
             0.5555555555555556,
             "#d8576b"
            ],
            [
             0.6666666666666666,
             "#ed7953"
            ],
            [
             0.7777777777777778,
             "#fb9f3a"
            ],
            [
             0.8888888888888888,
             "#fdca26"
            ],
            [
             1,
             "#f0f921"
            ]
           ],
           "sequentialminus": [
            [
             0,
             "#0d0887"
            ],
            [
             0.1111111111111111,
             "#46039f"
            ],
            [
             0.2222222222222222,
             "#7201a8"
            ],
            [
             0.3333333333333333,
             "#9c179e"
            ],
            [
             0.4444444444444444,
             "#bd3786"
            ],
            [
             0.5555555555555556,
             "#d8576b"
            ],
            [
             0.6666666666666666,
             "#ed7953"
            ],
            [
             0.7777777777777778,
             "#fb9f3a"
            ],
            [
             0.8888888888888888,
             "#fdca26"
            ],
            [
             1,
             "#f0f921"
            ]
           ]
          },
          "colorway": [
           "#636efa",
           "#EF553B",
           "#00cc96",
           "#ab63fa",
           "#FFA15A",
           "#19d3f3",
           "#FF6692",
           "#B6E880",
           "#FF97FF",
           "#FECB52"
          ],
          "font": {
           "color": "#2a3f5f"
          },
          "geo": {
           "bgcolor": "white",
           "lakecolor": "white",
           "landcolor": "#E5ECF6",
           "showlakes": true,
           "showland": true,
           "subunitcolor": "white"
          },
          "hoverlabel": {
           "align": "left"
          },
          "hovermode": "closest",
          "mapbox": {
           "style": "light"
          },
          "paper_bgcolor": "white",
          "plot_bgcolor": "#E5ECF6",
          "polar": {
           "angularaxis": {
            "gridcolor": "white",
            "linecolor": "white",
            "ticks": ""
           },
           "bgcolor": "#E5ECF6",
           "radialaxis": {
            "gridcolor": "white",
            "linecolor": "white",
            "ticks": ""
           }
          },
          "scene": {
           "xaxis": {
            "backgroundcolor": "#E5ECF6",
            "gridcolor": "white",
            "gridwidth": 2,
            "linecolor": "white",
            "showbackground": true,
            "ticks": "",
            "zerolinecolor": "white"
           },
           "yaxis": {
            "backgroundcolor": "#E5ECF6",
            "gridcolor": "white",
            "gridwidth": 2,
            "linecolor": "white",
            "showbackground": true,
            "ticks": "",
            "zerolinecolor": "white"
           },
           "zaxis": {
            "backgroundcolor": "#E5ECF6",
            "gridcolor": "white",
            "gridwidth": 2,
            "linecolor": "white",
            "showbackground": true,
            "ticks": "",
            "zerolinecolor": "white"
           }
          },
          "shapedefaults": {
           "line": {
            "color": "#2a3f5f"
           }
          },
          "ternary": {
           "aaxis": {
            "gridcolor": "white",
            "linecolor": "white",
            "ticks": ""
           },
           "baxis": {
            "gridcolor": "white",
            "linecolor": "white",
            "ticks": ""
           },
           "bgcolor": "#E5ECF6",
           "caxis": {
            "gridcolor": "white",
            "linecolor": "white",
            "ticks": ""
           }
          },
          "title": {
           "x": 0.05
          },
          "xaxis": {
           "automargin": true,
           "gridcolor": "white",
           "linecolor": "white",
           "ticks": "",
           "title": {
            "standoff": 15
           },
           "zerolinecolor": "white",
           "zerolinewidth": 2
          },
          "yaxis": {
           "automargin": true,
           "gridcolor": "white",
           "linecolor": "white",
           "ticks": "",
           "title": {
            "standoff": 15
           },
           "zerolinecolor": "white",
           "zerolinewidth": 2
          }
         }
        },
        "title": {
         "text": "Technical Analysis"
        },
        "xaxis": {
         "anchor": "y",
         "domain": [
          0,
          1
         ],
         "matches": "x4",
         "rangeslider": {
          "visible": false
         },
         "showticklabels": false
        },
        "xaxis2": {
         "anchor": "y2",
         "domain": [
          0,
          1
         ],
         "matches": "x4",
         "showticklabels": false
        },
        "xaxis3": {
         "anchor": "y3",
         "domain": [
          0,
          1
         ],
         "matches": "x4",
         "showticklabels": false
        },
        "xaxis4": {
         "anchor": "y4",
         "domain": [
          0,
          1
         ]
        },
        "yaxis": {
         "anchor": "x",
         "domain": [
          0.66,
          1
         ],
         "title": {
          "text": "Price"
         }
        },
        "yaxis2": {
         "anchor": "x2",
         "domain": [
          0.44000000000000006,
          0.6100000000000001
         ],
         "title": {
          "text": "Volume"
         }
        },
        "yaxis3": {
         "anchor": "x3",
         "domain": [
          0.22000000000000003,
          0.39
         ],
         "title": {
          "text": "RSI"
         }
        },
        "yaxis4": {
         "anchor": "x4",
         "domain": [
          0,
          0.17
         ],
         "title": {
          "text": "MACD"
         }
        }
       }
      }
     },
     "metadata": {},
     "output_type": "display_data"
    },
    {
     "name": "stdout",
     "output_type": "stream",
     "text": [
      "\n",
      "Generating technical analysis plot for META...\n"
     ]
    },
    {
     "data": {
      "application/vnd.plotly.v1+json": {
       "config": {
        "plotlyServerURL": "https://plot.ly"
       },
       "data": [
        {
         "close": {
          "bdata": "AAAAIK4bfkAAAACgmQF/QAAAAAAA2H5AAAAAgBSWe0AAAADgo7R7QAAAAIDrCXtAAAAAYLjiekABAABACnN7QAEAAEDhmntAAAAAIFw/fEABAABA4Rp9QAAAAADXQ31AAAAAoJmJfUAAAABguLZ9QAEAAEAzw31AAAAAAClAfUAAAACgmX19QAAAAOCjGH5AAAAAIK6TfUAAAABgj359QAAAAKBwTX1AAAAAgBQKfUAAAADgejx9QAAAAOB6HH1AAAAAIIXjfUAAAABguP59QAAAAIDCpX1AAQAAwMwwfUAAAACgRy19QAAAAADX131AAAAAANfPfUAAAADA9fB+QAAAAAAp3H5AAAAAIFzPfkAAAACgmWl/QAAAACCFt39AAAAAoHDNf0AAAACgmYF/QAAAAGCPgn9AAAAAgBSqf0AAAAAA1zd/QAEAAEAzW39AAAAA4HrsfkAAAABgjy5/QAAAAKCZ6X9AAAAAwPUIgEAAAADgejyAQAAAACCFg39AAQAAQOGKf0AAAAAAANh/QAAAACBc339AAAAAoEffgEAAAABgj4qAQAAAAAAAkIBAAAAAIIW1gEAAAACgmQWAQAAAAIDrLX9AAAAAYI8Cf0AAAADgo5x+QAAAAADX33xAAAAAoJm9fUAAAADgo8x9QAAAAGBmdn5AAQAAQAqLfkAAAADgUdR8QAAAAGCPVnxAAQAAQDMbfUAAAAAgXBt9QAEAAEAK83xA",
          "dtype": "f8"
         },
         "high": {
          "bdata": "AAAAACnAfkAAAAAAKSx/QAAAAAAA4H9AAAAA4FHce0ABAABACud7QAAAAAApfHtAAAAAgOt5e0AAAAAgXB98QAAAACBcv3tAAAAAYLhifEAAAABgjyJ9QAAAAOB6eH1AAAAAoEe5fUAAAACgR8F9QAAAAAAA2H1AAAAAoJmVfUAAAADgo4h9QAAAAAAAKH5AAQAAQArbfUABAADAzIx9QAEAAEAzk31AAQAAQDNrfUAAAAAghZt9QAAAAIDCpX1AAAAAoJn9fUAAAACAwg1+QAAAAKCZ/X1AAAAAIK57fUAAAACA61F9QAAAAKCZ+X1AAAAAgD3ufUAAAABgZgp/QAEAAMAebX9AAAAAYI8uf0AAAABgj2p/QAAAAKCZuX9AAAAAgBQQgEAAAACAwtV/QAAAAGBmsn9AAAAAAADsf0AAAAAAAKB/QAAAAGC4en9AAQAAQDN3f0ABAADAzLx/QAAAACBc639AAAAA4HoOgEAAAABACleAQAAAAEAKT4BAAAAAoEepf0AAAAAAAOh/QAAAAOB69H9AAAAAwPXmgEAAAADgevaAQAAAAADXy4BAAAAAQArXgEAAAAAgrruAQAAAAKBwwX9AAQAAQOGqf0ABAABAM39/QAAAAGC48n1AAAAAANfzfUAAAAAgXGt+QAAAAMD1wH5AAAAAIIXzfkABAADAzMR9QAEAAMDM+HxAAAAA4FFcfUAAAAAgXJ99QAAAACCui31A",
          "dtype": "f8"
         },
         "low": {
          "bdata": "AAAAYGaWfUAAAAAghY9+QAAAAKBHSX5AAAAAAADoeUAAAAAgXP96QAAAAMD1yHpAAAAAIIXbekAAAACAwrF6QAAAAOB6BHtAAAAAoJm9e0AAAACgcFV8QAAAAMD11HxAAAAAAADwfEAAAACAFDp9QAAAAKCZWX1AAAAAoJntfEAAAACgR8F8QAEAAEAzc31AAAAAAACMfUAAAABguEZ9QAAAAOCjMH1AAAAA4FHkfEAAAABgZhp9QAAAAOCj2HxAAQAAwMwkfUAAAACgcK19QAEAAEAzm31AAAAAIFwLfUAAAAAgXGd8QAAAAADXQ31AAAAAIK6TfUAAAABgjz5+QAAAAIA9rn5AAAAAYLiifkAAAABgj9Z+QAAAAOBRJH9AAAAAIIWHf0AAAACAwlV/QAAAAAAATH9AAAAAACkAf0AAAADgUfB+QAAAAOBRDH9AAAAAgD3GfkAAAADgo+R+QAAAAAAA+H5AAQAAQOGKf0AAAABAMw+AQAAAAKBwfX9AAAAAYLjSfkABAABAMzd/QAAAAOBRoH9AAAAAoJn5f0AAAABAM3WAQAAAACCFgYBAAAAAQOGCgEAAAACA68V/QAAAACCu435AAAAAgOvVfkAAAADgo1x+QAAAAIDrsXxAAAAA4KMIfUAAAAAgXLt9QAAAAGBmPn5AAAAAIIV7fkAAAACgR8l8QAAAAGBmqntAAAAAYLi2fEAAAADgURB9QAEAAEAzi3xA",
          "dtype": "f8"
         },
         "name": "OHLC",
         "open": {
          "bdata": "AAAAIIWbfkAAAAAAALR+QAAAAMD1wH9AAAAAYGZWekAAAAAgXJd7QAAAAMD1eHtAAQAAwMzwekAAAACgmcl6QAAAAKBwbXtAAQAAQOHee0AAAACgR3l8QAAAAOCjJH1AAAAAAAD4fEAAAAAAAGB9QAAAAKBw0X1AAAAAAACMfUAAAACA6/V8QAAAACCur31AAAAAAACwfUAAAACgR219QAEAAEAzX31AAAAAgOsxfUAAAACA6z19QAAAAIAUjn1AAAAAgOs5fUAAAACgR8l9QAAAAGCPqn1AAAAAYLh6fUABAADAzBx9QAAAAIDCbX1AAAAAAADQfUABAABAM0d+QAAAACCuz35AAAAAYI/+fkAAAACAwt1+QAAAAGCPQn9AAAAAgOsPgEAAAAAgXJt/QAAAAGBman9AAAAAYLhaf0AAAADA9Yh/QAAAAAAAYH9AAQAAQDN3f0ABAABAMzN/QAEAAMDMEH9AAAAAYGaqf0AAAAAAABKAQAAAAEAzKYBAAQAAQDOPf0AAAAAAKUx/QAAAAIDrpX9AAAAAoJn5f0AAAADAzPKAQAAAAAAAroBAAAAA4FGWgEAAAADAHpeAQAAAAAApHH9AAAAAgBQqf0AAAAAAAFh/QAAAAGC48n1AAAAAAACwfUAAAADA9cB9QAAAAKBHaX5AAAAAoHCdfkAAAADA9YR9QAAAAAAp9HxAAQAAQDMDfUAAAACAFF59QAAAAAAAMH1A",
          "dtype": "f8"
         },
         "type": "candlestick",
         "x": [
          "2024-04-22T00:00:00.000000000",
          "2024-04-23T00:00:00.000000000",
          "2024-04-24T00:00:00.000000000",
          "2024-04-25T00:00:00.000000000",
          "2024-04-26T00:00:00.000000000",
          "2024-04-29T00:00:00.000000000",
          "2024-04-30T00:00:00.000000000",
          "2024-05-01T00:00:00.000000000",
          "2024-05-02T00:00:00.000000000",
          "2024-05-03T00:00:00.000000000",
          "2024-05-06T00:00:00.000000000",
          "2024-05-07T00:00:00.000000000",
          "2024-05-08T00:00:00.000000000",
          "2024-05-09T00:00:00.000000000",
          "2024-05-10T00:00:00.000000000",
          "2024-05-13T00:00:00.000000000",
          "2024-05-14T00:00:00.000000000",
          "2024-05-15T00:00:00.000000000",
          "2024-05-16T00:00:00.000000000",
          "2024-05-17T00:00:00.000000000",
          "2024-05-20T00:00:00.000000000",
          "2024-05-21T00:00:00.000000000",
          "2024-05-22T00:00:00.000000000",
          "2024-05-23T00:00:00.000000000",
          "2024-05-24T00:00:00.000000000",
          "2024-05-28T00:00:00.000000000",
          "2024-05-29T00:00:00.000000000",
          "2024-05-30T00:00:00.000000000",
          "2024-05-31T00:00:00.000000000",
          "2024-06-03T00:00:00.000000000",
          "2024-06-04T00:00:00.000000000",
          "2024-06-05T00:00:00.000000000",
          "2024-06-06T00:00:00.000000000",
          "2024-06-07T00:00:00.000000000",
          "2024-06-10T00:00:00.000000000",
          "2024-06-11T00:00:00.000000000",
          "2024-06-12T00:00:00.000000000",
          "2024-06-13T00:00:00.000000000",
          "2024-06-14T00:00:00.000000000",
          "2024-06-17T00:00:00.000000000",
          "2024-06-18T00:00:00.000000000",
          "2024-06-20T00:00:00.000000000",
          "2024-06-21T00:00:00.000000000",
          "2024-06-24T00:00:00.000000000",
          "2024-06-25T00:00:00.000000000",
          "2024-06-26T00:00:00.000000000",
          "2024-06-27T00:00:00.000000000",
          "2024-06-28T00:00:00.000000000",
          "2024-07-01T00:00:00.000000000",
          "2024-07-02T00:00:00.000000000",
          "2024-07-03T00:00:00.000000000",
          "2024-07-05T00:00:00.000000000",
          "2024-07-08T00:00:00.000000000",
          "2024-07-09T00:00:00.000000000",
          "2024-07-10T00:00:00.000000000",
          "2024-07-11T00:00:00.000000000",
          "2024-07-12T00:00:00.000000000",
          "2024-07-15T00:00:00.000000000",
          "2024-07-16T00:00:00.000000000",
          "2024-07-17T00:00:00.000000000",
          "2024-07-18T00:00:00.000000000",
          "2024-07-19T00:00:00.000000000",
          "2024-07-22T00:00:00.000000000",
          "2024-07-23T00:00:00.000000000",
          "2024-07-24T00:00:00.000000000",
          "2024-07-25T00:00:00.000000000",
          "2024-07-26T00:00:00.000000000",
          "2024-07-29T00:00:00.000000000",
          "2024-07-30T00:00:00.000000000"
         ],
         "xaxis": "x",
         "yaxis": "y"
        },
        {
         "line": {
          "color": "blue"
         },
         "name": "SMA 20",
         "type": "scatter",
         "x": [
          "2024-04-22T00:00:00.000000000",
          "2024-04-23T00:00:00.000000000",
          "2024-04-24T00:00:00.000000000",
          "2024-04-25T00:00:00.000000000",
          "2024-04-26T00:00:00.000000000",
          "2024-04-29T00:00:00.000000000",
          "2024-04-30T00:00:00.000000000",
          "2024-05-01T00:00:00.000000000",
          "2024-05-02T00:00:00.000000000",
          "2024-05-03T00:00:00.000000000",
          "2024-05-06T00:00:00.000000000",
          "2024-05-07T00:00:00.000000000",
          "2024-05-08T00:00:00.000000000",
          "2024-05-09T00:00:00.000000000",
          "2024-05-10T00:00:00.000000000",
          "2024-05-13T00:00:00.000000000",
          "2024-05-14T00:00:00.000000000",
          "2024-05-15T00:00:00.000000000",
          "2024-05-16T00:00:00.000000000",
          "2024-05-17T00:00:00.000000000",
          "2024-05-20T00:00:00.000000000",
          "2024-05-21T00:00:00.000000000",
          "2024-05-22T00:00:00.000000000",
          "2024-05-23T00:00:00.000000000",
          "2024-05-24T00:00:00.000000000",
          "2024-05-28T00:00:00.000000000",
          "2024-05-29T00:00:00.000000000",
          "2024-05-30T00:00:00.000000000",
          "2024-05-31T00:00:00.000000000",
          "2024-06-03T00:00:00.000000000",
          "2024-06-04T00:00:00.000000000",
          "2024-06-05T00:00:00.000000000",
          "2024-06-06T00:00:00.000000000",
          "2024-06-07T00:00:00.000000000",
          "2024-06-10T00:00:00.000000000",
          "2024-06-11T00:00:00.000000000",
          "2024-06-12T00:00:00.000000000",
          "2024-06-13T00:00:00.000000000",
          "2024-06-14T00:00:00.000000000",
          "2024-06-17T00:00:00.000000000",
          "2024-06-18T00:00:00.000000000",
          "2024-06-20T00:00:00.000000000",
          "2024-06-21T00:00:00.000000000",
          "2024-06-24T00:00:00.000000000",
          "2024-06-25T00:00:00.000000000",
          "2024-06-26T00:00:00.000000000",
          "2024-06-27T00:00:00.000000000",
          "2024-06-28T00:00:00.000000000",
          "2024-07-01T00:00:00.000000000",
          "2024-07-02T00:00:00.000000000",
          "2024-07-03T00:00:00.000000000",
          "2024-07-05T00:00:00.000000000",
          "2024-07-08T00:00:00.000000000",
          "2024-07-09T00:00:00.000000000",
          "2024-07-10T00:00:00.000000000",
          "2024-07-11T00:00:00.000000000",
          "2024-07-12T00:00:00.000000000",
          "2024-07-15T00:00:00.000000000",
          "2024-07-16T00:00:00.000000000",
          "2024-07-17T00:00:00.000000000",
          "2024-07-18T00:00:00.000000000",
          "2024-07-19T00:00:00.000000000",
          "2024-07-22T00:00:00.000000000",
          "2024-07-23T00:00:00.000000000",
          "2024-07-24T00:00:00.000000000",
          "2024-07-25T00:00:00.000000000",
          "2024-07-26T00:00:00.000000000",
          "2024-07-29T00:00:00.000000000",
          "2024-07-30T00:00:00.000000000"
         ],
         "xaxis": "x",
         "y": {
          "bdata": "zczM/H5xf0BmZmbG9Wt/QM3MzEwMan9AZmZmZhBAf0CamZlpOx5/QJqZmYE/735AMzMz83y5fkBmZma2coN+QDMzM1sOTH5AZmZmhsAPfkAzMzNj5eR9QAAAAND3vX1AMzMzGy+YfUBmZmb2/XF9QDMzM5tuVX1AMzMz86c7fUAzMzP7UyV9QDMzM1s5G31AmpmZOV4EfUCamZlBCv18QJqZmWG68nxAMzMzU43ZfEBmZmbe+cR8QM3MzPx+2HxAZmZmpnD0fECamZmxRxp9QM3MzMyhPX1AZmZmhutTfUBmZmY+Cmh9QJqZmcl2fH1AMzMzE4OFfUAAAADQ95p9QJqZmWHlq31AmpmZke25fUCamZlJDM99QJqZmbGd7n1AZmZmPjUMfkAAAACIQR5+QGZmZv7/Nn5AZmZmpsZSfkDNzMzES2t+QM3MzLTziH5AZmZmTo2efkDNzMxUDrl+QJqZmcH10n5AzczMHIXtfkAzMzMTrhF/QGZmZn5qL39AzczMLLJNf0AzMzPTTWd/QM3MzBSugX9AMzMzW4+lf0AzMzMLAsJ/QGZmZtaj339AZmZm3k/5f0CamZn5fv1/QGZmZh6F9X9AmpmZASvvf0AAAAAIrON/QJqZmcH1v39AmpmZSQytf0AAAAC4Hpl/QDMzM0s3k39AzczMPAqLf0AzMzNzk2N/QAAAANjOM39AmpmZUbgIf0AAAAB46el+QJqZmVG4yH5A",
          "dtype": "f8"
         },
         "yaxis": "y"
        },
        {
         "line": {
          "color": "orange"
         },
         "name": "SMA 50",
         "type": "scatter",
         "x": [
          "2024-04-22T00:00:00.000000000",
          "2024-04-23T00:00:00.000000000",
          "2024-04-24T00:00:00.000000000",
          "2024-04-25T00:00:00.000000000",
          "2024-04-26T00:00:00.000000000",
          "2024-04-29T00:00:00.000000000",
          "2024-04-30T00:00:00.000000000",
          "2024-05-01T00:00:00.000000000",
          "2024-05-02T00:00:00.000000000",
          "2024-05-03T00:00:00.000000000",
          "2024-05-06T00:00:00.000000000",
          "2024-05-07T00:00:00.000000000",
          "2024-05-08T00:00:00.000000000",
          "2024-05-09T00:00:00.000000000",
          "2024-05-10T00:00:00.000000000",
          "2024-05-13T00:00:00.000000000",
          "2024-05-14T00:00:00.000000000",
          "2024-05-15T00:00:00.000000000",
          "2024-05-16T00:00:00.000000000",
          "2024-05-17T00:00:00.000000000",
          "2024-05-20T00:00:00.000000000",
          "2024-05-21T00:00:00.000000000",
          "2024-05-22T00:00:00.000000000",
          "2024-05-23T00:00:00.000000000",
          "2024-05-24T00:00:00.000000000",
          "2024-05-28T00:00:00.000000000",
          "2024-05-29T00:00:00.000000000",
          "2024-05-30T00:00:00.000000000",
          "2024-05-31T00:00:00.000000000",
          "2024-06-03T00:00:00.000000000",
          "2024-06-04T00:00:00.000000000",
          "2024-06-05T00:00:00.000000000",
          "2024-06-06T00:00:00.000000000",
          "2024-06-07T00:00:00.000000000",
          "2024-06-10T00:00:00.000000000",
          "2024-06-11T00:00:00.000000000",
          "2024-06-12T00:00:00.000000000",
          "2024-06-13T00:00:00.000000000",
          "2024-06-14T00:00:00.000000000",
          "2024-06-17T00:00:00.000000000",
          "2024-06-18T00:00:00.000000000",
          "2024-06-20T00:00:00.000000000",
          "2024-06-21T00:00:00.000000000",
          "2024-06-24T00:00:00.000000000",
          "2024-06-25T00:00:00.000000000",
          "2024-06-26T00:00:00.000000000",
          "2024-06-27T00:00:00.000000000",
          "2024-06-28T00:00:00.000000000",
          "2024-07-01T00:00:00.000000000",
          "2024-07-02T00:00:00.000000000",
          "2024-07-03T00:00:00.000000000",
          "2024-07-05T00:00:00.000000000",
          "2024-07-08T00:00:00.000000000",
          "2024-07-09T00:00:00.000000000",
          "2024-07-10T00:00:00.000000000",
          "2024-07-11T00:00:00.000000000",
          "2024-07-12T00:00:00.000000000",
          "2024-07-15T00:00:00.000000000",
          "2024-07-16T00:00:00.000000000",
          "2024-07-17T00:00:00.000000000",
          "2024-07-18T00:00:00.000000000",
          "2024-07-19T00:00:00.000000000",
          "2024-07-22T00:00:00.000000000",
          "2024-07-23T00:00:00.000000000",
          "2024-07-24T00:00:00.000000000",
          "2024-07-25T00:00:00.000000000",
          "2024-07-26T00:00:00.000000000",
          "2024-07-29T00:00:00.000000000",
          "2024-07-30T00:00:00.000000000"
         ],
         "xaxis": "x",
         "y": {
          "bdata": "7FG43uDlfkAAAADQ1e5+QLgehQu19n5A16Nw3bXwfkBcj8IVHed+QD0K15Op1n5ArkfhutrIfkCkcD1qb75+QClcj9IAtn5A16NwnRGrfkAfhethMqV+QGZmZnbgoH5AhetRuECcfkBcj8I1gJl+QArXoxALlX5AexSuBxKKfkAfhetBpIF+QBSuRzHdfn5ACtejgIx3fkA9CtfDqGp+QGZmZrbIXn5AKVyPgrdYfkBxPQqHfE5+QBSuRyH0RH5AMzMzM5lAfkBmZmbGQj9+QOF6FL4FOH5A9ihcf64ufkAzMzMDTSJ+QK5H4UqdGH5AUrgehS8OfkAAAABwowt+QClcj/L0Cn5AhetROKsKfkAAAACAHRB+QM3MzAxGFX5Aw/UorPEYfkB7FK5nGRh+QAAAAKDvFX5A9ihcD08PfkAfhetR/Ah+QClcjyIfBH5AmpmZCRv8fUCuR+F6WPR9QMP1KPzt831A7FG47g34fUApXI/yY/59QOF6FD6bAX5Aw/UoLIcCfkCF61EooAt+QB+F68GoFH5AuB6Fq60ifkC4HoULJC5+QLgehct/Sn5AhetRSL9nfkAAAABwX4F+QHE9Cldbl35AKVyPUpapfkDsUbh++7h+QHE9CicxvH5AexSuR3K/fkApXI+yLsJ+QM3MzBzrxn5ACtejMCrLfkD2KFwfY8Z+QHE9Che3wX5AhetRSL+/fkDNzMx8rrp+QClcjwJ4t35A",
          "dtype": "f8"
         },
         "yaxis": "y"
        },
        {
         "line": {
          "color": "red"
         },
         "name": "SMA 200",
         "type": "scatter",
         "x": [
          "2024-04-22T00:00:00.000000000",
          "2024-04-23T00:00:00.000000000",
          "2024-04-24T00:00:00.000000000",
          "2024-04-25T00:00:00.000000000",
          "2024-04-26T00:00:00.000000000",
          "2024-04-29T00:00:00.000000000",
          "2024-04-30T00:00:00.000000000",
          "2024-05-01T00:00:00.000000000",
          "2024-05-02T00:00:00.000000000",
          "2024-05-03T00:00:00.000000000",
          "2024-05-06T00:00:00.000000000",
          "2024-05-07T00:00:00.000000000",
          "2024-05-08T00:00:00.000000000",
          "2024-05-09T00:00:00.000000000",
          "2024-05-10T00:00:00.000000000",
          "2024-05-13T00:00:00.000000000",
          "2024-05-14T00:00:00.000000000",
          "2024-05-15T00:00:00.000000000",
          "2024-05-16T00:00:00.000000000",
          "2024-05-17T00:00:00.000000000",
          "2024-05-20T00:00:00.000000000",
          "2024-05-21T00:00:00.000000000",
          "2024-05-22T00:00:00.000000000",
          "2024-05-23T00:00:00.000000000",
          "2024-05-24T00:00:00.000000000",
          "2024-05-28T00:00:00.000000000",
          "2024-05-29T00:00:00.000000000",
          "2024-05-30T00:00:00.000000000",
          "2024-05-31T00:00:00.000000000",
          "2024-06-03T00:00:00.000000000",
          "2024-06-04T00:00:00.000000000",
          "2024-06-05T00:00:00.000000000",
          "2024-06-06T00:00:00.000000000",
          "2024-06-07T00:00:00.000000000",
          "2024-06-10T00:00:00.000000000",
          "2024-06-11T00:00:00.000000000",
          "2024-06-12T00:00:00.000000000",
          "2024-06-13T00:00:00.000000000",
          "2024-06-14T00:00:00.000000000",
          "2024-06-17T00:00:00.000000000",
          "2024-06-18T00:00:00.000000000",
          "2024-06-20T00:00:00.000000000",
          "2024-06-21T00:00:00.000000000",
          "2024-06-24T00:00:00.000000000",
          "2024-06-25T00:00:00.000000000",
          "2024-06-26T00:00:00.000000000",
          "2024-06-27T00:00:00.000000000",
          "2024-06-28T00:00:00.000000000",
          "2024-07-01T00:00:00.000000000",
          "2024-07-02T00:00:00.000000000",
          "2024-07-03T00:00:00.000000000",
          "2024-07-05T00:00:00.000000000",
          "2024-07-08T00:00:00.000000000",
          "2024-07-09T00:00:00.000000000",
          "2024-07-10T00:00:00.000000000",
          "2024-07-11T00:00:00.000000000",
          "2024-07-12T00:00:00.000000000",
          "2024-07-15T00:00:00.000000000",
          "2024-07-16T00:00:00.000000000",
          "2024-07-17T00:00:00.000000000",
          "2024-07-18T00:00:00.000000000",
          "2024-07-19T00:00:00.000000000",
          "2024-07-22T00:00:00.000000000",
          "2024-07-23T00:00:00.000000000",
          "2024-07-24T00:00:00.000000000",
          "2024-07-25T00:00:00.000000000",
          "2024-07-26T00:00:00.000000000",
          "2024-07-29T00:00:00.000000000",
          "2024-07-30T00:00:00.000000000"
         ],
         "xaxis": "x",
         "y": {
          "bdata": "XI/CtZUZd0AK16PIByp3QK5H4X77OXdAKVyP+m1Fd0BmZmZGJVB3QOF6FLKuWXdAuB6F62Jjd0AK16MIrG13QDMzM9sKeHdACtejHOuCd0CPwvWg+I93QFK4Hr3jnXdA4XoUal6sd0AUrkdF2Lp3QOF6FCIOyXdAhetRKI/Vd0AK16PQROF3QLgehdNN7ndAH4XreVj6d0A9Ctcf9AZ4QOF6FNZnE3hAFK5HtbcfeECamZmx0Ct4QMP1KAAROHhArkfhPuhFeEA9Ctdz11N4QB+F68GoYXhAuB6FK4dueEDXo3Dpt3t4QI/C9dhfinhAmpmZ9bmZeEAAAADUq6p4QJqZmeH6unhA9ihcp2jLeEAfhevdE9x4QGZmZja87XhAMzMzN5r/eEAK16OotRB5QBSuRwU0IXlAexSuJyAyeUAfhevhaUJ5QOF6FNbWUnlAPQrX22hieUAK16OIY3J5QMP1KNxXg3lAUrgexY+UeUB7FK6HhaV5QNejcPW5tXlAUrgeLbLFeUAfheu1hNV5QHsUrldK5nlAmpmZeUf5eUDXo3AdOAt6QB+F60WlHXpASOF6LMMwekAK16Mc2kF6QArXo/ixUXpACtejoHhhekA9CtfP1XB6QMP1KER6fXpAexSuX4eLekAAAABcIJl6QPYoXA8LqHpAMzMzJ7G2ekCPwvXcNcN6QJqZmbE/znpAexSuNwnaekDNzMysi+V6QNejcA1g8HpA",
          "dtype": "f8"
         },
         "yaxis": "y"
        },
        {
         "line": {
          "color": "gray",
          "dash": "dash"
         },
         "name": "BB High",
         "type": "scatter",
         "x": [
          "2024-04-22T00:00:00.000000000",
          "2024-04-23T00:00:00.000000000",
          "2024-04-24T00:00:00.000000000",
          "2024-04-25T00:00:00.000000000",
          "2024-04-26T00:00:00.000000000",
          "2024-04-29T00:00:00.000000000",
          "2024-04-30T00:00:00.000000000",
          "2024-05-01T00:00:00.000000000",
          "2024-05-02T00:00:00.000000000",
          "2024-05-03T00:00:00.000000000",
          "2024-05-06T00:00:00.000000000",
          "2024-05-07T00:00:00.000000000",
          "2024-05-08T00:00:00.000000000",
          "2024-05-09T00:00:00.000000000",
          "2024-05-10T00:00:00.000000000",
          "2024-05-13T00:00:00.000000000",
          "2024-05-14T00:00:00.000000000",
          "2024-05-15T00:00:00.000000000",
          "2024-05-16T00:00:00.000000000",
          "2024-05-17T00:00:00.000000000",
          "2024-05-20T00:00:00.000000000",
          "2024-05-21T00:00:00.000000000",
          "2024-05-22T00:00:00.000000000",
          "2024-05-23T00:00:00.000000000",
          "2024-05-24T00:00:00.000000000",
          "2024-05-28T00:00:00.000000000",
          "2024-05-29T00:00:00.000000000",
          "2024-05-30T00:00:00.000000000",
          "2024-05-31T00:00:00.000000000",
          "2024-06-03T00:00:00.000000000",
          "2024-06-04T00:00:00.000000000",
          "2024-06-05T00:00:00.000000000",
          "2024-06-06T00:00:00.000000000",
          "2024-06-07T00:00:00.000000000",
          "2024-06-10T00:00:00.000000000",
          "2024-06-11T00:00:00.000000000",
          "2024-06-12T00:00:00.000000000",
          "2024-06-13T00:00:00.000000000",
          "2024-06-14T00:00:00.000000000",
          "2024-06-17T00:00:00.000000000",
          "2024-06-18T00:00:00.000000000",
          "2024-06-20T00:00:00.000000000",
          "2024-06-21T00:00:00.000000000",
          "2024-06-24T00:00:00.000000000",
          "2024-06-25T00:00:00.000000000",
          "2024-06-26T00:00:00.000000000",
          "2024-06-27T00:00:00.000000000",
          "2024-06-28T00:00:00.000000000",
          "2024-07-01T00:00:00.000000000",
          "2024-07-02T00:00:00.000000000",
          "2024-07-03T00:00:00.000000000",
          "2024-07-05T00:00:00.000000000",
          "2024-07-08T00:00:00.000000000",
          "2024-07-09T00:00:00.000000000",
          "2024-07-10T00:00:00.000000000",
          "2024-07-11T00:00:00.000000000",
          "2024-07-12T00:00:00.000000000",
          "2024-07-15T00:00:00.000000000",
          "2024-07-16T00:00:00.000000000",
          "2024-07-17T00:00:00.000000000",
          "2024-07-18T00:00:00.000000000",
          "2024-07-19T00:00:00.000000000",
          "2024-07-22T00:00:00.000000000",
          "2024-07-23T00:00:00.000000000",
          "2024-07-24T00:00:00.000000000",
          "2024-07-25T00:00:00.000000000",
          "2024-07-26T00:00:00.000000000",
          "2024-07-29T00:00:00.000000000",
          "2024-07-30T00:00:00.000000000"
         ],
         "xaxis": "x",
         "y": {
          "bdata": "1fjEDFiNgEATbYmz+IuAQCCECrQnjIBA2uzRXJvOgEC3hs6/KfaAQCKvshyzIIFAae+2htQ9gUDYQKoHWUCBQKzObWgINoFAo5GgJ1cLgUDFrWsxkeSAQF1EONdavYBATEErVHGOgEAT+EmQIFWAQBYz74mIK4BA2EWj9o8NgEDNPn3QXd9/QDrr+e26wH9AkZRx+Vl3f0Dk3G+9pGZ/QLUQ8V6ZT39AxDGbAXYEf0Do5YYSBL9+QHrBCoITwH5AK6dxz+7VfkAQDOkDptB+QJptlhd9oX5AsrOGuVpzfkC5yayC8DV+QB3mZW2IHH5AHMzuB+4ifkBS6j0yL3d+QNAKq3+DsH5AtWj16O3bfkBv24NX1Sh/QIfH5HSjfX9AahyR/VHKf0DKu2zQMfl/QMSrhsHREoBA3WwhEHkpgECy7sHY/zKAQCiltyJROYBAl6+7c544gED5K6qeFTaAQMCIZOHgRoBAGmdyX+pYgEBBK4thgG2AQPFj+1PsYIBAvLGDTnhKgEC7aZwLX0GAQGkb2ieBLYBA5VE7bKlzgEBTib7qoY2AQBg50nz+ooBAQVeF8gjBgEAUB58/ksKAQFa/d0SQw4BAfB7TUOPFgEB6f9qv8MuAQGMnaH6B84BArT9kBe/+gEDOqu/4qwaBQCYs/2j9B4FAwFLV53IIgUBUVPaQVBWBQGoTybsxIYFA/OaAKdAUgUBGpEaIRRKBQHP1dBPkDYFA",
          "dtype": "f8"
         },
         "yaxis": "y"
        },
        {
         "line": {
          "color": "gray",
          "dash": "dash"
         },
         "name": "BB Low",
         "type": "scatter",
         "x": [
          "2024-04-22T00:00:00.000000000",
          "2024-04-23T00:00:00.000000000",
          "2024-04-24T00:00:00.000000000",
          "2024-04-25T00:00:00.000000000",
          "2024-04-26T00:00:00.000000000",
          "2024-04-29T00:00:00.000000000",
          "2024-04-30T00:00:00.000000000",
          "2024-05-01T00:00:00.000000000",
          "2024-05-02T00:00:00.000000000",
          "2024-05-03T00:00:00.000000000",
          "2024-05-06T00:00:00.000000000",
          "2024-05-07T00:00:00.000000000",
          "2024-05-08T00:00:00.000000000",
          "2024-05-09T00:00:00.000000000",
          "2024-05-10T00:00:00.000000000",
          "2024-05-13T00:00:00.000000000",
          "2024-05-14T00:00:00.000000000",
          "2024-05-15T00:00:00.000000000",
          "2024-05-16T00:00:00.000000000",
          "2024-05-17T00:00:00.000000000",
          "2024-05-20T00:00:00.000000000",
          "2024-05-21T00:00:00.000000000",
          "2024-05-22T00:00:00.000000000",
          "2024-05-23T00:00:00.000000000",
          "2024-05-24T00:00:00.000000000",
          "2024-05-28T00:00:00.000000000",
          "2024-05-29T00:00:00.000000000",
          "2024-05-30T00:00:00.000000000",
          "2024-05-31T00:00:00.000000000",
          "2024-06-03T00:00:00.000000000",
          "2024-06-04T00:00:00.000000000",
          "2024-06-05T00:00:00.000000000",
          "2024-06-06T00:00:00.000000000",
          "2024-06-07T00:00:00.000000000",
          "2024-06-10T00:00:00.000000000",
          "2024-06-11T00:00:00.000000000",
          "2024-06-12T00:00:00.000000000",
          "2024-06-13T00:00:00.000000000",
          "2024-06-14T00:00:00.000000000",
          "2024-06-17T00:00:00.000000000",
          "2024-06-18T00:00:00.000000000",
          "2024-06-20T00:00:00.000000000",
          "2024-06-21T00:00:00.000000000",
          "2024-06-24T00:00:00.000000000",
          "2024-06-25T00:00:00.000000000",
          "2024-06-26T00:00:00.000000000",
          "2024-06-27T00:00:00.000000000",
          "2024-06-28T00:00:00.000000000",
          "2024-07-01T00:00:00.000000000",
          "2024-07-02T00:00:00.000000000",
          "2024-07-03T00:00:00.000000000",
          "2024-07-05T00:00:00.000000000",
          "2024-07-08T00:00:00.000000000",
          "2024-07-09T00:00:00.000000000",
          "2024-07-10T00:00:00.000000000",
          "2024-07-11T00:00:00.000000000",
          "2024-07-12T00:00:00.000000000",
          "2024-07-15T00:00:00.000000000",
          "2024-07-16T00:00:00.000000000",
          "2024-07-17T00:00:00.000000000",
          "2024-07-18T00:00:00.000000000",
          "2024-07-19T00:00:00.000000000",
          "2024-07-22T00:00:00.000000000",
          "2024-07-23T00:00:00.000000000",
          "2024-07-24T00:00:00.000000000",
          "2024-07-25T00:00:00.000000000",
          "2024-07-26T00:00:00.000000000",
          "2024-07-29T00:00:00.000000000",
          "2024-07-30T00:00:00.000000000"
         ],
         "xaxis": "x",
         "y": {
          "bdata": "8KcP4E3IfUCm8rkl+r99QFqRhDHJu31AGPMoE+rifEDFJZZTI1B8QO/UzckYnXtAlIf42FD3ekAcS3hdM4Z6QA7JiuULLHpAhqmLvdIIekDcCo9jqAB6QEV3j/E5AXpAzeMPjnsTekCm3DjMujl6QDkAiCLMU3pAttof+S9cekCZJ+klSmt6QCx7bMi3dXpAo57BeWKRekBQVsPFb5N6QH8iQmTblXpAojTLpKSuekDk5kWq78p6QCDYjnfq8HpAoSVbffISe0AkJ0pf6WN7QAAsA4LG2XtAGhlGU3w0fEATAyD6I5p8QBdNzSVl3HxASpp3HhjofECuFcJtwL58QGQoiENHp3xAf8o9Ou2XfEDFV687Q3V8QK1rTu6XX3xAYrA7fxhOfEA2RJM/UUN8QER1v3lcSHxAE/OJLJtSfEA2vBXYl3B8QEpPKiRFn3xAn21Vtd3LfECoQUVs8QV9QLQhasApGH1AZ8u0ejUpfUDjD1BjW0h9QOsE1lT8nH1AIjaSvHMGfkDxki2P3Ut+QMli5dlZqH5AnMLv3ctjfkDAU+lAwGh+QJtaKLNKeX5ASR7C141wfkALJfVz2XV+QB9O3bPpY35APfaMYY9SfkAMAUuwdi9+QG3kYobomH1A27NqiDpcfUBkqiB+5SR9QBoOaMRzFn1AGvTuqS4FfUC9vXnEfZx8QC3ZbTg6JXxAPWUxUNDne0B1t3LfR697QE1ISXyodXtA",
          "dtype": "f8"
         },
         "yaxis": "y"
        },
        {
         "name": "Volume",
         "type": "bar",
         "x": [
          "2024-04-22T00:00:00.000000000",
          "2024-04-23T00:00:00.000000000",
          "2024-04-24T00:00:00.000000000",
          "2024-04-25T00:00:00.000000000",
          "2024-04-26T00:00:00.000000000",
          "2024-04-29T00:00:00.000000000",
          "2024-04-30T00:00:00.000000000",
          "2024-05-01T00:00:00.000000000",
          "2024-05-02T00:00:00.000000000",
          "2024-05-03T00:00:00.000000000",
          "2024-05-06T00:00:00.000000000",
          "2024-05-07T00:00:00.000000000",
          "2024-05-08T00:00:00.000000000",
          "2024-05-09T00:00:00.000000000",
          "2024-05-10T00:00:00.000000000",
          "2024-05-13T00:00:00.000000000",
          "2024-05-14T00:00:00.000000000",
          "2024-05-15T00:00:00.000000000",
          "2024-05-16T00:00:00.000000000",
          "2024-05-17T00:00:00.000000000",
          "2024-05-20T00:00:00.000000000",
          "2024-05-21T00:00:00.000000000",
          "2024-05-22T00:00:00.000000000",
          "2024-05-23T00:00:00.000000000",
          "2024-05-24T00:00:00.000000000",
          "2024-05-28T00:00:00.000000000",
          "2024-05-29T00:00:00.000000000",
          "2024-05-30T00:00:00.000000000",
          "2024-05-31T00:00:00.000000000",
          "2024-06-03T00:00:00.000000000",
          "2024-06-04T00:00:00.000000000",
          "2024-06-05T00:00:00.000000000",
          "2024-06-06T00:00:00.000000000",
          "2024-06-07T00:00:00.000000000",
          "2024-06-10T00:00:00.000000000",
          "2024-06-11T00:00:00.000000000",
          "2024-06-12T00:00:00.000000000",
          "2024-06-13T00:00:00.000000000",
          "2024-06-14T00:00:00.000000000",
          "2024-06-17T00:00:00.000000000",
          "2024-06-18T00:00:00.000000000",
          "2024-06-20T00:00:00.000000000",
          "2024-06-21T00:00:00.000000000",
          "2024-06-24T00:00:00.000000000",
          "2024-06-25T00:00:00.000000000",
          "2024-06-26T00:00:00.000000000",
          "2024-06-27T00:00:00.000000000",
          "2024-06-28T00:00:00.000000000",
          "2024-07-01T00:00:00.000000000",
          "2024-07-02T00:00:00.000000000",
          "2024-07-03T00:00:00.000000000",
          "2024-07-05T00:00:00.000000000",
          "2024-07-08T00:00:00.000000000",
          "2024-07-09T00:00:00.000000000",
          "2024-07-10T00:00:00.000000000",
          "2024-07-11T00:00:00.000000000",
          "2024-07-12T00:00:00.000000000",
          "2024-07-15T00:00:00.000000000",
          "2024-07-16T00:00:00.000000000",
          "2024-07-17T00:00:00.000000000",
          "2024-07-18T00:00:00.000000000",
          "2024-07-19T00:00:00.000000000",
          "2024-07-22T00:00:00.000000000",
          "2024-07-23T00:00:00.000000000",
          "2024-07-24T00:00:00.000000000",
          "2024-07-25T00:00:00.000000000",
          "2024-07-26T00:00:00.000000000",
          "2024-07-29T00:00:00.000000000",
          "2024-07-30T00:00:00.000000000"
         ],
         "xaxis": "x2",
         "y": {
          "bdata": "PIkHASAX5gCcXUACzM/wBMjU8gGIGkgBPDYZAURwNgE0QugAjJr7AEhT5gBQkswAPEiyAAQCkAAwCKQAANTfAAjknwDU5ccAyGv9AATopABMN7MA+CuzAIjJmQA8QrMADEu3ADhFmwDYx4wAYM6jAPgsAgEoHKwAPCpsAARr7wAkxaIAXCOPACR2qwDkm5MAYNm2ACjllwDkTJwAKOqrADBJxwBwErQATPJgATRhzgDox7gAfIiHAPBvmgD87fEAiJidAGwYdgBgo1sAdNZFAXyf4wAwkIUAhJenADwi+wBkXi0BQFW/AJjH1gA4aqwBgP4lAVgp5wA8dbcAjEeQACRQDQH0UxYBQATZAFAHrQDAza0A",
          "dtype": "i4"
         },
         "yaxis": "y2"
        },
        {
         "name": "RSI",
         "type": "scatter",
         "x": [
          "2024-04-22T00:00:00.000000000",
          "2024-04-23T00:00:00.000000000",
          "2024-04-24T00:00:00.000000000",
          "2024-04-25T00:00:00.000000000",
          "2024-04-26T00:00:00.000000000",
          "2024-04-29T00:00:00.000000000",
          "2024-04-30T00:00:00.000000000",
          "2024-05-01T00:00:00.000000000",
          "2024-05-02T00:00:00.000000000",
          "2024-05-03T00:00:00.000000000",
          "2024-05-06T00:00:00.000000000",
          "2024-05-07T00:00:00.000000000",
          "2024-05-08T00:00:00.000000000",
          "2024-05-09T00:00:00.000000000",
          "2024-05-10T00:00:00.000000000",
          "2024-05-13T00:00:00.000000000",
          "2024-05-14T00:00:00.000000000",
          "2024-05-15T00:00:00.000000000",
          "2024-05-16T00:00:00.000000000",
          "2024-05-17T00:00:00.000000000",
          "2024-05-20T00:00:00.000000000",
          "2024-05-21T00:00:00.000000000",
          "2024-05-22T00:00:00.000000000",
          "2024-05-23T00:00:00.000000000",
          "2024-05-24T00:00:00.000000000",
          "2024-05-28T00:00:00.000000000",
          "2024-05-29T00:00:00.000000000",
          "2024-05-30T00:00:00.000000000",
          "2024-05-31T00:00:00.000000000",
          "2024-06-03T00:00:00.000000000",
          "2024-06-04T00:00:00.000000000",
          "2024-06-05T00:00:00.000000000",
          "2024-06-06T00:00:00.000000000",
          "2024-06-07T00:00:00.000000000",
          "2024-06-10T00:00:00.000000000",
          "2024-06-11T00:00:00.000000000",
          "2024-06-12T00:00:00.000000000",
          "2024-06-13T00:00:00.000000000",
          "2024-06-14T00:00:00.000000000",
          "2024-06-17T00:00:00.000000000",
          "2024-06-18T00:00:00.000000000",
          "2024-06-20T00:00:00.000000000",
          "2024-06-21T00:00:00.000000000",
          "2024-06-24T00:00:00.000000000",
          "2024-06-25T00:00:00.000000000",
          "2024-06-26T00:00:00.000000000",
          "2024-06-27T00:00:00.000000000",
          "2024-06-28T00:00:00.000000000",
          "2024-07-01T00:00:00.000000000",
          "2024-07-02T00:00:00.000000000",
          "2024-07-03T00:00:00.000000000",
          "2024-07-05T00:00:00.000000000",
          "2024-07-08T00:00:00.000000000",
          "2024-07-09T00:00:00.000000000",
          "2024-07-10T00:00:00.000000000",
          "2024-07-11T00:00:00.000000000",
          "2024-07-12T00:00:00.000000000",
          "2024-07-15T00:00:00.000000000",
          "2024-07-16T00:00:00.000000000",
          "2024-07-17T00:00:00.000000000",
          "2024-07-18T00:00:00.000000000",
          "2024-07-19T00:00:00.000000000",
          "2024-07-22T00:00:00.000000000",
          "2024-07-23T00:00:00.000000000",
          "2024-07-24T00:00:00.000000000",
          "2024-07-25T00:00:00.000000000",
          "2024-07-26T00:00:00.000000000",
          "2024-07-29T00:00:00.000000000",
          "2024-07-30T00:00:00.000000000"
         ],
         "xaxis": "x3",
         "y": {
          "bdata": "ujwKRFC5REAUN+eDFJJIQKszuPwO9UdAaBLHYKQiP0DApw1yewlAQMBD0QCdpD1AaBoLZgAZPUDaomitfvVAQBa3zAQQnUFAFMzGeTY8REAMAf3vXVZHQA8pT7Nh4kdAb+nxzMzUSEBUnL3khXNJQJn8bSpNoUlAqw7btfqtR0DRfSreT6dIQFySU38x+EpAuFiQkOneSEA1H/i5RItIQAHZp5obw0dA3mNNZMixRkCTIHUpBaZHQASKP87CGEdAMjAdzLS7SkCYngTi4S9LQElelD97cElAZVdR7C9RR0A/6QNLF0FHQAajRrOtjUpACd3n4JVjSkA0pVeiaflOQG+5yGrgg05AlAcPsuE3TkCYu+OGwTdQQNIoDhf6uFBAYmEZQz7dUECKFOM/4bRPQJn1Wh60uE9AiGCuERYuUEBOfwzSnC9NQKWg/rNP2E1AyIukRU/3SkBuoq9yjk9MQGzB8dtelk9AWltteAobUEBlarkQQt1QQGEBygxqrEtAmeZY0VvNS0ARQfZ5ZyhNQAriN0KvSU1AgXhgwYjLUUBOo5rDBeVPQFRoaF4IA1BAPPxEHr92UEDHzzN1d0JKQLBT21yjF0dAV/B3K+iERkBvEueEGzBFQKQ0Lue9lEBAK1K2vhUTREA+ei9pIk1EQM05ZU5YzkZAPvcN8mEaR0BP6sN/bXtCQI5XlQ9HaEFATFUu/XVQREAuH5W1DVFEQLm2ay8K5UNA",
          "dtype": "f8"
         },
         "yaxis": "y3"
        },
        {
         "name": "MACD",
         "type": "scatter",
         "x": [
          "2024-04-22T00:00:00.000000000",
          "2024-04-23T00:00:00.000000000",
          "2024-04-24T00:00:00.000000000",
          "2024-04-25T00:00:00.000000000",
          "2024-04-26T00:00:00.000000000",
          "2024-04-29T00:00:00.000000000",
          "2024-04-30T00:00:00.000000000",
          "2024-05-01T00:00:00.000000000",
          "2024-05-02T00:00:00.000000000",
          "2024-05-03T00:00:00.000000000",
          "2024-05-06T00:00:00.000000000",
          "2024-05-07T00:00:00.000000000",
          "2024-05-08T00:00:00.000000000",
          "2024-05-09T00:00:00.000000000",
          "2024-05-10T00:00:00.000000000",
          "2024-05-13T00:00:00.000000000",
          "2024-05-14T00:00:00.000000000",
          "2024-05-15T00:00:00.000000000",
          "2024-05-16T00:00:00.000000000",
          "2024-05-17T00:00:00.000000000",
          "2024-05-20T00:00:00.000000000",
          "2024-05-21T00:00:00.000000000",
          "2024-05-22T00:00:00.000000000",
          "2024-05-23T00:00:00.000000000",
          "2024-05-24T00:00:00.000000000",
          "2024-05-28T00:00:00.000000000",
          "2024-05-29T00:00:00.000000000",
          "2024-05-30T00:00:00.000000000",
          "2024-05-31T00:00:00.000000000",
          "2024-06-03T00:00:00.000000000",
          "2024-06-04T00:00:00.000000000",
          "2024-06-05T00:00:00.000000000",
          "2024-06-06T00:00:00.000000000",
          "2024-06-07T00:00:00.000000000",
          "2024-06-10T00:00:00.000000000",
          "2024-06-11T00:00:00.000000000",
          "2024-06-12T00:00:00.000000000",
          "2024-06-13T00:00:00.000000000",
          "2024-06-14T00:00:00.000000000",
          "2024-06-17T00:00:00.000000000",
          "2024-06-18T00:00:00.000000000",
          "2024-06-20T00:00:00.000000000",
          "2024-06-21T00:00:00.000000000",
          "2024-06-24T00:00:00.000000000",
          "2024-06-25T00:00:00.000000000",
          "2024-06-26T00:00:00.000000000",
          "2024-06-27T00:00:00.000000000",
          "2024-06-28T00:00:00.000000000",
          "2024-07-01T00:00:00.000000000",
          "2024-07-02T00:00:00.000000000",
          "2024-07-03T00:00:00.000000000",
          "2024-07-05T00:00:00.000000000",
          "2024-07-08T00:00:00.000000000",
          "2024-07-09T00:00:00.000000000",
          "2024-07-10T00:00:00.000000000",
          "2024-07-11T00:00:00.000000000",
          "2024-07-12T00:00:00.000000000",
          "2024-07-15T00:00:00.000000000",
          "2024-07-16T00:00:00.000000000",
          "2024-07-17T00:00:00.000000000",
          "2024-07-18T00:00:00.000000000",
          "2024-07-19T00:00:00.000000000",
          "2024-07-22T00:00:00.000000000",
          "2024-07-23T00:00:00.000000000",
          "2024-07-24T00:00:00.000000000",
          "2024-07-25T00:00:00.000000000",
          "2024-07-26T00:00:00.000000000",
          "2024-07-29T00:00:00.000000000",
          "2024-07-30T00:00:00.000000000"
         ],
         "xaxis": "x4",
         "y": {
          "bdata": "AEzRWDhv1D8AQPR6b6q2PwDU7k4cPtO/QJufGiEKE8BArHuYDRggwKA7L/F6wybAwI77Bd0eLMCgl1hG3Y4uwED6sbbnuC/A4GmOcP+hLsDAu6w0vj0rwIChiWp03SfAYClg35pAJMCgreLNvr0gwAAmqfefWRvAwGwcX+XYGMCAa9c7vGAVwADD77XxpQ7AgFQZR8IdCsAAJ5mjPhwHwIA/cPx7cwbAAK967ZBdCMCAxc5I05MHwIAE7Hi69wfAgBrQxrYPAMAA/25ItTLxvwAwViGgz+i/AIV+3eTW8b8Ah/3anCz2vwDs2qJ7bOe/ANCo4QcU0L8AiDBc4B35PwAsvFbY/wZAgKB6DzRoDkDAEZEvFQIVQIAwx2/W3hpAQI4BZSmYH0CA7L25IrYgQGC6QW81PyFAQLSpXivdIUBA60qqMAEhQMCUcUp/fSBAALD4MiaXHUAAqLDKQOobQADiQ4WzAx5AAFV/R4gPIEBg9SZS/7ohQKCqyqmkYyBAALq9DzdzHkCAkNdyGtEdQEDIIE6uIB1AwOCJQv/nIkDA1F9vRGckQKAyq4rMcyVAwI1fWyjHJkDAbBLtcAwkQMAnWURS8x5AgGdl0BmRFkAAEB7U0WoLQACSBMM6EeK/gCBa6smjBMCAkEZ95DcQwIAANkjuRBHAwAD5VfV7EcDAWb406TMawGBT0RkanyHAoG1bN1MAI8BAYt+uOd0jwGBwEMtEtyTA",
          "dtype": "f8"
         },
         "yaxis": "y4"
        },
        {
         "name": "Signal",
         "type": "scatter",
         "x": [
          "2024-04-22T00:00:00.000000000",
          "2024-04-23T00:00:00.000000000",
          "2024-04-24T00:00:00.000000000",
          "2024-04-25T00:00:00.000000000",
          "2024-04-26T00:00:00.000000000",
          "2024-04-29T00:00:00.000000000",
          "2024-04-30T00:00:00.000000000",
          "2024-05-01T00:00:00.000000000",
          "2024-05-02T00:00:00.000000000",
          "2024-05-03T00:00:00.000000000",
          "2024-05-06T00:00:00.000000000",
          "2024-05-07T00:00:00.000000000",
          "2024-05-08T00:00:00.000000000",
          "2024-05-09T00:00:00.000000000",
          "2024-05-10T00:00:00.000000000",
          "2024-05-13T00:00:00.000000000",
          "2024-05-14T00:00:00.000000000",
          "2024-05-15T00:00:00.000000000",
          "2024-05-16T00:00:00.000000000",
          "2024-05-17T00:00:00.000000000",
          "2024-05-20T00:00:00.000000000",
          "2024-05-21T00:00:00.000000000",
          "2024-05-22T00:00:00.000000000",
          "2024-05-23T00:00:00.000000000",
          "2024-05-24T00:00:00.000000000",
          "2024-05-28T00:00:00.000000000",
          "2024-05-29T00:00:00.000000000",
          "2024-05-30T00:00:00.000000000",
          "2024-05-31T00:00:00.000000000",
          "2024-06-03T00:00:00.000000000",
          "2024-06-04T00:00:00.000000000",
          "2024-06-05T00:00:00.000000000",
          "2024-06-06T00:00:00.000000000",
          "2024-06-07T00:00:00.000000000",
          "2024-06-10T00:00:00.000000000",
          "2024-06-11T00:00:00.000000000",
          "2024-06-12T00:00:00.000000000",
          "2024-06-13T00:00:00.000000000",
          "2024-06-14T00:00:00.000000000",
          "2024-06-17T00:00:00.000000000",
          "2024-06-18T00:00:00.000000000",
          "2024-06-20T00:00:00.000000000",
          "2024-06-21T00:00:00.000000000",
          "2024-06-24T00:00:00.000000000",
          "2024-06-25T00:00:00.000000000",
          "2024-06-26T00:00:00.000000000",
          "2024-06-27T00:00:00.000000000",
          "2024-06-28T00:00:00.000000000",
          "2024-07-01T00:00:00.000000000",
          "2024-07-02T00:00:00.000000000",
          "2024-07-03T00:00:00.000000000",
          "2024-07-05T00:00:00.000000000",
          "2024-07-08T00:00:00.000000000",
          "2024-07-09T00:00:00.000000000",
          "2024-07-10T00:00:00.000000000",
          "2024-07-11T00:00:00.000000000",
          "2024-07-12T00:00:00.000000000",
          "2024-07-15T00:00:00.000000000",
          "2024-07-16T00:00:00.000000000",
          "2024-07-17T00:00:00.000000000",
          "2024-07-18T00:00:00.000000000",
          "2024-07-19T00:00:00.000000000",
          "2024-07-22T00:00:00.000000000",
          "2024-07-23T00:00:00.000000000",
          "2024-07-24T00:00:00.000000000",
          "2024-07-25T00:00:00.000000000",
          "2024-07-26T00:00:00.000000000",
          "2024-07-29T00:00:00.000000000",
          "2024-07-30T00:00:00.000000000"
         ],
         "xaxis": "x4",
         "y": {
          "bdata": "xZrQzRV9FEBqcjxkM3YQQMPxzYSR2wlAnwb9iwEk+j9sbIep61nTv1iH5lFgJQTA1wj0735OE8DsdrN1JKsbwJ9hayBwaSHArMnYllkOJMB9YDaDOn4lwBgHR36s9yXA9A1MK9yfJcBKlNBL1qUkwKItngjVQCPAL/yawyfjIcB/VN4ImXIgwBmByAaNYR3AIVaJDNEdGsCblWMaRzQXwDyxJ3v4zhTAF2wSR1UVE8DSA71Z2Z8RwIID4lMNfxDAt9cs4TmbDcATxvvUpmcJwHa6DayAkAXAeKKXbBcJA8BH3MVsInIBwHLeuKR2Qf6/9VXcGywC+b+87Bluhvftv1wCLLHGS8a/IbO/tc7d4z/aVVoIysD4P/JoDTBApgRAD8Bx6EMoDUA6eHna9VgSQFVESNumkxVAXhjkbjBoGEDMpAfQ01MaQFe/Zvd1qBtARrxQA2YLHEAFhf33xAQcQGtk2K30ahxA8Avg2pMoHUBOBfbPQmseQEwVSeoQ5B5A18/G8X7NHkDGXP1xBJseQEVyBJ5ZTx5AHoIHmXrPH0D/xK+GC84gQB8O4u3+uyFA2Vouajq+IkChkfUdEgEjQEfFM4VjTCJAX1sAmTjlIECYYNBWPMYdQKHJ+WYoXhdApzcl7lihEECmhVKx/x4EQKQIjHvaYPI/oGMa9bbjpj8d0qr91WP0v4xjheDQQAbARe1Z1nSAEMAe5Tq+pyUVwKZKz087NBnA",
          "dtype": "f8"
         },
         "yaxis": "y4"
        },
        {
         "name": "MACD Diff",
         "type": "bar",
         "x": [
          "2024-04-22T00:00:00.000000000",
          "2024-04-23T00:00:00.000000000",
          "2024-04-24T00:00:00.000000000",
          "2024-04-25T00:00:00.000000000",
          "2024-04-26T00:00:00.000000000",
          "2024-04-29T00:00:00.000000000",
          "2024-04-30T00:00:00.000000000",
          "2024-05-01T00:00:00.000000000",
          "2024-05-02T00:00:00.000000000",
          "2024-05-03T00:00:00.000000000",
          "2024-05-06T00:00:00.000000000",
          "2024-05-07T00:00:00.000000000",
          "2024-05-08T00:00:00.000000000",
          "2024-05-09T00:00:00.000000000",
          "2024-05-10T00:00:00.000000000",
          "2024-05-13T00:00:00.000000000",
          "2024-05-14T00:00:00.000000000",
          "2024-05-15T00:00:00.000000000",
          "2024-05-16T00:00:00.000000000",
          "2024-05-17T00:00:00.000000000",
          "2024-05-20T00:00:00.000000000",
          "2024-05-21T00:00:00.000000000",
          "2024-05-22T00:00:00.000000000",
          "2024-05-23T00:00:00.000000000",
          "2024-05-24T00:00:00.000000000",
          "2024-05-28T00:00:00.000000000",
          "2024-05-29T00:00:00.000000000",
          "2024-05-30T00:00:00.000000000",
          "2024-05-31T00:00:00.000000000",
          "2024-06-03T00:00:00.000000000",
          "2024-06-04T00:00:00.000000000",
          "2024-06-05T00:00:00.000000000",
          "2024-06-06T00:00:00.000000000",
          "2024-06-07T00:00:00.000000000",
          "2024-06-10T00:00:00.000000000",
          "2024-06-11T00:00:00.000000000",
          "2024-06-12T00:00:00.000000000",
          "2024-06-13T00:00:00.000000000",
          "2024-06-14T00:00:00.000000000",
          "2024-06-17T00:00:00.000000000",
          "2024-06-18T00:00:00.000000000",
          "2024-06-20T00:00:00.000000000",
          "2024-06-21T00:00:00.000000000",
          "2024-06-24T00:00:00.000000000",
          "2024-06-25T00:00:00.000000000",
          "2024-06-26T00:00:00.000000000",
          "2024-06-27T00:00:00.000000000",
          "2024-06-28T00:00:00.000000000",
          "2024-07-01T00:00:00.000000000",
          "2024-07-02T00:00:00.000000000",
          "2024-07-03T00:00:00.000000000",
          "2024-07-05T00:00:00.000000000",
          "2024-07-08T00:00:00.000000000",
          "2024-07-09T00:00:00.000000000",
          "2024-07-10T00:00:00.000000000",
          "2024-07-11T00:00:00.000000000",
          "2024-07-12T00:00:00.000000000",
          "2024-07-15T00:00:00.000000000",
          "2024-07-16T00:00:00.000000000",
          "2024-07-17T00:00:00.000000000",
          "2024-07-18T00:00:00.000000000",
          "2024-07-19T00:00:00.000000000",
          "2024-07-22T00:00:00.000000000",
          "2024-07-23T00:00:00.000000000",
          "2024-07-24T00:00:00.000000000",
          "2024-07-25T00:00:00.000000000",
          "2024-07-26T00:00:00.000000000",
          "2024-07-29T00:00:00.000000000",
          "2024-07-30T00:00:00.000000000"
         ],
         "xaxis": "x4",
         "y": {
          "bdata": "BYZDSCI2E8BqoVCmiRsQwEPMqw5VQwzA6NyefSGTGcC54V52fPoewMqZtdwiuiHAVIoBjp13IsAq3H4LS7kgwEIxjSzvnhzAaEBrs0snFcAMbdnFDv4GwICmKcR+XO6/QEm+vhT05T9QNW/vu0D/P4hqJjMUUAZAPBczUNTaBUD8esqr6wgHQDI/oVcoHQxAwlf50d8dCkA2BC6RT0wHQPgi3/l0KgNAXFJUQTOa+z9IhFbVvlf3PwgFsF3ADPI/bnq5NAYX+z+TRsQwTM4AQOxccEcxuf4/8L+w+0k79D8cYxz9T2/pP3JoS9M4i/I/9SFyIyr99D8vv57J0QwEQCbszsGUZAhAuLMKYsBwCUCT+PRaxaMNQAd8wFe2ixBAOK7IcAcEEUCMwQQynyYOQNZgdgaI1QlARKDenEykBkDQxjgSNrr+P6So8XUiSvU/oDt/+gK82D8ABd1MLYSav1DZt3bti9k/gPD0oOWz5z/IlV9R7yr0P0D/w5SGM94/wHVFgviRtr/AiLnkPz3Jv1CgOv606tK/iP0wsA8C+D8IfoBFx8n8PwgkSeZsvv0/nMvExLcjAEDwsc3x7LXgPziLORjTlfa/fJ42w65yBsCYWMFs0xAQwOFbWr9PoBnA50dS4z3zGsBT0+9VZEcawKkCGeck3RXAhzXjw7ypEcA5pVO18xoVwPr0X8PLHRjA++1cmDGAFcBi34Ofy5QSwBqWUUZOOhDA",
          "dtype": "f8"
         },
         "yaxis": "y4"
        }
       ],
       "layout": {
        "height": 1000,
        "shapes": [
         {
          "line": {
           "color": "red",
           "dash": "dash"
          },
          "type": "line",
          "x0": 0,
          "x1": 1,
          "xref": "x3 domain",
          "y0": 70,
          "y1": 70,
          "yref": "y3"
         },
         {
          "line": {
           "color": "green",
           "dash": "dash"
          },
          "type": "line",
          "x0": 0,
          "x1": 1,
          "xref": "x3 domain",
          "y0": 30,
          "y1": 30,
          "yref": "y3"
         }
        ],
        "template": {
         "data": {
          "bar": [
           {
            "error_x": {
             "color": "#2a3f5f"
            },
            "error_y": {
             "color": "#2a3f5f"
            },
            "marker": {
             "line": {
              "color": "#E5ECF6",
              "width": 0.5
             },
             "pattern": {
              "fillmode": "overlay",
              "size": 10,
              "solidity": 0.2
             }
            },
            "type": "bar"
           }
          ],
          "barpolar": [
           {
            "marker": {
             "line": {
              "color": "#E5ECF6",
              "width": 0.5
             },
             "pattern": {
              "fillmode": "overlay",
              "size": 10,
              "solidity": 0.2
             }
            },
            "type": "barpolar"
           }
          ],
          "carpet": [
           {
            "aaxis": {
             "endlinecolor": "#2a3f5f",
             "gridcolor": "white",
             "linecolor": "white",
             "minorgridcolor": "white",
             "startlinecolor": "#2a3f5f"
            },
            "baxis": {
             "endlinecolor": "#2a3f5f",
             "gridcolor": "white",
             "linecolor": "white",
             "minorgridcolor": "white",
             "startlinecolor": "#2a3f5f"
            },
            "type": "carpet"
           }
          ],
          "choropleth": [
           {
            "colorbar": {
             "outlinewidth": 0,
             "ticks": ""
            },
            "type": "choropleth"
           }
          ],
          "contour": [
           {
            "colorbar": {
             "outlinewidth": 0,
             "ticks": ""
            },
            "colorscale": [
             [
              0,
              "#0d0887"
             ],
             [
              0.1111111111111111,
              "#46039f"
             ],
             [
              0.2222222222222222,
              "#7201a8"
             ],
             [
              0.3333333333333333,
              "#9c179e"
             ],
             [
              0.4444444444444444,
              "#bd3786"
             ],
             [
              0.5555555555555556,
              "#d8576b"
             ],
             [
              0.6666666666666666,
              "#ed7953"
             ],
             [
              0.7777777777777778,
              "#fb9f3a"
             ],
             [
              0.8888888888888888,
              "#fdca26"
             ],
             [
              1,
              "#f0f921"
             ]
            ],
            "type": "contour"
           }
          ],
          "contourcarpet": [
           {
            "colorbar": {
             "outlinewidth": 0,
             "ticks": ""
            },
            "type": "contourcarpet"
           }
          ],
          "heatmap": [
           {
            "colorbar": {
             "outlinewidth": 0,
             "ticks": ""
            },
            "colorscale": [
             [
              0,
              "#0d0887"
             ],
             [
              0.1111111111111111,
              "#46039f"
             ],
             [
              0.2222222222222222,
              "#7201a8"
             ],
             [
              0.3333333333333333,
              "#9c179e"
             ],
             [
              0.4444444444444444,
              "#bd3786"
             ],
             [
              0.5555555555555556,
              "#d8576b"
             ],
             [
              0.6666666666666666,
              "#ed7953"
             ],
             [
              0.7777777777777778,
              "#fb9f3a"
             ],
             [
              0.8888888888888888,
              "#fdca26"
             ],
             [
              1,
              "#f0f921"
             ]
            ],
            "type": "heatmap"
           }
          ],
          "histogram": [
           {
            "marker": {
             "pattern": {
              "fillmode": "overlay",
              "size": 10,
              "solidity": 0.2
             }
            },
            "type": "histogram"
           }
          ],
          "histogram2d": [
           {
            "colorbar": {
             "outlinewidth": 0,
             "ticks": ""
            },
            "colorscale": [
             [
              0,
              "#0d0887"
             ],
             [
              0.1111111111111111,
              "#46039f"
             ],
             [
              0.2222222222222222,
              "#7201a8"
             ],
             [
              0.3333333333333333,
              "#9c179e"
             ],
             [
              0.4444444444444444,
              "#bd3786"
             ],
             [
              0.5555555555555556,
              "#d8576b"
             ],
             [
              0.6666666666666666,
              "#ed7953"
             ],
             [
              0.7777777777777778,
              "#fb9f3a"
             ],
             [
              0.8888888888888888,
              "#fdca26"
             ],
             [
              1,
              "#f0f921"
             ]
            ],
            "type": "histogram2d"
           }
          ],
          "histogram2dcontour": [
           {
            "colorbar": {
             "outlinewidth": 0,
             "ticks": ""
            },
            "colorscale": [
             [
              0,
              "#0d0887"
             ],
             [
              0.1111111111111111,
              "#46039f"
             ],
             [
              0.2222222222222222,
              "#7201a8"
             ],
             [
              0.3333333333333333,
              "#9c179e"
             ],
             [
              0.4444444444444444,
              "#bd3786"
             ],
             [
              0.5555555555555556,
              "#d8576b"
             ],
             [
              0.6666666666666666,
              "#ed7953"
             ],
             [
              0.7777777777777778,
              "#fb9f3a"
             ],
             [
              0.8888888888888888,
              "#fdca26"
             ],
             [
              1,
              "#f0f921"
             ]
            ],
            "type": "histogram2dcontour"
           }
          ],
          "mesh3d": [
           {
            "colorbar": {
             "outlinewidth": 0,
             "ticks": ""
            },
            "type": "mesh3d"
           }
          ],
          "parcoords": [
           {
            "line": {
             "colorbar": {
              "outlinewidth": 0,
              "ticks": ""
             }
            },
            "type": "parcoords"
           }
          ],
          "pie": [
           {
            "automargin": true,
            "type": "pie"
           }
          ],
          "scatter": [
           {
            "fillpattern": {
             "fillmode": "overlay",
             "size": 10,
             "solidity": 0.2
            },
            "type": "scatter"
           }
          ],
          "scatter3d": [
           {
            "line": {
             "colorbar": {
              "outlinewidth": 0,
              "ticks": ""
             }
            },
            "marker": {
             "colorbar": {
              "outlinewidth": 0,
              "ticks": ""
             }
            },
            "type": "scatter3d"
           }
          ],
          "scattercarpet": [
           {
            "marker": {
             "colorbar": {
              "outlinewidth": 0,
              "ticks": ""
             }
            },
            "type": "scattercarpet"
           }
          ],
          "scattergeo": [
           {
            "marker": {
             "colorbar": {
              "outlinewidth": 0,
              "ticks": ""
             }
            },
            "type": "scattergeo"
           }
          ],
          "scattergl": [
           {
            "marker": {
             "colorbar": {
              "outlinewidth": 0,
              "ticks": ""
             }
            },
            "type": "scattergl"
           }
          ],
          "scattermap": [
           {
            "marker": {
             "colorbar": {
              "outlinewidth": 0,
              "ticks": ""
             }
            },
            "type": "scattermap"
           }
          ],
          "scattermapbox": [
           {
            "marker": {
             "colorbar": {
              "outlinewidth": 0,
              "ticks": ""
             }
            },
            "type": "scattermapbox"
           }
          ],
          "scatterpolar": [
           {
            "marker": {
             "colorbar": {
              "outlinewidth": 0,
              "ticks": ""
             }
            },
            "type": "scatterpolar"
           }
          ],
          "scatterpolargl": [
           {
            "marker": {
             "colorbar": {
              "outlinewidth": 0,
              "ticks": ""
             }
            },
            "type": "scatterpolargl"
           }
          ],
          "scatterternary": [
           {
            "marker": {
             "colorbar": {
              "outlinewidth": 0,
              "ticks": ""
             }
            },
            "type": "scatterternary"
           }
          ],
          "surface": [
           {
            "colorbar": {
             "outlinewidth": 0,
             "ticks": ""
            },
            "colorscale": [
             [
              0,
              "#0d0887"
             ],
             [
              0.1111111111111111,
              "#46039f"
             ],
             [
              0.2222222222222222,
              "#7201a8"
             ],
             [
              0.3333333333333333,
              "#9c179e"
             ],
             [
              0.4444444444444444,
              "#bd3786"
             ],
             [
              0.5555555555555556,
              "#d8576b"
             ],
             [
              0.6666666666666666,
              "#ed7953"
             ],
             [
              0.7777777777777778,
              "#fb9f3a"
             ],
             [
              0.8888888888888888,
              "#fdca26"
             ],
             [
              1,
              "#f0f921"
             ]
            ],
            "type": "surface"
           }
          ],
          "table": [
           {
            "cells": {
             "fill": {
              "color": "#EBF0F8"
             },
             "line": {
              "color": "white"
             }
            },
            "header": {
             "fill": {
              "color": "#C8D4E3"
             },
             "line": {
              "color": "white"
             }
            },
            "type": "table"
           }
          ]
         },
         "layout": {
          "annotationdefaults": {
           "arrowcolor": "#2a3f5f",
           "arrowhead": 0,
           "arrowwidth": 1
          },
          "autotypenumbers": "strict",
          "coloraxis": {
           "colorbar": {
            "outlinewidth": 0,
            "ticks": ""
           }
          },
          "colorscale": {
           "diverging": [
            [
             0,
             "#8e0152"
            ],
            [
             0.1,
             "#c51b7d"
            ],
            [
             0.2,
             "#de77ae"
            ],
            [
             0.3,
             "#f1b6da"
            ],
            [
             0.4,
             "#fde0ef"
            ],
            [
             0.5,
             "#f7f7f7"
            ],
            [
             0.6,
             "#e6f5d0"
            ],
            [
             0.7,
             "#b8e186"
            ],
            [
             0.8,
             "#7fbc41"
            ],
            [
             0.9,
             "#4d9221"
            ],
            [
             1,
             "#276419"
            ]
           ],
           "sequential": [
            [
             0,
             "#0d0887"
            ],
            [
             0.1111111111111111,
             "#46039f"
            ],
            [
             0.2222222222222222,
             "#7201a8"
            ],
            [
             0.3333333333333333,
             "#9c179e"
            ],
            [
             0.4444444444444444,
             "#bd3786"
            ],
            [
             0.5555555555555556,
             "#d8576b"
            ],
            [
             0.6666666666666666,
             "#ed7953"
            ],
            [
             0.7777777777777778,
             "#fb9f3a"
            ],
            [
             0.8888888888888888,
             "#fdca26"
            ],
            [
             1,
             "#f0f921"
            ]
           ],
           "sequentialminus": [
            [
             0,
             "#0d0887"
            ],
            [
             0.1111111111111111,
             "#46039f"
            ],
            [
             0.2222222222222222,
             "#7201a8"
            ],
            [
             0.3333333333333333,
             "#9c179e"
            ],
            [
             0.4444444444444444,
             "#bd3786"
            ],
            [
             0.5555555555555556,
             "#d8576b"
            ],
            [
             0.6666666666666666,
             "#ed7953"
            ],
            [
             0.7777777777777778,
             "#fb9f3a"
            ],
            [
             0.8888888888888888,
             "#fdca26"
            ],
            [
             1,
             "#f0f921"
            ]
           ]
          },
          "colorway": [
           "#636efa",
           "#EF553B",
           "#00cc96",
           "#ab63fa",
           "#FFA15A",
           "#19d3f3",
           "#FF6692",
           "#B6E880",
           "#FF97FF",
           "#FECB52"
          ],
          "font": {
           "color": "#2a3f5f"
          },
          "geo": {
           "bgcolor": "white",
           "lakecolor": "white",
           "landcolor": "#E5ECF6",
           "showlakes": true,
           "showland": true,
           "subunitcolor": "white"
          },
          "hoverlabel": {
           "align": "left"
          },
          "hovermode": "closest",
          "mapbox": {
           "style": "light"
          },
          "paper_bgcolor": "white",
          "plot_bgcolor": "#E5ECF6",
          "polar": {
           "angularaxis": {
            "gridcolor": "white",
            "linecolor": "white",
            "ticks": ""
           },
           "bgcolor": "#E5ECF6",
           "radialaxis": {
            "gridcolor": "white",
            "linecolor": "white",
            "ticks": ""
           }
          },
          "scene": {
           "xaxis": {
            "backgroundcolor": "#E5ECF6",
            "gridcolor": "white",
            "gridwidth": 2,
            "linecolor": "white",
            "showbackground": true,
            "ticks": "",
            "zerolinecolor": "white"
           },
           "yaxis": {
            "backgroundcolor": "#E5ECF6",
            "gridcolor": "white",
            "gridwidth": 2,
            "linecolor": "white",
            "showbackground": true,
            "ticks": "",
            "zerolinecolor": "white"
           },
           "zaxis": {
            "backgroundcolor": "#E5ECF6",
            "gridcolor": "white",
            "gridwidth": 2,
            "linecolor": "white",
            "showbackground": true,
            "ticks": "",
            "zerolinecolor": "white"
           }
          },
          "shapedefaults": {
           "line": {
            "color": "#2a3f5f"
           }
          },
          "ternary": {
           "aaxis": {
            "gridcolor": "white",
            "linecolor": "white",
            "ticks": ""
           },
           "baxis": {
            "gridcolor": "white",
            "linecolor": "white",
            "ticks": ""
           },
           "bgcolor": "#E5ECF6",
           "caxis": {
            "gridcolor": "white",
            "linecolor": "white",
            "ticks": ""
           }
          },
          "title": {
           "x": 0.05
          },
          "xaxis": {
           "automargin": true,
           "gridcolor": "white",
           "linecolor": "white",
           "ticks": "",
           "title": {
            "standoff": 15
           },
           "zerolinecolor": "white",
           "zerolinewidth": 2
          },
          "yaxis": {
           "automargin": true,
           "gridcolor": "white",
           "linecolor": "white",
           "ticks": "",
           "title": {
            "standoff": 15
           },
           "zerolinecolor": "white",
           "zerolinewidth": 2
          }
         }
        },
        "title": {
         "text": "Technical Analysis"
        },
        "xaxis": {
         "anchor": "y",
         "domain": [
          0,
          1
         ],
         "matches": "x4",
         "rangeslider": {
          "visible": false
         },
         "showticklabels": false
        },
        "xaxis2": {
         "anchor": "y2",
         "domain": [
          0,
          1
         ],
         "matches": "x4",
         "showticklabels": false
        },
        "xaxis3": {
         "anchor": "y3",
         "domain": [
          0,
          1
         ],
         "matches": "x4",
         "showticklabels": false
        },
        "xaxis4": {
         "anchor": "y4",
         "domain": [
          0,
          1
         ]
        },
        "yaxis": {
         "anchor": "x",
         "domain": [
          0.66,
          1
         ],
         "title": {
          "text": "Price"
         }
        },
        "yaxis2": {
         "anchor": "x2",
         "domain": [
          0.44000000000000006,
          0.6100000000000001
         ],
         "title": {
          "text": "Volume"
         }
        },
        "yaxis3": {
         "anchor": "x3",
         "domain": [
          0.22000000000000003,
          0.39
         ],
         "title": {
          "text": "RSI"
         }
        },
        "yaxis4": {
         "anchor": "x4",
         "domain": [
          0,
          0.17
         ],
         "title": {
          "text": "MACD"
         }
        }
       }
      }
     },
     "metadata": {},
     "output_type": "display_data"
    },
    {
     "name": "stdout",
     "output_type": "stream",
     "text": [
      "\n",
      "Generating technical analysis plot for MSFT...\n"
     ]
    },
    {
     "data": {
      "application/vnd.plotly.v1+json": {
       "config": {
        "plotlyServerURL": "https://plot.ly"
       },
       "data": [
        {
         "close": {
          "bdata": "AAAAIFwPeUABAADAHnl5QAAAAMD1kHlAAAAA4KPweEABAADAHmV5QAAAAAAAJHlAAAAAoEdVeEABAABACq94QAAAAKBw3XhAAAAAYI9qeUAAAADgo9h5QAAAAKBwlXlAAAAA4KOoeUABAADAHsV5QAAAAADX63lAAAAAIIXbeUAAAADA9Qh6QAAAAKBHcXpAAAAAANdPekAAAAAgXEN6QAAAAKBwlXpAAAAA4KPQekAAAADgUeh6QAAAAAAAsHpAAAAAYI/iekABAADAHuV6QAAAAGC40npAAAAAYLjqeUAAAACAFPJ5QAAAAOBR2HlAAQAAwB4BekAAAAAAKYB6QAAAAOBRiHpAAAAAoJl9ekAAAACA6716QAEAAEDhCntAAAAAwPWQe0AAAACgR5l7QAEAAMAeqXtAAAAAgOsFfEAAAACgcOV7QAEAAEAz23tAAAAA4HocfEAAAABguPp7QAEAAEAzL3xAAAAAYI9CfEAAAACgmU18QAEAAEAz73tAAAAAIK6LfEAAAADgerR8QAAAAOBRzHxAAAAAwPU4fUAAAAAA1yN9QAAAAOCjuHxAAAAAAAAkfUABAABAM2t8QAEAAMDMWHxAAAAAIFxffEAAAADgURh8QAAAAOBRuHtAAAAAgOuFe0AAAACAwlF7QAEAAEAKr3tAAAAAoJnNe0AAAABgZs56QAAAAGBmJnpAAAAA4FGUekAAAAAgrqt6QAAAAGC4bnpA",
          "dtype": "f8"
         },
         "high": {
          "bdata": "AAAAoJkteUABAABAM4N5QAAAACCFx3lAAAAAgD3+eEAAAAAAANB5QAEAAMAeZXlAAAAAYI8ieUAAAAAghRt5QAEAAEDh/nhAAAAAYGZyeUABAABA4d55QAAAAGC46nlAAAAAIK7DeUAAAAAghct5QAAAAIAU9nlAAAAAoJklekAAAAAA1xd6QAAAAMD1fHpAAAAAYLiWekAAAABguG56QAAAAOBRrHpAAAAAIIUPe0AAAABgjwZ7QAAAAKCZGXtAAAAAwPXwekABAADAHu16QAEAAEAK73pAAQAAwMyEekAAAAAAAAx6QAEAAEDhBnpAAQAAQAoHekAAAACgR4F6QAAAAMD1lHpAAAAA4HqkekAAAACgR8F6QAEAAMAeDXtAAAAAYGa2e0AAAACAPbZ7QAAAAIA9sntAAQAAQAovfEAAAACAPSJ8QAAAAOB66HtAAAAAoEcpfEAAAAAAAEx8QAAAAGC4NnxAAAAAoJlZfEAAAABguIJ8QAAAAIAUdnxAAAAAgOuVfEAAAACgcLl8QAAAAOBR0HxAAAAAoJlFfUABAABAMzt9QAAAAKBHNX1AAAAAIFwnfUAAAADgegx9QAAAAIDChXxAAAAAACmUfEABAADAzGR8QAAAAKCZzXtAAAAAYGbKe0AAAACAPZJ7QAAAAKCZyXtAAAAAgD0GfEAAAAAgrpd7QAEAAMDM3HpAAAAAYLjOekAAAABgZgJ7QAEAAMDM0HpA",
          "dtype": "f8"
         },
         "low": {
          "bdata": "AAAAAAC8eEAAAADA9TB5QAAAAOB6bHlAAAAA4HpAeEAAAAAAKVx5QAEAAEAK83hAAAAAYLhSeEAAAADA9WR4QAAAAGBmqnhAAAAAgMIdeUAAAACA62V5QAAAAKBwkXlAAAAAIFxreUAAAACgmZF5QAEAAMDMvHlAAQAAwB6teUABAADAzLh5QAAAAOBRFHpAAAAAoJlFekAAAADgeiB6QAAAAADXP3pAAAAAoJmNekAAAACAFLJ6QAAAAGC4lnpAAAAAYI+GekAAAACgmal6QAEAAEAKm3pAAAAAANfjeUAAAAAAKUh5QAAAAGC4jnlAAQAAQOGaeUABAADAzAR6QAAAAKBHSXpAAAAAAABwekAAAACAPX56QAAAAAAAlHpAAAAAAAAUe0AAAACA63V7QAAAACCFS3tAAAAAIIWLe0AAAACAPc57QAAAAOBRlHtAAAAAACnoe0AAAABgj+Z7QAAAAAAA7HtAAQAAQAoDfEAAAADgUTx8QAAAAGCP5ntAAAAAYI/ae0AAAACAwlF8QAAAAIAUnnxAAAAAIIWvfEAAAAAgXAd9QAAAAAAAoHxAAAAAgMKtfEABAADAzDh8QAAAAGBmKnxAAQAAQOE2fEAAAABgj+p7QAEAAEDhcntAAAAAYGYme0AAAAAAAAB7QAAAAGCPbntAAAAAoJmxe0AAAACgcLl6QAAAAAApGHpAAAAA4FEUekABAABAM4t6QAAAAIDCFXpA",
          "dtype": "f8"
         },
         "name": "OHLC",
         "open": {
          "bdata": "AAAAoEcBeUAAAAAA10N5QAAAAMD1mHlAAAAA4HqgeEAAAABguMJ5QAAAAAAAVHlAAAAAANcXeUAAAACAwol4QAAAAGCP2nhAAAAA4HokeUAAAAAAKYx5QAAAAGCP6nlAAAAAYLiCeUABAADAHql5QAEAAEAKz3lAAAAAACkgekAAAADgUcB5QAAAAGBmHnpAAQAAwMxcekAAAADgo2h6QAAAACBcQ3pAAAAAoEetekAAAACgcOF6QAAAACCFD3tAAQAAQAqzekAAAACAFNp6QAEAAEAKm3pAAQAAwMyEekAAAAAAAAx6QAAAAOB6+HlAAQAAQOHGeUAAAADA9Rx6QAAAAAApgHpAAQAAQDOjekABAABAM4t6QAAAACCul3pAAQAAwB41e0AAAACgmY17QAAAAOB6ZHtAAAAAoHCpe0AAAAAgXBt8QAEAAMDM5HtAAAAAgBT2e0ABAADAzBx8QAAAAAAABHxAAAAAAAAQfEABAABA4UJ8QAEAAMAeUXxAAAAAYI8KfEABAABAM1N8QAEAAEAKo3xAAAAAgMK5fEABAADAzCh9QAAAAAAAMH1AAAAAIIXTfEAAAAAgru98QAAAAKBHZXxAAQAAwMxUfEAAAAAghWN8QAAAAKBwqXtAAAAAoHDFe0AAAACgmRF7QAAAAOCjnHtAAAAAYGa+e0ABAABAM4d7QAEAAMDMzHpAAQAAQDMjekAAAACgR/l6QAAAACCFu3pA",
          "dtype": "f8"
         },
         "type": "candlestick",
         "x": [
          "2024-04-22T00:00:00.000000000",
          "2024-04-23T00:00:00.000000000",
          "2024-04-24T00:00:00.000000000",
          "2024-04-25T00:00:00.000000000",
          "2024-04-26T00:00:00.000000000",
          "2024-04-29T00:00:00.000000000",
          "2024-04-30T00:00:00.000000000",
          "2024-05-01T00:00:00.000000000",
          "2024-05-02T00:00:00.000000000",
          "2024-05-03T00:00:00.000000000",
          "2024-05-06T00:00:00.000000000",
          "2024-05-07T00:00:00.000000000",
          "2024-05-08T00:00:00.000000000",
          "2024-05-09T00:00:00.000000000",
          "2024-05-10T00:00:00.000000000",
          "2024-05-13T00:00:00.000000000",
          "2024-05-14T00:00:00.000000000",
          "2024-05-15T00:00:00.000000000",
          "2024-05-16T00:00:00.000000000",
          "2024-05-17T00:00:00.000000000",
          "2024-05-20T00:00:00.000000000",
          "2024-05-21T00:00:00.000000000",
          "2024-05-22T00:00:00.000000000",
          "2024-05-23T00:00:00.000000000",
          "2024-05-24T00:00:00.000000000",
          "2024-05-28T00:00:00.000000000",
          "2024-05-29T00:00:00.000000000",
          "2024-05-30T00:00:00.000000000",
          "2024-05-31T00:00:00.000000000",
          "2024-06-03T00:00:00.000000000",
          "2024-06-04T00:00:00.000000000",
          "2024-06-05T00:00:00.000000000",
          "2024-06-06T00:00:00.000000000",
          "2024-06-07T00:00:00.000000000",
          "2024-06-10T00:00:00.000000000",
          "2024-06-11T00:00:00.000000000",
          "2024-06-12T00:00:00.000000000",
          "2024-06-13T00:00:00.000000000",
          "2024-06-14T00:00:00.000000000",
          "2024-06-17T00:00:00.000000000",
          "2024-06-18T00:00:00.000000000",
          "2024-06-20T00:00:00.000000000",
          "2024-06-21T00:00:00.000000000",
          "2024-06-24T00:00:00.000000000",
          "2024-06-25T00:00:00.000000000",
          "2024-06-26T00:00:00.000000000",
          "2024-06-27T00:00:00.000000000",
          "2024-06-28T00:00:00.000000000",
          "2024-07-01T00:00:00.000000000",
          "2024-07-02T00:00:00.000000000",
          "2024-07-03T00:00:00.000000000",
          "2024-07-05T00:00:00.000000000",
          "2024-07-08T00:00:00.000000000",
          "2024-07-09T00:00:00.000000000",
          "2024-07-10T00:00:00.000000000",
          "2024-07-11T00:00:00.000000000",
          "2024-07-12T00:00:00.000000000",
          "2024-07-15T00:00:00.000000000",
          "2024-07-16T00:00:00.000000000",
          "2024-07-17T00:00:00.000000000",
          "2024-07-18T00:00:00.000000000",
          "2024-07-19T00:00:00.000000000",
          "2024-07-22T00:00:00.000000000",
          "2024-07-23T00:00:00.000000000",
          "2024-07-24T00:00:00.000000000",
          "2024-07-25T00:00:00.000000000",
          "2024-07-26T00:00:00.000000000",
          "2024-07-29T00:00:00.000000000",
          "2024-07-30T00:00:00.000000000"
         ],
         "xaxis": "x",
         "yaxis": "y"
        },
        {
         "line": {
          "color": "blue"
         },
         "name": "SMA 20",
         "type": "scatter",
         "x": [
          "2024-04-22T00:00:00.000000000",
          "2024-04-23T00:00:00.000000000",
          "2024-04-24T00:00:00.000000000",
          "2024-04-25T00:00:00.000000000",
          "2024-04-26T00:00:00.000000000",
          "2024-04-29T00:00:00.000000000",
          "2024-04-30T00:00:00.000000000",
          "2024-05-01T00:00:00.000000000",
          "2024-05-02T00:00:00.000000000",
          "2024-05-03T00:00:00.000000000",
          "2024-05-06T00:00:00.000000000",
          "2024-05-07T00:00:00.000000000",
          "2024-05-08T00:00:00.000000000",
          "2024-05-09T00:00:00.000000000",
          "2024-05-10T00:00:00.000000000",
          "2024-05-13T00:00:00.000000000",
          "2024-05-14T00:00:00.000000000",
          "2024-05-15T00:00:00.000000000",
          "2024-05-16T00:00:00.000000000",
          "2024-05-17T00:00:00.000000000",
          "2024-05-20T00:00:00.000000000",
          "2024-05-21T00:00:00.000000000",
          "2024-05-22T00:00:00.000000000",
          "2024-05-23T00:00:00.000000000",
          "2024-05-24T00:00:00.000000000",
          "2024-05-28T00:00:00.000000000",
          "2024-05-29T00:00:00.000000000",
          "2024-05-30T00:00:00.000000000",
          "2024-05-31T00:00:00.000000000",
          "2024-06-03T00:00:00.000000000",
          "2024-06-04T00:00:00.000000000",
          "2024-06-05T00:00:00.000000000",
          "2024-06-06T00:00:00.000000000",
          "2024-06-07T00:00:00.000000000",
          "2024-06-10T00:00:00.000000000",
          "2024-06-11T00:00:00.000000000",
          "2024-06-12T00:00:00.000000000",
          "2024-06-13T00:00:00.000000000",
          "2024-06-14T00:00:00.000000000",
          "2024-06-17T00:00:00.000000000",
          "2024-06-18T00:00:00.000000000",
          "2024-06-20T00:00:00.000000000",
          "2024-06-21T00:00:00.000000000",
          "2024-06-24T00:00:00.000000000",
          "2024-06-25T00:00:00.000000000",
          "2024-06-26T00:00:00.000000000",
          "2024-06-27T00:00:00.000000000",
          "2024-06-28T00:00:00.000000000",
          "2024-07-01T00:00:00.000000000",
          "2024-07-02T00:00:00.000000000",
          "2024-07-03T00:00:00.000000000",
          "2024-07-05T00:00:00.000000000",
          "2024-07-08T00:00:00.000000000",
          "2024-07-09T00:00:00.000000000",
          "2024-07-10T00:00:00.000000000",
          "2024-07-11T00:00:00.000000000",
          "2024-07-12T00:00:00.000000000",
          "2024-07-15T00:00:00.000000000",
          "2024-07-16T00:00:00.000000000",
          "2024-07-17T00:00:00.000000000",
          "2024-07-18T00:00:00.000000000",
          "2024-07-19T00:00:00.000000000",
          "2024-07-22T00:00:00.000000000",
          "2024-07-23T00:00:00.000000000",
          "2024-07-24T00:00:00.000000000",
          "2024-07-25T00:00:00.000000000",
          "2024-07-26T00:00:00.000000000",
          "2024-07-29T00:00:00.000000000",
          "2024-07-30T00:00:00.000000000"
         ],
         "xaxis": "x",
         "y": {
          "bdata": "ZmZmdukjekAzMzMTrhd6QM3MzKSbDXpAzczMLLL7eUBmZmYOLfB5QDMzM+tR3nlAmpmZyaHEeUBmZmZWObB5QM3MzCQxoHlAZmZmnhqReUDNzMyUQ4h5QM3MzES2enlAZmZmNolweUCamZlJDGR5QDMzM+tRXnlAzczMTGJeeUBmZmbO9195QJqZmcH1aHlAMzMzA1Z2eUBmZmY+NYd5QM3MzES2mnlAMzMzU+OreUDNzMxUDr15QJqZmYls03lAAAAA+H7meUDNzMy08/x5QJqZmfHSHHpAZmZmppssekDNzMykcDp6QJqZmZHtP3pAZmZmtvNBekCamZkhsE16QDMzMzvfWHpAMzMzkxhiekCamZmZmWx6QDMzM5vEe3pAzczMNF6PekCamZkBK556QAAAAJhur3pAMzMzw/XFekAAAACQwtZ6QAAAAIgW5HpAMzMz+37zekAzMzMzCAR7QGZmZv6pFHtAMzMz0yIme0DNzMx8FDl7QGZmZm7nUntAzczMHC90e0AzMzPDyph7QJqZmVGNvHtAMzMzW2Tfe0DNzMycxAB8QM3MzOxRHXxAZmZmJgY8fECamZnZo018QM3MzMyhV3xAmpmZOYlhfEDNzMyUGGd8QM3MzEw3Y3xAzczMpHBefEAAAABokVd8QDMzM5MYUnxAmpmZCddPfECamZkxMz58QM3MzCQxI3xAmpmZwSANfEAzMzOz8/x7QJqZmWnn4XtA",
          "dtype": "f8"
         },
         "yaxis": "y"
        },
        {
         "line": {
          "color": "orange"
         },
         "name": "SMA 50",
         "type": "scatter",
         "x": [
          "2024-04-22T00:00:00.000000000",
          "2024-04-23T00:00:00.000000000",
          "2024-04-24T00:00:00.000000000",
          "2024-04-25T00:00:00.000000000",
          "2024-04-26T00:00:00.000000000",
          "2024-04-29T00:00:00.000000000",
          "2024-04-30T00:00:00.000000000",
          "2024-05-01T00:00:00.000000000",
          "2024-05-02T00:00:00.000000000",
          "2024-05-03T00:00:00.000000000",
          "2024-05-06T00:00:00.000000000",
          "2024-05-07T00:00:00.000000000",
          "2024-05-08T00:00:00.000000000",
          "2024-05-09T00:00:00.000000000",
          "2024-05-10T00:00:00.000000000",
          "2024-05-13T00:00:00.000000000",
          "2024-05-14T00:00:00.000000000",
          "2024-05-15T00:00:00.000000000",
          "2024-05-16T00:00:00.000000000",
          "2024-05-17T00:00:00.000000000",
          "2024-05-20T00:00:00.000000000",
          "2024-05-21T00:00:00.000000000",
          "2024-05-22T00:00:00.000000000",
          "2024-05-23T00:00:00.000000000",
          "2024-05-24T00:00:00.000000000",
          "2024-05-28T00:00:00.000000000",
          "2024-05-29T00:00:00.000000000",
          "2024-05-30T00:00:00.000000000",
          "2024-05-31T00:00:00.000000000",
          "2024-06-03T00:00:00.000000000",
          "2024-06-04T00:00:00.000000000",
          "2024-06-05T00:00:00.000000000",
          "2024-06-06T00:00:00.000000000",
          "2024-06-07T00:00:00.000000000",
          "2024-06-10T00:00:00.000000000",
          "2024-06-11T00:00:00.000000000",
          "2024-06-12T00:00:00.000000000",
          "2024-06-13T00:00:00.000000000",
          "2024-06-14T00:00:00.000000000",
          "2024-06-17T00:00:00.000000000",
          "2024-06-18T00:00:00.000000000",
          "2024-06-20T00:00:00.000000000",
          "2024-06-21T00:00:00.000000000",
          "2024-06-24T00:00:00.000000000",
          "2024-06-25T00:00:00.000000000",
          "2024-06-26T00:00:00.000000000",
          "2024-06-27T00:00:00.000000000",
          "2024-06-28T00:00:00.000000000",
          "2024-07-01T00:00:00.000000000",
          "2024-07-02T00:00:00.000000000",
          "2024-07-03T00:00:00.000000000",
          "2024-07-05T00:00:00.000000000",
          "2024-07-08T00:00:00.000000000",
          "2024-07-09T00:00:00.000000000",
          "2024-07-10T00:00:00.000000000",
          "2024-07-11T00:00:00.000000000",
          "2024-07-12T00:00:00.000000000",
          "2024-07-15T00:00:00.000000000",
          "2024-07-16T00:00:00.000000000",
          "2024-07-17T00:00:00.000000000",
          "2024-07-18T00:00:00.000000000",
          "2024-07-19T00:00:00.000000000",
          "2024-07-22T00:00:00.000000000",
          "2024-07-23T00:00:00.000000000",
          "2024-07-24T00:00:00.000000000",
          "2024-07-25T00:00:00.000000000",
          "2024-07-26T00:00:00.000000000",
          "2024-07-29T00:00:00.000000000",
          "2024-07-30T00:00:00.000000000"
         ],
         "xaxis": "x",
         "y": {
          "bdata": "hetRCKzseUBmZma2hOh5QOxRuM6I5nlA4XoUbjTkeUDsUbi+MON5QLgehavP4XlAzczM/BjdeUCkcD3qldp5QB+F62Ey2XlApHA9mpnXeUD2KFy/n9h5QD0K1zMz2XlACtej4C3aeUBcj8K1ptt5QB+F69EA3HlACtejAG/beUCamZlZ9dt5QJqZmfl+4nlAMzMzQ4voeUDXo3AdFux5QM3MzGw08nlArkfhGg36eUAK16OQ7f55QJqZmWm8AnpAj8L1GFEEekCPwvXIwwh6QJqZmYmODHpAXI/CZWYKekAUrkcBKwd6QClcj5IYAnpAXI/CpQr+eUC4HoXbaP55QHsUrvdT/3lAcT0KNxoAekAUrkfxYwJ6QAAAAFD8BHpAUrgelUMLekDNzMyMBhJ6QHsUriftGXpAcT0KBz0hekCamZnJMih6QM3MzKxpLnpAFK5HMeY2ekC4HoVLNz16QClcjxKDRnpAFK5HodZSekBcj8K1FV96QMP1KOxRanpAKVyPcht7ekAUrkfBW456QD0K12N/oXpAUrgexbG0ekBI4Xr0/cZ6QNejcB1a2npASOF6lIftekCPwvVIUP56QAAAADDdEntArkfhGsAle0CuR+G6STZ7QM3MzEwVQntAZmZmNqtKe0AUrkchjlN7QGZmZlbsXXtAH4XrMVVoe0DsUbgu3Wx7QBSuR5FcbntAcT0KFyZxe0CamZkZUXJ7QFK4HjXvcntA",
          "dtype": "f8"
         },
         "yaxis": "y"
        },
        {
         "line": {
          "color": "red"
         },
         "name": "SMA 200",
         "type": "scatter",
         "x": [
          "2024-04-22T00:00:00.000000000",
          "2024-04-23T00:00:00.000000000",
          "2024-04-24T00:00:00.000000000",
          "2024-04-25T00:00:00.000000000",
          "2024-04-26T00:00:00.000000000",
          "2024-04-29T00:00:00.000000000",
          "2024-04-30T00:00:00.000000000",
          "2024-05-01T00:00:00.000000000",
          "2024-05-02T00:00:00.000000000",
          "2024-05-03T00:00:00.000000000",
          "2024-05-06T00:00:00.000000000",
          "2024-05-07T00:00:00.000000000",
          "2024-05-08T00:00:00.000000000",
          "2024-05-09T00:00:00.000000000",
          "2024-05-10T00:00:00.000000000",
          "2024-05-13T00:00:00.000000000",
          "2024-05-14T00:00:00.000000000",
          "2024-05-15T00:00:00.000000000",
          "2024-05-16T00:00:00.000000000",
          "2024-05-17T00:00:00.000000000",
          "2024-05-20T00:00:00.000000000",
          "2024-05-21T00:00:00.000000000",
          "2024-05-22T00:00:00.000000000",
          "2024-05-23T00:00:00.000000000",
          "2024-05-24T00:00:00.000000000",
          "2024-05-28T00:00:00.000000000",
          "2024-05-29T00:00:00.000000000",
          "2024-05-30T00:00:00.000000000",
          "2024-05-31T00:00:00.000000000",
          "2024-06-03T00:00:00.000000000",
          "2024-06-04T00:00:00.000000000",
          "2024-06-05T00:00:00.000000000",
          "2024-06-06T00:00:00.000000000",
          "2024-06-07T00:00:00.000000000",
          "2024-06-10T00:00:00.000000000",
          "2024-06-11T00:00:00.000000000",
          "2024-06-12T00:00:00.000000000",
          "2024-06-13T00:00:00.000000000",
          "2024-06-14T00:00:00.000000000",
          "2024-06-17T00:00:00.000000000",
          "2024-06-18T00:00:00.000000000",
          "2024-06-20T00:00:00.000000000",
          "2024-06-21T00:00:00.000000000",
          "2024-06-24T00:00:00.000000000",
          "2024-06-25T00:00:00.000000000",
          "2024-06-26T00:00:00.000000000",
          "2024-06-27T00:00:00.000000000",
          "2024-06-28T00:00:00.000000000",
          "2024-07-01T00:00:00.000000000",
          "2024-07-02T00:00:00.000000000",
          "2024-07-03T00:00:00.000000000",
          "2024-07-05T00:00:00.000000000",
          "2024-07-08T00:00:00.000000000",
          "2024-07-09T00:00:00.000000000",
          "2024-07-10T00:00:00.000000000",
          "2024-07-11T00:00:00.000000000",
          "2024-07-12T00:00:00.000000000",
          "2024-07-15T00:00:00.000000000",
          "2024-07-16T00:00:00.000000000",
          "2024-07-17T00:00:00.000000000",
          "2024-07-18T00:00:00.000000000",
          "2024-07-19T00:00:00.000000000",
          "2024-07-22T00:00:00.000000000",
          "2024-07-23T00:00:00.000000000",
          "2024-07-24T00:00:00.000000000",
          "2024-07-25T00:00:00.000000000",
          "2024-07-26T00:00:00.000000000",
          "2024-07-29T00:00:00.000000000",
          "2024-07-30T00:00:00.000000000"
         ],
         "xaxis": "x",
         "y": {
          "bdata": "AAAAGLf/dkAK16PcVwV3QIXrUYiFC3dArkfh4tgQd0DsUbh2YBZ3QB+F690kG3dASOF61Ksed0ApXI+mmyJ3QHE9Cg+tJXdArkfhas0pd0Bcj8LRIi93QNejcLFhNHdAMzMzs505d0DXo3DxhT53QB+F60muRHdAj8L1IFJLd0Bcj8J1k1F3QHE9Cn+MWHdAzczMIFJfd0DD9SjUvGZ3QLgehcuhbndAmpmZmbt2d0AzMzP/w353QAAAAHTXhndAAAAA3HmPd0CPwvU0EZh3QK5H4VK4oHdAUrgebfind0AK16OYbq93QJqZmbHhtndArkfhGtG+d0Bcj8JRa8d3QK5H4WKhz3dAKVyP2r3Xd0A9Cterz993QM3MzPjT6HdAAAAAQEbyd0ApXI9utPt3QFyPwm3WBHhAFK5HbWcOeEAfhevx4xd4QArXo+xAIXhACtejUI0qeECuR+E2vDN4QFK4Hh1rPXhAhetRgNlGeEB7FK7bClB4QOxRuL5BWXhAUrgeEelieEC4HoWLjmx4QNejcDUAd3hAhetRsBSCeEDD9SiIFo14QOxRuIowmHhA4XoUXu2jeECkcD1C8a54QKRwPb7SuXhA9ihcNyvFeECkcD1yG9B4QPYoXGN/2nhAcT0Km3fkeEC4HoUnse14QClcj1YO+HhAzczMkCACeUAfhevx4wp5QB+F630uEnlA7FG4TtEZeUC4HoVPryF5QMP1KMDsKHlA",
          "dtype": "f8"
         },
         "yaxis": "y"
        },
        {
         "line": {
          "color": "gray",
          "dash": "dash"
         },
         "name": "BB High",
         "type": "scatter",
         "x": [
          "2024-04-22T00:00:00.000000000",
          "2024-04-23T00:00:00.000000000",
          "2024-04-24T00:00:00.000000000",
          "2024-04-25T00:00:00.000000000",
          "2024-04-26T00:00:00.000000000",
          "2024-04-29T00:00:00.000000000",
          "2024-04-30T00:00:00.000000000",
          "2024-05-01T00:00:00.000000000",
          "2024-05-02T00:00:00.000000000",
          "2024-05-03T00:00:00.000000000",
          "2024-05-06T00:00:00.000000000",
          "2024-05-07T00:00:00.000000000",
          "2024-05-08T00:00:00.000000000",
          "2024-05-09T00:00:00.000000000",
          "2024-05-10T00:00:00.000000000",
          "2024-05-13T00:00:00.000000000",
          "2024-05-14T00:00:00.000000000",
          "2024-05-15T00:00:00.000000000",
          "2024-05-16T00:00:00.000000000",
          "2024-05-17T00:00:00.000000000",
          "2024-05-20T00:00:00.000000000",
          "2024-05-21T00:00:00.000000000",
          "2024-05-22T00:00:00.000000000",
          "2024-05-23T00:00:00.000000000",
          "2024-05-24T00:00:00.000000000",
          "2024-05-28T00:00:00.000000000",
          "2024-05-29T00:00:00.000000000",
          "2024-05-30T00:00:00.000000000",
          "2024-05-31T00:00:00.000000000",
          "2024-06-03T00:00:00.000000000",
          "2024-06-04T00:00:00.000000000",
          "2024-06-05T00:00:00.000000000",
          "2024-06-06T00:00:00.000000000",
          "2024-06-07T00:00:00.000000000",
          "2024-06-10T00:00:00.000000000",
          "2024-06-11T00:00:00.000000000",
          "2024-06-12T00:00:00.000000000",
          "2024-06-13T00:00:00.000000000",
          "2024-06-14T00:00:00.000000000",
          "2024-06-17T00:00:00.000000000",
          "2024-06-18T00:00:00.000000000",
          "2024-06-20T00:00:00.000000000",
          "2024-06-21T00:00:00.000000000",
          "2024-06-24T00:00:00.000000000",
          "2024-06-25T00:00:00.000000000",
          "2024-06-26T00:00:00.000000000",
          "2024-06-27T00:00:00.000000000",
          "2024-06-28T00:00:00.000000000",
          "2024-07-01T00:00:00.000000000",
          "2024-07-02T00:00:00.000000000",
          "2024-07-03T00:00:00.000000000",
          "2024-07-05T00:00:00.000000000",
          "2024-07-08T00:00:00.000000000",
          "2024-07-09T00:00:00.000000000",
          "2024-07-10T00:00:00.000000000",
          "2024-07-11T00:00:00.000000000",
          "2024-07-12T00:00:00.000000000",
          "2024-07-15T00:00:00.000000000",
          "2024-07-16T00:00:00.000000000",
          "2024-07-17T00:00:00.000000000",
          "2024-07-18T00:00:00.000000000",
          "2024-07-19T00:00:00.000000000",
          "2024-07-22T00:00:00.000000000",
          "2024-07-23T00:00:00.000000000",
          "2024-07-24T00:00:00.000000000",
          "2024-07-25T00:00:00.000000000",
          "2024-07-26T00:00:00.000000000",
          "2024-07-29T00:00:00.000000000",
          "2024-07-30T00:00:00.000000000"
         ],
         "xaxis": "x",
         "y": {
          "bdata": "RiGRVNsoe0DOGGkIcyR7QL5YzzqvHntARKdWHxwle0A70TPAJB57QIkLVpI1EHtADPq4L3cde0B9XuVruxd7QK393ZkxD3tApjsjyXLuekB0G/pxjtR6QLCnhZCXrHpA5T9oeFyNekB4bHXrIFh6QGr31NpBP3pAr+wHgHY/ekBqlXLrVkV6QDU1K+zZaHpAmy+B+HuIekApm7gBIqB6QFAsr/NBxXpAvd8JneXyekBE8e81gh97QPEMlQ/pN3tAgr9LT9dZe0CUCV5f03R7QDG7heksaXtAwqNt3Q5Ne0AnV6hMuTB7QPacCzrqJ3tApFimkfwme0CwXY+p2iV7QO1/LJCBJHtA1v0yPocie0BeGF3v9Ch7QD5WU7rON3tAbionNiFne0AcxdlYYJJ7QLufft7FuntA7Zf3Xebye0CuyCLujht8QPBunKkYPHxAb7VHJoFlfECSYsB/uYV8QNE/+yZFq3xA8tMZOZ3QfEDmM/OtYfR8QBg2c0Hz+HxAoIsuv4AOfUBnTxpckBt9QMYKOaVRJX1Amrk2MsBNfUDgbfy7hmV9QAEBHXDOWn1A5OED/IBhfUB+T30O7U99QOyYt0/6Sn1Axv5slKtEfUAKbVsF9Tx9QKYqH66XQn1Agzax0wBMfUA8rGkl4Fp9QIzRBo+dXn1A68Nz1v1ffUDBZSPNE359QGvpZkExr31A9I9iXcm8fUBnkFJXTsd9QC4R36Z4xn1A",
          "dtype": "f8"
         },
         "yaxis": "y"
        },
        {
         "line": {
          "color": "gray",
          "dash": "dash"
         },
         "name": "BB Low",
         "type": "scatter",
         "x": [
          "2024-04-22T00:00:00.000000000",
          "2024-04-23T00:00:00.000000000",
          "2024-04-24T00:00:00.000000000",
          "2024-04-25T00:00:00.000000000",
          "2024-04-26T00:00:00.000000000",
          "2024-04-29T00:00:00.000000000",
          "2024-04-30T00:00:00.000000000",
          "2024-05-01T00:00:00.000000000",
          "2024-05-02T00:00:00.000000000",
          "2024-05-03T00:00:00.000000000",
          "2024-05-06T00:00:00.000000000",
          "2024-05-07T00:00:00.000000000",
          "2024-05-08T00:00:00.000000000",
          "2024-05-09T00:00:00.000000000",
          "2024-05-10T00:00:00.000000000",
          "2024-05-13T00:00:00.000000000",
          "2024-05-14T00:00:00.000000000",
          "2024-05-15T00:00:00.000000000",
          "2024-05-16T00:00:00.000000000",
          "2024-05-17T00:00:00.000000000",
          "2024-05-20T00:00:00.000000000",
          "2024-05-21T00:00:00.000000000",
          "2024-05-22T00:00:00.000000000",
          "2024-05-23T00:00:00.000000000",
          "2024-05-24T00:00:00.000000000",
          "2024-05-28T00:00:00.000000000",
          "2024-05-29T00:00:00.000000000",
          "2024-05-30T00:00:00.000000000",
          "2024-05-31T00:00:00.000000000",
          "2024-06-03T00:00:00.000000000",
          "2024-06-04T00:00:00.000000000",
          "2024-06-05T00:00:00.000000000",
          "2024-06-06T00:00:00.000000000",
          "2024-06-07T00:00:00.000000000",
          "2024-06-10T00:00:00.000000000",
          "2024-06-11T00:00:00.000000000",
          "2024-06-12T00:00:00.000000000",
          "2024-06-13T00:00:00.000000000",
          "2024-06-14T00:00:00.000000000",
          "2024-06-17T00:00:00.000000000",
          "2024-06-18T00:00:00.000000000",
          "2024-06-20T00:00:00.000000000",
          "2024-06-21T00:00:00.000000000",
          "2024-06-24T00:00:00.000000000",
          "2024-06-25T00:00:00.000000000",
          "2024-06-26T00:00:00.000000000",
          "2024-06-27T00:00:00.000000000",
          "2024-06-28T00:00:00.000000000",
          "2024-07-01T00:00:00.000000000",
          "2024-07-02T00:00:00.000000000",
          "2024-07-03T00:00:00.000000000",
          "2024-07-05T00:00:00.000000000",
          "2024-07-08T00:00:00.000000000",
          "2024-07-09T00:00:00.000000000",
          "2024-07-10T00:00:00.000000000",
          "2024-07-11T00:00:00.000000000",
          "2024-07-12T00:00:00.000000000",
          "2024-07-15T00:00:00.000000000",
          "2024-07-16T00:00:00.000000000",
          "2024-07-17T00:00:00.000000000",
          "2024-07-18T00:00:00.000000000",
          "2024-07-19T00:00:00.000000000",
          "2024-07-22T00:00:00.000000000",
          "2024-07-23T00:00:00.000000000",
          "2024-07-24T00:00:00.000000000",
          "2024-07-25T00:00:00.000000000",
          "2024-07-26T00:00:00.000000000",
          "2024-07-29T00:00:00.000000000",
          "2024-07-30T00:00:00.000000000"
         ],
         "xaxis": "x",
         "y": {
          "bdata": "hqs7mPceeUCYTf0d6Qp5QNxAyg6I/HhAVvJCOkjSeECR+5hcNcJ4QN1aEERurHhAKDl6Y8xreEBPbudAt0h4QO2bu68wMXhAJpGpc8IzeEAmfp+3+Dt4QOrxE/nUSHhA54xk9LVTeEC8xr2n9294QPxukfthfXhA66yRGU59eEBiN1qxmHp4QP/9B5cRaXhAyzblDTBkeECjMRR7SG54QEpt6pUqcHhAqYZcCeFkeEBWqKlzmlp4QEMmngPwbnhAfkC0oCZzeEAGkDsKFIV4QAN4rfl40HhACilfbygMeUBzQvH8J0R5QD6WJ+nwV3lAKHQm2+pceUCE1aOZhXV5QHnmOeY8jXlAkGgz6KmheUDWGtZDPrB5QCgQE3y6v3lALG9yM5u3eUAYblmq9al5QEVggVEXpHlAec5uKAWZeUBSN90x9pF5QBCRY2YUjHlA97Ae0HyBeUDUA6bmVoJ5QPuM0dUOfnlAdJJMbah7eUC0ZaZLx315QLSWWZvbrHlA+g1ret3ZeUD/FkwqBRZ6QG4o+v3IU3pAzKwvhAhxekC6K519Apx6QJmYfGnV33pA6OrIUIsWe0C247WkWkt7QK4A4klJZHtAbjTG3mZ+e0CQLD4kPJF7QPRueuvWg3tAF2PodeBwe0DEU5aqQlR7QNqUX5eTRXtASW+/PLA/e0BzzQ+WUv56QC+wMggxl3pAQKPQJXhdekD/1RMPmTJ6QAYiVCxW/XlA",
          "dtype": "f8"
         },
         "yaxis": "y"
        },
        {
         "name": "Volume",
         "type": "bar",
         "x": [
          "2024-04-22T00:00:00.000000000",
          "2024-04-23T00:00:00.000000000",
          "2024-04-24T00:00:00.000000000",
          "2024-04-25T00:00:00.000000000",
          "2024-04-26T00:00:00.000000000",
          "2024-04-29T00:00:00.000000000",
          "2024-04-30T00:00:00.000000000",
          "2024-05-01T00:00:00.000000000",
          "2024-05-02T00:00:00.000000000",
          "2024-05-03T00:00:00.000000000",
          "2024-05-06T00:00:00.000000000",
          "2024-05-07T00:00:00.000000000",
          "2024-05-08T00:00:00.000000000",
          "2024-05-09T00:00:00.000000000",
          "2024-05-10T00:00:00.000000000",
          "2024-05-13T00:00:00.000000000",
          "2024-05-14T00:00:00.000000000",
          "2024-05-15T00:00:00.000000000",
          "2024-05-16T00:00:00.000000000",
          "2024-05-17T00:00:00.000000000",
          "2024-05-20T00:00:00.000000000",
          "2024-05-21T00:00:00.000000000",
          "2024-05-22T00:00:00.000000000",
          "2024-05-23T00:00:00.000000000",
          "2024-05-24T00:00:00.000000000",
          "2024-05-28T00:00:00.000000000",
          "2024-05-29T00:00:00.000000000",
          "2024-05-30T00:00:00.000000000",
          "2024-05-31T00:00:00.000000000",
          "2024-06-03T00:00:00.000000000",
          "2024-06-04T00:00:00.000000000",
          "2024-06-05T00:00:00.000000000",
          "2024-06-06T00:00:00.000000000",
          "2024-06-07T00:00:00.000000000",
          "2024-06-10T00:00:00.000000000",
          "2024-06-11T00:00:00.000000000",
          "2024-06-12T00:00:00.000000000",
          "2024-06-13T00:00:00.000000000",
          "2024-06-14T00:00:00.000000000",
          "2024-06-17T00:00:00.000000000",
          "2024-06-18T00:00:00.000000000",
          "2024-06-20T00:00:00.000000000",
          "2024-06-21T00:00:00.000000000",
          "2024-06-24T00:00:00.000000000",
          "2024-06-25T00:00:00.000000000",
          "2024-06-26T00:00:00.000000000",
          "2024-06-27T00:00:00.000000000",
          "2024-06-28T00:00:00.000000000",
          "2024-07-01T00:00:00.000000000",
          "2024-07-02T00:00:00.000000000",
          "2024-07-03T00:00:00.000000000",
          "2024-07-05T00:00:00.000000000",
          "2024-07-08T00:00:00.000000000",
          "2024-07-09T00:00:00.000000000",
          "2024-07-10T00:00:00.000000000",
          "2024-07-11T00:00:00.000000000",
          "2024-07-12T00:00:00.000000000",
          "2024-07-15T00:00:00.000000000",
          "2024-07-16T00:00:00.000000000",
          "2024-07-17T00:00:00.000000000",
          "2024-07-18T00:00:00.000000000",
          "2024-07-19T00:00:00.000000000",
          "2024-07-22T00:00:00.000000000",
          "2024-07-23T00:00:00.000000000",
          "2024-07-24T00:00:00.000000000",
          "2024-07-25T00:00:00.000000000",
          "2024-07-26T00:00:00.000000000",
          "2024-07-29T00:00:00.000000000",
          "2024-07-30T00:00:00.000000000"
         ],
         "xaxis": "x2",
         "y": {
          "bdata": "tI01AeQW8ADU4OUABE1rAuwaxQGUzCoBWCu3AQSJZwFYOQ4BLDcKAfhYAwEYdDEBrO+zAKQl4AC8gMwASJnrALSM5gAMWVMB9HwLAYhB6gDkSvgA9FlHAWTIEwE0oQYBqMC0AHDW7wCsxewAYLqxAaRZ3AKcywoBZPLaAGA3AwH0w+IAxNnPADir1QA8CN4A+EdVARiK8wCwPs8A8Do9AbQdBQEYTi8BuDcOAuTS8gDsi/8AeOD7ABzt4QA8xrABUIMNAZhQ1QAAkJcALCX0APzJxQCgjwYBhKYVASCmYAHMFvkA2CzcAJQUBgFQTkwBsE09AXCGPwEgOfEAnP/HACgGmQH458gBONxnASjN5gDwxfIB",
          "dtype": "i4"
         },
         "yaxis": "y2"
        },
        {
         "name": "RSI",
         "type": "scatter",
         "x": [
          "2024-04-22T00:00:00.000000000",
          "2024-04-23T00:00:00.000000000",
          "2024-04-24T00:00:00.000000000",
          "2024-04-25T00:00:00.000000000",
          "2024-04-26T00:00:00.000000000",
          "2024-04-29T00:00:00.000000000",
          "2024-04-30T00:00:00.000000000",
          "2024-05-01T00:00:00.000000000",
          "2024-05-02T00:00:00.000000000",
          "2024-05-03T00:00:00.000000000",
          "2024-05-06T00:00:00.000000000",
          "2024-05-07T00:00:00.000000000",
          "2024-05-08T00:00:00.000000000",
          "2024-05-09T00:00:00.000000000",
          "2024-05-10T00:00:00.000000000",
          "2024-05-13T00:00:00.000000000",
          "2024-05-14T00:00:00.000000000",
          "2024-05-15T00:00:00.000000000",
          "2024-05-16T00:00:00.000000000",
          "2024-05-17T00:00:00.000000000",
          "2024-05-20T00:00:00.000000000",
          "2024-05-21T00:00:00.000000000",
          "2024-05-22T00:00:00.000000000",
          "2024-05-23T00:00:00.000000000",
          "2024-05-24T00:00:00.000000000",
          "2024-05-28T00:00:00.000000000",
          "2024-05-29T00:00:00.000000000",
          "2024-05-30T00:00:00.000000000",
          "2024-05-31T00:00:00.000000000",
          "2024-06-03T00:00:00.000000000",
          "2024-06-04T00:00:00.000000000",
          "2024-06-05T00:00:00.000000000",
          "2024-06-06T00:00:00.000000000",
          "2024-06-07T00:00:00.000000000",
          "2024-06-10T00:00:00.000000000",
          "2024-06-11T00:00:00.000000000",
          "2024-06-12T00:00:00.000000000",
          "2024-06-13T00:00:00.000000000",
          "2024-06-14T00:00:00.000000000",
          "2024-06-17T00:00:00.000000000",
          "2024-06-18T00:00:00.000000000",
          "2024-06-20T00:00:00.000000000",
          "2024-06-21T00:00:00.000000000",
          "2024-06-24T00:00:00.000000000",
          "2024-06-25T00:00:00.000000000",
          "2024-06-26T00:00:00.000000000",
          "2024-06-27T00:00:00.000000000",
          "2024-06-28T00:00:00.000000000",
          "2024-07-01T00:00:00.000000000",
          "2024-07-02T00:00:00.000000000",
          "2024-07-03T00:00:00.000000000",
          "2024-07-05T00:00:00.000000000",
          "2024-07-08T00:00:00.000000000",
          "2024-07-09T00:00:00.000000000",
          "2024-07-10T00:00:00.000000000",
          "2024-07-11T00:00:00.000000000",
          "2024-07-12T00:00:00.000000000",
          "2024-07-15T00:00:00.000000000",
          "2024-07-16T00:00:00.000000000",
          "2024-07-17T00:00:00.000000000",
          "2024-07-18T00:00:00.000000000",
          "2024-07-19T00:00:00.000000000",
          "2024-07-22T00:00:00.000000000",
          "2024-07-23T00:00:00.000000000",
          "2024-07-24T00:00:00.000000000",
          "2024-07-25T00:00:00.000000000",
          "2024-07-26T00:00:00.000000000",
          "2024-07-29T00:00:00.000000000",
          "2024-07-30T00:00:00.000000000"
         ],
         "xaxis": "x3",
         "y": {
          "bdata": "6II4d2rYQUDdlTcspKBFQEtHDCJHakZAk1Pvg7mpQkCLVCwNw0pGQBgQuAXM1kRAKoZKSK4KQUA0beDcKqFDQDH4dazH5kRAO6+dLVlpSECCQGLxD8RKQDGSL1E7PUlAHY5ElI+qSUBclnNQl1FKQBoxTaeYNktAsfCPwSjBSkA6aNIte99LQNiHGwOuOU5AzXxpb8MnTUDQUnJBD79MQOTCWw3Qqk5AoEGvwHXvT0BIsN9QRTdQQMAVvNCWTE5AqQXT6gx6T0DbkMS+dIlPQAAGH2xrw05ABNwj/bQTR0CNtgyqCk5HQF0ICsyXlUZAVF1ZxCj1R0CHZkiZ8LNLQBFs+mYp7EtAUq+hduuJS0AxvAsL615NQNdZVBYsVU9AxJxNF2MUUUBSTL6jsihRQB7Zxn8YUVFArhffz7MuUkCTPblEFXFRQOKLhHArNFFA3uS5hRffUUCP+NUs0A5RQJHRTyjLnlFAMQKrGn3SUUBTMkhN2/BRQCClrEJuJE9ASKdWocNeUUBXhldaFsJRQMvZKeOR+1FAB0jD6dLoUkBTKrKok2ZSQGZ+HtKbClBA+UdalTghUUBtWi+3YfZLQAA0h7gFbEtAvyJpaZmWS0D74zwh32dJQGfFsZBjyEZAD7fpYbeGRUD2TA4vl0dEQN5tDSwCQ0dAgByjRAstSECTHl3Qjn1CQLRwjwtGsj9AuhJ/n+r4QkDpfQF+zptDQLXPykBGikJA",
          "dtype": "f8"
         },
         "yaxis": "y3"
        },
        {
         "name": "MACD",
         "type": "scatter",
         "x": [
          "2024-04-22T00:00:00.000000000",
          "2024-04-23T00:00:00.000000000",
          "2024-04-24T00:00:00.000000000",
          "2024-04-25T00:00:00.000000000",
          "2024-04-26T00:00:00.000000000",
          "2024-04-29T00:00:00.000000000",
          "2024-04-30T00:00:00.000000000",
          "2024-05-01T00:00:00.000000000",
          "2024-05-02T00:00:00.000000000",
          "2024-05-03T00:00:00.000000000",
          "2024-05-06T00:00:00.000000000",
          "2024-05-07T00:00:00.000000000",
          "2024-05-08T00:00:00.000000000",
          "2024-05-09T00:00:00.000000000",
          "2024-05-10T00:00:00.000000000",
          "2024-05-13T00:00:00.000000000",
          "2024-05-14T00:00:00.000000000",
          "2024-05-15T00:00:00.000000000",
          "2024-05-16T00:00:00.000000000",
          "2024-05-17T00:00:00.000000000",
          "2024-05-20T00:00:00.000000000",
          "2024-05-21T00:00:00.000000000",
          "2024-05-22T00:00:00.000000000",
          "2024-05-23T00:00:00.000000000",
          "2024-05-24T00:00:00.000000000",
          "2024-05-28T00:00:00.000000000",
          "2024-05-29T00:00:00.000000000",
          "2024-05-30T00:00:00.000000000",
          "2024-05-31T00:00:00.000000000",
          "2024-06-03T00:00:00.000000000",
          "2024-06-04T00:00:00.000000000",
          "2024-06-05T00:00:00.000000000",
          "2024-06-06T00:00:00.000000000",
          "2024-06-07T00:00:00.000000000",
          "2024-06-10T00:00:00.000000000",
          "2024-06-11T00:00:00.000000000",
          "2024-06-12T00:00:00.000000000",
          "2024-06-13T00:00:00.000000000",
          "2024-06-14T00:00:00.000000000",
          "2024-06-17T00:00:00.000000000",
          "2024-06-18T00:00:00.000000000",
          "2024-06-20T00:00:00.000000000",
          "2024-06-21T00:00:00.000000000",
          "2024-06-24T00:00:00.000000000",
          "2024-06-25T00:00:00.000000000",
          "2024-06-26T00:00:00.000000000",
          "2024-06-27T00:00:00.000000000",
          "2024-06-28T00:00:00.000000000",
          "2024-07-01T00:00:00.000000000",
          "2024-07-02T00:00:00.000000000",
          "2024-07-03T00:00:00.000000000",
          "2024-07-05T00:00:00.000000000",
          "2024-07-08T00:00:00.000000000",
          "2024-07-09T00:00:00.000000000",
          "2024-07-10T00:00:00.000000000",
          "2024-07-11T00:00:00.000000000",
          "2024-07-12T00:00:00.000000000",
          "2024-07-15T00:00:00.000000000",
          "2024-07-16T00:00:00.000000000",
          "2024-07-17T00:00:00.000000000",
          "2024-07-18T00:00:00.000000000",
          "2024-07-19T00:00:00.000000000",
          "2024-07-22T00:00:00.000000000",
          "2024-07-23T00:00:00.000000000",
          "2024-07-24T00:00:00.000000000",
          "2024-07-25T00:00:00.000000000",
          "2024-07-26T00:00:00.000000000",
          "2024-07-29T00:00:00.000000000",
          "2024-07-30T00:00:00.000000000"
         ],
         "xaxis": "x4",
         "y": {
          "bdata": "gOKpb+etB8CAHVjmH+EIwAC4gz7RlQjAAKon4xZ4DsCAjmRn+BUOwAAfb58gBRDAgNjucMO5FMCAoOi/1mIWwIDiswCtgRbAwGoH/LKHE8CADYC+dI8NwAAwENMEdgjAgAZjGtRrA8AAO2SlEDv8vwDOc7aZgfC/AA6N/Eve4L8AgNW05ca5PwBD7mviyPE/ANGOuwuW+z+A+xI4SfoAQAA9KpmZjQZAALkhho0GDUAAOcZB7FoRQAA0BkTZQhJAwIc3jWnFE0CA4RNxqscUQMA2JGZw9xRAAO3DuT4/EEAA3UlDqQUJQADUuz/52gFAAOUwvxtU+z8AfAcPiZX+PwCIpvP0twBAAE4Sjdc3AUAAKiRLkPoDQAAD0FbN+whAwGLAzeb7EEBAiUaY03kUQADCEqRUSxdAQMWhTG8WG0CAHmM3bBodQACn2OiAJR5AgDtFIBbsH0AAqw2PYCMgQEAtOK/HnSBAoA4lpJ/+IEDAAFC1GTUhQID8ZxqbPCBAIC9Kwv7ZIECAa2keS4whQGCUudClISJAgBFw4hd3I0Ag1bQj6BMkQIDA7eOKQiNAwNmCY2F4I0AgBL71BJIhQIAHDld5ZR9AAKQIvls8HEBAvbdnXwUYQEAGA8fQhxJAgC4tAHIGCkAA5o0I6gD+PwDoSp9m1PM/AFh7uiAk7D8AmjeJZ+vlv4BXUqNy7AXAgJoybTssDsAAFT3kGq4RwEBLLHf4uRTA",
          "dtype": "f8"
         },
         "yaxis": "y4"
        },
        {
         "name": "Signal",
         "type": "scatter",
         "x": [
          "2024-04-22T00:00:00.000000000",
          "2024-04-23T00:00:00.000000000",
          "2024-04-24T00:00:00.000000000",
          "2024-04-25T00:00:00.000000000",
          "2024-04-26T00:00:00.000000000",
          "2024-04-29T00:00:00.000000000",
          "2024-04-30T00:00:00.000000000",
          "2024-05-01T00:00:00.000000000",
          "2024-05-02T00:00:00.000000000",
          "2024-05-03T00:00:00.000000000",
          "2024-05-06T00:00:00.000000000",
          "2024-05-07T00:00:00.000000000",
          "2024-05-08T00:00:00.000000000",
          "2024-05-09T00:00:00.000000000",
          "2024-05-10T00:00:00.000000000",
          "2024-05-13T00:00:00.000000000",
          "2024-05-14T00:00:00.000000000",
          "2024-05-15T00:00:00.000000000",
          "2024-05-16T00:00:00.000000000",
          "2024-05-17T00:00:00.000000000",
          "2024-05-20T00:00:00.000000000",
          "2024-05-21T00:00:00.000000000",
          "2024-05-22T00:00:00.000000000",
          "2024-05-23T00:00:00.000000000",
          "2024-05-24T00:00:00.000000000",
          "2024-05-28T00:00:00.000000000",
          "2024-05-29T00:00:00.000000000",
          "2024-05-30T00:00:00.000000000",
          "2024-05-31T00:00:00.000000000",
          "2024-06-03T00:00:00.000000000",
          "2024-06-04T00:00:00.000000000",
          "2024-06-05T00:00:00.000000000",
          "2024-06-06T00:00:00.000000000",
          "2024-06-07T00:00:00.000000000",
          "2024-06-10T00:00:00.000000000",
          "2024-06-11T00:00:00.000000000",
          "2024-06-12T00:00:00.000000000",
          "2024-06-13T00:00:00.000000000",
          "2024-06-14T00:00:00.000000000",
          "2024-06-17T00:00:00.000000000",
          "2024-06-18T00:00:00.000000000",
          "2024-06-20T00:00:00.000000000",
          "2024-06-21T00:00:00.000000000",
          "2024-06-24T00:00:00.000000000",
          "2024-06-25T00:00:00.000000000",
          "2024-06-26T00:00:00.000000000",
          "2024-06-27T00:00:00.000000000",
          "2024-06-28T00:00:00.000000000",
          "2024-07-01T00:00:00.000000000",
          "2024-07-02T00:00:00.000000000",
          "2024-07-03T00:00:00.000000000",
          "2024-07-05T00:00:00.000000000",
          "2024-07-08T00:00:00.000000000",
          "2024-07-09T00:00:00.000000000",
          "2024-07-10T00:00:00.000000000",
          "2024-07-11T00:00:00.000000000",
          "2024-07-12T00:00:00.000000000",
          "2024-07-15T00:00:00.000000000",
          "2024-07-16T00:00:00.000000000",
          "2024-07-17T00:00:00.000000000",
          "2024-07-18T00:00:00.000000000",
          "2024-07-19T00:00:00.000000000",
          "2024-07-22T00:00:00.000000000",
          "2024-07-23T00:00:00.000000000",
          "2024-07-24T00:00:00.000000000",
          "2024-07-25T00:00:00.000000000",
          "2024-07-26T00:00:00.000000000",
          "2024-07-29T00:00:00.000000000",
          "2024-07-30T00:00:00.000000000"
         ],
         "xaxis": "x4",
         "y": {
          "bdata": "dNjWlFvIzT+e2AM12+Tbv9rpanpl0+6/vtRtJZiE+L8y40xHEKb/v3uascJGEQPAyWu6lVOLB8A7YyVeMsoLwDDdZRgHPA/AOtTD1VlmEMC7RHYkbRMQwPjdJv4VnQ7AekyZ0AhgDMBIdtEd74UJwDrzfxC1EQbAezY6QK5/AsAr34BUmkb9v4kL0foa3fO/DvKurFm/5L/A9rJQaSC4vw79Ukt6Qt8/A+Pqd7fc8T9pFvT6giz8PyqEyrLxkgJA1WzrLYXEBkB45F24roYKQEhmJomFmw1AoLAGuFAvDkDnHxQH/CYNQIbdaBKV5ApAUvsL1UY/CEAP7yNfxnQGQKYNPuMCTwVAhRoC0pN9BECeHTzqX2MEQH5L8/+oTgVAf/11hePWB0B/zq2nCkMLQJq/xceQIA9AsQ0JLFDeEUAOERv7iB0UQAsvdPcgHxZA8Jc3mesUGEDBisuzfLgZQE60HwkaORtAGZaO4oeTHEAuRcX9dr4dQPI1lNU2Sh5ANnHHK/j4HkDFuMnIF8wfQPzNdeBdWCBAfdunrRz4IEAEp91eRZchQB2sray57CFApBulN9s7IkAkSt2Q4xkiQHaiZcnbniFAX5K4zYXrIEDZ3BiRT+AfQO6xRwIDNR1A/xJxm9r3GUB/J/svVEYWQDKrjOGuzxJAtjxnpUyBD0BFzw9XqxsIQKIoxRaxzf0/0CtGAB+M5z/oyezZiubSvy7+hSR8XPS/",
          "dtype": "f8"
         },
         "yaxis": "y4"
        },
        {
         "name": "MACD Diff",
         "type": "bar",
         "x": [
          "2024-04-22T00:00:00.000000000",
          "2024-04-23T00:00:00.000000000",
          "2024-04-24T00:00:00.000000000",
          "2024-04-25T00:00:00.000000000",
          "2024-04-26T00:00:00.000000000",
          "2024-04-29T00:00:00.000000000",
          "2024-04-30T00:00:00.000000000",
          "2024-05-01T00:00:00.000000000",
          "2024-05-02T00:00:00.000000000",
          "2024-05-03T00:00:00.000000000",
          "2024-05-06T00:00:00.000000000",
          "2024-05-07T00:00:00.000000000",
          "2024-05-08T00:00:00.000000000",
          "2024-05-09T00:00:00.000000000",
          "2024-05-10T00:00:00.000000000",
          "2024-05-13T00:00:00.000000000",
          "2024-05-14T00:00:00.000000000",
          "2024-05-15T00:00:00.000000000",
          "2024-05-16T00:00:00.000000000",
          "2024-05-17T00:00:00.000000000",
          "2024-05-20T00:00:00.000000000",
          "2024-05-21T00:00:00.000000000",
          "2024-05-22T00:00:00.000000000",
          "2024-05-23T00:00:00.000000000",
          "2024-05-24T00:00:00.000000000",
          "2024-05-28T00:00:00.000000000",
          "2024-05-29T00:00:00.000000000",
          "2024-05-30T00:00:00.000000000",
          "2024-05-31T00:00:00.000000000",
          "2024-06-03T00:00:00.000000000",
          "2024-06-04T00:00:00.000000000",
          "2024-06-05T00:00:00.000000000",
          "2024-06-06T00:00:00.000000000",
          "2024-06-07T00:00:00.000000000",
          "2024-06-10T00:00:00.000000000",
          "2024-06-11T00:00:00.000000000",
          "2024-06-12T00:00:00.000000000",
          "2024-06-13T00:00:00.000000000",
          "2024-06-14T00:00:00.000000000",
          "2024-06-17T00:00:00.000000000",
          "2024-06-18T00:00:00.000000000",
          "2024-06-20T00:00:00.000000000",
          "2024-06-21T00:00:00.000000000",
          "2024-06-24T00:00:00.000000000",
          "2024-06-25T00:00:00.000000000",
          "2024-06-26T00:00:00.000000000",
          "2024-06-27T00:00:00.000000000",
          "2024-06-28T00:00:00.000000000",
          "2024-07-01T00:00:00.000000000",
          "2024-07-02T00:00:00.000000000",
          "2024-07-03T00:00:00.000000000",
          "2024-07-05T00:00:00.000000000",
          "2024-07-08T00:00:00.000000000",
          "2024-07-09T00:00:00.000000000",
          "2024-07-10T00:00:00.000000000",
          "2024-07-11T00:00:00.000000000",
          "2024-07-12T00:00:00.000000000",
          "2024-07-15T00:00:00.000000000",
          "2024-07-16T00:00:00.000000000",
          "2024-07-17T00:00:00.000000000",
          "2024-07-18T00:00:00.000000000",
          "2024-07-19T00:00:00.000000000",
          "2024-07-22T00:00:00.000000000",
          "2024-07-23T00:00:00.000000000",
          "2024-07-24T00:00:00.000000000",
          "2024-07-25T00:00:00.000000000",
          "2024-07-26T00:00:00.000000000",
          "2024-07-29T00:00:00.000000000",
          "2024-07-30T00:00:00.000000000"
         ],
         "xaxis": "x4",
         "y": {
          "bdata": "B1D3KG2KCcBsord/hGQFwIr96N/34ADAob9w0Mo1AsDOOXyH4IX8vwpHWfj08fm/N0UjTDPoAcDF3ashe/sAwKDPA9Kljvu/MLQcMskK6b+w32NTLLvUP+C3WqxEnOg/9ItsbGno8T+QsT6WzdD2P3QYjGrQofs/9uUtgjaQ/D8rN86vCOP+P0SnX7P+0gJABCXzSNz6AkA2k5iCTLsBQF7dv09KpQJAfkcsyjEYBEDMZhIGl58EQNbjQdXA8gFAq6KD7E3GAEAQvZNTTBH+P3AORIa2pvg/AEsJ3GV50j+cCykPS4XgvwwTWqU3E/K/pBHn6nEq9b88xIBeB6jsv5gWXr43XOK/KGR+J+It2r+A5/zF5zOqvxC85bYiad0/ApAVLNRB9D8CiL4ROWH7P8yIvwAx7P4/Hm8xQT5wAkDkGpB4xvkBQOrvyOK/DABAQI42HKpc/z/8LD+pETn6P8iYQlXVCfg/nBzult2m9T9I8Wqz8a7yP3AY3vn6d+E/UGhnxirY5T/Y8Uig82PqP0BmPAR/lOw/GLBBptn38z/gcLkmFuXzPzBGAXQTXeU/wOHbvWLI4z+AwOhj0/vQv2Dr6d3xwe6/+AKidb9q9r9kfoSlwGv/v1xXiXZkWgXAfve0NkPpCcD+W69bM4wNwGTic3MqtQvAtmbIdkR4CMDFtV05hZYNwOh1WpelaRLAuhKilqEHEsBiSJ42sn8QwGmXFdyyRQ/A",
          "dtype": "f8"
         },
         "yaxis": "y4"
        }
       ],
       "layout": {
        "height": 1000,
        "shapes": [
         {
          "line": {
           "color": "red",
           "dash": "dash"
          },
          "type": "line",
          "x0": 0,
          "x1": 1,
          "xref": "x3 domain",
          "y0": 70,
          "y1": 70,
          "yref": "y3"
         },
         {
          "line": {
           "color": "green",
           "dash": "dash"
          },
          "type": "line",
          "x0": 0,
          "x1": 1,
          "xref": "x3 domain",
          "y0": 30,
          "y1": 30,
          "yref": "y3"
         }
        ],
        "template": {
         "data": {
          "bar": [
           {
            "error_x": {
             "color": "#2a3f5f"
            },
            "error_y": {
             "color": "#2a3f5f"
            },
            "marker": {
             "line": {
              "color": "#E5ECF6",
              "width": 0.5
             },
             "pattern": {
              "fillmode": "overlay",
              "size": 10,
              "solidity": 0.2
             }
            },
            "type": "bar"
           }
          ],
          "barpolar": [
           {
            "marker": {
             "line": {
              "color": "#E5ECF6",
              "width": 0.5
             },
             "pattern": {
              "fillmode": "overlay",
              "size": 10,
              "solidity": 0.2
             }
            },
            "type": "barpolar"
           }
          ],
          "carpet": [
           {
            "aaxis": {
             "endlinecolor": "#2a3f5f",
             "gridcolor": "white",
             "linecolor": "white",
             "minorgridcolor": "white",
             "startlinecolor": "#2a3f5f"
            },
            "baxis": {
             "endlinecolor": "#2a3f5f",
             "gridcolor": "white",
             "linecolor": "white",
             "minorgridcolor": "white",
             "startlinecolor": "#2a3f5f"
            },
            "type": "carpet"
           }
          ],
          "choropleth": [
           {
            "colorbar": {
             "outlinewidth": 0,
             "ticks": ""
            },
            "type": "choropleth"
           }
          ],
          "contour": [
           {
            "colorbar": {
             "outlinewidth": 0,
             "ticks": ""
            },
            "colorscale": [
             [
              0,
              "#0d0887"
             ],
             [
              0.1111111111111111,
              "#46039f"
             ],
             [
              0.2222222222222222,
              "#7201a8"
             ],
             [
              0.3333333333333333,
              "#9c179e"
             ],
             [
              0.4444444444444444,
              "#bd3786"
             ],
             [
              0.5555555555555556,
              "#d8576b"
             ],
             [
              0.6666666666666666,
              "#ed7953"
             ],
             [
              0.7777777777777778,
              "#fb9f3a"
             ],
             [
              0.8888888888888888,
              "#fdca26"
             ],
             [
              1,
              "#f0f921"
             ]
            ],
            "type": "contour"
           }
          ],
          "contourcarpet": [
           {
            "colorbar": {
             "outlinewidth": 0,
             "ticks": ""
            },
            "type": "contourcarpet"
           }
          ],
          "heatmap": [
           {
            "colorbar": {
             "outlinewidth": 0,
             "ticks": ""
            },
            "colorscale": [
             [
              0,
              "#0d0887"
             ],
             [
              0.1111111111111111,
              "#46039f"
             ],
             [
              0.2222222222222222,
              "#7201a8"
             ],
             [
              0.3333333333333333,
              "#9c179e"
             ],
             [
              0.4444444444444444,
              "#bd3786"
             ],
             [
              0.5555555555555556,
              "#d8576b"
             ],
             [
              0.6666666666666666,
              "#ed7953"
             ],
             [
              0.7777777777777778,
              "#fb9f3a"
             ],
             [
              0.8888888888888888,
              "#fdca26"
             ],
             [
              1,
              "#f0f921"
             ]
            ],
            "type": "heatmap"
           }
          ],
          "histogram": [
           {
            "marker": {
             "pattern": {
              "fillmode": "overlay",
              "size": 10,
              "solidity": 0.2
             }
            },
            "type": "histogram"
           }
          ],
          "histogram2d": [
           {
            "colorbar": {
             "outlinewidth": 0,
             "ticks": ""
            },
            "colorscale": [
             [
              0,
              "#0d0887"
             ],
             [
              0.1111111111111111,
              "#46039f"
             ],
             [
              0.2222222222222222,
              "#7201a8"
             ],
             [
              0.3333333333333333,
              "#9c179e"
             ],
             [
              0.4444444444444444,
              "#bd3786"
             ],
             [
              0.5555555555555556,
              "#d8576b"
             ],
             [
              0.6666666666666666,
              "#ed7953"
             ],
             [
              0.7777777777777778,
              "#fb9f3a"
             ],
             [
              0.8888888888888888,
              "#fdca26"
             ],
             [
              1,
              "#f0f921"
             ]
            ],
            "type": "histogram2d"
           }
          ],
          "histogram2dcontour": [
           {
            "colorbar": {
             "outlinewidth": 0,
             "ticks": ""
            },
            "colorscale": [
             [
              0,
              "#0d0887"
             ],
             [
              0.1111111111111111,
              "#46039f"
             ],
             [
              0.2222222222222222,
              "#7201a8"
             ],
             [
              0.3333333333333333,
              "#9c179e"
             ],
             [
              0.4444444444444444,
              "#bd3786"
             ],
             [
              0.5555555555555556,
              "#d8576b"
             ],
             [
              0.6666666666666666,
              "#ed7953"
             ],
             [
              0.7777777777777778,
              "#fb9f3a"
             ],
             [
              0.8888888888888888,
              "#fdca26"
             ],
             [
              1,
              "#f0f921"
             ]
            ],
            "type": "histogram2dcontour"
           }
          ],
          "mesh3d": [
           {
            "colorbar": {
             "outlinewidth": 0,
             "ticks": ""
            },
            "type": "mesh3d"
           }
          ],
          "parcoords": [
           {
            "line": {
             "colorbar": {
              "outlinewidth": 0,
              "ticks": ""
             }
            },
            "type": "parcoords"
           }
          ],
          "pie": [
           {
            "automargin": true,
            "type": "pie"
           }
          ],
          "scatter": [
           {
            "fillpattern": {
             "fillmode": "overlay",
             "size": 10,
             "solidity": 0.2
            },
            "type": "scatter"
           }
          ],
          "scatter3d": [
           {
            "line": {
             "colorbar": {
              "outlinewidth": 0,
              "ticks": ""
             }
            },
            "marker": {
             "colorbar": {
              "outlinewidth": 0,
              "ticks": ""
             }
            },
            "type": "scatter3d"
           }
          ],
          "scattercarpet": [
           {
            "marker": {
             "colorbar": {
              "outlinewidth": 0,
              "ticks": ""
             }
            },
            "type": "scattercarpet"
           }
          ],
          "scattergeo": [
           {
            "marker": {
             "colorbar": {
              "outlinewidth": 0,
              "ticks": ""
             }
            },
            "type": "scattergeo"
           }
          ],
          "scattergl": [
           {
            "marker": {
             "colorbar": {
              "outlinewidth": 0,
              "ticks": ""
             }
            },
            "type": "scattergl"
           }
          ],
          "scattermap": [
           {
            "marker": {
             "colorbar": {
              "outlinewidth": 0,
              "ticks": ""
             }
            },
            "type": "scattermap"
           }
          ],
          "scattermapbox": [
           {
            "marker": {
             "colorbar": {
              "outlinewidth": 0,
              "ticks": ""
             }
            },
            "type": "scattermapbox"
           }
          ],
          "scatterpolar": [
           {
            "marker": {
             "colorbar": {
              "outlinewidth": 0,
              "ticks": ""
             }
            },
            "type": "scatterpolar"
           }
          ],
          "scatterpolargl": [
           {
            "marker": {
             "colorbar": {
              "outlinewidth": 0,
              "ticks": ""
             }
            },
            "type": "scatterpolargl"
           }
          ],
          "scatterternary": [
           {
            "marker": {
             "colorbar": {
              "outlinewidth": 0,
              "ticks": ""
             }
            },
            "type": "scatterternary"
           }
          ],
          "surface": [
           {
            "colorbar": {
             "outlinewidth": 0,
             "ticks": ""
            },
            "colorscale": [
             [
              0,
              "#0d0887"
             ],
             [
              0.1111111111111111,
              "#46039f"
             ],
             [
              0.2222222222222222,
              "#7201a8"
             ],
             [
              0.3333333333333333,
              "#9c179e"
             ],
             [
              0.4444444444444444,
              "#bd3786"
             ],
             [
              0.5555555555555556,
              "#d8576b"
             ],
             [
              0.6666666666666666,
              "#ed7953"
             ],
             [
              0.7777777777777778,
              "#fb9f3a"
             ],
             [
              0.8888888888888888,
              "#fdca26"
             ],
             [
              1,
              "#f0f921"
             ]
            ],
            "type": "surface"
           }
          ],
          "table": [
           {
            "cells": {
             "fill": {
              "color": "#EBF0F8"
             },
             "line": {
              "color": "white"
             }
            },
            "header": {
             "fill": {
              "color": "#C8D4E3"
             },
             "line": {
              "color": "white"
             }
            },
            "type": "table"
           }
          ]
         },
         "layout": {
          "annotationdefaults": {
           "arrowcolor": "#2a3f5f",
           "arrowhead": 0,
           "arrowwidth": 1
          },
          "autotypenumbers": "strict",
          "coloraxis": {
           "colorbar": {
            "outlinewidth": 0,
            "ticks": ""
           }
          },
          "colorscale": {
           "diverging": [
            [
             0,
             "#8e0152"
            ],
            [
             0.1,
             "#c51b7d"
            ],
            [
             0.2,
             "#de77ae"
            ],
            [
             0.3,
             "#f1b6da"
            ],
            [
             0.4,
             "#fde0ef"
            ],
            [
             0.5,
             "#f7f7f7"
            ],
            [
             0.6,
             "#e6f5d0"
            ],
            [
             0.7,
             "#b8e186"
            ],
            [
             0.8,
             "#7fbc41"
            ],
            [
             0.9,
             "#4d9221"
            ],
            [
             1,
             "#276419"
            ]
           ],
           "sequential": [
            [
             0,
             "#0d0887"
            ],
            [
             0.1111111111111111,
             "#46039f"
            ],
            [
             0.2222222222222222,
             "#7201a8"
            ],
            [
             0.3333333333333333,
             "#9c179e"
            ],
            [
             0.4444444444444444,
             "#bd3786"
            ],
            [
             0.5555555555555556,
             "#d8576b"
            ],
            [
             0.6666666666666666,
             "#ed7953"
            ],
            [
             0.7777777777777778,
             "#fb9f3a"
            ],
            [
             0.8888888888888888,
             "#fdca26"
            ],
            [
             1,
             "#f0f921"
            ]
           ],
           "sequentialminus": [
            [
             0,
             "#0d0887"
            ],
            [
             0.1111111111111111,
             "#46039f"
            ],
            [
             0.2222222222222222,
             "#7201a8"
            ],
            [
             0.3333333333333333,
             "#9c179e"
            ],
            [
             0.4444444444444444,
             "#bd3786"
            ],
            [
             0.5555555555555556,
             "#d8576b"
            ],
            [
             0.6666666666666666,
             "#ed7953"
            ],
            [
             0.7777777777777778,
             "#fb9f3a"
            ],
            [
             0.8888888888888888,
             "#fdca26"
            ],
            [
             1,
             "#f0f921"
            ]
           ]
          },
          "colorway": [
           "#636efa",
           "#EF553B",
           "#00cc96",
           "#ab63fa",
           "#FFA15A",
           "#19d3f3",
           "#FF6692",
           "#B6E880",
           "#FF97FF",
           "#FECB52"
          ],
          "font": {
           "color": "#2a3f5f"
          },
          "geo": {
           "bgcolor": "white",
           "lakecolor": "white",
           "landcolor": "#E5ECF6",
           "showlakes": true,
           "showland": true,
           "subunitcolor": "white"
          },
          "hoverlabel": {
           "align": "left"
          },
          "hovermode": "closest",
          "mapbox": {
           "style": "light"
          },
          "paper_bgcolor": "white",
          "plot_bgcolor": "#E5ECF6",
          "polar": {
           "angularaxis": {
            "gridcolor": "white",
            "linecolor": "white",
            "ticks": ""
           },
           "bgcolor": "#E5ECF6",
           "radialaxis": {
            "gridcolor": "white",
            "linecolor": "white",
            "ticks": ""
           }
          },
          "scene": {
           "xaxis": {
            "backgroundcolor": "#E5ECF6",
            "gridcolor": "white",
            "gridwidth": 2,
            "linecolor": "white",
            "showbackground": true,
            "ticks": "",
            "zerolinecolor": "white"
           },
           "yaxis": {
            "backgroundcolor": "#E5ECF6",
            "gridcolor": "white",
            "gridwidth": 2,
            "linecolor": "white",
            "showbackground": true,
            "ticks": "",
            "zerolinecolor": "white"
           },
           "zaxis": {
            "backgroundcolor": "#E5ECF6",
            "gridcolor": "white",
            "gridwidth": 2,
            "linecolor": "white",
            "showbackground": true,
            "ticks": "",
            "zerolinecolor": "white"
           }
          },
          "shapedefaults": {
           "line": {
            "color": "#2a3f5f"
           }
          },
          "ternary": {
           "aaxis": {
            "gridcolor": "white",
            "linecolor": "white",
            "ticks": ""
           },
           "baxis": {
            "gridcolor": "white",
            "linecolor": "white",
            "ticks": ""
           },
           "bgcolor": "#E5ECF6",
           "caxis": {
            "gridcolor": "white",
            "linecolor": "white",
            "ticks": ""
           }
          },
          "title": {
           "x": 0.05
          },
          "xaxis": {
           "automargin": true,
           "gridcolor": "white",
           "linecolor": "white",
           "ticks": "",
           "title": {
            "standoff": 15
           },
           "zerolinecolor": "white",
           "zerolinewidth": 2
          },
          "yaxis": {
           "automargin": true,
           "gridcolor": "white",
           "linecolor": "white",
           "ticks": "",
           "title": {
            "standoff": 15
           },
           "zerolinecolor": "white",
           "zerolinewidth": 2
          }
         }
        },
        "title": {
         "text": "Technical Analysis"
        },
        "xaxis": {
         "anchor": "y",
         "domain": [
          0,
          1
         ],
         "matches": "x4",
         "rangeslider": {
          "visible": false
         },
         "showticklabels": false
        },
        "xaxis2": {
         "anchor": "y2",
         "domain": [
          0,
          1
         ],
         "matches": "x4",
         "showticklabels": false
        },
        "xaxis3": {
         "anchor": "y3",
         "domain": [
          0,
          1
         ],
         "matches": "x4",
         "showticklabels": false
        },
        "xaxis4": {
         "anchor": "y4",
         "domain": [
          0,
          1
         ]
        },
        "yaxis": {
         "anchor": "x",
         "domain": [
          0.66,
          1
         ],
         "title": {
          "text": "Price"
         }
        },
        "yaxis2": {
         "anchor": "x2",
         "domain": [
          0.44000000000000006,
          0.6100000000000001
         ],
         "title": {
          "text": "Volume"
         }
        },
        "yaxis3": {
         "anchor": "x3",
         "domain": [
          0.22000000000000003,
          0.39
         ],
         "title": {
          "text": "RSI"
         }
        },
        "yaxis4": {
         "anchor": "x4",
         "domain": [
          0,
          0.17
         ],
         "title": {
          "text": "MACD"
         }
        }
       }
      }
     },
     "metadata": {},
     "output_type": "display_data"
    },
    {
     "name": "stdout",
     "output_type": "stream",
     "text": [
      "\n",
      "Generating technical analysis plot for NVDA...\n"
     ]
    },
    {
     "data": {
      "application/vnd.plotly.v1+json": {
       "config": {
        "plotlyServerURL": "https://plot.ly"
       },
       "data": [
        {
         "close": {
          "bdata": "AAAA4CbhU0AAAABgEptUQAAAAABU61NAAAAAwHKoVEAAAABACu9VQAAAAMBy8FVAAAAAYLqZVUAAAADAn8JUQAAAAMBJdFVAAAAAAH8yVkAAAADA9QhXQAEAAMB0o1ZAAAAAQF6aVkAAAADgzi9WQAAAACAxeFZAAQAAQImZVkABAADAyNZWQP///99RqFdA////3/mWV0ABAADgpx5XQAAAAIDrsVdAAAAAQLTYV0ABAADAzLxXQAAAAOAi81lA////HwSeWkAAAAAAqnlcQAEAAMDMtFxAAAAAAACgW0AAAAAgg2hbQAAAAAAAwFxAAAAAwPcbXUD/////KJxeQP///z/fP15A/////9Q4XkAAAABgj3JeQAAAAIA9Ol5AAQAAwMxMX0AAAAAghTNgQAAAAAApfGBAAAAAIFxfYEAAAABgj/JgQAAAAMD1WGBAAAAA4HqkX0AAAABACoddQAAAAIDChV9AAAAAoJmZX0D///8fXP9eQAAAAGCP4l5A////PzMTX0ABAABA4apeQAAAAMD1CGBA////vx51X0AAAABgZgZgQAAAAAApbGBAAAAAwB7dYEAAAACgmdlfQAAAACCuJ2BAAAAAgBQOYEAAAABACpdfQP///x9cf11AAAAAgMJFXkAAAAAghXtdQAAAAGCP4l5AAAAAgMKlXkAAAAAAAJBcQAAAAIDrEVxAAQAAANdDXEAAAACAwuVbQAAAAGC47llA",
          "dtype": "f8"
         },
         "high": {
          "bdata": "AAAAAKwEVEAAAABAN7FUQAAAAIA/BVVAAAAAAKzUVEAAAAAgLxVWQAAAAOB8/1VAAAAAgGo0VkAAAAAAAIBVQAAAAAArj1VAAAAA4PtRVkAAAACAFA5XQAEAAOD78VZAAAAAgGrMVkAAAACgm8RWQAAAAACq2VZA////P9+/VkAAAAAAqulWQAEAAAArt1dAAAAAgGr0V0D///8fXK9XQAEAAMDMzFdAAAAAoJnZV0AAAACgRwFYQAAAAOB6lFpAAAAAYGaeWkAAAACgGLxcQAAAAOB831xAAAAAgGr0XEAAAABg4y1cQAAAAAAAwFxAAAAAYGYmXUAAAABgvJxeQAAAAGCRZV9AAAAAwElsXkAAAABgZsZeQAEAACCut15A////31G4X0AAAACgmTlgQAAAAEDhmmBAAAAAIFy3YEAAAABgjwphQAAAAOBRmGFAAAAAAClUYEAAAACgcB1fQAAAAAAAoF9AAAAAANcDYEAAAACAPZpfQAAAAKBw7V9AAAAAgMI1X0AAAACAPdpeQAAAAMD1CGBAAAAAQDMbYEAAAADgo1hgQAAAAIA9umBAAAAAQDPjYEAAAADAzARhQAAAAKBwfWBAAAAA4HpsYEAAAACgRyFgQAAAAGBmdl5AAAAAoJmZXkAAAABgZmZeQAAAAOB6BF9A/////ygsX0ABAADAzPxdQP///99RKF1AAQAAwMwMXUAAAACA6xFdQP///x9c/1tA",
          "dtype": "f8"
         },
         "low": {
          "bdata": "AAAAoJkZU0AAAABg5RBUQAAAAEC2y1NAAAAAoEWOU0AAAACgxNhUQAAAACAGUVVAAAAAQDOTVUAAAADgUVBUQAAAAMDMzFRAAAAAYI/CVUAAAAAghUNWQAAAAEC0QFZAAAAAQOFaVkAAAADAyA5WQAAAACCHTlZAAAAAINshVkAAAACgxjtWQAAAAABW5lZAAAAAgJeGV0AAAACAlfNWQP////8oXFdAAAAAIIVLV0AAAACg709XQAAAAKBHYVlAAAAAAADAWUAAAAAgg3hbQAAAAACquVtAAAAAoG5qW0D/////KLxaQAAAACAxAFxAAQAAQOGCXEAAAADA811dQAAAAOB6lF1AAAAAgGiBXUABAADgo0BdQP///x9cr11AAAAA4HqkXkAAAACAPcpfQAAAAIA9CmBAAAAAYI8yYEAAAACAFFZgQAAAAOCjMGBA////PzMTX0AAAABgj4JdQAAAAOB61F1AAAAAYGamXkABAABA4bpeQAAAAAAAsF5A////vx61XUAAAACA60FeQAAAAEAKV15AAAAAIIVrX0AAAABgj8JfQAAAAMDMFGBAAAAAoHCNYED///8/M8NfQAAAAIAUzl9AAAAAIIXLX0D///+/HiVfQAAAAIAULl1AAQAAANcjXUABAAAgrlddQAAAAEAK911AAAAAYGaGXkD/////KFxcQP///z8zk1pA////vx7lW0D///8/M9NbQAAAAGCPollA",
          "dtype": "f8"
         },
         "name": "OHLC",
         "open": {
          "bdata": "AAAA4KeGU0AAAABANzFUQAAAAMDM/FRAAAAAQI23U0AAAAAgWvRUQAAAAIAU5lVAAAAAIFzPVUAAAACg7URVQAAAAGC8HFVAAAAAAH/yVUAAAADA9VhWQAAAAKBFxlZAAAAAgOleVkAAAAAg26FWQAAAACCFk1ZAAAAAgJeeVkAAAAAAVmZWQAEAAEA1HldAAAAAgD26V0AAAADAnZdXQAAAAAAAcFdAAAAAAFZmV0AAAABAYN1XQP///7/KgVlAAAAAYLwcWkAAAADAnY9bQP///z8zQ1xAAAAAoJmpXEAAAACgRyFcQAAAAIC+Z1xAAQAAANPtXEAAAACAvpddQAAAAGASA19AAAAAoEfxXUABAAAgrhdeQAAAAKBHcV5AAQAAANfDXkAAAADgeixgQAAAAGC4PmBAAAAAIK6fYEAAAADgemRgQAAAAKCZeWFAAQAAIK7HX0D///8fXM9eQAEAAMDMTF5A////31GIX0AAAABgZgZfQP///78eJV9AAAAAgBTeXkD////fUUheQAAAAIA9al5A////31HYX0D///8fXN9fQAAAAEAzS2BAAAAAwPXAYEAAAAAAAPhgQAAAAOBRCGBAAAAAgOtRYEAAAACAFA5gQAAAAGBmVl5AAAAAYGZ2XkAAAABgZhZeQAAAAGBmFl5AAAAAgOuxXkABAABA4cpdQAAAAGCPQlxA/////ygMXUD/////KGxcQAAAAKBH4VtA",
          "dtype": "f8"
         },
         "type": "candlestick",
         "x": [
          "2024-04-22T00:00:00.000000000",
          "2024-04-23T00:00:00.000000000",
          "2024-04-24T00:00:00.000000000",
          "2024-04-25T00:00:00.000000000",
          "2024-04-26T00:00:00.000000000",
          "2024-04-29T00:00:00.000000000",
          "2024-04-30T00:00:00.000000000",
          "2024-05-01T00:00:00.000000000",
          "2024-05-02T00:00:00.000000000",
          "2024-05-03T00:00:00.000000000",
          "2024-05-06T00:00:00.000000000",
          "2024-05-07T00:00:00.000000000",
          "2024-05-08T00:00:00.000000000",
          "2024-05-09T00:00:00.000000000",
          "2024-05-10T00:00:00.000000000",
          "2024-05-13T00:00:00.000000000",
          "2024-05-14T00:00:00.000000000",
          "2024-05-15T00:00:00.000000000",
          "2024-05-16T00:00:00.000000000",
          "2024-05-17T00:00:00.000000000",
          "2024-05-20T00:00:00.000000000",
          "2024-05-21T00:00:00.000000000",
          "2024-05-22T00:00:00.000000000",
          "2024-05-23T00:00:00.000000000",
          "2024-05-24T00:00:00.000000000",
          "2024-05-28T00:00:00.000000000",
          "2024-05-29T00:00:00.000000000",
          "2024-05-30T00:00:00.000000000",
          "2024-05-31T00:00:00.000000000",
          "2024-06-03T00:00:00.000000000",
          "2024-06-04T00:00:00.000000000",
          "2024-06-05T00:00:00.000000000",
          "2024-06-06T00:00:00.000000000",
          "2024-06-07T00:00:00.000000000",
          "2024-06-10T00:00:00.000000000",
          "2024-06-11T00:00:00.000000000",
          "2024-06-12T00:00:00.000000000",
          "2024-06-13T00:00:00.000000000",
          "2024-06-14T00:00:00.000000000",
          "2024-06-17T00:00:00.000000000",
          "2024-06-18T00:00:00.000000000",
          "2024-06-20T00:00:00.000000000",
          "2024-06-21T00:00:00.000000000",
          "2024-06-24T00:00:00.000000000",
          "2024-06-25T00:00:00.000000000",
          "2024-06-26T00:00:00.000000000",
          "2024-06-27T00:00:00.000000000",
          "2024-06-28T00:00:00.000000000",
          "2024-07-01T00:00:00.000000000",
          "2024-07-02T00:00:00.000000000",
          "2024-07-03T00:00:00.000000000",
          "2024-07-05T00:00:00.000000000",
          "2024-07-08T00:00:00.000000000",
          "2024-07-09T00:00:00.000000000",
          "2024-07-10T00:00:00.000000000",
          "2024-07-11T00:00:00.000000000",
          "2024-07-12T00:00:00.000000000",
          "2024-07-15T00:00:00.000000000",
          "2024-07-16T00:00:00.000000000",
          "2024-07-17T00:00:00.000000000",
          "2024-07-18T00:00:00.000000000",
          "2024-07-19T00:00:00.000000000",
          "2024-07-22T00:00:00.000000000",
          "2024-07-23T00:00:00.000000000",
          "2024-07-24T00:00:00.000000000",
          "2024-07-25T00:00:00.000000000",
          "2024-07-26T00:00:00.000000000",
          "2024-07-29T00:00:00.000000000",
          "2024-07-30T00:00:00.000000000"
         ],
         "xaxis": "x",
         "yaxis": "y"
        },
        {
         "line": {
          "color": "blue"
         },
         "name": "SMA 20",
         "type": "scatter",
         "x": [
          "2024-04-22T00:00:00.000000000",
          "2024-04-23T00:00:00.000000000",
          "2024-04-24T00:00:00.000000000",
          "2024-04-25T00:00:00.000000000",
          "2024-04-26T00:00:00.000000000",
          "2024-04-29T00:00:00.000000000",
          "2024-04-30T00:00:00.000000000",
          "2024-05-01T00:00:00.000000000",
          "2024-05-02T00:00:00.000000000",
          "2024-05-03T00:00:00.000000000",
          "2024-05-06T00:00:00.000000000",
          "2024-05-07T00:00:00.000000000",
          "2024-05-08T00:00:00.000000000",
          "2024-05-09T00:00:00.000000000",
          "2024-05-10T00:00:00.000000000",
          "2024-05-13T00:00:00.000000000",
          "2024-05-14T00:00:00.000000000",
          "2024-05-15T00:00:00.000000000",
          "2024-05-16T00:00:00.000000000",
          "2024-05-17T00:00:00.000000000",
          "2024-05-20T00:00:00.000000000",
          "2024-05-21T00:00:00.000000000",
          "2024-05-22T00:00:00.000000000",
          "2024-05-23T00:00:00.000000000",
          "2024-05-24T00:00:00.000000000",
          "2024-05-28T00:00:00.000000000",
          "2024-05-29T00:00:00.000000000",
          "2024-05-30T00:00:00.000000000",
          "2024-05-31T00:00:00.000000000",
          "2024-06-03T00:00:00.000000000",
          "2024-06-04T00:00:00.000000000",
          "2024-06-05T00:00:00.000000000",
          "2024-06-06T00:00:00.000000000",
          "2024-06-07T00:00:00.000000000",
          "2024-06-10T00:00:00.000000000",
          "2024-06-11T00:00:00.000000000",
          "2024-06-12T00:00:00.000000000",
          "2024-06-13T00:00:00.000000000",
          "2024-06-14T00:00:00.000000000",
          "2024-06-17T00:00:00.000000000",
          "2024-06-18T00:00:00.000000000",
          "2024-06-20T00:00:00.000000000",
          "2024-06-21T00:00:00.000000000",
          "2024-06-24T00:00:00.000000000",
          "2024-06-25T00:00:00.000000000",
          "2024-06-26T00:00:00.000000000",
          "2024-06-27T00:00:00.000000000",
          "2024-06-28T00:00:00.000000000",
          "2024-07-01T00:00:00.000000000",
          "2024-07-02T00:00:00.000000000",
          "2024-07-03T00:00:00.000000000",
          "2024-07-05T00:00:00.000000000",
          "2024-07-08T00:00:00.000000000",
          "2024-07-09T00:00:00.000000000",
          "2024-07-10T00:00:00.000000000",
          "2024-07-11T00:00:00.000000000",
          "2024-07-12T00:00:00.000000000",
          "2024-07-15T00:00:00.000000000",
          "2024-07-16T00:00:00.000000000",
          "2024-07-17T00:00:00.000000000",
          "2024-07-18T00:00:00.000000000",
          "2024-07-19T00:00:00.000000000",
          "2024-07-22T00:00:00.000000000",
          "2024-07-23T00:00:00.000000000",
          "2024-07-24T00:00:00.000000000",
          "2024-07-25T00:00:00.000000000",
          "2024-07-26T00:00:00.000000000",
          "2024-07-29T00:00:00.000000000",
          "2024-07-30T00:00:00.000000000"
         ],
         "xaxis": "x",
         "y": {
          "bdata": "ZmZmJn7WVUBmZmZuPa5VQM3MzNwChVVAMzMzM6JsVUAzMzMTP2RVQGZmZj7oW1VAZmZmriVSVUAAAACQMT9VQJqZmXnpPlVAzczMRGlBVUAAAAAAb1FVQAAAANgSYlVAmpmZAd5sVUDNzMzs4mZVQDMzMwNNbFVAMzMz2196VUAzMzNT/IZVQGZmZr7jqFVAAAAAKOTHVUCamZnp+/tVQDMzM4vSLFZAZmZm1k1WVkCamZl5LYdWQDMzM3vpylZAAAAAYNwGV0CamZmJhVpXQAAAAKh5tVdAmpmZEVgNWEAzMzMjjllYQAAAADBurVhAmpmZSS77WEDNzMxMN2FZQJqZmVkXw1lAmpmZQfEpWkCamZmRD5BaQGZmZi6y8VpAZmZmLv9dW0DNzMzM7s1bQJqZmQEARlxAZmZmBjTBXEAzMzNjw0NdQGZmZiYGtV1AmpmZQTUaXkAzMzPTAEheQAAAAFjKhl5AZmZmhsmuXkBmZmZ+HcxeQM3MzNzX9V5AmpmZEcckX0DNzMxUUj1fQGZmZh44Y19AzczMNBFuX0DNzMwUHYVfQJqZmSGwpl9AmpmZCazQX0DNzMykcOVfQAAAADhe8l9AmpmZwZ/uX0DNzMzE9dxfQM3MzFxks19AZmZmJgaFX0BmZmZu51tfQJqZmUE1Ul9AzczMRItgX0CamZnxpzpfQGZmZtZ4DV9AMzMz+37qXkCamZmJQcReQAAAAJhugl5A",
          "dtype": "f8"
         },
         "yaxis": "y"
        },
        {
         "line": {
          "color": "orange"
         },
         "name": "SMA 50",
         "type": "scatter",
         "x": [
          "2024-04-22T00:00:00.000000000",
          "2024-04-23T00:00:00.000000000",
          "2024-04-24T00:00:00.000000000",
          "2024-04-25T00:00:00.000000000",
          "2024-04-26T00:00:00.000000000",
          "2024-04-29T00:00:00.000000000",
          "2024-04-30T00:00:00.000000000",
          "2024-05-01T00:00:00.000000000",
          "2024-05-02T00:00:00.000000000",
          "2024-05-03T00:00:00.000000000",
          "2024-05-06T00:00:00.000000000",
          "2024-05-07T00:00:00.000000000",
          "2024-05-08T00:00:00.000000000",
          "2024-05-09T00:00:00.000000000",
          "2024-05-10T00:00:00.000000000",
          "2024-05-13T00:00:00.000000000",
          "2024-05-14T00:00:00.000000000",
          "2024-05-15T00:00:00.000000000",
          "2024-05-16T00:00:00.000000000",
          "2024-05-17T00:00:00.000000000",
          "2024-05-20T00:00:00.000000000",
          "2024-05-21T00:00:00.000000000",
          "2024-05-22T00:00:00.000000000",
          "2024-05-23T00:00:00.000000000",
          "2024-05-24T00:00:00.000000000",
          "2024-05-28T00:00:00.000000000",
          "2024-05-29T00:00:00.000000000",
          "2024-05-30T00:00:00.000000000",
          "2024-05-31T00:00:00.000000000",
          "2024-06-03T00:00:00.000000000",
          "2024-06-04T00:00:00.000000000",
          "2024-06-05T00:00:00.000000000",
          "2024-06-06T00:00:00.000000000",
          "2024-06-07T00:00:00.000000000",
          "2024-06-10T00:00:00.000000000",
          "2024-06-11T00:00:00.000000000",
          "2024-06-12T00:00:00.000000000",
          "2024-06-13T00:00:00.000000000",
          "2024-06-14T00:00:00.000000000",
          "2024-06-17T00:00:00.000000000",
          "2024-06-18T00:00:00.000000000",
          "2024-06-20T00:00:00.000000000",
          "2024-06-21T00:00:00.000000000",
          "2024-06-24T00:00:00.000000000",
          "2024-06-25T00:00:00.000000000",
          "2024-06-26T00:00:00.000000000",
          "2024-06-27T00:00:00.000000000",
          "2024-06-28T00:00:00.000000000",
          "2024-07-01T00:00:00.000000000",
          "2024-07-02T00:00:00.000000000",
          "2024-07-03T00:00:00.000000000",
          "2024-07-05T00:00:00.000000000",
          "2024-07-08T00:00:00.000000000",
          "2024-07-09T00:00:00.000000000",
          "2024-07-10T00:00:00.000000000",
          "2024-07-11T00:00:00.000000000",
          "2024-07-12T00:00:00.000000000",
          "2024-07-15T00:00:00.000000000",
          "2024-07-16T00:00:00.000000000",
          "2024-07-17T00:00:00.000000000",
          "2024-07-18T00:00:00.000000000",
          "2024-07-19T00:00:00.000000000",
          "2024-07-22T00:00:00.000000000",
          "2024-07-23T00:00:00.000000000",
          "2024-07-24T00:00:00.000000000",
          "2024-07-25T00:00:00.000000000",
          "2024-07-26T00:00:00.000000000",
          "2024-07-29T00:00:00.000000000",
          "2024-07-30T00:00:00.000000000"
         ],
         "xaxis": "x",
         "y": {
          "bdata": "XI/CJaoPVUCPwvX41RxVQOxRuE5YJlVAKVyPQsozVUBmZma2f0VVQK5H4VrTWFVAw/UovHlqVUA9CteT3ntVQOF6FN5Zk1VApHA96nigVUCF61GYhrFVQGZmZnYywFVAzczM7C/PVUDhehTuX91VQLgehbsn61VA7FG4foz1VUAfheuRYf1VQOxRuD55CFZAZmZmlrcPVkA9CtdTeQ9WQJqZmanBGFZAKVyPUg8lVkDD9Sh88ihWQJqZmSl5OVZA9ihcby9RVkBmZmYWjHJWQB+F6wFNlFZAXI/CtU+vVkB7FK4n98dWQPYoXO8g5lZAPQrXY3oCV0BmZmZGmSVXQDMzM4P/SVdAj8L1+DZxV0A9CtdDc5lXQIXrUeiMwFdA9ihcz07uV0AUrkexVSJYQIXrUcguXVhAhetR2C+UWEBSuB71MtJYQGZmZiZYDFlArkfhqvE+WUBxPQrnImJZQI/C9UinkllArkfhOl3GWUAAAAAgLvVZQPYoXB+/J1pAFK5HwXhaWkC4HoUL9JVaQArXo2Be1FpAw/Uo/O0LW0AAAAAACkpbQOxRuL5viFtAzczMDNLEW0BI4XpEkPdbQM3MzGxlLlxAUrgexYFoXEBmZmbmZpxcQLgehXvHwVxAFK5H0dXmXEApXI9i4AldQEjhesRHNF1ACtejcJlfXUCF61Goy35dQPYoXJ/Nml1AZmZmlpW2XUCkcD0KS8xdQK5H4bpJ2F1A",
          "dtype": "f8"
         },
         "yaxis": "y"
        },
        {
         "line": {
          "color": "red"
         },
         "name": "SMA 200",
         "type": "scatter",
         "x": [
          "2024-04-22T00:00:00.000000000",
          "2024-04-23T00:00:00.000000000",
          "2024-04-24T00:00:00.000000000",
          "2024-04-25T00:00:00.000000000",
          "2024-04-26T00:00:00.000000000",
          "2024-04-29T00:00:00.000000000",
          "2024-04-30T00:00:00.000000000",
          "2024-05-01T00:00:00.000000000",
          "2024-05-02T00:00:00.000000000",
          "2024-05-03T00:00:00.000000000",
          "2024-05-06T00:00:00.000000000",
          "2024-05-07T00:00:00.000000000",
          "2024-05-08T00:00:00.000000000",
          "2024-05-09T00:00:00.000000000",
          "2024-05-10T00:00:00.000000000",
          "2024-05-13T00:00:00.000000000",
          "2024-05-14T00:00:00.000000000",
          "2024-05-15T00:00:00.000000000",
          "2024-05-16T00:00:00.000000000",
          "2024-05-17T00:00:00.000000000",
          "2024-05-20T00:00:00.000000000",
          "2024-05-21T00:00:00.000000000",
          "2024-05-22T00:00:00.000000000",
          "2024-05-23T00:00:00.000000000",
          "2024-05-24T00:00:00.000000000",
          "2024-05-28T00:00:00.000000000",
          "2024-05-29T00:00:00.000000000",
          "2024-05-30T00:00:00.000000000",
          "2024-05-31T00:00:00.000000000",
          "2024-06-03T00:00:00.000000000",
          "2024-06-04T00:00:00.000000000",
          "2024-06-05T00:00:00.000000000",
          "2024-06-06T00:00:00.000000000",
          "2024-06-07T00:00:00.000000000",
          "2024-06-10T00:00:00.000000000",
          "2024-06-11T00:00:00.000000000",
          "2024-06-12T00:00:00.000000000",
          "2024-06-13T00:00:00.000000000",
          "2024-06-14T00:00:00.000000000",
          "2024-06-17T00:00:00.000000000",
          "2024-06-18T00:00:00.000000000",
          "2024-06-20T00:00:00.000000000",
          "2024-06-21T00:00:00.000000000",
          "2024-06-24T00:00:00.000000000",
          "2024-06-25T00:00:00.000000000",
          "2024-06-26T00:00:00.000000000",
          "2024-06-27T00:00:00.000000000",
          "2024-06-28T00:00:00.000000000",
          "2024-07-01T00:00:00.000000000",
          "2024-07-02T00:00:00.000000000",
          "2024-07-03T00:00:00.000000000",
          "2024-07-05T00:00:00.000000000",
          "2024-07-08T00:00:00.000000000",
          "2024-07-09T00:00:00.000000000",
          "2024-07-10T00:00:00.000000000",
          "2024-07-11T00:00:00.000000000",
          "2024-07-12T00:00:00.000000000",
          "2024-07-15T00:00:00.000000000",
          "2024-07-16T00:00:00.000000000",
          "2024-07-17T00:00:00.000000000",
          "2024-07-18T00:00:00.000000000",
          "2024-07-19T00:00:00.000000000",
          "2024-07-22T00:00:00.000000000",
          "2024-07-23T00:00:00.000000000",
          "2024-07-24T00:00:00.000000000",
          "2024-07-25T00:00:00.000000000",
          "2024-07-26T00:00:00.000000000",
          "2024-07-29T00:00:00.000000000",
          "2024-07-30T00:00:00.000000000"
         ],
         "xaxis": "x",
         "y": {
          "bdata": "9ihc++OJTEDXo3B5cKNMQHsUrvtvu0xAKVyPxi7VTEA9CtdfPPFMQMP1KJz5C01AKVyPEiwmTUBxPQpXlT1NQKRwPS4cVk1AZmZmRs5wTUCuR+F+pI5NQK5H4UY9rE1ApHA9Jo3JTUBSuB5pHeVNQClcjyqMAU5AH4Xr4QYeTkAUrkchkzpOQOxRuDo7WU5AUrgeTdt3TkCuR+EGtpZOQFyPwnHhtk5AmpmZHVXXTkDhehSaCPdOQD0K10fhHE9AFK5HHclFT0AfhevNjXNPQEjhegzlok9ACtej4JzNT0CPwvUEqPdPQFyPwm+2ElBAj8L1NhoqUEDhehRybUNQQOxRuBAeW1BASOF6FjBzUEBcj8JhFYtQQClcj7yuolBA9ihcUwW8UECPwvVAgtZQQEjhenoZ8VBAUrgepz8LUUBI4Xo01yZRQGZmZtgqQVFAhetRaCJaUUA9Cte93nBRQArXo/hrilFA7FG4ZkmkUUDhehSugb1RQJqZmVOu1lFAAAAA2ubvUUDXo3D7kQhSQKRwPWSSI1JAzczMsMQ9UkBxPQqt3VhSQNejcBtkdVJASOF60m+TUkAzMzO9465SQHE9CkG8ylJAXI/CtWzmUkApXI8kRQFTQIXrUQg9GVNA16NwSREyU0DD9SiSeUlTQMP1KA4VY1NAAAAAyjd8U0CuR+FOepJTQGZmZnbDp1NAzczMknS9U0CPwvVAgtJTQD0K13e55FNA",
          "dtype": "f8"
         },
         "yaxis": "y"
        },
        {
         "line": {
          "color": "gray",
          "dash": "dash"
         },
         "name": "BB High",
         "type": "scatter",
         "x": [
          "2024-04-22T00:00:00.000000000",
          "2024-04-23T00:00:00.000000000",
          "2024-04-24T00:00:00.000000000",
          "2024-04-25T00:00:00.000000000",
          "2024-04-26T00:00:00.000000000",
          "2024-04-29T00:00:00.000000000",
          "2024-04-30T00:00:00.000000000",
          "2024-05-01T00:00:00.000000000",
          "2024-05-02T00:00:00.000000000",
          "2024-05-03T00:00:00.000000000",
          "2024-05-06T00:00:00.000000000",
          "2024-05-07T00:00:00.000000000",
          "2024-05-08T00:00:00.000000000",
          "2024-05-09T00:00:00.000000000",
          "2024-05-10T00:00:00.000000000",
          "2024-05-13T00:00:00.000000000",
          "2024-05-14T00:00:00.000000000",
          "2024-05-15T00:00:00.000000000",
          "2024-05-16T00:00:00.000000000",
          "2024-05-17T00:00:00.000000000",
          "2024-05-20T00:00:00.000000000",
          "2024-05-21T00:00:00.000000000",
          "2024-05-22T00:00:00.000000000",
          "2024-05-23T00:00:00.000000000",
          "2024-05-24T00:00:00.000000000",
          "2024-05-28T00:00:00.000000000",
          "2024-05-29T00:00:00.000000000",
          "2024-05-30T00:00:00.000000000",
          "2024-05-31T00:00:00.000000000",
          "2024-06-03T00:00:00.000000000",
          "2024-06-04T00:00:00.000000000",
          "2024-06-05T00:00:00.000000000",
          "2024-06-06T00:00:00.000000000",
          "2024-06-07T00:00:00.000000000",
          "2024-06-10T00:00:00.000000000",
          "2024-06-11T00:00:00.000000000",
          "2024-06-12T00:00:00.000000000",
          "2024-06-13T00:00:00.000000000",
          "2024-06-14T00:00:00.000000000",
          "2024-06-17T00:00:00.000000000",
          "2024-06-18T00:00:00.000000000",
          "2024-06-20T00:00:00.000000000",
          "2024-06-21T00:00:00.000000000",
          "2024-06-24T00:00:00.000000000",
          "2024-06-25T00:00:00.000000000",
          "2024-06-26T00:00:00.000000000",
          "2024-06-27T00:00:00.000000000",
          "2024-06-28T00:00:00.000000000",
          "2024-07-01T00:00:00.000000000",
          "2024-07-02T00:00:00.000000000",
          "2024-07-03T00:00:00.000000000",
          "2024-07-05T00:00:00.000000000",
          "2024-07-08T00:00:00.000000000",
          "2024-07-09T00:00:00.000000000",
          "2024-07-10T00:00:00.000000000",
          "2024-07-11T00:00:00.000000000",
          "2024-07-12T00:00:00.000000000",
          "2024-07-15T00:00:00.000000000",
          "2024-07-16T00:00:00.000000000",
          "2024-07-17T00:00:00.000000000",
          "2024-07-18T00:00:00.000000000",
          "2024-07-19T00:00:00.000000000",
          "2024-07-22T00:00:00.000000000",
          "2024-07-23T00:00:00.000000000",
          "2024-07-24T00:00:00.000000000",
          "2024-07-25T00:00:00.000000000",
          "2024-07-26T00:00:00.000000000",
          "2024-07-29T00:00:00.000000000",
          "2024-07-30T00:00:00.000000000"
         ],
         "xaxis": "x",
         "y": {
          "bdata": "x/8ZiYPoV0A7qf0Xnp5XQP9VPStWe1dAUtR+CwpcV0DH46YcoURXQLIIRJs0LFdAc2WUJGsUV0Dv5fbcBfhWQMZVLBuZ91ZAEq+MFAD/VkD+UKMtlzZXQC2+fccjXVdARYTJo5l4V0CKdToAtmZXQNBzjDg0dVdAQ/DUQZuTV0CKhWU7IbRXQFox7uFbAlhA7mLlOypDWEC7UUK6UDBYQN+53eicRlhA9VK4obhtWEBZRxbhxmJYQA1Mt6CT/FhAiJvdwPO9WUA87Qeo4OhaQCuGVJXq3FtAHI8QnN9OXECiGbirdKtcQOlLop+HR11AlpPpwHjmXUCyqaQNFr9eQHhBOKAAXl9APICSGXfWX0BXt9YEtiFgQNRLdmTLRmBAzQaMO5x5YEC/mxeDLMNgQPjUUc1ACWFAICtfGrYtYUDPX07o6WRhQAIB/r7RaWFAFD9DhBM+YUC8T+HSHh9hQPshA95NEmFAC6te/ZUZYUAKB/KFLxlhQLJ0fFwrBGFAbwAa7sPfYEDxr/zmzs5gQGOe0Oy2yWBAl8CWP2XLYEARnEXv4s9gQF7OIOoB32BA0CD2sN4BYUBoSCkBYfxgQM7ZpTljAWFAyG1nIF3+YEAA5kPS3+5gQO3LnAwv9GBAudAicljIYEAtB/DvhMFgQKRDBZpbvWBAdxT9LTmzYEBcFXSo1ctgQDXcju+e42BAJddLgEjzYEClRxyUqwNhQDBK0E15MWFA",
          "dtype": "f8"
         },
         "yaxis": "y"
        },
        {
         "line": {
          "color": "gray",
          "dash": "dash"
         },
         "name": "BB Low",
         "type": "scatter",
         "x": [
          "2024-04-22T00:00:00.000000000",
          "2024-04-23T00:00:00.000000000",
          "2024-04-24T00:00:00.000000000",
          "2024-04-25T00:00:00.000000000",
          "2024-04-26T00:00:00.000000000",
          "2024-04-29T00:00:00.000000000",
          "2024-04-30T00:00:00.000000000",
          "2024-05-01T00:00:00.000000000",
          "2024-05-02T00:00:00.000000000",
          "2024-05-03T00:00:00.000000000",
          "2024-05-06T00:00:00.000000000",
          "2024-05-07T00:00:00.000000000",
          "2024-05-08T00:00:00.000000000",
          "2024-05-09T00:00:00.000000000",
          "2024-05-10T00:00:00.000000000",
          "2024-05-13T00:00:00.000000000",
          "2024-05-14T00:00:00.000000000",
          "2024-05-15T00:00:00.000000000",
          "2024-05-16T00:00:00.000000000",
          "2024-05-17T00:00:00.000000000",
          "2024-05-20T00:00:00.000000000",
          "2024-05-21T00:00:00.000000000",
          "2024-05-22T00:00:00.000000000",
          "2024-05-23T00:00:00.000000000",
          "2024-05-24T00:00:00.000000000",
          "2024-05-28T00:00:00.000000000",
          "2024-05-29T00:00:00.000000000",
          "2024-05-30T00:00:00.000000000",
          "2024-05-31T00:00:00.000000000",
          "2024-06-03T00:00:00.000000000",
          "2024-06-04T00:00:00.000000000",
          "2024-06-05T00:00:00.000000000",
          "2024-06-06T00:00:00.000000000",
          "2024-06-07T00:00:00.000000000",
          "2024-06-10T00:00:00.000000000",
          "2024-06-11T00:00:00.000000000",
          "2024-06-12T00:00:00.000000000",
          "2024-06-13T00:00:00.000000000",
          "2024-06-14T00:00:00.000000000",
          "2024-06-17T00:00:00.000000000",
          "2024-06-18T00:00:00.000000000",
          "2024-06-20T00:00:00.000000000",
          "2024-06-21T00:00:00.000000000",
          "2024-06-24T00:00:00.000000000",
          "2024-06-25T00:00:00.000000000",
          "2024-06-26T00:00:00.000000000",
          "2024-06-27T00:00:00.000000000",
          "2024-06-28T00:00:00.000000000",
          "2024-07-01T00:00:00.000000000",
          "2024-07-02T00:00:00.000000000",
          "2024-07-03T00:00:00.000000000",
          "2024-07-05T00:00:00.000000000",
          "2024-07-08T00:00:00.000000000",
          "2024-07-09T00:00:00.000000000",
          "2024-07-10T00:00:00.000000000",
          "2024-07-11T00:00:00.000000000",
          "2024-07-12T00:00:00.000000000",
          "2024-07-15T00:00:00.000000000",
          "2024-07-16T00:00:00.000000000",
          "2024-07-17T00:00:00.000000000",
          "2024-07-18T00:00:00.000000000",
          "2024-07-19T00:00:00.000000000",
          "2024-07-22T00:00:00.000000000",
          "2024-07-23T00:00:00.000000000",
          "2024-07-24T00:00:00.000000000",
          "2024-07-25T00:00:00.000000000",
          "2024-07-26T00:00:00.000000000",
          "2024-07-29T00:00:00.000000000",
          "2024-07-30T00:00:00.000000000"
         ],
         "xaxis": "x",
         "y": {
          "bdata": "Bc2yw3jEU0CRI8/E3L1TQJtDXI6vjlNAFJLnWjp9U0Cfgr8J3YNTQBrEiOGbi1NAWWc4OOCPU0ARGglDXYZTQG7dBtg5hlNAiOoMddKDU0ACr1zSRmxTQNNBgugBZ1NA765pXyJhU0AQJF/ZD2dTQJby2c1lY1NAI3aRdCRhU0Dc4ABr11lTQHKb3pprT1NAEp0aFJ5MU0B54fAYp8dTQIesiC0IE1RA13kUC+M+VEDb6xwSlKtUQFkar1U/mVRAeGQi/8RPVED4RStrKsxTQNV5q7oIjlNAGKQih9DLU0DETK6apwdUQBe0XcBUE1RAnp9J0uMPVEDo7/SLWANUQLzx+hIuKFRA+LKgaWt9VECGxIUZs9xUQCU14JPNVVVAMr+05cXIVUAdYmqThBVWQESJj2h+eVZAjHYO2PsmV0DJpsn1sr1XQMjK0M5ollhAC7WsekO4WUDuxqMAxFFaQAu8+fP46FpAtnYPEmcqW0C4vujw22VbQDWwoABZ41tAVjL/RgaKXEC4OaDbBt1cQAaQK2MCM11AbBhs6ldFXUB4YQ5LdGpdQHeW8W5cj11Ak/FGsZqdXUDKCEdHH9JdQGVMtPz14V1ApFdkQoXgXUCazRHlK9xdQMEBYKBqfl1AWiuHaFt5XUBzvuz8xDRdQO2rKE+zKV1ArHCfLaRaXUB9CEuSpN1cQGIUr82zU1xAHLjO9WzuW0Dqo/rqK4FbQJ9rX5TqoVpA",
          "dtype": "f8"
         },
         "yaxis": "y"
        },
        {
         "name": "Volume",
         "type": "bar",
         "x": [
          "2024-04-22T00:00:00.000000000",
          "2024-04-23T00:00:00.000000000",
          "2024-04-24T00:00:00.000000000",
          "2024-04-25T00:00:00.000000000",
          "2024-04-26T00:00:00.000000000",
          "2024-04-29T00:00:00.000000000",
          "2024-04-30T00:00:00.000000000",
          "2024-05-01T00:00:00.000000000",
          "2024-05-02T00:00:00.000000000",
          "2024-05-03T00:00:00.000000000",
          "2024-05-06T00:00:00.000000000",
          "2024-05-07T00:00:00.000000000",
          "2024-05-08T00:00:00.000000000",
          "2024-05-09T00:00:00.000000000",
          "2024-05-10T00:00:00.000000000",
          "2024-05-13T00:00:00.000000000",
          "2024-05-14T00:00:00.000000000",
          "2024-05-15T00:00:00.000000000",
          "2024-05-16T00:00:00.000000000",
          "2024-05-17T00:00:00.000000000",
          "2024-05-20T00:00:00.000000000",
          "2024-05-21T00:00:00.000000000",
          "2024-05-22T00:00:00.000000000",
          "2024-05-23T00:00:00.000000000",
          "2024-05-24T00:00:00.000000000",
          "2024-05-28T00:00:00.000000000",
          "2024-05-29T00:00:00.000000000",
          "2024-05-30T00:00:00.000000000",
          "2024-05-31T00:00:00.000000000",
          "2024-06-03T00:00:00.000000000",
          "2024-06-04T00:00:00.000000000",
          "2024-06-05T00:00:00.000000000",
          "2024-06-06T00:00:00.000000000",
          "2024-06-07T00:00:00.000000000",
          "2024-06-10T00:00:00.000000000",
          "2024-06-11T00:00:00.000000000",
          "2024-06-12T00:00:00.000000000",
          "2024-06-13T00:00:00.000000000",
          "2024-06-14T00:00:00.000000000",
          "2024-06-17T00:00:00.000000000",
          "2024-06-18T00:00:00.000000000",
          "2024-06-20T00:00:00.000000000",
          "2024-06-21T00:00:00.000000000",
          "2024-06-24T00:00:00.000000000",
          "2024-06-25T00:00:00.000000000",
          "2024-06-26T00:00:00.000000000",
          "2024-06-27T00:00:00.000000000",
          "2024-06-28T00:00:00.000000000",
          "2024-07-01T00:00:00.000000000",
          "2024-07-02T00:00:00.000000000",
          "2024-07-03T00:00:00.000000000",
          "2024-07-05T00:00:00.000000000",
          "2024-07-08T00:00:00.000000000",
          "2024-07-09T00:00:00.000000000",
          "2024-07-10T00:00:00.000000000",
          "2024-07-11T00:00:00.000000000",
          "2024-07-12T00:00:00.000000000",
          "2024-07-15T00:00:00.000000000",
          "2024-07-16T00:00:00.000000000",
          "2024-07-17T00:00:00.000000000",
          "2024-07-18T00:00:00.000000000",
          "2024-07-19T00:00:00.000000000",
          "2024-07-22T00:00:00.000000000",
          "2024-07-23T00:00:00.000000000",
          "2024-07-24T00:00:00.000000000",
          "2024-07-25T00:00:00.000000000",
          "2024-07-26T00:00:00.000000000",
          "2024-07-29T00:00:00.000000000",
          "2024-07-30T00:00:00.000000000"
         ],
         "xaxis": "x2",
         "y": {
          "bdata": "CHGLIxjhIxqArIce6IFPGbjC1yD4OS8XSMKtFdjUXiEQRIYWiDO+F/hmbBYwTxEaqBtqE0gFiBZIp/wTgCpEEXhWrBFYIeYYgB1PE/hycBXg8/8SUFGbE0C0syCoFMYx8I6ZGcDW5ybQ4zkh8F4MHZimjSTAVCEaYDwKGFDGfh/AdJ4n0IKUGAy+uRKg3EMN+HTbEfQIig/Q2m8SUDoyEXwyixHQhNweHOcRJ+QcYBxsAGEZnJKiFTTwDQ8cZ84S/AH7EHAfBA2IEdwMvBPEDPSqKg5IWQIRqBzXDuy6VhY0mQ8POM5qDFwfzQw4PkAXLMIhE3iS8gyk0WEP2KtdCoR6iRO4EGwbPOp8ESSAyg6UfAQd",
          "dtype": "i4"
         },
         "yaxis": "y2"
        },
        {
         "name": "RSI",
         "type": "scatter",
         "x": [
          "2024-04-22T00:00:00.000000000",
          "2024-04-23T00:00:00.000000000",
          "2024-04-24T00:00:00.000000000",
          "2024-04-25T00:00:00.000000000",
          "2024-04-26T00:00:00.000000000",
          "2024-04-29T00:00:00.000000000",
          "2024-04-30T00:00:00.000000000",
          "2024-05-01T00:00:00.000000000",
          "2024-05-02T00:00:00.000000000",
          "2024-05-03T00:00:00.000000000",
          "2024-05-06T00:00:00.000000000",
          "2024-05-07T00:00:00.000000000",
          "2024-05-08T00:00:00.000000000",
          "2024-05-09T00:00:00.000000000",
          "2024-05-10T00:00:00.000000000",
          "2024-05-13T00:00:00.000000000",
          "2024-05-14T00:00:00.000000000",
          "2024-05-15T00:00:00.000000000",
          "2024-05-16T00:00:00.000000000",
          "2024-05-17T00:00:00.000000000",
          "2024-05-20T00:00:00.000000000",
          "2024-05-21T00:00:00.000000000",
          "2024-05-22T00:00:00.000000000",
          "2024-05-23T00:00:00.000000000",
          "2024-05-24T00:00:00.000000000",
          "2024-05-28T00:00:00.000000000",
          "2024-05-29T00:00:00.000000000",
          "2024-05-30T00:00:00.000000000",
          "2024-05-31T00:00:00.000000000",
          "2024-06-03T00:00:00.000000000",
          "2024-06-04T00:00:00.000000000",
          "2024-06-05T00:00:00.000000000",
          "2024-06-06T00:00:00.000000000",
          "2024-06-07T00:00:00.000000000",
          "2024-06-10T00:00:00.000000000",
          "2024-06-11T00:00:00.000000000",
          "2024-06-12T00:00:00.000000000",
          "2024-06-13T00:00:00.000000000",
          "2024-06-14T00:00:00.000000000",
          "2024-06-17T00:00:00.000000000",
          "2024-06-18T00:00:00.000000000",
          "2024-06-20T00:00:00.000000000",
          "2024-06-21T00:00:00.000000000",
          "2024-06-24T00:00:00.000000000",
          "2024-06-25T00:00:00.000000000",
          "2024-06-26T00:00:00.000000000",
          "2024-06-27T00:00:00.000000000",
          "2024-06-28T00:00:00.000000000",
          "2024-07-01T00:00:00.000000000",
          "2024-07-02T00:00:00.000000000",
          "2024-07-03T00:00:00.000000000",
          "2024-07-05T00:00:00.000000000",
          "2024-07-08T00:00:00.000000000",
          "2024-07-09T00:00:00.000000000",
          "2024-07-10T00:00:00.000000000",
          "2024-07-11T00:00:00.000000000",
          "2024-07-12T00:00:00.000000000",
          "2024-07-15T00:00:00.000000000",
          "2024-07-16T00:00:00.000000000",
          "2024-07-17T00:00:00.000000000",
          "2024-07-18T00:00:00.000000000",
          "2024-07-19T00:00:00.000000000",
          "2024-07-22T00:00:00.000000000",
          "2024-07-23T00:00:00.000000000",
          "2024-07-24T00:00:00.000000000",
          "2024-07-25T00:00:00.000000000",
          "2024-07-26T00:00:00.000000000",
          "2024-07-29T00:00:00.000000000",
          "2024-07-30T00:00:00.000000000"
         ],
         "xaxis": "x3",
         "y": {
          "bdata": "6MsseWdKRED3vOfehdZGQOJgTBAvAUVAJ2QPbfd4R0A3C4OHAxlLQBgunV27HEtAlFa+jpoESkCjbBwsZnxHQD5nEtslmUlATM5JRaumS0AClq3X77hNQCWmFyi0YUxA1tzHMz1CTEAqOtXzJstKQIwJ5nk/pEtAk9+WJSoKTEB9Bu1PcclMQPibs+taJk9Agr1rOPTXTkBksdg3qbtMQIpB76ASfk5AKUEEqZDwTkC6Or1YUmZOQJlp2hz051FAIAXx1Xx9UkBYeS+xZcdTQHtvVeXo6VNA6LIzEMqeUUAgvh7eWzFRQOwtcIKYR1JAeHgiT/2JUkAUfzF5rH5TQHyirWm5xlJAHJi6qTa4UkDe6/079uFSQLF7C/6VYVJAUue28+swU0BYsA9eVeJTQElAENKSM1RA+1zHVCKuU0DdNGggf1dUQJKHX6H72FFAB8/m+H79T0B3ATucYR9KQA45WARr301AwZ5nlw0BTkAIwnKtBnNMQDs4pmHrJ0xANLMFlOCOTEB9MPPdqWRLQJfUX+O5XE5AUDLvTI6YTEDf8ZEdp9FNQMql3nWwW09AvklMNTp1UEAIXb/EeqBLQAw+iP9tiUxAz2jmCOgATEBmAsdEcJxKQCdDSgm35EVAK5U/Aua/R0DyiIGK6iRGQCEeC0ILVUlAaGLsrnXQSEB/GTGPfstEQC9lN8PS+ENAxRiFh2J4RECCiNC4pM1DQCoz/aDDrEBA",
          "dtype": "f8"
         },
         "yaxis": "y3"
        },
        {
         "name": "MACD",
         "type": "scatter",
         "x": [
          "2024-04-22T00:00:00.000000000",
          "2024-04-23T00:00:00.000000000",
          "2024-04-24T00:00:00.000000000",
          "2024-04-25T00:00:00.000000000",
          "2024-04-26T00:00:00.000000000",
          "2024-04-29T00:00:00.000000000",
          "2024-04-30T00:00:00.000000000",
          "2024-05-01T00:00:00.000000000",
          "2024-05-02T00:00:00.000000000",
          "2024-05-03T00:00:00.000000000",
          "2024-05-06T00:00:00.000000000",
          "2024-05-07T00:00:00.000000000",
          "2024-05-08T00:00:00.000000000",
          "2024-05-09T00:00:00.000000000",
          "2024-05-10T00:00:00.000000000",
          "2024-05-13T00:00:00.000000000",
          "2024-05-14T00:00:00.000000000",
          "2024-05-15T00:00:00.000000000",
          "2024-05-16T00:00:00.000000000",
          "2024-05-17T00:00:00.000000000",
          "2024-05-20T00:00:00.000000000",
          "2024-05-21T00:00:00.000000000",
          "2024-05-22T00:00:00.000000000",
          "2024-05-23T00:00:00.000000000",
          "2024-05-24T00:00:00.000000000",
          "2024-05-28T00:00:00.000000000",
          "2024-05-29T00:00:00.000000000",
          "2024-05-30T00:00:00.000000000",
          "2024-05-31T00:00:00.000000000",
          "2024-06-03T00:00:00.000000000",
          "2024-06-04T00:00:00.000000000",
          "2024-06-05T00:00:00.000000000",
          "2024-06-06T00:00:00.000000000",
          "2024-06-07T00:00:00.000000000",
          "2024-06-10T00:00:00.000000000",
          "2024-06-11T00:00:00.000000000",
          "2024-06-12T00:00:00.000000000",
          "2024-06-13T00:00:00.000000000",
          "2024-06-14T00:00:00.000000000",
          "2024-06-17T00:00:00.000000000",
          "2024-06-18T00:00:00.000000000",
          "2024-06-20T00:00:00.000000000",
          "2024-06-21T00:00:00.000000000",
          "2024-06-24T00:00:00.000000000",
          "2024-06-25T00:00:00.000000000",
          "2024-06-26T00:00:00.000000000",
          "2024-06-27T00:00:00.000000000",
          "2024-06-28T00:00:00.000000000",
          "2024-07-01T00:00:00.000000000",
          "2024-07-02T00:00:00.000000000",
          "2024-07-03T00:00:00.000000000",
          "2024-07-05T00:00:00.000000000",
          "2024-07-08T00:00:00.000000000",
          "2024-07-09T00:00:00.000000000",
          "2024-07-10T00:00:00.000000000",
          "2024-07-11T00:00:00.000000000",
          "2024-07-12T00:00:00.000000000",
          "2024-07-15T00:00:00.000000000",
          "2024-07-16T00:00:00.000000000",
          "2024-07-17T00:00:00.000000000",
          "2024-07-18T00:00:00.000000000",
          "2024-07-19T00:00:00.000000000",
          "2024-07-22T00:00:00.000000000",
          "2024-07-23T00:00:00.000000000",
          "2024-07-24T00:00:00.000000000",
          "2024-07-25T00:00:00.000000000",
          "2024-07-26T00:00:00.000000000",
          "2024-07-29T00:00:00.000000000",
          "2024-07-30T00:00:00.000000000"
         ],
         "xaxis": "x4",
         "y": {
          "bdata": "AKjwIdMU8L/AfuWwjG7xv0C0oifOy/W/AOq2NAYy9b+AHn+No/Drv4B1wL5ZPuC/AKytPv201L8AvCf+nmbcvwDIVue67tO/AOhaPi7SoD8AxQOMtzniPwC5L+C4bOs/wPb/GYH68D+AeyJNCTjxP4BI8W+Pp/I/wFzM+FE79D+At8NMVHX2P4CmZAoqIPw/AKUUEkLm/z9gYB8p6QsAQKAMbGBvaAFAIDHR5bapAkAA1xMtwCcDQIB0Q/ZN+AhAoOA/7OjxDkBQJPNxHQIUQOCJClb2oBdAsOhUb+XQGEDw3RUrzS8ZQKCzKwUX5xpAoOtS6ihmHEDwxenZzCkfQLArBonBQSBAuOaOokOVIEAIgyAHJ8sgQOAJ8flvoCBACCkfq679IEBooxiaSckhQPBQK+ahkSJA8Mdrf6rTIkAwtmIwW4wjQGiN05P6HyNAWNZuplLnIUBgX4t1MskeQKCrKrQfDB1AIBkNNwB0G0AQ7OdGSh8ZQFBvS2O73RZAEBWXGZoUFUAwlcBlzesSQCDn3lXCzRJAsKDHPDu3EUCgX83L7GoRQDAMBEMXABJAUC9pasxgE0DQoebuItcRQCAxZOT3BBFAYMTuNJzaD0Ag2y0SpXMMQGBuamPTHgRAQDQcnCSv/j+A7sn/U9DyP4CGg6qmdfA/gF0V0hNu6j8AgG/E2ld/v4BHQVqGK+q/AMCdtKAY9r9AsBkG28f+v4B2KDEQogfA",
          "dtype": "f8"
         },
         "yaxis": "y4"
        },
        {
         "name": "Signal",
         "type": "scatter",
         "x": [
          "2024-04-22T00:00:00.000000000",
          "2024-04-23T00:00:00.000000000",
          "2024-04-24T00:00:00.000000000",
          "2024-04-25T00:00:00.000000000",
          "2024-04-26T00:00:00.000000000",
          "2024-04-29T00:00:00.000000000",
          "2024-04-30T00:00:00.000000000",
          "2024-05-01T00:00:00.000000000",
          "2024-05-02T00:00:00.000000000",
          "2024-05-03T00:00:00.000000000",
          "2024-05-06T00:00:00.000000000",
          "2024-05-07T00:00:00.000000000",
          "2024-05-08T00:00:00.000000000",
          "2024-05-09T00:00:00.000000000",
          "2024-05-10T00:00:00.000000000",
          "2024-05-13T00:00:00.000000000",
          "2024-05-14T00:00:00.000000000",
          "2024-05-15T00:00:00.000000000",
          "2024-05-16T00:00:00.000000000",
          "2024-05-17T00:00:00.000000000",
          "2024-05-20T00:00:00.000000000",
          "2024-05-21T00:00:00.000000000",
          "2024-05-22T00:00:00.000000000",
          "2024-05-23T00:00:00.000000000",
          "2024-05-24T00:00:00.000000000",
          "2024-05-28T00:00:00.000000000",
          "2024-05-29T00:00:00.000000000",
          "2024-05-30T00:00:00.000000000",
          "2024-05-31T00:00:00.000000000",
          "2024-06-03T00:00:00.000000000",
          "2024-06-04T00:00:00.000000000",
          "2024-06-05T00:00:00.000000000",
          "2024-06-06T00:00:00.000000000",
          "2024-06-07T00:00:00.000000000",
          "2024-06-10T00:00:00.000000000",
          "2024-06-11T00:00:00.000000000",
          "2024-06-12T00:00:00.000000000",
          "2024-06-13T00:00:00.000000000",
          "2024-06-14T00:00:00.000000000",
          "2024-06-17T00:00:00.000000000",
          "2024-06-18T00:00:00.000000000",
          "2024-06-20T00:00:00.000000000",
          "2024-06-21T00:00:00.000000000",
          "2024-06-24T00:00:00.000000000",
          "2024-06-25T00:00:00.000000000",
          "2024-06-26T00:00:00.000000000",
          "2024-06-27T00:00:00.000000000",
          "2024-06-28T00:00:00.000000000",
          "2024-07-01T00:00:00.000000000",
          "2024-07-02T00:00:00.000000000",
          "2024-07-03T00:00:00.000000000",
          "2024-07-05T00:00:00.000000000",
          "2024-07-08T00:00:00.000000000",
          "2024-07-09T00:00:00.000000000",
          "2024-07-10T00:00:00.000000000",
          "2024-07-11T00:00:00.000000000",
          "2024-07-12T00:00:00.000000000",
          "2024-07-15T00:00:00.000000000",
          "2024-07-16T00:00:00.000000000",
          "2024-07-17T00:00:00.000000000",
          "2024-07-18T00:00:00.000000000",
          "2024-07-19T00:00:00.000000000",
          "2024-07-22T00:00:00.000000000",
          "2024-07-23T00:00:00.000000000",
          "2024-07-24T00:00:00.000000000",
          "2024-07-25T00:00:00.000000000",
          "2024-07-26T00:00:00.000000000",
          "2024-07-29T00:00:00.000000000",
          "2024-07-30T00:00:00.000000000"
         ],
         "xaxis": "x4",
         "y": {
          "bdata": "JykrcXkX4T8Y7BpPcM3KP3ItdzMT3bq/SsRDATxU1r+iD2kGCwrdv+mhOh6Tut2/iD3rV6js279t8JDfDAXcv/GBuHr8Ztq/W1XR04iz1L8sHn98rorCv0C8zgvubKw/03FhfOVs0D92VzahWOraPzBzqdNcOuI/dLQ/c9Gs5j8qQIEUlh/rPytu4aN3efA/VqzruTmP8z9ssGLY8RD2P/1erdO6nfg/Pvl3OHgo+z+ZUM7YeWP9P1cEYO7ZvwBAM/2/uqmWA0DjpcePk6wHQBDvo8gLZAxAKo5SM8xREECFBOBkzBcSQFj0u1Hb2hNAAFkNPVGQFUD9oWxc0HsXQBKTjE0nShlAWDhDsm3dGkAW+3WRmjUcQDgzJaXbNx1AZDkqYsIrHkB6oiuMUkAfQJS3s//aNiBADe4+GZ68IEBHSXm3kEwhQE698UkMqiFA6lukj022IUCrbBHljz8hQLIB3+IPtCBAeB2aVKYbIEDExPH7GMweQHqA0EMGNh1AZtGRbr2VG0CP+GcGJ9oZQKyOTBZGcRhA4StlhN0YF0BuaeDFE/YVQMhWtKtHKxVAsBtya5XPFEDqnLyFfjcUQChUEf/JkxNAKoryauTYEkALnsY9R+wRQHmJKYi0WRBAYhQSg6Q6DUApqKI1v0MJQGF6wgiQ2wVALkC2BMHOAkDKtmJ1VhH+P6+ke+7qb/U/srqGaAR26T+Eailv8RzQP8rOUo8l7Ni/",
          "dtype": "f8"
         },
         "yaxis": "y4"
        },
        {
         "name": "MACD Diff",
         "type": "bar",
         "x": [
          "2024-04-22T00:00:00.000000000",
          "2024-04-23T00:00:00.000000000",
          "2024-04-24T00:00:00.000000000",
          "2024-04-25T00:00:00.000000000",
          "2024-04-26T00:00:00.000000000",
          "2024-04-29T00:00:00.000000000",
          "2024-04-30T00:00:00.000000000",
          "2024-05-01T00:00:00.000000000",
          "2024-05-02T00:00:00.000000000",
          "2024-05-03T00:00:00.000000000",
          "2024-05-06T00:00:00.000000000",
          "2024-05-07T00:00:00.000000000",
          "2024-05-08T00:00:00.000000000",
          "2024-05-09T00:00:00.000000000",
          "2024-05-10T00:00:00.000000000",
          "2024-05-13T00:00:00.000000000",
          "2024-05-14T00:00:00.000000000",
          "2024-05-15T00:00:00.000000000",
          "2024-05-16T00:00:00.000000000",
          "2024-05-17T00:00:00.000000000",
          "2024-05-20T00:00:00.000000000",
          "2024-05-21T00:00:00.000000000",
          "2024-05-22T00:00:00.000000000",
          "2024-05-23T00:00:00.000000000",
          "2024-05-24T00:00:00.000000000",
          "2024-05-28T00:00:00.000000000",
          "2024-05-29T00:00:00.000000000",
          "2024-05-30T00:00:00.000000000",
          "2024-05-31T00:00:00.000000000",
          "2024-06-03T00:00:00.000000000",
          "2024-06-04T00:00:00.000000000",
          "2024-06-05T00:00:00.000000000",
          "2024-06-06T00:00:00.000000000",
          "2024-06-07T00:00:00.000000000",
          "2024-06-10T00:00:00.000000000",
          "2024-06-11T00:00:00.000000000",
          "2024-06-12T00:00:00.000000000",
          "2024-06-13T00:00:00.000000000",
          "2024-06-14T00:00:00.000000000",
          "2024-06-17T00:00:00.000000000",
          "2024-06-18T00:00:00.000000000",
          "2024-06-20T00:00:00.000000000",
          "2024-06-21T00:00:00.000000000",
          "2024-06-24T00:00:00.000000000",
          "2024-06-25T00:00:00.000000000",
          "2024-06-26T00:00:00.000000000",
          "2024-06-27T00:00:00.000000000",
          "2024-06-28T00:00:00.000000000",
          "2024-07-01T00:00:00.000000000",
          "2024-07-02T00:00:00.000000000",
          "2024-07-03T00:00:00.000000000",
          "2024-07-05T00:00:00.000000000",
          "2024-07-08T00:00:00.000000000",
          "2024-07-09T00:00:00.000000000",
          "2024-07-10T00:00:00.000000000",
          "2024-07-11T00:00:00.000000000",
          "2024-07-12T00:00:00.000000000",
          "2024-07-15T00:00:00.000000000",
          "2024-07-16T00:00:00.000000000",
          "2024-07-17T00:00:00.000000000",
          "2024-07-18T00:00:00.000000000",
          "2024-07-19T00:00:00.000000000",
          "2024-07-22T00:00:00.000000000",
          "2024-07-23T00:00:00.000000000",
          "2024-07-24T00:00:00.000000000",
          "2024-07-25T00:00:00.000000000",
          "2024-07-26T00:00:00.000000000",
          "2024-07-29T00:00:00.000000000",
          "2024-07-30T00:00:00.000000000"
         ],
         "xaxis": "x4",
         "y": {
          "bdata": "lDyG2o+g+L9D3Mi6Osj0v2lBa/T8HfS/2/HLaO45779eLZUUPNfav7hIMvoCEaa/IEb2ZKzevD/A5LKlh2R4v8Tnhk0G4bk/W7Kcm87N1j+LjCMrY9zmPzzNcv/ppek/ljTPdY++6T9Fy6lJ5vrkP9AdOQzCFOM/DAVZftLJ4T/WLgaFEsvhP6pwBs1kTec/VPFRsBCu6D+oILjzwA3kP4Z0VdpHZuQ/BNJUJutV5D/OurICDdjhP1Lgxg/ocPA/2sb/Yn629j+9oh5Up1cAQLAkcePg3QJADLUEeDL+AECsZdcYA2D8PyD9vs3uMPw/gEoWtV5X+z/Mj/T18bf+PzgR/xFv5fw/YFRqS2Y0+T/oKyzzzYL1PyCC8zoRJPA/YMWgoNd87j9YkRagAknxP+DKvDM31vI/GM9mMWO48D9IZ0vHU/7xP6ABHZ7kXuc/ADc9ZYuCuD+wz7ukaq/tvxBfTUYAcPG/QIecyDEN87/QYifUOrP2v6hEFIIrYfm/WPHqU40E+r98jZ2CZrn7vzCetgEPjva/xCx2HomG9b84J0zomyzyv8BUgkWDWem/AMaOEJDs1r/Q2K+23ALjv0AYadWQduS/0D/Zg7Jc57/Yg32lpZPtvyRJ0VkrKfm/hPQHaiTG+7/SYXtrKrf/v0JuAWd5Qfu/nNFhIHhm+L9KJidQrjD+vzgkzg3XQgHArI5wdNFpAcBwBfKwi2cBwKccPn+LhATA",
          "dtype": "f8"
         },
         "yaxis": "y4"
        }
       ],
       "layout": {
        "height": 1000,
        "shapes": [
         {
          "line": {
           "color": "red",
           "dash": "dash"
          },
          "type": "line",
          "x0": 0,
          "x1": 1,
          "xref": "x3 domain",
          "y0": 70,
          "y1": 70,
          "yref": "y3"
         },
         {
          "line": {
           "color": "green",
           "dash": "dash"
          },
          "type": "line",
          "x0": 0,
          "x1": 1,
          "xref": "x3 domain",
          "y0": 30,
          "y1": 30,
          "yref": "y3"
         }
        ],
        "template": {
         "data": {
          "bar": [
           {
            "error_x": {
             "color": "#2a3f5f"
            },
            "error_y": {
             "color": "#2a3f5f"
            },
            "marker": {
             "line": {
              "color": "#E5ECF6",
              "width": 0.5
             },
             "pattern": {
              "fillmode": "overlay",
              "size": 10,
              "solidity": 0.2
             }
            },
            "type": "bar"
           }
          ],
          "barpolar": [
           {
            "marker": {
             "line": {
              "color": "#E5ECF6",
              "width": 0.5
             },
             "pattern": {
              "fillmode": "overlay",
              "size": 10,
              "solidity": 0.2
             }
            },
            "type": "barpolar"
           }
          ],
          "carpet": [
           {
            "aaxis": {
             "endlinecolor": "#2a3f5f",
             "gridcolor": "white",
             "linecolor": "white",
             "minorgridcolor": "white",
             "startlinecolor": "#2a3f5f"
            },
            "baxis": {
             "endlinecolor": "#2a3f5f",
             "gridcolor": "white",
             "linecolor": "white",
             "minorgridcolor": "white",
             "startlinecolor": "#2a3f5f"
            },
            "type": "carpet"
           }
          ],
          "choropleth": [
           {
            "colorbar": {
             "outlinewidth": 0,
             "ticks": ""
            },
            "type": "choropleth"
           }
          ],
          "contour": [
           {
            "colorbar": {
             "outlinewidth": 0,
             "ticks": ""
            },
            "colorscale": [
             [
              0,
              "#0d0887"
             ],
             [
              0.1111111111111111,
              "#46039f"
             ],
             [
              0.2222222222222222,
              "#7201a8"
             ],
             [
              0.3333333333333333,
              "#9c179e"
             ],
             [
              0.4444444444444444,
              "#bd3786"
             ],
             [
              0.5555555555555556,
              "#d8576b"
             ],
             [
              0.6666666666666666,
              "#ed7953"
             ],
             [
              0.7777777777777778,
              "#fb9f3a"
             ],
             [
              0.8888888888888888,
              "#fdca26"
             ],
             [
              1,
              "#f0f921"
             ]
            ],
            "type": "contour"
           }
          ],
          "contourcarpet": [
           {
            "colorbar": {
             "outlinewidth": 0,
             "ticks": ""
            },
            "type": "contourcarpet"
           }
          ],
          "heatmap": [
           {
            "colorbar": {
             "outlinewidth": 0,
             "ticks": ""
            },
            "colorscale": [
             [
              0,
              "#0d0887"
             ],
             [
              0.1111111111111111,
              "#46039f"
             ],
             [
              0.2222222222222222,
              "#7201a8"
             ],
             [
              0.3333333333333333,
              "#9c179e"
             ],
             [
              0.4444444444444444,
              "#bd3786"
             ],
             [
              0.5555555555555556,
              "#d8576b"
             ],
             [
              0.6666666666666666,
              "#ed7953"
             ],
             [
              0.7777777777777778,
              "#fb9f3a"
             ],
             [
              0.8888888888888888,
              "#fdca26"
             ],
             [
              1,
              "#f0f921"
             ]
            ],
            "type": "heatmap"
           }
          ],
          "histogram": [
           {
            "marker": {
             "pattern": {
              "fillmode": "overlay",
              "size": 10,
              "solidity": 0.2
             }
            },
            "type": "histogram"
           }
          ],
          "histogram2d": [
           {
            "colorbar": {
             "outlinewidth": 0,
             "ticks": ""
            },
            "colorscale": [
             [
              0,
              "#0d0887"
             ],
             [
              0.1111111111111111,
              "#46039f"
             ],
             [
              0.2222222222222222,
              "#7201a8"
             ],
             [
              0.3333333333333333,
              "#9c179e"
             ],
             [
              0.4444444444444444,
              "#bd3786"
             ],
             [
              0.5555555555555556,
              "#d8576b"
             ],
             [
              0.6666666666666666,
              "#ed7953"
             ],
             [
              0.7777777777777778,
              "#fb9f3a"
             ],
             [
              0.8888888888888888,
              "#fdca26"
             ],
             [
              1,
              "#f0f921"
             ]
            ],
            "type": "histogram2d"
           }
          ],
          "histogram2dcontour": [
           {
            "colorbar": {
             "outlinewidth": 0,
             "ticks": ""
            },
            "colorscale": [
             [
              0,
              "#0d0887"
             ],
             [
              0.1111111111111111,
              "#46039f"
             ],
             [
              0.2222222222222222,
              "#7201a8"
             ],
             [
              0.3333333333333333,
              "#9c179e"
             ],
             [
              0.4444444444444444,
              "#bd3786"
             ],
             [
              0.5555555555555556,
              "#d8576b"
             ],
             [
              0.6666666666666666,
              "#ed7953"
             ],
             [
              0.7777777777777778,
              "#fb9f3a"
             ],
             [
              0.8888888888888888,
              "#fdca26"
             ],
             [
              1,
              "#f0f921"
             ]
            ],
            "type": "histogram2dcontour"
           }
          ],
          "mesh3d": [
           {
            "colorbar": {
             "outlinewidth": 0,
             "ticks": ""
            },
            "type": "mesh3d"
           }
          ],
          "parcoords": [
           {
            "line": {
             "colorbar": {
              "outlinewidth": 0,
              "ticks": ""
             }
            },
            "type": "parcoords"
           }
          ],
          "pie": [
           {
            "automargin": true,
            "type": "pie"
           }
          ],
          "scatter": [
           {
            "fillpattern": {
             "fillmode": "overlay",
             "size": 10,
             "solidity": 0.2
            },
            "type": "scatter"
           }
          ],
          "scatter3d": [
           {
            "line": {
             "colorbar": {
              "outlinewidth": 0,
              "ticks": ""
             }
            },
            "marker": {
             "colorbar": {
              "outlinewidth": 0,
              "ticks": ""
             }
            },
            "type": "scatter3d"
           }
          ],
          "scattercarpet": [
           {
            "marker": {
             "colorbar": {
              "outlinewidth": 0,
              "ticks": ""
             }
            },
            "type": "scattercarpet"
           }
          ],
          "scattergeo": [
           {
            "marker": {
             "colorbar": {
              "outlinewidth": 0,
              "ticks": ""
             }
            },
            "type": "scattergeo"
           }
          ],
          "scattergl": [
           {
            "marker": {
             "colorbar": {
              "outlinewidth": 0,
              "ticks": ""
             }
            },
            "type": "scattergl"
           }
          ],
          "scattermap": [
           {
            "marker": {
             "colorbar": {
              "outlinewidth": 0,
              "ticks": ""
             }
            },
            "type": "scattermap"
           }
          ],
          "scattermapbox": [
           {
            "marker": {
             "colorbar": {
              "outlinewidth": 0,
              "ticks": ""
             }
            },
            "type": "scattermapbox"
           }
          ],
          "scatterpolar": [
           {
            "marker": {
             "colorbar": {
              "outlinewidth": 0,
              "ticks": ""
             }
            },
            "type": "scatterpolar"
           }
          ],
          "scatterpolargl": [
           {
            "marker": {
             "colorbar": {
              "outlinewidth": 0,
              "ticks": ""
             }
            },
            "type": "scatterpolargl"
           }
          ],
          "scatterternary": [
           {
            "marker": {
             "colorbar": {
              "outlinewidth": 0,
              "ticks": ""
             }
            },
            "type": "scatterternary"
           }
          ],
          "surface": [
           {
            "colorbar": {
             "outlinewidth": 0,
             "ticks": ""
            },
            "colorscale": [
             [
              0,
              "#0d0887"
             ],
             [
              0.1111111111111111,
              "#46039f"
             ],
             [
              0.2222222222222222,
              "#7201a8"
             ],
             [
              0.3333333333333333,
              "#9c179e"
             ],
             [
              0.4444444444444444,
              "#bd3786"
             ],
             [
              0.5555555555555556,
              "#d8576b"
             ],
             [
              0.6666666666666666,
              "#ed7953"
             ],
             [
              0.7777777777777778,
              "#fb9f3a"
             ],
             [
              0.8888888888888888,
              "#fdca26"
             ],
             [
              1,
              "#f0f921"
             ]
            ],
            "type": "surface"
           }
          ],
          "table": [
           {
            "cells": {
             "fill": {
              "color": "#EBF0F8"
             },
             "line": {
              "color": "white"
             }
            },
            "header": {
             "fill": {
              "color": "#C8D4E3"
             },
             "line": {
              "color": "white"
             }
            },
            "type": "table"
           }
          ]
         },
         "layout": {
          "annotationdefaults": {
           "arrowcolor": "#2a3f5f",
           "arrowhead": 0,
           "arrowwidth": 1
          },
          "autotypenumbers": "strict",
          "coloraxis": {
           "colorbar": {
            "outlinewidth": 0,
            "ticks": ""
           }
          },
          "colorscale": {
           "diverging": [
            [
             0,
             "#8e0152"
            ],
            [
             0.1,
             "#c51b7d"
            ],
            [
             0.2,
             "#de77ae"
            ],
            [
             0.3,
             "#f1b6da"
            ],
            [
             0.4,
             "#fde0ef"
            ],
            [
             0.5,
             "#f7f7f7"
            ],
            [
             0.6,
             "#e6f5d0"
            ],
            [
             0.7,
             "#b8e186"
            ],
            [
             0.8,
             "#7fbc41"
            ],
            [
             0.9,
             "#4d9221"
            ],
            [
             1,
             "#276419"
            ]
           ],
           "sequential": [
            [
             0,
             "#0d0887"
            ],
            [
             0.1111111111111111,
             "#46039f"
            ],
            [
             0.2222222222222222,
             "#7201a8"
            ],
            [
             0.3333333333333333,
             "#9c179e"
            ],
            [
             0.4444444444444444,
             "#bd3786"
            ],
            [
             0.5555555555555556,
             "#d8576b"
            ],
            [
             0.6666666666666666,
             "#ed7953"
            ],
            [
             0.7777777777777778,
             "#fb9f3a"
            ],
            [
             0.8888888888888888,
             "#fdca26"
            ],
            [
             1,
             "#f0f921"
            ]
           ],
           "sequentialminus": [
            [
             0,
             "#0d0887"
            ],
            [
             0.1111111111111111,
             "#46039f"
            ],
            [
             0.2222222222222222,
             "#7201a8"
            ],
            [
             0.3333333333333333,
             "#9c179e"
            ],
            [
             0.4444444444444444,
             "#bd3786"
            ],
            [
             0.5555555555555556,
             "#d8576b"
            ],
            [
             0.6666666666666666,
             "#ed7953"
            ],
            [
             0.7777777777777778,
             "#fb9f3a"
            ],
            [
             0.8888888888888888,
             "#fdca26"
            ],
            [
             1,
             "#f0f921"
            ]
           ]
          },
          "colorway": [
           "#636efa",
           "#EF553B",
           "#00cc96",
           "#ab63fa",
           "#FFA15A",
           "#19d3f3",
           "#FF6692",
           "#B6E880",
           "#FF97FF",
           "#FECB52"
          ],
          "font": {
           "color": "#2a3f5f"
          },
          "geo": {
           "bgcolor": "white",
           "lakecolor": "white",
           "landcolor": "#E5ECF6",
           "showlakes": true,
           "showland": true,
           "subunitcolor": "white"
          },
          "hoverlabel": {
           "align": "left"
          },
          "hovermode": "closest",
          "mapbox": {
           "style": "light"
          },
          "paper_bgcolor": "white",
          "plot_bgcolor": "#E5ECF6",
          "polar": {
           "angularaxis": {
            "gridcolor": "white",
            "linecolor": "white",
            "ticks": ""
           },
           "bgcolor": "#E5ECF6",
           "radialaxis": {
            "gridcolor": "white",
            "linecolor": "white",
            "ticks": ""
           }
          },
          "scene": {
           "xaxis": {
            "backgroundcolor": "#E5ECF6",
            "gridcolor": "white",
            "gridwidth": 2,
            "linecolor": "white",
            "showbackground": true,
            "ticks": "",
            "zerolinecolor": "white"
           },
           "yaxis": {
            "backgroundcolor": "#E5ECF6",
            "gridcolor": "white",
            "gridwidth": 2,
            "linecolor": "white",
            "showbackground": true,
            "ticks": "",
            "zerolinecolor": "white"
           },
           "zaxis": {
            "backgroundcolor": "#E5ECF6",
            "gridcolor": "white",
            "gridwidth": 2,
            "linecolor": "white",
            "showbackground": true,
            "ticks": "",
            "zerolinecolor": "white"
           }
          },
          "shapedefaults": {
           "line": {
            "color": "#2a3f5f"
           }
          },
          "ternary": {
           "aaxis": {
            "gridcolor": "white",
            "linecolor": "white",
            "ticks": ""
           },
           "baxis": {
            "gridcolor": "white",
            "linecolor": "white",
            "ticks": ""
           },
           "bgcolor": "#E5ECF6",
           "caxis": {
            "gridcolor": "white",
            "linecolor": "white",
            "ticks": ""
           }
          },
          "title": {
           "x": 0.05
          },
          "xaxis": {
           "automargin": true,
           "gridcolor": "white",
           "linecolor": "white",
           "ticks": "",
           "title": {
            "standoff": 15
           },
           "zerolinecolor": "white",
           "zerolinewidth": 2
          },
          "yaxis": {
           "automargin": true,
           "gridcolor": "white",
           "linecolor": "white",
           "ticks": "",
           "title": {
            "standoff": 15
           },
           "zerolinecolor": "white",
           "zerolinewidth": 2
          }
         }
        },
        "title": {
         "text": "Technical Analysis"
        },
        "xaxis": {
         "anchor": "y",
         "domain": [
          0,
          1
         ],
         "matches": "x4",
         "rangeslider": {
          "visible": false
         },
         "showticklabels": false
        },
        "xaxis2": {
         "anchor": "y2",
         "domain": [
          0,
          1
         ],
         "matches": "x4",
         "showticklabels": false
        },
        "xaxis3": {
         "anchor": "y3",
         "domain": [
          0,
          1
         ],
         "matches": "x4",
         "showticklabels": false
        },
        "xaxis4": {
         "anchor": "y4",
         "domain": [
          0,
          1
         ]
        },
        "yaxis": {
         "anchor": "x",
         "domain": [
          0.66,
          1
         ],
         "title": {
          "text": "Price"
         }
        },
        "yaxis2": {
         "anchor": "x2",
         "domain": [
          0.44000000000000006,
          0.6100000000000001
         ],
         "title": {
          "text": "Volume"
         }
        },
        "yaxis3": {
         "anchor": "x3",
         "domain": [
          0.22000000000000003,
          0.39
         ],
         "title": {
          "text": "RSI"
         }
        },
        "yaxis4": {
         "anchor": "x4",
         "domain": [
          0,
          0.17
         ],
         "title": {
          "text": "MACD"
         }
        }
       }
      }
     },
     "metadata": {},
     "output_type": "display_data"
    },
    {
     "name": "stdout",
     "output_type": "stream",
     "text": [
      "\n",
      "Generating technical analysis plot for TSLA...\n"
     ]
    },
    {
     "data": {
      "application/vnd.plotly.v1+json": {
       "config": {
        "plotlyServerURL": "https://plot.ly"
       },
       "data": [
        {
         "close": {
          "bdata": "AAAAoJnBYUAAAACAwhViQAAAAAApRGRAAAAAgMJFZUAAAACgRwllQAAAAKCZQWhAAAAAwPXoZkAAAAAgrn9mQAAAAOBRgGZAAAAAgBSmZkABAADgURhnQAAAAIDrOWZAAAAAQArXZUAAAABACn9lQAAAAEAKD2VAAAAA4Hp8ZUAAAACgmTFmQAAAACCuv2VAAAAAQOHaZUAAAABguC5mQAAAAGBm3mVA////PzNTZ0AAAAAghYNmQAAAACCut2VAAAAAIK5nZkAAAAAAABhmQAAAAIAUBmZAAAAAoEdZZkAAAABgj0JmQAAAAKBHCWZAAAAA4KPYZUAAAAAAAOBlQAAAAIAUPmZAAAAAIFwvZkAAAACgR7llQAAAAMAeVWVAAAAAoEcpZkAAAABACs9mQAAAAOBRQGZAAAAAgBRuZ0ABAAAghRtnQAAAAIA9smZAAQAA4FHgZkAAAABgj9JmQP///z8za2dAAAAAANeLaEAAAACgcK1oQAAAAAApvGhAAQAAIIU7akABAADgUehsQAAAAOB6zG5A////36Nwb0AAAACAFJ5vQAAAAKBHZXBAAAAAACl0cEAAAADA9SBuQP///x9cB29AAAAA4HqUb0D///+/9QhwQAAAAAAAEG9A////H1wnb0AAAABgZuZtQAEAAOBRcG9AAAAAACnMbkABAAAgrv9qQAAAAAAAiGtAAAAAoJl5a0D///8/MwNtQAAAAADX02tA",
          "dtype": "f8"
         },
         "high": {
          "bdata": "AAAAgBQOYkAAAADgUWhiQAAAAEAK/2RAAAAAAClcZUAAAAAA14NlQAAAAADX22hAAAAAYGbeZ0ABAAAghTtnQP///z8zE2dAAAAAwPUYZ0D///9/63FnQAEAAOBR6GZAAAAAgOsBZkAAAAAA1/NlQAAAAIDroWVAAAAAwMzsZUAAAAAgrm9mQAAAAAAAgGZAAAAAoEf5ZUAAAAAAKXRmQAAAAAAAOGZAAAAAAClcZ0AAAACgmflmQAEAAMDMvGZAAAAAYI+CZkAAAAAAAEhmQAAAAMDMRGZAAAAAoHDVZkAAAACAPYpmQAAAAOB61GZAAAAA4FE4ZkAAAADAzARmQAAAACBcd2ZAAAAAQDNrZkAAAACAPVJmQAAAAAAA2GVAAAAAoJmRZkAAAABgj+JnQAAAAAAAQGdA////f+uZZ0AAAABgZmZnQAAAAGC4JmdAAAAAYGb+ZkAAAACgmZlnQAAAAEAKf2dAAQAA4FG4aEAAAABACtdoQAAAAGBmZmlA////H1ynakAAAACgmelsQP///z8zC29AAAAAANeLb0AAAABACjdwQAAAAIDCmXBAAAAAoHC5cEAAAAAAAPBwQAEAAEDhem9AAAAAoJmZcEAAAACA6ylwQAAAACCFJ3BAAAAAgD0ScEAAAACAFC5vQAAAAGC4pm9AAQAA4FH4b0ABAAAgrj9sQAAAAAAAQGxAAAAAwPXIa0D////fo0htQP///78eDW1A",
          "dtype": "f8"
         },
         "low": {
          "bdata": "AAAAoJlZYUAAAAAghaNhQAAAAOBRsGNAAAAAIIXLY0AAAAAA18tkQAAAAKBHEWdAAQAAQOHaZkAAAADgUWBmQAAAAOCjAGZAAAAAoHBNZkAAAABgZsZmQAAAAMDMLGZAAAAAwMxEZUAAAAAA12tlQAAAAAAA+GRAAAAAAAAgZUAAAACAPcJlQAAAACCFo2VAAAAAgMJtZUAAAAAAAJhlQAAAAOCjsGVAAAAAYLjWZUAAAAAA10NmQAAAAOBRqGVAAAAAIFy3ZUAAAADAHqVlQAAAAIDCvWVAAAAAACnsZUAAAACAPbplQAAAACCuz2VAAAAAAADAZUAAAAAAKYRlQAAAACBcl2VAAAAAYI/yZUAAAACgcKVlQAAAAMAe7WRAAAAAoJk5ZUD///8fXKdmQAAAAKBwHWZAAAAAAAAgZkAAAAAA18tmQAAAAMAedWZAAAAAgBSWZkAAAACgmdFmQAEAAOBRwGZAAQAAIIVLZ0AAAACgmUFoQAEAAOBRaGhA////PzMbaUD///9/60FrQAAAAAAASG1AAAAAYLhObkAAAACAPZJuQAAAAKCZSW9AAAAAgMIdcEABAADAzPRtQAEAAEDhIm1A////H1x3b0AAAACgmbluQAAAAIDCxW5AAAAAYGbmbkAAAABgj5ptQAAAAAAAeG5AAAAAACm0bkAAAABguNZqQP///x9cB2tAAAAAYI/qakAAAABgZhZsQAAAAAAAgGtA",
          "dtype": "f8"
         },
         "name": "OHLC",
         "open": {
          "bdata": "AAAAgOuRYUAAAABgj+phQAAAAEDhWmRAAAAAYLjeY0AAAABAMxtlQAAAAKBwjWdA////H1xfZ0AAAAAAAMBmQAEAACCF22ZA////PzPDZkAAAACgmflmQAEAAMDMzGZAAAAAQOFyZUAAAADgUeBlQAAAAKCZoWVAAAAAAABAZUAAAAAAANBlQAAAAMDMfGZAAAAAQDPDZUAAAACgmbFlQAAAAIDrMWZAAAAA4FHwZUD///8/M9tmQAAAAKCZuWZAAAAAQOHaZUAAAADAzAxmQAAAAIAUxmVAAAAAYI9SZkAAAAAAAFBmQAAAAAApRGZAAAAAwPXYZUAAAABAM+tlQAAAAEAz02VAAAAAACkEZkAAAACA6wFmQAAAAKBwvWVAAAAAANdjZUAAAADgeoxnQAAAAKCZOWdAAAAAoHA9ZkD///9/61FnQAAAAIDCFWdAAAAAoJnJZkAAAABACh9nQAEAAMDMDGdAAAAAoEdRZ0AAAACgcGVoQAAAAKCZ8WhA////36MgaUAAAADgelxrQP///3/rUW1A////f+s5b0AAAABguPZuQAAAAAAAYG9AAAAAwMxscEAAAADAzHRwQAAAAKCZeW1AAAAAQAr/b0D///9/6+lvQP///x9cl29AAQAAQOFib0AAAACgR/luQAAAAGC4hm5A////PzOzb0AAAACgcC1sQAAAAKCZGWtAAAAAgBSma0ABAADAzBxsQAAAAAAACG1A",
          "dtype": "f8"
         },
         "type": "candlestick",
         "x": [
          "2024-04-22T00:00:00.000000000",
          "2024-04-23T00:00:00.000000000",
          "2024-04-24T00:00:00.000000000",
          "2024-04-25T00:00:00.000000000",
          "2024-04-26T00:00:00.000000000",
          "2024-04-29T00:00:00.000000000",
          "2024-04-30T00:00:00.000000000",
          "2024-05-01T00:00:00.000000000",
          "2024-05-02T00:00:00.000000000",
          "2024-05-03T00:00:00.000000000",
          "2024-05-06T00:00:00.000000000",
          "2024-05-07T00:00:00.000000000",
          "2024-05-08T00:00:00.000000000",
          "2024-05-09T00:00:00.000000000",
          "2024-05-10T00:00:00.000000000",
          "2024-05-13T00:00:00.000000000",
          "2024-05-14T00:00:00.000000000",
          "2024-05-15T00:00:00.000000000",
          "2024-05-16T00:00:00.000000000",
          "2024-05-17T00:00:00.000000000",
          "2024-05-20T00:00:00.000000000",
          "2024-05-21T00:00:00.000000000",
          "2024-05-22T00:00:00.000000000",
          "2024-05-23T00:00:00.000000000",
          "2024-05-24T00:00:00.000000000",
          "2024-05-28T00:00:00.000000000",
          "2024-05-29T00:00:00.000000000",
          "2024-05-30T00:00:00.000000000",
          "2024-05-31T00:00:00.000000000",
          "2024-06-03T00:00:00.000000000",
          "2024-06-04T00:00:00.000000000",
          "2024-06-05T00:00:00.000000000",
          "2024-06-06T00:00:00.000000000",
          "2024-06-07T00:00:00.000000000",
          "2024-06-10T00:00:00.000000000",
          "2024-06-11T00:00:00.000000000",
          "2024-06-12T00:00:00.000000000",
          "2024-06-13T00:00:00.000000000",
          "2024-06-14T00:00:00.000000000",
          "2024-06-17T00:00:00.000000000",
          "2024-06-18T00:00:00.000000000",
          "2024-06-20T00:00:00.000000000",
          "2024-06-21T00:00:00.000000000",
          "2024-06-24T00:00:00.000000000",
          "2024-06-25T00:00:00.000000000",
          "2024-06-26T00:00:00.000000000",
          "2024-06-27T00:00:00.000000000",
          "2024-06-28T00:00:00.000000000",
          "2024-07-01T00:00:00.000000000",
          "2024-07-02T00:00:00.000000000",
          "2024-07-03T00:00:00.000000000",
          "2024-07-05T00:00:00.000000000",
          "2024-07-08T00:00:00.000000000",
          "2024-07-09T00:00:00.000000000",
          "2024-07-10T00:00:00.000000000",
          "2024-07-11T00:00:00.000000000",
          "2024-07-12T00:00:00.000000000",
          "2024-07-15T00:00:00.000000000",
          "2024-07-16T00:00:00.000000000",
          "2024-07-17T00:00:00.000000000",
          "2024-07-18T00:00:00.000000000",
          "2024-07-19T00:00:00.000000000",
          "2024-07-22T00:00:00.000000000",
          "2024-07-23T00:00:00.000000000",
          "2024-07-24T00:00:00.000000000",
          "2024-07-25T00:00:00.000000000",
          "2024-07-26T00:00:00.000000000",
          "2024-07-29T00:00:00.000000000",
          "2024-07-30T00:00:00.000000000"
         ],
         "xaxis": "x",
         "yaxis": "y"
        },
        {
         "line": {
          "color": "blue"
         },
         "name": "SMA 20",
         "type": "scatter",
         "x": [
          "2024-04-22T00:00:00.000000000",
          "2024-04-23T00:00:00.000000000",
          "2024-04-24T00:00:00.000000000",
          "2024-04-25T00:00:00.000000000",
          "2024-04-26T00:00:00.000000000",
          "2024-04-29T00:00:00.000000000",
          "2024-04-30T00:00:00.000000000",
          "2024-05-01T00:00:00.000000000",
          "2024-05-02T00:00:00.000000000",
          "2024-05-03T00:00:00.000000000",
          "2024-05-06T00:00:00.000000000",
          "2024-05-07T00:00:00.000000000",
          "2024-05-08T00:00:00.000000000",
          "2024-05-09T00:00:00.000000000",
          "2024-05-10T00:00:00.000000000",
          "2024-05-13T00:00:00.000000000",
          "2024-05-14T00:00:00.000000000",
          "2024-05-15T00:00:00.000000000",
          "2024-05-16T00:00:00.000000000",
          "2024-05-17T00:00:00.000000000",
          "2024-05-20T00:00:00.000000000",
          "2024-05-21T00:00:00.000000000",
          "2024-05-22T00:00:00.000000000",
          "2024-05-23T00:00:00.000000000",
          "2024-05-24T00:00:00.000000000",
          "2024-05-28T00:00:00.000000000",
          "2024-05-29T00:00:00.000000000",
          "2024-05-30T00:00:00.000000000",
          "2024-05-31T00:00:00.000000000",
          "2024-06-03T00:00:00.000000000",
          "2024-06-04T00:00:00.000000000",
          "2024-06-05T00:00:00.000000000",
          "2024-06-06T00:00:00.000000000",
          "2024-06-07T00:00:00.000000000",
          "2024-06-10T00:00:00.000000000",
          "2024-06-11T00:00:00.000000000",
          "2024-06-12T00:00:00.000000000",
          "2024-06-13T00:00:00.000000000",
          "2024-06-14T00:00:00.000000000",
          "2024-06-17T00:00:00.000000000",
          "2024-06-18T00:00:00.000000000",
          "2024-06-20T00:00:00.000000000",
          "2024-06-21T00:00:00.000000000",
          "2024-06-24T00:00:00.000000000",
          "2024-06-25T00:00:00.000000000",
          "2024-06-26T00:00:00.000000000",
          "2024-06-27T00:00:00.000000000",
          "2024-06-28T00:00:00.000000000",
          "2024-07-01T00:00:00.000000000",
          "2024-07-02T00:00:00.000000000",
          "2024-07-03T00:00:00.000000000",
          "2024-07-05T00:00:00.000000000",
          "2024-07-08T00:00:00.000000000",
          "2024-07-09T00:00:00.000000000",
          "2024-07-10T00:00:00.000000000",
          "2024-07-11T00:00:00.000000000",
          "2024-07-12T00:00:00.000000000",
          "2024-07-15T00:00:00.000000000",
          "2024-07-16T00:00:00.000000000",
          "2024-07-17T00:00:00.000000000",
          "2024-07-18T00:00:00.000000000",
          "2024-07-19T00:00:00.000000000",
          "2024-07-22T00:00:00.000000000",
          "2024-07-23T00:00:00.000000000",
          "2024-07-24T00:00:00.000000000",
          "2024-07-25T00:00:00.000000000",
          "2024-07-26T00:00:00.000000000",
          "2024-07-29T00:00:00.000000000",
          "2024-07-30T00:00:00.000000000"
         ],
         "xaxis": "x",
         "y": {
          "bdata": "AAAAAADUZEDNzMysR6dkQGZmZn5qjmRAmpmZ2fl+ZECamZnZ+XJkQGZmZp4akWRAzczMdL6rZECamZnpUb5kQJqZmVmPzGRAzczMvJ/mZEAzMzPTePlkQAAAAMD1+mRAMzMzK7L/ZEAzMzPrfPtkQGZmZiZc92RAZmZmFgQIZUAAAABQuChlQM3MzExiRmVAAAAAcD1uZUAAAABg5Z5lQGZmZjaJ02VAZmZmppsWZkCamZlBYDNmQAAAAHASOWZAAAAAkJdKZkAzMzN76S5mQDMzM2uRI2ZAzczM5KUhZkBmZmZejx5mQDMzM1O4FmZAzczMbLwGZkAzMzNzPQJmQM3MzFxkB2ZAmpmZQTUQZkAzMzNTuBhmQM3MzITAFmZAzczMBFYWZkDNzMxs5yNmQDMzM9v5KGZAmpmZqfE4ZkDNzMzMzEhmQDMzM4PAQGZAmpmZWWRFZkBmZmY2iVNmQJqZmRGDYGZAMzMza+d/ZkCamZk536FmQGZmZn5qwGZAzczMlEPzZkA0MzNLN0tnQAEAANjOvWdAAAAAcD04aEAAAABwPbBoQGZmZv7/N2lAmpmZ6SbHaUBmZmZ2vjdqQM3MzHw/qWpAZmZmHoUZa0AzMzMzM5drQAAAAGDl+GtAMzMzU+NfbECamZmRGLxsQDMzMyuyKW1AZmZmpsaPbUAAAACYmb1tQAAAANjO421AmpmZsZ0HbkDNzMw0Xj5uQDMzM7PIUm5A",
          "dtype": "f8"
         },
         "yaxis": "y"
        },
        {
         "line": {
          "color": "orange"
         },
         "name": "SMA 50",
         "type": "scatter",
         "x": [
          "2024-04-22T00:00:00.000000000",
          "2024-04-23T00:00:00.000000000",
          "2024-04-24T00:00:00.000000000",
          "2024-04-25T00:00:00.000000000",
          "2024-04-26T00:00:00.000000000",
          "2024-04-29T00:00:00.000000000",
          "2024-04-30T00:00:00.000000000",
          "2024-05-01T00:00:00.000000000",
          "2024-05-02T00:00:00.000000000",
          "2024-05-03T00:00:00.000000000",
          "2024-05-06T00:00:00.000000000",
          "2024-05-07T00:00:00.000000000",
          "2024-05-08T00:00:00.000000000",
          "2024-05-09T00:00:00.000000000",
          "2024-05-10T00:00:00.000000000",
          "2024-05-13T00:00:00.000000000",
          "2024-05-14T00:00:00.000000000",
          "2024-05-15T00:00:00.000000000",
          "2024-05-16T00:00:00.000000000",
          "2024-05-17T00:00:00.000000000",
          "2024-05-20T00:00:00.000000000",
          "2024-05-21T00:00:00.000000000",
          "2024-05-22T00:00:00.000000000",
          "2024-05-23T00:00:00.000000000",
          "2024-05-24T00:00:00.000000000",
          "2024-05-28T00:00:00.000000000",
          "2024-05-29T00:00:00.000000000",
          "2024-05-30T00:00:00.000000000",
          "2024-05-31T00:00:00.000000000",
          "2024-06-03T00:00:00.000000000",
          "2024-06-04T00:00:00.000000000",
          "2024-06-05T00:00:00.000000000",
          "2024-06-06T00:00:00.000000000",
          "2024-06-07T00:00:00.000000000",
          "2024-06-10T00:00:00.000000000",
          "2024-06-11T00:00:00.000000000",
          "2024-06-12T00:00:00.000000000",
          "2024-06-13T00:00:00.000000000",
          "2024-06-14T00:00:00.000000000",
          "2024-06-17T00:00:00.000000000",
          "2024-06-18T00:00:00.000000000",
          "2024-06-20T00:00:00.000000000",
          "2024-06-21T00:00:00.000000000",
          "2024-06-24T00:00:00.000000000",
          "2024-06-25T00:00:00.000000000",
          "2024-06-26T00:00:00.000000000",
          "2024-06-27T00:00:00.000000000",
          "2024-06-28T00:00:00.000000000",
          "2024-07-01T00:00:00.000000000",
          "2024-07-02T00:00:00.000000000",
          "2024-07-03T00:00:00.000000000",
          "2024-07-05T00:00:00.000000000",
          "2024-07-08T00:00:00.000000000",
          "2024-07-09T00:00:00.000000000",
          "2024-07-10T00:00:00.000000000",
          "2024-07-11T00:00:00.000000000",
          "2024-07-12T00:00:00.000000000",
          "2024-07-15T00:00:00.000000000",
          "2024-07-16T00:00:00.000000000",
          "2024-07-17T00:00:00.000000000",
          "2024-07-18T00:00:00.000000000",
          "2024-07-19T00:00:00.000000000",
          "2024-07-22T00:00:00.000000000",
          "2024-07-23T00:00:00.000000000",
          "2024-07-24T00:00:00.000000000",
          "2024-07-25T00:00:00.000000000",
          "2024-07-26T00:00:00.000000000",
          "2024-07-29T00:00:00.000000000",
          "2024-07-30T00:00:00.000000000"
         ],
         "xaxis": "x",
         "y": {
          "bdata": "9ihcn802ZkC4HoV7gxdmQEjheqTfBmZAhetRGAT+ZUCuR+F68vBlQHsUrufZ7GVAFK5HsS7iZUDhehSeXtllQGZmZlbsz2VApHA92orFZUAK16OQ7cBlQClcj0Ics2VA9ihcnxqjZUBI4Xr0249lQPYoXA96emVArkfh+stmZUCkcD3qBGBlQOxRuP6yW2VAexSud5xaZUAAAACA2VllQKRwPZqZWWVA9ihcT0BfZUAUrkdh5WBlQHE9ClefY2VAXI/CBVZuZUDsUbhuxXZlQClcjwJNeGVASOF65BR9ZUApXI9ioX5lQIXrUejZgGVAAAAAcF+DZUDNzMy844RlQJqZmfkPhWVAMzMz846DZUBSuB5FR4JlQI/C9Shcf2VAFK5HsS6GZUApXI8yM49lQBSuR7Gdk2VAXI/CpQqiZUAUrkcRpallQKRwPXqlrGVA16NwrdizZUDsUbge9LhlQGZmZrZiw2VAcT0KF7fZZUCuR+F6g/NlQGZmZjarDmZAUrgeJQY1ZkDD9Sgc62pmQM3MzCyyrWZAexSu1xLyZkBxPQonMSxnQB+F6wErZ2dAUrge5fKjZ0CPwvUYBMJnQBSuR4GV62dArkfhehQaaEDsUbhuEktoQArXo4AmdmhASOF6RGmfaEB7FK5ns8ZoQNejcK3Y92hAMzMzA3gnaUAK16Ow4UVpQOF6FP7UZGlAuB6FO99/aUCamZn5D6VpQAAAAECkw2lA",
          "dtype": "f8"
         },
         "yaxis": "y"
        },
        {
         "line": {
          "color": "red"
         },
         "name": "SMA 200",
         "type": "scatter",
         "x": [
          "2024-04-22T00:00:00.000000000",
          "2024-04-23T00:00:00.000000000",
          "2024-04-24T00:00:00.000000000",
          "2024-04-25T00:00:00.000000000",
          "2024-04-26T00:00:00.000000000",
          "2024-04-29T00:00:00.000000000",
          "2024-04-30T00:00:00.000000000",
          "2024-05-01T00:00:00.000000000",
          "2024-05-02T00:00:00.000000000",
          "2024-05-03T00:00:00.000000000",
          "2024-05-06T00:00:00.000000000",
          "2024-05-07T00:00:00.000000000",
          "2024-05-08T00:00:00.000000000",
          "2024-05-09T00:00:00.000000000",
          "2024-05-10T00:00:00.000000000",
          "2024-05-13T00:00:00.000000000",
          "2024-05-14T00:00:00.000000000",
          "2024-05-15T00:00:00.000000000",
          "2024-05-16T00:00:00.000000000",
          "2024-05-17T00:00:00.000000000",
          "2024-05-20T00:00:00.000000000",
          "2024-05-21T00:00:00.000000000",
          "2024-05-22T00:00:00.000000000",
          "2024-05-23T00:00:00.000000000",
          "2024-05-24T00:00:00.000000000",
          "2024-05-28T00:00:00.000000000",
          "2024-05-29T00:00:00.000000000",
          "2024-05-30T00:00:00.000000000",
          "2024-05-31T00:00:00.000000000",
          "2024-06-03T00:00:00.000000000",
          "2024-06-04T00:00:00.000000000",
          "2024-06-05T00:00:00.000000000",
          "2024-06-06T00:00:00.000000000",
          "2024-06-07T00:00:00.000000000",
          "2024-06-10T00:00:00.000000000",
          "2024-06-11T00:00:00.000000000",
          "2024-06-12T00:00:00.000000000",
          "2024-06-13T00:00:00.000000000",
          "2024-06-14T00:00:00.000000000",
          "2024-06-17T00:00:00.000000000",
          "2024-06-18T00:00:00.000000000",
          "2024-06-20T00:00:00.000000000",
          "2024-06-21T00:00:00.000000000",
          "2024-06-24T00:00:00.000000000",
          "2024-06-25T00:00:00.000000000",
          "2024-06-26T00:00:00.000000000",
          "2024-06-27T00:00:00.000000000",
          "2024-06-28T00:00:00.000000000",
          "2024-07-01T00:00:00.000000000",
          "2024-07-02T00:00:00.000000000",
          "2024-07-03T00:00:00.000000000",
          "2024-07-05T00:00:00.000000000",
          "2024-07-08T00:00:00.000000000",
          "2024-07-09T00:00:00.000000000",
          "2024-07-10T00:00:00.000000000",
          "2024-07-11T00:00:00.000000000",
          "2024-07-12T00:00:00.000000000",
          "2024-07-15T00:00:00.000000000",
          "2024-07-16T00:00:00.000000000",
          "2024-07-17T00:00:00.000000000",
          "2024-07-18T00:00:00.000000000",
          "2024-07-19T00:00:00.000000000",
          "2024-07-22T00:00:00.000000000",
          "2024-07-23T00:00:00.000000000",
          "2024-07-24T00:00:00.000000000",
          "2024-07-25T00:00:00.000000000",
          "2024-07-26T00:00:00.000000000",
          "2024-07-29T00:00:00.000000000",
          "2024-07-30T00:00:00.000000000"
         ],
         "xaxis": "x",
         "y": {
          "bdata": "hetREMcJbECPwvWABPVrQHsUrh/S42tAj8L1GOLTa0B7FK6LSsNrQM3MzAzgtWtAexSu3y2ma0AK16NMhJRrQNejcE1igmtAXI/C1cVwa0BI4Xo4RWRrQKRwPeYdV2tAexSuuwVIa0DXo3DBFzlrQOxRuILAKWtApHA9Plcca0BxPQpPHg5rQFyPwgEr/2pAKVyPBl/xakBSuB5xG+VqQNejcKWb12pAFK5HrdjMakAzMzOXbsFqQI/C9URHtWpAZmZm1jSrakDD9ShkO6BqQArXozCZlWpAPQrX29eLakAUrkf5D4NqQIXrUTwse2pAhetRkA90akA9CtcXlW1qQNejcEkMZWpAexSuZyJcakDsUbgOC1JqQGZmZtqKSGpAFK5HAbw+akAK16PotzVqQHE9ChsNKWpApHA9BvAdakBxPQrvOBJqQClcj24SCGpAj8L1sFD8aUBmZmaGOPFpQFyPwln15mlAcT0KG57eaUB7FK6XbtJpQOxRuMZLx2lAXI/CMXe9aUAUrkcBTbZpQD0K1x/SsWlAPQrXg56vaUCPwvUYc61pQClcj3JorWlAcT0KG56uaUDNzMxoAK5pQHE9CjMzrmlAXI/CLZCvaUBxPQr/IbJpQM3MzNR4smlAPQrXR1CyaUCF61FgVLBpQPYoXFsgsWlAPQrX98KuaUDXo3BFtqdpQHE9CmdEoWlAexSuU+OaaUAK16NE2JVpQClcj7Zij2lA",
          "dtype": "f8"
         },
         "yaxis": "y"
        },
        {
         "line": {
          "color": "gray",
          "dash": "dash"
         },
         "name": "BB High",
         "type": "scatter",
         "x": [
          "2024-04-22T00:00:00.000000000",
          "2024-04-23T00:00:00.000000000",
          "2024-04-24T00:00:00.000000000",
          "2024-04-25T00:00:00.000000000",
          "2024-04-26T00:00:00.000000000",
          "2024-04-29T00:00:00.000000000",
          "2024-04-30T00:00:00.000000000",
          "2024-05-01T00:00:00.000000000",
          "2024-05-02T00:00:00.000000000",
          "2024-05-03T00:00:00.000000000",
          "2024-05-06T00:00:00.000000000",
          "2024-05-07T00:00:00.000000000",
          "2024-05-08T00:00:00.000000000",
          "2024-05-09T00:00:00.000000000",
          "2024-05-10T00:00:00.000000000",
          "2024-05-13T00:00:00.000000000",
          "2024-05-14T00:00:00.000000000",
          "2024-05-15T00:00:00.000000000",
          "2024-05-16T00:00:00.000000000",
          "2024-05-17T00:00:00.000000000",
          "2024-05-20T00:00:00.000000000",
          "2024-05-21T00:00:00.000000000",
          "2024-05-22T00:00:00.000000000",
          "2024-05-23T00:00:00.000000000",
          "2024-05-24T00:00:00.000000000",
          "2024-05-28T00:00:00.000000000",
          "2024-05-29T00:00:00.000000000",
          "2024-05-30T00:00:00.000000000",
          "2024-05-31T00:00:00.000000000",
          "2024-06-03T00:00:00.000000000",
          "2024-06-04T00:00:00.000000000",
          "2024-06-05T00:00:00.000000000",
          "2024-06-06T00:00:00.000000000",
          "2024-06-07T00:00:00.000000000",
          "2024-06-10T00:00:00.000000000",
          "2024-06-11T00:00:00.000000000",
          "2024-06-12T00:00:00.000000000",
          "2024-06-13T00:00:00.000000000",
          "2024-06-14T00:00:00.000000000",
          "2024-06-17T00:00:00.000000000",
          "2024-06-18T00:00:00.000000000",
          "2024-06-20T00:00:00.000000000",
          "2024-06-21T00:00:00.000000000",
          "2024-06-24T00:00:00.000000000",
          "2024-06-25T00:00:00.000000000",
          "2024-06-26T00:00:00.000000000",
          "2024-06-27T00:00:00.000000000",
          "2024-06-28T00:00:00.000000000",
          "2024-07-01T00:00:00.000000000",
          "2024-07-02T00:00:00.000000000",
          "2024-07-03T00:00:00.000000000",
          "2024-07-05T00:00:00.000000000",
          "2024-07-08T00:00:00.000000000",
          "2024-07-09T00:00:00.000000000",
          "2024-07-10T00:00:00.000000000",
          "2024-07-11T00:00:00.000000000",
          "2024-07-12T00:00:00.000000000",
          "2024-07-15T00:00:00.000000000",
          "2024-07-16T00:00:00.000000000",
          "2024-07-17T00:00:00.000000000",
          "2024-07-18T00:00:00.000000000",
          "2024-07-19T00:00:00.000000000",
          "2024-07-22T00:00:00.000000000",
          "2024-07-23T00:00:00.000000000",
          "2024-07-24T00:00:00.000000000",
          "2024-07-25T00:00:00.000000000",
          "2024-07-26T00:00:00.000000000",
          "2024-07-29T00:00:00.000000000",
          "2024-07-30T00:00:00.000000000"
         ],
         "xaxis": "x",
         "y": {
          "bdata": "LZsD8Dl/Z0DcKRyU7YxnQIbo+bYEXmdABmt6oEowZ0DEyQBpohFnQLr6MdkhnWdAk5g9KVjiZ0AI9CkTNg1oQMqNRN5sL2hARAp3RjNhaEBITW2SVJJoQHtsFVbJlWhAyyNATgOeaEAj4j3NrpZoQJPQOt9tkWhAsQdk8g+faEA26n0GObloQJuE7z7FwWhARqmaXvS3aECiwxtdc5toQJkca67HOmhAyK1xwQjdZ0BwzGpN7sVnQDPTMW4awWdA7Y2/sj+5Z0DxGWWbAkxnQLwQ9SHsM2dA+qYqR+kvZ0B9VCwM0ilnQJ9ToDC4GmdAiZ6E3EfvZkA9dUrsIOpmQO+lfF/K72ZA8eFMqHvwZkC70MViaNxmQNZKbNJa4WZAB/tkKMDgZkCN8FwIWPlmQNZHFaMK/GZAUuKSiTo3Z0CGTDKMp1VnQNP32FTPNWdAraOOwrRCZ0CvMrBcNE9nQK0i8+8yeGdA35UNLzTvZ0DoSD6hLlVoQN8w0HsFrWhAZY8bjCFiaUB+xOQ65s9qQHsIZJoIemxAP7aHIFvvbUDsMyJCTypvQF8DiVM7PXBA3D0egOjJcECPVLeHdfpwQDWTqoXDN3FAr5vTRu14cUD2DfU71rFxQPKHmE4v1XFAIksWcFrscUDEgqRCCuFxQFFaJM8T3nFA+LrASrK9cUCWJUpdZoxxQEweC+pSZ3FA1b9hat49cUCwe4TVZgJxQKpGph8J6HBA",
          "dtype": "f8"
         },
         "yaxis": "y"
        },
        {
         "line": {
          "color": "gray",
          "dash": "dash"
         },
         "name": "BB Low",
         "type": "scatter",
         "x": [
          "2024-04-22T00:00:00.000000000",
          "2024-04-23T00:00:00.000000000",
          "2024-04-24T00:00:00.000000000",
          "2024-04-25T00:00:00.000000000",
          "2024-04-26T00:00:00.000000000",
          "2024-04-29T00:00:00.000000000",
          "2024-04-30T00:00:00.000000000",
          "2024-05-01T00:00:00.000000000",
          "2024-05-02T00:00:00.000000000",
          "2024-05-03T00:00:00.000000000",
          "2024-05-06T00:00:00.000000000",
          "2024-05-07T00:00:00.000000000",
          "2024-05-08T00:00:00.000000000",
          "2024-05-09T00:00:00.000000000",
          "2024-05-10T00:00:00.000000000",
          "2024-05-13T00:00:00.000000000",
          "2024-05-14T00:00:00.000000000",
          "2024-05-15T00:00:00.000000000",
          "2024-05-16T00:00:00.000000000",
          "2024-05-17T00:00:00.000000000",
          "2024-05-20T00:00:00.000000000",
          "2024-05-21T00:00:00.000000000",
          "2024-05-22T00:00:00.000000000",
          "2024-05-23T00:00:00.000000000",
          "2024-05-24T00:00:00.000000000",
          "2024-05-28T00:00:00.000000000",
          "2024-05-29T00:00:00.000000000",
          "2024-05-30T00:00:00.000000000",
          "2024-05-31T00:00:00.000000000",
          "2024-06-03T00:00:00.000000000",
          "2024-06-04T00:00:00.000000000",
          "2024-06-05T00:00:00.000000000",
          "2024-06-06T00:00:00.000000000",
          "2024-06-07T00:00:00.000000000",
          "2024-06-10T00:00:00.000000000",
          "2024-06-11T00:00:00.000000000",
          "2024-06-12T00:00:00.000000000",
          "2024-06-13T00:00:00.000000000",
          "2024-06-14T00:00:00.000000000",
          "2024-06-17T00:00:00.000000000",
          "2024-06-18T00:00:00.000000000",
          "2024-06-20T00:00:00.000000000",
          "2024-06-21T00:00:00.000000000",
          "2024-06-24T00:00:00.000000000",
          "2024-06-25T00:00:00.000000000",
          "2024-06-26T00:00:00.000000000",
          "2024-06-27T00:00:00.000000000",
          "2024-06-28T00:00:00.000000000",
          "2024-07-01T00:00:00.000000000",
          "2024-07-02T00:00:00.000000000",
          "2024-07-03T00:00:00.000000000",
          "2024-07-05T00:00:00.000000000",
          "2024-07-08T00:00:00.000000000",
          "2024-07-09T00:00:00.000000000",
          "2024-07-10T00:00:00.000000000",
          "2024-07-11T00:00:00.000000000",
          "2024-07-12T00:00:00.000000000",
          "2024-07-15T00:00:00.000000000",
          "2024-07-16T00:00:00.000000000",
          "2024-07-17T00:00:00.000000000",
          "2024-07-18T00:00:00.000000000",
          "2024-07-19T00:00:00.000000000",
          "2024-07-22T00:00:00.000000000",
          "2024-07-23T00:00:00.000000000",
          "2024-07-24T00:00:00.000000000",
          "2024-07-25T00:00:00.000000000",
          "2024-07-26T00:00:00.000000000",
          "2024-07-29T00:00:00.000000000",
          "2024-07-30T00:00:00.000000000"
         ],
         "xaxis": "x",
         "y": {
          "bdata": "02T8D8YoYkC+b33FocFhQEbk0kXQvmFALsi4EqnNYUBwaTJKUdRhQBLSmmMThWFABwFcwCR1YUAsPwnAbW9hQGql7tSxaWFAVo8iMwxsYUAeGfkTnWBhQIWT6ikiYGFAm0ImCGFhYUBDhCgJS2BhQDn8kW1KXWFAG8VoOvhwYUDKFYKZN5hhQP8Uqlr/ymFAulZlgYYkYkBePORiV6JiQDOwYb5KbGNABB9biy5QZEDEZsg10qBkQM0sznEKsWRAE3JAbe/bZEB1TAFb0BFlQKpVcbQ2E2VAoPJugmITZUBPeKCwTBNlQMcSxnW4EmVAEfsU/TAeZUAp8Rv6WRplQKvzHFr+HmVAQ1Hm2u4vZUCrlaBDCFVlQMROLTcmTGVAk5404etLZUANqTzRdk5lQJAeURPpVWVA4lCgyag6ZUAUTWcN8jtlQJNujbGxS2VAh4+k8BNIZUAdmhwQ3ldlQIcQQDPTSGVAh9BYp5oQZUBM6vTRj+5kQO2b/IDP02RANQp+nWWEZEDqoYFbiMZjQIf3mxWVAWNAwUl4vx+BYkAUzN2dKzZiQA7GulWJ9WFAfLf20nz6YUCvI17dkXpiQDBzRO734mJAbZUlry9BY0B5SnzuucpjQBzwziJsR2RAItA5xhHnZECsLeqdHLZlQMSxHbg8l2ZA3FZLtyikZ0DUtGt1ZmJoQGjD6dv3+GhAi7Nvjn6TaUA6opC+7ndqQBLZGSd/1WpA",
          "dtype": "f8"
         },
         "yaxis": "y"
        },
        {
         "name": "Volume",
         "type": "bar",
         "x": [
          "2024-04-22T00:00:00.000000000",
          "2024-04-23T00:00:00.000000000",
          "2024-04-24T00:00:00.000000000",
          "2024-04-25T00:00:00.000000000",
          "2024-04-26T00:00:00.000000000",
          "2024-04-29T00:00:00.000000000",
          "2024-04-30T00:00:00.000000000",
          "2024-05-01T00:00:00.000000000",
          "2024-05-02T00:00:00.000000000",
          "2024-05-03T00:00:00.000000000",
          "2024-05-06T00:00:00.000000000",
          "2024-05-07T00:00:00.000000000",
          "2024-05-08T00:00:00.000000000",
          "2024-05-09T00:00:00.000000000",
          "2024-05-10T00:00:00.000000000",
          "2024-05-13T00:00:00.000000000",
          "2024-05-14T00:00:00.000000000",
          "2024-05-15T00:00:00.000000000",
          "2024-05-16T00:00:00.000000000",
          "2024-05-17T00:00:00.000000000",
          "2024-05-20T00:00:00.000000000",
          "2024-05-21T00:00:00.000000000",
          "2024-05-22T00:00:00.000000000",
          "2024-05-23T00:00:00.000000000",
          "2024-05-24T00:00:00.000000000",
          "2024-05-28T00:00:00.000000000",
          "2024-05-29T00:00:00.000000000",
          "2024-05-30T00:00:00.000000000",
          "2024-05-31T00:00:00.000000000",
          "2024-06-03T00:00:00.000000000",
          "2024-06-04T00:00:00.000000000",
          "2024-06-05T00:00:00.000000000",
          "2024-06-06T00:00:00.000000000",
          "2024-06-07T00:00:00.000000000",
          "2024-06-10T00:00:00.000000000",
          "2024-06-11T00:00:00.000000000",
          "2024-06-12T00:00:00.000000000",
          "2024-06-13T00:00:00.000000000",
          "2024-06-14T00:00:00.000000000",
          "2024-06-17T00:00:00.000000000",
          "2024-06-18T00:00:00.000000000",
          "2024-06-20T00:00:00.000000000",
          "2024-06-21T00:00:00.000000000",
          "2024-06-24T00:00:00.000000000",
          "2024-06-25T00:00:00.000000000",
          "2024-06-26T00:00:00.000000000",
          "2024-06-27T00:00:00.000000000",
          "2024-06-28T00:00:00.000000000",
          "2024-07-01T00:00:00.000000000",
          "2024-07-02T00:00:00.000000000",
          "2024-07-03T00:00:00.000000000",
          "2024-07-05T00:00:00.000000000",
          "2024-07-08T00:00:00.000000000",
          "2024-07-09T00:00:00.000000000",
          "2024-07-10T00:00:00.000000000",
          "2024-07-11T00:00:00.000000000",
          "2024-07-12T00:00:00.000000000",
          "2024-07-15T00:00:00.000000000",
          "2024-07-16T00:00:00.000000000",
          "2024-07-17T00:00:00.000000000",
          "2024-07-18T00:00:00.000000000",
          "2024-07-19T00:00:00.000000000",
          "2024-07-22T00:00:00.000000000",
          "2024-07-23T00:00:00.000000000",
          "2024-07-24T00:00:00.000000000",
          "2024-07-25T00:00:00.000000000",
          "2024-07-26T00:00:00.000000000",
          "2024-07-29T00:00:00.000000000",
          "2024-07-30T00:00:00.000000000"
         ],
         "xaxis": "x2",
         "y": {
          "bdata": "AC5iBkxobAeQjswKbCGJB5SniwYEKIkO+FmSBwR4iAVgSlAFrOh/BJyxBwUMHHkE3DzEBFxS7gMANFQElKD+A+h4JgWYj78EaKmQA6i6nQSo4q0DxNPeBpyOQwVMQkoEFCTnAxiCjwOI6kMD4OaiBKgjAwRERxYE7GKUAwhOdAMYZCoEpDpaA8Q1CAMsMNwDmDtjBaSNFwe4zeME9DOLBhyWHARs3FQD/MDBA6TssQNcp8sDDNW0BQQGVgQURbAFiHwWCFzIOAzchu0JUIA1CRD7XgnUn4wJ6AypByT8Ng1YsksJhLbBCFSuhwcgr+MGCLqbBnytNQW4kwgGiOOrBvSaAgpUl/8FRIujBYh2swesbf4F",
          "dtype": "i4"
         },
         "yaxis": "y2"
        },
        {
         "name": "RSI",
         "type": "scatter",
         "x": [
          "2024-04-22T00:00:00.000000000",
          "2024-04-23T00:00:00.000000000",
          "2024-04-24T00:00:00.000000000",
          "2024-04-25T00:00:00.000000000",
          "2024-04-26T00:00:00.000000000",
          "2024-04-29T00:00:00.000000000",
          "2024-04-30T00:00:00.000000000",
          "2024-05-01T00:00:00.000000000",
          "2024-05-02T00:00:00.000000000",
          "2024-05-03T00:00:00.000000000",
          "2024-05-06T00:00:00.000000000",
          "2024-05-07T00:00:00.000000000",
          "2024-05-08T00:00:00.000000000",
          "2024-05-09T00:00:00.000000000",
          "2024-05-10T00:00:00.000000000",
          "2024-05-13T00:00:00.000000000",
          "2024-05-14T00:00:00.000000000",
          "2024-05-15T00:00:00.000000000",
          "2024-05-16T00:00:00.000000000",
          "2024-05-17T00:00:00.000000000",
          "2024-05-20T00:00:00.000000000",
          "2024-05-21T00:00:00.000000000",
          "2024-05-22T00:00:00.000000000",
          "2024-05-23T00:00:00.000000000",
          "2024-05-24T00:00:00.000000000",
          "2024-05-28T00:00:00.000000000",
          "2024-05-29T00:00:00.000000000",
          "2024-05-30T00:00:00.000000000",
          "2024-05-31T00:00:00.000000000",
          "2024-06-03T00:00:00.000000000",
          "2024-06-04T00:00:00.000000000",
          "2024-06-05T00:00:00.000000000",
          "2024-06-06T00:00:00.000000000",
          "2024-06-07T00:00:00.000000000",
          "2024-06-10T00:00:00.000000000",
          "2024-06-11T00:00:00.000000000",
          "2024-06-12T00:00:00.000000000",
          "2024-06-13T00:00:00.000000000",
          "2024-06-14T00:00:00.000000000",
          "2024-06-17T00:00:00.000000000",
          "2024-06-18T00:00:00.000000000",
          "2024-06-20T00:00:00.000000000",
          "2024-06-21T00:00:00.000000000",
          "2024-06-24T00:00:00.000000000",
          "2024-06-25T00:00:00.000000000",
          "2024-06-26T00:00:00.000000000",
          "2024-06-27T00:00:00.000000000",
          "2024-06-28T00:00:00.000000000",
          "2024-07-01T00:00:00.000000000",
          "2024-07-02T00:00:00.000000000",
          "2024-07-03T00:00:00.000000000",
          "2024-07-05T00:00:00.000000000",
          "2024-07-08T00:00:00.000000000",
          "2024-07-09T00:00:00.000000000",
          "2024-07-10T00:00:00.000000000",
          "2024-07-11T00:00:00.000000000",
          "2024-07-12T00:00:00.000000000",
          "2024-07-15T00:00:00.000000000",
          "2024-07-16T00:00:00.000000000",
          "2024-07-17T00:00:00.000000000",
          "2024-07-18T00:00:00.000000000",
          "2024-07-19T00:00:00.000000000",
          "2024-07-22T00:00:00.000000000",
          "2024-07-23T00:00:00.000000000",
          "2024-07-24T00:00:00.000000000",
          "2024-07-25T00:00:00.000000000",
          "2024-07-26T00:00:00.000000000",
          "2024-07-29T00:00:00.000000000",
          "2024-07-30T00:00:00.000000000"
         ],
         "xaxis": "x3",
         "y": {
          "bdata": "CEnRbNXVO0DARAZa+As/QHWdLOpl10dA03WguSakSkARFcXlcfBJQLwFI9QmU1BAcAqH7NMBTUC9wBgM8PpLQHDvjT4+/EtAUcfHUANOTECNf2VPtkhNQPNKv/uYwEpAApWGyV+wSUBfME5ZCL9IQMDQuYOkj0dA5SXw61/USEB1GmIw989KQEfDfedEdElAzG8d0g/FSUD2iQLo98JKQP9f8PldrUlAu5sGbBbGTUCVKV7mmQpLQExKR+Z3pkhAoO8kD4KTSkD65nMEf6BJQFvxzG06aElA7tnwFx1rSkBxS0RoThpKQLzt7bZWSElAQPihpo6TSEBRxr/cC7FIQDP8ccZuLUpA84pDMcnrSUAfHpRnDeZHQOiMJTUFT0ZAPCRN/xz1SUDw8PCIZFtMQD167HKA9ElAkTWLMr/XTUDwogtjWXxMQHnmjcW7z0pANMOSwsJvS0Akw8QwZTNLQHaF2jDdUk1AaIqf2UhPUEDKdRNl3npQQC7AKCLYjlBAH8Q/iYJIUkD57LAcvy1UQEpUyTkKCFVAwLDFtqtFVUBg+TMgn1ZVQH3h8V/gv1VA9Il7hbnJVUAQStkJRLNQQDjre/pJU1FAb/y8FkawUUA9Hb+WZQFSQH7DwN7EbVBA+JBG5lmAUECkANr15lNNQDn7hjPd+k9AyeV88iM9TkDsmiyHhnFGQOdtXB/HeUdA6ViA9UZgR0Bx5TW2DlVKQIuBUYE4HEhA",
          "dtype": "f8"
         },
         "yaxis": "y3"
        },
        {
         "name": "MACD",
         "type": "scatter",
         "x": [
          "2024-04-22T00:00:00.000000000",
          "2024-04-23T00:00:00.000000000",
          "2024-04-24T00:00:00.000000000",
          "2024-04-25T00:00:00.000000000",
          "2024-04-26T00:00:00.000000000",
          "2024-04-29T00:00:00.000000000",
          "2024-04-30T00:00:00.000000000",
          "2024-05-01T00:00:00.000000000",
          "2024-05-02T00:00:00.000000000",
          "2024-05-03T00:00:00.000000000",
          "2024-05-06T00:00:00.000000000",
          "2024-05-07T00:00:00.000000000",
          "2024-05-08T00:00:00.000000000",
          "2024-05-09T00:00:00.000000000",
          "2024-05-10T00:00:00.000000000",
          "2024-05-13T00:00:00.000000000",
          "2024-05-14T00:00:00.000000000",
          "2024-05-15T00:00:00.000000000",
          "2024-05-16T00:00:00.000000000",
          "2024-05-17T00:00:00.000000000",
          "2024-05-20T00:00:00.000000000",
          "2024-05-21T00:00:00.000000000",
          "2024-05-22T00:00:00.000000000",
          "2024-05-23T00:00:00.000000000",
          "2024-05-24T00:00:00.000000000",
          "2024-05-28T00:00:00.000000000",
          "2024-05-29T00:00:00.000000000",
          "2024-05-30T00:00:00.000000000",
          "2024-05-31T00:00:00.000000000",
          "2024-06-03T00:00:00.000000000",
          "2024-06-04T00:00:00.000000000",
          "2024-06-05T00:00:00.000000000",
          "2024-06-06T00:00:00.000000000",
          "2024-06-07T00:00:00.000000000",
          "2024-06-10T00:00:00.000000000",
          "2024-06-11T00:00:00.000000000",
          "2024-06-12T00:00:00.000000000",
          "2024-06-13T00:00:00.000000000",
          "2024-06-14T00:00:00.000000000",
          "2024-06-17T00:00:00.000000000",
          "2024-06-18T00:00:00.000000000",
          "2024-06-20T00:00:00.000000000",
          "2024-06-21T00:00:00.000000000",
          "2024-06-24T00:00:00.000000000",
          "2024-06-25T00:00:00.000000000",
          "2024-06-26T00:00:00.000000000",
          "2024-06-27T00:00:00.000000000",
          "2024-06-28T00:00:00.000000000",
          "2024-07-01T00:00:00.000000000",
          "2024-07-02T00:00:00.000000000",
          "2024-07-03T00:00:00.000000000",
          "2024-07-05T00:00:00.000000000",
          "2024-07-08T00:00:00.000000000",
          "2024-07-09T00:00:00.000000000",
          "2024-07-10T00:00:00.000000000",
          "2024-07-11T00:00:00.000000000",
          "2024-07-12T00:00:00.000000000",
          "2024-07-15T00:00:00.000000000",
          "2024-07-16T00:00:00.000000000",
          "2024-07-17T00:00:00.000000000",
          "2024-07-18T00:00:00.000000000",
          "2024-07-19T00:00:00.000000000",
          "2024-07-22T00:00:00.000000000",
          "2024-07-23T00:00:00.000000000",
          "2024-07-24T00:00:00.000000000",
          "2024-07-25T00:00:00.000000000",
          "2024-07-26T00:00:00.000000000",
          "2024-07-29T00:00:00.000000000",
          "2024-07-30T00:00:00.000000000"
         ],
         "xaxis": "x4",
         "y": {
          "bdata": "8HKS8OY4IMDwN9LpyjkhwGB4wAkuEB7A4ElFp7y2F8BgRWd9chITwIApSD1A/vu/AJBWyuWozL8AwBT7ycTmP4BIbyebAfc/gKiIYYetAEBAXNtBAdIGQECa5p/77wZAQDF96LrLBEDAQ4fePSABQAB47+zPpPc/ANYL2aRt8z+AXd0a2SD3PwAUWdxEOPU/AIKv7E2R9D+A8W04kSr3P4BUXCQQvPU/AN4zqg2eAUAA/c0YOpACQACca/Y9Dv4/ANHXGWgx/z8AUsvC7Iz8PwCJkN+lcPk/gMJIkxoI+j8AV1Gd1Ur5PwBxQ1jhI/Y/AHpLsmh68T8At9qmBtfrPwB8KkG/c+0/AMiK5pE07T8A+ciPekLjPwAA+p2DELo/AFRzJxNvzj8AiH0MOyfoPwAwm9SQdOk/gNOn8/Mg+T8AOibk6UP/PwCZmVuEhP8/wM1p1NiYAECAK+p7TcoAQEBPv4FbywNAQChRLcWtC0BAbwJm+BoRQKDce0eynRNAAHAleaIuGUAAsoBJ1QoiQJAbcVaChShA8CeFhQcjLkBA4lMsrzUxQDirILC2cDNAsDanFGEKNUCYbKZJ/Ec0QKgOWPaMBzRAQBqXg7H0M0DwSJrbwPszQPAlqBFjIjNAGGO43StPMkDgFf7ecacwQOCbLwFFJjBA4DEOpl9SLkDgikr8HZQnQPBdw3DXtCJAoKgRS1s1HUDgVQrNVV8aQMDGbMov0xRA",
          "dtype": "f8"
         },
         "yaxis": "y4"
        },
        {
         "name": "Signal",
         "type": "scatter",
         "x": [
          "2024-04-22T00:00:00.000000000",
          "2024-04-23T00:00:00.000000000",
          "2024-04-24T00:00:00.000000000",
          "2024-04-25T00:00:00.000000000",
          "2024-04-26T00:00:00.000000000",
          "2024-04-29T00:00:00.000000000",
          "2024-04-30T00:00:00.000000000",
          "2024-05-01T00:00:00.000000000",
          "2024-05-02T00:00:00.000000000",
          "2024-05-03T00:00:00.000000000",
          "2024-05-06T00:00:00.000000000",
          "2024-05-07T00:00:00.000000000",
          "2024-05-08T00:00:00.000000000",
          "2024-05-09T00:00:00.000000000",
          "2024-05-10T00:00:00.000000000",
          "2024-05-13T00:00:00.000000000",
          "2024-05-14T00:00:00.000000000",
          "2024-05-15T00:00:00.000000000",
          "2024-05-16T00:00:00.000000000",
          "2024-05-17T00:00:00.000000000",
          "2024-05-20T00:00:00.000000000",
          "2024-05-21T00:00:00.000000000",
          "2024-05-22T00:00:00.000000000",
          "2024-05-23T00:00:00.000000000",
          "2024-05-24T00:00:00.000000000",
          "2024-05-28T00:00:00.000000000",
          "2024-05-29T00:00:00.000000000",
          "2024-05-30T00:00:00.000000000",
          "2024-05-31T00:00:00.000000000",
          "2024-06-03T00:00:00.000000000",
          "2024-06-04T00:00:00.000000000",
          "2024-06-05T00:00:00.000000000",
          "2024-06-06T00:00:00.000000000",
          "2024-06-07T00:00:00.000000000",
          "2024-06-10T00:00:00.000000000",
          "2024-06-11T00:00:00.000000000",
          "2024-06-12T00:00:00.000000000",
          "2024-06-13T00:00:00.000000000",
          "2024-06-14T00:00:00.000000000",
          "2024-06-17T00:00:00.000000000",
          "2024-06-18T00:00:00.000000000",
          "2024-06-20T00:00:00.000000000",
          "2024-06-21T00:00:00.000000000",
          "2024-06-24T00:00:00.000000000",
          "2024-06-25T00:00:00.000000000",
          "2024-06-26T00:00:00.000000000",
          "2024-06-27T00:00:00.000000000",
          "2024-06-28T00:00:00.000000000",
          "2024-07-01T00:00:00.000000000",
          "2024-07-02T00:00:00.000000000",
          "2024-07-03T00:00:00.000000000",
          "2024-07-05T00:00:00.000000000",
          "2024-07-08T00:00:00.000000000",
          "2024-07-09T00:00:00.000000000",
          "2024-07-10T00:00:00.000000000",
          "2024-07-11T00:00:00.000000000",
          "2024-07-12T00:00:00.000000000",
          "2024-07-15T00:00:00.000000000",
          "2024-07-16T00:00:00.000000000",
          "2024-07-17T00:00:00.000000000",
          "2024-07-18T00:00:00.000000000",
          "2024-07-19T00:00:00.000000000",
          "2024-07-22T00:00:00.000000000",
          "2024-07-23T00:00:00.000000000",
          "2024-07-24T00:00:00.000000000",
          "2024-07-25T00:00:00.000000000",
          "2024-07-26T00:00:00.000000000",
          "2024-07-29T00:00:00.000000000",
          "2024-07-30T00:00:00.000000000"
         ],
         "xaxis": "x4",
         "y": {
          "bdata": "Z4xrnYb4FsCzhhB1VkQZwAm3M/nnORrANKGdtUW5GcA99cUQtWQYwBKTexAU6hTAwpmmSR7pEMA2uXxcJusJwLnZC8YobwLA9Rip4tfS9r+7d8UC8kLiv1BDB1QK7b0/Iq4xjxah4z9Pji2+dmftP7kdQkiMffA/x3VqmPcT8T+GChtMvknyP2sMwTXZ3/I/vPAjJ4o28z/j8GX38QD0P2me/ZmRWfQ/InGsJa1T9z+1v0JbOxb6P16F5BNv4fo/f5R7ezq++z8zh4tWkef7P8O6vz5iafs/g++nT7oi+z9qNzBfWcT6P4jcAJF01/k/1MgP/j4r+D+QTO/bfx72P3QWqmn5o/Q/9iXJHtZu8z94apvA6njxPye36+R6m+w/UvAbeVZo6D/cQfz8UFvoP+TX6PSQk+g/Hs5jJW+27T+m95U8WyPyP+wX/XVj0PQ/cGWO5j9K9z/zyALqHln5P6rzgVU9Mvw/UTZEK3PQAED0VwTlJUsEQNDRAQfMFAhA2geqz31WDUDx493WuvMSQGHB3jRj+BhA8O6m/PUDIEANgA0PPrIjQO6q5Lh6iCdABQUtnCI+K0B1LwA0GugtQG7FifLm7y9AOVRVexnEMED4UZaO1GgxQJCvZkIkwTFAeNNDLozdMUDA4DXrhp8xQJRsAVYTVDFApiicCBnlMEBq9jtAYb8vQIZxvRasIy1ASYVMM3k7KkA4c/Ejg58nQA1wMuQg+yRA",
          "dtype": "f8"
         },
         "yaxis": "y4"
        },
        {
         "name": "MACD Diff",
         "type": "bar",
         "x": [
          "2024-04-22T00:00:00.000000000",
          "2024-04-23T00:00:00.000000000",
          "2024-04-24T00:00:00.000000000",
          "2024-04-25T00:00:00.000000000",
          "2024-04-26T00:00:00.000000000",
          "2024-04-29T00:00:00.000000000",
          "2024-04-30T00:00:00.000000000",
          "2024-05-01T00:00:00.000000000",
          "2024-05-02T00:00:00.000000000",
          "2024-05-03T00:00:00.000000000",
          "2024-05-06T00:00:00.000000000",
          "2024-05-07T00:00:00.000000000",
          "2024-05-08T00:00:00.000000000",
          "2024-05-09T00:00:00.000000000",
          "2024-05-10T00:00:00.000000000",
          "2024-05-13T00:00:00.000000000",
          "2024-05-14T00:00:00.000000000",
          "2024-05-15T00:00:00.000000000",
          "2024-05-16T00:00:00.000000000",
          "2024-05-17T00:00:00.000000000",
          "2024-05-20T00:00:00.000000000",
          "2024-05-21T00:00:00.000000000",
          "2024-05-22T00:00:00.000000000",
          "2024-05-23T00:00:00.000000000",
          "2024-05-24T00:00:00.000000000",
          "2024-05-28T00:00:00.000000000",
          "2024-05-29T00:00:00.000000000",
          "2024-05-30T00:00:00.000000000",
          "2024-05-31T00:00:00.000000000",
          "2024-06-03T00:00:00.000000000",
          "2024-06-04T00:00:00.000000000",
          "2024-06-05T00:00:00.000000000",
          "2024-06-06T00:00:00.000000000",
          "2024-06-07T00:00:00.000000000",
          "2024-06-10T00:00:00.000000000",
          "2024-06-11T00:00:00.000000000",
          "2024-06-12T00:00:00.000000000",
          "2024-06-13T00:00:00.000000000",
          "2024-06-14T00:00:00.000000000",
          "2024-06-17T00:00:00.000000000",
          "2024-06-18T00:00:00.000000000",
          "2024-06-20T00:00:00.000000000",
          "2024-06-21T00:00:00.000000000",
          "2024-06-24T00:00:00.000000000",
          "2024-06-25T00:00:00.000000000",
          "2024-06-26T00:00:00.000000000",
          "2024-06-27T00:00:00.000000000",
          "2024-06-28T00:00:00.000000000",
          "2024-07-01T00:00:00.000000000",
          "2024-07-02T00:00:00.000000000",
          "2024-07-03T00:00:00.000000000",
          "2024-07-05T00:00:00.000000000",
          "2024-07-08T00:00:00.000000000",
          "2024-07-09T00:00:00.000000000",
          "2024-07-10T00:00:00.000000000",
          "2024-07-11T00:00:00.000000000",
          "2024-07-12T00:00:00.000000000",
          "2024-07-15T00:00:00.000000000",
          "2024-07-16T00:00:00.000000000",
          "2024-07-17T00:00:00.000000000",
          "2024-07-18T00:00:00.000000000",
          "2024-07-19T00:00:00.000000000",
          "2024-07-22T00:00:00.000000000",
          "2024-07-23T00:00:00.000000000",
          "2024-07-24T00:00:00.000000000",
          "2024-07-25T00:00:00.000000000",
          "2024-07-26T00:00:00.000000000",
          "2024-07-29T00:00:00.000000000",
          "2024-07-30T00:00:00.000000000"
         ],
         "xaxis": "x4",
         "y": {
          "bdata": "8rJyh47yAsBa0ie9fl4CwLgKZoQwsu6/oLrCckgU4D90v3pNCkn1P2QRUwII1QtAQuVTG9cDEEA26UHbWJwPQPl9w1n27w1A+jTdUvMWDEAvuozCvWILQCZgRk2TAAZAb4thierG/z9YwPddwIzzPxxptZIOndw/yAELBWrNwj/oSwk7a1zTP6g8wDRdw8I/QBS5WDystT/oBEAI+kzJP3Bh66XoJ7Y/vJV2XdzQ5z+WdLKscRTmPxC1OBR3Zsk/COTh8myZyz+gWfmHbaukPzAc8/LFi7+/MNDyxfupsb+gBu4dPJi3v0Bc68WZnM2/UDsRL1nD2r8g4gMR+WXgv9BhUyRnqNe/2AcPrjRS07/gt9vitV7fvyd3LHFqWem/Uhs/r5HM4L8A7lw/+Ap6v4ADS/b7H5w/4tjrwXiL5D+0hCBPHUHqPygCOctBaOU/IGyKhOPO4z8aHKMb+HbgP6xV+VvzyOY/3uMZBKS69T8YDQHOldX7P+DO6w8xTf4/JtigIscGBUAPgCO87yERQL91A3ihEhhAAHK8ESM+HEDmiDSTQHIdQARXuU7lsR5AttBCGj+tHUB2U5m+vE8VQMSvTPRlPhBAODAOQsCECUDAtx9oYpcEQABmF/TsE/Y/AOgj3etn3D8AXPmGoQLvv0ALHU3l3PK/YPtQWZO++78U1+KHhlYQwCwn9Eup3RTA8mGHG5dBF8CQkNh6sN8UwFoZ+P0RIxXA",
          "dtype": "f8"
         },
         "yaxis": "y4"
        }
       ],
       "layout": {
        "height": 1000,
        "shapes": [
         {
          "line": {
           "color": "red",
           "dash": "dash"
          },
          "type": "line",
          "x0": 0,
          "x1": 1,
          "xref": "x3 domain",
          "y0": 70,
          "y1": 70,
          "yref": "y3"
         },
         {
          "line": {
           "color": "green",
           "dash": "dash"
          },
          "type": "line",
          "x0": 0,
          "x1": 1,
          "xref": "x3 domain",
          "y0": 30,
          "y1": 30,
          "yref": "y3"
         }
        ],
        "template": {
         "data": {
          "bar": [
           {
            "error_x": {
             "color": "#2a3f5f"
            },
            "error_y": {
             "color": "#2a3f5f"
            },
            "marker": {
             "line": {
              "color": "#E5ECF6",
              "width": 0.5
             },
             "pattern": {
              "fillmode": "overlay",
              "size": 10,
              "solidity": 0.2
             }
            },
            "type": "bar"
           }
          ],
          "barpolar": [
           {
            "marker": {
             "line": {
              "color": "#E5ECF6",
              "width": 0.5
             },
             "pattern": {
              "fillmode": "overlay",
              "size": 10,
              "solidity": 0.2
             }
            },
            "type": "barpolar"
           }
          ],
          "carpet": [
           {
            "aaxis": {
             "endlinecolor": "#2a3f5f",
             "gridcolor": "white",
             "linecolor": "white",
             "minorgridcolor": "white",
             "startlinecolor": "#2a3f5f"
            },
            "baxis": {
             "endlinecolor": "#2a3f5f",
             "gridcolor": "white",
             "linecolor": "white",
             "minorgridcolor": "white",
             "startlinecolor": "#2a3f5f"
            },
            "type": "carpet"
           }
          ],
          "choropleth": [
           {
            "colorbar": {
             "outlinewidth": 0,
             "ticks": ""
            },
            "type": "choropleth"
           }
          ],
          "contour": [
           {
            "colorbar": {
             "outlinewidth": 0,
             "ticks": ""
            },
            "colorscale": [
             [
              0,
              "#0d0887"
             ],
             [
              0.1111111111111111,
              "#46039f"
             ],
             [
              0.2222222222222222,
              "#7201a8"
             ],
             [
              0.3333333333333333,
              "#9c179e"
             ],
             [
              0.4444444444444444,
              "#bd3786"
             ],
             [
              0.5555555555555556,
              "#d8576b"
             ],
             [
              0.6666666666666666,
              "#ed7953"
             ],
             [
              0.7777777777777778,
              "#fb9f3a"
             ],
             [
              0.8888888888888888,
              "#fdca26"
             ],
             [
              1,
              "#f0f921"
             ]
            ],
            "type": "contour"
           }
          ],
          "contourcarpet": [
           {
            "colorbar": {
             "outlinewidth": 0,
             "ticks": ""
            },
            "type": "contourcarpet"
           }
          ],
          "heatmap": [
           {
            "colorbar": {
             "outlinewidth": 0,
             "ticks": ""
            },
            "colorscale": [
             [
              0,
              "#0d0887"
             ],
             [
              0.1111111111111111,
              "#46039f"
             ],
             [
              0.2222222222222222,
              "#7201a8"
             ],
             [
              0.3333333333333333,
              "#9c179e"
             ],
             [
              0.4444444444444444,
              "#bd3786"
             ],
             [
              0.5555555555555556,
              "#d8576b"
             ],
             [
              0.6666666666666666,
              "#ed7953"
             ],
             [
              0.7777777777777778,
              "#fb9f3a"
             ],
             [
              0.8888888888888888,
              "#fdca26"
             ],
             [
              1,
              "#f0f921"
             ]
            ],
            "type": "heatmap"
           }
          ],
          "histogram": [
           {
            "marker": {
             "pattern": {
              "fillmode": "overlay",
              "size": 10,
              "solidity": 0.2
             }
            },
            "type": "histogram"
           }
          ],
          "histogram2d": [
           {
            "colorbar": {
             "outlinewidth": 0,
             "ticks": ""
            },
            "colorscale": [
             [
              0,
              "#0d0887"
             ],
             [
              0.1111111111111111,
              "#46039f"
             ],
             [
              0.2222222222222222,
              "#7201a8"
             ],
             [
              0.3333333333333333,
              "#9c179e"
             ],
             [
              0.4444444444444444,
              "#bd3786"
             ],
             [
              0.5555555555555556,
              "#d8576b"
             ],
             [
              0.6666666666666666,
              "#ed7953"
             ],
             [
              0.7777777777777778,
              "#fb9f3a"
             ],
             [
              0.8888888888888888,
              "#fdca26"
             ],
             [
              1,
              "#f0f921"
             ]
            ],
            "type": "histogram2d"
           }
          ],
          "histogram2dcontour": [
           {
            "colorbar": {
             "outlinewidth": 0,
             "ticks": ""
            },
            "colorscale": [
             [
              0,
              "#0d0887"
             ],
             [
              0.1111111111111111,
              "#46039f"
             ],
             [
              0.2222222222222222,
              "#7201a8"
             ],
             [
              0.3333333333333333,
              "#9c179e"
             ],
             [
              0.4444444444444444,
              "#bd3786"
             ],
             [
              0.5555555555555556,
              "#d8576b"
             ],
             [
              0.6666666666666666,
              "#ed7953"
             ],
             [
              0.7777777777777778,
              "#fb9f3a"
             ],
             [
              0.8888888888888888,
              "#fdca26"
             ],
             [
              1,
              "#f0f921"
             ]
            ],
            "type": "histogram2dcontour"
           }
          ],
          "mesh3d": [
           {
            "colorbar": {
             "outlinewidth": 0,
             "ticks": ""
            },
            "type": "mesh3d"
           }
          ],
          "parcoords": [
           {
            "line": {
             "colorbar": {
              "outlinewidth": 0,
              "ticks": ""
             }
            },
            "type": "parcoords"
           }
          ],
          "pie": [
           {
            "automargin": true,
            "type": "pie"
           }
          ],
          "scatter": [
           {
            "fillpattern": {
             "fillmode": "overlay",
             "size": 10,
             "solidity": 0.2
            },
            "type": "scatter"
           }
          ],
          "scatter3d": [
           {
            "line": {
             "colorbar": {
              "outlinewidth": 0,
              "ticks": ""
             }
            },
            "marker": {
             "colorbar": {
              "outlinewidth": 0,
              "ticks": ""
             }
            },
            "type": "scatter3d"
           }
          ],
          "scattercarpet": [
           {
            "marker": {
             "colorbar": {
              "outlinewidth": 0,
              "ticks": ""
             }
            },
            "type": "scattercarpet"
           }
          ],
          "scattergeo": [
           {
            "marker": {
             "colorbar": {
              "outlinewidth": 0,
              "ticks": ""
             }
            },
            "type": "scattergeo"
           }
          ],
          "scattergl": [
           {
            "marker": {
             "colorbar": {
              "outlinewidth": 0,
              "ticks": ""
             }
            },
            "type": "scattergl"
           }
          ],
          "scattermap": [
           {
            "marker": {
             "colorbar": {
              "outlinewidth": 0,
              "ticks": ""
             }
            },
            "type": "scattermap"
           }
          ],
          "scattermapbox": [
           {
            "marker": {
             "colorbar": {
              "outlinewidth": 0,
              "ticks": ""
             }
            },
            "type": "scattermapbox"
           }
          ],
          "scatterpolar": [
           {
            "marker": {
             "colorbar": {
              "outlinewidth": 0,
              "ticks": ""
             }
            },
            "type": "scatterpolar"
           }
          ],
          "scatterpolargl": [
           {
            "marker": {
             "colorbar": {
              "outlinewidth": 0,
              "ticks": ""
             }
            },
            "type": "scatterpolargl"
           }
          ],
          "scatterternary": [
           {
            "marker": {
             "colorbar": {
              "outlinewidth": 0,
              "ticks": ""
             }
            },
            "type": "scatterternary"
           }
          ],
          "surface": [
           {
            "colorbar": {
             "outlinewidth": 0,
             "ticks": ""
            },
            "colorscale": [
             [
              0,
              "#0d0887"
             ],
             [
              0.1111111111111111,
              "#46039f"
             ],
             [
              0.2222222222222222,
              "#7201a8"
             ],
             [
              0.3333333333333333,
              "#9c179e"
             ],
             [
              0.4444444444444444,
              "#bd3786"
             ],
             [
              0.5555555555555556,
              "#d8576b"
             ],
             [
              0.6666666666666666,
              "#ed7953"
             ],
             [
              0.7777777777777778,
              "#fb9f3a"
             ],
             [
              0.8888888888888888,
              "#fdca26"
             ],
             [
              1,
              "#f0f921"
             ]
            ],
            "type": "surface"
           }
          ],
          "table": [
           {
            "cells": {
             "fill": {
              "color": "#EBF0F8"
             },
             "line": {
              "color": "white"
             }
            },
            "header": {
             "fill": {
              "color": "#C8D4E3"
             },
             "line": {
              "color": "white"
             }
            },
            "type": "table"
           }
          ]
         },
         "layout": {
          "annotationdefaults": {
           "arrowcolor": "#2a3f5f",
           "arrowhead": 0,
           "arrowwidth": 1
          },
          "autotypenumbers": "strict",
          "coloraxis": {
           "colorbar": {
            "outlinewidth": 0,
            "ticks": ""
           }
          },
          "colorscale": {
           "diverging": [
            [
             0,
             "#8e0152"
            ],
            [
             0.1,
             "#c51b7d"
            ],
            [
             0.2,
             "#de77ae"
            ],
            [
             0.3,
             "#f1b6da"
            ],
            [
             0.4,
             "#fde0ef"
            ],
            [
             0.5,
             "#f7f7f7"
            ],
            [
             0.6,
             "#e6f5d0"
            ],
            [
             0.7,
             "#b8e186"
            ],
            [
             0.8,
             "#7fbc41"
            ],
            [
             0.9,
             "#4d9221"
            ],
            [
             1,
             "#276419"
            ]
           ],
           "sequential": [
            [
             0,
             "#0d0887"
            ],
            [
             0.1111111111111111,
             "#46039f"
            ],
            [
             0.2222222222222222,
             "#7201a8"
            ],
            [
             0.3333333333333333,
             "#9c179e"
            ],
            [
             0.4444444444444444,
             "#bd3786"
            ],
            [
             0.5555555555555556,
             "#d8576b"
            ],
            [
             0.6666666666666666,
             "#ed7953"
            ],
            [
             0.7777777777777778,
             "#fb9f3a"
            ],
            [
             0.8888888888888888,
             "#fdca26"
            ],
            [
             1,
             "#f0f921"
            ]
           ],
           "sequentialminus": [
            [
             0,
             "#0d0887"
            ],
            [
             0.1111111111111111,
             "#46039f"
            ],
            [
             0.2222222222222222,
             "#7201a8"
            ],
            [
             0.3333333333333333,
             "#9c179e"
            ],
            [
             0.4444444444444444,
             "#bd3786"
            ],
            [
             0.5555555555555556,
             "#d8576b"
            ],
            [
             0.6666666666666666,
             "#ed7953"
            ],
            [
             0.7777777777777778,
             "#fb9f3a"
            ],
            [
             0.8888888888888888,
             "#fdca26"
            ],
            [
             1,
             "#f0f921"
            ]
           ]
          },
          "colorway": [
           "#636efa",
           "#EF553B",
           "#00cc96",
           "#ab63fa",
           "#FFA15A",
           "#19d3f3",
           "#FF6692",
           "#B6E880",
           "#FF97FF",
           "#FECB52"
          ],
          "font": {
           "color": "#2a3f5f"
          },
          "geo": {
           "bgcolor": "white",
           "lakecolor": "white",
           "landcolor": "#E5ECF6",
           "showlakes": true,
           "showland": true,
           "subunitcolor": "white"
          },
          "hoverlabel": {
           "align": "left"
          },
          "hovermode": "closest",
          "mapbox": {
           "style": "light"
          },
          "paper_bgcolor": "white",
          "plot_bgcolor": "#E5ECF6",
          "polar": {
           "angularaxis": {
            "gridcolor": "white",
            "linecolor": "white",
            "ticks": ""
           },
           "bgcolor": "#E5ECF6",
           "radialaxis": {
            "gridcolor": "white",
            "linecolor": "white",
            "ticks": ""
           }
          },
          "scene": {
           "xaxis": {
            "backgroundcolor": "#E5ECF6",
            "gridcolor": "white",
            "gridwidth": 2,
            "linecolor": "white",
            "showbackground": true,
            "ticks": "",
            "zerolinecolor": "white"
           },
           "yaxis": {
            "backgroundcolor": "#E5ECF6",
            "gridcolor": "white",
            "gridwidth": 2,
            "linecolor": "white",
            "showbackground": true,
            "ticks": "",
            "zerolinecolor": "white"
           },
           "zaxis": {
            "backgroundcolor": "#E5ECF6",
            "gridcolor": "white",
            "gridwidth": 2,
            "linecolor": "white",
            "showbackground": true,
            "ticks": "",
            "zerolinecolor": "white"
           }
          },
          "shapedefaults": {
           "line": {
            "color": "#2a3f5f"
           }
          },
          "ternary": {
           "aaxis": {
            "gridcolor": "white",
            "linecolor": "white",
            "ticks": ""
           },
           "baxis": {
            "gridcolor": "white",
            "linecolor": "white",
            "ticks": ""
           },
           "bgcolor": "#E5ECF6",
           "caxis": {
            "gridcolor": "white",
            "linecolor": "white",
            "ticks": ""
           }
          },
          "title": {
           "x": 0.05
          },
          "xaxis": {
           "automargin": true,
           "gridcolor": "white",
           "linecolor": "white",
           "ticks": "",
           "title": {
            "standoff": 15
           },
           "zerolinecolor": "white",
           "zerolinewidth": 2
          },
          "yaxis": {
           "automargin": true,
           "gridcolor": "white",
           "linecolor": "white",
           "ticks": "",
           "title": {
            "standoff": 15
           },
           "zerolinecolor": "white",
           "zerolinewidth": 2
          }
         }
        },
        "title": {
         "text": "Technical Analysis"
        },
        "xaxis": {
         "anchor": "y",
         "domain": [
          0,
          1
         ],
         "matches": "x4",
         "rangeslider": {
          "visible": false
         },
         "showticklabels": false
        },
        "xaxis2": {
         "anchor": "y2",
         "domain": [
          0,
          1
         ],
         "matches": "x4",
         "showticklabels": false
        },
        "xaxis3": {
         "anchor": "y3",
         "domain": [
          0,
          1
         ],
         "matches": "x4",
         "showticklabels": false
        },
        "xaxis4": {
         "anchor": "y4",
         "domain": [
          0,
          1
         ]
        },
        "yaxis": {
         "anchor": "x",
         "domain": [
          0.66,
          1
         ],
         "title": {
          "text": "Price"
         }
        },
        "yaxis2": {
         "anchor": "x2",
         "domain": [
          0.44000000000000006,
          0.6100000000000001
         ],
         "title": {
          "text": "Volume"
         }
        },
        "yaxis3": {
         "anchor": "x3",
         "domain": [
          0.22000000000000003,
          0.39
         ],
         "title": {
          "text": "RSI"
         }
        },
        "yaxis4": {
         "anchor": "x4",
         "domain": [
          0,
          0.17
         ],
         "title": {
          "text": "MACD"
         }
        }
       }
      }
     },
     "metadata": {},
     "output_type": "display_data"
    }
   ],
   "source": [
    "# Import required libraries\n",
    "import pandas as pd\n",
    "import plotly.graph_objects as go\n",
    "from plotly.subplots import make_subplots\n",
    "\n",
    "# Create interactive technical analysis plots for each stock\n",
    "for ticker in analyzers:\n",
    "    print(f\"\\nGenerating technical analysis plot for {ticker}...\")\n",
    "    # Plot last 100 days of data for better visibility\n",
    "    end_date = analyzers[ticker].df['Date'].max()\n",
    "    start_date = end_date - pd.Timedelta(days=100)\n",
    "    analyzers[ticker].plot_technical_analysis(\n",
    "        start_date=start_date.strftime('%Y-%m-%d'),\n",
    "        end_date=end_date.strftime('%Y-%m-%d')\n",
    "    )"
   ]
  }
 ],
 "metadata": {
  "kernelspec": {
   "display_name": ".venv",
   "language": "python",
   "name": "python3"
  },
  "language_info": {
   "codemirror_mode": {
    "name": "ipython",
    "version": 3
   },
   "file_extension": ".py",
   "mimetype": "text/x-python",
   "name": "python",
   "nbconvert_exporter": "python",
   "pygments_lexer": "ipython3",
   "version": "3.13.3"
  }
 },
 "nbformat": 4,
 "nbformat_minor": 2
}
