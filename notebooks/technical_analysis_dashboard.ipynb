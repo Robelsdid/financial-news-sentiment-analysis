{
 "cells": [
  {
   "cell_type": "markdown",
   "metadata": {},
   "source": [
    "# Enhanced Technical Analysis Dashboard"
   ]
  },
  {
   "cell_type": "markdown",
   "metadata": {},
   "source": [
    "# Enhanced Technical Analysis Dashboard\n",
    "\n",
    "This notebook provides a comprehensive technical analysis dashboard with:\n",
    "1. Interactive price charts with multiple technical indicators\n",
    "2. Market data and fundamental analysis\n",
    "3. Trading signal analysis\n",
    "4. Comparative analysis across stocks\n",
    "5. Performance metrics and KPIs"
   ]
  },
  {
   "cell_type": "code",
   "execution_count": 1,
   "metadata": {},
   "outputs": [],
   "source": [
    "# Import required libraries\n",
    "import sys\n",
    "import os\n",
    "import pandas as pd\n",
    "import numpy as np\n",
    "import plotly.graph_objects as go\n",
    "from plotly.subplots import make_subplots\n",
    "import plotly.express as px\n",
    "from datetime import datetime, timedelta\n",
    "\n",
    "# Add src directory to path\n",
    "sys.path.append(os.path.abspath('..'))\n",
    "from src.stock_data_loader import load_stock_data\n",
    "from src.ta_analysis import TechnicalAnalyzer\n",
    "\n",
    "# Set plotly template\n",
    "import plotly.io as pio\n",
    "pio.templates.default = \"plotly_white\""
   ]
  },
  {
   "cell_type": "markdown",
   "metadata": {},
   "source": [
    "## 1. Load and Prepare Data"
   ]
  },
  {
   "cell_type": "code",
   "execution_count": 2,
   "metadata": {},
   "outputs": [
    {
     "name": "stdout",
     "output_type": "stream",
     "text": [
      "Loaded AAPL data: 10998 rows from 1980-12-12 00:00:00 to 2024-07-30 00:00:00\n",
      "Loaded AMZN data: 6846 rows from 1997-05-15 00:00:00 to 2024-07-30 00:00:00\n",
      "Loaded GOOG data: 5020 rows from 2004-08-19 00:00:00 to 2024-07-30 00:00:00\n",
      "Loaded META data: 2926 rows from 2012-12-12 00:00:00 to 2024-07-30 00:00:00\n",
      "Loaded MSFT data: 9672 rows from 1986-03-13 00:00:00 to 2024-07-30 00:00:00\n",
      "Loaded NVDA data: 6421 rows from 1999-01-22 00:00:00 to 2024-07-30 00:00:00\n",
      "Loaded TSLA data: 3545 rows from 2010-06-29 00:00:00 to 2024-07-30 00:00:00\n",
      "\n",
      "Initializing analyzer for AAPL...\n",
      "\n",
      "Initializing analyzer for AMZN...\n",
      "\n",
      "Initializing analyzer for GOOG...\n",
      "\n",
      "Initializing analyzer for META...\n",
      "\n",
      "Initializing analyzer for MSFT...\n",
      "\n",
      "Initializing analyzer for NVDA...\n",
      "\n",
      "Initializing analyzer for TSLA...\n",
      "\n",
      "Data Summary:\n",
      "\n",
      "AAPL:\n",
      "Date Range: 1981-09-28 00:00:00 to 2024-07-30 00:00:00\n",
      "Number of trading days: 10799\n",
      "\n",
      "AMZN:\n",
      "Date Range: 1998-03-02 00:00:00 to 2024-07-30 00:00:00\n",
      "Number of trading days: 6647\n",
      "\n",
      "GOOG:\n",
      "Date Range: 2005-06-03 00:00:00 to 2024-07-30 00:00:00\n",
      "Number of trading days: 4821\n",
      "\n",
      "META:\n",
      "Date Range: 2013-09-27 00:00:00 to 2024-07-30 00:00:00\n",
      "Number of trading days: 2727\n",
      "\n",
      "MSFT:\n",
      "Date Range: 1986-12-24 00:00:00 to 2024-07-30 00:00:00\n",
      "Number of trading days: 9473\n",
      "\n",
      "NVDA:\n",
      "Date Range: 1999-11-04 00:00:00 to 2024-07-30 00:00:00\n",
      "Number of trading days: 6222\n",
      "\n",
      "TSLA:\n",
      "Date Range: 2011-04-12 00:00:00 to 2024-07-30 00:00:00\n",
      "Number of trading days: 3346\n"
     ]
    }
   ],
   "source": [
    "# Load stock data\n",
    "tickers = [\"AAPL\", \"AMZN\", \"GOOG\", \"META\", \"MSFT\", \"NVDA\", \"TSLA\"]\n",
    "stock_data = load_stock_data(tickers, data_dir=\"../data\")\n",
    "\n",
    "# Initialize technical analyzers\n",
    "analyzers = {}\n",
    "for ticker in stock_data:\n",
    "    print(f\"\\nInitializing analyzer for {ticker}...\")\n",
    "    df_with_date = stock_data[ticker].reset_index()\n",
    "    analyzers[ticker] = TechnicalAnalyzer(df_with_date, symbol=ticker)\n",
    "    \n",
    "# Print data summary\n",
    "print(\"\\nData Summary:\")\n",
    "for ticker in analyzers:\n",
    "    print(f\"\\n{ticker}:\")\n",
    "    print(f\"Date Range: {analyzers[ticker].df['Date'].min()} to {analyzers[ticker].df['Date'].max()}\")\n",
    "    print(f\"Number of trading days: {len(analyzers[ticker].df)}\")"
   ]
  },
  {
   "cell_type": "markdown",
   "metadata": {},
   "source": [
    "## 2. Interactive Dashboard"
   ]
  },
  {
   "cell_type": "code",
   "execution_count": 3,
   "metadata": {},
   "outputs": [
    {
     "name": "stdout",
     "output_type": "stream",
     "text": [
      "\n",
      "Generating dashboard for AAPL...\n"
     ]
    },
    {
     "data": {
      "application/vnd.plotly.v1+json": {
       "config": {
        "plotlyServerURL": "https://plot.ly"
       },
       "data": [
        {
         "close": {
          "bdata": "AAAAQOG6ZEAAAADAzNxkQAAAAOCjIGVAAAAA4Ho8ZUAAAACgmSllQAAAAAAAsGVAAAAAYI9KZUAAAACgmSllQAAAAMD1oGVAAAAAACnsZkAAAABguLZmQAEAAMDMzGZAAQAAIK7XZkAAAACAPRJnQAAAAKCZ4WZAAAAAwPVIZ0AAAACAwm1nQAAAAEAKt2dAAQAAQOG6Z0AAAAAA17tnQAAAAKBH4WdA////PzMLaEABAADAzNxnQAAAAAApXGdA////H1y/Z0ABAAAgrr9nQAAAAKBHyWdAAAAAoEfpZ0AAAAAAAAhoQAAAAMD1QGhA////PzNLaEAAAAAA13toQP///x9cT2hAAAAA4HqcaEAAAAAA1yNoQAEAAMDM5GlAAAAAgD2iakABAAAgrsdqQAEAACCuj2pAAAAAoHAVa0AAAACgR8lqQAAAAIDCNWpAAQAAIK7vaUAAAADgegRqQAAAAIA9ImpAAAAAAACoakD///8/M8NqQAAAAADXU2pAAAAAAAAYa0D////fo4hrQAAAAKCZsWtAAQAAQOFKbEAAAACAPXpsQAAAAIDClWxA////H1wfbUAAAACAPXJsQAAAAKBH0WxAAQAAwMxMbUAAAACAPVptQAAAAAApnGxAAAAAgMIFbED///9/6wlsQAAAAGC4/mtAAQAA4FEgbEAAAACgR1FrQAEAACCuL2tAAAAAYLg+a0ABAAAgrkdrQAAAAKCZWWtA",
          "dtype": "f8"
         },
         "high": {
          "bdata": "AAAA4FHoZEAAAACgmeFkQAAAAKCZKWVAAAAAIIVTZUAAAABA4WplQAAAAMD1AGZAAAAAIK7fZUAAAABguJZlQAAAAKBwrWVAAAAAAABgZ0AAAABgZgZnQAEAAMDMHGdAAAAAgD3iZkD///+/HhVnQAEAAEDhImdA////PzNjZ0AAAACgmYlnQAEAAMDM1GdA////PzPjZ0D///9/69lnQAAAAKBw/WdA////H1wXaEAAAACAPRpoQAAAAAAA4GdAAAAAYI/SZ0AAAAAAACBoQAAAAAAACGhAAAAAgMIFaEAAAACAPRJoQAEAACCuX2hAAAAAgD1qaEABAADAzJxoQAAAAAAAkGhAAAAAgBSeaEAAAACgmaloQP///78e5WlAAAAAYGaGa0AAAAAAABhrQAAAAKBw5WpAAAAAYGZea0AAAAAAKVRrQAEAACCux2pAAAAA4Hp8akAAAABgZpZqQAAAAAApbGpAAQAAIIXbakABAAAgrvdqQAAAAIA9AmtAAQAA4FEwa0AAAAAAKYxrQAAAAKCZsWtAAAAAYGZObED///8/M3tsQAEAAMDMrGxAAAAAYI8ibUAAAADgegxtQAAAAOB6FG1A////H1ynbUD////fo4htQAAAAGC47mxAAAAAgBTObEAAAACgmVlsQAAAAMD1eGxAAAAAgBRebEAAAACgmRlsQP///z8zm2tAAQAAIK5va0AAAACgmWlrQAAAAGCPimtA",
          "dtype": "f8"
         },
         "low": {
          "bdata": "AAAA4KOYZEAAAACgcJ1kQAAAAGC4xmRAAAAAwMwEZUAAAACAwiVlQAAAAEAzo2VAAAAAAABAZUAAAAAghSNlQAAAAOB6XGVA////vx7VZkAAAACgcI1mQAAAAIA9qmZAAAAAYGauZkABAAAghcNmQAAAAAApxGZAAAAAANcTZ0AAAACgR0lnQAAAAADXa2dA////vx61Z0AAAACAwqVnQAEAAOBRoGdAAAAAoHDdZ0D////fo8hnQAAAAAApVGdAAAAAoEeBZ0D///8/M6NnQAEAAOBRsGdAAAAAACnUZ0D///+/Hr1nQP///9+jEGhAAAAAwPUgaEAAAAAA11toQAAAAKBwRWhAAAAA4HpEaEABAADAzARoQAAAAAApNGhAAQAAwMzcaUD///8/M3NqQAAAAKCZaWpAAAAAQAqXakAAAAAAAKBqQP///z8zG2pAAQAAIIXjaUABAABA4dJpQAEAACCFE2pAAAAA4HpUakD///8/M4tqQAAAAKCZSWpAAAAAoHB9akD///8/M+NqQAAAAMD1YGtAAQAAwMy0a0AAAAAAAOhrQAAAAADXS2xAAAAAAACobED////fozhsQAAAAIDClWxAAQAAQOEibUAAAABgjwptQAAAAOB6VGxA////36PIa0AAAADA9ehrQAEAAEDh4mtAAAAAgMLVa0AAAAAAKSRrQAAAAADX02pAAQAA4FEAa0AAAAAAAPhqQAAAAADXA2tA",
          "dtype": "f8"
         },
         "name": "OHLC",
         "open": {
          "bdata": "AAAA4KOwZEAAAABAM6tkQAAAAKBH0WRAAAAAwPUwZUAAAAAAKTxlQAAAAADXq2VAAAAAYI+qZUAAAABgjzJlQAAAAOBRkGVAAQAAwMxUZ0D///8/M8tmQAAAAGBm7mZA////PzPbZkD///9/69FmQAEAAMDMHGdAAAAAgBQuZ0ABAADgUXBnQP///78efWdAAAAAQArPZ0ABAADgUbBnQAAAAGCPqmdAAQAAQOHiZ0D////fowhoQP///x9c32dAAAAAgD2aZ0ABAADgUfBnQAEAACCFs2dAAQAA4FHYZ0AAAACAFO5nQAEAAMDMHGhAAAAA4HpUaEABAADAzGxoQAAAAIAUdmhAAQAAwMxUaEABAADAzJxoQAEAAMDMNGhAAAAAANfraUABAAAgrtdqQP///z8zu2pAAAAAANerakABAABA4TJrQAAAAIDCvWpAAAAA4HpMakAAAABACvdpQAEAAMDMJGpAAAAAAABwakAAAACAFNZqQP///9+j+GpAAQAAQOGCakABAADAzARrQAAAAAAAgGtAAQAAwMy0a0ABAABA4WJsQAAAAIDCfWxAAAAAoJmpbEAAAADgeuxsQAAAAKBwnWxA////H1yPbUAAAAAAAGBtQAAAAGBmrmxAAAAAwPXIbEAAAACAPRpsQAEAAOBRYGxAAAAAANcLbEAAAAAAAABsQAAAAIDCXWtAAAAAYGZWa0AAAABguB5rQAAAAIAUZmtA",
          "dtype": "f8"
         },
         "type": "candlestick",
         "x": [
          "2024-04-22T00:00:00.000000000",
          "2024-04-23T00:00:00.000000000",
          "2024-04-24T00:00:00.000000000",
          "2024-04-25T00:00:00.000000000",
          "2024-04-26T00:00:00.000000000",
          "2024-04-29T00:00:00.000000000",
          "2024-04-30T00:00:00.000000000",
          "2024-05-01T00:00:00.000000000",
          "2024-05-02T00:00:00.000000000",
          "2024-05-03T00:00:00.000000000",
          "2024-05-06T00:00:00.000000000",
          "2024-05-07T00:00:00.000000000",
          "2024-05-08T00:00:00.000000000",
          "2024-05-09T00:00:00.000000000",
          "2024-05-10T00:00:00.000000000",
          "2024-05-13T00:00:00.000000000",
          "2024-05-14T00:00:00.000000000",
          "2024-05-15T00:00:00.000000000",
          "2024-05-16T00:00:00.000000000",
          "2024-05-17T00:00:00.000000000",
          "2024-05-20T00:00:00.000000000",
          "2024-05-21T00:00:00.000000000",
          "2024-05-22T00:00:00.000000000",
          "2024-05-23T00:00:00.000000000",
          "2024-05-24T00:00:00.000000000",
          "2024-05-28T00:00:00.000000000",
          "2024-05-29T00:00:00.000000000",
          "2024-05-30T00:00:00.000000000",
          "2024-05-31T00:00:00.000000000",
          "2024-06-03T00:00:00.000000000",
          "2024-06-04T00:00:00.000000000",
          "2024-06-05T00:00:00.000000000",
          "2024-06-06T00:00:00.000000000",
          "2024-06-07T00:00:00.000000000",
          "2024-06-10T00:00:00.000000000",
          "2024-06-11T00:00:00.000000000",
          "2024-06-12T00:00:00.000000000",
          "2024-06-13T00:00:00.000000000",
          "2024-06-14T00:00:00.000000000",
          "2024-06-17T00:00:00.000000000",
          "2024-06-18T00:00:00.000000000",
          "2024-06-20T00:00:00.000000000",
          "2024-06-21T00:00:00.000000000",
          "2024-06-24T00:00:00.000000000",
          "2024-06-25T00:00:00.000000000",
          "2024-06-26T00:00:00.000000000",
          "2024-06-27T00:00:00.000000000",
          "2024-06-28T00:00:00.000000000",
          "2024-07-01T00:00:00.000000000",
          "2024-07-02T00:00:00.000000000",
          "2024-07-03T00:00:00.000000000",
          "2024-07-05T00:00:00.000000000",
          "2024-07-08T00:00:00.000000000",
          "2024-07-09T00:00:00.000000000",
          "2024-07-10T00:00:00.000000000",
          "2024-07-11T00:00:00.000000000",
          "2024-07-12T00:00:00.000000000",
          "2024-07-15T00:00:00.000000000",
          "2024-07-16T00:00:00.000000000",
          "2024-07-17T00:00:00.000000000",
          "2024-07-18T00:00:00.000000000",
          "2024-07-19T00:00:00.000000000",
          "2024-07-22T00:00:00.000000000",
          "2024-07-23T00:00:00.000000000",
          "2024-07-24T00:00:00.000000000",
          "2024-07-25T00:00:00.000000000",
          "2024-07-26T00:00:00.000000000",
          "2024-07-29T00:00:00.000000000",
          "2024-07-30T00:00:00.000000000"
         ],
         "xaxis": "x",
         "yaxis": "y"
        },
        {
         "line": {
          "color": "blue"
         },
         "name": "SMA_20",
         "type": "scatter",
         "x": [
          "2024-04-22T00:00:00.000000000",
          "2024-04-23T00:00:00.000000000",
          "2024-04-24T00:00:00.000000000",
          "2024-04-25T00:00:00.000000000",
          "2024-04-26T00:00:00.000000000",
          "2024-04-29T00:00:00.000000000",
          "2024-04-30T00:00:00.000000000",
          "2024-05-01T00:00:00.000000000",
          "2024-05-02T00:00:00.000000000",
          "2024-05-03T00:00:00.000000000",
          "2024-05-06T00:00:00.000000000",
          "2024-05-07T00:00:00.000000000",
          "2024-05-08T00:00:00.000000000",
          "2024-05-09T00:00:00.000000000",
          "2024-05-10T00:00:00.000000000",
          "2024-05-13T00:00:00.000000000",
          "2024-05-14T00:00:00.000000000",
          "2024-05-15T00:00:00.000000000",
          "2024-05-16T00:00:00.000000000",
          "2024-05-17T00:00:00.000000000",
          "2024-05-20T00:00:00.000000000",
          "2024-05-21T00:00:00.000000000",
          "2024-05-22T00:00:00.000000000",
          "2024-05-23T00:00:00.000000000",
          "2024-05-24T00:00:00.000000000",
          "2024-05-28T00:00:00.000000000",
          "2024-05-29T00:00:00.000000000",
          "2024-05-30T00:00:00.000000000",
          "2024-05-31T00:00:00.000000000",
          "2024-06-03T00:00:00.000000000",
          "2024-06-04T00:00:00.000000000",
          "2024-06-05T00:00:00.000000000",
          "2024-06-06T00:00:00.000000000",
          "2024-06-07T00:00:00.000000000",
          "2024-06-10T00:00:00.000000000",
          "2024-06-11T00:00:00.000000000",
          "2024-06-12T00:00:00.000000000",
          "2024-06-13T00:00:00.000000000",
          "2024-06-14T00:00:00.000000000",
          "2024-06-17T00:00:00.000000000",
          "2024-06-18T00:00:00.000000000",
          "2024-06-20T00:00:00.000000000",
          "2024-06-21T00:00:00.000000000",
          "2024-06-24T00:00:00.000000000",
          "2024-06-25T00:00:00.000000000",
          "2024-06-26T00:00:00.000000000",
          "2024-06-27T00:00:00.000000000",
          "2024-06-28T00:00:00.000000000",
          "2024-07-01T00:00:00.000000000",
          "2024-07-02T00:00:00.000000000",
          "2024-07-03T00:00:00.000000000",
          "2024-07-05T00:00:00.000000000",
          "2024-07-08T00:00:00.000000000",
          "2024-07-09T00:00:00.000000000",
          "2024-07-10T00:00:00.000000000",
          "2024-07-11T00:00:00.000000000",
          "2024-07-12T00:00:00.000000000",
          "2024-07-15T00:00:00.000000000",
          "2024-07-16T00:00:00.000000000",
          "2024-07-17T00:00:00.000000000",
          "2024-07-18T00:00:00.000000000",
          "2024-07-19T00:00:00.000000000",
          "2024-07-22T00:00:00.000000000",
          "2024-07-23T00:00:00.000000000",
          "2024-07-24T00:00:00.000000000",
          "2024-07-25T00:00:00.000000000",
          "2024-07-26T00:00:00.000000000",
          "2024-07-29T00:00:00.000000000",
          "2024-07-30T00:00:00.000000000"
         ],
         "xaxis": "x",
         "y": {
          "bdata": "MzMzA1Y8ZUBmZmYWBDZlQGZmZnbpNGVAmpmZoXAvZUDNzMy08ytlQM3MzASBMWVAMzMzU+MzZUAAAAD4UzNlQJqZmWEQOmVAzczM3CRQZUCamZkpXGVlQGZmZl66eWVAzczM/KmRZUAzMzN76aBlQJqZmeFPq2VAAAAAWA7BZUBmZmae791lQJqZmSGwAGZAMzMzAyslZkAzMzPD9UxmQGZmZq5HdWZAmpmZAQCeZkDNzMwMAsFmQAAAACgx3GZAZmZmrkf9ZkDNzMz8qRdnQJqZmZmZN2dAMzMzs8haZ0BmZmY2iXlnQDMzM3OTimdAMzMzy8yeZ0AzMzMbWrRnQGZmZs4ix2dAMzMzE9naZ0BmZma+9epnQAAAABhaDGhAZmZmPmA1aEAzMzOjm1xoQM3MzBTZgGhAzczMXLqraEAAAACQ7dBoQM3MzOyn7GhAmpmZMTMHaUCamZlJNylpQGZmZo7CR2lAmpmZ2flsaUBmZmZuEpNpQAAAAAAAsmlAMzMzMzPZaUAzMzMbLwNqQJqZmTm0LmpAzczMvHRfakBmZmbOzJRqQM3MzPypx2pAzczMpHAHa0BmZmauHChrQDMzM2MQRGtAMzMz61Fka0CamZlJDIhrQJqZmYGVm2tAMzMzc2ira0BmZmbm0MJrQDMzMwMr3WtAZmZm9ij4a0BmZmbeTwdsQDMzM5MYDmxAmpmZoUUUbECamZnJdiBsQAAAAHi+I2xA",
          "dtype": "f8"
         },
         "yaxis": "y"
        },
        {
         "line": {
          "color": "orange"
         },
         "name": "SMA_50",
         "type": "scatter",
         "x": [
          "2024-04-22T00:00:00.000000000",
          "2024-04-23T00:00:00.000000000",
          "2024-04-24T00:00:00.000000000",
          "2024-04-25T00:00:00.000000000",
          "2024-04-26T00:00:00.000000000",
          "2024-04-29T00:00:00.000000000",
          "2024-04-30T00:00:00.000000000",
          "2024-05-01T00:00:00.000000000",
          "2024-05-02T00:00:00.000000000",
          "2024-05-03T00:00:00.000000000",
          "2024-05-06T00:00:00.000000000",
          "2024-05-07T00:00:00.000000000",
          "2024-05-08T00:00:00.000000000",
          "2024-05-09T00:00:00.000000000",
          "2024-05-10T00:00:00.000000000",
          "2024-05-13T00:00:00.000000000",
          "2024-05-14T00:00:00.000000000",
          "2024-05-15T00:00:00.000000000",
          "2024-05-16T00:00:00.000000000",
          "2024-05-17T00:00:00.000000000",
          "2024-05-20T00:00:00.000000000",
          "2024-05-21T00:00:00.000000000",
          "2024-05-22T00:00:00.000000000",
          "2024-05-23T00:00:00.000000000",
          "2024-05-24T00:00:00.000000000",
          "2024-05-28T00:00:00.000000000",
          "2024-05-29T00:00:00.000000000",
          "2024-05-30T00:00:00.000000000",
          "2024-05-31T00:00:00.000000000",
          "2024-06-03T00:00:00.000000000",
          "2024-06-04T00:00:00.000000000",
          "2024-06-05T00:00:00.000000000",
          "2024-06-06T00:00:00.000000000",
          "2024-06-07T00:00:00.000000000",
          "2024-06-10T00:00:00.000000000",
          "2024-06-11T00:00:00.000000000",
          "2024-06-12T00:00:00.000000000",
          "2024-06-13T00:00:00.000000000",
          "2024-06-14T00:00:00.000000000",
          "2024-06-17T00:00:00.000000000",
          "2024-06-18T00:00:00.000000000",
          "2024-06-20T00:00:00.000000000",
          "2024-06-21T00:00:00.000000000",
          "2024-06-24T00:00:00.000000000",
          "2024-06-25T00:00:00.000000000",
          "2024-06-26T00:00:00.000000000",
          "2024-06-27T00:00:00.000000000",
          "2024-06-28T00:00:00.000000000",
          "2024-07-01T00:00:00.000000000",
          "2024-07-02T00:00:00.000000000",
          "2024-07-03T00:00:00.000000000",
          "2024-07-05T00:00:00.000000000",
          "2024-07-08T00:00:00.000000000",
          "2024-07-09T00:00:00.000000000",
          "2024-07-10T00:00:00.000000000",
          "2024-07-11T00:00:00.000000000",
          "2024-07-12T00:00:00.000000000",
          "2024-07-15T00:00:00.000000000",
          "2024-07-16T00:00:00.000000000",
          "2024-07-17T00:00:00.000000000",
          "2024-07-18T00:00:00.000000000",
          "2024-07-19T00:00:00.000000000",
          "2024-07-22T00:00:00.000000000",
          "2024-07-23T00:00:00.000000000",
          "2024-07-24T00:00:00.000000000",
          "2024-07-25T00:00:00.000000000",
          "2024-07-26T00:00:00.000000000",
          "2024-07-29T00:00:00.000000000",
          "2024-07-30T00:00:00.000000000"
         ],
         "xaxis": "x",
         "y": {
          "bdata": "Ctej0ADWZUBmZmaG9MdlQLgehRtavGVA7FG47qeyZUCPwvXoJqllQHE9CoeFomVAmpmZudqaZUDD9SgMApNlQI/C9fgPjWVAXI/CxW2MZUAAAAAQ6YtlQI/C9Ti0jGVA7FG4PsaMZUB7FK5Xyo5lQM3MzCxDkGVAuB6Fy3+UZUAK16PwY5xlQEjhejTvqGVAhetR+DG2ZUD2KFxPjcNlQGZmZuaM0GVApHA9KhjdZUB7FK43Z+hlQClcj7J78mVAMzMzs1n9ZUCkcD2adwhmQOF6FG4SE2ZA9ihcb84cZkAfhethfyVmQPYoXP//M2ZAKVyP8h9CZkCPwvU4I1JmQJqZmYn9YWZAKVyP4hRxZkAfheth7n5mQPYoXB+wlmZASOF6xP6yZkBSuB5liM9mQJqZmUl762ZAMzMzg54JZ0AAAADw9CZnQM3MzCyQQGdAMzMzQ/pZZ0DhehReKW9nQB+F63H5g2dAuB6Fy+6dZ0CF61G4jbpnQEjhepTU1WdAFK5HEaX1Z0AUrkeBBBloQIXrUQisPGhA7FG4rrZiaECamZl5WIhoQArXo6D4rWhAUrge9bnWaECamZnJVPloQHsUrpfdH2lAMzMzk4dJaUAAAABAE3FpQIXrUfgxjmlACtejQGCpaUCamZnJMsRpQFyPwkWU3mlAXI/C9XX4aUA9CtejLA9qQGZmZhYmI2pAAAAAILA2akB7FK7X8EhqQGZmZqZ5W2pA",
          "dtype": "f8"
         },
         "yaxis": "y"
        },
        {
         "line": {
          "color": "red"
         },
         "name": "SMA_200",
         "type": "scatter",
         "x": [
          "2024-04-22T00:00:00.000000000",
          "2024-04-23T00:00:00.000000000",
          "2024-04-24T00:00:00.000000000",
          "2024-04-25T00:00:00.000000000",
          "2024-04-26T00:00:00.000000000",
          "2024-04-29T00:00:00.000000000",
          "2024-04-30T00:00:00.000000000",
          "2024-05-01T00:00:00.000000000",
          "2024-05-02T00:00:00.000000000",
          "2024-05-03T00:00:00.000000000",
          "2024-05-06T00:00:00.000000000",
          "2024-05-07T00:00:00.000000000",
          "2024-05-08T00:00:00.000000000",
          "2024-05-09T00:00:00.000000000",
          "2024-05-10T00:00:00.000000000",
          "2024-05-13T00:00:00.000000000",
          "2024-05-14T00:00:00.000000000",
          "2024-05-15T00:00:00.000000000",
          "2024-05-16T00:00:00.000000000",
          "2024-05-17T00:00:00.000000000",
          "2024-05-20T00:00:00.000000000",
          "2024-05-21T00:00:00.000000000",
          "2024-05-22T00:00:00.000000000",
          "2024-05-23T00:00:00.000000000",
          "2024-05-24T00:00:00.000000000",
          "2024-05-28T00:00:00.000000000",
          "2024-05-29T00:00:00.000000000",
          "2024-05-30T00:00:00.000000000",
          "2024-05-31T00:00:00.000000000",
          "2024-06-03T00:00:00.000000000",
          "2024-06-04T00:00:00.000000000",
          "2024-06-05T00:00:00.000000000",
          "2024-06-06T00:00:00.000000000",
          "2024-06-07T00:00:00.000000000",
          "2024-06-10T00:00:00.000000000",
          "2024-06-11T00:00:00.000000000",
          "2024-06-12T00:00:00.000000000",
          "2024-06-13T00:00:00.000000000",
          "2024-06-14T00:00:00.000000000",
          "2024-06-17T00:00:00.000000000",
          "2024-06-18T00:00:00.000000000",
          "2024-06-20T00:00:00.000000000",
          "2024-06-21T00:00:00.000000000",
          "2024-06-24T00:00:00.000000000",
          "2024-06-25T00:00:00.000000000",
          "2024-06-26T00:00:00.000000000",
          "2024-06-27T00:00:00.000000000",
          "2024-06-28T00:00:00.000000000",
          "2024-07-01T00:00:00.000000000",
          "2024-07-02T00:00:00.000000000",
          "2024-07-03T00:00:00.000000000",
          "2024-07-05T00:00:00.000000000",
          "2024-07-08T00:00:00.000000000",
          "2024-07-09T00:00:00.000000000",
          "2024-07-10T00:00:00.000000000",
          "2024-07-11T00:00:00.000000000",
          "2024-07-12T00:00:00.000000000",
          "2024-07-15T00:00:00.000000000",
          "2024-07-16T00:00:00.000000000",
          "2024-07-17T00:00:00.000000000",
          "2024-07-18T00:00:00.000000000",
          "2024-07-19T00:00:00.000000000",
          "2024-07-22T00:00:00.000000000",
          "2024-07-23T00:00:00.000000000",
          "2024-07-24T00:00:00.000000000",
          "2024-07-25T00:00:00.000000000",
          "2024-07-26T00:00:00.000000000",
          "2024-07-29T00:00:00.000000000",
          "2024-07-30T00:00:00.000000000"
         ],
         "xaxis": "x",
         "y": {
          "bdata": "ZmZmNjzCZkBxPQovbr5mQHE9CsdLu2ZAcT0Kt2K4ZkC4HoVDHLVmQKRwPU5ismZAw/UoXCCvZkDsUbgOLatmQLgehS/dp2ZAZmZmIv2lZkBxPQpfKaRmQM3MzJyiomZAZmZmmgihZkBmZmbqlZ9mQEjheuzAnWZAFK5HqaScZkDNzMyYTJtmQHsUru84mmZAzczMmEyZZkCF61GY3ZhmQFK4HkXYmGZAmpmZnYCaZkCuR+EubpxmQOF6FC6QnWZAUrgeGXOfZkAAAABwX6FmQAAAAHBfo2ZAZmZm/kOlZkB7FK4zoqdmQI/C9VxtqmZApHA95q6tZkB7FK6fGrFmQKRwPR4WtGZAhetRZDu3ZkDXo3DpJrlmQMP1KEATvmZAuB6Fu5bDZkB7FK5rCclmQM3MzHSTzWZAmpmZHTjSZkD2KFxHctZmQBSuR32u2WZAcT0KK4fcZkDsUbiWkOBmQFK4Hj2b5WZAzczMtDfrZkDD9SioxvBmQPYoXGdE9mZAuB6F1xL9ZkBmZmbKMgRnQFyPwhGlC2dAH4XrTWITZ0DsUbgaLxtnQMP1KMSxI2dAhetRdCQtZ0CuR+FSljVnQBSuRwFNPmdAAAAAjEpIZ0CkcD32l1JnQArXo2znW2dAMzMzE2FkZ0AzMzMDeGxnQFK4Hum3dGdAzczMNO98Z0BmZmZK6oNnQM3MzLBQimdArkfh5oyQZ0BI4Xoo7ZZnQFK4HpkqnWdA",
          "dtype": "f8"
         },
         "yaxis": "y"
        },
        {
         "marker": {
          "color": "rgba(0,0,255,0.3)"
         },
         "name": "Volume",
         "type": "bar",
         "x": [
          "2024-04-22T00:00:00.000000000",
          "2024-04-23T00:00:00.000000000",
          "2024-04-24T00:00:00.000000000",
          "2024-04-25T00:00:00.000000000",
          "2024-04-26T00:00:00.000000000",
          "2024-04-29T00:00:00.000000000",
          "2024-04-30T00:00:00.000000000",
          "2024-05-01T00:00:00.000000000",
          "2024-05-02T00:00:00.000000000",
          "2024-05-03T00:00:00.000000000",
          "2024-05-06T00:00:00.000000000",
          "2024-05-07T00:00:00.000000000",
          "2024-05-08T00:00:00.000000000",
          "2024-05-09T00:00:00.000000000",
          "2024-05-10T00:00:00.000000000",
          "2024-05-13T00:00:00.000000000",
          "2024-05-14T00:00:00.000000000",
          "2024-05-15T00:00:00.000000000",
          "2024-05-16T00:00:00.000000000",
          "2024-05-17T00:00:00.000000000",
          "2024-05-20T00:00:00.000000000",
          "2024-05-21T00:00:00.000000000",
          "2024-05-22T00:00:00.000000000",
          "2024-05-23T00:00:00.000000000",
          "2024-05-24T00:00:00.000000000",
          "2024-05-28T00:00:00.000000000",
          "2024-05-29T00:00:00.000000000",
          "2024-05-30T00:00:00.000000000",
          "2024-05-31T00:00:00.000000000",
          "2024-06-03T00:00:00.000000000",
          "2024-06-04T00:00:00.000000000",
          "2024-06-05T00:00:00.000000000",
          "2024-06-06T00:00:00.000000000",
          "2024-06-07T00:00:00.000000000",
          "2024-06-10T00:00:00.000000000",
          "2024-06-11T00:00:00.000000000",
          "2024-06-12T00:00:00.000000000",
          "2024-06-13T00:00:00.000000000",
          "2024-06-14T00:00:00.000000000",
          "2024-06-17T00:00:00.000000000",
          "2024-06-18T00:00:00.000000000",
          "2024-06-20T00:00:00.000000000",
          "2024-06-21T00:00:00.000000000",
          "2024-06-24T00:00:00.000000000",
          "2024-06-25T00:00:00.000000000",
          "2024-06-26T00:00:00.000000000",
          "2024-06-27T00:00:00.000000000",
          "2024-06-28T00:00:00.000000000",
          "2024-07-01T00:00:00.000000000",
          "2024-07-02T00:00:00.000000000",
          "2024-07-03T00:00:00.000000000",
          "2024-07-05T00:00:00.000000000",
          "2024-07-08T00:00:00.000000000",
          "2024-07-09T00:00:00.000000000",
          "2024-07-10T00:00:00.000000000",
          "2024-07-11T00:00:00.000000000",
          "2024-07-12T00:00:00.000000000",
          "2024-07-15T00:00:00.000000000",
          "2024-07-16T00:00:00.000000000",
          "2024-07-17T00:00:00.000000000",
          "2024-07-18T00:00:00.000000000",
          "2024-07-19T00:00:00.000000000",
          "2024-07-22T00:00:00.000000000",
          "2024-07-23T00:00:00.000000000",
          "2024-07-24T00:00:00.000000000",
          "2024-07-25T00:00:00.000000000",
          "2024-07-26T00:00:00.000000000",
          "2024-07-29T00:00:00.000000000",
          "2024-07-30T00:00:00.000000000"
         ],
         "xaxis": "x2",
         "y": {
          "bdata": "sDLeAgjj8wKYQ+ACXHUDAwAurAK4LhAE0BXuA/zIAAP0mp0FJJq6CeTgrgTIl5sETISvAthr6wJMhwYDAFFLBIB2HwMAODIEkFomA1TtdQJU5qQCGJeFArSxEALMSQoDyM8pAiS7HQPgwCkD/CT6AhzTegT0KvwCKFvUAgBeOgNoYnQCHE0qAxQazAU0NUYKHErPCyxE1QXM/C0ELC6WBYTWwwRU4yIFmBewDtjLzwSsYmEDUFXyA5x49wJsgOsE1KyZA/i2dQPINzoC8NGZA0yUhQNEld0CdJ+7A8hn2wPkbCkDhK27A/yzkwJsB2sDqJvvAwz+7QJIgN8C7L5hAsCmrgPgKhADFMl6AvgSKgIYb3sC",
          "dtype": "i4"
         },
         "yaxis": "y2"
        },
        {
         "line": {
          "color": "purple"
         },
         "name": "VWAP",
         "type": "scatter",
         "x": [
          "2024-04-22T00:00:00.000000000",
          "2024-04-23T00:00:00.000000000",
          "2024-04-24T00:00:00.000000000",
          "2024-04-25T00:00:00.000000000",
          "2024-04-26T00:00:00.000000000",
          "2024-04-29T00:00:00.000000000",
          "2024-04-30T00:00:00.000000000",
          "2024-05-01T00:00:00.000000000",
          "2024-05-02T00:00:00.000000000",
          "2024-05-03T00:00:00.000000000",
          "2024-05-06T00:00:00.000000000",
          "2024-05-07T00:00:00.000000000",
          "2024-05-08T00:00:00.000000000",
          "2024-05-09T00:00:00.000000000",
          "2024-05-10T00:00:00.000000000",
          "2024-05-13T00:00:00.000000000",
          "2024-05-14T00:00:00.000000000",
          "2024-05-15T00:00:00.000000000",
          "2024-05-16T00:00:00.000000000",
          "2024-05-17T00:00:00.000000000",
          "2024-05-20T00:00:00.000000000",
          "2024-05-21T00:00:00.000000000",
          "2024-05-22T00:00:00.000000000",
          "2024-05-23T00:00:00.000000000",
          "2024-05-24T00:00:00.000000000",
          "2024-05-28T00:00:00.000000000",
          "2024-05-29T00:00:00.000000000",
          "2024-05-30T00:00:00.000000000",
          "2024-05-31T00:00:00.000000000",
          "2024-06-03T00:00:00.000000000",
          "2024-06-04T00:00:00.000000000",
          "2024-06-05T00:00:00.000000000",
          "2024-06-06T00:00:00.000000000",
          "2024-06-07T00:00:00.000000000",
          "2024-06-10T00:00:00.000000000",
          "2024-06-11T00:00:00.000000000",
          "2024-06-12T00:00:00.000000000",
          "2024-06-13T00:00:00.000000000",
          "2024-06-14T00:00:00.000000000",
          "2024-06-17T00:00:00.000000000",
          "2024-06-18T00:00:00.000000000",
          "2024-06-20T00:00:00.000000000",
          "2024-06-21T00:00:00.000000000",
          "2024-06-24T00:00:00.000000000",
          "2024-06-25T00:00:00.000000000",
          "2024-06-26T00:00:00.000000000",
          "2024-06-27T00:00:00.000000000",
          "2024-06-28T00:00:00.000000000",
          "2024-07-01T00:00:00.000000000",
          "2024-07-02T00:00:00.000000000",
          "2024-07-03T00:00:00.000000000",
          "2024-07-05T00:00:00.000000000",
          "2024-07-08T00:00:00.000000000",
          "2024-07-09T00:00:00.000000000",
          "2024-07-10T00:00:00.000000000",
          "2024-07-11T00:00:00.000000000",
          "2024-07-12T00:00:00.000000000",
          "2024-07-15T00:00:00.000000000",
          "2024-07-16T00:00:00.000000000",
          "2024-07-17T00:00:00.000000000",
          "2024-07-18T00:00:00.000000000",
          "2024-07-19T00:00:00.000000000",
          "2024-07-22T00:00:00.000000000",
          "2024-07-23T00:00:00.000000000",
          "2024-07-24T00:00:00.000000000",
          "2024-07-25T00:00:00.000000000",
          "2024-07-26T00:00:00.000000000",
          "2024-07-29T00:00:00.000000000",
          "2024-07-30T00:00:00.000000000"
         ],
         "xaxis": "x2",
         "y": {
          "bdata": "PoWpbadMZUBuwze2KkZlQMw1Qz4UQ2VA7GNs0cBCZUCQrocZl0RlQAbLpc0eUGVA68AOJ7pXZUC6YbQVi09lQLpaFECWP2VAviaHfBmHZUD3KlHHfaZlQD67O0gUx2VAlGmL917dZUA7patv7wJmQEtLqVRWIGZA4+8Nm7JHZkB8bBzlsWdmQFCzS7KajmZA5beY5nquZkCnGAU0icpmQGzjyDS87mZAg1ptybYRZ0BIjegWEERnQM363pGkVGdA5lOlqCVpZ0BWQ1YqE4FnQHnIlkL/kmdA3f0+4wSkZ0CC1nKY1rhnQG23XiJozmdAe12bTAreZ0BTcETLG/BnQM1i2xRT+mdAY5twNUQIaEBHY3GGfhNoQJ9EQFY6VGhAx3Q24RLLaEBVYxyOgQhpQJA23OVgLWlAiXpWoCFjaUDmcSgico9pQG4ExINFr2lAWCJwsWfaaUB1tRGKSe1pQPEAv6cy/mlAy8+WwQgUakC3ncgLXSZqQNdLXGslO2pA0gE7fWZkakAPb+6VH5JqQFFwuh//lWpAwU5CXZSmakBlcO40L71qQJO0V7R1y2pAOSXGYj/qakBUlWHQjRBrQIKhIWc/dWtA4V01RIG7a0BD6usTb+xrQJxfQ4wPFWxA2zqG+kQsbECWFkiXK1dsQJgp7QMMcGxAywunTJ2BbEA2oNTo0XhsQKJtq5uWamxAIdL13khcbEDTlM4hSUtsQBP49VFlLWxA",
          "dtype": "f8"
         },
         "yaxis": "y2"
        },
        {
         "line": {
          "color": "blue"
         },
         "name": "RSI",
         "type": "scatter",
         "x": [
          "2024-04-22T00:00:00.000000000",
          "2024-04-23T00:00:00.000000000",
          "2024-04-24T00:00:00.000000000",
          "2024-04-25T00:00:00.000000000",
          "2024-04-26T00:00:00.000000000",
          "2024-04-29T00:00:00.000000000",
          "2024-04-30T00:00:00.000000000",
          "2024-05-01T00:00:00.000000000",
          "2024-05-02T00:00:00.000000000",
          "2024-05-03T00:00:00.000000000",
          "2024-05-06T00:00:00.000000000",
          "2024-05-07T00:00:00.000000000",
          "2024-05-08T00:00:00.000000000",
          "2024-05-09T00:00:00.000000000",
          "2024-05-10T00:00:00.000000000",
          "2024-05-13T00:00:00.000000000",
          "2024-05-14T00:00:00.000000000",
          "2024-05-15T00:00:00.000000000",
          "2024-05-16T00:00:00.000000000",
          "2024-05-17T00:00:00.000000000",
          "2024-05-20T00:00:00.000000000",
          "2024-05-21T00:00:00.000000000",
          "2024-05-22T00:00:00.000000000",
          "2024-05-23T00:00:00.000000000",
          "2024-05-24T00:00:00.000000000",
          "2024-05-28T00:00:00.000000000",
          "2024-05-29T00:00:00.000000000",
          "2024-05-30T00:00:00.000000000",
          "2024-05-31T00:00:00.000000000",
          "2024-06-03T00:00:00.000000000",
          "2024-06-04T00:00:00.000000000",
          "2024-06-05T00:00:00.000000000",
          "2024-06-06T00:00:00.000000000",
          "2024-06-07T00:00:00.000000000",
          "2024-06-10T00:00:00.000000000",
          "2024-06-11T00:00:00.000000000",
          "2024-06-12T00:00:00.000000000",
          "2024-06-13T00:00:00.000000000",
          "2024-06-14T00:00:00.000000000",
          "2024-06-17T00:00:00.000000000",
          "2024-06-18T00:00:00.000000000",
          "2024-06-20T00:00:00.000000000",
          "2024-06-21T00:00:00.000000000",
          "2024-06-24T00:00:00.000000000",
          "2024-06-25T00:00:00.000000000",
          "2024-06-26T00:00:00.000000000",
          "2024-06-27T00:00:00.000000000",
          "2024-06-28T00:00:00.000000000",
          "2024-07-01T00:00:00.000000000",
          "2024-07-02T00:00:00.000000000",
          "2024-07-03T00:00:00.000000000",
          "2024-07-05T00:00:00.000000000",
          "2024-07-08T00:00:00.000000000",
          "2024-07-09T00:00:00.000000000",
          "2024-07-10T00:00:00.000000000",
          "2024-07-11T00:00:00.000000000",
          "2024-07-12T00:00:00.000000000",
          "2024-07-15T00:00:00.000000000",
          "2024-07-16T00:00:00.000000000",
          "2024-07-17T00:00:00.000000000",
          "2024-07-18T00:00:00.000000000",
          "2024-07-19T00:00:00.000000000",
          "2024-07-22T00:00:00.000000000",
          "2024-07-23T00:00:00.000000000",
          "2024-07-24T00:00:00.000000000",
          "2024-07-25T00:00:00.000000000",
          "2024-07-26T00:00:00.000000000",
          "2024-07-29T00:00:00.000000000",
          "2024-07-30T00:00:00.000000000"
         ],
         "xaxis": "x3",
         "y": {
          "bdata": "8z8QfaPiQ0AAsroJoxNFQEHMPMYHWUdAt5rmGds9SEDxX3DafKlHQB4qjL/cvUtAR2uK7bajSEDHKnyiMrZHQPd5QMDuE0tARiebBvK1UECoKVNuVONPQHRMdwwMIFBAWd08Yeo3UEBVuHBy87hQQKK5EEzIz09AM022BevRUEDodP1Moh9RQNqbw8VHtFFAjfh3lwS8UUAgyo0WF75RQO6Y/wclEVJANHjK7+trUkA4saqw7VxRQH4zhyMEpE1AjtRpoSPZT0CPQdP849pPQGVE0axbCVBAEH5SYUNoUEC6mSlNd8JQQCiwbWIfYlFAsCgGDUh+UUABWHageQJSQOrlbiX03VBAmh1Qs3u6UUAj303gixZOQAOVNGTVzVJAIpQKqiu2U0CK9I7lGd9TQIikXCze8lJAbwX2RSuYU0BG1I5aHmRSQKr9kh18TVBAthY3dK7QTkDZHhq5YiVPQMEAB8lUok9Aq7KuR+3WUED9gnTFpwhRQDUMpbfs1E5AbQvzAg7hUEANcuPuZpRRQKVfMM560lFA+SZ6SlGoUkDq2BPl2ORSQJalCTR7CFNA1GknanyvU0Bic3C/SCVRQCaXfRDKs1FAtW9htGJcUkDz1FvGK25SQDjwE3Ioy09AovoLXbp1TECufC3b5YZMQIm2qM6PRUxAL0gJh9PhTEBRfKzuB1hIQDnlnsd2sUdAd9TWLiEHSEAZeA6V8zxIQPIqb3n3rUhA",
          "dtype": "f8"
         },
         "yaxis": "y3"
        },
        {
         "line": {
          "color": "green"
         },
         "name": "Stochastic %K",
         "type": "scatter",
         "x": [
          "2024-04-22T00:00:00.000000000",
          "2024-04-23T00:00:00.000000000",
          "2024-04-24T00:00:00.000000000",
          "2024-04-25T00:00:00.000000000",
          "2024-04-26T00:00:00.000000000",
          "2024-04-29T00:00:00.000000000",
          "2024-04-30T00:00:00.000000000",
          "2024-05-01T00:00:00.000000000",
          "2024-05-02T00:00:00.000000000",
          "2024-05-03T00:00:00.000000000",
          "2024-05-06T00:00:00.000000000",
          "2024-05-07T00:00:00.000000000",
          "2024-05-08T00:00:00.000000000",
          "2024-05-09T00:00:00.000000000",
          "2024-05-10T00:00:00.000000000",
          "2024-05-13T00:00:00.000000000",
          "2024-05-14T00:00:00.000000000",
          "2024-05-15T00:00:00.000000000",
          "2024-05-16T00:00:00.000000000",
          "2024-05-17T00:00:00.000000000",
          "2024-05-20T00:00:00.000000000",
          "2024-05-21T00:00:00.000000000",
          "2024-05-22T00:00:00.000000000",
          "2024-05-23T00:00:00.000000000",
          "2024-05-24T00:00:00.000000000",
          "2024-05-28T00:00:00.000000000",
          "2024-05-29T00:00:00.000000000",
          "2024-05-30T00:00:00.000000000",
          "2024-05-31T00:00:00.000000000",
          "2024-06-03T00:00:00.000000000",
          "2024-06-04T00:00:00.000000000",
          "2024-06-05T00:00:00.000000000",
          "2024-06-06T00:00:00.000000000",
          "2024-06-07T00:00:00.000000000",
          "2024-06-10T00:00:00.000000000",
          "2024-06-11T00:00:00.000000000",
          "2024-06-12T00:00:00.000000000",
          "2024-06-13T00:00:00.000000000",
          "2024-06-14T00:00:00.000000000",
          "2024-06-17T00:00:00.000000000",
          "2024-06-18T00:00:00.000000000",
          "2024-06-20T00:00:00.000000000",
          "2024-06-21T00:00:00.000000000",
          "2024-06-24T00:00:00.000000000",
          "2024-06-25T00:00:00.000000000",
          "2024-06-26T00:00:00.000000000",
          "2024-06-27T00:00:00.000000000",
          "2024-06-28T00:00:00.000000000",
          "2024-07-01T00:00:00.000000000",
          "2024-07-02T00:00:00.000000000",
          "2024-07-03T00:00:00.000000000",
          "2024-07-05T00:00:00.000000000",
          "2024-07-08T00:00:00.000000000",
          "2024-07-09T00:00:00.000000000",
          "2024-07-10T00:00:00.000000000",
          "2024-07-11T00:00:00.000000000",
          "2024-07-12T00:00:00.000000000",
          "2024-07-15T00:00:00.000000000",
          "2024-07-16T00:00:00.000000000",
          "2024-07-17T00:00:00.000000000",
          "2024-07-18T00:00:00.000000000",
          "2024-07-19T00:00:00.000000000",
          "2024-07-22T00:00:00.000000000",
          "2024-07-23T00:00:00.000000000",
          "2024-07-24T00:00:00.000000000",
          "2024-07-25T00:00:00.000000000",
          "2024-07-26T00:00:00.000000000",
          "2024-07-29T00:00:00.000000000",
          "2024-07-30T00:00:00.000000000"
         ],
         "xaxis": "x3",
         "y": {
          "bdata": "n+E+UVimKEDEWtvJcr8zQN1lhYYDTEFAOvKZZddXREA85zI7/kZCQCml3CjZfVBA9tPEyj3iRUA85zI7/kZCQIG62wgk1FFASJ2HWC4NVUAAw58n3TpTQKDOfc2H+1NANyQi/3haVECtYSwmaERWQJXPLc0Sh1RAV6r+7cYEWEB1uVxWq+tXQMAI/9Ct61dAFX7O/EiRV0BnhQUYBJpXQF9z2t8WCVhAGNhb0KWQWEASQtKrBiFVQMLCTZxjDEpAEAtZyHjTUkBReh7sH3xSQOHPapdXx1JAu5oOGDARVUDBGZY9NcNWQEKeFgbKPVZA7RF8bZ01VkBjf81rIX5WQFXzwfDqG1NAzkpQ1PXgWECIQGN/jmlOQBfYQSvh/FhAsP8RWLGwU0Ap95ij7l1UQGNRp6NgzVJA8s4tYd0fVkAnIXUeRR9UQElj4gM4UVBANEmyaRNYS0DoOx6rr4BMQPq4fiYTKU5AunOn2ELOUkAFeaiuM5BTQF0kH1MwdlBA2szz8fzAVUCWwEjB8sxYQAEAAAAAAFlAENMTOo3cWEC5S9cl+PZYQDlOWaT7NVhANUD4pdbnWEDNPS9DyMxTQMOxmCBVmlZADsrlwieHVkD25bEpQsNWQFwd//2YP1FAKqhPvj/FSUB6Akps+3lIQC3P+EShBERATNy4RLZtQEDFc2tPOg8cQEeGADMYYylAG50etGeLLUCYAgChugIwQENq4S7IfDJA",
          "dtype": "f8"
         },
         "yaxis": "y3"
        },
        {
         "line": {
          "color": "red"
         },
         "name": "Stochastic %D",
         "type": "scatter",
         "x": [
          "2024-04-22T00:00:00.000000000",
          "2024-04-23T00:00:00.000000000",
          "2024-04-24T00:00:00.000000000",
          "2024-04-25T00:00:00.000000000",
          "2024-04-26T00:00:00.000000000",
          "2024-04-29T00:00:00.000000000",
          "2024-04-30T00:00:00.000000000",
          "2024-05-01T00:00:00.000000000",
          "2024-05-02T00:00:00.000000000",
          "2024-05-03T00:00:00.000000000",
          "2024-05-06T00:00:00.000000000",
          "2024-05-07T00:00:00.000000000",
          "2024-05-08T00:00:00.000000000",
          "2024-05-09T00:00:00.000000000",
          "2024-05-10T00:00:00.000000000",
          "2024-05-13T00:00:00.000000000",
          "2024-05-14T00:00:00.000000000",
          "2024-05-15T00:00:00.000000000",
          "2024-05-16T00:00:00.000000000",
          "2024-05-17T00:00:00.000000000",
          "2024-05-20T00:00:00.000000000",
          "2024-05-21T00:00:00.000000000",
          "2024-05-22T00:00:00.000000000",
          "2024-05-23T00:00:00.000000000",
          "2024-05-24T00:00:00.000000000",
          "2024-05-28T00:00:00.000000000",
          "2024-05-29T00:00:00.000000000",
          "2024-05-30T00:00:00.000000000",
          "2024-05-31T00:00:00.000000000",
          "2024-06-03T00:00:00.000000000",
          "2024-06-04T00:00:00.000000000",
          "2024-06-05T00:00:00.000000000",
          "2024-06-06T00:00:00.000000000",
          "2024-06-07T00:00:00.000000000",
          "2024-06-10T00:00:00.000000000",
          "2024-06-11T00:00:00.000000000",
          "2024-06-12T00:00:00.000000000",
          "2024-06-13T00:00:00.000000000",
          "2024-06-14T00:00:00.000000000",
          "2024-06-17T00:00:00.000000000",
          "2024-06-18T00:00:00.000000000",
          "2024-06-20T00:00:00.000000000",
          "2024-06-21T00:00:00.000000000",
          "2024-06-24T00:00:00.000000000",
          "2024-06-25T00:00:00.000000000",
          "2024-06-26T00:00:00.000000000",
          "2024-06-27T00:00:00.000000000",
          "2024-06-28T00:00:00.000000000",
          "2024-07-01T00:00:00.000000000",
          "2024-07-02T00:00:00.000000000",
          "2024-07-03T00:00:00.000000000",
          "2024-07-05T00:00:00.000000000",
          "2024-07-08T00:00:00.000000000",
          "2024-07-09T00:00:00.000000000",
          "2024-07-10T00:00:00.000000000",
          "2024-07-11T00:00:00.000000000",
          "2024-07-12T00:00:00.000000000",
          "2024-07-15T00:00:00.000000000",
          "2024-07-16T00:00:00.000000000",
          "2024-07-17T00:00:00.000000000",
          "2024-07-18T00:00:00.000000000",
          "2024-07-19T00:00:00.000000000",
          "2024-07-22T00:00:00.000000000",
          "2024-07-23T00:00:00.000000000",
          "2024-07-24T00:00:00.000000000",
          "2024-07-25T00:00:00.000000000",
          "2024-07-26T00:00:00.000000000",
          "2024-07-29T00:00:00.000000000",
          "2024-07-30T00:00:00.000000000"
         ],
         "xaxis": "x3",
         "y": {
          "bdata": "JQMevSGOHkAZeFs/R60pQG0y1//hODZApQNeiw2tP0AbFca3naNCQENh11At3kdAgKzlx6RhSECArOXHpGFIQLy6j7LWRUlAzUNUKpsBUEDtCAGDul5TQKMPN2+GFlRASOe/pvTaU0CBcZn7It5UQNNxKaamDFVAiJ4dS2tFVkAgEYOwgdJWQNnOyLEK9FdAw2pjYYvNV0AUBPGhU7JXQPR8j1EhvFdA9Zq+QkARWECDhK0eQT5XQNlTHG6fklNAgQ/GwOWoUUCWd9+AQ8dQQMBxSxlQslJAT0zdM41xU0AfLAVPlN5UQOtwPskPBlZA++1ikIlnVkDcDyD1glBWQIyBrpg4RVVALT/1ugApVkB3n5YBOLtTQLjra2rfsFVAWX2s6x32U0Cl705igK5VQBQYxt+qnlNAf7IkOGRuVEApa8MLgVlUQCBxLIFzhVNAr41l8iy0UECQbtxeZn5NQAhqGmlHq0xAuaR8wLYLUEC/bdoIANFRQF+wz0jiRlJAFM6TpnVCU0CZkB4CYAFVQCUvFJH62VdA49seqSrjWECZX051LPFYQADPFqzVrVhADZ4N0JixWEC/7iov3vhWQJe66q2mb1ZA4D2Pt8GkVUDtdWUElaFWQMuZh6Or2FRAePLyrNOhUUAf94e3eT9MQEXTMCX0a0dAUY/+UcZORED3uxSN1KI6QOTy7ryXhTFAbPRGWrT8JkDbYgpj/PssQCPp+o1nbDBA",
          "dtype": "f8"
         },
         "yaxis": "y3"
        },
        {
         "line": {
          "color": "blue"
         },
         "name": "MACD",
         "type": "scatter",
         "x": [
          "2024-04-22T00:00:00.000000000",
          "2024-04-23T00:00:00.000000000",
          "2024-04-24T00:00:00.000000000",
          "2024-04-25T00:00:00.000000000",
          "2024-04-26T00:00:00.000000000",
          "2024-04-29T00:00:00.000000000",
          "2024-04-30T00:00:00.000000000",
          "2024-05-01T00:00:00.000000000",
          "2024-05-02T00:00:00.000000000",
          "2024-05-03T00:00:00.000000000",
          "2024-05-06T00:00:00.000000000",
          "2024-05-07T00:00:00.000000000",
          "2024-05-08T00:00:00.000000000",
          "2024-05-09T00:00:00.000000000",
          "2024-05-10T00:00:00.000000000",
          "2024-05-13T00:00:00.000000000",
          "2024-05-14T00:00:00.000000000",
          "2024-05-15T00:00:00.000000000",
          "2024-05-16T00:00:00.000000000",
          "2024-05-17T00:00:00.000000000",
          "2024-05-20T00:00:00.000000000",
          "2024-05-21T00:00:00.000000000",
          "2024-05-22T00:00:00.000000000",
          "2024-05-23T00:00:00.000000000",
          "2024-05-24T00:00:00.000000000",
          "2024-05-28T00:00:00.000000000",
          "2024-05-29T00:00:00.000000000",
          "2024-05-30T00:00:00.000000000",
          "2024-05-31T00:00:00.000000000",
          "2024-06-03T00:00:00.000000000",
          "2024-06-04T00:00:00.000000000",
          "2024-06-05T00:00:00.000000000",
          "2024-06-06T00:00:00.000000000",
          "2024-06-07T00:00:00.000000000",
          "2024-06-10T00:00:00.000000000",
          "2024-06-11T00:00:00.000000000",
          "2024-06-12T00:00:00.000000000",
          "2024-06-13T00:00:00.000000000",
          "2024-06-14T00:00:00.000000000",
          "2024-06-17T00:00:00.000000000",
          "2024-06-18T00:00:00.000000000",
          "2024-06-20T00:00:00.000000000",
          "2024-06-21T00:00:00.000000000",
          "2024-06-24T00:00:00.000000000",
          "2024-06-25T00:00:00.000000000",
          "2024-06-26T00:00:00.000000000",
          "2024-06-27T00:00:00.000000000",
          "2024-06-28T00:00:00.000000000",
          "2024-07-01T00:00:00.000000000",
          "2024-07-02T00:00:00.000000000",
          "2024-07-03T00:00:00.000000000",
          "2024-07-05T00:00:00.000000000",
          "2024-07-08T00:00:00.000000000",
          "2024-07-09T00:00:00.000000000",
          "2024-07-10T00:00:00.000000000",
          "2024-07-11T00:00:00.000000000",
          "2024-07-12T00:00:00.000000000",
          "2024-07-15T00:00:00.000000000",
          "2024-07-16T00:00:00.000000000",
          "2024-07-17T00:00:00.000000000",
          "2024-07-18T00:00:00.000000000",
          "2024-07-19T00:00:00.000000000",
          "2024-07-22T00:00:00.000000000",
          "2024-07-23T00:00:00.000000000",
          "2024-07-24T00:00:00.000000000",
          "2024-07-25T00:00:00.000000000",
          "2024-07-26T00:00:00.000000000",
          "2024-07-29T00:00:00.000000000",
          "2024-07-30T00:00:00.000000000"
         ],
         "xaxis": "x4",
         "y": {
          "bdata": "gBiZxKI9AMBADS22rlQAwIBHYGJ8uf2/AO3i1mv5+b+AkHd2PH73vwDJHGZs1++/AO0V6Ya0678A7814LcfqvwDqMqSSOeC/APet/Q6m4j+Aq7zDc7/0PwCbe5aWV/4/AAs8pD75AkDAxC8riucGQIBVxW3MwAhAQPtT4hD7C0BAtYedrOwOQMCpxwKCKxFAoFvjM7tZEkAgBjtbbhMTQICmVwzYzBNAYFUmOFuPFEBgWR8AU3UUQACjomTd3BJAQDUOcgtjEkDgtYkZx84RQOBn+tAqPxFAYORf8gXuEEAAmDFcessQQOBrt1jREBFAYKvpPH8vEUCgvlA8j5ERQEC5kiyXORFAgFCNQEiHEUAgKl1KDl0QQCDh5ia6vRNA4DKDcSsNGEBgIeyhGIcbQKBztV0SYR1AQC2nxyjUH0AAR98bGVAgQICRYAxMaB9AwB36ZmllHUAgee7/WLEbQMDWKoThVhpAgBW0RApQGkBgE7PCWUMaQKCKGOCE0BhA4JmQ0VNaGUDgSIvM3psaQAASI9S4shtAoEit+qrDHUBAJTm/JYQfQND3upbpZiBAEJOVyNVnIUCAu64fYyEhQLAlNWeFMSFA8B3bMqipIUDA/tIPaOUhQHBEGFBm7SBAYE2tV31zHkDgx0Mqn3obQGAjy3W+uRhAoBwHHSCfFkAABNVmn6YSQADSSE4S/A1AwFVuUMs1CEDA54PBtpYDQMCIRNYjGgBA",
          "dtype": "f8"
         },
         "yaxis": "y4"
        },
        {
         "line": {
          "color": "red"
         },
         "name": "Signal",
         "type": "scatter",
         "x": [
          "2024-04-22T00:00:00.000000000",
          "2024-04-23T00:00:00.000000000",
          "2024-04-24T00:00:00.000000000",
          "2024-04-25T00:00:00.000000000",
          "2024-04-26T00:00:00.000000000",
          "2024-04-29T00:00:00.000000000",
          "2024-04-30T00:00:00.000000000",
          "2024-05-01T00:00:00.000000000",
          "2024-05-02T00:00:00.000000000",
          "2024-05-03T00:00:00.000000000",
          "2024-05-06T00:00:00.000000000",
          "2024-05-07T00:00:00.000000000",
          "2024-05-08T00:00:00.000000000",
          "2024-05-09T00:00:00.000000000",
          "2024-05-10T00:00:00.000000000",
          "2024-05-13T00:00:00.000000000",
          "2024-05-14T00:00:00.000000000",
          "2024-05-15T00:00:00.000000000",
          "2024-05-16T00:00:00.000000000",
          "2024-05-17T00:00:00.000000000",
          "2024-05-20T00:00:00.000000000",
          "2024-05-21T00:00:00.000000000",
          "2024-05-22T00:00:00.000000000",
          "2024-05-23T00:00:00.000000000",
          "2024-05-24T00:00:00.000000000",
          "2024-05-28T00:00:00.000000000",
          "2024-05-29T00:00:00.000000000",
          "2024-05-30T00:00:00.000000000",
          "2024-05-31T00:00:00.000000000",
          "2024-06-03T00:00:00.000000000",
          "2024-06-04T00:00:00.000000000",
          "2024-06-05T00:00:00.000000000",
          "2024-06-06T00:00:00.000000000",
          "2024-06-07T00:00:00.000000000",
          "2024-06-10T00:00:00.000000000",
          "2024-06-11T00:00:00.000000000",
          "2024-06-12T00:00:00.000000000",
          "2024-06-13T00:00:00.000000000",
          "2024-06-14T00:00:00.000000000",
          "2024-06-17T00:00:00.000000000",
          "2024-06-18T00:00:00.000000000",
          "2024-06-20T00:00:00.000000000",
          "2024-06-21T00:00:00.000000000",
          "2024-06-24T00:00:00.000000000",
          "2024-06-25T00:00:00.000000000",
          "2024-06-26T00:00:00.000000000",
          "2024-06-27T00:00:00.000000000",
          "2024-06-28T00:00:00.000000000",
          "2024-07-01T00:00:00.000000000",
          "2024-07-02T00:00:00.000000000",
          "2024-07-03T00:00:00.000000000",
          "2024-07-05T00:00:00.000000000",
          "2024-07-08T00:00:00.000000000",
          "2024-07-09T00:00:00.000000000",
          "2024-07-10T00:00:00.000000000",
          "2024-07-11T00:00:00.000000000",
          "2024-07-12T00:00:00.000000000",
          "2024-07-15T00:00:00.000000000",
          "2024-07-16T00:00:00.000000000",
          "2024-07-17T00:00:00.000000000",
          "2024-07-18T00:00:00.000000000",
          "2024-07-19T00:00:00.000000000",
          "2024-07-22T00:00:00.000000000",
          "2024-07-23T00:00:00.000000000",
          "2024-07-24T00:00:00.000000000",
          "2024-07-25T00:00:00.000000000",
          "2024-07-26T00:00:00.000000000",
          "2024-07-29T00:00:00.000000000",
          "2024-07-30T00:00:00.000000000"
         ],
         "xaxis": "x4",
         "y": {
          "bdata": "6u2/0weE/L87XXglTFj9v0m/pjG8a/2/1S4ZuUW7/L/FqMWrEK/7v1HObWDLVPm/W9amlxYJ978wEJo4MBv1v/O95nDogfK/Usu0Ttfh6b+3VYoUL9DYv1B3ajlLsbE/Va66orny4D93wu7Xz+HvP8o8e7Vxp/Y/IpXqHshQ/T8akxJfP+kBQMjskbNmMgVAekhppDZMCEAI1msOixELQDpUeRAskw1AVjI9vUfiD0BpjOt+YNgQQFT33KysPxFA6jZN1PJ5EUBPUFkV6ooRQDmIedTDexFAQTRBp2pfEUCbrtcx1EERQEOhN9MGOBFAFnCOG1I2EUBlGYKIkUgRQF45UqmSRRFAMnHE+rZSEUCV/OI9lSERQEsqSjk2pxFAAyzvqs3uEkB8wyGp3KYUQISzpTO0ZRZAqpg/UZhIGECJlvIYt/MZQO77bhYICxtATJxX84GDG0DeLtz1rIwbQNi2uHi3ThtA+vzqB8gbG0BCzt/GfvAaQIiNUTKzgxpAzlyRuDlIGkA4vylW9FgaQMfPjqIbnhpAJhvITTg/G0AsHUUxzhkcQN3gTv2bCh1AhLtHgQUyHkCeerINLAIfQJLXcGclrx9ABCmMM8o0IECQIGcsUIsgQCOOijPuniBAP8aZS35XIEDF/mmBg6QfQLGfsBhcQh5ArriOGVC7HEC+x5zCLLcaQJiBUXDyXhhAp9bl4e/qFUBMqd6UOH4TQFDIhQxkNBFA",
          "dtype": "f8"
         },
         "yaxis": "y4"
        },
        {
         "marker": {
          "color": "rgba(0,255,0,0.3)"
         },
         "name": "MACD Diff",
         "type": "bar",
         "x": [
          "2024-04-22T00:00:00.000000000",
          "2024-04-23T00:00:00.000000000",
          "2024-04-24T00:00:00.000000000",
          "2024-04-25T00:00:00.000000000",
          "2024-04-26T00:00:00.000000000",
          "2024-04-29T00:00:00.000000000",
          "2024-04-30T00:00:00.000000000",
          "2024-05-01T00:00:00.000000000",
          "2024-05-02T00:00:00.000000000",
          "2024-05-03T00:00:00.000000000",
          "2024-05-06T00:00:00.000000000",
          "2024-05-07T00:00:00.000000000",
          "2024-05-08T00:00:00.000000000",
          "2024-05-09T00:00:00.000000000",
          "2024-05-10T00:00:00.000000000",
          "2024-05-13T00:00:00.000000000",
          "2024-05-14T00:00:00.000000000",
          "2024-05-15T00:00:00.000000000",
          "2024-05-16T00:00:00.000000000",
          "2024-05-17T00:00:00.000000000",
          "2024-05-20T00:00:00.000000000",
          "2024-05-21T00:00:00.000000000",
          "2024-05-22T00:00:00.000000000",
          "2024-05-23T00:00:00.000000000",
          "2024-05-24T00:00:00.000000000",
          "2024-05-28T00:00:00.000000000",
          "2024-05-29T00:00:00.000000000",
          "2024-05-30T00:00:00.000000000",
          "2024-05-31T00:00:00.000000000",
          "2024-06-03T00:00:00.000000000",
          "2024-06-04T00:00:00.000000000",
          "2024-06-05T00:00:00.000000000",
          "2024-06-06T00:00:00.000000000",
          "2024-06-07T00:00:00.000000000",
          "2024-06-10T00:00:00.000000000",
          "2024-06-11T00:00:00.000000000",
          "2024-06-12T00:00:00.000000000",
          "2024-06-13T00:00:00.000000000",
          "2024-06-14T00:00:00.000000000",
          "2024-06-17T00:00:00.000000000",
          "2024-06-18T00:00:00.000000000",
          "2024-06-20T00:00:00.000000000",
          "2024-06-21T00:00:00.000000000",
          "2024-06-24T00:00:00.000000000",
          "2024-06-25T00:00:00.000000000",
          "2024-06-26T00:00:00.000000000",
          "2024-06-27T00:00:00.000000000",
          "2024-06-28T00:00:00.000000000",
          "2024-07-01T00:00:00.000000000",
          "2024-07-02T00:00:00.000000000",
          "2024-07-03T00:00:00.000000000",
          "2024-07-05T00:00:00.000000000",
          "2024-07-08T00:00:00.000000000",
          "2024-07-09T00:00:00.000000000",
          "2024-07-10T00:00:00.000000000",
          "2024-07-11T00:00:00.000000000",
          "2024-07-12T00:00:00.000000000",
          "2024-07-15T00:00:00.000000000",
          "2024-07-16T00:00:00.000000000",
          "2024-07-17T00:00:00.000000000",
          "2024-07-18T00:00:00.000000000",
          "2024-07-19T00:00:00.000000000",
          "2024-07-22T00:00:00.000000000",
          "2024-07-23T00:00:00.000000000",
          "2024-07-24T00:00:00.000000000",
          "2024-07-25T00:00:00.000000000",
          "2024-07-26T00:00:00.000000000",
          "2024-07-29T00:00:00.000000000",
          "2024-07-30T00:00:00.000000000"
         ],
         "xaxis": "x4",
         "y": {
          "bdata": "sBiSq+25z78o6g03iojKv8ANYi4McJO/qA6yEc8Oxj8UYTjVUMPQP6LTvloq0uI/tr83RqZd4j/AYszwZd7eP+aRmj0+yuQ/KWExJvND9j/uQN+If/P6P4vz5OKBPP0/1r4adyB5/T9EKGhqLN79PzZuDyYn2vo/XmG9pVml+j9MROp82gb6P3DN+qM6Sfo/jN26hn/O+D9wbBRQoyr2P4zxaxAIDfQ/1PAeZt148j+4Z54JlOfsP8C6WnwL09k/wMofuBMjzT9AZBkMQfewP4AskL+BTK6/QPhTOC1ZvL/ApoVpdZa9v4CxGkC9mqO/ANgSk3pLe7/ATqnzbD+yPwA8AH/59oe/AKdv5KJIqj+gTrpw3pDIv6i25WwftOA/dBtQGnd59D+Qdynj74D7P3AAP6h47fs/WFKe2UEu/j/c3S977LH6P0hWxtcPdfE/QBcoOnce3j8AISUJBVaiPwADvJG++s6/QO/cZrh3yb9AXJeFoKTFv4AukCPlMtu/wF0Y4Ly8zb8AamKYnbqwP5AjRBnTSdE/0GspZ5Uj5D+gQKBvvFLrPxh2OIG5Ge4/cKqNP5h28j8Q41eN0QTqP3Ceyzcrn+U/wE7v9N9N5z8A4702fqHlP0CTbSMHnsM/8Pgx/Pnb4b+U25hckafwv0TxlYt2Iva/OHAe8r9w+L98h4+3GiEAwDAxWpLSwQLAjlddcxSgA8DYajloumUDwOAHx0KkTgLA",
          "dtype": "f8"
         },
         "yaxis": "y4"
        },
        {
         "line": {
          "color": "gray",
          "dash": "dash"
         },
         "name": "BB Upper",
         "type": "scatter",
         "x": [
          "2024-04-22T00:00:00.000000000",
          "2024-04-23T00:00:00.000000000",
          "2024-04-24T00:00:00.000000000",
          "2024-04-25T00:00:00.000000000",
          "2024-04-26T00:00:00.000000000",
          "2024-04-29T00:00:00.000000000",
          "2024-04-30T00:00:00.000000000",
          "2024-05-01T00:00:00.000000000",
          "2024-05-02T00:00:00.000000000",
          "2024-05-03T00:00:00.000000000",
          "2024-05-06T00:00:00.000000000",
          "2024-05-07T00:00:00.000000000",
          "2024-05-08T00:00:00.000000000",
          "2024-05-09T00:00:00.000000000",
          "2024-05-10T00:00:00.000000000",
          "2024-05-13T00:00:00.000000000",
          "2024-05-14T00:00:00.000000000",
          "2024-05-15T00:00:00.000000000",
          "2024-05-16T00:00:00.000000000",
          "2024-05-17T00:00:00.000000000",
          "2024-05-20T00:00:00.000000000",
          "2024-05-21T00:00:00.000000000",
          "2024-05-22T00:00:00.000000000",
          "2024-05-23T00:00:00.000000000",
          "2024-05-24T00:00:00.000000000",
          "2024-05-28T00:00:00.000000000",
          "2024-05-29T00:00:00.000000000",
          "2024-05-30T00:00:00.000000000",
          "2024-05-31T00:00:00.000000000",
          "2024-06-03T00:00:00.000000000",
          "2024-06-04T00:00:00.000000000",
          "2024-06-05T00:00:00.000000000",
          "2024-06-06T00:00:00.000000000",
          "2024-06-07T00:00:00.000000000",
          "2024-06-10T00:00:00.000000000",
          "2024-06-11T00:00:00.000000000",
          "2024-06-12T00:00:00.000000000",
          "2024-06-13T00:00:00.000000000",
          "2024-06-14T00:00:00.000000000",
          "2024-06-17T00:00:00.000000000",
          "2024-06-18T00:00:00.000000000",
          "2024-06-20T00:00:00.000000000",
          "2024-06-21T00:00:00.000000000",
          "2024-06-24T00:00:00.000000000",
          "2024-06-25T00:00:00.000000000",
          "2024-06-26T00:00:00.000000000",
          "2024-06-27T00:00:00.000000000",
          "2024-06-28T00:00:00.000000000",
          "2024-07-01T00:00:00.000000000",
          "2024-07-02T00:00:00.000000000",
          "2024-07-03T00:00:00.000000000",
          "2024-07-05T00:00:00.000000000",
          "2024-07-08T00:00:00.000000000",
          "2024-07-09T00:00:00.000000000",
          "2024-07-10T00:00:00.000000000",
          "2024-07-11T00:00:00.000000000",
          "2024-07-12T00:00:00.000000000",
          "2024-07-15T00:00:00.000000000",
          "2024-07-16T00:00:00.000000000",
          "2024-07-17T00:00:00.000000000",
          "2024-07-18T00:00:00.000000000",
          "2024-07-19T00:00:00.000000000",
          "2024-07-22T00:00:00.000000000",
          "2024-07-23T00:00:00.000000000",
          "2024-07-24T00:00:00.000000000",
          "2024-07-25T00:00:00.000000000",
          "2024-07-26T00:00:00.000000000",
          "2024-07-29T00:00:00.000000000",
          "2024-07-30T00:00:00.000000000"
         ],
         "xaxis": "x5",
         "y": {
          "bdata": "QVrNuJjuZUDzl8YBXuxlQHyXdv9/62VA5zkELA/eZUA++A0WGNhlQA1Nw1Xp5mVAVD7M9kvpZUAJqhKKyuhlQMqbNe429WVAjlnk3yJaZkCUxJyzoZdmQPODCFiL0GZAgNJtwP8CZ0DBDwtOnzVnQFoCseQ0VWdAR7EKsECPZ0ADOoZYfspnQPIxBznkCmhAupR3kaU/aECh021xImRoQA/FRH2vhmhAzSDIibSoaEAh/M33eb5oQGc1WS4NvWhAsVlcqtC7aEBHuOABOcJoQNmbk9D5r2hAsVa68uaCaEB8EgwLEFtoQK1p83U3cmhA+ooPC3J/aEDV53mm+JJoQAbPUDQEl2hAGBYPRCGtaECC6W0CWJ1oQBjGNSwRG2lAolZWOZG3aUBGKTWPfjhqQCvMh7tskWpAsytbiaX8akAQrVpZl0ZrQEqZOQ/JbWtAo5/agg+Fa0DS4j9ahJBrQLFoBGqooGtARt2SiEC8a0Aib2h4Q9NrQCeic0Qf1WtAsDn8LL3sa0BWmaZQvxNsQJJCuaJzNmxA6k4JRbVxbEDvnSMmZp5sQBBGkz/2yGxAv9nhNLXkbEAgInqIwQptQBR4dqdNRG1ARuB76IaQbUCUr+9Z7dNtQItmp//S8G1AIF42+EH6bUD7d5i9L/ltQFK0ZTKk6W1ArRkDRQvWbUAN0ypS5LltQMxLcNpgrm1ACcvkuBKkbUD5PZUXZYVtQKFCOVr+f21A",
          "dtype": "f8"
         },
         "yaxis": "y5"
        },
        {
         "line": {
          "color": "gray",
          "dash": "dash"
         },
         "name": "BB Lower",
         "type": "scatter",
         "x": [
          "2024-04-22T00:00:00.000000000",
          "2024-04-23T00:00:00.000000000",
          "2024-04-24T00:00:00.000000000",
          "2024-04-25T00:00:00.000000000",
          "2024-04-26T00:00:00.000000000",
          "2024-04-29T00:00:00.000000000",
          "2024-04-30T00:00:00.000000000",
          "2024-05-01T00:00:00.000000000",
          "2024-05-02T00:00:00.000000000",
          "2024-05-03T00:00:00.000000000",
          "2024-05-06T00:00:00.000000000",
          "2024-05-07T00:00:00.000000000",
          "2024-05-08T00:00:00.000000000",
          "2024-05-09T00:00:00.000000000",
          "2024-05-10T00:00:00.000000000",
          "2024-05-13T00:00:00.000000000",
          "2024-05-14T00:00:00.000000000",
          "2024-05-15T00:00:00.000000000",
          "2024-05-16T00:00:00.000000000",
          "2024-05-17T00:00:00.000000000",
          "2024-05-20T00:00:00.000000000",
          "2024-05-21T00:00:00.000000000",
          "2024-05-22T00:00:00.000000000",
          "2024-05-23T00:00:00.000000000",
          "2024-05-24T00:00:00.000000000",
          "2024-05-28T00:00:00.000000000",
          "2024-05-29T00:00:00.000000000",
          "2024-05-30T00:00:00.000000000",
          "2024-05-31T00:00:00.000000000",
          "2024-06-03T00:00:00.000000000",
          "2024-06-04T00:00:00.000000000",
          "2024-06-05T00:00:00.000000000",
          "2024-06-06T00:00:00.000000000",
          "2024-06-07T00:00:00.000000000",
          "2024-06-10T00:00:00.000000000",
          "2024-06-11T00:00:00.000000000",
          "2024-06-12T00:00:00.000000000",
          "2024-06-13T00:00:00.000000000",
          "2024-06-14T00:00:00.000000000",
          "2024-06-17T00:00:00.000000000",
          "2024-06-18T00:00:00.000000000",
          "2024-06-20T00:00:00.000000000",
          "2024-06-21T00:00:00.000000000",
          "2024-06-24T00:00:00.000000000",
          "2024-06-25T00:00:00.000000000",
          "2024-06-26T00:00:00.000000000",
          "2024-06-27T00:00:00.000000000",
          "2024-06-28T00:00:00.000000000",
          "2024-07-01T00:00:00.000000000",
          "2024-07-02T00:00:00.000000000",
          "2024-07-03T00:00:00.000000000",
          "2024-07-05T00:00:00.000000000",
          "2024-07-08T00:00:00.000000000",
          "2024-07-09T00:00:00.000000000",
          "2024-07-10T00:00:00.000000000",
          "2024-07-11T00:00:00.000000000",
          "2024-07-12T00:00:00.000000000",
          "2024-07-15T00:00:00.000000000",
          "2024-07-16T00:00:00.000000000",
          "2024-07-17T00:00:00.000000000",
          "2024-07-18T00:00:00.000000000",
          "2024-07-19T00:00:00.000000000",
          "2024-07-22T00:00:00.000000000",
          "2024-07-23T00:00:00.000000000",
          "2024-07-24T00:00:00.000000000",
          "2024-07-25T00:00:00.000000000",
          "2024-07-26T00:00:00.000000000",
          "2024-07-29T00:00:00.000000000",
          "2024-07-30T00:00:00.000000000"
         ],
         "xaxis": "x5",
         "y": {
          "bdata": "JQyZTROKZEDZNAYrqn9kQFA1Vu1SfmRATfkuF9KAZEBcoYtTz39kQI1M1rMYfGRAEiiar3p+ZED3Ve1l3X1kQGqX/dTpfmRADEC12SZGZECgbpafFjNkQNlIxGTpImRAGscrOVQgZEClVluoMwxkQNowgt5qAWRAuU71/9vyY0DJkkbkYPFjQEIBLAp89mNArNHudLAKZEDFkvgUyTVkQL0HiN/fY2RAZxJreUuTZEB5ncshisNkQJnKpiFV+2RAG3Nwsr4+ZUBT4bj3Gm1lQFuXn2I5v2VAtQ+sc6oyZkBQusBhAphmQLn8cnDvomZAbNtWiye+ZkCRfuyPu9VmQMb9e2hB92ZATlBX4pAIZ0BK4156kzhnQOg5ygOj/WZAKnZ2Qy+zZkAgPTG3uIBmQG/NEW5FcGZA520+MM9aZkDwUqXGQ1tmQFAAYMqGa2ZAkZNY4FaJZkBiUPM46sFmQBtkyLLc7mZA7lWgKrMdZ0CqXWRk4VJnQNldjLvgjmdAtixqOanFZ0AQzb/lnvJnQKLwedD0JmhAsEqQNDRNaEDdLql2M4toQIpTBrpdxmhA27+3FCwqaUCsqlLUd0VpQFLu7x7TQ2lAIIbq7Rw4aUCgg0M5KzxpQKnMiwNYRmlARggw7o5caUDRVDQPcoxpQBSyANSx0GlAH7PJp0YaakC/+aFqu1RqQJoa9kvQbWpAK2hOiniEakA79Z17iLtqQF+9xpV+x2pA",
          "dtype": "f8"
         },
         "yaxis": "y5"
        },
        {
         "line": {
          "color": "gray"
         },
         "name": "BB Middle",
         "type": "scatter",
         "x": [
          "2024-04-22T00:00:00.000000000",
          "2024-04-23T00:00:00.000000000",
          "2024-04-24T00:00:00.000000000",
          "2024-04-25T00:00:00.000000000",
          "2024-04-26T00:00:00.000000000",
          "2024-04-29T00:00:00.000000000",
          "2024-04-30T00:00:00.000000000",
          "2024-05-01T00:00:00.000000000",
          "2024-05-02T00:00:00.000000000",
          "2024-05-03T00:00:00.000000000",
          "2024-05-06T00:00:00.000000000",
          "2024-05-07T00:00:00.000000000",
          "2024-05-08T00:00:00.000000000",
          "2024-05-09T00:00:00.000000000",
          "2024-05-10T00:00:00.000000000",
          "2024-05-13T00:00:00.000000000",
          "2024-05-14T00:00:00.000000000",
          "2024-05-15T00:00:00.000000000",
          "2024-05-16T00:00:00.000000000",
          "2024-05-17T00:00:00.000000000",
          "2024-05-20T00:00:00.000000000",
          "2024-05-21T00:00:00.000000000",
          "2024-05-22T00:00:00.000000000",
          "2024-05-23T00:00:00.000000000",
          "2024-05-24T00:00:00.000000000",
          "2024-05-28T00:00:00.000000000",
          "2024-05-29T00:00:00.000000000",
          "2024-05-30T00:00:00.000000000",
          "2024-05-31T00:00:00.000000000",
          "2024-06-03T00:00:00.000000000",
          "2024-06-04T00:00:00.000000000",
          "2024-06-05T00:00:00.000000000",
          "2024-06-06T00:00:00.000000000",
          "2024-06-07T00:00:00.000000000",
          "2024-06-10T00:00:00.000000000",
          "2024-06-11T00:00:00.000000000",
          "2024-06-12T00:00:00.000000000",
          "2024-06-13T00:00:00.000000000",
          "2024-06-14T00:00:00.000000000",
          "2024-06-17T00:00:00.000000000",
          "2024-06-18T00:00:00.000000000",
          "2024-06-20T00:00:00.000000000",
          "2024-06-21T00:00:00.000000000",
          "2024-06-24T00:00:00.000000000",
          "2024-06-25T00:00:00.000000000",
          "2024-06-26T00:00:00.000000000",
          "2024-06-27T00:00:00.000000000",
          "2024-06-28T00:00:00.000000000",
          "2024-07-01T00:00:00.000000000",
          "2024-07-02T00:00:00.000000000",
          "2024-07-03T00:00:00.000000000",
          "2024-07-05T00:00:00.000000000",
          "2024-07-08T00:00:00.000000000",
          "2024-07-09T00:00:00.000000000",
          "2024-07-10T00:00:00.000000000",
          "2024-07-11T00:00:00.000000000",
          "2024-07-12T00:00:00.000000000",
          "2024-07-15T00:00:00.000000000",
          "2024-07-16T00:00:00.000000000",
          "2024-07-17T00:00:00.000000000",
          "2024-07-18T00:00:00.000000000",
          "2024-07-19T00:00:00.000000000",
          "2024-07-22T00:00:00.000000000",
          "2024-07-23T00:00:00.000000000",
          "2024-07-24T00:00:00.000000000",
          "2024-07-25T00:00:00.000000000",
          "2024-07-26T00:00:00.000000000",
          "2024-07-29T00:00:00.000000000",
          "2024-07-30T00:00:00.000000000"
         ],
         "xaxis": "x5",
         "y": {
          "bdata": "MzMzA1Y8ZUBmZmYWBDZlQGZmZnbpNGVAmpmZoXAvZUDNzMy08ytlQM3MzASBMWVAMzMzU+MzZUAAAAD4UzNlQJqZmWEQOmVAzczM3CRQZUCamZkpXGVlQGZmZl66eWVAzczM/KmRZUAzMzN76aBlQJqZmeFPq2VAAAAAWA7BZUBmZmae791lQJqZmSGwAGZAMzMzAyslZkAzMzPD9UxmQGZmZq5HdWZAmpmZAQCeZkDNzMwMAsFmQAAAACgx3GZAZmZmrkf9ZkDNzMz8qRdnQJqZmZmZN2dAMzMzs8haZ0BmZmY2iXlnQDMzM3OTimdAMzMzy8yeZ0AzMzMbWrRnQGZmZs4ix2dAMzMzE9naZ0BmZma+9epnQAAAABhaDGhAZmZmPmA1aEAzMzOjm1xoQM3MzBTZgGhAzczMXLqraEAAAACQ7dBoQM3MzOyn7GhAmpmZMTMHaUCamZlJNylpQGZmZo7CR2lAmpmZ2flsaUBmZmZuEpNpQAAAAAAAsmlAMzMzMzPZaUAzMzMbLwNqQJqZmTm0LmpAzczMvHRfakBmZmbOzJRqQM3MzPypx2pAzczMpHAHa0BmZmauHChrQDMzM2MQRGtAMzMz61Fka0CamZlJDIhrQJqZmYGVm2tAMzMzc2ira0BmZmbm0MJrQDMzMwMr3WtAZmZm9ij4a0BmZmbeTwdsQDMzM5MYDmxAmpmZoUUUbECamZnJdiBsQAAAAHi+I2xA",
          "dtype": "f8"
         },
         "yaxis": "y5"
        }
       ],
       "layout": {
        "annotations": [
         {
          "font": {
           "size": 16
          },
          "showarrow": false,
          "text": "AAPL Price and Indicators",
          "x": 0.5,
          "xanchor": "center",
          "xref": "paper",
          "y": 1,
          "yanchor": "bottom",
          "yref": "paper"
         },
         {
          "font": {
           "size": 16
          },
          "showarrow": false,
          "text": "Volume and VWAP",
          "x": 0.5,
          "xanchor": "center",
          "xref": "paper",
          "y": 0.63,
          "yanchor": "bottom",
          "yref": "paper"
         },
         {
          "font": {
           "size": 16
          },
          "showarrow": false,
          "text": "RSI and Stochastic",
          "x": 0.5,
          "xanchor": "center",
          "xref": "paper",
          "y": 0.45999999999999996,
          "yanchor": "bottom",
          "yref": "paper"
         },
         {
          "font": {
           "size": 16
          },
          "showarrow": false,
          "text": "MACD",
          "x": 0.5,
          "xanchor": "center",
          "xref": "paper",
          "y": 0.29,
          "yanchor": "bottom",
          "yref": "paper"
         },
         {
          "font": {
           "size": 16
          },
          "showarrow": false,
          "text": "Bollinger Bands",
          "x": 0.5,
          "xanchor": "center",
          "xref": "paper",
          "y": 0.12,
          "yanchor": "bottom",
          "yref": "paper"
         }
        ],
        "height": 1200,
        "legend": {
         "orientation": "h",
         "x": 1,
         "xanchor": "right",
         "y": 1.02,
         "yanchor": "bottom"
        },
        "shapes": [
         {
          "line": {
           "color": "red",
           "dash": "dash"
          },
          "type": "line",
          "x0": 0,
          "x1": 1,
          "xref": "x3 domain",
          "y0": 70,
          "y1": 70,
          "yref": "y3"
         },
         {
          "line": {
           "color": "green",
           "dash": "dash"
          },
          "type": "line",
          "x0": 0,
          "x1": 1,
          "xref": "x3 domain",
          "y0": 30,
          "y1": 30,
          "yref": "y3"
         }
        ],
        "showlegend": true,
        "template": {
         "data": {
          "bar": [
           {
            "error_x": {
             "color": "#2a3f5f"
            },
            "error_y": {
             "color": "#2a3f5f"
            },
            "marker": {
             "line": {
              "color": "white",
              "width": 0.5
             },
             "pattern": {
              "fillmode": "overlay",
              "size": 10,
              "solidity": 0.2
             }
            },
            "type": "bar"
           }
          ],
          "barpolar": [
           {
            "marker": {
             "line": {
              "color": "white",
              "width": 0.5
             },
             "pattern": {
              "fillmode": "overlay",
              "size": 10,
              "solidity": 0.2
             }
            },
            "type": "barpolar"
           }
          ],
          "carpet": [
           {
            "aaxis": {
             "endlinecolor": "#2a3f5f",
             "gridcolor": "#C8D4E3",
             "linecolor": "#C8D4E3",
             "minorgridcolor": "#C8D4E3",
             "startlinecolor": "#2a3f5f"
            },
            "baxis": {
             "endlinecolor": "#2a3f5f",
             "gridcolor": "#C8D4E3",
             "linecolor": "#C8D4E3",
             "minorgridcolor": "#C8D4E3",
             "startlinecolor": "#2a3f5f"
            },
            "type": "carpet"
           }
          ],
          "choropleth": [
           {
            "colorbar": {
             "outlinewidth": 0,
             "ticks": ""
            },
            "type": "choropleth"
           }
          ],
          "contour": [
           {
            "colorbar": {
             "outlinewidth": 0,
             "ticks": ""
            },
            "colorscale": [
             [
              0,
              "#0d0887"
             ],
             [
              0.1111111111111111,
              "#46039f"
             ],
             [
              0.2222222222222222,
              "#7201a8"
             ],
             [
              0.3333333333333333,
              "#9c179e"
             ],
             [
              0.4444444444444444,
              "#bd3786"
             ],
             [
              0.5555555555555556,
              "#d8576b"
             ],
             [
              0.6666666666666666,
              "#ed7953"
             ],
             [
              0.7777777777777778,
              "#fb9f3a"
             ],
             [
              0.8888888888888888,
              "#fdca26"
             ],
             [
              1,
              "#f0f921"
             ]
            ],
            "type": "contour"
           }
          ],
          "contourcarpet": [
           {
            "colorbar": {
             "outlinewidth": 0,
             "ticks": ""
            },
            "type": "contourcarpet"
           }
          ],
          "heatmap": [
           {
            "colorbar": {
             "outlinewidth": 0,
             "ticks": ""
            },
            "colorscale": [
             [
              0,
              "#0d0887"
             ],
             [
              0.1111111111111111,
              "#46039f"
             ],
             [
              0.2222222222222222,
              "#7201a8"
             ],
             [
              0.3333333333333333,
              "#9c179e"
             ],
             [
              0.4444444444444444,
              "#bd3786"
             ],
             [
              0.5555555555555556,
              "#d8576b"
             ],
             [
              0.6666666666666666,
              "#ed7953"
             ],
             [
              0.7777777777777778,
              "#fb9f3a"
             ],
             [
              0.8888888888888888,
              "#fdca26"
             ],
             [
              1,
              "#f0f921"
             ]
            ],
            "type": "heatmap"
           }
          ],
          "histogram": [
           {
            "marker": {
             "pattern": {
              "fillmode": "overlay",
              "size": 10,
              "solidity": 0.2
             }
            },
            "type": "histogram"
           }
          ],
          "histogram2d": [
           {
            "colorbar": {
             "outlinewidth": 0,
             "ticks": ""
            },
            "colorscale": [
             [
              0,
              "#0d0887"
             ],
             [
              0.1111111111111111,
              "#46039f"
             ],
             [
              0.2222222222222222,
              "#7201a8"
             ],
             [
              0.3333333333333333,
              "#9c179e"
             ],
             [
              0.4444444444444444,
              "#bd3786"
             ],
             [
              0.5555555555555556,
              "#d8576b"
             ],
             [
              0.6666666666666666,
              "#ed7953"
             ],
             [
              0.7777777777777778,
              "#fb9f3a"
             ],
             [
              0.8888888888888888,
              "#fdca26"
             ],
             [
              1,
              "#f0f921"
             ]
            ],
            "type": "histogram2d"
           }
          ],
          "histogram2dcontour": [
           {
            "colorbar": {
             "outlinewidth": 0,
             "ticks": ""
            },
            "colorscale": [
             [
              0,
              "#0d0887"
             ],
             [
              0.1111111111111111,
              "#46039f"
             ],
             [
              0.2222222222222222,
              "#7201a8"
             ],
             [
              0.3333333333333333,
              "#9c179e"
             ],
             [
              0.4444444444444444,
              "#bd3786"
             ],
             [
              0.5555555555555556,
              "#d8576b"
             ],
             [
              0.6666666666666666,
              "#ed7953"
             ],
             [
              0.7777777777777778,
              "#fb9f3a"
             ],
             [
              0.8888888888888888,
              "#fdca26"
             ],
             [
              1,
              "#f0f921"
             ]
            ],
            "type": "histogram2dcontour"
           }
          ],
          "mesh3d": [
           {
            "colorbar": {
             "outlinewidth": 0,
             "ticks": ""
            },
            "type": "mesh3d"
           }
          ],
          "parcoords": [
           {
            "line": {
             "colorbar": {
              "outlinewidth": 0,
              "ticks": ""
             }
            },
            "type": "parcoords"
           }
          ],
          "pie": [
           {
            "automargin": true,
            "type": "pie"
           }
          ],
          "scatter": [
           {
            "fillpattern": {
             "fillmode": "overlay",
             "size": 10,
             "solidity": 0.2
            },
            "type": "scatter"
           }
          ],
          "scatter3d": [
           {
            "line": {
             "colorbar": {
              "outlinewidth": 0,
              "ticks": ""
             }
            },
            "marker": {
             "colorbar": {
              "outlinewidth": 0,
              "ticks": ""
             }
            },
            "type": "scatter3d"
           }
          ],
          "scattercarpet": [
           {
            "marker": {
             "colorbar": {
              "outlinewidth": 0,
              "ticks": ""
             }
            },
            "type": "scattercarpet"
           }
          ],
          "scattergeo": [
           {
            "marker": {
             "colorbar": {
              "outlinewidth": 0,
              "ticks": ""
             }
            },
            "type": "scattergeo"
           }
          ],
          "scattergl": [
           {
            "marker": {
             "colorbar": {
              "outlinewidth": 0,
              "ticks": ""
             }
            },
            "type": "scattergl"
           }
          ],
          "scattermap": [
           {
            "marker": {
             "colorbar": {
              "outlinewidth": 0,
              "ticks": ""
             }
            },
            "type": "scattermap"
           }
          ],
          "scattermapbox": [
           {
            "marker": {
             "colorbar": {
              "outlinewidth": 0,
              "ticks": ""
             }
            },
            "type": "scattermapbox"
           }
          ],
          "scatterpolar": [
           {
            "marker": {
             "colorbar": {
              "outlinewidth": 0,
              "ticks": ""
             }
            },
            "type": "scatterpolar"
           }
          ],
          "scatterpolargl": [
           {
            "marker": {
             "colorbar": {
              "outlinewidth": 0,
              "ticks": ""
             }
            },
            "type": "scatterpolargl"
           }
          ],
          "scatterternary": [
           {
            "marker": {
             "colorbar": {
              "outlinewidth": 0,
              "ticks": ""
             }
            },
            "type": "scatterternary"
           }
          ],
          "surface": [
           {
            "colorbar": {
             "outlinewidth": 0,
             "ticks": ""
            },
            "colorscale": [
             [
              0,
              "#0d0887"
             ],
             [
              0.1111111111111111,
              "#46039f"
             ],
             [
              0.2222222222222222,
              "#7201a8"
             ],
             [
              0.3333333333333333,
              "#9c179e"
             ],
             [
              0.4444444444444444,
              "#bd3786"
             ],
             [
              0.5555555555555556,
              "#d8576b"
             ],
             [
              0.6666666666666666,
              "#ed7953"
             ],
             [
              0.7777777777777778,
              "#fb9f3a"
             ],
             [
              0.8888888888888888,
              "#fdca26"
             ],
             [
              1,
              "#f0f921"
             ]
            ],
            "type": "surface"
           }
          ],
          "table": [
           {
            "cells": {
             "fill": {
              "color": "#EBF0F8"
             },
             "line": {
              "color": "white"
             }
            },
            "header": {
             "fill": {
              "color": "#C8D4E3"
             },
             "line": {
              "color": "white"
             }
            },
            "type": "table"
           }
          ]
         },
         "layout": {
          "annotationdefaults": {
           "arrowcolor": "#2a3f5f",
           "arrowhead": 0,
           "arrowwidth": 1
          },
          "autotypenumbers": "strict",
          "coloraxis": {
           "colorbar": {
            "outlinewidth": 0,
            "ticks": ""
           }
          },
          "colorscale": {
           "diverging": [
            [
             0,
             "#8e0152"
            ],
            [
             0.1,
             "#c51b7d"
            ],
            [
             0.2,
             "#de77ae"
            ],
            [
             0.3,
             "#f1b6da"
            ],
            [
             0.4,
             "#fde0ef"
            ],
            [
             0.5,
             "#f7f7f7"
            ],
            [
             0.6,
             "#e6f5d0"
            ],
            [
             0.7,
             "#b8e186"
            ],
            [
             0.8,
             "#7fbc41"
            ],
            [
             0.9,
             "#4d9221"
            ],
            [
             1,
             "#276419"
            ]
           ],
           "sequential": [
            [
             0,
             "#0d0887"
            ],
            [
             0.1111111111111111,
             "#46039f"
            ],
            [
             0.2222222222222222,
             "#7201a8"
            ],
            [
             0.3333333333333333,
             "#9c179e"
            ],
            [
             0.4444444444444444,
             "#bd3786"
            ],
            [
             0.5555555555555556,
             "#d8576b"
            ],
            [
             0.6666666666666666,
             "#ed7953"
            ],
            [
             0.7777777777777778,
             "#fb9f3a"
            ],
            [
             0.8888888888888888,
             "#fdca26"
            ],
            [
             1,
             "#f0f921"
            ]
           ],
           "sequentialminus": [
            [
             0,
             "#0d0887"
            ],
            [
             0.1111111111111111,
             "#46039f"
            ],
            [
             0.2222222222222222,
             "#7201a8"
            ],
            [
             0.3333333333333333,
             "#9c179e"
            ],
            [
             0.4444444444444444,
             "#bd3786"
            ],
            [
             0.5555555555555556,
             "#d8576b"
            ],
            [
             0.6666666666666666,
             "#ed7953"
            ],
            [
             0.7777777777777778,
             "#fb9f3a"
            ],
            [
             0.8888888888888888,
             "#fdca26"
            ],
            [
             1,
             "#f0f921"
            ]
           ]
          },
          "colorway": [
           "#636efa",
           "#EF553B",
           "#00cc96",
           "#ab63fa",
           "#FFA15A",
           "#19d3f3",
           "#FF6692",
           "#B6E880",
           "#FF97FF",
           "#FECB52"
          ],
          "font": {
           "color": "#2a3f5f"
          },
          "geo": {
           "bgcolor": "white",
           "lakecolor": "white",
           "landcolor": "white",
           "showlakes": true,
           "showland": true,
           "subunitcolor": "#C8D4E3"
          },
          "hoverlabel": {
           "align": "left"
          },
          "hovermode": "closest",
          "mapbox": {
           "style": "light"
          },
          "paper_bgcolor": "white",
          "plot_bgcolor": "white",
          "polar": {
           "angularaxis": {
            "gridcolor": "#EBF0F8",
            "linecolor": "#EBF0F8",
            "ticks": ""
           },
           "bgcolor": "white",
           "radialaxis": {
            "gridcolor": "#EBF0F8",
            "linecolor": "#EBF0F8",
            "ticks": ""
           }
          },
          "scene": {
           "xaxis": {
            "backgroundcolor": "white",
            "gridcolor": "#DFE8F3",
            "gridwidth": 2,
            "linecolor": "#EBF0F8",
            "showbackground": true,
            "ticks": "",
            "zerolinecolor": "#EBF0F8"
           },
           "yaxis": {
            "backgroundcolor": "white",
            "gridcolor": "#DFE8F3",
            "gridwidth": 2,
            "linecolor": "#EBF0F8",
            "showbackground": true,
            "ticks": "",
            "zerolinecolor": "#EBF0F8"
           },
           "zaxis": {
            "backgroundcolor": "white",
            "gridcolor": "#DFE8F3",
            "gridwidth": 2,
            "linecolor": "#EBF0F8",
            "showbackground": true,
            "ticks": "",
            "zerolinecolor": "#EBF0F8"
           }
          },
          "shapedefaults": {
           "line": {
            "color": "#2a3f5f"
           }
          },
          "ternary": {
           "aaxis": {
            "gridcolor": "#DFE8F3",
            "linecolor": "#A2B1C6",
            "ticks": ""
           },
           "baxis": {
            "gridcolor": "#DFE8F3",
            "linecolor": "#A2B1C6",
            "ticks": ""
           },
           "bgcolor": "white",
           "caxis": {
            "gridcolor": "#DFE8F3",
            "linecolor": "#A2B1C6",
            "ticks": ""
           }
          },
          "title": {
           "x": 0.05
          },
          "xaxis": {
           "automargin": true,
           "gridcolor": "#EBF0F8",
           "linecolor": "#EBF0F8",
           "ticks": "",
           "title": {
            "standoff": 15
           },
           "zerolinecolor": "#EBF0F8",
           "zerolinewidth": 2
          },
          "yaxis": {
           "automargin": true,
           "gridcolor": "#EBF0F8",
           "linecolor": "#EBF0F8",
           "ticks": "",
           "title": {
            "standoff": 15
           },
           "zerolinecolor": "#EBF0F8",
           "zerolinewidth": 2
          }
         }
        },
        "title": {
         "text": "AAPL Technical Analysis Dashboard"
        },
        "xaxis": {
         "anchor": "y",
         "domain": [
          0,
          1
         ],
         "matches": "x5",
         "rangeslider": {
          "visible": false
         },
         "showticklabels": false
        },
        "xaxis2": {
         "anchor": "y2",
         "domain": [
          0,
          1
         ],
         "matches": "x5",
         "showticklabels": false
        },
        "xaxis3": {
         "anchor": "y3",
         "domain": [
          0,
          1
         ],
         "matches": "x5",
         "showticklabels": false
        },
        "xaxis4": {
         "anchor": "y4",
         "domain": [
          0,
          1
         ],
         "matches": "x5",
         "showticklabels": false
        },
        "xaxis5": {
         "anchor": "y5",
         "domain": [
          0,
          1
         ]
        },
        "yaxis": {
         "anchor": "x",
         "domain": [
          0.6799999999999999,
          1
         ],
         "title": {
          "text": "Price"
         }
        },
        "yaxis2": {
         "anchor": "x2",
         "domain": [
          0.51,
          0.63
         ],
         "title": {
          "text": "Volume"
         }
        },
        "yaxis3": {
         "anchor": "x3",
         "domain": [
          0.33999999999999997,
          0.45999999999999996
         ],
         "title": {
          "text": "RSI/Stochastic"
         }
        },
        "yaxis4": {
         "anchor": "x4",
         "domain": [
          0.16999999999999998,
          0.29
         ],
         "title": {
          "text": "MACD"
         }
        },
        "yaxis5": {
         "anchor": "x5",
         "domain": [
          0,
          0.12
         ],
         "title": {
          "text": "Bollinger Bands"
         }
        }
       }
      }
     },
     "metadata": {},
     "output_type": "display_data"
    },
    {
     "name": "stdout",
     "output_type": "stream",
     "text": [
      "\n",
      "Generating dashboard for AMZN...\n"
     ]
    },
    {
     "data": {
      "application/vnd.plotly.v1+json": {
       "config": {
        "plotlyServerURL": "https://plot.ly"
       },
       "data": [
        {
         "close": {
          "bdata": "AAAAIFwnZkAAAACgR3FmQAAAAEDhEmZAAAAAoHC1ZUAAAAAA13NmQAAAAGC4nmZAAAAAAADgZUAAAAAAAGBmQAAAAEAKF2dAAAAAYLhGZ0AAAABgZpZnQAEAAOBRmGdAAAAAAACAZ0AAAAAAALBnQP///x9cb2dAAAAAgD1SZ0AAAACAPWJnQAEAACCuP2dAAAAAACn0ZkAAAABgZhZnQAAAAKBH8WZAAQAAwMzkZkAAAAAAKeRmQAAAAKCZoWZAAAAAAACYZkABAADAzMRmQP///9+jwGZAAAAAgD1qZkAAAACAFA5mQAAAAEDhSmZAAAAAQOFqZkAAAADA9ahmQAAAAAAAIGdAAAAAoJkJZ0D///9/62FnQP///x9cZ2dAAAAA4HpcZ0AAAABgj/pmQP///78e9WZA////f+sBZ0D///9/69lmQP///z8zQ2dAAAAAYI+iZ0AAAACAPTJnQAEAAEDhSmdAAQAAIIUzaED///8/M7toQAAAAAAAKGhAAAAAYGamaEAAAAAAAABpQAEAAEDhsmhAAAAAAAAAaUAAAACgR+loQAEAAEDh6mhAAAAAoEf5aEAAAACgmWFoQAEAACCuT2hAAAAAQAoXaED////foyBoQAAAAIDCfWdAAAAAAAD4ZkAAAAAAKeRmQAAAAKCZ0WZA////vx5NZ0AAAABgj5pmQAAAAEAze2ZAAAAAAADQZkAAAABgZuZmQAAAAGC4tmZA",
          "dtype": "f8"
         },
         "high": {
          "bdata": "AAAAANdbZkAAAACAwn1mQAAAAIA9imZAAAAAoHC9ZUAAAACAPZpmQAAAAMD18GZAAQAAIK7fZkABAADAzCRnQP///z8zI2dAAAAAANd7Z0AAAAAAAJhnQAAAAIAUvmdAAAAAgMKNZ0AAAABgZvZnQAAAAOB6vGdA////f+uJZ0AAAABACndnQAAAAEAKV2dA////f+tpZ0AAAACgmSlnQAAAAKBwVWdAAQAA4FHoZkAAAABACidnQAEAAOBRGGdAAAAAgBTOZkABAAAgrsdmQAAAAGCPAmdAAQAAQOGqZkAAAABguGZmQAAAAGBmVmZAAAAAgD16ZkAAAAAAALBmQAAAAAAAIGdAAAAAoEdJZ0D///8fXGdnQP///9+jeGdA////PzOLZ0AAAACgcHVnQAAAAEAK92ZAAAAAAAAgZ0AAAACgRwlnQAEAAOBRUGdAAAAAwPWoZ0AAAAAAAOBnQAEAAEDhmmdAAAAAoJlZaEABAABA4fpoQP///z8z22hAAAAAoJnJaEAAAACAwg1pQAAAAMD1AGlAAAAAoJkRaUAAAABgZiZpQAAAAIA9EmlAAQAAIIUDaUD////fowhpQAAAAEAKj2hAAAAAgBSGaEAAAAAA15NoQAAAAGCP8mdAAAAAgMK1Z0AAAACAwh1nQP///3/rIWdAAAAA4HqsZ0AAAABgZi5nQAEAAMDM/GZAAAAAgBTmZkAAAAAAABhnQAEAACCFO2dA",
          "dtype": "f8"
         },
         "low": {
          "bdata": "AAAAgOvRZUAAAAAgXP9lQAAAAIDCBWZAAAAAgD3KZEAAAAAAKQRmQAAAAOB6bGZAAAAAoJnZZUAAAACA6xFmQAAAAMAefWZAAAAAoHAtZ0AAAACgmRlnQP///3/raWdAAAAA4HpMZ0AAAACAFG5nQAAAAIDCXWdAAQAAIIUrZ0AAAABgZu5mQP///x9c12ZAAAAAYLjuZkD///8/M+tmQAAAAMD16GZAAAAAAACYZkAAAABACr9mQAAAAGCPgmZAAAAAoJmJZkAAAAAgrm9mQAAAAKCZsWZAAAAAIIVLZkAAAAAA17tlQAAAAKBw/WVAAAAAgBQOZkAAAAAAAFhmQAEAACCur2ZAAQAAIIXrZkAAAACgR/lmQAAAAKBHEWdAAAAAgMItZ0AAAACgcNVmQP///x9cx2ZAAAAAQAqnZkAAAACAwq1mQAAAAEAK12ZAAQAAIIU7Z0AAAABgjypnQAAAAKBwLWdAAQAA4FFIZ0AAAABgZkZoQAAAAAAAEGhAAAAAgD0aaEAAAACAwn1oQAEAAOBRmGhAAAAAoHDFaEAAAABguL5oQAAAAKCZ4WhAAAAAgBS2aEABAAAghRtoQAAAAGCPOmhAAAAAYI/aZ0ABAAAgrgdoQAEAACCuP2dAAAAAYGauZkAAAAAghYNmQP///x9cz2ZA////f+vxZkD///+/Ho1mQAAAAKCZGWZAAQAAIK6HZkAAAAAAKcxmQAAAAAApbGZA",
          "dtype": "f8"
         },
         "name": "OHLC",
         "open": {
          "bdata": "AAAAgBQeZkAAAABgj0JmQAAAAIAUfmZAAAAAgMI1ZUAAAACgmTlmQAAAAAAA2GZAAQAAQOGiZkAAAADgerRmQP///z8zm2ZAAQAAIK5fZ0AAAADA9UhnQAAAAKBwnWdAAAAAgBRuZ0AAAAAAKZxnQP///78epWdAAAAAAACAZ0AAAACAPfpmQAAAAEAKP2dA////PzMzZ0ABAADgUfhmQAEAAEDhCmdAAAAAoJnJZkAAAAAAKfxmQP///78e9WZAAQAAwMy0ZkAAAACAwn1mQAAAAGBmtmZA////f+upZkAAAACgmUlmQAAAAGBmNmZAAAAA4Ho0ZkAAAABAM4NmQAAAAAAAuGZAAQAAwMwcZ0AAAACAPQJnQP///3/rYWdA////36OAZ0ABAABA4UJnQAAAAGCP4mZA////36PQZkABAAAgrvdmQP///78e3WZAAAAAoJl5Z0AAAABgj6pnQP///3/rWWdAAAAAoHBdZ0ABAADgUWBoQP///x9ct2hAAQAAIK4vaEAAAADA9ahoQAAAAIAU/mhAAQAAwMzUaEAAAACgRwFpQAEAAMDM7GhAAAAAAAAAaUABAABA4QJpQAAAAKCZWWhA////f+tRaEABAABA4XJoQP///z8z62dAAQAAQOGyZ0AAAADgeqRmQAAAAAAAIGdA////PzMDZ0AAAABgZuZmQP///78e3WZAAAAA4HqMZkABAABA4fpmQAAAAEAKF2dA",
          "dtype": "f8"
         },
         "type": "candlestick",
         "x": [
          "2024-04-22T00:00:00.000000000",
          "2024-04-23T00:00:00.000000000",
          "2024-04-24T00:00:00.000000000",
          "2024-04-25T00:00:00.000000000",
          "2024-04-26T00:00:00.000000000",
          "2024-04-29T00:00:00.000000000",
          "2024-04-30T00:00:00.000000000",
          "2024-05-01T00:00:00.000000000",
          "2024-05-02T00:00:00.000000000",
          "2024-05-03T00:00:00.000000000",
          "2024-05-06T00:00:00.000000000",
          "2024-05-07T00:00:00.000000000",
          "2024-05-08T00:00:00.000000000",
          "2024-05-09T00:00:00.000000000",
          "2024-05-10T00:00:00.000000000",
          "2024-05-13T00:00:00.000000000",
          "2024-05-14T00:00:00.000000000",
          "2024-05-15T00:00:00.000000000",
          "2024-05-16T00:00:00.000000000",
          "2024-05-17T00:00:00.000000000",
          "2024-05-20T00:00:00.000000000",
          "2024-05-21T00:00:00.000000000",
          "2024-05-22T00:00:00.000000000",
          "2024-05-23T00:00:00.000000000",
          "2024-05-24T00:00:00.000000000",
          "2024-05-28T00:00:00.000000000",
          "2024-05-29T00:00:00.000000000",
          "2024-05-30T00:00:00.000000000",
          "2024-05-31T00:00:00.000000000",
          "2024-06-03T00:00:00.000000000",
          "2024-06-04T00:00:00.000000000",
          "2024-06-05T00:00:00.000000000",
          "2024-06-06T00:00:00.000000000",
          "2024-06-07T00:00:00.000000000",
          "2024-06-10T00:00:00.000000000",
          "2024-06-11T00:00:00.000000000",
          "2024-06-12T00:00:00.000000000",
          "2024-06-13T00:00:00.000000000",
          "2024-06-14T00:00:00.000000000",
          "2024-06-17T00:00:00.000000000",
          "2024-06-18T00:00:00.000000000",
          "2024-06-20T00:00:00.000000000",
          "2024-06-21T00:00:00.000000000",
          "2024-06-24T00:00:00.000000000",
          "2024-06-25T00:00:00.000000000",
          "2024-06-26T00:00:00.000000000",
          "2024-06-27T00:00:00.000000000",
          "2024-06-28T00:00:00.000000000",
          "2024-07-01T00:00:00.000000000",
          "2024-07-02T00:00:00.000000000",
          "2024-07-03T00:00:00.000000000",
          "2024-07-05T00:00:00.000000000",
          "2024-07-08T00:00:00.000000000",
          "2024-07-09T00:00:00.000000000",
          "2024-07-10T00:00:00.000000000",
          "2024-07-11T00:00:00.000000000",
          "2024-07-12T00:00:00.000000000",
          "2024-07-15T00:00:00.000000000",
          "2024-07-16T00:00:00.000000000",
          "2024-07-17T00:00:00.000000000",
          "2024-07-18T00:00:00.000000000",
          "2024-07-19T00:00:00.000000000",
          "2024-07-22T00:00:00.000000000",
          "2024-07-23T00:00:00.000000000",
          "2024-07-24T00:00:00.000000000",
          "2024-07-25T00:00:00.000000000",
          "2024-07-26T00:00:00.000000000",
          "2024-07-29T00:00:00.000000000",
          "2024-07-30T00:00:00.000000000"
         ],
         "xaxis": "x",
         "yaxis": "y"
        },
        {
         "line": {
          "color": "blue"
         },
         "name": "SMA_20",
         "type": "scatter",
         "x": [
          "2024-04-22T00:00:00.000000000",
          "2024-04-23T00:00:00.000000000",
          "2024-04-24T00:00:00.000000000",
          "2024-04-25T00:00:00.000000000",
          "2024-04-26T00:00:00.000000000",
          "2024-04-29T00:00:00.000000000",
          "2024-04-30T00:00:00.000000000",
          "2024-05-01T00:00:00.000000000",
          "2024-05-02T00:00:00.000000000",
          "2024-05-03T00:00:00.000000000",
          "2024-05-06T00:00:00.000000000",
          "2024-05-07T00:00:00.000000000",
          "2024-05-08T00:00:00.000000000",
          "2024-05-09T00:00:00.000000000",
          "2024-05-10T00:00:00.000000000",
          "2024-05-13T00:00:00.000000000",
          "2024-05-14T00:00:00.000000000",
          "2024-05-15T00:00:00.000000000",
          "2024-05-16T00:00:00.000000000",
          "2024-05-17T00:00:00.000000000",
          "2024-05-20T00:00:00.000000000",
          "2024-05-21T00:00:00.000000000",
          "2024-05-22T00:00:00.000000000",
          "2024-05-23T00:00:00.000000000",
          "2024-05-24T00:00:00.000000000",
          "2024-05-28T00:00:00.000000000",
          "2024-05-29T00:00:00.000000000",
          "2024-05-30T00:00:00.000000000",
          "2024-05-31T00:00:00.000000000",
          "2024-06-03T00:00:00.000000000",
          "2024-06-04T00:00:00.000000000",
          "2024-06-05T00:00:00.000000000",
          "2024-06-06T00:00:00.000000000",
          "2024-06-07T00:00:00.000000000",
          "2024-06-10T00:00:00.000000000",
          "2024-06-11T00:00:00.000000000",
          "2024-06-12T00:00:00.000000000",
          "2024-06-13T00:00:00.000000000",
          "2024-06-14T00:00:00.000000000",
          "2024-06-17T00:00:00.000000000",
          "2024-06-18T00:00:00.000000000",
          "2024-06-20T00:00:00.000000000",
          "2024-06-21T00:00:00.000000000",
          "2024-06-24T00:00:00.000000000",
          "2024-06-25T00:00:00.000000000",
          "2024-06-26T00:00:00.000000000",
          "2024-06-27T00:00:00.000000000",
          "2024-06-28T00:00:00.000000000",
          "2024-07-01T00:00:00.000000000",
          "2024-07-02T00:00:00.000000000",
          "2024-07-03T00:00:00.000000000",
          "2024-07-05T00:00:00.000000000",
          "2024-07-08T00:00:00.000000000",
          "2024-07-09T00:00:00.000000000",
          "2024-07-10T00:00:00.000000000",
          "2024-07-11T00:00:00.000000000",
          "2024-07-12T00:00:00.000000000",
          "2024-07-15T00:00:00.000000000",
          "2024-07-16T00:00:00.000000000",
          "2024-07-17T00:00:00.000000000",
          "2024-07-18T00:00:00.000000000",
          "2024-07-19T00:00:00.000000000",
          "2024-07-22T00:00:00.000000000",
          "2024-07-23T00:00:00.000000000",
          "2024-07-24T00:00:00.000000000",
          "2024-07-25T00:00:00.000000000",
          "2024-07-26T00:00:00.000000000",
          "2024-07-29T00:00:00.000000000",
          "2024-07-30T00:00:00.000000000"
         ],
         "xaxis": "x",
         "y": {
          "bdata": "ZmZmDte9ZkAzMzNrkb1mQAAAAADVumZAzczM3PmwZkAAAACQwq9mQAAAAHi+r2ZAAAAA2KOmZkAzMzMbL6FmQDMzM2u8qGZAzczMXI+qZkBmZmYOLbBmQAAAALgetWZAZmZmZma4ZkAAAAC4HrlmQM3MzKxHu2ZAAAAAAADAZkAAAAAAAMZmQAAAADiJzWZAZmZmjpfUZkCamZk5tORmQM3MzMzM7mZAzczMdJP0ZkBmZmY+Cv9mQAAAABjZCmdAmpmZ8acMZ0DNzMxcjw5nQJqZmcHKGWdAzczM1E0aZ0AAAABYDg1nQJqZmcl2AGdAZmZm7nzxZkAAAAAgheVmQDMzM1O44GZAAAAAaGbYZkAAAABgutdmQM3MzLTI2GZAmpmZ+X7YZkDNzMw8CtVmQGZmZoYW1WZAmZmZYRDUZkD///9f5dJmQDIzM7Od12ZAmZmZ0SLhZkBmZmY2XuhmQP///99P8WZAzMzM5KUDZ0DMzMzc+RxnQGZmZpZDM2dAmZmZ4XpUZ0CZmZnRIndnQMzMzARWlGdAMjMzu0myZ0CZmZnpJslnQDMzM0s34WdAAAAAgJX1Z0AzMzOTGAJoQJqZmYlBDmhAmpmZ4XocaEDNzMy8dCtoQDMzM+OlMWhAmpmZ6SYzaEBmZmZmZi5oQGZmZrbzI2hAZmZmxkslaECamZnhehxoQJqZmcl2BmhAzczMbOftZ0CamZnx0t1nQGZmZj4KxWdA",
          "dtype": "f8"
         },
         "yaxis": "y"
        },
        {
         "line": {
          "color": "orange"
         },
         "name": "SMA_50",
         "type": "scatter",
         "x": [
          "2024-04-22T00:00:00.000000000",
          "2024-04-23T00:00:00.000000000",
          "2024-04-24T00:00:00.000000000",
          "2024-04-25T00:00:00.000000000",
          "2024-04-26T00:00:00.000000000",
          "2024-04-29T00:00:00.000000000",
          "2024-04-30T00:00:00.000000000",
          "2024-05-01T00:00:00.000000000",
          "2024-05-02T00:00:00.000000000",
          "2024-05-03T00:00:00.000000000",
          "2024-05-06T00:00:00.000000000",
          "2024-05-07T00:00:00.000000000",
          "2024-05-08T00:00:00.000000000",
          "2024-05-09T00:00:00.000000000",
          "2024-05-10T00:00:00.000000000",
          "2024-05-13T00:00:00.000000000",
          "2024-05-14T00:00:00.000000000",
          "2024-05-15T00:00:00.000000000",
          "2024-05-16T00:00:00.000000000",
          "2024-05-17T00:00:00.000000000",
          "2024-05-20T00:00:00.000000000",
          "2024-05-21T00:00:00.000000000",
          "2024-05-22T00:00:00.000000000",
          "2024-05-23T00:00:00.000000000",
          "2024-05-24T00:00:00.000000000",
          "2024-05-28T00:00:00.000000000",
          "2024-05-29T00:00:00.000000000",
          "2024-05-30T00:00:00.000000000",
          "2024-05-31T00:00:00.000000000",
          "2024-06-03T00:00:00.000000000",
          "2024-06-04T00:00:00.000000000",
          "2024-06-05T00:00:00.000000000",
          "2024-06-06T00:00:00.000000000",
          "2024-06-07T00:00:00.000000000",
          "2024-06-10T00:00:00.000000000",
          "2024-06-11T00:00:00.000000000",
          "2024-06-12T00:00:00.000000000",
          "2024-06-13T00:00:00.000000000",
          "2024-06-14T00:00:00.000000000",
          "2024-06-17T00:00:00.000000000",
          "2024-06-18T00:00:00.000000000",
          "2024-06-20T00:00:00.000000000",
          "2024-06-21T00:00:00.000000000",
          "2024-06-24T00:00:00.000000000",
          "2024-06-25T00:00:00.000000000",
          "2024-06-26T00:00:00.000000000",
          "2024-06-27T00:00:00.000000000",
          "2024-06-28T00:00:00.000000000",
          "2024-07-01T00:00:00.000000000",
          "2024-07-02T00:00:00.000000000",
          "2024-07-03T00:00:00.000000000",
          "2024-07-05T00:00:00.000000000",
          "2024-07-08T00:00:00.000000000",
          "2024-07-09T00:00:00.000000000",
          "2024-07-10T00:00:00.000000000",
          "2024-07-11T00:00:00.000000000",
          "2024-07-12T00:00:00.000000000",
          "2024-07-15T00:00:00.000000000",
          "2024-07-16T00:00:00.000000000",
          "2024-07-17T00:00:00.000000000",
          "2024-07-18T00:00:00.000000000",
          "2024-07-19T00:00:00.000000000",
          "2024-07-22T00:00:00.000000000",
          "2024-07-23T00:00:00.000000000",
          "2024-07-24T00:00:00.000000000",
          "2024-07-25T00:00:00.000000000",
          "2024-07-26T00:00:00.000000000",
          "2024-07-29T00:00:00.000000000",
          "2024-07-30T00:00:00.000000000"
         ],
         "xaxis": "x",
         "y": {
          "bdata": "rkfhWkIqZkDNzMxMhC1mQOxRuJ48MGZAw/UovHQzZkAAAABQ/DhmQEjhesQgQGZAAAAAQKRDZkCPwvU4RUtmQGZmZvaXVWZAw/UobAldZkCuR+Gqz2VmQHsUrlfKbmZAhetReAt4ZkDXo3CdgIJmQK5H4fpciWZAuB6FC7WOZkAzMzPjx5RmQLgehatgnGZAuB6Fu9qiZkCkcD3K5admQDMzM6MjrWZAFK5HAU20ZkAK16MgQblmQFK4HsUgvGZAMzMzc2i9ZkDsUbjuWsJmQJqZmUkux2ZA9ihcn17JZkBSuB51RshmQGZmZpZlyGZAexSul7LIZkAfhevRs8lmQMP1KIz9zWZAmpmZ6dnQZkDNzMxcINVmQAAAAAAi2WZA7FG4zhndZkBcj8J1At5mQNejcB1a4GZAKVyPorTfZkAfheuxLt5mQFyPwiV13mZAexSu93XgZkDhehTOO95mQFyPwjVe3mZAj8L1+MLkZkAUrkeRD+5mQLgehbu49WZAMzMzkzoBZ0AfhesxdxFnQKRwPfp+HmdAUrgeJZcrZ0AAAABQHjpnQFyPwhWMSmdAzczMvHRXZ0DhehQ+eWBnQMP1KHzybGdA7FG4Xrp1Z0DhehQ+CntnQLgehQskfGdAmpmZCfl4Z0DsUbieXnVnQBSuR7HhcWdA16NwbedvZ0BI4XrkpWtnQDMzM+NYZ2dAMzMzI2xkZ0Bcj8IFo2JnQDMzM3NoYWdA",
          "dtype": "f8"
         },
         "yaxis": "y"
        },
        {
         "line": {
          "color": "red"
         },
         "name": "SMA_200",
         "type": "scatter",
         "x": [
          "2024-04-22T00:00:00.000000000",
          "2024-04-23T00:00:00.000000000",
          "2024-04-24T00:00:00.000000000",
          "2024-04-25T00:00:00.000000000",
          "2024-04-26T00:00:00.000000000",
          "2024-04-29T00:00:00.000000000",
          "2024-04-30T00:00:00.000000000",
          "2024-05-01T00:00:00.000000000",
          "2024-05-02T00:00:00.000000000",
          "2024-05-03T00:00:00.000000000",
          "2024-05-06T00:00:00.000000000",
          "2024-05-07T00:00:00.000000000",
          "2024-05-08T00:00:00.000000000",
          "2024-05-09T00:00:00.000000000",
          "2024-05-10T00:00:00.000000000",
          "2024-05-13T00:00:00.000000000",
          "2024-05-14T00:00:00.000000000",
          "2024-05-15T00:00:00.000000000",
          "2024-05-16T00:00:00.000000000",
          "2024-05-17T00:00:00.000000000",
          "2024-05-20T00:00:00.000000000",
          "2024-05-21T00:00:00.000000000",
          "2024-05-22T00:00:00.000000000",
          "2024-05-23T00:00:00.000000000",
          "2024-05-24T00:00:00.000000000",
          "2024-05-28T00:00:00.000000000",
          "2024-05-29T00:00:00.000000000",
          "2024-05-30T00:00:00.000000000",
          "2024-05-31T00:00:00.000000000",
          "2024-06-03T00:00:00.000000000",
          "2024-06-04T00:00:00.000000000",
          "2024-06-05T00:00:00.000000000",
          "2024-06-06T00:00:00.000000000",
          "2024-06-07T00:00:00.000000000",
          "2024-06-10T00:00:00.000000000",
          "2024-06-11T00:00:00.000000000",
          "2024-06-12T00:00:00.000000000",
          "2024-06-13T00:00:00.000000000",
          "2024-06-14T00:00:00.000000000",
          "2024-06-17T00:00:00.000000000",
          "2024-06-18T00:00:00.000000000",
          "2024-06-20T00:00:00.000000000",
          "2024-06-21T00:00:00.000000000",
          "2024-06-24T00:00:00.000000000",
          "2024-06-25T00:00:00.000000000",
          "2024-06-26T00:00:00.000000000",
          "2024-06-27T00:00:00.000000000",
          "2024-06-28T00:00:00.000000000",
          "2024-07-01T00:00:00.000000000",
          "2024-07-02T00:00:00.000000000",
          "2024-07-03T00:00:00.000000000",
          "2024-07-05T00:00:00.000000000",
          "2024-07-08T00:00:00.000000000",
          "2024-07-09T00:00:00.000000000",
          "2024-07-10T00:00:00.000000000",
          "2024-07-11T00:00:00.000000000",
          "2024-07-12T00:00:00.000000000",
          "2024-07-15T00:00:00.000000000",
          "2024-07-16T00:00:00.000000000",
          "2024-07-17T00:00:00.000000000",
          "2024-07-18T00:00:00.000000000",
          "2024-07-19T00:00:00.000000000",
          "2024-07-22T00:00:00.000000000",
          "2024-07-23T00:00:00.000000000",
          "2024-07-24T00:00:00.000000000",
          "2024-07-25T00:00:00.000000000",
          "2024-07-26T00:00:00.000000000",
          "2024-07-29T00:00:00.000000000",
          "2024-07-30T00:00:00.000000000"
         ],
         "xaxis": "x",
         "y": {
          "bdata": "XI/C9+S9YkBSuB4j28ViQM3MzATFzWJAKVyPtvPUYkAUrkdhw9xiQK5H4ZI65GJAzczMFK7qYkBcj8JN8/FiQD0K17dA+mJAzczMiGMCY0CkcD2GyQtjQNejcFUwFWNAZmZmKqkeY0B7FK7rUShjQD0K1xPQMWNA16Nw3SQ7Y0CkcD3u60NjQEjheoxKTGNArkfhAppUY0D2KFzXo11jQIXrUXxhZmNAmpmZhVptY0DhehQy5nNjQHsUrg96emNA7FG4PleBY0CPwvWwUIhjQI/C9fRKj2NAw/UoKH6VY0BSuB4tsptjQD0K14OeomNAH4XrdeCpY0C4HoX/kLFjQHE9ChueuWNA9ihcJ6DBY0D2KFw738ljQJqZmQG80mNAj8L1sFDbY0DD9Sj0bONjQI/C9cA562NApHA9YhDzY0CF61FkO/pjQDMzM6foAWRAZmZmyjIKZEBI4XpkOxJkQK5H4Yr9GWRAhetR6NkiZEB7FK53nCtkQI/C9TTvM2RAZmZmdk88ZEAzMzO7J0VkQArXo6ROTmRAAAAAEOlXZEA9CtenxmFkQM3MzCQGbGRA9ihcL0x3ZECamZmt2IFkQPYoXCv2i2RAj8L11qOWZECF61HMXaFkQHE9CkVHq2RAmpmZ1Va0ZECF61Eo7bxkQD0K198txmRArkfhTq/PZEApXI/IdthkQOxRuDLE4GRAZmZm3nHpZEDXo3A9CvJkQDMzM1MF+mRA",
          "dtype": "f8"
         },
         "yaxis": "y"
        },
        {
         "marker": {
          "color": "rgba(0,0,255,0.3)"
         },
         "name": "Volume",
         "type": "bar",
         "x": [
          "2024-04-22T00:00:00.000000000",
          "2024-04-23T00:00:00.000000000",
          "2024-04-24T00:00:00.000000000",
          "2024-04-25T00:00:00.000000000",
          "2024-04-26T00:00:00.000000000",
          "2024-04-29T00:00:00.000000000",
          "2024-04-30T00:00:00.000000000",
          "2024-05-01T00:00:00.000000000",
          "2024-05-02T00:00:00.000000000",
          "2024-05-03T00:00:00.000000000",
          "2024-05-06T00:00:00.000000000",
          "2024-05-07T00:00:00.000000000",
          "2024-05-08T00:00:00.000000000",
          "2024-05-09T00:00:00.000000000",
          "2024-05-10T00:00:00.000000000",
          "2024-05-13T00:00:00.000000000",
          "2024-05-14T00:00:00.000000000",
          "2024-05-15T00:00:00.000000000",
          "2024-05-16T00:00:00.000000000",
          "2024-05-17T00:00:00.000000000",
          "2024-05-20T00:00:00.000000000",
          "2024-05-21T00:00:00.000000000",
          "2024-05-22T00:00:00.000000000",
          "2024-05-23T00:00:00.000000000",
          "2024-05-24T00:00:00.000000000",
          "2024-05-28T00:00:00.000000000",
          "2024-05-29T00:00:00.000000000",
          "2024-05-30T00:00:00.000000000",
          "2024-05-31T00:00:00.000000000",
          "2024-06-03T00:00:00.000000000",
          "2024-06-04T00:00:00.000000000",
          "2024-06-05T00:00:00.000000000",
          "2024-06-06T00:00:00.000000000",
          "2024-06-07T00:00:00.000000000",
          "2024-06-10T00:00:00.000000000",
          "2024-06-11T00:00:00.000000000",
          "2024-06-12T00:00:00.000000000",
          "2024-06-13T00:00:00.000000000",
          "2024-06-14T00:00:00.000000000",
          "2024-06-17T00:00:00.000000000",
          "2024-06-18T00:00:00.000000000",
          "2024-06-20T00:00:00.000000000",
          "2024-06-21T00:00:00.000000000",
          "2024-06-24T00:00:00.000000000",
          "2024-06-25T00:00:00.000000000",
          "2024-06-26T00:00:00.000000000",
          "2024-06-27T00:00:00.000000000",
          "2024-06-28T00:00:00.000000000",
          "2024-07-01T00:00:00.000000000",
          "2024-07-02T00:00:00.000000000",
          "2024-07-03T00:00:00.000000000",
          "2024-07-05T00:00:00.000000000",
          "2024-07-08T00:00:00.000000000",
          "2024-07-09T00:00:00.000000000",
          "2024-07-10T00:00:00.000000000",
          "2024-07-11T00:00:00.000000000",
          "2024-07-12T00:00:00.000000000",
          "2024-07-15T00:00:00.000000000",
          "2024-07-16T00:00:00.000000000",
          "2024-07-17T00:00:00.000000000",
          "2024-07-18T00:00:00.000000000",
          "2024-07-19T00:00:00.000000000",
          "2024-07-22T00:00:00.000000000",
          "2024-07-23T00:00:00.000000000",
          "2024-07-24T00:00:00.000000000",
          "2024-07-25T00:00:00.000000000",
          "2024-07-26T00:00:00.000000000",
          "2024-07-29T00:00:00.000000000",
          "2024-07-30T00:00:00.000000000"
         ],
         "xaxis": "x2",
         "y": {
          "bdata": "JLBCAuRINQKMnwkCeHzvArgpngIc8zgDuBakBWwrpAUMmzwDoLdVArTdEQKEiwcCUM+OAdC/lQJo9ggCKOx7Adh8TgI8bX8ERJFQApQ4+gG4ktEBPL4HA0CErQE4xAECdJyiAVimyAFUbOgBsE6+AVzNggMoxNUBwAOfAbAO6gHAr94B/JKrASRYDgJMCKAByI4GAhwaXgIQb4QB7D0fAgBgLwIQeqoC2NlYBOBABAMEW7wCHGjhAzw3bwSY3JUEQIp0AgDNtwJMJeIB1DJgAsSBEgLE9vIBWMT1AQgCqAJk5dIBwMZsAsy3BgJEld0CEN0KA0hgkQL8T2ECJF7VAvC7eQJIeKYC0DnCAVSp+wF42loC",
          "dtype": "i4"
         },
         "yaxis": "y2"
        },
        {
         "line": {
          "color": "purple"
         },
         "name": "VWAP",
         "type": "scatter",
         "x": [
          "2024-04-22T00:00:00.000000000",
          "2024-04-23T00:00:00.000000000",
          "2024-04-24T00:00:00.000000000",
          "2024-04-25T00:00:00.000000000",
          "2024-04-26T00:00:00.000000000",
          "2024-04-29T00:00:00.000000000",
          "2024-04-30T00:00:00.000000000",
          "2024-05-01T00:00:00.000000000",
          "2024-05-02T00:00:00.000000000",
          "2024-05-03T00:00:00.000000000",
          "2024-05-06T00:00:00.000000000",
          "2024-05-07T00:00:00.000000000",
          "2024-05-08T00:00:00.000000000",
          "2024-05-09T00:00:00.000000000",
          "2024-05-10T00:00:00.000000000",
          "2024-05-13T00:00:00.000000000",
          "2024-05-14T00:00:00.000000000",
          "2024-05-15T00:00:00.000000000",
          "2024-05-16T00:00:00.000000000",
          "2024-05-17T00:00:00.000000000",
          "2024-05-20T00:00:00.000000000",
          "2024-05-21T00:00:00.000000000",
          "2024-05-22T00:00:00.000000000",
          "2024-05-23T00:00:00.000000000",
          "2024-05-24T00:00:00.000000000",
          "2024-05-28T00:00:00.000000000",
          "2024-05-29T00:00:00.000000000",
          "2024-05-30T00:00:00.000000000",
          "2024-05-31T00:00:00.000000000",
          "2024-06-03T00:00:00.000000000",
          "2024-06-04T00:00:00.000000000",
          "2024-06-05T00:00:00.000000000",
          "2024-06-06T00:00:00.000000000",
          "2024-06-07T00:00:00.000000000",
          "2024-06-10T00:00:00.000000000",
          "2024-06-11T00:00:00.000000000",
          "2024-06-12T00:00:00.000000000",
          "2024-06-13T00:00:00.000000000",
          "2024-06-14T00:00:00.000000000",
          "2024-06-17T00:00:00.000000000",
          "2024-06-18T00:00:00.000000000",
          "2024-06-20T00:00:00.000000000",
          "2024-06-21T00:00:00.000000000",
          "2024-06-24T00:00:00.000000000",
          "2024-06-25T00:00:00.000000000",
          "2024-06-26T00:00:00.000000000",
          "2024-06-27T00:00:00.000000000",
          "2024-06-28T00:00:00.000000000",
          "2024-07-01T00:00:00.000000000",
          "2024-07-02T00:00:00.000000000",
          "2024-07-03T00:00:00.000000000",
          "2024-07-05T00:00:00.000000000",
          "2024-07-08T00:00:00.000000000",
          "2024-07-09T00:00:00.000000000",
          "2024-07-10T00:00:00.000000000",
          "2024-07-11T00:00:00.000000000",
          "2024-07-12T00:00:00.000000000",
          "2024-07-15T00:00:00.000000000",
          "2024-07-16T00:00:00.000000000",
          "2024-07-17T00:00:00.000000000",
          "2024-07-18T00:00:00.000000000",
          "2024-07-19T00:00:00.000000000",
          "2024-07-22T00:00:00.000000000",
          "2024-07-23T00:00:00.000000000",
          "2024-07-24T00:00:00.000000000",
          "2024-07-25T00:00:00.000000000",
          "2024-07-26T00:00:00.000000000",
          "2024-07-29T00:00:00.000000000",
          "2024-07-30T00:00:00.000000000"
         ],
         "xaxis": "x2",
         "y": {
          "bdata": "lnk7WUfcZkCmkkhQ69RmQK1nkVQ9zWZAzjgQhUKoZkC96YM86ZdmQFMSEy1Uj2ZAnSl5P0B5ZkDwNzQ5o2tmQESioDWiaGZAdUKGtcRoZkCSUG5xdm9mQO8dhGhlemZAsoK5mHSDZkCX3B7Ud6JmQCK6aUBotWZALLnYdDvBZkDZqszU4M9mQOBBCVmb8mZAnMAFdXn+ZkDjw5ILLAZnQCqjVGzXJ2dAZGxSX646Z0DIeWKQFj9nQArLLFmhNWdAGxiEN0cqZ0AZW/fPtRtnQE2Qs2PCEmdAqwnrjhz8ZkD4ajmwTtlmQFakTwMIymZATFgX0em6ZkCkLk0SjKdmQEubmDa1o2ZARPdscuuiZkDUatmOZadmQEfqM95zrWZAXp8bs3+2ZkB+2faAMb5mQKOdBMPowWZAaKgI/tLGZkBES1lUqcdmQFmkXngM1WZAp37KmXsFZ0DXfU+pkRtnQBaSKWNBK2dA0CGHAJBKZ0BVtsYNG3lnQHgiWwKbl2dAg4AiUo6qZ0A7rK0vKMJnQOvO3fwP02dAM8Pt4ZzuZ0DS245xGwVoQPUnm6rHHmhA/CixsYU5aEAf/U0bQFBoQJKlCz8caGhAQ3K3XDx4aEB7wVcUAYpoQIcRIAKIhmhAwJi1pqhiaEBHYU6MrkRoQP/tNuDlJmhAIGxZjX4FaEAEJ2t2OeNnQBhkl8astGdAEjfbHjyUZ0BycOjy1nVnQN4SiYiNVGdA",
          "dtype": "f8"
         },
         "yaxis": "y2"
        },
        {
         "line": {
          "color": "blue"
         },
         "name": "RSI",
         "type": "scatter",
         "x": [
          "2024-04-22T00:00:00.000000000",
          "2024-04-23T00:00:00.000000000",
          "2024-04-24T00:00:00.000000000",
          "2024-04-25T00:00:00.000000000",
          "2024-04-26T00:00:00.000000000",
          "2024-04-29T00:00:00.000000000",
          "2024-04-30T00:00:00.000000000",
          "2024-05-01T00:00:00.000000000",
          "2024-05-02T00:00:00.000000000",
          "2024-05-03T00:00:00.000000000",
          "2024-05-06T00:00:00.000000000",
          "2024-05-07T00:00:00.000000000",
          "2024-05-08T00:00:00.000000000",
          "2024-05-09T00:00:00.000000000",
          "2024-05-10T00:00:00.000000000",
          "2024-05-13T00:00:00.000000000",
          "2024-05-14T00:00:00.000000000",
          "2024-05-15T00:00:00.000000000",
          "2024-05-16T00:00:00.000000000",
          "2024-05-17T00:00:00.000000000",
          "2024-05-20T00:00:00.000000000",
          "2024-05-21T00:00:00.000000000",
          "2024-05-22T00:00:00.000000000",
          "2024-05-23T00:00:00.000000000",
          "2024-05-24T00:00:00.000000000",
          "2024-05-28T00:00:00.000000000",
          "2024-05-29T00:00:00.000000000",
          "2024-05-30T00:00:00.000000000",
          "2024-05-31T00:00:00.000000000",
          "2024-06-03T00:00:00.000000000",
          "2024-06-04T00:00:00.000000000",
          "2024-06-05T00:00:00.000000000",
          "2024-06-06T00:00:00.000000000",
          "2024-06-07T00:00:00.000000000",
          "2024-06-10T00:00:00.000000000",
          "2024-06-11T00:00:00.000000000",
          "2024-06-12T00:00:00.000000000",
          "2024-06-13T00:00:00.000000000",
          "2024-06-14T00:00:00.000000000",
          "2024-06-17T00:00:00.000000000",
          "2024-06-18T00:00:00.000000000",
          "2024-06-20T00:00:00.000000000",
          "2024-06-21T00:00:00.000000000",
          "2024-06-24T00:00:00.000000000",
          "2024-06-25T00:00:00.000000000",
          "2024-06-26T00:00:00.000000000",
          "2024-06-27T00:00:00.000000000",
          "2024-06-28T00:00:00.000000000",
          "2024-07-01T00:00:00.000000000",
          "2024-07-02T00:00:00.000000000",
          "2024-07-03T00:00:00.000000000",
          "2024-07-05T00:00:00.000000000",
          "2024-07-08T00:00:00.000000000",
          "2024-07-09T00:00:00.000000000",
          "2024-07-10T00:00:00.000000000",
          "2024-07-11T00:00:00.000000000",
          "2024-07-12T00:00:00.000000000",
          "2024-07-15T00:00:00.000000000",
          "2024-07-16T00:00:00.000000000",
          "2024-07-17T00:00:00.000000000",
          "2024-07-18T00:00:00.000000000",
          "2024-07-19T00:00:00.000000000",
          "2024-07-22T00:00:00.000000000",
          "2024-07-23T00:00:00.000000000",
          "2024-07-24T00:00:00.000000000",
          "2024-07-25T00:00:00.000000000",
          "2024-07-26T00:00:00.000000000",
          "2024-07-29T00:00:00.000000000",
          "2024-07-30T00:00:00.000000000"
         ],
         "xaxis": "x3",
         "y": {
          "bdata": "Ib0h3hFgRkDZGVK/Z6dIQI1G6jZfJEZA8scjPxD5Q0AYo63TMElJQJjL74yHTUpAd4fBeuP4RUAmbvSN7PNIQOi3oW5CekxAIxYBAYJLTUApbxnOm55OQDy/TtPUpk5A4tcp8Fj5TUB/VVQWc99OQG7ASuxu/ExAzfQGLcImTEDeMtn9doRMQBUve9WgcktAG+kYFLI4SUBmAZYsVypKQFI5YXAcDUlAHTuF17yrSEAW8SfzcqZIQHQL51cXiUZAKEJPcTo9RkB4VZ04xfVHQJUzdBz8z0dAAfvUHbbtRECKLqstYV9CQIzlnyXS5URA2cXoAWAoRkDf3kBjnHdIQO6u2F+DM0xAdWwkiLdjS0DujpDsF9pNQE88lBsW/01AAhEJkUSKTUB5c887hb5JQIvrVVQ9jElArl9KTvUCSkC5Z+FPcHNIQOnsDs0QKkxA7ccIfyvgTkCr6Xv7oKxKQBb9hdybZktA0CAAxgtrUECKu2oaX4tRQKCtxRCAbE5Aj8HUn5ZIUECqydOes/RQQBw5UR0jpk9Amht1pYpwUEDegAUF5BhQQFRp1S18HFBAHkF6770+UECtSv+SQ8BLQJruRYLSPktA9j9hUYKnSUBbMCAnPulJQCxjh/B8uUVA4fXzPCYCQ0D8ucei3qJCQJ9JGmSURkJAFYqi73UjRkAVV+i9VpxCQCW3L0ryEEJAtk4MsceSREDTwGIXWjdFQOKIL/hUNERA",
          "dtype": "f8"
         },
         "yaxis": "y3"
        },
        {
         "line": {
          "color": "green"
         },
         "name": "Stochastic %K",
         "type": "scatter",
         "x": [
          "2024-04-22T00:00:00.000000000",
          "2024-04-23T00:00:00.000000000",
          "2024-04-24T00:00:00.000000000",
          "2024-04-25T00:00:00.000000000",
          "2024-04-26T00:00:00.000000000",
          "2024-04-29T00:00:00.000000000",
          "2024-04-30T00:00:00.000000000",
          "2024-05-01T00:00:00.000000000",
          "2024-05-02T00:00:00.000000000",
          "2024-05-03T00:00:00.000000000",
          "2024-05-06T00:00:00.000000000",
          "2024-05-07T00:00:00.000000000",
          "2024-05-08T00:00:00.000000000",
          "2024-05-09T00:00:00.000000000",
          "2024-05-10T00:00:00.000000000",
          "2024-05-13T00:00:00.000000000",
          "2024-05-14T00:00:00.000000000",
          "2024-05-15T00:00:00.000000000",
          "2024-05-16T00:00:00.000000000",
          "2024-05-17T00:00:00.000000000",
          "2024-05-20T00:00:00.000000000",
          "2024-05-21T00:00:00.000000000",
          "2024-05-22T00:00:00.000000000",
          "2024-05-23T00:00:00.000000000",
          "2024-05-24T00:00:00.000000000",
          "2024-05-28T00:00:00.000000000",
          "2024-05-29T00:00:00.000000000",
          "2024-05-30T00:00:00.000000000",
          "2024-05-31T00:00:00.000000000",
          "2024-06-03T00:00:00.000000000",
          "2024-06-04T00:00:00.000000000",
          "2024-06-05T00:00:00.000000000",
          "2024-06-06T00:00:00.000000000",
          "2024-06-07T00:00:00.000000000",
          "2024-06-10T00:00:00.000000000",
          "2024-06-11T00:00:00.000000000",
          "2024-06-12T00:00:00.000000000",
          "2024-06-13T00:00:00.000000000",
          "2024-06-14T00:00:00.000000000",
          "2024-06-17T00:00:00.000000000",
          "2024-06-18T00:00:00.000000000",
          "2024-06-20T00:00:00.000000000",
          "2024-06-21T00:00:00.000000000",
          "2024-06-24T00:00:00.000000000",
          "2024-06-25T00:00:00.000000000",
          "2024-06-26T00:00:00.000000000",
          "2024-06-27T00:00:00.000000000",
          "2024-06-28T00:00:00.000000000",
          "2024-07-01T00:00:00.000000000",
          "2024-07-02T00:00:00.000000000",
          "2024-07-03T00:00:00.000000000",
          "2024-07-05T00:00:00.000000000",
          "2024-07-08T00:00:00.000000000",
          "2024-07-09T00:00:00.000000000",
          "2024-07-10T00:00:00.000000000",
          "2024-07-11T00:00:00.000000000",
          "2024-07-12T00:00:00.000000000",
          "2024-07-15T00:00:00.000000000",
          "2024-07-16T00:00:00.000000000",
          "2024-07-17T00:00:00.000000000",
          "2024-07-18T00:00:00.000000000",
          "2024-07-19T00:00:00.000000000",
          "2024-07-22T00:00:00.000000000",
          "2024-07-23T00:00:00.000000000",
          "2024-07-24T00:00:00.000000000",
          "2024-07-25T00:00:00.000000000",
          "2024-07-26T00:00:00.000000000",
          "2024-07-29T00:00:00.000000000",
          "2024-07-30T00:00:00.000000000"
         ],
         "xaxis": "x3",
         "y": {
          "bdata": "fJJfPXI1N0Asr39RYK1CQHE8L/kjSjNAv6s6JN9XP0C97UEesltMQFdpMXohN09A5ECCNeiBQkDi5iPEbVdMQJ1/5kgxkFRAY86SlwITV0B+30GGu/FYQM5aMsxEwFdAoG9Cz1fyVkBOrH6mO9VWQIp82rDa11RA6Sy1k2LyU0Bag1T5d3BUQPUOGbaijVBAMOD+f9AfSkDmYmsSOUpNQFfp2X4vDUdAOJ8E6Rh7O0A3vM7ANrw1QP8J/XoEsiBA8cuqDUoQF0BseUgtDMk1QJsNw3KBuDRAsw+yFv+mIEAx2duxPswxQA+jKVIeI0BAKaSNJoZZREBp8NciJZFLQNz+C0kAvVVANv2DsgBfVEDse0FSkK5YQIE5efZcB1hAIZdbk7F6VkCIHIWmNTJRQG5tXIMS51BAYazpdN2XUUCk2Cczwt5OQLIMzI6GHVVAW0LkbTGgWEANqX8XYVpPQImsD43F+k5AudA9lyzPVkClycvpAVRWQO4YJszoJlBA/j+WrZZ0VUCaC05gvnBYQBcBx7HTTVVAkFuUDeZJWEDgd6bXL5xWQD8s3yDgpVZAn+Kt2q8XV0BvB8Bws59OQN0GjG8I3ExAzJTOJWwhR0ADB0YitZ9GQKWYaKlmgilAOrJnIIpKJ0AcaYZUo6MsQBNjppeSIydAVGNNMDvfPUBRvx5Bw08LQJUdlwwCAClA2dk4edP6N0BAJx7P0UQ7QF4bAUub6zRA",
          "dtype": "f8"
         },
         "yaxis": "y3"
        },
        {
         "line": {
          "color": "red"
         },
         "name": "Stochastic %D",
         "type": "scatter",
         "x": [
          "2024-04-22T00:00:00.000000000",
          "2024-04-23T00:00:00.000000000",
          "2024-04-24T00:00:00.000000000",
          "2024-04-25T00:00:00.000000000",
          "2024-04-26T00:00:00.000000000",
          "2024-04-29T00:00:00.000000000",
          "2024-04-30T00:00:00.000000000",
          "2024-05-01T00:00:00.000000000",
          "2024-05-02T00:00:00.000000000",
          "2024-05-03T00:00:00.000000000",
          "2024-05-06T00:00:00.000000000",
          "2024-05-07T00:00:00.000000000",
          "2024-05-08T00:00:00.000000000",
          "2024-05-09T00:00:00.000000000",
          "2024-05-10T00:00:00.000000000",
          "2024-05-13T00:00:00.000000000",
          "2024-05-14T00:00:00.000000000",
          "2024-05-15T00:00:00.000000000",
          "2024-05-16T00:00:00.000000000",
          "2024-05-17T00:00:00.000000000",
          "2024-05-20T00:00:00.000000000",
          "2024-05-21T00:00:00.000000000",
          "2024-05-22T00:00:00.000000000",
          "2024-05-23T00:00:00.000000000",
          "2024-05-24T00:00:00.000000000",
          "2024-05-28T00:00:00.000000000",
          "2024-05-29T00:00:00.000000000",
          "2024-05-30T00:00:00.000000000",
          "2024-05-31T00:00:00.000000000",
          "2024-06-03T00:00:00.000000000",
          "2024-06-04T00:00:00.000000000",
          "2024-06-05T00:00:00.000000000",
          "2024-06-06T00:00:00.000000000",
          "2024-06-07T00:00:00.000000000",
          "2024-06-10T00:00:00.000000000",
          "2024-06-11T00:00:00.000000000",
          "2024-06-12T00:00:00.000000000",
          "2024-06-13T00:00:00.000000000",
          "2024-06-14T00:00:00.000000000",
          "2024-06-17T00:00:00.000000000",
          "2024-06-18T00:00:00.000000000",
          "2024-06-20T00:00:00.000000000",
          "2024-06-21T00:00:00.000000000",
          "2024-06-24T00:00:00.000000000",
          "2024-06-25T00:00:00.000000000",
          "2024-06-26T00:00:00.000000000",
          "2024-06-27T00:00:00.000000000",
          "2024-06-28T00:00:00.000000000",
          "2024-07-01T00:00:00.000000000",
          "2024-07-02T00:00:00.000000000",
          "2024-07-03T00:00:00.000000000",
          "2024-07-05T00:00:00.000000000",
          "2024-07-08T00:00:00.000000000",
          "2024-07-09T00:00:00.000000000",
          "2024-07-10T00:00:00.000000000",
          "2024-07-11T00:00:00.000000000",
          "2024-07-12T00:00:00.000000000",
          "2024-07-15T00:00:00.000000000",
          "2024-07-16T00:00:00.000000000",
          "2024-07-17T00:00:00.000000000",
          "2024-07-18T00:00:00.000000000",
          "2024-07-19T00:00:00.000000000",
          "2024-07-22T00:00:00.000000000",
          "2024-07-23T00:00:00.000000000",
          "2024-07-24T00:00:00.000000000",
          "2024-07-25T00:00:00.000000000",
          "2024-07-26T00:00:00.000000000",
          "2024-07-29T00:00:00.000000000",
          "2024-07-30T00:00:00.000000000"
         ],
         "xaxis": "x3",
         "y": {
          "bdata": "c4Nhnko/KUDLRdyc6J02QHdkL/McnjpAjRcjQEFUPUBMS1LkO+RBQFfk2rjrFElArTKnROkGSkBkMJ0mfQVKQAUN0YM9U01AfcCD6/hEU0AtD+nMT9xWQD1YAk5W7FdA/I3ntXLhV0BB0vsVSC1XQNUyibckNVZAmBxaTig1VUBHZKEU52hUQMA/tmvU+lJA0ADPT1avUECwdYn/xIFNQNQObLC9J0pATYlCV/wGRkC/ZILi5MU/QNpKG00bMDNA4aJ6VjLmJ0Cwy8uewO4nQLdoJ2E1FzBAVdp2Dq/xMEAvn/of1TovQMO3gqBTdzNAQM0Y4ddBPkCQEoXe7VlFQB2G1PPjdk5AG/xThIahUkADKJvEhUNWQI87av75BldAiBmynt+6V0BnpMi6FjxVQAsLv+n921JAy7xDigw7UUAOAp6wxaRQQM/hbbRBDFJAeL4Wsl1kVECKtnot+HhUQGWkDkDsmFJAhH4so+r9UUA50IXChTVUQMc7ZcQHblRAM7aCdoD6U0CFIa5Iv65UQOhujupiZlZAb82NCihYV0DbRquH+LtWQOj/XVenLldAQ4JmRpXIVkCKW6TmzVlUQPBN8ZiEnFFADeEIAriJS0A/NuDnDd9IQFnrJKaTYEFAiGbRjUs3N0AXPHJfMdApQDsq3K7qBSlAMEMhYkeWMkCdSNhCU+ctQB/cfRQjhi5AICtwmoiYKkADMDYa4j81QIkJyNtqDjhA",
          "dtype": "f8"
         },
         "yaxis": "y3"
        },
        {
         "line": {
          "color": "blue"
         },
         "name": "MACD",
         "type": "scatter",
         "x": [
          "2024-04-22T00:00:00.000000000",
          "2024-04-23T00:00:00.000000000",
          "2024-04-24T00:00:00.000000000",
          "2024-04-25T00:00:00.000000000",
          "2024-04-26T00:00:00.000000000",
          "2024-04-29T00:00:00.000000000",
          "2024-04-30T00:00:00.000000000",
          "2024-05-01T00:00:00.000000000",
          "2024-05-02T00:00:00.000000000",
          "2024-05-03T00:00:00.000000000",
          "2024-05-06T00:00:00.000000000",
          "2024-05-07T00:00:00.000000000",
          "2024-05-08T00:00:00.000000000",
          "2024-05-09T00:00:00.000000000",
          "2024-05-10T00:00:00.000000000",
          "2024-05-13T00:00:00.000000000",
          "2024-05-14T00:00:00.000000000",
          "2024-05-15T00:00:00.000000000",
          "2024-05-16T00:00:00.000000000",
          "2024-05-17T00:00:00.000000000",
          "2024-05-20T00:00:00.000000000",
          "2024-05-21T00:00:00.000000000",
          "2024-05-22T00:00:00.000000000",
          "2024-05-23T00:00:00.000000000",
          "2024-05-24T00:00:00.000000000",
          "2024-05-28T00:00:00.000000000",
          "2024-05-29T00:00:00.000000000",
          "2024-05-30T00:00:00.000000000",
          "2024-05-31T00:00:00.000000000",
          "2024-06-03T00:00:00.000000000",
          "2024-06-04T00:00:00.000000000",
          "2024-06-05T00:00:00.000000000",
          "2024-06-06T00:00:00.000000000",
          "2024-06-07T00:00:00.000000000",
          "2024-06-10T00:00:00.000000000",
          "2024-06-11T00:00:00.000000000",
          "2024-06-12T00:00:00.000000000",
          "2024-06-13T00:00:00.000000000",
          "2024-06-14T00:00:00.000000000",
          "2024-06-17T00:00:00.000000000",
          "2024-06-18T00:00:00.000000000",
          "2024-06-20T00:00:00.000000000",
          "2024-06-21T00:00:00.000000000",
          "2024-06-24T00:00:00.000000000",
          "2024-06-25T00:00:00.000000000",
          "2024-06-26T00:00:00.000000000",
          "2024-06-27T00:00:00.000000000",
          "2024-06-28T00:00:00.000000000",
          "2024-07-01T00:00:00.000000000",
          "2024-07-02T00:00:00.000000000",
          "2024-07-03T00:00:00.000000000",
          "2024-07-05T00:00:00.000000000",
          "2024-07-08T00:00:00.000000000",
          "2024-07-09T00:00:00.000000000",
          "2024-07-10T00:00:00.000000000",
          "2024-07-11T00:00:00.000000000",
          "2024-07-12T00:00:00.000000000",
          "2024-07-15T00:00:00.000000000",
          "2024-07-16T00:00:00.000000000",
          "2024-07-17T00:00:00.000000000",
          "2024-07-18T00:00:00.000000000",
          "2024-07-19T00:00:00.000000000",
          "2024-07-22T00:00:00.000000000",
          "2024-07-23T00:00:00.000000000",
          "2024-07-24T00:00:00.000000000",
          "2024-07-25T00:00:00.000000000",
          "2024-07-26T00:00:00.000000000",
          "2024-07-29T00:00:00.000000000",
          "2024-07-30T00:00:00.000000000"
         ],
         "xaxis": "x4",
         "y": {
          "bdata": "AApQygmA6D8AeaO5EGfjPwDwMsn5oM4/ANIOLCEs0r8AgC5G+6XLvwDwpQ9WWau/ACJCzMun2b8AOGUcC13WvwD42hLfWMM/AEpGLKUi5T+AuMAHlgL0PwBg5SyuQfs/AEIQNUKn/z+ALtPIclMCQAAdSLJAyQJAAP5hVhNaAkAAHulBHh8CQMD++p+dCwFAgFhievQA/T8APaB2pw36PwChbhbc9vU/AC0UaTYD8j8AO9W4D1/tPwALEkSQg+I/AKZQIaoP0j8AlA9PN0nEPwBgMDDIR6k/ADiBPawh0L8AwUzVBeLmvwDoanuAYe2/AB6955aV778Au1gAnv/rvwAKMJN2v96/AGBzHuBgzL8AWNZJzxLKPwCyBkIhi+E/APuDPREd6T8AlrEqcfLmPwC4CmjejeQ/ANpkfVx34z8A1BhzAGfePwAnwUm0FeQ/AB0R9gRK7z8AfbNzPMDuPwDsba3B8e8/gLISzmmJ+T+Ai47+VxMDQEDC/k403QRAwEiI32GMCEAAu0oFK/EMQIAVUdM+hA5AwOwHy194EEDgFaqcZgERQAD1UiY7PxFAoIfgwR1iEUCAoITNFI8PQEC2v9crVAxAAI1NfH1YCEDA99jolCMFQABYIf5aRv4/AM7cKYdh7j8AKExdOUPDPwC8kLrmv+C/AI3F1eSZ578AMcIM33j1vwBB4ghEDv6/gDlf0ieHAMDAD37vchEBwICHesBtPwLA",
          "dtype": "f8"
         },
         "yaxis": "y4"
        },
        {
         "line": {
          "color": "red"
         },
         "name": "Signal",
         "type": "scatter",
         "x": [
          "2024-04-22T00:00:00.000000000",
          "2024-04-23T00:00:00.000000000",
          "2024-04-24T00:00:00.000000000",
          "2024-04-25T00:00:00.000000000",
          "2024-04-26T00:00:00.000000000",
          "2024-04-29T00:00:00.000000000",
          "2024-04-30T00:00:00.000000000",
          "2024-05-01T00:00:00.000000000",
          "2024-05-02T00:00:00.000000000",
          "2024-05-03T00:00:00.000000000",
          "2024-05-06T00:00:00.000000000",
          "2024-05-07T00:00:00.000000000",
          "2024-05-08T00:00:00.000000000",
          "2024-05-09T00:00:00.000000000",
          "2024-05-10T00:00:00.000000000",
          "2024-05-13T00:00:00.000000000",
          "2024-05-14T00:00:00.000000000",
          "2024-05-15T00:00:00.000000000",
          "2024-05-16T00:00:00.000000000",
          "2024-05-17T00:00:00.000000000",
          "2024-05-20T00:00:00.000000000",
          "2024-05-21T00:00:00.000000000",
          "2024-05-22T00:00:00.000000000",
          "2024-05-23T00:00:00.000000000",
          "2024-05-24T00:00:00.000000000",
          "2024-05-28T00:00:00.000000000",
          "2024-05-29T00:00:00.000000000",
          "2024-05-30T00:00:00.000000000",
          "2024-05-31T00:00:00.000000000",
          "2024-06-03T00:00:00.000000000",
          "2024-06-04T00:00:00.000000000",
          "2024-06-05T00:00:00.000000000",
          "2024-06-06T00:00:00.000000000",
          "2024-06-07T00:00:00.000000000",
          "2024-06-10T00:00:00.000000000",
          "2024-06-11T00:00:00.000000000",
          "2024-06-12T00:00:00.000000000",
          "2024-06-13T00:00:00.000000000",
          "2024-06-14T00:00:00.000000000",
          "2024-06-17T00:00:00.000000000",
          "2024-06-18T00:00:00.000000000",
          "2024-06-20T00:00:00.000000000",
          "2024-06-21T00:00:00.000000000",
          "2024-06-24T00:00:00.000000000",
          "2024-06-25T00:00:00.000000000",
          "2024-06-26T00:00:00.000000000",
          "2024-06-27T00:00:00.000000000",
          "2024-06-28T00:00:00.000000000",
          "2024-07-01T00:00:00.000000000",
          "2024-07-02T00:00:00.000000000",
          "2024-07-03T00:00:00.000000000",
          "2024-07-05T00:00:00.000000000",
          "2024-07-08T00:00:00.000000000",
          "2024-07-09T00:00:00.000000000",
          "2024-07-10T00:00:00.000000000",
          "2024-07-11T00:00:00.000000000",
          "2024-07-12T00:00:00.000000000",
          "2024-07-15T00:00:00.000000000",
          "2024-07-16T00:00:00.000000000",
          "2024-07-17T00:00:00.000000000",
          "2024-07-18T00:00:00.000000000",
          "2024-07-19T00:00:00.000000000",
          "2024-07-22T00:00:00.000000000",
          "2024-07-23T00:00:00.000000000",
          "2024-07-24T00:00:00.000000000",
          "2024-07-25T00:00:00.000000000",
          "2024-07-26T00:00:00.000000000",
          "2024-07-29T00:00:00.000000000",
          "2024-07-30T00:00:00.000000000"
         ],
         "xaxis": "x4",
         "y": {
          "bdata": "H03DgBvnAEBL1MgTFPz8PwkjdU4W9Pc/VV7DLxBB8j/udumIANPrP1l/VY3i6uU/KfjhUtvv3T+I7gajE3rTP22kTgQmhNE/8m3BrpN31j8u3ABJqv3gP74J9uXNfug/s6plM/kg8D/CNAwTwjv0PzWcJvCBs/c/xRVGfDxN+j/Rg8h9PEr8P44COD48c/0/8kYNF2Fc/T/1RMTDCLP8P/jwfwczWvs/YGNqgQB8+T80op2TG1P3P92CGbDXgvQ/mArydNtP8T/APnflobbsPwHNLDhnSec/AbhjwCcE4T8Cpk2roxLSP0BzNIqvpaU/wM2MaiLwxL9N0FvEGZPTv9jbH1Qsz9W/4J++rAZJ1L8z7tI44T3Lvz5aWq/MCK+/HAevgpbEuz/Yejoj/XbNP7166GrxAdQ/ZLlIIebK1z8dJT/LUR3ZP+TGfyYjINw/wrtpDQ+C4T9o4t4hGCjkP+19+3Cgg+Y/WN8D4N057D+9KtQlr+vyP34Jdtdte/c/GYsubOWa/D8+kCH5/ToBQOWqxCQ+4wNA0U1tO4t/BkA0epvU/swIQJGQnexJvQpAGt3XCkdYDEDJnS2Y1vwMQK6iF9ga2wxAjNGIki70C0DKcjIKQ5cKQAhLxVTYTAhAU0ZPbI31BECPxTYOFQIBQOXC4tC9ifk/a6ch+AAS8j94K+iH21LkPxojsKRR8sA/XLQedYWq07++VKQhXoXlv2XjSxuj0O+/",
          "dtype": "f8"
         },
         "yaxis": "y4"
        },
        {
         "marker": {
          "color": "rgba(0,255,0,0.3)"
         },
         "name": "MACD Diff",
         "type": "bar",
         "x": [
          "2024-04-22T00:00:00.000000000",
          "2024-04-23T00:00:00.000000000",
          "2024-04-24T00:00:00.000000000",
          "2024-04-25T00:00:00.000000000",
          "2024-04-26T00:00:00.000000000",
          "2024-04-29T00:00:00.000000000",
          "2024-04-30T00:00:00.000000000",
          "2024-05-01T00:00:00.000000000",
          "2024-05-02T00:00:00.000000000",
          "2024-05-03T00:00:00.000000000",
          "2024-05-06T00:00:00.000000000",
          "2024-05-07T00:00:00.000000000",
          "2024-05-08T00:00:00.000000000",
          "2024-05-09T00:00:00.000000000",
          "2024-05-10T00:00:00.000000000",
          "2024-05-13T00:00:00.000000000",
          "2024-05-14T00:00:00.000000000",
          "2024-05-15T00:00:00.000000000",
          "2024-05-16T00:00:00.000000000",
          "2024-05-17T00:00:00.000000000",
          "2024-05-20T00:00:00.000000000",
          "2024-05-21T00:00:00.000000000",
          "2024-05-22T00:00:00.000000000",
          "2024-05-23T00:00:00.000000000",
          "2024-05-24T00:00:00.000000000",
          "2024-05-28T00:00:00.000000000",
          "2024-05-29T00:00:00.000000000",
          "2024-05-30T00:00:00.000000000",
          "2024-05-31T00:00:00.000000000",
          "2024-06-03T00:00:00.000000000",
          "2024-06-04T00:00:00.000000000",
          "2024-06-05T00:00:00.000000000",
          "2024-06-06T00:00:00.000000000",
          "2024-06-07T00:00:00.000000000",
          "2024-06-10T00:00:00.000000000",
          "2024-06-11T00:00:00.000000000",
          "2024-06-12T00:00:00.000000000",
          "2024-06-13T00:00:00.000000000",
          "2024-06-14T00:00:00.000000000",
          "2024-06-17T00:00:00.000000000",
          "2024-06-18T00:00:00.000000000",
          "2024-06-20T00:00:00.000000000",
          "2024-06-21T00:00:00.000000000",
          "2024-06-24T00:00:00.000000000",
          "2024-06-25T00:00:00.000000000",
          "2024-06-26T00:00:00.000000000",
          "2024-06-27T00:00:00.000000000",
          "2024-06-28T00:00:00.000000000",
          "2024-07-01T00:00:00.000000000",
          "2024-07-02T00:00:00.000000000",
          "2024-07-03T00:00:00.000000000",
          "2024-07-05T00:00:00.000000000",
          "2024-07-08T00:00:00.000000000",
          "2024-07-09T00:00:00.000000000",
          "2024-07-10T00:00:00.000000000",
          "2024-07-11T00:00:00.000000000",
          "2024-07-12T00:00:00.000000000",
          "2024-07-15T00:00:00.000000000",
          "2024-07-16T00:00:00.000000000",
          "2024-07-17T00:00:00.000000000",
          "2024-07-18T00:00:00.000000000",
          "2024-07-19T00:00:00.000000000",
          "2024-07-22T00:00:00.000000000",
          "2024-07-23T00:00:00.000000000",
          "2024-07-24T00:00:00.000000000",
          "2024-07-25T00:00:00.000000000",
          "2024-07-26T00:00:00.000000000",
          "2024-07-29T00:00:00.000000000",
          "2024-07-30T00:00:00.000000000"
         ],
         "xaxis": "x4",
         "y": {
          "bdata": "PpVeHDKO9b/LF/e2i0jzvwnFThX3H/S/1RLHehjM9r93izqtP17xv1neT+53oOe/FA2Sj9PL679EE7Zfj+vkv7ShhOvZXr+/DibLqbbN0z/SlIDGgQfnP0K21HOOBO4/mi5VA5IM7z8+KJp+I2vwP5Y70+j+ves/dsz7YNTN5D+84CYYANDfP8jr9wb8j9I/gJy7Kifblr+oPyBpCivFv+A/RcRbjdW/gNlYYSjj3b9oCWZuJ0fhv7r6IBwfgua/MMI72eGX6b/AWbMRVKTnvwHHKbXqtOW/AVQk3/0U6b8BlPOqV+vvvzQvDnTbu+6/kOoZTY5Z6r/a0ioeETbiv1BcIH6U4MG/gL8TdlpiuD8ao1RBWKjaP6RX/Ayue+M/HBoubX6k5T+U7sXDYynfP0P1LGXLGdU/OPUBs6VHzj+Mu2afuia1PzgOBdqKFsg/fMJO0euP2z8wNamjSDDVPybc5HhC3NI/qIUhvPXY5j9D7EjXADvzPwJ7h8b6PvI/ZwbiUt599D+EVVIYWmz3PzbVGF0BQvU/XhdFtWji9D8YY3HJnGvyP7xlIYCxBO8/mMik49Gv6T+4Fbiq8ZHUP8CN/Qrg3bC/YCTasYjd3L8o7GWFuM7lvxA+aatVU/K/piWwQ1e6+r8eBsTwwpv/v3KQFZfY9ADA620EY/Pe/b+8RrbQTKL/v7IivB5HFgDA6cV2R64j/L8h9SnONmD3v04dT/OJlvS/",
          "dtype": "f8"
         },
         "yaxis": "y4"
        },
        {
         "line": {
          "color": "gray",
          "dash": "dash"
         },
         "name": "BB Upper",
         "type": "scatter",
         "x": [
          "2024-04-22T00:00:00.000000000",
          "2024-04-23T00:00:00.000000000",
          "2024-04-24T00:00:00.000000000",
          "2024-04-25T00:00:00.000000000",
          "2024-04-26T00:00:00.000000000",
          "2024-04-29T00:00:00.000000000",
          "2024-04-30T00:00:00.000000000",
          "2024-05-01T00:00:00.000000000",
          "2024-05-02T00:00:00.000000000",
          "2024-05-03T00:00:00.000000000",
          "2024-05-06T00:00:00.000000000",
          "2024-05-07T00:00:00.000000000",
          "2024-05-08T00:00:00.000000000",
          "2024-05-09T00:00:00.000000000",
          "2024-05-10T00:00:00.000000000",
          "2024-05-13T00:00:00.000000000",
          "2024-05-14T00:00:00.000000000",
          "2024-05-15T00:00:00.000000000",
          "2024-05-16T00:00:00.000000000",
          "2024-05-17T00:00:00.000000000",
          "2024-05-20T00:00:00.000000000",
          "2024-05-21T00:00:00.000000000",
          "2024-05-22T00:00:00.000000000",
          "2024-05-23T00:00:00.000000000",
          "2024-05-24T00:00:00.000000000",
          "2024-05-28T00:00:00.000000000",
          "2024-05-29T00:00:00.000000000",
          "2024-05-30T00:00:00.000000000",
          "2024-05-31T00:00:00.000000000",
          "2024-06-03T00:00:00.000000000",
          "2024-06-04T00:00:00.000000000",
          "2024-06-05T00:00:00.000000000",
          "2024-06-06T00:00:00.000000000",
          "2024-06-07T00:00:00.000000000",
          "2024-06-10T00:00:00.000000000",
          "2024-06-11T00:00:00.000000000",
          "2024-06-12T00:00:00.000000000",
          "2024-06-13T00:00:00.000000000",
          "2024-06-14T00:00:00.000000000",
          "2024-06-17T00:00:00.000000000",
          "2024-06-18T00:00:00.000000000",
          "2024-06-20T00:00:00.000000000",
          "2024-06-21T00:00:00.000000000",
          "2024-06-24T00:00:00.000000000",
          "2024-06-25T00:00:00.000000000",
          "2024-06-26T00:00:00.000000000",
          "2024-06-27T00:00:00.000000000",
          "2024-06-28T00:00:00.000000000",
          "2024-07-01T00:00:00.000000000",
          "2024-07-02T00:00:00.000000000",
          "2024-07-03T00:00:00.000000000",
          "2024-07-05T00:00:00.000000000",
          "2024-07-08T00:00:00.000000000",
          "2024-07-09T00:00:00.000000000",
          "2024-07-10T00:00:00.000000000",
          "2024-07-11T00:00:00.000000000",
          "2024-07-12T00:00:00.000000000",
          "2024-07-15T00:00:00.000000000",
          "2024-07-16T00:00:00.000000000",
          "2024-07-17T00:00:00.000000000",
          "2024-07-18T00:00:00.000000000",
          "2024-07-19T00:00:00.000000000",
          "2024-07-22T00:00:00.000000000",
          "2024-07-23T00:00:00.000000000",
          "2024-07-24T00:00:00.000000000",
          "2024-07-25T00:00:00.000000000",
          "2024-07-26T00:00:00.000000000",
          "2024-07-29T00:00:00.000000000",
          "2024-07-30T00:00:00.000000000"
         ],
         "xaxis": "x5",
         "y": {
          "bdata": "esaiALqaZ0C1m8s70ZpnQNIU08v+nmdAIwvdSPauZ0BiBDOvq65nQM6hp6yormdAlBQFMBq1Z0A4Yvi2uLBnQFJwFaiHvGdAlKGxpADCZ0DRLYQYftVnQKzBZqpY5mdAr0MCZMjwZ0AsUz5AtfNnQGwkV1g4+mdAA6RHHuMEaEBEMJooIxJoQAQqfVmDHWhA7dpNm5MhaEB627q/Ch1oQLPV3IHQGmhA5f9EghkbaEDtOyaMCBNoQMFJ2Tu39mdATPoJS2L0Z0AYJP3VP/NnQH4rg0ES1GdAQfMuWJXSZ0BEXxZ7VOdnQMq0/IGY6GdADQh4LKLXZ0CPR754VcBnQL7bdQzDsWdAOwMv6+qTZ0BqyBZhKZFnQGmEVG02lWdA4yEZXxmUZ0Blyf2lYotnQMDnPnJ3i2dAr2zwnzCJZ0B0yTHQjYdnQEEGdWC3kmdARaAnTiOwZ0BP/zFFF7hnQH++jlzTwWdAh7SCHKb9Z0DLLPGbglVoQAX1EPASdWhA+HqCZWWfaEBO5AOTtttoQKHXN1fl+2hARPZ7tN8paUBRfraSoFFpQG2fai6tcmlA1rdE7kKUaUB43NDH8Z1pQOkpEholpGlAAIkXYCmeaUBs8Wn9k5RpQGKVST0CimlAkk1aX7WFaUBr27L7mZBpQChvDYFSoWlAtSgY2myfaUC4TNuKz7FpQHBV0HlkwmlA7BjBC1K1aUAHotNla7JpQNHhMbP0oGlA",
          "dtype": "f8"
         },
         "yaxis": "y5"
        },
        {
         "line": {
          "color": "gray",
          "dash": "dash"
         },
         "name": "BB Lower",
         "type": "scatter",
         "x": [
          "2024-04-22T00:00:00.000000000",
          "2024-04-23T00:00:00.000000000",
          "2024-04-24T00:00:00.000000000",
          "2024-04-25T00:00:00.000000000",
          "2024-04-26T00:00:00.000000000",
          "2024-04-29T00:00:00.000000000",
          "2024-04-30T00:00:00.000000000",
          "2024-05-01T00:00:00.000000000",
          "2024-05-02T00:00:00.000000000",
          "2024-05-03T00:00:00.000000000",
          "2024-05-06T00:00:00.000000000",
          "2024-05-07T00:00:00.000000000",
          "2024-05-08T00:00:00.000000000",
          "2024-05-09T00:00:00.000000000",
          "2024-05-10T00:00:00.000000000",
          "2024-05-13T00:00:00.000000000",
          "2024-05-14T00:00:00.000000000",
          "2024-05-15T00:00:00.000000000",
          "2024-05-16T00:00:00.000000000",
          "2024-05-17T00:00:00.000000000",
          "2024-05-20T00:00:00.000000000",
          "2024-05-21T00:00:00.000000000",
          "2024-05-22T00:00:00.000000000",
          "2024-05-23T00:00:00.000000000",
          "2024-05-24T00:00:00.000000000",
          "2024-05-28T00:00:00.000000000",
          "2024-05-29T00:00:00.000000000",
          "2024-05-30T00:00:00.000000000",
          "2024-05-31T00:00:00.000000000",
          "2024-06-03T00:00:00.000000000",
          "2024-06-04T00:00:00.000000000",
          "2024-06-05T00:00:00.000000000",
          "2024-06-06T00:00:00.000000000",
          "2024-06-07T00:00:00.000000000",
          "2024-06-10T00:00:00.000000000",
          "2024-06-11T00:00:00.000000000",
          "2024-06-12T00:00:00.000000000",
          "2024-06-13T00:00:00.000000000",
          "2024-06-14T00:00:00.000000000",
          "2024-06-17T00:00:00.000000000",
          "2024-06-18T00:00:00.000000000",
          "2024-06-20T00:00:00.000000000",
          "2024-06-21T00:00:00.000000000",
          "2024-06-24T00:00:00.000000000",
          "2024-06-25T00:00:00.000000000",
          "2024-06-26T00:00:00.000000000",
          "2024-06-27T00:00:00.000000000",
          "2024-06-28T00:00:00.000000000",
          "2024-07-01T00:00:00.000000000",
          "2024-07-02T00:00:00.000000000",
          "2024-07-03T00:00:00.000000000",
          "2024-07-05T00:00:00.000000000",
          "2024-07-08T00:00:00.000000000",
          "2024-07-09T00:00:00.000000000",
          "2024-07-10T00:00:00.000000000",
          "2024-07-11T00:00:00.000000000",
          "2024-07-12T00:00:00.000000000",
          "2024-07-15T00:00:00.000000000",
          "2024-07-16T00:00:00.000000000",
          "2024-07-17T00:00:00.000000000",
          "2024-07-18T00:00:00.000000000",
          "2024-07-19T00:00:00.000000000",
          "2024-07-22T00:00:00.000000000",
          "2024-07-23T00:00:00.000000000",
          "2024-07-24T00:00:00.000000000",
          "2024-07-25T00:00:00.000000000",
          "2024-07-26T00:00:00.000000000",
          "2024-07-29T00:00:00.000000000",
          "2024-07-30T00:00:00.000000000"
         ],
         "xaxis": "x5",
         "y": {
          "bdata": "UgYqHPTgZUCxypqaUeBlQC7rLDSr1mVAd468cP2yZUCe+8xw2bBlQDJeWEPUsGVAbOv6fy2YZUAuBG5/pZFlQBT2UC7xlGVABvjnFB6TZUD7nkgE3IplQFQ+mcXkg2VAHYnKaASAZUDUrMEviH5lQC51QgFXfGVA/Vu44Rx7ZUC8z2XX3HllQPzVghaPfWVA3/F+gZuHZUC6V3izXaxlQOfDvBfJwmVAtZlUZw3OZUDfkKbwC+tlQD+2JvT6HmZA6DgpmO0kZkCCdZzj3ilmQLYHsEGDX2ZAWaZqUQZiZkC8oOk0yDJmQGp+NhFVGGZAv8RUsFcLZkBxuEHHtApmQKiK8JmtD2ZAxfzQ5OEcZkCWN+leSx5mQDEVRfxaHGZAUREalOQcZkA10JvTsR5mQAzljZq1HmZAg8ZCI/AeZkCKNs7vPB5mQCNg8QWEHGZA7ZILVSISZkB9zZonpRhmQH9BcWPMIGZAEeUWraUJZkDNbKgdceRlQMfXuzx08WVAOriwXZAJZkDkTi8QjxJmQPfBYbLGLGZAIHDqwbM6ZkDhtHxArUBmQPnG+2fBT2ZAKki7EehWZkDuiZVeP2ZmQEsJIfldeGZANKobY8yaZkAuqC98VcJmQATRHIlJ2WZAouXYc5jgZkBh8RnRMsxmQKRdv+uUpmZAF6S0siqrZkB85lc4JodmQMTdYhmJSmZAroDYzXwmZkAtkV99OglmQPvqmskf6WVA",
          "dtype": "f8"
         },
         "yaxis": "y5"
        },
        {
         "line": {
          "color": "gray"
         },
         "name": "BB Middle",
         "type": "scatter",
         "x": [
          "2024-04-22T00:00:00.000000000",
          "2024-04-23T00:00:00.000000000",
          "2024-04-24T00:00:00.000000000",
          "2024-04-25T00:00:00.000000000",
          "2024-04-26T00:00:00.000000000",
          "2024-04-29T00:00:00.000000000",
          "2024-04-30T00:00:00.000000000",
          "2024-05-01T00:00:00.000000000",
          "2024-05-02T00:00:00.000000000",
          "2024-05-03T00:00:00.000000000",
          "2024-05-06T00:00:00.000000000",
          "2024-05-07T00:00:00.000000000",
          "2024-05-08T00:00:00.000000000",
          "2024-05-09T00:00:00.000000000",
          "2024-05-10T00:00:00.000000000",
          "2024-05-13T00:00:00.000000000",
          "2024-05-14T00:00:00.000000000",
          "2024-05-15T00:00:00.000000000",
          "2024-05-16T00:00:00.000000000",
          "2024-05-17T00:00:00.000000000",
          "2024-05-20T00:00:00.000000000",
          "2024-05-21T00:00:00.000000000",
          "2024-05-22T00:00:00.000000000",
          "2024-05-23T00:00:00.000000000",
          "2024-05-24T00:00:00.000000000",
          "2024-05-28T00:00:00.000000000",
          "2024-05-29T00:00:00.000000000",
          "2024-05-30T00:00:00.000000000",
          "2024-05-31T00:00:00.000000000",
          "2024-06-03T00:00:00.000000000",
          "2024-06-04T00:00:00.000000000",
          "2024-06-05T00:00:00.000000000",
          "2024-06-06T00:00:00.000000000",
          "2024-06-07T00:00:00.000000000",
          "2024-06-10T00:00:00.000000000",
          "2024-06-11T00:00:00.000000000",
          "2024-06-12T00:00:00.000000000",
          "2024-06-13T00:00:00.000000000",
          "2024-06-14T00:00:00.000000000",
          "2024-06-17T00:00:00.000000000",
          "2024-06-18T00:00:00.000000000",
          "2024-06-20T00:00:00.000000000",
          "2024-06-21T00:00:00.000000000",
          "2024-06-24T00:00:00.000000000",
          "2024-06-25T00:00:00.000000000",
          "2024-06-26T00:00:00.000000000",
          "2024-06-27T00:00:00.000000000",
          "2024-06-28T00:00:00.000000000",
          "2024-07-01T00:00:00.000000000",
          "2024-07-02T00:00:00.000000000",
          "2024-07-03T00:00:00.000000000",
          "2024-07-05T00:00:00.000000000",
          "2024-07-08T00:00:00.000000000",
          "2024-07-09T00:00:00.000000000",
          "2024-07-10T00:00:00.000000000",
          "2024-07-11T00:00:00.000000000",
          "2024-07-12T00:00:00.000000000",
          "2024-07-15T00:00:00.000000000",
          "2024-07-16T00:00:00.000000000",
          "2024-07-17T00:00:00.000000000",
          "2024-07-18T00:00:00.000000000",
          "2024-07-19T00:00:00.000000000",
          "2024-07-22T00:00:00.000000000",
          "2024-07-23T00:00:00.000000000",
          "2024-07-24T00:00:00.000000000",
          "2024-07-25T00:00:00.000000000",
          "2024-07-26T00:00:00.000000000",
          "2024-07-29T00:00:00.000000000",
          "2024-07-30T00:00:00.000000000"
         ],
         "xaxis": "x5",
         "y": {
          "bdata": "ZmZmDte9ZkAzMzNrkb1mQAAAAADVumZAzczM3PmwZkAAAACQwq9mQAAAAHi+r2ZAAAAA2KOmZkAzMzMbL6FmQDMzM2u8qGZAzczMXI+qZkBmZmYOLbBmQAAAALgetWZAZmZmZma4ZkAAAAC4HrlmQM3MzKxHu2ZAAAAAAADAZkAAAAAAAMZmQAAAADiJzWZAZmZmjpfUZkCamZk5tORmQM3MzMzM7mZAzczMdJP0ZkBmZmY+Cv9mQAAAABjZCmdAmpmZ8acMZ0DNzMxcjw5nQJqZmcHKGWdAzczM1E0aZ0AAAABYDg1nQJqZmcl2AGdAZmZm7nzxZkAAAAAgheVmQDMzM1O44GZAAAAAaGbYZkAAAABgutdmQM3MzLTI2GZAmpmZ+X7YZkDNzMw8CtVmQGZmZoYW1WZAmZmZYRDUZkD///9f5dJmQDIzM7Od12ZAmZmZ0SLhZkBmZmY2XuhmQP///99P8WZAzMzM5KUDZ0DMzMzc+RxnQGZmZpZDM2dAmZmZ4XpUZ0CZmZnRIndnQMzMzARWlGdAMjMzu0myZ0CZmZnpJslnQDMzM0s34WdAAAAAgJX1Z0AzMzOTGAJoQJqZmYlBDmhAmpmZ4XocaEDNzMy8dCtoQDMzM+OlMWhAmpmZ6SYzaEBmZmZmZi5oQGZmZrbzI2hAZmZmxkslaECamZnhehxoQJqZmcl2BmhAzczMbOftZ0CamZnx0t1nQGZmZj4KxWdA",
          "dtype": "f8"
         },
         "yaxis": "y5"
        }
       ],
       "layout": {
        "annotations": [
         {
          "font": {
           "size": 16
          },
          "showarrow": false,
          "text": "AMZN Price and Indicators",
          "x": 0.5,
          "xanchor": "center",
          "xref": "paper",
          "y": 1,
          "yanchor": "bottom",
          "yref": "paper"
         },
         {
          "font": {
           "size": 16
          },
          "showarrow": false,
          "text": "Volume and VWAP",
          "x": 0.5,
          "xanchor": "center",
          "xref": "paper",
          "y": 0.63,
          "yanchor": "bottom",
          "yref": "paper"
         },
         {
          "font": {
           "size": 16
          },
          "showarrow": false,
          "text": "RSI and Stochastic",
          "x": 0.5,
          "xanchor": "center",
          "xref": "paper",
          "y": 0.45999999999999996,
          "yanchor": "bottom",
          "yref": "paper"
         },
         {
          "font": {
           "size": 16
          },
          "showarrow": false,
          "text": "MACD",
          "x": 0.5,
          "xanchor": "center",
          "xref": "paper",
          "y": 0.29,
          "yanchor": "bottom",
          "yref": "paper"
         },
         {
          "font": {
           "size": 16
          },
          "showarrow": false,
          "text": "Bollinger Bands",
          "x": 0.5,
          "xanchor": "center",
          "xref": "paper",
          "y": 0.12,
          "yanchor": "bottom",
          "yref": "paper"
         }
        ],
        "height": 1200,
        "legend": {
         "orientation": "h",
         "x": 1,
         "xanchor": "right",
         "y": 1.02,
         "yanchor": "bottom"
        },
        "shapes": [
         {
          "line": {
           "color": "red",
           "dash": "dash"
          },
          "type": "line",
          "x0": 0,
          "x1": 1,
          "xref": "x3 domain",
          "y0": 70,
          "y1": 70,
          "yref": "y3"
         },
         {
          "line": {
           "color": "green",
           "dash": "dash"
          },
          "type": "line",
          "x0": 0,
          "x1": 1,
          "xref": "x3 domain",
          "y0": 30,
          "y1": 30,
          "yref": "y3"
         }
        ],
        "showlegend": true,
        "template": {
         "data": {
          "bar": [
           {
            "error_x": {
             "color": "#2a3f5f"
            },
            "error_y": {
             "color": "#2a3f5f"
            },
            "marker": {
             "line": {
              "color": "white",
              "width": 0.5
             },
             "pattern": {
              "fillmode": "overlay",
              "size": 10,
              "solidity": 0.2
             }
            },
            "type": "bar"
           }
          ],
          "barpolar": [
           {
            "marker": {
             "line": {
              "color": "white",
              "width": 0.5
             },
             "pattern": {
              "fillmode": "overlay",
              "size": 10,
              "solidity": 0.2
             }
            },
            "type": "barpolar"
           }
          ],
          "carpet": [
           {
            "aaxis": {
             "endlinecolor": "#2a3f5f",
             "gridcolor": "#C8D4E3",
             "linecolor": "#C8D4E3",
             "minorgridcolor": "#C8D4E3",
             "startlinecolor": "#2a3f5f"
            },
            "baxis": {
             "endlinecolor": "#2a3f5f",
             "gridcolor": "#C8D4E3",
             "linecolor": "#C8D4E3",
             "minorgridcolor": "#C8D4E3",
             "startlinecolor": "#2a3f5f"
            },
            "type": "carpet"
           }
          ],
          "choropleth": [
           {
            "colorbar": {
             "outlinewidth": 0,
             "ticks": ""
            },
            "type": "choropleth"
           }
          ],
          "contour": [
           {
            "colorbar": {
             "outlinewidth": 0,
             "ticks": ""
            },
            "colorscale": [
             [
              0,
              "#0d0887"
             ],
             [
              0.1111111111111111,
              "#46039f"
             ],
             [
              0.2222222222222222,
              "#7201a8"
             ],
             [
              0.3333333333333333,
              "#9c179e"
             ],
             [
              0.4444444444444444,
              "#bd3786"
             ],
             [
              0.5555555555555556,
              "#d8576b"
             ],
             [
              0.6666666666666666,
              "#ed7953"
             ],
             [
              0.7777777777777778,
              "#fb9f3a"
             ],
             [
              0.8888888888888888,
              "#fdca26"
             ],
             [
              1,
              "#f0f921"
             ]
            ],
            "type": "contour"
           }
          ],
          "contourcarpet": [
           {
            "colorbar": {
             "outlinewidth": 0,
             "ticks": ""
            },
            "type": "contourcarpet"
           }
          ],
          "heatmap": [
           {
            "colorbar": {
             "outlinewidth": 0,
             "ticks": ""
            },
            "colorscale": [
             [
              0,
              "#0d0887"
             ],
             [
              0.1111111111111111,
              "#46039f"
             ],
             [
              0.2222222222222222,
              "#7201a8"
             ],
             [
              0.3333333333333333,
              "#9c179e"
             ],
             [
              0.4444444444444444,
              "#bd3786"
             ],
             [
              0.5555555555555556,
              "#d8576b"
             ],
             [
              0.6666666666666666,
              "#ed7953"
             ],
             [
              0.7777777777777778,
              "#fb9f3a"
             ],
             [
              0.8888888888888888,
              "#fdca26"
             ],
             [
              1,
              "#f0f921"
             ]
            ],
            "type": "heatmap"
           }
          ],
          "histogram": [
           {
            "marker": {
             "pattern": {
              "fillmode": "overlay",
              "size": 10,
              "solidity": 0.2
             }
            },
            "type": "histogram"
           }
          ],
          "histogram2d": [
           {
            "colorbar": {
             "outlinewidth": 0,
             "ticks": ""
            },
            "colorscale": [
             [
              0,
              "#0d0887"
             ],
             [
              0.1111111111111111,
              "#46039f"
             ],
             [
              0.2222222222222222,
              "#7201a8"
             ],
             [
              0.3333333333333333,
              "#9c179e"
             ],
             [
              0.4444444444444444,
              "#bd3786"
             ],
             [
              0.5555555555555556,
              "#d8576b"
             ],
             [
              0.6666666666666666,
              "#ed7953"
             ],
             [
              0.7777777777777778,
              "#fb9f3a"
             ],
             [
              0.8888888888888888,
              "#fdca26"
             ],
             [
              1,
              "#f0f921"
             ]
            ],
            "type": "histogram2d"
           }
          ],
          "histogram2dcontour": [
           {
            "colorbar": {
             "outlinewidth": 0,
             "ticks": ""
            },
            "colorscale": [
             [
              0,
              "#0d0887"
             ],
             [
              0.1111111111111111,
              "#46039f"
             ],
             [
              0.2222222222222222,
              "#7201a8"
             ],
             [
              0.3333333333333333,
              "#9c179e"
             ],
             [
              0.4444444444444444,
              "#bd3786"
             ],
             [
              0.5555555555555556,
              "#d8576b"
             ],
             [
              0.6666666666666666,
              "#ed7953"
             ],
             [
              0.7777777777777778,
              "#fb9f3a"
             ],
             [
              0.8888888888888888,
              "#fdca26"
             ],
             [
              1,
              "#f0f921"
             ]
            ],
            "type": "histogram2dcontour"
           }
          ],
          "mesh3d": [
           {
            "colorbar": {
             "outlinewidth": 0,
             "ticks": ""
            },
            "type": "mesh3d"
           }
          ],
          "parcoords": [
           {
            "line": {
             "colorbar": {
              "outlinewidth": 0,
              "ticks": ""
             }
            },
            "type": "parcoords"
           }
          ],
          "pie": [
           {
            "automargin": true,
            "type": "pie"
           }
          ],
          "scatter": [
           {
            "fillpattern": {
             "fillmode": "overlay",
             "size": 10,
             "solidity": 0.2
            },
            "type": "scatter"
           }
          ],
          "scatter3d": [
           {
            "line": {
             "colorbar": {
              "outlinewidth": 0,
              "ticks": ""
             }
            },
            "marker": {
             "colorbar": {
              "outlinewidth": 0,
              "ticks": ""
             }
            },
            "type": "scatter3d"
           }
          ],
          "scattercarpet": [
           {
            "marker": {
             "colorbar": {
              "outlinewidth": 0,
              "ticks": ""
             }
            },
            "type": "scattercarpet"
           }
          ],
          "scattergeo": [
           {
            "marker": {
             "colorbar": {
              "outlinewidth": 0,
              "ticks": ""
             }
            },
            "type": "scattergeo"
           }
          ],
          "scattergl": [
           {
            "marker": {
             "colorbar": {
              "outlinewidth": 0,
              "ticks": ""
             }
            },
            "type": "scattergl"
           }
          ],
          "scattermap": [
           {
            "marker": {
             "colorbar": {
              "outlinewidth": 0,
              "ticks": ""
             }
            },
            "type": "scattermap"
           }
          ],
          "scattermapbox": [
           {
            "marker": {
             "colorbar": {
              "outlinewidth": 0,
              "ticks": ""
             }
            },
            "type": "scattermapbox"
           }
          ],
          "scatterpolar": [
           {
            "marker": {
             "colorbar": {
              "outlinewidth": 0,
              "ticks": ""
             }
            },
            "type": "scatterpolar"
           }
          ],
          "scatterpolargl": [
           {
            "marker": {
             "colorbar": {
              "outlinewidth": 0,
              "ticks": ""
             }
            },
            "type": "scatterpolargl"
           }
          ],
          "scatterternary": [
           {
            "marker": {
             "colorbar": {
              "outlinewidth": 0,
              "ticks": ""
             }
            },
            "type": "scatterternary"
           }
          ],
          "surface": [
           {
            "colorbar": {
             "outlinewidth": 0,
             "ticks": ""
            },
            "colorscale": [
             [
              0,
              "#0d0887"
             ],
             [
              0.1111111111111111,
              "#46039f"
             ],
             [
              0.2222222222222222,
              "#7201a8"
             ],
             [
              0.3333333333333333,
              "#9c179e"
             ],
             [
              0.4444444444444444,
              "#bd3786"
             ],
             [
              0.5555555555555556,
              "#d8576b"
             ],
             [
              0.6666666666666666,
              "#ed7953"
             ],
             [
              0.7777777777777778,
              "#fb9f3a"
             ],
             [
              0.8888888888888888,
              "#fdca26"
             ],
             [
              1,
              "#f0f921"
             ]
            ],
            "type": "surface"
           }
          ],
          "table": [
           {
            "cells": {
             "fill": {
              "color": "#EBF0F8"
             },
             "line": {
              "color": "white"
             }
            },
            "header": {
             "fill": {
              "color": "#C8D4E3"
             },
             "line": {
              "color": "white"
             }
            },
            "type": "table"
           }
          ]
         },
         "layout": {
          "annotationdefaults": {
           "arrowcolor": "#2a3f5f",
           "arrowhead": 0,
           "arrowwidth": 1
          },
          "autotypenumbers": "strict",
          "coloraxis": {
           "colorbar": {
            "outlinewidth": 0,
            "ticks": ""
           }
          },
          "colorscale": {
           "diverging": [
            [
             0,
             "#8e0152"
            ],
            [
             0.1,
             "#c51b7d"
            ],
            [
             0.2,
             "#de77ae"
            ],
            [
             0.3,
             "#f1b6da"
            ],
            [
             0.4,
             "#fde0ef"
            ],
            [
             0.5,
             "#f7f7f7"
            ],
            [
             0.6,
             "#e6f5d0"
            ],
            [
             0.7,
             "#b8e186"
            ],
            [
             0.8,
             "#7fbc41"
            ],
            [
             0.9,
             "#4d9221"
            ],
            [
             1,
             "#276419"
            ]
           ],
           "sequential": [
            [
             0,
             "#0d0887"
            ],
            [
             0.1111111111111111,
             "#46039f"
            ],
            [
             0.2222222222222222,
             "#7201a8"
            ],
            [
             0.3333333333333333,
             "#9c179e"
            ],
            [
             0.4444444444444444,
             "#bd3786"
            ],
            [
             0.5555555555555556,
             "#d8576b"
            ],
            [
             0.6666666666666666,
             "#ed7953"
            ],
            [
             0.7777777777777778,
             "#fb9f3a"
            ],
            [
             0.8888888888888888,
             "#fdca26"
            ],
            [
             1,
             "#f0f921"
            ]
           ],
           "sequentialminus": [
            [
             0,
             "#0d0887"
            ],
            [
             0.1111111111111111,
             "#46039f"
            ],
            [
             0.2222222222222222,
             "#7201a8"
            ],
            [
             0.3333333333333333,
             "#9c179e"
            ],
            [
             0.4444444444444444,
             "#bd3786"
            ],
            [
             0.5555555555555556,
             "#d8576b"
            ],
            [
             0.6666666666666666,
             "#ed7953"
            ],
            [
             0.7777777777777778,
             "#fb9f3a"
            ],
            [
             0.8888888888888888,
             "#fdca26"
            ],
            [
             1,
             "#f0f921"
            ]
           ]
          },
          "colorway": [
           "#636efa",
           "#EF553B",
           "#00cc96",
           "#ab63fa",
           "#FFA15A",
           "#19d3f3",
           "#FF6692",
           "#B6E880",
           "#FF97FF",
           "#FECB52"
          ],
          "font": {
           "color": "#2a3f5f"
          },
          "geo": {
           "bgcolor": "white",
           "lakecolor": "white",
           "landcolor": "white",
           "showlakes": true,
           "showland": true,
           "subunitcolor": "#C8D4E3"
          },
          "hoverlabel": {
           "align": "left"
          },
          "hovermode": "closest",
          "mapbox": {
           "style": "light"
          },
          "paper_bgcolor": "white",
          "plot_bgcolor": "white",
          "polar": {
           "angularaxis": {
            "gridcolor": "#EBF0F8",
            "linecolor": "#EBF0F8",
            "ticks": ""
           },
           "bgcolor": "white",
           "radialaxis": {
            "gridcolor": "#EBF0F8",
            "linecolor": "#EBF0F8",
            "ticks": ""
           }
          },
          "scene": {
           "xaxis": {
            "backgroundcolor": "white",
            "gridcolor": "#DFE8F3",
            "gridwidth": 2,
            "linecolor": "#EBF0F8",
            "showbackground": true,
            "ticks": "",
            "zerolinecolor": "#EBF0F8"
           },
           "yaxis": {
            "backgroundcolor": "white",
            "gridcolor": "#DFE8F3",
            "gridwidth": 2,
            "linecolor": "#EBF0F8",
            "showbackground": true,
            "ticks": "",
            "zerolinecolor": "#EBF0F8"
           },
           "zaxis": {
            "backgroundcolor": "white",
            "gridcolor": "#DFE8F3",
            "gridwidth": 2,
            "linecolor": "#EBF0F8",
            "showbackground": true,
            "ticks": "",
            "zerolinecolor": "#EBF0F8"
           }
          },
          "shapedefaults": {
           "line": {
            "color": "#2a3f5f"
           }
          },
          "ternary": {
           "aaxis": {
            "gridcolor": "#DFE8F3",
            "linecolor": "#A2B1C6",
            "ticks": ""
           },
           "baxis": {
            "gridcolor": "#DFE8F3",
            "linecolor": "#A2B1C6",
            "ticks": ""
           },
           "bgcolor": "white",
           "caxis": {
            "gridcolor": "#DFE8F3",
            "linecolor": "#A2B1C6",
            "ticks": ""
           }
          },
          "title": {
           "x": 0.05
          },
          "xaxis": {
           "automargin": true,
           "gridcolor": "#EBF0F8",
           "linecolor": "#EBF0F8",
           "ticks": "",
           "title": {
            "standoff": 15
           },
           "zerolinecolor": "#EBF0F8",
           "zerolinewidth": 2
          },
          "yaxis": {
           "automargin": true,
           "gridcolor": "#EBF0F8",
           "linecolor": "#EBF0F8",
           "ticks": "",
           "title": {
            "standoff": 15
           },
           "zerolinecolor": "#EBF0F8",
           "zerolinewidth": 2
          }
         }
        },
        "title": {
         "text": "AMZN Technical Analysis Dashboard"
        },
        "xaxis": {
         "anchor": "y",
         "domain": [
          0,
          1
         ],
         "matches": "x5",
         "rangeslider": {
          "visible": false
         },
         "showticklabels": false
        },
        "xaxis2": {
         "anchor": "y2",
         "domain": [
          0,
          1
         ],
         "matches": "x5",
         "showticklabels": false
        },
        "xaxis3": {
         "anchor": "y3",
         "domain": [
          0,
          1
         ],
         "matches": "x5",
         "showticklabels": false
        },
        "xaxis4": {
         "anchor": "y4",
         "domain": [
          0,
          1
         ],
         "matches": "x5",
         "showticklabels": false
        },
        "xaxis5": {
         "anchor": "y5",
         "domain": [
          0,
          1
         ]
        },
        "yaxis": {
         "anchor": "x",
         "domain": [
          0.6799999999999999,
          1
         ],
         "title": {
          "text": "Price"
         }
        },
        "yaxis2": {
         "anchor": "x2",
         "domain": [
          0.51,
          0.63
         ],
         "title": {
          "text": "Volume"
         }
        },
        "yaxis3": {
         "anchor": "x3",
         "domain": [
          0.33999999999999997,
          0.45999999999999996
         ],
         "title": {
          "text": "RSI/Stochastic"
         }
        },
        "yaxis4": {
         "anchor": "x4",
         "domain": [
          0.16999999999999998,
          0.29
         ],
         "title": {
          "text": "MACD"
         }
        },
        "yaxis5": {
         "anchor": "x5",
         "domain": [
          0,
          0.12
         ],
         "title": {
          "text": "Bollinger Bands"
         }
        }
       }
      }
     },
     "metadata": {},
     "output_type": "display_data"
    },
    {
     "name": "stdout",
     "output_type": "stream",
     "text": [
      "\n",
      "Generating dashboard for GOOG...\n"
     ]
    },
    {
     "data": {
      "application/vnd.plotly.v1+json": {
       "config": {
        "plotlyServerURL": "https://plot.ly"
       },
       "data": [
        {
         "close": {
          "bdata": "AAAAYGa+Y0AAAACgcP1jQAAAAEAzI2RAAAAAYGa+Y0AAAACAFLZlQAAAAMDM/GRAAAAA4HqUZEAAAACAPbJkQAAAAGC4DmVAAAAAIK4fZUAAAABgjzplQAAAACBcn2VAAAAAwB5lZUAAAABgj3JlQAAAAKBHSWVAAAAAwMxcZUAAAACAwn1lQAAAAAApvGVAAAAAgMLtZUAAAACgRylmQAAAAGC4TmZAAAAAoEdxZkAAAAAAAEBmQAAAAIDr4WVAAAAAYI8KZkAAAADgo0BmQAAAAMDMLGZAAAAAgOuxZUAAAABguL5lQAAAAKBwzWVAAAAAACnkZUAAAACAPSJmQAAAAEAzS2ZAAAAAYGb+ZUAAAAAAKRRmQAAAAIAURmZAAAAAgOtxZkAAAAAgrhdmQAAAAADXS2ZAAAAAwPVYZkAAAABgZg5mQAAAAGC4NmZAAQAA4FGIZkAAAACgR5lmQAAAAGCPMmdAAAAAANcrZ0ABAAAghVtnQAAAAKBw7WZAAQAAIK4PZ0ABAAAghVNnQAAAAOB6bGdAAAAAYLj+Z0D///8fXM9nQAAAAIAUzmdA////vx4VaEAAAACgmWlnQAAAAMD1WGdAAAAAgBSGZ0AAAAAAADBnQAAAAADX02ZAAAAAQApnZkAAAADgemxmQP///z8z62ZA////PzPzZkAAAAAA18tlQAAAAMAeJWVAAAAAgMIVZUAAAAAAKWRlQAAAACCFe2VA",
          "dtype": "f8"
         },
         "high": {
          "bdata": "AAAAgOvlY0AAAAAgXA9kQAAAAOB6LGRAAAAAwPXIY0AAAACgcA1mQAAAAAApbGVAAAAAANc7ZUAAAACA6xllQAAAAMD1EGVAAAAAQDM7ZUAAAADAzDxlQAAAAEAKr2VAAAAAgBZ9ZUAAAACAFI5lQAAAAEDhamVAAAAAYGZeZUAAAADA9ZhlQAAAAOB4wWVAAAAAQOEKZkAAAAAA1y9mQAAAAGBmfmZAAAAAgD16ZkAAAACgQ1tmQAAAAMAefWZAAAAAYLopZkAAAADgUVBmQAAAACBcR2ZAAAAAgBQWZkAAAACgcM1lQAAAACCF+2VAAAAAgBTmZUAAAABACj9mQAAAAGC4VmZAAAAAoHBtZkAAAABACk9mQAAAAOB6TGZAAAAAYI/CZkAAAADgUVBmQAAAACBcV2ZAAAAAoHB9ZkAAAADAHl1mQAAAACCuV2ZAAAAAQGLQZkAAAABgj8JmQAAAAAAAOGdAAAAAgMI9Z0AAAAAAAHBnQAAAAGCPUmdAAQAAQOEqZ0AAAABgZl5nQAAAAADXc2dAAQAA4FEIaEAAAABguvVnQAEAACCFG2hA////f+spaED///+/Hg1oQAAAAIAUlmdAAQAAwMy8Z0ABAABA4cpnQP///x9cJ2dAAAAAoJkBZ0AAAABACr9mQAAAAKCZCWdAAAAAQAonZ0AAAABgZj5mQAAAAGBm5mVAAAAAQOE6ZUAAAADAHoVlQAAAAGBmnmVA",
          "dtype": "f8"
         },
         "low": {
          "bdata": "AAAAwB51Y0AAAABA4b5jQAAAAIA92mNAAAAAgJMYY0AAAADAzGxlQAAAAIDr4WRAAAAAAACQZEAAAADAzJxkQAAAAIAUtmRAAAAAIFyfZEAAAADgevxkQAAAAAAAQGVAAAAAQLRQZUAAAACAwj1lQAAAAMAe/WRAAAAA4FG4ZEAAAACgcE1lQAAAAMD1gGVAAAAAoJnBZUAAAAAgXN9lQAAAAEAzJ2ZAAAAAgOspZkAAAADA9RhmQAAAAKBH0WVAAAAAYGbmZUAAAACAwvVlQAAAAOBRCGZAAAAAIFynZUAAAABACl9lQAAAAGBmjmVAAAAAQAqnZUAAAACgR+llQAAAAGC4JmZAAAAAoEf5ZUAAAAAAKcxlQAAAAIAU7mVAAAAAwPU4ZkAAAADAHhVmQAAAAKBD+2VAAAAAIK4PZkAAAAAA1/NlQAAAAGC4DmZAAAAAgOtBZkD///8fXIdmQP///x9co2ZAAQAAIK7/ZkAAAABgZi5nQAAAAGBm6mZA////H1zXZkD///9/6+FmQAEAAOBRLGdAAAAAgD1qZ0AAAACAPapnQP///x9cx2dAAAAAANfTZ0AAAACAPVpnQAAAAOB6RGdAAQAAIK5PZ0AAAAAA1yNnQAAAAADXs2ZAAAAAYLhGZkAAAAAghVtmQAEAAMDMvGZAAAAAYI/qZkAAAACAPbJlQAAAAKCZIWVAAAAAIK67ZEAAAABACjdlQAAAAADXQ2VA",
          "dtype": "f8"
         },
         "name": "OHLC",
         "open": {
          "bdata": "AAAA4FGAY0AAAABA4dJjQAAAAEDh4mNAAAAAIIUrY0AAAAAgrv9lQAAAAOCjWGVAAAAAACnsZEAAAACAwsVkQAAAAKBw1WRAAAAAoEcxZUAAAABACidlQAAAAADXQ2VAAAAAAABYZUAAAADAzGRlQAAAAIAUNmVAAAAAoBq7ZEAAAABA4XJlQAAAAKCZiWVAAAAAQDPTZUAAAACgmfFlQAAAAIDrKWZAAAAAwMxMZkAAAADAzExmQAAAAMD1WGZAAAAA4KMQZkAAAAAgrvdlQAAAAIDrGWZAAAAAgBQWZkAAAADAzKxlQAAAAAApvGVAAAAAYGbOZUAAAADAHhFmQAAAAIDCLWZAAAAAYLhOZkAAAABgZg5mQAAAAEAKN2ZAAAAAAAB4ZkAAAABA4TpmQAAAAKBD+2VAAAAAIFwfZkAAAACgR1lmQAAAAGC4FmZAAAAAIK5PZkAAAADA9ahmQP///9+jpGZAAAAAYGYGZ0D////fozRnQAAAAEAKN2dA////H1wPZ0AAAABACu9mQAAAAKCZSWdAAAAAgD1qZ0ABAAAgrutnQAAAAAAA+GdAAAAAAADYZ0ABAABA4epnQAAAAKBwXWdAAQAAIK5PZ0AAAABguJ5nQAAAAIDCFWdAAAAAoEfxZkAAAAAA14tmQP///z8zy2ZAAQAAQOH6ZkAAAADgeuxlQAAAAAAAyGVAAAAA4KMYZUAAAAAAAFBlQAAAAGCPemVA",
          "dtype": "f8"
         },
         "type": "candlestick",
         "x": [
          "2024-04-22T00:00:00.000000000",
          "2024-04-23T00:00:00.000000000",
          "2024-04-24T00:00:00.000000000",
          "2024-04-25T00:00:00.000000000",
          "2024-04-26T00:00:00.000000000",
          "2024-04-29T00:00:00.000000000",
          "2024-04-30T00:00:00.000000000",
          "2024-05-01T00:00:00.000000000",
          "2024-05-02T00:00:00.000000000",
          "2024-05-03T00:00:00.000000000",
          "2024-05-06T00:00:00.000000000",
          "2024-05-07T00:00:00.000000000",
          "2024-05-08T00:00:00.000000000",
          "2024-05-09T00:00:00.000000000",
          "2024-05-10T00:00:00.000000000",
          "2024-05-13T00:00:00.000000000",
          "2024-05-14T00:00:00.000000000",
          "2024-05-15T00:00:00.000000000",
          "2024-05-16T00:00:00.000000000",
          "2024-05-17T00:00:00.000000000",
          "2024-05-20T00:00:00.000000000",
          "2024-05-21T00:00:00.000000000",
          "2024-05-22T00:00:00.000000000",
          "2024-05-23T00:00:00.000000000",
          "2024-05-24T00:00:00.000000000",
          "2024-05-28T00:00:00.000000000",
          "2024-05-29T00:00:00.000000000",
          "2024-05-30T00:00:00.000000000",
          "2024-05-31T00:00:00.000000000",
          "2024-06-03T00:00:00.000000000",
          "2024-06-04T00:00:00.000000000",
          "2024-06-05T00:00:00.000000000",
          "2024-06-06T00:00:00.000000000",
          "2024-06-07T00:00:00.000000000",
          "2024-06-10T00:00:00.000000000",
          "2024-06-11T00:00:00.000000000",
          "2024-06-12T00:00:00.000000000",
          "2024-06-13T00:00:00.000000000",
          "2024-06-14T00:00:00.000000000",
          "2024-06-17T00:00:00.000000000",
          "2024-06-18T00:00:00.000000000",
          "2024-06-20T00:00:00.000000000",
          "2024-06-21T00:00:00.000000000",
          "2024-06-24T00:00:00.000000000",
          "2024-06-25T00:00:00.000000000",
          "2024-06-26T00:00:00.000000000",
          "2024-06-27T00:00:00.000000000",
          "2024-06-28T00:00:00.000000000",
          "2024-07-01T00:00:00.000000000",
          "2024-07-02T00:00:00.000000000",
          "2024-07-03T00:00:00.000000000",
          "2024-07-05T00:00:00.000000000",
          "2024-07-08T00:00:00.000000000",
          "2024-07-09T00:00:00.000000000",
          "2024-07-10T00:00:00.000000000",
          "2024-07-11T00:00:00.000000000",
          "2024-07-12T00:00:00.000000000",
          "2024-07-15T00:00:00.000000000",
          "2024-07-16T00:00:00.000000000",
          "2024-07-17T00:00:00.000000000",
          "2024-07-18T00:00:00.000000000",
          "2024-07-19T00:00:00.000000000",
          "2024-07-22T00:00:00.000000000",
          "2024-07-23T00:00:00.000000000",
          "2024-07-24T00:00:00.000000000",
          "2024-07-25T00:00:00.000000000",
          "2024-07-26T00:00:00.000000000",
          "2024-07-29T00:00:00.000000000",
          "2024-07-30T00:00:00.000000000"
         ],
         "xaxis": "x",
         "yaxis": "y"
        },
        {
         "line": {
          "color": "blue"
         },
         "name": "SMA_20",
         "type": "scatter",
         "x": [
          "2024-04-22T00:00:00.000000000",
          "2024-04-23T00:00:00.000000000",
          "2024-04-24T00:00:00.000000000",
          "2024-04-25T00:00:00.000000000",
          "2024-04-26T00:00:00.000000000",
          "2024-04-29T00:00:00.000000000",
          "2024-04-30T00:00:00.000000000",
          "2024-05-01T00:00:00.000000000",
          "2024-05-02T00:00:00.000000000",
          "2024-05-03T00:00:00.000000000",
          "2024-05-06T00:00:00.000000000",
          "2024-05-07T00:00:00.000000000",
          "2024-05-08T00:00:00.000000000",
          "2024-05-09T00:00:00.000000000",
          "2024-05-10T00:00:00.000000000",
          "2024-05-13T00:00:00.000000000",
          "2024-05-14T00:00:00.000000000",
          "2024-05-15T00:00:00.000000000",
          "2024-05-16T00:00:00.000000000",
          "2024-05-17T00:00:00.000000000",
          "2024-05-20T00:00:00.000000000",
          "2024-05-21T00:00:00.000000000",
          "2024-05-22T00:00:00.000000000",
          "2024-05-23T00:00:00.000000000",
          "2024-05-24T00:00:00.000000000",
          "2024-05-28T00:00:00.000000000",
          "2024-05-29T00:00:00.000000000",
          "2024-05-30T00:00:00.000000000",
          "2024-05-31T00:00:00.000000000",
          "2024-06-03T00:00:00.000000000",
          "2024-06-04T00:00:00.000000000",
          "2024-06-05T00:00:00.000000000",
          "2024-06-06T00:00:00.000000000",
          "2024-06-07T00:00:00.000000000",
          "2024-06-10T00:00:00.000000000",
          "2024-06-11T00:00:00.000000000",
          "2024-06-12T00:00:00.000000000",
          "2024-06-13T00:00:00.000000000",
          "2024-06-14T00:00:00.000000000",
          "2024-06-17T00:00:00.000000000",
          "2024-06-18T00:00:00.000000000",
          "2024-06-20T00:00:00.000000000",
          "2024-06-21T00:00:00.000000000",
          "2024-06-24T00:00:00.000000000",
          "2024-06-25T00:00:00.000000000",
          "2024-06-26T00:00:00.000000000",
          "2024-06-27T00:00:00.000000000",
          "2024-06-28T00:00:00.000000000",
          "2024-07-01T00:00:00.000000000",
          "2024-07-02T00:00:00.000000000",
          "2024-07-03T00:00:00.000000000",
          "2024-07-05T00:00:00.000000000",
          "2024-07-08T00:00:00.000000000",
          "2024-07-09T00:00:00.000000000",
          "2024-07-10T00:00:00.000000000",
          "2024-07-11T00:00:00.000000000",
          "2024-07-12T00:00:00.000000000",
          "2024-07-15T00:00:00.000000000",
          "2024-07-16T00:00:00.000000000",
          "2024-07-17T00:00:00.000000000",
          "2024-07-18T00:00:00.000000000",
          "2024-07-19T00:00:00.000000000",
          "2024-07-22T00:00:00.000000000",
          "2024-07-23T00:00:00.000000000",
          "2024-07-24T00:00:00.000000000",
          "2024-07-25T00:00:00.000000000",
          "2024-07-26T00:00:00.000000000",
          "2024-07-29T00:00:00.000000000",
          "2024-07-30T00:00:00.000000000"
         ],
         "xaxis": "x",
         "y": {
          "bdata": "mpmZuUl2Y0AzMzPrUYRjQJqZmSlck2NAMzMz2/mcY0BmZmaWQ79jQGZmZgaB0WNAAAAAOInfY0AzMzOLQe5jQDMzMyOwCGRAZmZmnsQgZEAzMzMLrDZkQJqZmYFqTmRAMzMzGwRkZECamZmxR3VkQAAAAEAKh2RAZmZmHlqeZEAzMzML17dkQGZmZj4K02RAAAAAwMrvZECamZnRTRJlQAAAALgeM2VAmpmZEYNSZUBmZmZOjW1lQAAAAJDtiGVAAAAA6CaNZUAAAAAQWJ1lQGZmZo7CsWVAmpmZQYu+ZUBmZmYOWMdlQGZmZi4I0GVAAAAAEIPYZUDNzMxUDt9lQDMzM1uP6mVAZmZmTo3xZUDNzMwssvtlQJqZmSlcB2ZAmpmZaZETZkBmZmbeJBhmQAAAABjZHGZAZmZmZjsfZkCamZkZBBxmQJqZmYkWGWZAMzMzO7QcZkDNzMw83yVmQJqZmQmsNGZAAAAAmG5AZkCamZlpkU9mQJqZmRFYX2ZAAAAAKDFwZkBmZmYusoNmQAAAAOBPl2ZAmpmZ0SKvZkAzMzNDi8JmQGZmZl662WZAmpmZQWDzZkBmZma28wFnQGZmZgaBDWdAmpmZ8dIfZ0DNzMxkOytnQJqZmUFgMWdAmpmZ2c41Z0CamZn5fjhnQM3MzKRwPWdAAAAAoO9BZ0CamZkBADBnQM3MzGQQFmdAzczM3Pn4ZkCamZnhT+VmQJqZmaEa0WZA",
          "dtype": "f8"
         },
         "yaxis": "y"
        },
        {
         "line": {
          "color": "orange"
         },
         "name": "SMA_50",
         "type": "scatter",
         "x": [
          "2024-04-22T00:00:00.000000000",
          "2024-04-23T00:00:00.000000000",
          "2024-04-24T00:00:00.000000000",
          "2024-04-25T00:00:00.000000000",
          "2024-04-26T00:00:00.000000000",
          "2024-04-29T00:00:00.000000000",
          "2024-04-30T00:00:00.000000000",
          "2024-05-01T00:00:00.000000000",
          "2024-05-02T00:00:00.000000000",
          "2024-05-03T00:00:00.000000000",
          "2024-05-06T00:00:00.000000000",
          "2024-05-07T00:00:00.000000000",
          "2024-05-08T00:00:00.000000000",
          "2024-05-09T00:00:00.000000000",
          "2024-05-10T00:00:00.000000000",
          "2024-05-13T00:00:00.000000000",
          "2024-05-14T00:00:00.000000000",
          "2024-05-15T00:00:00.000000000",
          "2024-05-16T00:00:00.000000000",
          "2024-05-17T00:00:00.000000000",
          "2024-05-20T00:00:00.000000000",
          "2024-05-21T00:00:00.000000000",
          "2024-05-22T00:00:00.000000000",
          "2024-05-23T00:00:00.000000000",
          "2024-05-24T00:00:00.000000000",
          "2024-05-28T00:00:00.000000000",
          "2024-05-29T00:00:00.000000000",
          "2024-05-30T00:00:00.000000000",
          "2024-05-31T00:00:00.000000000",
          "2024-06-03T00:00:00.000000000",
          "2024-06-04T00:00:00.000000000",
          "2024-06-05T00:00:00.000000000",
          "2024-06-06T00:00:00.000000000",
          "2024-06-07T00:00:00.000000000",
          "2024-06-10T00:00:00.000000000",
          "2024-06-11T00:00:00.000000000",
          "2024-06-12T00:00:00.000000000",
          "2024-06-13T00:00:00.000000000",
          "2024-06-14T00:00:00.000000000",
          "2024-06-17T00:00:00.000000000",
          "2024-06-18T00:00:00.000000000",
          "2024-06-20T00:00:00.000000000",
          "2024-06-21T00:00:00.000000000",
          "2024-06-24T00:00:00.000000000",
          "2024-06-25T00:00:00.000000000",
          "2024-06-26T00:00:00.000000000",
          "2024-06-27T00:00:00.000000000",
          "2024-06-28T00:00:00.000000000",
          "2024-07-01T00:00:00.000000000",
          "2024-07-02T00:00:00.000000000",
          "2024-07-03T00:00:00.000000000",
          "2024-07-05T00:00:00.000000000",
          "2024-07-08T00:00:00.000000000",
          "2024-07-09T00:00:00.000000000",
          "2024-07-10T00:00:00.000000000",
          "2024-07-11T00:00:00.000000000",
          "2024-07-12T00:00:00.000000000",
          "2024-07-15T00:00:00.000000000",
          "2024-07-16T00:00:00.000000000",
          "2024-07-17T00:00:00.000000000",
          "2024-07-18T00:00:00.000000000",
          "2024-07-19T00:00:00.000000000",
          "2024-07-22T00:00:00.000000000",
          "2024-07-23T00:00:00.000000000",
          "2024-07-24T00:00:00.000000000",
          "2024-07-25T00:00:00.000000000",
          "2024-07-26T00:00:00.000000000",
          "2024-07-29T00:00:00.000000000",
          "2024-07-30T00:00:00.000000000"
         ],
         "xaxis": "x",
         "y": {
          "bdata": "UrgeVex3YkBI4XqUIX5iQIXrUUgMhmJAzczMjHWNYkAK16OAc55iQLgehRvJrWJASOF6xG28YkBcj8K1YstiQD0K13Mk22JAuB6Fi0rqYkDhehQu//liQMP1KGznD2NArkfhSsgjY0DhehRuozljQAAAADAqTWNApHA9aitiY0CPwvUYUXpjQFK4HhX7k2NAcT0K52qvY0D2KFxfVMpjQB+F64FR5WNAj8L1aE3/Y0BxPQqX3RdkQJqZmanPLWRAexSu50hCZEAfheuROllkQClcj9K8a2RA4XoUriV8ZEB7FK63r4tkQArXoyAfnGRA4XoUbhKrZECkcD0qqbtkQArXo4C3zGRAzczMTBXcZEBSuB4VrutkQFyPwsWP+WRASOF6JLkIZUAK16OQwhVlQK5H4dqsJmVAPQrXo5I2ZUCuR+E6kkNlQEjhepQYUGVAzczMXI9eZUCamZkpXGtlQGZmZuY/fGVAAAAA0NWOZUCkcD3qlaJlQKRwPTqSs2VAKVyP0t7EZUBxPQrXo9hlQKRwPUp762VAmpmZufz/ZUB7FK5XyhJmQBSuR4GVJ2ZAzczMjLkzZkDD9SgMJEBmQHE9CndPTmZAZmZmhslcZkC4HoVbsWdmQOxRuH5qcGZAPQrX82x2ZkCuR+Eqh3pmQArXo2BUgmZAw/UovAWKZkA9CtczooxmQPYoXB+Fi2ZASOF6pHCJZkBSuB4VrodmQM3MzCxlhWZA",
          "dtype": "f8"
         },
         "yaxis": "y"
        },
        {
         "line": {
          "color": "red"
         },
         "name": "SMA_200",
         "type": "scatter",
         "x": [
          "2024-04-22T00:00:00.000000000",
          "2024-04-23T00:00:00.000000000",
          "2024-04-24T00:00:00.000000000",
          "2024-04-25T00:00:00.000000000",
          "2024-04-26T00:00:00.000000000",
          "2024-04-29T00:00:00.000000000",
          "2024-04-30T00:00:00.000000000",
          "2024-05-01T00:00:00.000000000",
          "2024-05-02T00:00:00.000000000",
          "2024-05-03T00:00:00.000000000",
          "2024-05-06T00:00:00.000000000",
          "2024-05-07T00:00:00.000000000",
          "2024-05-08T00:00:00.000000000",
          "2024-05-09T00:00:00.000000000",
          "2024-05-10T00:00:00.000000000",
          "2024-05-13T00:00:00.000000000",
          "2024-05-14T00:00:00.000000000",
          "2024-05-15T00:00:00.000000000",
          "2024-05-16T00:00:00.000000000",
          "2024-05-17T00:00:00.000000000",
          "2024-05-20T00:00:00.000000000",
          "2024-05-21T00:00:00.000000000",
          "2024-05-22T00:00:00.000000000",
          "2024-05-23T00:00:00.000000000",
          "2024-05-24T00:00:00.000000000",
          "2024-05-28T00:00:00.000000000",
          "2024-05-29T00:00:00.000000000",
          "2024-05-30T00:00:00.000000000",
          "2024-05-31T00:00:00.000000000",
          "2024-06-03T00:00:00.000000000",
          "2024-06-04T00:00:00.000000000",
          "2024-06-05T00:00:00.000000000",
          "2024-06-06T00:00:00.000000000",
          "2024-06-07T00:00:00.000000000",
          "2024-06-10T00:00:00.000000000",
          "2024-06-11T00:00:00.000000000",
          "2024-06-12T00:00:00.000000000",
          "2024-06-13T00:00:00.000000000",
          "2024-06-14T00:00:00.000000000",
          "2024-06-17T00:00:00.000000000",
          "2024-06-18T00:00:00.000000000",
          "2024-06-20T00:00:00.000000000",
          "2024-06-21T00:00:00.000000000",
          "2024-06-24T00:00:00.000000000",
          "2024-06-25T00:00:00.000000000",
          "2024-06-26T00:00:00.000000000",
          "2024-06-27T00:00:00.000000000",
          "2024-06-28T00:00:00.000000000",
          "2024-07-01T00:00:00.000000000",
          "2024-07-02T00:00:00.000000000",
          "2024-07-03T00:00:00.000000000",
          "2024-07-05T00:00:00.000000000",
          "2024-07-08T00:00:00.000000000",
          "2024-07-09T00:00:00.000000000",
          "2024-07-10T00:00:00.000000000",
          "2024-07-11T00:00:00.000000000",
          "2024-07-12T00:00:00.000000000",
          "2024-07-15T00:00:00.000000000",
          "2024-07-16T00:00:00.000000000",
          "2024-07-17T00:00:00.000000000",
          "2024-07-18T00:00:00.000000000",
          "2024-07-19T00:00:00.000000000",
          "2024-07-22T00:00:00.000000000",
          "2024-07-23T00:00:00.000000000",
          "2024-07-24T00:00:00.000000000",
          "2024-07-25T00:00:00.000000000",
          "2024-07-26T00:00:00.000000000",
          "2024-07-29T00:00:00.000000000",
          "2024-07-30T00:00:00.000000000"
         ],
         "xaxis": "x",
         "y": {
          "bdata": "SOF6zvdNYUAAAAAyVVRhQDMzM9toW2FAw/UoFtlhYUAzMzPLf2phQM3MzPBjcWFAhetR7J53YUApXI82Gn5hQArXowQ0hWFAexSux5iMYUDXo3ARpZRhQGZmZm4SnWFA7FG48PSkYUCPwvVgw6xhQBSuR5VDs2FAAAAALNS5YUBcj8JVDsBhQKRwPUaUxmFAw/UorIvNYUCF61FgVNVhQFyPwq1H3WFAuB6Fo3DlYUCamZlBz+xhQMP1KIy582FACtejFB37YUDNzMxgwwJiQDMzM+tRCmJAH4XrLf8QYkDNzMy4/BdiQClcj548H2JA16NwTWImYkCF61G0Ny5iQOxRuPIfNmJAH4XrwYY9YkCamZk9eURiQGZmZuYdTGJA16Nwne9TYkBI4XrEIFtiQFyPwiH9YWJArkfhTq9oYkAAAADY8G5iQEjheoR8dWJAMzMzU3R8YkBmZma6uINiQBSuR1Wfi2JAhetRYFSTYkDNzMxUMJtiQNejcMnDomJA9ihcf0iqYkAzMzMD57FiQFK4Hr3BuWJAZmZmnjzCYkA9CtczgMpiQJqZmdFv02JA7FG4qj7dYkCamZl5NuZiQI/C9Uzz7mJAKVyPSln4YkCPwvXE/gBjQFK4HuHpCGNAuB6FJ34QY0A9CtdnkRdjQMP1KHSTH2NAMzMzFyYnY0ApXI8iSi1jQIXrUYwoMmNA7FG4wtM2Y0BSuB6d7ztjQHsUrvfCQGNA",
          "dtype": "f8"
         },
         "yaxis": "y"
        },
        {
         "marker": {
          "color": "rgba(0,0,255,0.3)"
         },
         "name": "Volume",
         "type": "bar",
         "x": [
          "2024-04-22T00:00:00.000000000",
          "2024-04-23T00:00:00.000000000",
          "2024-04-24T00:00:00.000000000",
          "2024-04-25T00:00:00.000000000",
          "2024-04-26T00:00:00.000000000",
          "2024-04-29T00:00:00.000000000",
          "2024-04-30T00:00:00.000000000",
          "2024-05-01T00:00:00.000000000",
          "2024-05-02T00:00:00.000000000",
          "2024-05-03T00:00:00.000000000",
          "2024-05-06T00:00:00.000000000",
          "2024-05-07T00:00:00.000000000",
          "2024-05-08T00:00:00.000000000",
          "2024-05-09T00:00:00.000000000",
          "2024-05-10T00:00:00.000000000",
          "2024-05-13T00:00:00.000000000",
          "2024-05-14T00:00:00.000000000",
          "2024-05-15T00:00:00.000000000",
          "2024-05-16T00:00:00.000000000",
          "2024-05-17T00:00:00.000000000",
          "2024-05-20T00:00:00.000000000",
          "2024-05-21T00:00:00.000000000",
          "2024-05-22T00:00:00.000000000",
          "2024-05-23T00:00:00.000000000",
          "2024-05-24T00:00:00.000000000",
          "2024-05-28T00:00:00.000000000",
          "2024-05-29T00:00:00.000000000",
          "2024-05-30T00:00:00.000000000",
          "2024-05-31T00:00:00.000000000",
          "2024-06-03T00:00:00.000000000",
          "2024-06-04T00:00:00.000000000",
          "2024-06-05T00:00:00.000000000",
          "2024-06-06T00:00:00.000000000",
          "2024-06-07T00:00:00.000000000",
          "2024-06-10T00:00:00.000000000",
          "2024-06-11T00:00:00.000000000",
          "2024-06-12T00:00:00.000000000",
          "2024-06-13T00:00:00.000000000",
          "2024-06-14T00:00:00.000000000",
          "2024-06-17T00:00:00.000000000",
          "2024-06-18T00:00:00.000000000",
          "2024-06-20T00:00:00.000000000",
          "2024-06-21T00:00:00.000000000",
          "2024-06-24T00:00:00.000000000",
          "2024-06-25T00:00:00.000000000",
          "2024-06-26T00:00:00.000000000",
          "2024-06-27T00:00:00.000000000",
          "2024-06-28T00:00:00.000000000",
          "2024-07-01T00:00:00.000000000",
          "2024-07-02T00:00:00.000000000",
          "2024-07-03T00:00:00.000000000",
          "2024-07-05T00:00:00.000000000",
          "2024-07-08T00:00:00.000000000",
          "2024-07-09T00:00:00.000000000",
          "2024-07-10T00:00:00.000000000",
          "2024-07-11T00:00:00.000000000",
          "2024-07-12T00:00:00.000000000",
          "2024-07-15T00:00:00.000000000",
          "2024-07-16T00:00:00.000000000",
          "2024-07-17T00:00:00.000000000",
          "2024-07-18T00:00:00.000000000",
          "2024-07-19T00:00:00.000000000",
          "2024-07-22T00:00:00.000000000",
          "2024-07-23T00:00:00.000000000",
          "2024-07-24T00:00:00.000000000",
          "2024-07-25T00:00:00.000000000",
          "2024-07-26T00:00:00.000000000",
          "2024-07-29T00:00:00.000000000",
          "2024-07-30T00:00:00.000000000"
         ],
         "xaxis": "x2",
         "y": {
          "bdata": "/B4HAcjm9QAEVCkBqFUoAkAiXgNoAyQCAO3AASDggAHMBgQB/GVbAXwj5wBA/0EBrFHeAKQntgAU9R0BWNArARzKHQH4yz8BRCwHAWB6/AA89AoBUGXgANgH9wAQyuMAmPWtAITh7gC4PuUAYIkfAdCLrAGQgjwBqKPWAGxz6AC4htkAjI3gAJhDBQFgw9sA0NEbAaR78wCAn7wAxAvpAOym7gAwov8AgGCPAxyvFQFEqSAB1BjMAKTBxgBQcl8B3Eu0AOyUvwDMDXEAqEDaAECYuADknZsApOm3AKAJ+wDMedwAkPG5ACS0wgBYJQkB0MgQAYwJ3QAcx/gAuL1qAQzZ3AHcA7oBlMJ/AcQY0gD4wtAA",
          "dtype": "i4"
         },
         "yaxis": "y2"
        },
        {
         "line": {
          "color": "purple"
         },
         "name": "VWAP",
         "type": "scatter",
         "x": [
          "2024-04-22T00:00:00.000000000",
          "2024-04-23T00:00:00.000000000",
          "2024-04-24T00:00:00.000000000",
          "2024-04-25T00:00:00.000000000",
          "2024-04-26T00:00:00.000000000",
          "2024-04-29T00:00:00.000000000",
          "2024-04-30T00:00:00.000000000",
          "2024-05-01T00:00:00.000000000",
          "2024-05-02T00:00:00.000000000",
          "2024-05-03T00:00:00.000000000",
          "2024-05-06T00:00:00.000000000",
          "2024-05-07T00:00:00.000000000",
          "2024-05-08T00:00:00.000000000",
          "2024-05-09T00:00:00.000000000",
          "2024-05-10T00:00:00.000000000",
          "2024-05-13T00:00:00.000000000",
          "2024-05-14T00:00:00.000000000",
          "2024-05-15T00:00:00.000000000",
          "2024-05-16T00:00:00.000000000",
          "2024-05-17T00:00:00.000000000",
          "2024-05-20T00:00:00.000000000",
          "2024-05-21T00:00:00.000000000",
          "2024-05-22T00:00:00.000000000",
          "2024-05-23T00:00:00.000000000",
          "2024-05-24T00:00:00.000000000",
          "2024-05-28T00:00:00.000000000",
          "2024-05-29T00:00:00.000000000",
          "2024-05-30T00:00:00.000000000",
          "2024-05-31T00:00:00.000000000",
          "2024-06-03T00:00:00.000000000",
          "2024-06-04T00:00:00.000000000",
          "2024-06-05T00:00:00.000000000",
          "2024-06-06T00:00:00.000000000",
          "2024-06-07T00:00:00.000000000",
          "2024-06-10T00:00:00.000000000",
          "2024-06-11T00:00:00.000000000",
          "2024-06-12T00:00:00.000000000",
          "2024-06-13T00:00:00.000000000",
          "2024-06-14T00:00:00.000000000",
          "2024-06-17T00:00:00.000000000",
          "2024-06-18T00:00:00.000000000",
          "2024-06-20T00:00:00.000000000",
          "2024-06-21T00:00:00.000000000",
          "2024-06-24T00:00:00.000000000",
          "2024-06-25T00:00:00.000000000",
          "2024-06-26T00:00:00.000000000",
          "2024-06-27T00:00:00.000000000",
          "2024-06-28T00:00:00.000000000",
          "2024-07-01T00:00:00.000000000",
          "2024-07-02T00:00:00.000000000",
          "2024-07-03T00:00:00.000000000",
          "2024-07-05T00:00:00.000000000",
          "2024-07-08T00:00:00.000000000",
          "2024-07-09T00:00:00.000000000",
          "2024-07-10T00:00:00.000000000",
          "2024-07-11T00:00:00.000000000",
          "2024-07-12T00:00:00.000000000",
          "2024-07-15T00:00:00.000000000",
          "2024-07-16T00:00:00.000000000",
          "2024-07-17T00:00:00.000000000",
          "2024-07-18T00:00:00.000000000",
          "2024-07-19T00:00:00.000000000",
          "2024-07-22T00:00:00.000000000",
          "2024-07-23T00:00:00.000000000",
          "2024-07-24T00:00:00.000000000",
          "2024-07-25T00:00:00.000000000",
          "2024-07-26T00:00:00.000000000",
          "2024-07-29T00:00:00.000000000",
          "2024-07-30T00:00:00.000000000"
         ],
         "xaxis": "x2",
         "y": {
          "bdata": "9bxiKeaXY0DdQPJO1Z9jQF3xcZYhtGNAuCTnxAC3Y0A8ZcI2ORpkQBoqavB1PGRABbe0DDRQZEBxXw1/z11kQN1pHMUvamRAhMm3Zwd/ZEBZrWJM2JFkQG03ymWlq2RA5lEDtc69ZEBowVwt89ZkQIyhnmVC62RA4IaRu376ZEBggIvttw5lQCpIgEiHQ2VAgt2UyAw2ZUCYXoI5gkdlQKtANSnfZ2VABDmkdTqGZUAaBM8lfZxlQO9mcDbmsmVA3Ji3uijAZUBWwUHPE81lQOWBzfuq2WVAPZdgtYTeZUBY6vAEReRlQASxswX/8GVAOCXO7ZH4ZUDYuD2KmwFmQBYgiOhvB2ZAaP1PKUsIZkCvRg77TgNmQHvYFx8YAGZA/EqjQaQFZkAEKj26bgdmQCXTYpm/CWZAvfXVgMILZkAtZFNHMQtmQPJq7XLzEmZAn9O9gFY5ZkABmYaCg0lmQGGyEsQjXWZACc/DfgprZkCiA593qnhmQFv1zqsAimZAWRoEgFKXZkCl3o2qf6RmQK2tInvnrGZAKD/CV7jFZkBOAVoll9lmQGt6Hd1d7WZA/upYFXsIZ0Ccofq4ASFnQM2xbQcAVGdAAW0foShoZ0CDbdvNtHFnQKszLb5camdAPMoAlNJXZ0BidZeTUlBnQF34rsTSS2dAyNu+erpEZ0CVwOQE8BNnQIBqduSs1GZAmVGZVY2aZkA7ls+mjHxmQPGSWsY3XGZA",
          "dtype": "f8"
         },
         "yaxis": "y2"
        },
        {
         "line": {
          "color": "blue"
         },
         "name": "RSI",
         "type": "scatter",
         "x": [
          "2024-04-22T00:00:00.000000000",
          "2024-04-23T00:00:00.000000000",
          "2024-04-24T00:00:00.000000000",
          "2024-04-25T00:00:00.000000000",
          "2024-04-26T00:00:00.000000000",
          "2024-04-29T00:00:00.000000000",
          "2024-04-30T00:00:00.000000000",
          "2024-05-01T00:00:00.000000000",
          "2024-05-02T00:00:00.000000000",
          "2024-05-03T00:00:00.000000000",
          "2024-05-06T00:00:00.000000000",
          "2024-05-07T00:00:00.000000000",
          "2024-05-08T00:00:00.000000000",
          "2024-05-09T00:00:00.000000000",
          "2024-05-10T00:00:00.000000000",
          "2024-05-13T00:00:00.000000000",
          "2024-05-14T00:00:00.000000000",
          "2024-05-15T00:00:00.000000000",
          "2024-05-16T00:00:00.000000000",
          "2024-05-17T00:00:00.000000000",
          "2024-05-20T00:00:00.000000000",
          "2024-05-21T00:00:00.000000000",
          "2024-05-22T00:00:00.000000000",
          "2024-05-23T00:00:00.000000000",
          "2024-05-24T00:00:00.000000000",
          "2024-05-28T00:00:00.000000000",
          "2024-05-29T00:00:00.000000000",
          "2024-05-30T00:00:00.000000000",
          "2024-05-31T00:00:00.000000000",
          "2024-06-03T00:00:00.000000000",
          "2024-06-04T00:00:00.000000000",
          "2024-06-05T00:00:00.000000000",
          "2024-06-06T00:00:00.000000000",
          "2024-06-07T00:00:00.000000000",
          "2024-06-10T00:00:00.000000000",
          "2024-06-11T00:00:00.000000000",
          "2024-06-12T00:00:00.000000000",
          "2024-06-13T00:00:00.000000000",
          "2024-06-14T00:00:00.000000000",
          "2024-06-17T00:00:00.000000000",
          "2024-06-18T00:00:00.000000000",
          "2024-06-20T00:00:00.000000000",
          "2024-06-21T00:00:00.000000000",
          "2024-06-24T00:00:00.000000000",
          "2024-06-25T00:00:00.000000000",
          "2024-06-26T00:00:00.000000000",
          "2024-06-27T00:00:00.000000000",
          "2024-06-28T00:00:00.000000000",
          "2024-07-01T00:00:00.000000000",
          "2024-07-02T00:00:00.000000000",
          "2024-07-03T00:00:00.000000000",
          "2024-07-05T00:00:00.000000000",
          "2024-07-08T00:00:00.000000000",
          "2024-07-09T00:00:00.000000000",
          "2024-07-10T00:00:00.000000000",
          "2024-07-11T00:00:00.000000000",
          "2024-07-12T00:00:00.000000000",
          "2024-07-15T00:00:00.000000000",
          "2024-07-16T00:00:00.000000000",
          "2024-07-17T00:00:00.000000000",
          "2024-07-18T00:00:00.000000000",
          "2024-07-19T00:00:00.000000000",
          "2024-07-22T00:00:00.000000000",
          "2024-07-23T00:00:00.000000000",
          "2024-07-24T00:00:00.000000000",
          "2024-07-25T00:00:00.000000000",
          "2024-07-26T00:00:00.000000000",
          "2024-07-29T00:00:00.000000000",
          "2024-07-30T00:00:00.000000000"
         ],
         "xaxis": "x3",
         "y": {
          "bdata": "tVgivO8HTkDMqPuRHaRPQAzIDsI8RlBAoTLUdo9/TECOSx3lnY9SQGpg9lMqBFBAA6qcN/OSTUBnkjebaAtOQIV1F5ENeU9AMsBp5ym7T0BCs68N7BNQQMhGmTvi11BADnenwLv6T0Dcu/dmDhpQQDpxtv5X7k5AauFudKNOT0AnBKf/V/RPQHgpUh1+klBASOTuIMYFUUCA46dZr4lRQLHNM9nE2VFA8S22Ef0iUkB0LibxQhZRQL4dHgYzik5AQStMGAh1T0Ay8+I1tFBQQHLsBuep1U9AHcp7fV5hS0Ap1npU27pLQP+rT+fqJUxAu9D4jEDPTEAu424n7YpOQDMYTOR+nE9ADhpW9aB0TEDVyz9yqhdNQO1YM4nyg05A4DjvnZqxT0COYyCPe/JLQPLKGHptdU1AmMKrK0jVTUDHuXPly9ZKQOgAsVM1HkxALEX0ufZ3TkAP7GguXe1OQOCDtADQPFFAZBlihWQWUUDh/eFKvZRRQLnB/3ftcE5AqW/t0WxIT0CUN0Nzt21QQJ6cv/d7tFBA/3p0LIobUkA+N+BfZhlRQELyAE5RElFA/t2tJlDFUUCMeB4Jc+lMQIEq27P2W0xAbzKuj9yATUBSjYI/1ZxKQHsz/GFP6UdA+S9SB6ktRUCzi6+6ylpFQFY8UsRaKklAjj3scFdjSUBLiLXWpLdCQIBMAPO4I0BACNXMRwzYP0AFsvg03kVCQNWq08XE9UJA",
          "dtype": "f8"
         },
         "yaxis": "y3"
        },
        {
         "line": {
          "color": "green"
         },
         "name": "Stochastic %K",
         "type": "scatter",
         "x": [
          "2024-04-22T00:00:00.000000000",
          "2024-04-23T00:00:00.000000000",
          "2024-04-24T00:00:00.000000000",
          "2024-04-25T00:00:00.000000000",
          "2024-04-26T00:00:00.000000000",
          "2024-04-29T00:00:00.000000000",
          "2024-04-30T00:00:00.000000000",
          "2024-05-01T00:00:00.000000000",
          "2024-05-02T00:00:00.000000000",
          "2024-05-03T00:00:00.000000000",
          "2024-05-06T00:00:00.000000000",
          "2024-05-07T00:00:00.000000000",
          "2024-05-08T00:00:00.000000000",
          "2024-05-09T00:00:00.000000000",
          "2024-05-10T00:00:00.000000000",
          "2024-05-13T00:00:00.000000000",
          "2024-05-14T00:00:00.000000000",
          "2024-05-15T00:00:00.000000000",
          "2024-05-16T00:00:00.000000000",
          "2024-05-17T00:00:00.000000000",
          "2024-05-20T00:00:00.000000000",
          "2024-05-21T00:00:00.000000000",
          "2024-05-22T00:00:00.000000000",
          "2024-05-23T00:00:00.000000000",
          "2024-05-24T00:00:00.000000000",
          "2024-05-28T00:00:00.000000000",
          "2024-05-29T00:00:00.000000000",
          "2024-05-30T00:00:00.000000000",
          "2024-05-31T00:00:00.000000000",
          "2024-06-03T00:00:00.000000000",
          "2024-06-04T00:00:00.000000000",
          "2024-06-05T00:00:00.000000000",
          "2024-06-06T00:00:00.000000000",
          "2024-06-07T00:00:00.000000000",
          "2024-06-10T00:00:00.000000000",
          "2024-06-11T00:00:00.000000000",
          "2024-06-12T00:00:00.000000000",
          "2024-06-13T00:00:00.000000000",
          "2024-06-14T00:00:00.000000000",
          "2024-06-17T00:00:00.000000000",
          "2024-06-18T00:00:00.000000000",
          "2024-06-20T00:00:00.000000000",
          "2024-06-21T00:00:00.000000000",
          "2024-06-24T00:00:00.000000000",
          "2024-06-25T00:00:00.000000000",
          "2024-06-26T00:00:00.000000000",
          "2024-06-27T00:00:00.000000000",
          "2024-06-28T00:00:00.000000000",
          "2024-07-01T00:00:00.000000000",
          "2024-07-02T00:00:00.000000000",
          "2024-07-03T00:00:00.000000000",
          "2024-07-05T00:00:00.000000000",
          "2024-07-08T00:00:00.000000000",
          "2024-07-09T00:00:00.000000000",
          "2024-07-10T00:00:00.000000000",
          "2024-07-11T00:00:00.000000000",
          "2024-07-12T00:00:00.000000000",
          "2024-07-15T00:00:00.000000000",
          "2024-07-16T00:00:00.000000000",
          "2024-07-17T00:00:00.000000000",
          "2024-07-18T00:00:00.000000000",
          "2024-07-19T00:00:00.000000000",
          "2024-07-22T00:00:00.000000000",
          "2024-07-23T00:00:00.000000000",
          "2024-07-24T00:00:00.000000000",
          "2024-07-25T00:00:00.000000000",
          "2024-07-26T00:00:00.000000000",
          "2024-07-29T00:00:00.000000000",
          "2024-07-30T00:00:00.000000000"
         ],
         "xaxis": "x3",
         "y": {
          "bdata": "1DMZoOYrUEBm5Uf/NM9UQK3uq8BjlldAtENt+w4CTUBbgFgkSh1WQF2avYsj/U9A1H32nOQYSUBMvD7+MRBLQNZKvXwallBAdVl5GIQlUUBeaOSUzwhSQHdvwS4rXVVA1HnZS7JwU0BIAQ8KWOJTQOT7S7RHhVJACkEDIVcqU0CjDfBLDEFUQJLAtrg+rFNAN71FIRsUV0AAlciCCZtYQBzthQ1ihlZAsjGW7LZQWECUu4ODVb5VQAtrvfqAYlBAwpmTq02fUkDSQZkCiJlVQIZyEaPkgVRAgKyQPfF7S0AF3+acxORMQI1K3DCC/ERAMgLMIaEpR0CxSLz2cftQQMSYrLWxi1RArg5JMnC6S0Dk06VgzqdPQKpiHPetMFRACNuTG1VUU0AmAH+WtfdJQIvSfJHSplBAgAeBHAKTUUDUJ/0JlqlIQPkJeC5DVU5AqXyv35lnU0B+RkxH8l1UQC8s7IFPoFhAPXPFr7LJV0B7r2IYzsdXQC/VhyTBOVFA4LAN76fCUkBXhQ0MiiBXQKuqqupVhVhAy9dCvZ6MWEB/AUeTYlNWQLNHSQagfVVARC9sLx4JWECByRCsi0tOQB/UzLvJCUlADYr3PmcGTUDvSgl2dy46QMT9gJbPGyFAqatfCT3BGkD6LxoLE0IfQHDsZJUWBUFAW+6nRQLZQUB9/qJY4zUQQAHvraDlBN0/WWhks3+DJEDCvlIwDy8zQAYg8PqSlTZA",
          "dtype": "f8"
         },
         "yaxis": "y3"
        },
        {
         "line": {
          "color": "red"
         },
         "name": "Stochastic %D",
         "type": "scatter",
         "x": [
          "2024-04-22T00:00:00.000000000",
          "2024-04-23T00:00:00.000000000",
          "2024-04-24T00:00:00.000000000",
          "2024-04-25T00:00:00.000000000",
          "2024-04-26T00:00:00.000000000",
          "2024-04-29T00:00:00.000000000",
          "2024-04-30T00:00:00.000000000",
          "2024-05-01T00:00:00.000000000",
          "2024-05-02T00:00:00.000000000",
          "2024-05-03T00:00:00.000000000",
          "2024-05-06T00:00:00.000000000",
          "2024-05-07T00:00:00.000000000",
          "2024-05-08T00:00:00.000000000",
          "2024-05-09T00:00:00.000000000",
          "2024-05-10T00:00:00.000000000",
          "2024-05-13T00:00:00.000000000",
          "2024-05-14T00:00:00.000000000",
          "2024-05-15T00:00:00.000000000",
          "2024-05-16T00:00:00.000000000",
          "2024-05-17T00:00:00.000000000",
          "2024-05-20T00:00:00.000000000",
          "2024-05-21T00:00:00.000000000",
          "2024-05-22T00:00:00.000000000",
          "2024-05-23T00:00:00.000000000",
          "2024-05-24T00:00:00.000000000",
          "2024-05-28T00:00:00.000000000",
          "2024-05-29T00:00:00.000000000",
          "2024-05-30T00:00:00.000000000",
          "2024-05-31T00:00:00.000000000",
          "2024-06-03T00:00:00.000000000",
          "2024-06-04T00:00:00.000000000",
          "2024-06-05T00:00:00.000000000",
          "2024-06-06T00:00:00.000000000",
          "2024-06-07T00:00:00.000000000",
          "2024-06-10T00:00:00.000000000",
          "2024-06-11T00:00:00.000000000",
          "2024-06-12T00:00:00.000000000",
          "2024-06-13T00:00:00.000000000",
          "2024-06-14T00:00:00.000000000",
          "2024-06-17T00:00:00.000000000",
          "2024-06-18T00:00:00.000000000",
          "2024-06-20T00:00:00.000000000",
          "2024-06-21T00:00:00.000000000",
          "2024-06-24T00:00:00.000000000",
          "2024-06-25T00:00:00.000000000",
          "2024-06-26T00:00:00.000000000",
          "2024-06-27T00:00:00.000000000",
          "2024-06-28T00:00:00.000000000",
          "2024-07-01T00:00:00.000000000",
          "2024-07-02T00:00:00.000000000",
          "2024-07-03T00:00:00.000000000",
          "2024-07-05T00:00:00.000000000",
          "2024-07-08T00:00:00.000000000",
          "2024-07-09T00:00:00.000000000",
          "2024-07-10T00:00:00.000000000",
          "2024-07-11T00:00:00.000000000",
          "2024-07-12T00:00:00.000000000",
          "2024-07-15T00:00:00.000000000",
          "2024-07-16T00:00:00.000000000",
          "2024-07-17T00:00:00.000000000",
          "2024-07-18T00:00:00.000000000",
          "2024-07-19T00:00:00.000000000",
          "2024-07-22T00:00:00.000000000",
          "2024-07-23T00:00:00.000000000",
          "2024-07-24T00:00:00.000000000",
          "2024-07-25T00:00:00.000000000",
          "2024-07-26T00:00:00.000000000",
          "2024-07-29T00:00:00.000000000",
          "2024-07-30T00:00:00.000000000"
         ],
         "xaxis": "x3",
         "y": {
          "bdata": "+x/AhewSTEB7hmRQVu9PQKACr8p/MFRAo3zjaTWiU0BKsJPLkRFUQB+lpCKhiVFAetmQvcTiUEAnnPsMvgxMQJeaOtzDcUxAnQHkYnqCT0A3BAkOekFRQBe7X0kq2VJA4cV/WuScU0Db+I2BvDpUQKknvFgbSFNAuxTKn6cwU0DZGBULOVBTQGla42GLslNAzYP5YXcAVUBBBpfJy3NWQBsV3OUsZ1dAQ5GhKbbQV0B1898petxWQMRy8niE0FRAH0CcuLbqUkCJF044ct5SQLHEFBs+PlRA3FgmbMydUkDBEm+FajtQQAPyG1m9yUlAlA6F+vdYSEAISmAVrQlKQINLGr+mXlBAQ3iE7HMhUUBYAwxV8L5QQKVGMcCZoFBANQ0BwfhyUkBBP6X0SYBRQOG5GihWUlBAvOYoph95T0BMSajMvwlPQJcVfdBJDE5ACLlG/a5ET0Bg7Wc/D1BSQMdPTThJd1VATfepfVHtVkBMGlzDmhBYQEv9j/kVmVVALWf9YxLsU0B3rosKUbRTQKD1QffXIlZAmAKp5tQQWEBQgRFpcsxXQFNgRnLgyVZAe32p7QqeVkA8ST9ZgTlUQLBUHqHtO1FAjGKcN5QeTEDfq+2ReWJGQPRJaOq57T5Ac3gWrcmdK0D5nH7AT74eQD3ForpVLjBAgcBKKJLZOUC30cAujpg4QKzi/E8LzSpA9TnSXRCvE0BnHAVr7O0jQEwGpwF2VzFA",
          "dtype": "f8"
         },
         "yaxis": "y3"
        },
        {
         "line": {
          "color": "blue"
         },
         "name": "MACD",
         "type": "scatter",
         "x": [
          "2024-04-22T00:00:00.000000000",
          "2024-04-23T00:00:00.000000000",
          "2024-04-24T00:00:00.000000000",
          "2024-04-25T00:00:00.000000000",
          "2024-04-26T00:00:00.000000000",
          "2024-04-29T00:00:00.000000000",
          "2024-04-30T00:00:00.000000000",
          "2024-05-01T00:00:00.000000000",
          "2024-05-02T00:00:00.000000000",
          "2024-05-03T00:00:00.000000000",
          "2024-05-06T00:00:00.000000000",
          "2024-05-07T00:00:00.000000000",
          "2024-05-08T00:00:00.000000000",
          "2024-05-09T00:00:00.000000000",
          "2024-05-10T00:00:00.000000000",
          "2024-05-13T00:00:00.000000000",
          "2024-05-14T00:00:00.000000000",
          "2024-05-15T00:00:00.000000000",
          "2024-05-16T00:00:00.000000000",
          "2024-05-17T00:00:00.000000000",
          "2024-05-20T00:00:00.000000000",
          "2024-05-21T00:00:00.000000000",
          "2024-05-22T00:00:00.000000000",
          "2024-05-23T00:00:00.000000000",
          "2024-05-24T00:00:00.000000000",
          "2024-05-28T00:00:00.000000000",
          "2024-05-29T00:00:00.000000000",
          "2024-05-30T00:00:00.000000000",
          "2024-05-31T00:00:00.000000000",
          "2024-06-03T00:00:00.000000000",
          "2024-06-04T00:00:00.000000000",
          "2024-06-05T00:00:00.000000000",
          "2024-06-06T00:00:00.000000000",
          "2024-06-07T00:00:00.000000000",
          "2024-06-10T00:00:00.000000000",
          "2024-06-11T00:00:00.000000000",
          "2024-06-12T00:00:00.000000000",
          "2024-06-13T00:00:00.000000000",
          "2024-06-14T00:00:00.000000000",
          "2024-06-17T00:00:00.000000000",
          "2024-06-18T00:00:00.000000000",
          "2024-06-20T00:00:00.000000000",
          "2024-06-21T00:00:00.000000000",
          "2024-06-24T00:00:00.000000000",
          "2024-06-25T00:00:00.000000000",
          "2024-06-26T00:00:00.000000000",
          "2024-06-27T00:00:00.000000000",
          "2024-06-28T00:00:00.000000000",
          "2024-07-01T00:00:00.000000000",
          "2024-07-02T00:00:00.000000000",
          "2024-07-03T00:00:00.000000000",
          "2024-07-05T00:00:00.000000000",
          "2024-07-08T00:00:00.000000000",
          "2024-07-09T00:00:00.000000000",
          "2024-07-10T00:00:00.000000000",
          "2024-07-11T00:00:00.000000000",
          "2024-07-12T00:00:00.000000000",
          "2024-07-15T00:00:00.000000000",
          "2024-07-16T00:00:00.000000000",
          "2024-07-17T00:00:00.000000000",
          "2024-07-18T00:00:00.000000000",
          "2024-07-19T00:00:00.000000000",
          "2024-07-22T00:00:00.000000000",
          "2024-07-23T00:00:00.000000000",
          "2024-07-24T00:00:00.000000000",
          "2024-07-25T00:00:00.000000000",
          "2024-07-26T00:00:00.000000000",
          "2024-07-29T00:00:00.000000000",
          "2024-07-30T00:00:00.000000000"
         ],
         "xaxis": "x4",
         "y": {
          "bdata": "QPZhwgWVBkBARO41MiEHQMCI7YxSDAhAQHUy68B7BkBAtwwA0gsPQECKxXNf2hBAAFj3EKepEEBAZsjX1p4QQKBZhgn0URFAACivmAzXEUDAUc+e5U8SQICksZx3ehNAYHW4HuWWE0BAK6JtU5YTQEDnnjpc8xJAoMEoLzluEkCAKcUySCQSQOCsauC2VBJAgEifgcvDEkAAjfdVBHwTQADSgtIUMxRAYGokcczfFEAALWtvbKwUQGDOkn2zVxNA4O326BB8EkDAGUF2HCQSQADl7zihdxFAACeWMLgHD0DAz7CZbd8LQABR4nz8XwlAgLsQgveUB0BAfuK5eyUHQACVF7S6WwdAACPyyfy5BUAA2zBOaKIEQECSMNcGigRAAM3xMtMaBUDAd7E1/YEDQMA9A6kPEwNAgPQz73zHAkBAqGYL1dgAQIDbE9734/8/wLB5nDOvAEDAZaujXGkBQIAbTRb61gRAwJfWyHUnB0DARA6viKcJQEAqlBUrIAlAAKAwQZ8bCUDA2pFSKSkKQIC4d+1yLwtAQC3Kb0CYDkBA6QFdBfkPQID5O2DMVBBAYF5QcasfEUDAgAC/oq0PQIBHVPP3+AxAwPa3Ex1sC0AAn8kvti0IQID69eQOhgNAAHgEVgD4+j8Ai3uzRWrxPwAi0cBtku0/ABquTuHA6T8AgE0QJ36hvwBQpxYEtfG/gAY/ABGQ/7/AJkKZPXcDwMA/F4MrqgXA",
          "dtype": "f8"
         },
         "yaxis": "y4"
        },
        {
         "line": {
          "color": "red"
         },
         "name": "Signal",
         "type": "scatter",
         "x": [
          "2024-04-22T00:00:00.000000000",
          "2024-04-23T00:00:00.000000000",
          "2024-04-24T00:00:00.000000000",
          "2024-04-25T00:00:00.000000000",
          "2024-04-26T00:00:00.000000000",
          "2024-04-29T00:00:00.000000000",
          "2024-04-30T00:00:00.000000000",
          "2024-05-01T00:00:00.000000000",
          "2024-05-02T00:00:00.000000000",
          "2024-05-03T00:00:00.000000000",
          "2024-05-06T00:00:00.000000000",
          "2024-05-07T00:00:00.000000000",
          "2024-05-08T00:00:00.000000000",
          "2024-05-09T00:00:00.000000000",
          "2024-05-10T00:00:00.000000000",
          "2024-05-13T00:00:00.000000000",
          "2024-05-14T00:00:00.000000000",
          "2024-05-15T00:00:00.000000000",
          "2024-05-16T00:00:00.000000000",
          "2024-05-17T00:00:00.000000000",
          "2024-05-20T00:00:00.000000000",
          "2024-05-21T00:00:00.000000000",
          "2024-05-22T00:00:00.000000000",
          "2024-05-23T00:00:00.000000000",
          "2024-05-24T00:00:00.000000000",
          "2024-05-28T00:00:00.000000000",
          "2024-05-29T00:00:00.000000000",
          "2024-05-30T00:00:00.000000000",
          "2024-05-31T00:00:00.000000000",
          "2024-06-03T00:00:00.000000000",
          "2024-06-04T00:00:00.000000000",
          "2024-06-05T00:00:00.000000000",
          "2024-06-06T00:00:00.000000000",
          "2024-06-07T00:00:00.000000000",
          "2024-06-10T00:00:00.000000000",
          "2024-06-11T00:00:00.000000000",
          "2024-06-12T00:00:00.000000000",
          "2024-06-13T00:00:00.000000000",
          "2024-06-14T00:00:00.000000000",
          "2024-06-17T00:00:00.000000000",
          "2024-06-18T00:00:00.000000000",
          "2024-06-20T00:00:00.000000000",
          "2024-06-21T00:00:00.000000000",
          "2024-06-24T00:00:00.000000000",
          "2024-06-25T00:00:00.000000000",
          "2024-06-26T00:00:00.000000000",
          "2024-06-27T00:00:00.000000000",
          "2024-06-28T00:00:00.000000000",
          "2024-07-01T00:00:00.000000000",
          "2024-07-02T00:00:00.000000000",
          "2024-07-03T00:00:00.000000000",
          "2024-07-05T00:00:00.000000000",
          "2024-07-08T00:00:00.000000000",
          "2024-07-09T00:00:00.000000000",
          "2024-07-10T00:00:00.000000000",
          "2024-07-11T00:00:00.000000000",
          "2024-07-12T00:00:00.000000000",
          "2024-07-15T00:00:00.000000000",
          "2024-07-16T00:00:00.000000000",
          "2024-07-17T00:00:00.000000000",
          "2024-07-18T00:00:00.000000000",
          "2024-07-19T00:00:00.000000000",
          "2024-07-22T00:00:00.000000000",
          "2024-07-23T00:00:00.000000000",
          "2024-07-24T00:00:00.000000000",
          "2024-07-25T00:00:00.000000000",
          "2024-07-26T00:00:00.000000000",
          "2024-07-29T00:00:00.000000000",
          "2024-07-30T00:00:00.000000000"
         ],
         "xaxis": "x4",
         "y": {
          "bdata": "tCspw53BCUDRYx3aITsJQGie4P2R/ghAlPzwxgF+CEC37lzSkc0JQEb2MnA0YgtAaxvyxmySDECjC0XCeYENQMPGOZ9ciA5AnEh0vOiPD0CYYL4Ei0kQQGChiInt7BBAlJj4QFJ1EUC2ghp9UuIRQGswaAnuGBJAQhr1EP0pEkBOHYXk2CgSQNIGs+OeMRJAj61IA9tOEkDZczh6FosSQHtTR/Li3xJAQ4tz2ERGE0BpeAtd5o0TQAHwjGMPgxNA+lXVF3ZOE0C8Fh6RyhITQJfZFBmPwBJAYBiGstEaEkAT9fzqZUURQMNlR5W3WhBAhfvbCCTiDkB44nZfAlYNQJRs/Qn0IwxAQ8SUY4/bCkA2L+f47ZwJQAZDXCUmmQhAn16twUjmB0CmY+HYbAUHQKz1tDVaOwZA11vOWpSKBUAfa4bkOpoEQHO4oObHqwNA6bZlcd0SA0Dh2aauw70CQAHnlPY0KQNAjj3VU6j1A0DMC0eZOxkFQOMR8H5r5wVAHPv82HWLBkBwwRq+mUQHQHOMYJQrDQhAanlCwC9cCUAv9pvfwK4KQFrClAzs4AtAoieXagEnDUCobN/hVKgNQG2Yw0tChQ1A5UTBc9QZDUDrVilmzh0MQHBEUkzbZQpAWtzbeK/QB0CVpKLyLMsEQCqSjNgPHQJAqh+/SJaO/z9VnUuV4SL5PxGhtD9NkfA/ajGpyxzE2z+8+cTXY93Bv/NkoC2d5+S/",
          "dtype": "f8"
         },
         "yaxis": "y4"
        },
        {
         "marker": {
          "color": "rgba(0,255,0,0.3)"
         },
         "name": "MACD Diff",
         "type": "bar",
         "x": [
          "2024-04-22T00:00:00.000000000",
          "2024-04-23T00:00:00.000000000",
          "2024-04-24T00:00:00.000000000",
          "2024-04-25T00:00:00.000000000",
          "2024-04-26T00:00:00.000000000",
          "2024-04-29T00:00:00.000000000",
          "2024-04-30T00:00:00.000000000",
          "2024-05-01T00:00:00.000000000",
          "2024-05-02T00:00:00.000000000",
          "2024-05-03T00:00:00.000000000",
          "2024-05-06T00:00:00.000000000",
          "2024-05-07T00:00:00.000000000",
          "2024-05-08T00:00:00.000000000",
          "2024-05-09T00:00:00.000000000",
          "2024-05-10T00:00:00.000000000",
          "2024-05-13T00:00:00.000000000",
          "2024-05-14T00:00:00.000000000",
          "2024-05-15T00:00:00.000000000",
          "2024-05-16T00:00:00.000000000",
          "2024-05-17T00:00:00.000000000",
          "2024-05-20T00:00:00.000000000",
          "2024-05-21T00:00:00.000000000",
          "2024-05-22T00:00:00.000000000",
          "2024-05-23T00:00:00.000000000",
          "2024-05-24T00:00:00.000000000",
          "2024-05-28T00:00:00.000000000",
          "2024-05-29T00:00:00.000000000",
          "2024-05-30T00:00:00.000000000",
          "2024-05-31T00:00:00.000000000",
          "2024-06-03T00:00:00.000000000",
          "2024-06-04T00:00:00.000000000",
          "2024-06-05T00:00:00.000000000",
          "2024-06-06T00:00:00.000000000",
          "2024-06-07T00:00:00.000000000",
          "2024-06-10T00:00:00.000000000",
          "2024-06-11T00:00:00.000000000",
          "2024-06-12T00:00:00.000000000",
          "2024-06-13T00:00:00.000000000",
          "2024-06-14T00:00:00.000000000",
          "2024-06-17T00:00:00.000000000",
          "2024-06-18T00:00:00.000000000",
          "2024-06-20T00:00:00.000000000",
          "2024-06-21T00:00:00.000000000",
          "2024-06-24T00:00:00.000000000",
          "2024-06-25T00:00:00.000000000",
          "2024-06-26T00:00:00.000000000",
          "2024-06-27T00:00:00.000000000",
          "2024-06-28T00:00:00.000000000",
          "2024-07-01T00:00:00.000000000",
          "2024-07-02T00:00:00.000000000",
          "2024-07-03T00:00:00.000000000",
          "2024-07-05T00:00:00.000000000",
          "2024-07-08T00:00:00.000000000",
          "2024-07-09T00:00:00.000000000",
          "2024-07-10T00:00:00.000000000",
          "2024-07-11T00:00:00.000000000",
          "2024-07-12T00:00:00.000000000",
          "2024-07-15T00:00:00.000000000",
          "2024-07-16T00:00:00.000000000",
          "2024-07-17T00:00:00.000000000",
          "2024-07-18T00:00:00.000000000",
          "2024-07-19T00:00:00.000000000",
          "2024-07-22T00:00:00.000000000",
          "2024-07-23T00:00:00.000000000",
          "2024-07-24T00:00:00.000000000",
          "2024-07-25T00:00:00.000000000",
          "2024-07-26T00:00:00.000000000",
          "2024-07-29T00:00:00.000000000",
          "2024-07-30T00:00:00.000000000"
         ],
         "xaxis": "x4",
         "y": {
          "bdata": "oKs5BsBk2b+I/Hghfc/QvwC1Yh7uR76/oDr03QYS0L8kIr+2APnkP+h4YN0pSuk/VFLya4UD4z/oBl5qn+HdP/SxS88tbuA/kB2o08F44D9AiYfQ1DLgPwAZSJlQbOQ/YOb+7ZYM4T+giHoID0DbP6Da1ibGTcs/gNfpjAcPsT8AOM//xkJyvwAH01v+i6E/QLymlR88vT/gJON3ux3OP1DotwMeM9U/0PENi3mY2T9wSfslYejRP4DQEP3yraW/QAPN26VMyr+An59bw9XNv3BJTwLejtS/ACfY0ay35L+YaSTxeK3qvxjqsbbKVe2/FAAtG7I07b/gkFGWGsLov1Bel1flIOO/DIWKZkqG5L/YUNmqFurjvxjDrjh9POC/+Izcdaxb1r8wX38ZfRvcv2C/jWVUQtm/uDrTXLsY1r/4Fv7ILgvev5hVtrxfzt2/SDFgp04d078QQrevcEbFv/BHg/tR3Mo/kNEKqGuO2T/Q4xxXNDniP+jCILX8xdk/ICedQUuB1D+AyrijfCTXP2hgucg6Etk/WM8evkLw5D9EzJf1ESnlP5jCjM+yIuM/eFQm4FVh5D/AoAjpbirQP6Ad6g1LibG/UOKUAHbbyr9Yv/2ywYDfv8AncZ0xf+u/tECzm16p9L8qvskxFCz4v1STsNDocPW/qhJooSWu8r9VCc7N0q75v4j4LasoIwHAbamUGYxAA8Ak18VbZ1kCwIMmrzdEcADA",
          "dtype": "f8"
         },
         "yaxis": "y4"
        },
        {
         "line": {
          "color": "gray",
          "dash": "dash"
         },
         "name": "BB Upper",
         "type": "scatter",
         "x": [
          "2024-04-22T00:00:00.000000000",
          "2024-04-23T00:00:00.000000000",
          "2024-04-24T00:00:00.000000000",
          "2024-04-25T00:00:00.000000000",
          "2024-04-26T00:00:00.000000000",
          "2024-04-29T00:00:00.000000000",
          "2024-04-30T00:00:00.000000000",
          "2024-05-01T00:00:00.000000000",
          "2024-05-02T00:00:00.000000000",
          "2024-05-03T00:00:00.000000000",
          "2024-05-06T00:00:00.000000000",
          "2024-05-07T00:00:00.000000000",
          "2024-05-08T00:00:00.000000000",
          "2024-05-09T00:00:00.000000000",
          "2024-05-10T00:00:00.000000000",
          "2024-05-13T00:00:00.000000000",
          "2024-05-14T00:00:00.000000000",
          "2024-05-15T00:00:00.000000000",
          "2024-05-16T00:00:00.000000000",
          "2024-05-17T00:00:00.000000000",
          "2024-05-20T00:00:00.000000000",
          "2024-05-21T00:00:00.000000000",
          "2024-05-22T00:00:00.000000000",
          "2024-05-23T00:00:00.000000000",
          "2024-05-24T00:00:00.000000000",
          "2024-05-28T00:00:00.000000000",
          "2024-05-29T00:00:00.000000000",
          "2024-05-30T00:00:00.000000000",
          "2024-05-31T00:00:00.000000000",
          "2024-06-03T00:00:00.000000000",
          "2024-06-04T00:00:00.000000000",
          "2024-06-05T00:00:00.000000000",
          "2024-06-06T00:00:00.000000000",
          "2024-06-07T00:00:00.000000000",
          "2024-06-10T00:00:00.000000000",
          "2024-06-11T00:00:00.000000000",
          "2024-06-12T00:00:00.000000000",
          "2024-06-13T00:00:00.000000000",
          "2024-06-14T00:00:00.000000000",
          "2024-06-17T00:00:00.000000000",
          "2024-06-18T00:00:00.000000000",
          "2024-06-20T00:00:00.000000000",
          "2024-06-21T00:00:00.000000000",
          "2024-06-24T00:00:00.000000000",
          "2024-06-25T00:00:00.000000000",
          "2024-06-26T00:00:00.000000000",
          "2024-06-27T00:00:00.000000000",
          "2024-06-28T00:00:00.000000000",
          "2024-07-01T00:00:00.000000000",
          "2024-07-02T00:00:00.000000000",
          "2024-07-03T00:00:00.000000000",
          "2024-07-05T00:00:00.000000000",
          "2024-07-08T00:00:00.000000000",
          "2024-07-09T00:00:00.000000000",
          "2024-07-10T00:00:00.000000000",
          "2024-07-11T00:00:00.000000000",
          "2024-07-12T00:00:00.000000000",
          "2024-07-15T00:00:00.000000000",
          "2024-07-16T00:00:00.000000000",
          "2024-07-17T00:00:00.000000000",
          "2024-07-18T00:00:00.000000000",
          "2024-07-19T00:00:00.000000000",
          "2024-07-22T00:00:00.000000000",
          "2024-07-23T00:00:00.000000000",
          "2024-07-24T00:00:00.000000000",
          "2024-07-25T00:00:00.000000000",
          "2024-07-26T00:00:00.000000000",
          "2024-07-29T00:00:00.000000000",
          "2024-07-30T00:00:00.000000000"
         ],
         "xaxis": "x5",
         "y": {
          "bdata": "imXJ4RgfZECORQA7BylkQNgHySVrOGRAISjv3e4zZEBiDLt5ZspkQPH1KUsW/WRAAW4iXOoTZUC8kQDYLC1lQOmwALA1S2VA2M/N8gFrZUBZp5BKYY5lQGqqaSuiw2VAF4uc1Q/lZUBKFP9BBAZmQAseK35GHGZAVMBJ5WIsZkA/OawJYjpmQDKhKpZmTmZA7d7rREtlZkAsNtf0RnVmQJJs1JSGi2ZANWCpGbemZkDVWROFqLJmQJb0BiMhjmZA6irlEtCXZkC5Y7yqS6pmQOEfN8Q9qGZAZncNFG+XZkC1JHsFtpBmQIBUNu0gimZA2R9Yw5eFZkAkkw3Q5IxmQPiFzFcElWZA+gnYrvqSZkBElUXa54lmQLs8CgfOhGZADBwCwUqIZkDxyqMNw4VmQAnzp1TcimZAlwcxmj6QZkAg6lGAFYtmQPSY0GDsgWZA6cPlvjOPZkAAh/PTGqFmQLGMU0fJ3WZAyfNEhQUJZ0AckIQqqjpnQOMLxhhYSGdAP74ZIAdZZ0DsqNXc9nNnQCf3avwukGdAbWQHLNHOZ0CGCDKaLPhnQAc7vsl+FmhAXcLB37s+aECZFeDtH0doQBuDD2nETWhAAO25yzdPaEDrp9nenkpoQPWA14V3Q2hAODRlokw3aEB8vmh3NzBoQLUlTR2fKmhAvDXlCbklaEBG7IAJQUhoQMUClQ5af2hAAlaiq6ufaEDKBO43bq9oQMelPnfmtGhA",
          "dtype": "f8"
         },
         "yaxis": "y5"
        },
        {
         "line": {
          "color": "gray",
          "dash": "dash"
         },
         "name": "BB Lower",
         "type": "scatter",
         "x": [
          "2024-04-22T00:00:00.000000000",
          "2024-04-23T00:00:00.000000000",
          "2024-04-24T00:00:00.000000000",
          "2024-04-25T00:00:00.000000000",
          "2024-04-26T00:00:00.000000000",
          "2024-04-29T00:00:00.000000000",
          "2024-04-30T00:00:00.000000000",
          "2024-05-01T00:00:00.000000000",
          "2024-05-02T00:00:00.000000000",
          "2024-05-03T00:00:00.000000000",
          "2024-05-06T00:00:00.000000000",
          "2024-05-07T00:00:00.000000000",
          "2024-05-08T00:00:00.000000000",
          "2024-05-09T00:00:00.000000000",
          "2024-05-10T00:00:00.000000000",
          "2024-05-13T00:00:00.000000000",
          "2024-05-14T00:00:00.000000000",
          "2024-05-15T00:00:00.000000000",
          "2024-05-16T00:00:00.000000000",
          "2024-05-17T00:00:00.000000000",
          "2024-05-20T00:00:00.000000000",
          "2024-05-21T00:00:00.000000000",
          "2024-05-22T00:00:00.000000000",
          "2024-05-23T00:00:00.000000000",
          "2024-05-24T00:00:00.000000000",
          "2024-05-28T00:00:00.000000000",
          "2024-05-29T00:00:00.000000000",
          "2024-05-30T00:00:00.000000000",
          "2024-05-31T00:00:00.000000000",
          "2024-06-03T00:00:00.000000000",
          "2024-06-04T00:00:00.000000000",
          "2024-06-05T00:00:00.000000000",
          "2024-06-06T00:00:00.000000000",
          "2024-06-07T00:00:00.000000000",
          "2024-06-10T00:00:00.000000000",
          "2024-06-11T00:00:00.000000000",
          "2024-06-12T00:00:00.000000000",
          "2024-06-13T00:00:00.000000000",
          "2024-06-14T00:00:00.000000000",
          "2024-06-17T00:00:00.000000000",
          "2024-06-18T00:00:00.000000000",
          "2024-06-20T00:00:00.000000000",
          "2024-06-21T00:00:00.000000000",
          "2024-06-24T00:00:00.000000000",
          "2024-06-25T00:00:00.000000000",
          "2024-06-26T00:00:00.000000000",
          "2024-06-27T00:00:00.000000000",
          "2024-06-28T00:00:00.000000000",
          "2024-07-01T00:00:00.000000000",
          "2024-07-02T00:00:00.000000000",
          "2024-07-03T00:00:00.000000000",
          "2024-07-05T00:00:00.000000000",
          "2024-07-08T00:00:00.000000000",
          "2024-07-09T00:00:00.000000000",
          "2024-07-10T00:00:00.000000000",
          "2024-07-11T00:00:00.000000000",
          "2024-07-12T00:00:00.000000000",
          "2024-07-15T00:00:00.000000000",
          "2024-07-16T00:00:00.000000000",
          "2024-07-17T00:00:00.000000000",
          "2024-07-18T00:00:00.000000000",
          "2024-07-19T00:00:00.000000000",
          "2024-07-22T00:00:00.000000000",
          "2024-07-23T00:00:00.000000000",
          "2024-07-24T00:00:00.000000000",
          "2024-07-25T00:00:00.000000000",
          "2024-07-26T00:00:00.000000000",
          "2024-07-29T00:00:00.000000000",
          "2024-07-30T00:00:00.000000000"
         ],
         "xaxis": "x5",
         "y": {
          "bdata": "qs1pkXrNYkDYIGabnN9iQFwrai1N7mJART532AQGY0BqwBGzILRiQNvWosHrpWJA/5HdEyirYkCq1GU+Vq9iQH21ZZYqxmJA9Pz+SYfWYkANv9XL9t5iQMqIydcy2WJAT9vJYPjiYkDqHjQhi+RiQPXh1AHO8WJAeAyDV1EQY0AnLboMTDVjQJorouatV2NAEyEUO0p6Y0AI/VuuVK9jQG6TK9u22mNA/9KJCU/+Y0D3crkXcihkQGoL+fy5g2RAFtUavX2CZEBHnEN1ZJBkQOuslVhHu2RAzrslb6flZEAXqFEX+v1kQEx4lm/vFWVAJ+CnXG4rZUB2BozZNzFlQG7gmV4aQGVA0sL07R9QZUBWBFR/fG1lQHn2KEzqiWVAKBcxEtieZUDbASmvhqplQPcMWNvVrmVANcWbMjiuZUAUSeGy8qxlQECaYrJAsGVAfaKAtzSqZUCaEqalo6plQIOm38uOi2VANwy7qtd3ZUAYo66oeGRlQFEnbQpYdmVAwUHmL1uHZUDgI/d/bZNlQNkIlcNwnmVAx84rd3SPZUDgXTTs6YxlQMWRDvP1nGVA13BxowSoZUAzt+x+x7xlQLFJvaM9zWVANEZ5F27wZUCv8b/q1wtmQD+yW/1IH2ZA/P7NEFE0ZkC4dMp7xkBmQOVzTCxCUGZARMoaNiZeZkDuRrL5vhdmQNWWBLvGrGVAmEP3DUhSZUBqLkWLMRtlQG2N9MtO7WRA",
          "dtype": "f8"
         },
         "yaxis": "y5"
        },
        {
         "line": {
          "color": "gray"
         },
         "name": "BB Middle",
         "type": "scatter",
         "x": [
          "2024-04-22T00:00:00.000000000",
          "2024-04-23T00:00:00.000000000",
          "2024-04-24T00:00:00.000000000",
          "2024-04-25T00:00:00.000000000",
          "2024-04-26T00:00:00.000000000",
          "2024-04-29T00:00:00.000000000",
          "2024-04-30T00:00:00.000000000",
          "2024-05-01T00:00:00.000000000",
          "2024-05-02T00:00:00.000000000",
          "2024-05-03T00:00:00.000000000",
          "2024-05-06T00:00:00.000000000",
          "2024-05-07T00:00:00.000000000",
          "2024-05-08T00:00:00.000000000",
          "2024-05-09T00:00:00.000000000",
          "2024-05-10T00:00:00.000000000",
          "2024-05-13T00:00:00.000000000",
          "2024-05-14T00:00:00.000000000",
          "2024-05-15T00:00:00.000000000",
          "2024-05-16T00:00:00.000000000",
          "2024-05-17T00:00:00.000000000",
          "2024-05-20T00:00:00.000000000",
          "2024-05-21T00:00:00.000000000",
          "2024-05-22T00:00:00.000000000",
          "2024-05-23T00:00:00.000000000",
          "2024-05-24T00:00:00.000000000",
          "2024-05-28T00:00:00.000000000",
          "2024-05-29T00:00:00.000000000",
          "2024-05-30T00:00:00.000000000",
          "2024-05-31T00:00:00.000000000",
          "2024-06-03T00:00:00.000000000",
          "2024-06-04T00:00:00.000000000",
          "2024-06-05T00:00:00.000000000",
          "2024-06-06T00:00:00.000000000",
          "2024-06-07T00:00:00.000000000",
          "2024-06-10T00:00:00.000000000",
          "2024-06-11T00:00:00.000000000",
          "2024-06-12T00:00:00.000000000",
          "2024-06-13T00:00:00.000000000",
          "2024-06-14T00:00:00.000000000",
          "2024-06-17T00:00:00.000000000",
          "2024-06-18T00:00:00.000000000",
          "2024-06-20T00:00:00.000000000",
          "2024-06-21T00:00:00.000000000",
          "2024-06-24T00:00:00.000000000",
          "2024-06-25T00:00:00.000000000",
          "2024-06-26T00:00:00.000000000",
          "2024-06-27T00:00:00.000000000",
          "2024-06-28T00:00:00.000000000",
          "2024-07-01T00:00:00.000000000",
          "2024-07-02T00:00:00.000000000",
          "2024-07-03T00:00:00.000000000",
          "2024-07-05T00:00:00.000000000",
          "2024-07-08T00:00:00.000000000",
          "2024-07-09T00:00:00.000000000",
          "2024-07-10T00:00:00.000000000",
          "2024-07-11T00:00:00.000000000",
          "2024-07-12T00:00:00.000000000",
          "2024-07-15T00:00:00.000000000",
          "2024-07-16T00:00:00.000000000",
          "2024-07-17T00:00:00.000000000",
          "2024-07-18T00:00:00.000000000",
          "2024-07-19T00:00:00.000000000",
          "2024-07-22T00:00:00.000000000",
          "2024-07-23T00:00:00.000000000",
          "2024-07-24T00:00:00.000000000",
          "2024-07-25T00:00:00.000000000",
          "2024-07-26T00:00:00.000000000",
          "2024-07-29T00:00:00.000000000",
          "2024-07-30T00:00:00.000000000"
         ],
         "xaxis": "x5",
         "y": {
          "bdata": "mpmZuUl2Y0AzMzPrUYRjQJqZmSlck2NAMzMz2/mcY0BmZmaWQ79jQGZmZgaB0WNAAAAAOInfY0AzMzOLQe5jQDMzMyOwCGRAZmZmnsQgZEAzMzMLrDZkQJqZmYFqTmRAMzMzGwRkZECamZmxR3VkQAAAAEAKh2RAZmZmHlqeZEAzMzML17dkQGZmZj4K02RAAAAAwMrvZECamZnRTRJlQAAAALgeM2VAmpmZEYNSZUBmZmZOjW1lQAAAAJDtiGVAAAAA6CaNZUAAAAAQWJ1lQGZmZo7CsWVAmpmZQYu+ZUBmZmYOWMdlQGZmZi4I0GVAAAAAEIPYZUDNzMxUDt9lQDMzM1uP6mVAZmZmTo3xZUDNzMwssvtlQJqZmSlcB2ZAmpmZaZETZkBmZmbeJBhmQAAAABjZHGZAZmZmZjsfZkCamZkZBBxmQJqZmYkWGWZAMzMzO7QcZkDNzMw83yVmQJqZmQmsNGZAAAAAmG5AZkCamZlpkU9mQJqZmRFYX2ZAAAAAKDFwZkBmZmYusoNmQAAAAOBPl2ZAmpmZ0SKvZkAzMzNDi8JmQGZmZl662WZAmpmZQWDzZkBmZma28wFnQGZmZgaBDWdAmpmZ8dIfZ0DNzMxkOytnQJqZmUFgMWdAmpmZ2c41Z0CamZn5fjhnQM3MzKRwPWdAAAAAoO9BZ0CamZkBADBnQM3MzGQQFmdAzczM3Pn4ZkCamZnhT+VmQJqZmaEa0WZA",
          "dtype": "f8"
         },
         "yaxis": "y5"
        }
       ],
       "layout": {
        "annotations": [
         {
          "font": {
           "size": 16
          },
          "showarrow": false,
          "text": "GOOG Price and Indicators",
          "x": 0.5,
          "xanchor": "center",
          "xref": "paper",
          "y": 1,
          "yanchor": "bottom",
          "yref": "paper"
         },
         {
          "font": {
           "size": 16
          },
          "showarrow": false,
          "text": "Volume and VWAP",
          "x": 0.5,
          "xanchor": "center",
          "xref": "paper",
          "y": 0.63,
          "yanchor": "bottom",
          "yref": "paper"
         },
         {
          "font": {
           "size": 16
          },
          "showarrow": false,
          "text": "RSI and Stochastic",
          "x": 0.5,
          "xanchor": "center",
          "xref": "paper",
          "y": 0.45999999999999996,
          "yanchor": "bottom",
          "yref": "paper"
         },
         {
          "font": {
           "size": 16
          },
          "showarrow": false,
          "text": "MACD",
          "x": 0.5,
          "xanchor": "center",
          "xref": "paper",
          "y": 0.29,
          "yanchor": "bottom",
          "yref": "paper"
         },
         {
          "font": {
           "size": 16
          },
          "showarrow": false,
          "text": "Bollinger Bands",
          "x": 0.5,
          "xanchor": "center",
          "xref": "paper",
          "y": 0.12,
          "yanchor": "bottom",
          "yref": "paper"
         }
        ],
        "height": 1200,
        "legend": {
         "orientation": "h",
         "x": 1,
         "xanchor": "right",
         "y": 1.02,
         "yanchor": "bottom"
        },
        "shapes": [
         {
          "line": {
           "color": "red",
           "dash": "dash"
          },
          "type": "line",
          "x0": 0,
          "x1": 1,
          "xref": "x3 domain",
          "y0": 70,
          "y1": 70,
          "yref": "y3"
         },
         {
          "line": {
           "color": "green",
           "dash": "dash"
          },
          "type": "line",
          "x0": 0,
          "x1": 1,
          "xref": "x3 domain",
          "y0": 30,
          "y1": 30,
          "yref": "y3"
         }
        ],
        "showlegend": true,
        "template": {
         "data": {
          "bar": [
           {
            "error_x": {
             "color": "#2a3f5f"
            },
            "error_y": {
             "color": "#2a3f5f"
            },
            "marker": {
             "line": {
              "color": "white",
              "width": 0.5
             },
             "pattern": {
              "fillmode": "overlay",
              "size": 10,
              "solidity": 0.2
             }
            },
            "type": "bar"
           }
          ],
          "barpolar": [
           {
            "marker": {
             "line": {
              "color": "white",
              "width": 0.5
             },
             "pattern": {
              "fillmode": "overlay",
              "size": 10,
              "solidity": 0.2
             }
            },
            "type": "barpolar"
           }
          ],
          "carpet": [
           {
            "aaxis": {
             "endlinecolor": "#2a3f5f",
             "gridcolor": "#C8D4E3",
             "linecolor": "#C8D4E3",
             "minorgridcolor": "#C8D4E3",
             "startlinecolor": "#2a3f5f"
            },
            "baxis": {
             "endlinecolor": "#2a3f5f",
             "gridcolor": "#C8D4E3",
             "linecolor": "#C8D4E3",
             "minorgridcolor": "#C8D4E3",
             "startlinecolor": "#2a3f5f"
            },
            "type": "carpet"
           }
          ],
          "choropleth": [
           {
            "colorbar": {
             "outlinewidth": 0,
             "ticks": ""
            },
            "type": "choropleth"
           }
          ],
          "contour": [
           {
            "colorbar": {
             "outlinewidth": 0,
             "ticks": ""
            },
            "colorscale": [
             [
              0,
              "#0d0887"
             ],
             [
              0.1111111111111111,
              "#46039f"
             ],
             [
              0.2222222222222222,
              "#7201a8"
             ],
             [
              0.3333333333333333,
              "#9c179e"
             ],
             [
              0.4444444444444444,
              "#bd3786"
             ],
             [
              0.5555555555555556,
              "#d8576b"
             ],
             [
              0.6666666666666666,
              "#ed7953"
             ],
             [
              0.7777777777777778,
              "#fb9f3a"
             ],
             [
              0.8888888888888888,
              "#fdca26"
             ],
             [
              1,
              "#f0f921"
             ]
            ],
            "type": "contour"
           }
          ],
          "contourcarpet": [
           {
            "colorbar": {
             "outlinewidth": 0,
             "ticks": ""
            },
            "type": "contourcarpet"
           }
          ],
          "heatmap": [
           {
            "colorbar": {
             "outlinewidth": 0,
             "ticks": ""
            },
            "colorscale": [
             [
              0,
              "#0d0887"
             ],
             [
              0.1111111111111111,
              "#46039f"
             ],
             [
              0.2222222222222222,
              "#7201a8"
             ],
             [
              0.3333333333333333,
              "#9c179e"
             ],
             [
              0.4444444444444444,
              "#bd3786"
             ],
             [
              0.5555555555555556,
              "#d8576b"
             ],
             [
              0.6666666666666666,
              "#ed7953"
             ],
             [
              0.7777777777777778,
              "#fb9f3a"
             ],
             [
              0.8888888888888888,
              "#fdca26"
             ],
             [
              1,
              "#f0f921"
             ]
            ],
            "type": "heatmap"
           }
          ],
          "histogram": [
           {
            "marker": {
             "pattern": {
              "fillmode": "overlay",
              "size": 10,
              "solidity": 0.2
             }
            },
            "type": "histogram"
           }
          ],
          "histogram2d": [
           {
            "colorbar": {
             "outlinewidth": 0,
             "ticks": ""
            },
            "colorscale": [
             [
              0,
              "#0d0887"
             ],
             [
              0.1111111111111111,
              "#46039f"
             ],
             [
              0.2222222222222222,
              "#7201a8"
             ],
             [
              0.3333333333333333,
              "#9c179e"
             ],
             [
              0.4444444444444444,
              "#bd3786"
             ],
             [
              0.5555555555555556,
              "#d8576b"
             ],
             [
              0.6666666666666666,
              "#ed7953"
             ],
             [
              0.7777777777777778,
              "#fb9f3a"
             ],
             [
              0.8888888888888888,
              "#fdca26"
             ],
             [
              1,
              "#f0f921"
             ]
            ],
            "type": "histogram2d"
           }
          ],
          "histogram2dcontour": [
           {
            "colorbar": {
             "outlinewidth": 0,
             "ticks": ""
            },
            "colorscale": [
             [
              0,
              "#0d0887"
             ],
             [
              0.1111111111111111,
              "#46039f"
             ],
             [
              0.2222222222222222,
              "#7201a8"
             ],
             [
              0.3333333333333333,
              "#9c179e"
             ],
             [
              0.4444444444444444,
              "#bd3786"
             ],
             [
              0.5555555555555556,
              "#d8576b"
             ],
             [
              0.6666666666666666,
              "#ed7953"
             ],
             [
              0.7777777777777778,
              "#fb9f3a"
             ],
             [
              0.8888888888888888,
              "#fdca26"
             ],
             [
              1,
              "#f0f921"
             ]
            ],
            "type": "histogram2dcontour"
           }
          ],
          "mesh3d": [
           {
            "colorbar": {
             "outlinewidth": 0,
             "ticks": ""
            },
            "type": "mesh3d"
           }
          ],
          "parcoords": [
           {
            "line": {
             "colorbar": {
              "outlinewidth": 0,
              "ticks": ""
             }
            },
            "type": "parcoords"
           }
          ],
          "pie": [
           {
            "automargin": true,
            "type": "pie"
           }
          ],
          "scatter": [
           {
            "fillpattern": {
             "fillmode": "overlay",
             "size": 10,
             "solidity": 0.2
            },
            "type": "scatter"
           }
          ],
          "scatter3d": [
           {
            "line": {
             "colorbar": {
              "outlinewidth": 0,
              "ticks": ""
             }
            },
            "marker": {
             "colorbar": {
              "outlinewidth": 0,
              "ticks": ""
             }
            },
            "type": "scatter3d"
           }
          ],
          "scattercarpet": [
           {
            "marker": {
             "colorbar": {
              "outlinewidth": 0,
              "ticks": ""
             }
            },
            "type": "scattercarpet"
           }
          ],
          "scattergeo": [
           {
            "marker": {
             "colorbar": {
              "outlinewidth": 0,
              "ticks": ""
             }
            },
            "type": "scattergeo"
           }
          ],
          "scattergl": [
           {
            "marker": {
             "colorbar": {
              "outlinewidth": 0,
              "ticks": ""
             }
            },
            "type": "scattergl"
           }
          ],
          "scattermap": [
           {
            "marker": {
             "colorbar": {
              "outlinewidth": 0,
              "ticks": ""
             }
            },
            "type": "scattermap"
           }
          ],
          "scattermapbox": [
           {
            "marker": {
             "colorbar": {
              "outlinewidth": 0,
              "ticks": ""
             }
            },
            "type": "scattermapbox"
           }
          ],
          "scatterpolar": [
           {
            "marker": {
             "colorbar": {
              "outlinewidth": 0,
              "ticks": ""
             }
            },
            "type": "scatterpolar"
           }
          ],
          "scatterpolargl": [
           {
            "marker": {
             "colorbar": {
              "outlinewidth": 0,
              "ticks": ""
             }
            },
            "type": "scatterpolargl"
           }
          ],
          "scatterternary": [
           {
            "marker": {
             "colorbar": {
              "outlinewidth": 0,
              "ticks": ""
             }
            },
            "type": "scatterternary"
           }
          ],
          "surface": [
           {
            "colorbar": {
             "outlinewidth": 0,
             "ticks": ""
            },
            "colorscale": [
             [
              0,
              "#0d0887"
             ],
             [
              0.1111111111111111,
              "#46039f"
             ],
             [
              0.2222222222222222,
              "#7201a8"
             ],
             [
              0.3333333333333333,
              "#9c179e"
             ],
             [
              0.4444444444444444,
              "#bd3786"
             ],
             [
              0.5555555555555556,
              "#d8576b"
             ],
             [
              0.6666666666666666,
              "#ed7953"
             ],
             [
              0.7777777777777778,
              "#fb9f3a"
             ],
             [
              0.8888888888888888,
              "#fdca26"
             ],
             [
              1,
              "#f0f921"
             ]
            ],
            "type": "surface"
           }
          ],
          "table": [
           {
            "cells": {
             "fill": {
              "color": "#EBF0F8"
             },
             "line": {
              "color": "white"
             }
            },
            "header": {
             "fill": {
              "color": "#C8D4E3"
             },
             "line": {
              "color": "white"
             }
            },
            "type": "table"
           }
          ]
         },
         "layout": {
          "annotationdefaults": {
           "arrowcolor": "#2a3f5f",
           "arrowhead": 0,
           "arrowwidth": 1
          },
          "autotypenumbers": "strict",
          "coloraxis": {
           "colorbar": {
            "outlinewidth": 0,
            "ticks": ""
           }
          },
          "colorscale": {
           "diverging": [
            [
             0,
             "#8e0152"
            ],
            [
             0.1,
             "#c51b7d"
            ],
            [
             0.2,
             "#de77ae"
            ],
            [
             0.3,
             "#f1b6da"
            ],
            [
             0.4,
             "#fde0ef"
            ],
            [
             0.5,
             "#f7f7f7"
            ],
            [
             0.6,
             "#e6f5d0"
            ],
            [
             0.7,
             "#b8e186"
            ],
            [
             0.8,
             "#7fbc41"
            ],
            [
             0.9,
             "#4d9221"
            ],
            [
             1,
             "#276419"
            ]
           ],
           "sequential": [
            [
             0,
             "#0d0887"
            ],
            [
             0.1111111111111111,
             "#46039f"
            ],
            [
             0.2222222222222222,
             "#7201a8"
            ],
            [
             0.3333333333333333,
             "#9c179e"
            ],
            [
             0.4444444444444444,
             "#bd3786"
            ],
            [
             0.5555555555555556,
             "#d8576b"
            ],
            [
             0.6666666666666666,
             "#ed7953"
            ],
            [
             0.7777777777777778,
             "#fb9f3a"
            ],
            [
             0.8888888888888888,
             "#fdca26"
            ],
            [
             1,
             "#f0f921"
            ]
           ],
           "sequentialminus": [
            [
             0,
             "#0d0887"
            ],
            [
             0.1111111111111111,
             "#46039f"
            ],
            [
             0.2222222222222222,
             "#7201a8"
            ],
            [
             0.3333333333333333,
             "#9c179e"
            ],
            [
             0.4444444444444444,
             "#bd3786"
            ],
            [
             0.5555555555555556,
             "#d8576b"
            ],
            [
             0.6666666666666666,
             "#ed7953"
            ],
            [
             0.7777777777777778,
             "#fb9f3a"
            ],
            [
             0.8888888888888888,
             "#fdca26"
            ],
            [
             1,
             "#f0f921"
            ]
           ]
          },
          "colorway": [
           "#636efa",
           "#EF553B",
           "#00cc96",
           "#ab63fa",
           "#FFA15A",
           "#19d3f3",
           "#FF6692",
           "#B6E880",
           "#FF97FF",
           "#FECB52"
          ],
          "font": {
           "color": "#2a3f5f"
          },
          "geo": {
           "bgcolor": "white",
           "lakecolor": "white",
           "landcolor": "white",
           "showlakes": true,
           "showland": true,
           "subunitcolor": "#C8D4E3"
          },
          "hoverlabel": {
           "align": "left"
          },
          "hovermode": "closest",
          "mapbox": {
           "style": "light"
          },
          "paper_bgcolor": "white",
          "plot_bgcolor": "white",
          "polar": {
           "angularaxis": {
            "gridcolor": "#EBF0F8",
            "linecolor": "#EBF0F8",
            "ticks": ""
           },
           "bgcolor": "white",
           "radialaxis": {
            "gridcolor": "#EBF0F8",
            "linecolor": "#EBF0F8",
            "ticks": ""
           }
          },
          "scene": {
           "xaxis": {
            "backgroundcolor": "white",
            "gridcolor": "#DFE8F3",
            "gridwidth": 2,
            "linecolor": "#EBF0F8",
            "showbackground": true,
            "ticks": "",
            "zerolinecolor": "#EBF0F8"
           },
           "yaxis": {
            "backgroundcolor": "white",
            "gridcolor": "#DFE8F3",
            "gridwidth": 2,
            "linecolor": "#EBF0F8",
            "showbackground": true,
            "ticks": "",
            "zerolinecolor": "#EBF0F8"
           },
           "zaxis": {
            "backgroundcolor": "white",
            "gridcolor": "#DFE8F3",
            "gridwidth": 2,
            "linecolor": "#EBF0F8",
            "showbackground": true,
            "ticks": "",
            "zerolinecolor": "#EBF0F8"
           }
          },
          "shapedefaults": {
           "line": {
            "color": "#2a3f5f"
           }
          },
          "ternary": {
           "aaxis": {
            "gridcolor": "#DFE8F3",
            "linecolor": "#A2B1C6",
            "ticks": ""
           },
           "baxis": {
            "gridcolor": "#DFE8F3",
            "linecolor": "#A2B1C6",
            "ticks": ""
           },
           "bgcolor": "white",
           "caxis": {
            "gridcolor": "#DFE8F3",
            "linecolor": "#A2B1C6",
            "ticks": ""
           }
          },
          "title": {
           "x": 0.05
          },
          "xaxis": {
           "automargin": true,
           "gridcolor": "#EBF0F8",
           "linecolor": "#EBF0F8",
           "ticks": "",
           "title": {
            "standoff": 15
           },
           "zerolinecolor": "#EBF0F8",
           "zerolinewidth": 2
          },
          "yaxis": {
           "automargin": true,
           "gridcolor": "#EBF0F8",
           "linecolor": "#EBF0F8",
           "ticks": "",
           "title": {
            "standoff": 15
           },
           "zerolinecolor": "#EBF0F8",
           "zerolinewidth": 2
          }
         }
        },
        "title": {
         "text": "GOOG Technical Analysis Dashboard"
        },
        "xaxis": {
         "anchor": "y",
         "domain": [
          0,
          1
         ],
         "matches": "x5",
         "rangeslider": {
          "visible": false
         },
         "showticklabels": false
        },
        "xaxis2": {
         "anchor": "y2",
         "domain": [
          0,
          1
         ],
         "matches": "x5",
         "showticklabels": false
        },
        "xaxis3": {
         "anchor": "y3",
         "domain": [
          0,
          1
         ],
         "matches": "x5",
         "showticklabels": false
        },
        "xaxis4": {
         "anchor": "y4",
         "domain": [
          0,
          1
         ],
         "matches": "x5",
         "showticklabels": false
        },
        "xaxis5": {
         "anchor": "y5",
         "domain": [
          0,
          1
         ]
        },
        "yaxis": {
         "anchor": "x",
         "domain": [
          0.6799999999999999,
          1
         ],
         "title": {
          "text": "Price"
         }
        },
        "yaxis2": {
         "anchor": "x2",
         "domain": [
          0.51,
          0.63
         ],
         "title": {
          "text": "Volume"
         }
        },
        "yaxis3": {
         "anchor": "x3",
         "domain": [
          0.33999999999999997,
          0.45999999999999996
         ],
         "title": {
          "text": "RSI/Stochastic"
         }
        },
        "yaxis4": {
         "anchor": "x4",
         "domain": [
          0.16999999999999998,
          0.29
         ],
         "title": {
          "text": "MACD"
         }
        },
        "yaxis5": {
         "anchor": "x5",
         "domain": [
          0,
          0.12
         ],
         "title": {
          "text": "Bollinger Bands"
         }
        }
       }
      }
     },
     "metadata": {},
     "output_type": "display_data"
    },
    {
     "name": "stdout",
     "output_type": "stream",
     "text": [
      "\n",
      "Generating dashboard for META...\n"
     ]
    },
    {
     "data": {
      "application/vnd.plotly.v1+json": {
       "config": {
        "plotlyServerURL": "https://plot.ly"
       },
       "data": [
        {
         "close": {
          "bdata": "AAAAIK4bfkAAAACgmQF/QAAAAAAA2H5AAAAAgBSWe0AAAADgo7R7QAAAAIDrCXtAAAAAYLjiekABAABACnN7QAEAAEDhmntAAAAAIFw/fEABAABA4Rp9QAAAAADXQ31AAAAAoJmJfUAAAABguLZ9QAEAAEAzw31AAAAAAClAfUAAAACgmX19QAAAAOCjGH5AAAAAIK6TfUAAAABgj359QAAAAKBwTX1AAAAAgBQKfUAAAADgejx9QAAAAOB6HH1AAAAAIIXjfUAAAABguP59QAAAAIDCpX1AAQAAwMwwfUAAAACgRy19QAAAAADX131AAAAAANfPfUAAAADA9fB+QAAAAAAp3H5AAAAAIFzPfkAAAACgmWl/QAAAACCFt39AAAAAoHDNf0AAAACgmYF/QAAAAGCPgn9AAAAAgBSqf0AAAAAA1zd/QAEAAEAzW39AAAAA4HrsfkAAAABgjy5/QAAAAKCZ6X9AAAAAwPUIgEAAAADgejyAQAAAACCFg39AAQAAQOGKf0AAAAAAANh/QAAAACBc339AAAAAoEffgEAAAABgj4qAQAAAAAAAkIBAAAAAIIW1gEAAAACgmQWAQAAAAIDrLX9AAAAAYI8Cf0AAAADgo5x+QAAAAADX33xAAAAAoJm9fUAAAADgo8x9QAAAAGBmdn5AAQAAQAqLfkAAAADgUdR8QAAAAGCPVnxAAQAAQDMbfUAAAAAgXBt9QAEAAEAK83xA",
          "dtype": "f8"
         },
         "high": {
          "bdata": "AAAAACnAfkAAAAAAKSx/QAAAAAAA4H9AAAAA4FHce0ABAABACud7QAAAAAApfHtAAAAAgOt5e0AAAAAgXB98QAAAACBcv3tAAAAAYLhifEAAAABgjyJ9QAAAAOB6eH1AAAAAoEe5fUAAAACgR8F9QAAAAAAA2H1AAAAAoJmVfUAAAADgo4h9QAAAAAAAKH5AAQAAQArbfUABAADAzIx9QAEAAEAzk31AAQAAQDNrfUAAAAAghZt9QAAAAIDCpX1AAAAAoJn9fUAAAACAwg1+QAAAAKCZ/X1AAAAAIK57fUAAAACA61F9QAAAAKCZ+X1AAAAAgD3ufUAAAABgZgp/QAEAAMAebX9AAAAAYI8uf0AAAABgj2p/QAAAAKCZuX9AAAAAgBQQgEAAAACAwtV/QAAAAGBmsn9AAAAAAADsf0AAAAAAAKB/QAAAAGC4en9AAQAAQDN3f0ABAADAzLx/QAAAACBc639AAAAA4HoOgEAAAABACleAQAAAAEAKT4BAAAAAoEepf0AAAAAAAOh/QAAAAOB69H9AAAAAwPXmgEAAAADgevaAQAAAAADXy4BAAAAAQArXgEAAAAAgrruAQAAAAKBwwX9AAQAAQOGqf0ABAABAM39/QAAAAGC48n1AAAAAANfzfUAAAAAgXGt+QAAAAMD1wH5AAAAAIIXzfkABAADAzMR9QAEAAMDM+HxAAAAA4FFcfUAAAAAgXJ99QAAAACCui31A",
          "dtype": "f8"
         },
         "low": {
          "bdata": "AAAAYGaWfUAAAAAghY9+QAAAAKBHSX5AAAAAAADoeUAAAAAgXP96QAAAAMD1yHpAAAAAIIXbekAAAACAwrF6QAAAAOB6BHtAAAAAoJm9e0AAAACgcFV8QAAAAMD11HxAAAAAAADwfEAAAACAFDp9QAAAAKCZWX1AAAAAoJntfEAAAACgR8F8QAEAAEAzc31AAAAAAACMfUAAAABguEZ9QAAAAOCjMH1AAAAA4FHkfEAAAABgZhp9QAAAAOCj2HxAAQAAwMwkfUAAAACgcK19QAEAAEAzm31AAAAAIFwLfUAAAAAgXGd8QAAAAADXQ31AAAAAIK6TfUAAAABgjz5+QAAAAIA9rn5AAAAAYLiifkAAAABgj9Z+QAAAAOBRJH9AAAAAIIWHf0AAAACAwlV/QAAAAAAATH9AAAAAACkAf0AAAADgUfB+QAAAAOBRDH9AAAAAgD3GfkAAAADgo+R+QAAAAAAA+H5AAQAAQOGKf0AAAABAMw+AQAAAAKBwfX9AAAAAYLjSfkABAABAMzd/QAAAAOBRoH9AAAAAoJn5f0AAAABAM3WAQAAAACCFgYBAAAAAQOGCgEAAAACA68V/QAAAACCu435AAAAAgOvVfkAAAADgo1x+QAAAAIDrsXxAAAAA4KMIfUAAAAAgXLt9QAAAAGBmPn5AAAAAIIV7fkAAAACgR8l8QAAAAGBmqntAAAAAYLi2fEAAAADgURB9QAEAAEAzi3xA",
          "dtype": "f8"
         },
         "name": "OHLC",
         "open": {
          "bdata": "AAAAIIWbfkAAAAAAALR+QAAAAMD1wH9AAAAAYGZWekAAAAAgXJd7QAAAAMD1eHtAAQAAwMzwekAAAACgmcl6QAAAAKBwbXtAAQAAQOHee0AAAACgR3l8QAAAAOCjJH1AAAAAAAD4fEAAAAAAAGB9QAAAAKBw0X1AAAAAAACMfUAAAACA6/V8QAAAACCur31AAAAAAACwfUAAAACgR219QAEAAEAzX31AAAAAgOsxfUAAAACA6z19QAAAAIAUjn1AAAAAgOs5fUAAAACgR8l9QAAAAGCPqn1AAAAAYLh6fUABAADAzBx9QAAAAIDCbX1AAAAAAADQfUABAABAM0d+QAAAACCuz35AAAAAYI/+fkAAAACAwt1+QAAAAGCPQn9AAAAAgOsPgEAAAAAgXJt/QAAAAGBman9AAAAAYLhaf0AAAADA9Yh/QAAAAAAAYH9AAQAAQDN3f0ABAABAMzN/QAEAAMDMEH9AAAAAYGaqf0AAAAAAABKAQAAAAEAzKYBAAQAAQDOPf0AAAAAAKUx/QAAAAIDrpX9AAAAAoJn5f0AAAADAzPKAQAAAAAAAroBAAAAA4FGWgEAAAADAHpeAQAAAAAApHH9AAAAAgBQqf0AAAAAAAFh/QAAAAGC48n1AAAAAAACwfUAAAADA9cB9QAAAAKBHaX5AAAAAoHCdfkAAAADA9YR9QAAAAAAp9HxAAQAAQDMDfUAAAACAFF59QAAAAAAAMH1A",
          "dtype": "f8"
         },
         "type": "candlestick",
         "x": [
          "2024-04-22T00:00:00.000000000",
          "2024-04-23T00:00:00.000000000",
          "2024-04-24T00:00:00.000000000",
          "2024-04-25T00:00:00.000000000",
          "2024-04-26T00:00:00.000000000",
          "2024-04-29T00:00:00.000000000",
          "2024-04-30T00:00:00.000000000",
          "2024-05-01T00:00:00.000000000",
          "2024-05-02T00:00:00.000000000",
          "2024-05-03T00:00:00.000000000",
          "2024-05-06T00:00:00.000000000",
          "2024-05-07T00:00:00.000000000",
          "2024-05-08T00:00:00.000000000",
          "2024-05-09T00:00:00.000000000",
          "2024-05-10T00:00:00.000000000",
          "2024-05-13T00:00:00.000000000",
          "2024-05-14T00:00:00.000000000",
          "2024-05-15T00:00:00.000000000",
          "2024-05-16T00:00:00.000000000",
          "2024-05-17T00:00:00.000000000",
          "2024-05-20T00:00:00.000000000",
          "2024-05-21T00:00:00.000000000",
          "2024-05-22T00:00:00.000000000",
          "2024-05-23T00:00:00.000000000",
          "2024-05-24T00:00:00.000000000",
          "2024-05-28T00:00:00.000000000",
          "2024-05-29T00:00:00.000000000",
          "2024-05-30T00:00:00.000000000",
          "2024-05-31T00:00:00.000000000",
          "2024-06-03T00:00:00.000000000",
          "2024-06-04T00:00:00.000000000",
          "2024-06-05T00:00:00.000000000",
          "2024-06-06T00:00:00.000000000",
          "2024-06-07T00:00:00.000000000",
          "2024-06-10T00:00:00.000000000",
          "2024-06-11T00:00:00.000000000",
          "2024-06-12T00:00:00.000000000",
          "2024-06-13T00:00:00.000000000",
          "2024-06-14T00:00:00.000000000",
          "2024-06-17T00:00:00.000000000",
          "2024-06-18T00:00:00.000000000",
          "2024-06-20T00:00:00.000000000",
          "2024-06-21T00:00:00.000000000",
          "2024-06-24T00:00:00.000000000",
          "2024-06-25T00:00:00.000000000",
          "2024-06-26T00:00:00.000000000",
          "2024-06-27T00:00:00.000000000",
          "2024-06-28T00:00:00.000000000",
          "2024-07-01T00:00:00.000000000",
          "2024-07-02T00:00:00.000000000",
          "2024-07-03T00:00:00.000000000",
          "2024-07-05T00:00:00.000000000",
          "2024-07-08T00:00:00.000000000",
          "2024-07-09T00:00:00.000000000",
          "2024-07-10T00:00:00.000000000",
          "2024-07-11T00:00:00.000000000",
          "2024-07-12T00:00:00.000000000",
          "2024-07-15T00:00:00.000000000",
          "2024-07-16T00:00:00.000000000",
          "2024-07-17T00:00:00.000000000",
          "2024-07-18T00:00:00.000000000",
          "2024-07-19T00:00:00.000000000",
          "2024-07-22T00:00:00.000000000",
          "2024-07-23T00:00:00.000000000",
          "2024-07-24T00:00:00.000000000",
          "2024-07-25T00:00:00.000000000",
          "2024-07-26T00:00:00.000000000",
          "2024-07-29T00:00:00.000000000",
          "2024-07-30T00:00:00.000000000"
         ],
         "xaxis": "x",
         "yaxis": "y"
        },
        {
         "line": {
          "color": "blue"
         },
         "name": "SMA_20",
         "type": "scatter",
         "x": [
          "2024-04-22T00:00:00.000000000",
          "2024-04-23T00:00:00.000000000",
          "2024-04-24T00:00:00.000000000",
          "2024-04-25T00:00:00.000000000",
          "2024-04-26T00:00:00.000000000",
          "2024-04-29T00:00:00.000000000",
          "2024-04-30T00:00:00.000000000",
          "2024-05-01T00:00:00.000000000",
          "2024-05-02T00:00:00.000000000",
          "2024-05-03T00:00:00.000000000",
          "2024-05-06T00:00:00.000000000",
          "2024-05-07T00:00:00.000000000",
          "2024-05-08T00:00:00.000000000",
          "2024-05-09T00:00:00.000000000",
          "2024-05-10T00:00:00.000000000",
          "2024-05-13T00:00:00.000000000",
          "2024-05-14T00:00:00.000000000",
          "2024-05-15T00:00:00.000000000",
          "2024-05-16T00:00:00.000000000",
          "2024-05-17T00:00:00.000000000",
          "2024-05-20T00:00:00.000000000",
          "2024-05-21T00:00:00.000000000",
          "2024-05-22T00:00:00.000000000",
          "2024-05-23T00:00:00.000000000",
          "2024-05-24T00:00:00.000000000",
          "2024-05-28T00:00:00.000000000",
          "2024-05-29T00:00:00.000000000",
          "2024-05-30T00:00:00.000000000",
          "2024-05-31T00:00:00.000000000",
          "2024-06-03T00:00:00.000000000",
          "2024-06-04T00:00:00.000000000",
          "2024-06-05T00:00:00.000000000",
          "2024-06-06T00:00:00.000000000",
          "2024-06-07T00:00:00.000000000",
          "2024-06-10T00:00:00.000000000",
          "2024-06-11T00:00:00.000000000",
          "2024-06-12T00:00:00.000000000",
          "2024-06-13T00:00:00.000000000",
          "2024-06-14T00:00:00.000000000",
          "2024-06-17T00:00:00.000000000",
          "2024-06-18T00:00:00.000000000",
          "2024-06-20T00:00:00.000000000",
          "2024-06-21T00:00:00.000000000",
          "2024-06-24T00:00:00.000000000",
          "2024-06-25T00:00:00.000000000",
          "2024-06-26T00:00:00.000000000",
          "2024-06-27T00:00:00.000000000",
          "2024-06-28T00:00:00.000000000",
          "2024-07-01T00:00:00.000000000",
          "2024-07-02T00:00:00.000000000",
          "2024-07-03T00:00:00.000000000",
          "2024-07-05T00:00:00.000000000",
          "2024-07-08T00:00:00.000000000",
          "2024-07-09T00:00:00.000000000",
          "2024-07-10T00:00:00.000000000",
          "2024-07-11T00:00:00.000000000",
          "2024-07-12T00:00:00.000000000",
          "2024-07-15T00:00:00.000000000",
          "2024-07-16T00:00:00.000000000",
          "2024-07-17T00:00:00.000000000",
          "2024-07-18T00:00:00.000000000",
          "2024-07-19T00:00:00.000000000",
          "2024-07-22T00:00:00.000000000",
          "2024-07-23T00:00:00.000000000",
          "2024-07-24T00:00:00.000000000",
          "2024-07-25T00:00:00.000000000",
          "2024-07-26T00:00:00.000000000",
          "2024-07-29T00:00:00.000000000",
          "2024-07-30T00:00:00.000000000"
         ],
         "xaxis": "x",
         "y": {
          "bdata": "zczM/H5xf0BmZmbG9Wt/QM3MzEwMan9AZmZmZhBAf0CamZlpOx5/QJqZmYE/735AMzMz83y5fkBmZma2coN+QDMzM1sOTH5AZmZmhsAPfkAzMzNj5eR9QAAAAND3vX1AMzMzGy+YfUBmZmb2/XF9QDMzM5tuVX1AMzMz86c7fUAzMzP7UyV9QDMzM1s5G31AmpmZOV4EfUCamZlBCv18QJqZmWG68nxAMzMzU43ZfEBmZmbe+cR8QM3MzPx+2HxAZmZmpnD0fECamZmxRxp9QM3MzMyhPX1AZmZmhutTfUBmZmY+Cmh9QJqZmcl2fH1AMzMzE4OFfUAAAADQ95p9QJqZmWHlq31AmpmZke25fUCamZlJDM99QJqZmbGd7n1AZmZmPjUMfkAAAACIQR5+QGZmZv7/Nn5AZmZmpsZSfkDNzMzES2t+QM3MzLTziH5AZmZmTo2efkDNzMxUDrl+QJqZmcH10n5AzczMHIXtfkAzMzMTrhF/QGZmZn5qL39AzczMLLJNf0AzMzPTTWd/QM3MzBSugX9AMzMzW4+lf0AzMzMLAsJ/QGZmZtaj339AZmZm3k/5f0CamZn5fv1/QGZmZh6F9X9AmpmZASvvf0AAAAAIrON/QJqZmcH1v39AmpmZSQytf0AAAAC4Hpl/QDMzM0s3k39AzczMPAqLf0AzMzNzk2N/QAAAANjOM39AmpmZUbgIf0AAAAB46el+QJqZmVG4yH5A",
          "dtype": "f8"
         },
         "yaxis": "y"
        },
        {
         "line": {
          "color": "orange"
         },
         "name": "SMA_50",
         "type": "scatter",
         "x": [
          "2024-04-22T00:00:00.000000000",
          "2024-04-23T00:00:00.000000000",
          "2024-04-24T00:00:00.000000000",
          "2024-04-25T00:00:00.000000000",
          "2024-04-26T00:00:00.000000000",
          "2024-04-29T00:00:00.000000000",
          "2024-04-30T00:00:00.000000000",
          "2024-05-01T00:00:00.000000000",
          "2024-05-02T00:00:00.000000000",
          "2024-05-03T00:00:00.000000000",
          "2024-05-06T00:00:00.000000000",
          "2024-05-07T00:00:00.000000000",
          "2024-05-08T00:00:00.000000000",
          "2024-05-09T00:00:00.000000000",
          "2024-05-10T00:00:00.000000000",
          "2024-05-13T00:00:00.000000000",
          "2024-05-14T00:00:00.000000000",
          "2024-05-15T00:00:00.000000000",
          "2024-05-16T00:00:00.000000000",
          "2024-05-17T00:00:00.000000000",
          "2024-05-20T00:00:00.000000000",
          "2024-05-21T00:00:00.000000000",
          "2024-05-22T00:00:00.000000000",
          "2024-05-23T00:00:00.000000000",
          "2024-05-24T00:00:00.000000000",
          "2024-05-28T00:00:00.000000000",
          "2024-05-29T00:00:00.000000000",
          "2024-05-30T00:00:00.000000000",
          "2024-05-31T00:00:00.000000000",
          "2024-06-03T00:00:00.000000000",
          "2024-06-04T00:00:00.000000000",
          "2024-06-05T00:00:00.000000000",
          "2024-06-06T00:00:00.000000000",
          "2024-06-07T00:00:00.000000000",
          "2024-06-10T00:00:00.000000000",
          "2024-06-11T00:00:00.000000000",
          "2024-06-12T00:00:00.000000000",
          "2024-06-13T00:00:00.000000000",
          "2024-06-14T00:00:00.000000000",
          "2024-06-17T00:00:00.000000000",
          "2024-06-18T00:00:00.000000000",
          "2024-06-20T00:00:00.000000000",
          "2024-06-21T00:00:00.000000000",
          "2024-06-24T00:00:00.000000000",
          "2024-06-25T00:00:00.000000000",
          "2024-06-26T00:00:00.000000000",
          "2024-06-27T00:00:00.000000000",
          "2024-06-28T00:00:00.000000000",
          "2024-07-01T00:00:00.000000000",
          "2024-07-02T00:00:00.000000000",
          "2024-07-03T00:00:00.000000000",
          "2024-07-05T00:00:00.000000000",
          "2024-07-08T00:00:00.000000000",
          "2024-07-09T00:00:00.000000000",
          "2024-07-10T00:00:00.000000000",
          "2024-07-11T00:00:00.000000000",
          "2024-07-12T00:00:00.000000000",
          "2024-07-15T00:00:00.000000000",
          "2024-07-16T00:00:00.000000000",
          "2024-07-17T00:00:00.000000000",
          "2024-07-18T00:00:00.000000000",
          "2024-07-19T00:00:00.000000000",
          "2024-07-22T00:00:00.000000000",
          "2024-07-23T00:00:00.000000000",
          "2024-07-24T00:00:00.000000000",
          "2024-07-25T00:00:00.000000000",
          "2024-07-26T00:00:00.000000000",
          "2024-07-29T00:00:00.000000000",
          "2024-07-30T00:00:00.000000000"
         ],
         "xaxis": "x",
         "y": {
          "bdata": "7FG43uDlfkAAAADQ1e5+QLgehQu19n5A16Nw3bXwfkBcj8IVHed+QD0K15Op1n5ArkfhutrIfkCkcD1qb75+QClcj9IAtn5A16NwnRGrfkAfhethMqV+QGZmZnbgoH5AhetRuECcfkBcj8I1gJl+QArXoxALlX5AexSuBxKKfkAfhetBpIF+QBSuRzHdfn5ACtejgIx3fkA9CtfDqGp+QGZmZrbIXn5AKVyPgrdYfkBxPQqHfE5+QBSuRyH0RH5AMzMzM5lAfkBmZmbGQj9+QOF6FL4FOH5A9ihcf64ufkAzMzMDTSJ+QK5H4UqdGH5AUrgehS8OfkAAAABwowt+QClcj/L0Cn5AhetROKsKfkAAAACAHRB+QM3MzAxGFX5Aw/UorPEYfkB7FK5nGRh+QAAAAKDvFX5A9ihcD08PfkAfhetR/Ah+QClcjyIfBH5AmpmZCRv8fUCuR+F6WPR9QMP1KPzt831A7FG47g34fUApXI/yY/59QOF6FD6bAX5Aw/UoLIcCfkCF61EooAt+QB+F68GoFH5AuB6Fq60ifkC4HoULJC5+QLgehct/Sn5AhetRSL9nfkAAAABwX4F+QHE9Cldbl35AKVyPUpapfkDsUbh++7h+QHE9CicxvH5AexSuR3K/fkApXI+yLsJ+QM3MzBzrxn5ACtejMCrLfkD2KFwfY8Z+QHE9Che3wX5AhetRSL+/fkDNzMx8rrp+QClcjwJ4t35A",
          "dtype": "f8"
         },
         "yaxis": "y"
        },
        {
         "line": {
          "color": "red"
         },
         "name": "SMA_200",
         "type": "scatter",
         "x": [
          "2024-04-22T00:00:00.000000000",
          "2024-04-23T00:00:00.000000000",
          "2024-04-24T00:00:00.000000000",
          "2024-04-25T00:00:00.000000000",
          "2024-04-26T00:00:00.000000000",
          "2024-04-29T00:00:00.000000000",
          "2024-04-30T00:00:00.000000000",
          "2024-05-01T00:00:00.000000000",
          "2024-05-02T00:00:00.000000000",
          "2024-05-03T00:00:00.000000000",
          "2024-05-06T00:00:00.000000000",
          "2024-05-07T00:00:00.000000000",
          "2024-05-08T00:00:00.000000000",
          "2024-05-09T00:00:00.000000000",
          "2024-05-10T00:00:00.000000000",
          "2024-05-13T00:00:00.000000000",
          "2024-05-14T00:00:00.000000000",
          "2024-05-15T00:00:00.000000000",
          "2024-05-16T00:00:00.000000000",
          "2024-05-17T00:00:00.000000000",
          "2024-05-20T00:00:00.000000000",
          "2024-05-21T00:00:00.000000000",
          "2024-05-22T00:00:00.000000000",
          "2024-05-23T00:00:00.000000000",
          "2024-05-24T00:00:00.000000000",
          "2024-05-28T00:00:00.000000000",
          "2024-05-29T00:00:00.000000000",
          "2024-05-30T00:00:00.000000000",
          "2024-05-31T00:00:00.000000000",
          "2024-06-03T00:00:00.000000000",
          "2024-06-04T00:00:00.000000000",
          "2024-06-05T00:00:00.000000000",
          "2024-06-06T00:00:00.000000000",
          "2024-06-07T00:00:00.000000000",
          "2024-06-10T00:00:00.000000000",
          "2024-06-11T00:00:00.000000000",
          "2024-06-12T00:00:00.000000000",
          "2024-06-13T00:00:00.000000000",
          "2024-06-14T00:00:00.000000000",
          "2024-06-17T00:00:00.000000000",
          "2024-06-18T00:00:00.000000000",
          "2024-06-20T00:00:00.000000000",
          "2024-06-21T00:00:00.000000000",
          "2024-06-24T00:00:00.000000000",
          "2024-06-25T00:00:00.000000000",
          "2024-06-26T00:00:00.000000000",
          "2024-06-27T00:00:00.000000000",
          "2024-06-28T00:00:00.000000000",
          "2024-07-01T00:00:00.000000000",
          "2024-07-02T00:00:00.000000000",
          "2024-07-03T00:00:00.000000000",
          "2024-07-05T00:00:00.000000000",
          "2024-07-08T00:00:00.000000000",
          "2024-07-09T00:00:00.000000000",
          "2024-07-10T00:00:00.000000000",
          "2024-07-11T00:00:00.000000000",
          "2024-07-12T00:00:00.000000000",
          "2024-07-15T00:00:00.000000000",
          "2024-07-16T00:00:00.000000000",
          "2024-07-17T00:00:00.000000000",
          "2024-07-18T00:00:00.000000000",
          "2024-07-19T00:00:00.000000000",
          "2024-07-22T00:00:00.000000000",
          "2024-07-23T00:00:00.000000000",
          "2024-07-24T00:00:00.000000000",
          "2024-07-25T00:00:00.000000000",
          "2024-07-26T00:00:00.000000000",
          "2024-07-29T00:00:00.000000000",
          "2024-07-30T00:00:00.000000000"
         ],
         "xaxis": "x",
         "y": {
          "bdata": "XI/CtZUZd0AK16PIByp3QK5H4X77OXdAKVyP+m1Fd0BmZmZGJVB3QOF6FLKuWXdAuB6F62Jjd0AK16MIrG13QDMzM9sKeHdACtejHOuCd0CPwvWg+I93QFK4Hr3jnXdA4XoUal6sd0AUrkdF2Lp3QOF6FCIOyXdAhetRKI/Vd0AK16PQROF3QLgehdNN7ndAH4XreVj6d0A9Ctcf9AZ4QOF6FNZnE3hAFK5HtbcfeECamZmx0Ct4QMP1KAAROHhArkfhPuhFeEA9Ctdz11N4QB+F68GoYXhAuB6FK4dueEDXo3Dpt3t4QI/C9dhfinhAmpmZ9bmZeEAAAADUq6p4QJqZmeH6unhA9ihcp2jLeEAfhevdE9x4QGZmZja87XhAMzMzN5r/eEAK16OotRB5QBSuRwU0IXlAexSuJyAyeUAfhevhaUJ5QOF6FNbWUnlAPQrX22hieUAK16OIY3J5QMP1KNxXg3lAUrgexY+UeUB7FK6HhaV5QNejcPW5tXlAUrgeLbLFeUAfheu1hNV5QHsUrldK5nlAmpmZeUf5eUDXo3AdOAt6QB+F60WlHXpASOF6LMMwekAK16Mc2kF6QArXo/ixUXpACtejoHhhekA9CtfP1XB6QMP1KER6fXpAexSuX4eLekAAAABcIJl6QPYoXA8LqHpAMzMzJ7G2ekCPwvXcNcN6QJqZmbE/znpAexSuNwnaekDNzMysi+V6QNejcA1g8HpA",
          "dtype": "f8"
         },
         "yaxis": "y"
        },
        {
         "marker": {
          "color": "rgba(0,0,255,0.3)"
         },
         "name": "Volume",
         "type": "bar",
         "x": [
          "2024-04-22T00:00:00.000000000",
          "2024-04-23T00:00:00.000000000",
          "2024-04-24T00:00:00.000000000",
          "2024-04-25T00:00:00.000000000",
          "2024-04-26T00:00:00.000000000",
          "2024-04-29T00:00:00.000000000",
          "2024-04-30T00:00:00.000000000",
          "2024-05-01T00:00:00.000000000",
          "2024-05-02T00:00:00.000000000",
          "2024-05-03T00:00:00.000000000",
          "2024-05-06T00:00:00.000000000",
          "2024-05-07T00:00:00.000000000",
          "2024-05-08T00:00:00.000000000",
          "2024-05-09T00:00:00.000000000",
          "2024-05-10T00:00:00.000000000",
          "2024-05-13T00:00:00.000000000",
          "2024-05-14T00:00:00.000000000",
          "2024-05-15T00:00:00.000000000",
          "2024-05-16T00:00:00.000000000",
          "2024-05-17T00:00:00.000000000",
          "2024-05-20T00:00:00.000000000",
          "2024-05-21T00:00:00.000000000",
          "2024-05-22T00:00:00.000000000",
          "2024-05-23T00:00:00.000000000",
          "2024-05-24T00:00:00.000000000",
          "2024-05-28T00:00:00.000000000",
          "2024-05-29T00:00:00.000000000",
          "2024-05-30T00:00:00.000000000",
          "2024-05-31T00:00:00.000000000",
          "2024-06-03T00:00:00.000000000",
          "2024-06-04T00:00:00.000000000",
          "2024-06-05T00:00:00.000000000",
          "2024-06-06T00:00:00.000000000",
          "2024-06-07T00:00:00.000000000",
          "2024-06-10T00:00:00.000000000",
          "2024-06-11T00:00:00.000000000",
          "2024-06-12T00:00:00.000000000",
          "2024-06-13T00:00:00.000000000",
          "2024-06-14T00:00:00.000000000",
          "2024-06-17T00:00:00.000000000",
          "2024-06-18T00:00:00.000000000",
          "2024-06-20T00:00:00.000000000",
          "2024-06-21T00:00:00.000000000",
          "2024-06-24T00:00:00.000000000",
          "2024-06-25T00:00:00.000000000",
          "2024-06-26T00:00:00.000000000",
          "2024-06-27T00:00:00.000000000",
          "2024-06-28T00:00:00.000000000",
          "2024-07-01T00:00:00.000000000",
          "2024-07-02T00:00:00.000000000",
          "2024-07-03T00:00:00.000000000",
          "2024-07-05T00:00:00.000000000",
          "2024-07-08T00:00:00.000000000",
          "2024-07-09T00:00:00.000000000",
          "2024-07-10T00:00:00.000000000",
          "2024-07-11T00:00:00.000000000",
          "2024-07-12T00:00:00.000000000",
          "2024-07-15T00:00:00.000000000",
          "2024-07-16T00:00:00.000000000",
          "2024-07-17T00:00:00.000000000",
          "2024-07-18T00:00:00.000000000",
          "2024-07-19T00:00:00.000000000",
          "2024-07-22T00:00:00.000000000",
          "2024-07-23T00:00:00.000000000",
          "2024-07-24T00:00:00.000000000",
          "2024-07-25T00:00:00.000000000",
          "2024-07-26T00:00:00.000000000",
          "2024-07-29T00:00:00.000000000",
          "2024-07-30T00:00:00.000000000"
         ],
         "xaxis": "x2",
         "y": {
          "bdata": "PIkHASAX5gCcXUACzM/wBMjU8gGIGkgBPDYZAURwNgE0QugAjJr7AEhT5gBQkswAPEiyAAQCkAAwCKQAANTfAAjknwDU5ccAyGv9AATopABMN7MA+CuzAIjJmQA8QrMADEu3ADhFmwDYx4wAYM6jAPgsAgEoHKwAPCpsAARr7wAkxaIAXCOPACR2qwDkm5MAYNm2ACjllwDkTJwAKOqrADBJxwBwErQATPJgATRhzgDox7gAfIiHAPBvmgD87fEAiJidAGwYdgBgo1sAdNZFAXyf4wAwkIUAhJenADwi+wBkXi0BQFW/AJjH1gA4aqwBgP4lAVgp5wA8dbcAjEeQACRQDQH0UxYBQATZAFAHrQDAza0A",
          "dtype": "i4"
         },
         "yaxis": "y2"
        },
        {
         "line": {
          "color": "purple"
         },
         "name": "VWAP",
         "type": "scatter",
         "x": [
          "2024-04-22T00:00:00.000000000",
          "2024-04-23T00:00:00.000000000",
          "2024-04-24T00:00:00.000000000",
          "2024-04-25T00:00:00.000000000",
          "2024-04-26T00:00:00.000000000",
          "2024-04-29T00:00:00.000000000",
          "2024-04-30T00:00:00.000000000",
          "2024-05-01T00:00:00.000000000",
          "2024-05-02T00:00:00.000000000",
          "2024-05-03T00:00:00.000000000",
          "2024-05-06T00:00:00.000000000",
          "2024-05-07T00:00:00.000000000",
          "2024-05-08T00:00:00.000000000",
          "2024-05-09T00:00:00.000000000",
          "2024-05-10T00:00:00.000000000",
          "2024-05-13T00:00:00.000000000",
          "2024-05-14T00:00:00.000000000",
          "2024-05-15T00:00:00.000000000",
          "2024-05-16T00:00:00.000000000",
          "2024-05-17T00:00:00.000000000",
          "2024-05-20T00:00:00.000000000",
          "2024-05-21T00:00:00.000000000",
          "2024-05-22T00:00:00.000000000",
          "2024-05-23T00:00:00.000000000",
          "2024-05-24T00:00:00.000000000",
          "2024-05-28T00:00:00.000000000",
          "2024-05-29T00:00:00.000000000",
          "2024-05-30T00:00:00.000000000",
          "2024-05-31T00:00:00.000000000",
          "2024-06-03T00:00:00.000000000",
          "2024-06-04T00:00:00.000000000",
          "2024-06-05T00:00:00.000000000",
          "2024-06-06T00:00:00.000000000",
          "2024-06-07T00:00:00.000000000",
          "2024-06-10T00:00:00.000000000",
          "2024-06-11T00:00:00.000000000",
          "2024-06-12T00:00:00.000000000",
          "2024-06-13T00:00:00.000000000",
          "2024-06-14T00:00:00.000000000",
          "2024-06-17T00:00:00.000000000",
          "2024-06-18T00:00:00.000000000",
          "2024-06-20T00:00:00.000000000",
          "2024-06-21T00:00:00.000000000",
          "2024-06-24T00:00:00.000000000",
          "2024-06-25T00:00:00.000000000",
          "2024-06-26T00:00:00.000000000",
          "2024-06-27T00:00:00.000000000",
          "2024-06-28T00:00:00.000000000",
          "2024-07-01T00:00:00.000000000",
          "2024-07-02T00:00:00.000000000",
          "2024-07-03T00:00:00.000000000",
          "2024-07-05T00:00:00.000000000",
          "2024-07-08T00:00:00.000000000",
          "2024-07-09T00:00:00.000000000",
          "2024-07-10T00:00:00.000000000",
          "2024-07-11T00:00:00.000000000",
          "2024-07-12T00:00:00.000000000",
          "2024-07-15T00:00:00.000000000",
          "2024-07-16T00:00:00.000000000",
          "2024-07-17T00:00:00.000000000",
          "2024-07-18T00:00:00.000000000",
          "2024-07-19T00:00:00.000000000",
          "2024-07-22T00:00:00.000000000",
          "2024-07-23T00:00:00.000000000",
          "2024-07-24T00:00:00.000000000",
          "2024-07-25T00:00:00.000000000",
          "2024-07-26T00:00:00.000000000",
          "2024-07-29T00:00:00.000000000",
          "2024-07-30T00:00:00.000000000"
         ],
         "xaxis": "x2",
         "y": {
          "bdata": "Bm9UOnSwf0DpQTse1aR/QBm83ZRIdH9Arq+4+HwcfkBXjBqgPbl9QEPy70YhdX1A3TmLxxI5fUA9OuksIgJ9QGTfFyn603xAryEvASqvfEA0h9sOG558QBd+IzDzjnxAbr/M0Yd1fEA3fWCjaVd8QGv7dS6/SXxA+aO3nXE1fEDDnikO6+J7QLxU1Jc4SnxAzJzvOs+EfEDADO/VcLl8QEipn+x67HxAw3u7s9UafUD8v+oUZUJ9QC6lIGBWXX1AM1mza6JufUBYmaHjNXt9QGPFeBmXgH1ASNp55UB7fUBiPV1vYmt9QK+zfhjec31AANcWHpl6fUCsUYKPqJB9QAgamY10pn1AyOKUJ7G8fUBW2NXp/d59QLNsE37aB35AInAVD082fkCiD/Hgx19+QNfbvTHkgH5Aw3VgcuedfkC5hNX/ULh+QKx4LKaK3H5AfBYEHbYUf0BdGWhkVzB/QDTnBYF4Rn9AZdPvvO1bf0Cvf43BlXJ/QEkMQ0qJhH9AnTKDBsiGf0B2oue/Qoh/QOBRPIiShX9AM0T1jIq4f0BtB7M9ZN1/QJiHfgc99H9AuHNzQBgMgECTDRyfshaAQKD9TjiYHIBAVXsKEV4cgECfQ12vnROAQCm4HMFHvX9AXFKsCOWAf0C9UDP+4Fx/QPwbaoQeUH9AA3pzTkpFf0CMu5ukjxV/QPWPXpy0pX5AJeLtESJcfkBGW7oTKDB+QAkpXp/G931A",
          "dtype": "f8"
         },
         "yaxis": "y2"
        },
        {
         "line": {
          "color": "blue"
         },
         "name": "RSI",
         "type": "scatter",
         "x": [
          "2024-04-22T00:00:00.000000000",
          "2024-04-23T00:00:00.000000000",
          "2024-04-24T00:00:00.000000000",
          "2024-04-25T00:00:00.000000000",
          "2024-04-26T00:00:00.000000000",
          "2024-04-29T00:00:00.000000000",
          "2024-04-30T00:00:00.000000000",
          "2024-05-01T00:00:00.000000000",
          "2024-05-02T00:00:00.000000000",
          "2024-05-03T00:00:00.000000000",
          "2024-05-06T00:00:00.000000000",
          "2024-05-07T00:00:00.000000000",
          "2024-05-08T00:00:00.000000000",
          "2024-05-09T00:00:00.000000000",
          "2024-05-10T00:00:00.000000000",
          "2024-05-13T00:00:00.000000000",
          "2024-05-14T00:00:00.000000000",
          "2024-05-15T00:00:00.000000000",
          "2024-05-16T00:00:00.000000000",
          "2024-05-17T00:00:00.000000000",
          "2024-05-20T00:00:00.000000000",
          "2024-05-21T00:00:00.000000000",
          "2024-05-22T00:00:00.000000000",
          "2024-05-23T00:00:00.000000000",
          "2024-05-24T00:00:00.000000000",
          "2024-05-28T00:00:00.000000000",
          "2024-05-29T00:00:00.000000000",
          "2024-05-30T00:00:00.000000000",
          "2024-05-31T00:00:00.000000000",
          "2024-06-03T00:00:00.000000000",
          "2024-06-04T00:00:00.000000000",
          "2024-06-05T00:00:00.000000000",
          "2024-06-06T00:00:00.000000000",
          "2024-06-07T00:00:00.000000000",
          "2024-06-10T00:00:00.000000000",
          "2024-06-11T00:00:00.000000000",
          "2024-06-12T00:00:00.000000000",
          "2024-06-13T00:00:00.000000000",
          "2024-06-14T00:00:00.000000000",
          "2024-06-17T00:00:00.000000000",
          "2024-06-18T00:00:00.000000000",
          "2024-06-20T00:00:00.000000000",
          "2024-06-21T00:00:00.000000000",
          "2024-06-24T00:00:00.000000000",
          "2024-06-25T00:00:00.000000000",
          "2024-06-26T00:00:00.000000000",
          "2024-06-27T00:00:00.000000000",
          "2024-06-28T00:00:00.000000000",
          "2024-07-01T00:00:00.000000000",
          "2024-07-02T00:00:00.000000000",
          "2024-07-03T00:00:00.000000000",
          "2024-07-05T00:00:00.000000000",
          "2024-07-08T00:00:00.000000000",
          "2024-07-09T00:00:00.000000000",
          "2024-07-10T00:00:00.000000000",
          "2024-07-11T00:00:00.000000000",
          "2024-07-12T00:00:00.000000000",
          "2024-07-15T00:00:00.000000000",
          "2024-07-16T00:00:00.000000000",
          "2024-07-17T00:00:00.000000000",
          "2024-07-18T00:00:00.000000000",
          "2024-07-19T00:00:00.000000000",
          "2024-07-22T00:00:00.000000000",
          "2024-07-23T00:00:00.000000000",
          "2024-07-24T00:00:00.000000000",
          "2024-07-25T00:00:00.000000000",
          "2024-07-26T00:00:00.000000000",
          "2024-07-29T00:00:00.000000000",
          "2024-07-30T00:00:00.000000000"
         ],
         "xaxis": "x3",
         "y": {
          "bdata": "ujwKRFC5REAUN+eDFJJIQKszuPwO9UdAaBLHYKQiP0DApw1yewlAQMBD0QCdpD1AaBoLZgAZPUDaomitfvVAQBa3zAQQnUFAFMzGeTY8REAMAf3vXVZHQA8pT7Nh4kdAb+nxzMzUSEBUnL3khXNJQJn8bSpNoUlAqw7btfqtR0DRfSreT6dIQFySU38x+EpAuFiQkOneSEA1H/i5RItIQAHZp5obw0dA3mNNZMixRkCTIHUpBaZHQASKP87CGEdAMjAdzLS7SkCYngTi4S9LQElelD97cElAZVdR7C9RR0A/6QNLF0FHQAajRrOtjUpACd3n4JVjSkA0pVeiaflOQG+5yGrgg05AlAcPsuE3TkCYu+OGwTdQQNIoDhf6uFBAYmEZQz7dUECKFOM/4bRPQJn1Wh60uE9AiGCuERYuUEBOfwzSnC9NQKWg/rNP2E1AyIukRU/3SkBuoq9yjk9MQGzB8dtelk9AWltteAobUEBlarkQQt1QQGEBygxqrEtAmeZY0VvNS0ARQfZ5ZyhNQAriN0KvSU1AgXhgwYjLUUBOo5rDBeVPQFRoaF4IA1BAPPxEHr92UEDHzzN1d0JKQLBT21yjF0dAV/B3K+iERkBvEueEGzBFQKQ0Lue9lEBAK1K2vhUTREA+ei9pIk1EQM05ZU5YzkZAPvcN8mEaR0BP6sN/bXtCQI5XlQ9HaEFATFUu/XVQREAuH5W1DVFEQLm2ay8K5UNA",
          "dtype": "f8"
         },
         "yaxis": "y3"
        },
        {
         "line": {
          "color": "green"
         },
         "name": "Stochastic %K",
         "type": "scatter",
         "x": [
          "2024-04-22T00:00:00.000000000",
          "2024-04-23T00:00:00.000000000",
          "2024-04-24T00:00:00.000000000",
          "2024-04-25T00:00:00.000000000",
          "2024-04-26T00:00:00.000000000",
          "2024-04-29T00:00:00.000000000",
          "2024-04-30T00:00:00.000000000",
          "2024-05-01T00:00:00.000000000",
          "2024-05-02T00:00:00.000000000",
          "2024-05-03T00:00:00.000000000",
          "2024-05-06T00:00:00.000000000",
          "2024-05-07T00:00:00.000000000",
          "2024-05-08T00:00:00.000000000",
          "2024-05-09T00:00:00.000000000",
          "2024-05-10T00:00:00.000000000",
          "2024-05-13T00:00:00.000000000",
          "2024-05-14T00:00:00.000000000",
          "2024-05-15T00:00:00.000000000",
          "2024-05-16T00:00:00.000000000",
          "2024-05-17T00:00:00.000000000",
          "2024-05-20T00:00:00.000000000",
          "2024-05-21T00:00:00.000000000",
          "2024-05-22T00:00:00.000000000",
          "2024-05-23T00:00:00.000000000",
          "2024-05-24T00:00:00.000000000",
          "2024-05-28T00:00:00.000000000",
          "2024-05-29T00:00:00.000000000",
          "2024-05-30T00:00:00.000000000",
          "2024-05-31T00:00:00.000000000",
          "2024-06-03T00:00:00.000000000",
          "2024-06-04T00:00:00.000000000",
          "2024-06-05T00:00:00.000000000",
          "2024-06-06T00:00:00.000000000",
          "2024-06-07T00:00:00.000000000",
          "2024-06-10T00:00:00.000000000",
          "2024-06-11T00:00:00.000000000",
          "2024-06-12T00:00:00.000000000",
          "2024-06-13T00:00:00.000000000",
          "2024-06-14T00:00:00.000000000",
          "2024-06-17T00:00:00.000000000",
          "2024-06-18T00:00:00.000000000",
          "2024-06-20T00:00:00.000000000",
          "2024-06-21T00:00:00.000000000",
          "2024-06-24T00:00:00.000000000",
          "2024-06-25T00:00:00.000000000",
          "2024-06-26T00:00:00.000000000",
          "2024-06-27T00:00:00.000000000",
          "2024-06-28T00:00:00.000000000",
          "2024-07-01T00:00:00.000000000",
          "2024-07-02T00:00:00.000000000",
          "2024-07-03T00:00:00.000000000",
          "2024-07-05T00:00:00.000000000",
          "2024-07-08T00:00:00.000000000",
          "2024-07-09T00:00:00.000000000",
          "2024-07-10T00:00:00.000000000",
          "2024-07-11T00:00:00.000000000",
          "2024-07-12T00:00:00.000000000",
          "2024-07-15T00:00:00.000000000",
          "2024-07-16T00:00:00.000000000",
          "2024-07-17T00:00:00.000000000",
          "2024-07-18T00:00:00.000000000",
          "2024-07-19T00:00:00.000000000",
          "2024-07-22T00:00:00.000000000",
          "2024-07-23T00:00:00.000000000",
          "2024-07-24T00:00:00.000000000",
          "2024-07-25T00:00:00.000000000",
          "2024-07-26T00:00:00.000000000",
          "2024-07-29T00:00:00.000000000",
          "2024-07-30T00:00:00.000000000"
         ],
         "xaxis": "x3",
         "y": {
          "bdata": "rsGCiQCuLEDM58mI5YlDQNVcP7r9TEFALiwTsPD5NkDYbWV9zNk5QNgEjlKykTBAqt7WP12oLEBVV6KsW1w3QB4rsUmHIDpAro1tAkErQ0Dd0eqBkjBKQDb0zX/uf0tAL2PK1zlrTkBGNGcNMuVPQN0imrPeJlBABQRDsgUETEBJkiRJCMJWQJ1wcRYUkVhAEUEa2+fQVECND4jpYjhUQH0VQSCq1VJAxGV7NakaUECneAfqEfVOQPl6mKKhVEVAodfbGzw6VEDUcLzchB9WQBWQsRe32E9ATC0c4poWP0ADmjhOyQ5GQACCFCV9iFRADIhHv10WVECaPklUzg5YQBA8GUf+UFRAsThpRh7nU0ChzUuH4uJYQEtYmbhX8FhAgBn4Y13UVkBoDPoC8tZUQLPojLlk3VRAEAr84dnmVUBNhUOefudSQL2XMfcC1VNA/QXwSSf+TEDHKJ9ya3xPQEkTsRTzKlZAl88a4hERWECnhdY+aXZWQNrssXdYZkNAzLIvXXQnRECV7jb+8A5MQG60tOMM0ExA2F8UrkOBWECOhZAOqk9SQGx0Z3T6pVJAsJK+VEz5VEAIO2zhDCREQCbBttsc9yZA55nNMekXGEBecEMfcg8cQEVL+4U9bwtAr5+WW479M0DCgxsbGB01QL1IvKBL5UBAKG/VpZiqQUB76chzTo0EQLL7/gNTfCVA19IcyvrzN0BLEEJpovY3QASwe9aYITZA",
          "dtype": "f8"
         },
         "yaxis": "y3"
        },
        {
         "line": {
          "color": "red"
         },
         "name": "Stochastic %D",
         "type": "scatter",
         "x": [
          "2024-04-22T00:00:00.000000000",
          "2024-04-23T00:00:00.000000000",
          "2024-04-24T00:00:00.000000000",
          "2024-04-25T00:00:00.000000000",
          "2024-04-26T00:00:00.000000000",
          "2024-04-29T00:00:00.000000000",
          "2024-04-30T00:00:00.000000000",
          "2024-05-01T00:00:00.000000000",
          "2024-05-02T00:00:00.000000000",
          "2024-05-03T00:00:00.000000000",
          "2024-05-06T00:00:00.000000000",
          "2024-05-07T00:00:00.000000000",
          "2024-05-08T00:00:00.000000000",
          "2024-05-09T00:00:00.000000000",
          "2024-05-10T00:00:00.000000000",
          "2024-05-13T00:00:00.000000000",
          "2024-05-14T00:00:00.000000000",
          "2024-05-15T00:00:00.000000000",
          "2024-05-16T00:00:00.000000000",
          "2024-05-17T00:00:00.000000000",
          "2024-05-20T00:00:00.000000000",
          "2024-05-21T00:00:00.000000000",
          "2024-05-22T00:00:00.000000000",
          "2024-05-23T00:00:00.000000000",
          "2024-05-24T00:00:00.000000000",
          "2024-05-28T00:00:00.000000000",
          "2024-05-29T00:00:00.000000000",
          "2024-05-30T00:00:00.000000000",
          "2024-05-31T00:00:00.000000000",
          "2024-06-03T00:00:00.000000000",
          "2024-06-04T00:00:00.000000000",
          "2024-06-05T00:00:00.000000000",
          "2024-06-06T00:00:00.000000000",
          "2024-06-07T00:00:00.000000000",
          "2024-06-10T00:00:00.000000000",
          "2024-06-11T00:00:00.000000000",
          "2024-06-12T00:00:00.000000000",
          "2024-06-13T00:00:00.000000000",
          "2024-06-14T00:00:00.000000000",
          "2024-06-17T00:00:00.000000000",
          "2024-06-18T00:00:00.000000000",
          "2024-06-20T00:00:00.000000000",
          "2024-06-21T00:00:00.000000000",
          "2024-06-24T00:00:00.000000000",
          "2024-06-25T00:00:00.000000000",
          "2024-06-26T00:00:00.000000000",
          "2024-06-27T00:00:00.000000000",
          "2024-06-28T00:00:00.000000000",
          "2024-07-01T00:00:00.000000000",
          "2024-07-02T00:00:00.000000000",
          "2024-07-03T00:00:00.000000000",
          "2024-07-05T00:00:00.000000000",
          "2024-07-08T00:00:00.000000000",
          "2024-07-09T00:00:00.000000000",
          "2024-07-10T00:00:00.000000000",
          "2024-07-11T00:00:00.000000000",
          "2024-07-12T00:00:00.000000000",
          "2024-07-15T00:00:00.000000000",
          "2024-07-16T00:00:00.000000000",
          "2024-07-17T00:00:00.000000000",
          "2024-07-18T00:00:00.000000000",
          "2024-07-19T00:00:00.000000000",
          "2024-07-22T00:00:00.000000000",
          "2024-07-23T00:00:00.000000000",
          "2024-07-24T00:00:00.000000000",
          "2024-07-25T00:00:00.000000000",
          "2024-07-26T00:00:00.000000000",
          "2024-07-29T00:00:00.000000000",
          "2024-07-30T00:00:00.000000000"
         ],
         "xaxis": "x3",
         "y": {
          "bdata": "/0Zwv49lNUCBDowse/80QGOjRu7sVj1AQJ5b3vMbQEBAcVKLPc87QPs0AoB6zDVAXEtKJY/qMkDbQwk1FBYyQJ1QaoewRTVAS99k/nZGPUBg/LoNXXlDQJjGDKxASUhAww2BSD4JTEDng6ohHvBNQGj0IcQNik9ABCpKYvy8TkAPvUpHo6NRQPnW5xK1cVRAqBaQE6y2VkAV61ueH95VQLXMS0z89FNARi5saudiUkCIEkBuSc5QQBCVh1JXKkxA+ODHlg7qTkBR1/btBaxRQCywJSy0bFNAeS1oa6+LTkDtav2cRCZHQOXmz60FOUpAsMfSg2o3UUA5GDdoOI9VQD9W48i4fFVAIJHu9fhsVUDMwERcqrNVQIsfGoIdPldAJRWfNt03WEC91IMKjd5WQIuvf7XmglVAu/+A37ozVUBcfZlolI5UQAkNe9JzNlRAWbV5E4e+UUBhun0cxLBQQJDjUiYUeFFAbdKzOr6oVEAveIu8JOZWQOXDmMk3vlJAVI4vxt8oTEAX2rKblIlGQEjHs7/QrElAymUDNZalUUDhv38P/BJTQEdzWRD4fFRAj9k8naVPU0CMYUkTb5BQQJMFnUAknEZAD7+3KTZDM0B4FxUs7lggQA2Qrwb+9BVAf0NvDTdKJEDxXfbEXrAtQP/muJIU9zhAiaa/4koUPkADLzTJ0OU3QHgoYYkBNzBAoJ5jvN7XKEBZIMqRl40zQBMxnlhnWTdA",
          "dtype": "f8"
         },
         "yaxis": "y3"
        },
        {
         "line": {
          "color": "blue"
         },
         "name": "MACD",
         "type": "scatter",
         "x": [
          "2024-04-22T00:00:00.000000000",
          "2024-04-23T00:00:00.000000000",
          "2024-04-24T00:00:00.000000000",
          "2024-04-25T00:00:00.000000000",
          "2024-04-26T00:00:00.000000000",
          "2024-04-29T00:00:00.000000000",
          "2024-04-30T00:00:00.000000000",
          "2024-05-01T00:00:00.000000000",
          "2024-05-02T00:00:00.000000000",
          "2024-05-03T00:00:00.000000000",
          "2024-05-06T00:00:00.000000000",
          "2024-05-07T00:00:00.000000000",
          "2024-05-08T00:00:00.000000000",
          "2024-05-09T00:00:00.000000000",
          "2024-05-10T00:00:00.000000000",
          "2024-05-13T00:00:00.000000000",
          "2024-05-14T00:00:00.000000000",
          "2024-05-15T00:00:00.000000000",
          "2024-05-16T00:00:00.000000000",
          "2024-05-17T00:00:00.000000000",
          "2024-05-20T00:00:00.000000000",
          "2024-05-21T00:00:00.000000000",
          "2024-05-22T00:00:00.000000000",
          "2024-05-23T00:00:00.000000000",
          "2024-05-24T00:00:00.000000000",
          "2024-05-28T00:00:00.000000000",
          "2024-05-29T00:00:00.000000000",
          "2024-05-30T00:00:00.000000000",
          "2024-05-31T00:00:00.000000000",
          "2024-06-03T00:00:00.000000000",
          "2024-06-04T00:00:00.000000000",
          "2024-06-05T00:00:00.000000000",
          "2024-06-06T00:00:00.000000000",
          "2024-06-07T00:00:00.000000000",
          "2024-06-10T00:00:00.000000000",
          "2024-06-11T00:00:00.000000000",
          "2024-06-12T00:00:00.000000000",
          "2024-06-13T00:00:00.000000000",
          "2024-06-14T00:00:00.000000000",
          "2024-06-17T00:00:00.000000000",
          "2024-06-18T00:00:00.000000000",
          "2024-06-20T00:00:00.000000000",
          "2024-06-21T00:00:00.000000000",
          "2024-06-24T00:00:00.000000000",
          "2024-06-25T00:00:00.000000000",
          "2024-06-26T00:00:00.000000000",
          "2024-06-27T00:00:00.000000000",
          "2024-06-28T00:00:00.000000000",
          "2024-07-01T00:00:00.000000000",
          "2024-07-02T00:00:00.000000000",
          "2024-07-03T00:00:00.000000000",
          "2024-07-05T00:00:00.000000000",
          "2024-07-08T00:00:00.000000000",
          "2024-07-09T00:00:00.000000000",
          "2024-07-10T00:00:00.000000000",
          "2024-07-11T00:00:00.000000000",
          "2024-07-12T00:00:00.000000000",
          "2024-07-15T00:00:00.000000000",
          "2024-07-16T00:00:00.000000000",
          "2024-07-17T00:00:00.000000000",
          "2024-07-18T00:00:00.000000000",
          "2024-07-19T00:00:00.000000000",
          "2024-07-22T00:00:00.000000000",
          "2024-07-23T00:00:00.000000000",
          "2024-07-24T00:00:00.000000000",
          "2024-07-25T00:00:00.000000000",
          "2024-07-26T00:00:00.000000000",
          "2024-07-29T00:00:00.000000000",
          "2024-07-30T00:00:00.000000000"
         ],
         "xaxis": "x4",
         "y": {
          "bdata": "AEzRWDhv1D8AQPR6b6q2PwDU7k4cPtO/QJufGiEKE8BArHuYDRggwKA7L/F6wybAwI77Bd0eLMCgl1hG3Y4uwED6sbbnuC/A4GmOcP+hLsDAu6w0vj0rwIChiWp03SfAYClg35pAJMCgreLNvr0gwAAmqfefWRvAwGwcX+XYGMCAa9c7vGAVwADD77XxpQ7AgFQZR8IdCsAAJ5mjPhwHwIA/cPx7cwbAAK967ZBdCMCAxc5I05MHwIAE7Hi69wfAgBrQxrYPAMAA/25ItTLxvwAwViGgz+i/AIV+3eTW8b8Ah/3anCz2vwDs2qJ7bOe/ANCo4QcU0L8AiDBc4B35PwAsvFbY/wZAgKB6DzRoDkDAEZEvFQIVQIAwx2/W3hpAQI4BZSmYH0CA7L25IrYgQGC6QW81PyFAQLSpXivdIUBA60qqMAEhQMCUcUp/fSBAALD4MiaXHUAAqLDKQOobQADiQ4WzAx5AAFV/R4gPIEBg9SZS/7ohQKCqyqmkYyBAALq9DzdzHkCAkNdyGtEdQEDIIE6uIB1AwOCJQv/nIkDA1F9vRGckQKAyq4rMcyVAwI1fWyjHJkDAbBLtcAwkQMAnWURS8x5AgGdl0BmRFkAAEB7U0WoLQACSBMM6EeK/gCBa6smjBMCAkEZ95DcQwIAANkjuRBHAwAD5VfV7EcDAWb406TMawGBT0RkanyHAoG1bN1MAI8BAYt+uOd0jwGBwEMtEtyTA",
          "dtype": "f8"
         },
         "yaxis": "y4"
        },
        {
         "line": {
          "color": "red"
         },
         "name": "Signal",
         "type": "scatter",
         "x": [
          "2024-04-22T00:00:00.000000000",
          "2024-04-23T00:00:00.000000000",
          "2024-04-24T00:00:00.000000000",
          "2024-04-25T00:00:00.000000000",
          "2024-04-26T00:00:00.000000000",
          "2024-04-29T00:00:00.000000000",
          "2024-04-30T00:00:00.000000000",
          "2024-05-01T00:00:00.000000000",
          "2024-05-02T00:00:00.000000000",
          "2024-05-03T00:00:00.000000000",
          "2024-05-06T00:00:00.000000000",
          "2024-05-07T00:00:00.000000000",
          "2024-05-08T00:00:00.000000000",
          "2024-05-09T00:00:00.000000000",
          "2024-05-10T00:00:00.000000000",
          "2024-05-13T00:00:00.000000000",
          "2024-05-14T00:00:00.000000000",
          "2024-05-15T00:00:00.000000000",
          "2024-05-16T00:00:00.000000000",
          "2024-05-17T00:00:00.000000000",
          "2024-05-20T00:00:00.000000000",
          "2024-05-21T00:00:00.000000000",
          "2024-05-22T00:00:00.000000000",
          "2024-05-23T00:00:00.000000000",
          "2024-05-24T00:00:00.000000000",
          "2024-05-28T00:00:00.000000000",
          "2024-05-29T00:00:00.000000000",
          "2024-05-30T00:00:00.000000000",
          "2024-05-31T00:00:00.000000000",
          "2024-06-03T00:00:00.000000000",
          "2024-06-04T00:00:00.000000000",
          "2024-06-05T00:00:00.000000000",
          "2024-06-06T00:00:00.000000000",
          "2024-06-07T00:00:00.000000000",
          "2024-06-10T00:00:00.000000000",
          "2024-06-11T00:00:00.000000000",
          "2024-06-12T00:00:00.000000000",
          "2024-06-13T00:00:00.000000000",
          "2024-06-14T00:00:00.000000000",
          "2024-06-17T00:00:00.000000000",
          "2024-06-18T00:00:00.000000000",
          "2024-06-20T00:00:00.000000000",
          "2024-06-21T00:00:00.000000000",
          "2024-06-24T00:00:00.000000000",
          "2024-06-25T00:00:00.000000000",
          "2024-06-26T00:00:00.000000000",
          "2024-06-27T00:00:00.000000000",
          "2024-06-28T00:00:00.000000000",
          "2024-07-01T00:00:00.000000000",
          "2024-07-02T00:00:00.000000000",
          "2024-07-03T00:00:00.000000000",
          "2024-07-05T00:00:00.000000000",
          "2024-07-08T00:00:00.000000000",
          "2024-07-09T00:00:00.000000000",
          "2024-07-10T00:00:00.000000000",
          "2024-07-11T00:00:00.000000000",
          "2024-07-12T00:00:00.000000000",
          "2024-07-15T00:00:00.000000000",
          "2024-07-16T00:00:00.000000000",
          "2024-07-17T00:00:00.000000000",
          "2024-07-18T00:00:00.000000000",
          "2024-07-19T00:00:00.000000000",
          "2024-07-22T00:00:00.000000000",
          "2024-07-23T00:00:00.000000000",
          "2024-07-24T00:00:00.000000000",
          "2024-07-25T00:00:00.000000000",
          "2024-07-26T00:00:00.000000000",
          "2024-07-29T00:00:00.000000000",
          "2024-07-30T00:00:00.000000000"
         ],
         "xaxis": "x4",
         "y": {
          "bdata": "xZrQzRV9FEBqcjxkM3YQQMPxzYSR2wlAnwb9iwEk+j9sbIep61nTv1iH5lFgJQTA1wj0735OE8DsdrN1JKsbwJ9hayBwaSHArMnYllkOJMB9YDaDOn4lwBgHR36s9yXA9A1MK9yfJcBKlNBL1qUkwKItngjVQCPAL/yawyfjIcB/VN4ImXIgwBmByAaNYR3AIVaJDNEdGsCblWMaRzQXwDyxJ3v4zhTAF2wSR1UVE8DSA71Z2Z8RwIID4lMNfxDAt9cs4TmbDcATxvvUpmcJwHa6DayAkAXAeKKXbBcJA8BH3MVsInIBwHLeuKR2Qf6/9VXcGywC+b+87Bluhvftv1wCLLHGS8a/IbO/tc7d4z/aVVoIysD4P/JoDTBApgRAD8Bx6EMoDUA6eHna9VgSQFVESNumkxVAXhjkbjBoGEDMpAfQ01MaQFe/Zvd1qBtARrxQA2YLHEAFhf33xAQcQGtk2K30ahxA8Avg2pMoHUBOBfbPQmseQEwVSeoQ5B5A18/G8X7NHkDGXP1xBJseQEVyBJ5ZTx5AHoIHmXrPH0D/xK+GC84gQB8O4u3+uyFA2Vouajq+IkChkfUdEgEjQEfFM4VjTCJAX1sAmTjlIECYYNBWPMYdQKHJ+WYoXhdApzcl7lihEECmhVKx/x4EQKQIjHvaYPI/oGMa9bbjpj8d0qr91WP0v4xjheDQQAbARe1Z1nSAEMAe5Tq+pyUVwKZKz087NBnA",
          "dtype": "f8"
         },
         "yaxis": "y4"
        },
        {
         "marker": {
          "color": "rgba(0,255,0,0.3)"
         },
         "name": "MACD Diff",
         "type": "bar",
         "x": [
          "2024-04-22T00:00:00.000000000",
          "2024-04-23T00:00:00.000000000",
          "2024-04-24T00:00:00.000000000",
          "2024-04-25T00:00:00.000000000",
          "2024-04-26T00:00:00.000000000",
          "2024-04-29T00:00:00.000000000",
          "2024-04-30T00:00:00.000000000",
          "2024-05-01T00:00:00.000000000",
          "2024-05-02T00:00:00.000000000",
          "2024-05-03T00:00:00.000000000",
          "2024-05-06T00:00:00.000000000",
          "2024-05-07T00:00:00.000000000",
          "2024-05-08T00:00:00.000000000",
          "2024-05-09T00:00:00.000000000",
          "2024-05-10T00:00:00.000000000",
          "2024-05-13T00:00:00.000000000",
          "2024-05-14T00:00:00.000000000",
          "2024-05-15T00:00:00.000000000",
          "2024-05-16T00:00:00.000000000",
          "2024-05-17T00:00:00.000000000",
          "2024-05-20T00:00:00.000000000",
          "2024-05-21T00:00:00.000000000",
          "2024-05-22T00:00:00.000000000",
          "2024-05-23T00:00:00.000000000",
          "2024-05-24T00:00:00.000000000",
          "2024-05-28T00:00:00.000000000",
          "2024-05-29T00:00:00.000000000",
          "2024-05-30T00:00:00.000000000",
          "2024-05-31T00:00:00.000000000",
          "2024-06-03T00:00:00.000000000",
          "2024-06-04T00:00:00.000000000",
          "2024-06-05T00:00:00.000000000",
          "2024-06-06T00:00:00.000000000",
          "2024-06-07T00:00:00.000000000",
          "2024-06-10T00:00:00.000000000",
          "2024-06-11T00:00:00.000000000",
          "2024-06-12T00:00:00.000000000",
          "2024-06-13T00:00:00.000000000",
          "2024-06-14T00:00:00.000000000",
          "2024-06-17T00:00:00.000000000",
          "2024-06-18T00:00:00.000000000",
          "2024-06-20T00:00:00.000000000",
          "2024-06-21T00:00:00.000000000",
          "2024-06-24T00:00:00.000000000",
          "2024-06-25T00:00:00.000000000",
          "2024-06-26T00:00:00.000000000",
          "2024-06-27T00:00:00.000000000",
          "2024-06-28T00:00:00.000000000",
          "2024-07-01T00:00:00.000000000",
          "2024-07-02T00:00:00.000000000",
          "2024-07-03T00:00:00.000000000",
          "2024-07-05T00:00:00.000000000",
          "2024-07-08T00:00:00.000000000",
          "2024-07-09T00:00:00.000000000",
          "2024-07-10T00:00:00.000000000",
          "2024-07-11T00:00:00.000000000",
          "2024-07-12T00:00:00.000000000",
          "2024-07-15T00:00:00.000000000",
          "2024-07-16T00:00:00.000000000",
          "2024-07-17T00:00:00.000000000",
          "2024-07-18T00:00:00.000000000",
          "2024-07-19T00:00:00.000000000",
          "2024-07-22T00:00:00.000000000",
          "2024-07-23T00:00:00.000000000",
          "2024-07-24T00:00:00.000000000",
          "2024-07-25T00:00:00.000000000",
          "2024-07-26T00:00:00.000000000",
          "2024-07-29T00:00:00.000000000",
          "2024-07-30T00:00:00.000000000"
         ],
         "xaxis": "x4",
         "y": {
          "bdata": "BYZDSCI2E8BqoVCmiRsQwEPMqw5VQwzA6NyefSGTGcC54V52fPoewMqZtdwiuiHAVIoBjp13IsAq3H4LS7kgwEIxjSzvnhzAaEBrs0snFcAMbdnFDv4GwICmKcR+XO6/QEm+vhT05T9QNW/vu0D/P4hqJjMUUAZAPBczUNTaBUD8esqr6wgHQDI/oVcoHQxAwlf50d8dCkA2BC6RT0wHQPgi3/l0KgNAXFJUQTOa+z9IhFbVvlf3PwgFsF3ADPI/bnq5NAYX+z+TRsQwTM4AQOxccEcxuf4/8L+w+0k79D8cYxz9T2/pP3JoS9M4i/I/9SFyIyr99D8vv57J0QwEQCbszsGUZAhAuLMKYsBwCUCT+PRaxaMNQAd8wFe2ixBAOK7IcAcEEUCMwQQynyYOQNZgdgaI1QlARKDenEykBkDQxjgSNrr+P6So8XUiSvU/oDt/+gK82D8ABd1MLYSav1DZt3bti9k/gPD0oOWz5z/IlV9R7yr0P0D/w5SGM94/wHVFgviRtr/AiLnkPz3Jv1CgOv606tK/iP0wsA8C+D8IfoBFx8n8PwgkSeZsvv0/nMvExLcjAEDwsc3x7LXgPziLORjTlfa/fJ42w65yBsCYWMFs0xAQwOFbWr9PoBnA50dS4z3zGsBT0+9VZEcawKkCGeck3RXAhzXjw7ypEcA5pVO18xoVwPr0X8PLHRjA++1cmDGAFcBi34Ofy5QSwBqWUUZOOhDA",
          "dtype": "f8"
         },
         "yaxis": "y4"
        },
        {
         "line": {
          "color": "gray",
          "dash": "dash"
         },
         "name": "BB Upper",
         "type": "scatter",
         "x": [
          "2024-04-22T00:00:00.000000000",
          "2024-04-23T00:00:00.000000000",
          "2024-04-24T00:00:00.000000000",
          "2024-04-25T00:00:00.000000000",
          "2024-04-26T00:00:00.000000000",
          "2024-04-29T00:00:00.000000000",
          "2024-04-30T00:00:00.000000000",
          "2024-05-01T00:00:00.000000000",
          "2024-05-02T00:00:00.000000000",
          "2024-05-03T00:00:00.000000000",
          "2024-05-06T00:00:00.000000000",
          "2024-05-07T00:00:00.000000000",
          "2024-05-08T00:00:00.000000000",
          "2024-05-09T00:00:00.000000000",
          "2024-05-10T00:00:00.000000000",
          "2024-05-13T00:00:00.000000000",
          "2024-05-14T00:00:00.000000000",
          "2024-05-15T00:00:00.000000000",
          "2024-05-16T00:00:00.000000000",
          "2024-05-17T00:00:00.000000000",
          "2024-05-20T00:00:00.000000000",
          "2024-05-21T00:00:00.000000000",
          "2024-05-22T00:00:00.000000000",
          "2024-05-23T00:00:00.000000000",
          "2024-05-24T00:00:00.000000000",
          "2024-05-28T00:00:00.000000000",
          "2024-05-29T00:00:00.000000000",
          "2024-05-30T00:00:00.000000000",
          "2024-05-31T00:00:00.000000000",
          "2024-06-03T00:00:00.000000000",
          "2024-06-04T00:00:00.000000000",
          "2024-06-05T00:00:00.000000000",
          "2024-06-06T00:00:00.000000000",
          "2024-06-07T00:00:00.000000000",
          "2024-06-10T00:00:00.000000000",
          "2024-06-11T00:00:00.000000000",
          "2024-06-12T00:00:00.000000000",
          "2024-06-13T00:00:00.000000000",
          "2024-06-14T00:00:00.000000000",
          "2024-06-17T00:00:00.000000000",
          "2024-06-18T00:00:00.000000000",
          "2024-06-20T00:00:00.000000000",
          "2024-06-21T00:00:00.000000000",
          "2024-06-24T00:00:00.000000000",
          "2024-06-25T00:00:00.000000000",
          "2024-06-26T00:00:00.000000000",
          "2024-06-27T00:00:00.000000000",
          "2024-06-28T00:00:00.000000000",
          "2024-07-01T00:00:00.000000000",
          "2024-07-02T00:00:00.000000000",
          "2024-07-03T00:00:00.000000000",
          "2024-07-05T00:00:00.000000000",
          "2024-07-08T00:00:00.000000000",
          "2024-07-09T00:00:00.000000000",
          "2024-07-10T00:00:00.000000000",
          "2024-07-11T00:00:00.000000000",
          "2024-07-12T00:00:00.000000000",
          "2024-07-15T00:00:00.000000000",
          "2024-07-16T00:00:00.000000000",
          "2024-07-17T00:00:00.000000000",
          "2024-07-18T00:00:00.000000000",
          "2024-07-19T00:00:00.000000000",
          "2024-07-22T00:00:00.000000000",
          "2024-07-23T00:00:00.000000000",
          "2024-07-24T00:00:00.000000000",
          "2024-07-25T00:00:00.000000000",
          "2024-07-26T00:00:00.000000000",
          "2024-07-29T00:00:00.000000000",
          "2024-07-30T00:00:00.000000000"
         ],
         "xaxis": "x5",
         "y": {
          "bdata": "1fjEDFiNgEATbYmz+IuAQCCECrQnjIBA2uzRXJvOgEC3hs6/KfaAQCKvshyzIIFAae+2htQ9gUDYQKoHWUCBQKzObWgINoFAo5GgJ1cLgUDFrWsxkeSAQF1EONdavYBATEErVHGOgEAT+EmQIFWAQBYz74mIK4BA2EWj9o8NgEDNPn3QXd9/QDrr+e26wH9AkZRx+Vl3f0Dk3G+9pGZ/QLUQ8V6ZT39AxDGbAXYEf0Do5YYSBL9+QHrBCoITwH5AK6dxz+7VfkAQDOkDptB+QJptlhd9oX5AsrOGuVpzfkC5yayC8DV+QB3mZW2IHH5AHMzuB+4ifkBS6j0yL3d+QNAKq3+DsH5AtWj16O3bfkBv24NX1Sh/QIfH5HSjfX9AahyR/VHKf0DKu2zQMfl/QMSrhsHREoBA3WwhEHkpgECy7sHY/zKAQCiltyJROYBAl6+7c544gED5K6qeFTaAQMCIZOHgRoBAGmdyX+pYgEBBK4thgG2AQPFj+1PsYIBAvLGDTnhKgEC7aZwLX0GAQGkb2ieBLYBA5VE7bKlzgEBTib7qoY2AQBg50nz+ooBAQVeF8gjBgEAUB58/ksKAQFa/d0SQw4BAfB7TUOPFgEB6f9qv8MuAQGMnaH6B84BArT9kBe/+gEDOqu/4qwaBQCYs/2j9B4FAwFLV53IIgUBUVPaQVBWBQGoTybsxIYFA/OaAKdAUgUBGpEaIRRKBQHP1dBPkDYFA",
          "dtype": "f8"
         },
         "yaxis": "y5"
        },
        {
         "line": {
          "color": "gray",
          "dash": "dash"
         },
         "name": "BB Lower",
         "type": "scatter",
         "x": [
          "2024-04-22T00:00:00.000000000",
          "2024-04-23T00:00:00.000000000",
          "2024-04-24T00:00:00.000000000",
          "2024-04-25T00:00:00.000000000",
          "2024-04-26T00:00:00.000000000",
          "2024-04-29T00:00:00.000000000",
          "2024-04-30T00:00:00.000000000",
          "2024-05-01T00:00:00.000000000",
          "2024-05-02T00:00:00.000000000",
          "2024-05-03T00:00:00.000000000",
          "2024-05-06T00:00:00.000000000",
          "2024-05-07T00:00:00.000000000",
          "2024-05-08T00:00:00.000000000",
          "2024-05-09T00:00:00.000000000",
          "2024-05-10T00:00:00.000000000",
          "2024-05-13T00:00:00.000000000",
          "2024-05-14T00:00:00.000000000",
          "2024-05-15T00:00:00.000000000",
          "2024-05-16T00:00:00.000000000",
          "2024-05-17T00:00:00.000000000",
          "2024-05-20T00:00:00.000000000",
          "2024-05-21T00:00:00.000000000",
          "2024-05-22T00:00:00.000000000",
          "2024-05-23T00:00:00.000000000",
          "2024-05-24T00:00:00.000000000",
          "2024-05-28T00:00:00.000000000",
          "2024-05-29T00:00:00.000000000",
          "2024-05-30T00:00:00.000000000",
          "2024-05-31T00:00:00.000000000",
          "2024-06-03T00:00:00.000000000",
          "2024-06-04T00:00:00.000000000",
          "2024-06-05T00:00:00.000000000",
          "2024-06-06T00:00:00.000000000",
          "2024-06-07T00:00:00.000000000",
          "2024-06-10T00:00:00.000000000",
          "2024-06-11T00:00:00.000000000",
          "2024-06-12T00:00:00.000000000",
          "2024-06-13T00:00:00.000000000",
          "2024-06-14T00:00:00.000000000",
          "2024-06-17T00:00:00.000000000",
          "2024-06-18T00:00:00.000000000",
          "2024-06-20T00:00:00.000000000",
          "2024-06-21T00:00:00.000000000",
          "2024-06-24T00:00:00.000000000",
          "2024-06-25T00:00:00.000000000",
          "2024-06-26T00:00:00.000000000",
          "2024-06-27T00:00:00.000000000",
          "2024-06-28T00:00:00.000000000",
          "2024-07-01T00:00:00.000000000",
          "2024-07-02T00:00:00.000000000",
          "2024-07-03T00:00:00.000000000",
          "2024-07-05T00:00:00.000000000",
          "2024-07-08T00:00:00.000000000",
          "2024-07-09T00:00:00.000000000",
          "2024-07-10T00:00:00.000000000",
          "2024-07-11T00:00:00.000000000",
          "2024-07-12T00:00:00.000000000",
          "2024-07-15T00:00:00.000000000",
          "2024-07-16T00:00:00.000000000",
          "2024-07-17T00:00:00.000000000",
          "2024-07-18T00:00:00.000000000",
          "2024-07-19T00:00:00.000000000",
          "2024-07-22T00:00:00.000000000",
          "2024-07-23T00:00:00.000000000",
          "2024-07-24T00:00:00.000000000",
          "2024-07-25T00:00:00.000000000",
          "2024-07-26T00:00:00.000000000",
          "2024-07-29T00:00:00.000000000",
          "2024-07-30T00:00:00.000000000"
         ],
         "xaxis": "x5",
         "y": {
          "bdata": "8KcP4E3IfUCm8rkl+r99QFqRhDHJu31AGPMoE+rifEDFJZZTI1B8QO/UzckYnXtAlIf42FD3ekAcS3hdM4Z6QA7JiuULLHpAhqmLvdIIekDcCo9jqAB6QEV3j/E5AXpAzeMPjnsTekCm3DjMujl6QDkAiCLMU3pAttof+S9cekCZJ+klSmt6QCx7bMi3dXpAo57BeWKRekBQVsPFb5N6QH8iQmTblXpAojTLpKSuekDk5kWq78p6QCDYjnfq8HpAoSVbffISe0AkJ0pf6WN7QAAsA4LG2XtAGhlGU3w0fEATAyD6I5p8QBdNzSVl3HxASpp3HhjofECuFcJtwL58QGQoiENHp3xAf8o9Ou2XfEDFV687Q3V8QK1rTu6XX3xAYrA7fxhOfEA2RJM/UUN8QER1v3lcSHxAE/OJLJtSfEA2vBXYl3B8QEpPKiRFn3xAn21Vtd3LfECoQUVs8QV9QLQhasApGH1AZ8u0ejUpfUDjD1BjW0h9QOsE1lT8nH1AIjaSvHMGfkDxki2P3Ut+QMli5dlZqH5AnMLv3ctjfkDAU+lAwGh+QJtaKLNKeX5ASR7C141wfkALJfVz2XV+QB9O3bPpY35APfaMYY9SfkAMAUuwdi9+QG3kYobomH1A27NqiDpcfUBkqiB+5SR9QBoOaMRzFn1AGvTuqS4FfUC9vXnEfZx8QC3ZbTg6JXxAPWUxUNDne0B1t3LfR697QE1ISXyodXtA",
          "dtype": "f8"
         },
         "yaxis": "y5"
        },
        {
         "line": {
          "color": "gray"
         },
         "name": "BB Middle",
         "type": "scatter",
         "x": [
          "2024-04-22T00:00:00.000000000",
          "2024-04-23T00:00:00.000000000",
          "2024-04-24T00:00:00.000000000",
          "2024-04-25T00:00:00.000000000",
          "2024-04-26T00:00:00.000000000",
          "2024-04-29T00:00:00.000000000",
          "2024-04-30T00:00:00.000000000",
          "2024-05-01T00:00:00.000000000",
          "2024-05-02T00:00:00.000000000",
          "2024-05-03T00:00:00.000000000",
          "2024-05-06T00:00:00.000000000",
          "2024-05-07T00:00:00.000000000",
          "2024-05-08T00:00:00.000000000",
          "2024-05-09T00:00:00.000000000",
          "2024-05-10T00:00:00.000000000",
          "2024-05-13T00:00:00.000000000",
          "2024-05-14T00:00:00.000000000",
          "2024-05-15T00:00:00.000000000",
          "2024-05-16T00:00:00.000000000",
          "2024-05-17T00:00:00.000000000",
          "2024-05-20T00:00:00.000000000",
          "2024-05-21T00:00:00.000000000",
          "2024-05-22T00:00:00.000000000",
          "2024-05-23T00:00:00.000000000",
          "2024-05-24T00:00:00.000000000",
          "2024-05-28T00:00:00.000000000",
          "2024-05-29T00:00:00.000000000",
          "2024-05-30T00:00:00.000000000",
          "2024-05-31T00:00:00.000000000",
          "2024-06-03T00:00:00.000000000",
          "2024-06-04T00:00:00.000000000",
          "2024-06-05T00:00:00.000000000",
          "2024-06-06T00:00:00.000000000",
          "2024-06-07T00:00:00.000000000",
          "2024-06-10T00:00:00.000000000",
          "2024-06-11T00:00:00.000000000",
          "2024-06-12T00:00:00.000000000",
          "2024-06-13T00:00:00.000000000",
          "2024-06-14T00:00:00.000000000",
          "2024-06-17T00:00:00.000000000",
          "2024-06-18T00:00:00.000000000",
          "2024-06-20T00:00:00.000000000",
          "2024-06-21T00:00:00.000000000",
          "2024-06-24T00:00:00.000000000",
          "2024-06-25T00:00:00.000000000",
          "2024-06-26T00:00:00.000000000",
          "2024-06-27T00:00:00.000000000",
          "2024-06-28T00:00:00.000000000",
          "2024-07-01T00:00:00.000000000",
          "2024-07-02T00:00:00.000000000",
          "2024-07-03T00:00:00.000000000",
          "2024-07-05T00:00:00.000000000",
          "2024-07-08T00:00:00.000000000",
          "2024-07-09T00:00:00.000000000",
          "2024-07-10T00:00:00.000000000",
          "2024-07-11T00:00:00.000000000",
          "2024-07-12T00:00:00.000000000",
          "2024-07-15T00:00:00.000000000",
          "2024-07-16T00:00:00.000000000",
          "2024-07-17T00:00:00.000000000",
          "2024-07-18T00:00:00.000000000",
          "2024-07-19T00:00:00.000000000",
          "2024-07-22T00:00:00.000000000",
          "2024-07-23T00:00:00.000000000",
          "2024-07-24T00:00:00.000000000",
          "2024-07-25T00:00:00.000000000",
          "2024-07-26T00:00:00.000000000",
          "2024-07-29T00:00:00.000000000",
          "2024-07-30T00:00:00.000000000"
         ],
         "xaxis": "x5",
         "y": {
          "bdata": "zczM/H5xf0BmZmbG9Wt/QM3MzEwMan9AZmZmZhBAf0CamZlpOx5/QJqZmYE/735AMzMz83y5fkBmZma2coN+QDMzM1sOTH5AZmZmhsAPfkAzMzNj5eR9QAAAAND3vX1AMzMzGy+YfUBmZmb2/XF9QDMzM5tuVX1AMzMz86c7fUAzMzP7UyV9QDMzM1s5G31AmpmZOV4EfUCamZlBCv18QJqZmWG68nxAMzMzU43ZfEBmZmbe+cR8QM3MzPx+2HxAZmZmpnD0fECamZmxRxp9QM3MzMyhPX1AZmZmhutTfUBmZmY+Cmh9QJqZmcl2fH1AMzMzE4OFfUAAAADQ95p9QJqZmWHlq31AmpmZke25fUCamZlJDM99QJqZmbGd7n1AZmZmPjUMfkAAAACIQR5+QGZmZv7/Nn5AZmZmpsZSfkDNzMzES2t+QM3MzLTziH5AZmZmTo2efkDNzMxUDrl+QJqZmcH10n5AzczMHIXtfkAzMzMTrhF/QGZmZn5qL39AzczMLLJNf0AzMzPTTWd/QM3MzBSugX9AMzMzW4+lf0AzMzMLAsJ/QGZmZtaj339AZmZm3k/5f0CamZn5fv1/QGZmZh6F9X9AmpmZASvvf0AAAAAIrON/QJqZmcH1v39AmpmZSQytf0AAAAC4Hpl/QDMzM0s3k39AzczMPAqLf0AzMzNzk2N/QAAAANjOM39AmpmZUbgIf0AAAAB46el+QJqZmVG4yH5A",
          "dtype": "f8"
         },
         "yaxis": "y5"
        }
       ],
       "layout": {
        "annotations": [
         {
          "font": {
           "size": 16
          },
          "showarrow": false,
          "text": "META Price and Indicators",
          "x": 0.5,
          "xanchor": "center",
          "xref": "paper",
          "y": 1,
          "yanchor": "bottom",
          "yref": "paper"
         },
         {
          "font": {
           "size": 16
          },
          "showarrow": false,
          "text": "Volume and VWAP",
          "x": 0.5,
          "xanchor": "center",
          "xref": "paper",
          "y": 0.63,
          "yanchor": "bottom",
          "yref": "paper"
         },
         {
          "font": {
           "size": 16
          },
          "showarrow": false,
          "text": "RSI and Stochastic",
          "x": 0.5,
          "xanchor": "center",
          "xref": "paper",
          "y": 0.45999999999999996,
          "yanchor": "bottom",
          "yref": "paper"
         },
         {
          "font": {
           "size": 16
          },
          "showarrow": false,
          "text": "MACD",
          "x": 0.5,
          "xanchor": "center",
          "xref": "paper",
          "y": 0.29,
          "yanchor": "bottom",
          "yref": "paper"
         },
         {
          "font": {
           "size": 16
          },
          "showarrow": false,
          "text": "Bollinger Bands",
          "x": 0.5,
          "xanchor": "center",
          "xref": "paper",
          "y": 0.12,
          "yanchor": "bottom",
          "yref": "paper"
         }
        ],
        "height": 1200,
        "legend": {
         "orientation": "h",
         "x": 1,
         "xanchor": "right",
         "y": 1.02,
         "yanchor": "bottom"
        },
        "shapes": [
         {
          "line": {
           "color": "red",
           "dash": "dash"
          },
          "type": "line",
          "x0": 0,
          "x1": 1,
          "xref": "x3 domain",
          "y0": 70,
          "y1": 70,
          "yref": "y3"
         },
         {
          "line": {
           "color": "green",
           "dash": "dash"
          },
          "type": "line",
          "x0": 0,
          "x1": 1,
          "xref": "x3 domain",
          "y0": 30,
          "y1": 30,
          "yref": "y3"
         }
        ],
        "showlegend": true,
        "template": {
         "data": {
          "bar": [
           {
            "error_x": {
             "color": "#2a3f5f"
            },
            "error_y": {
             "color": "#2a3f5f"
            },
            "marker": {
             "line": {
              "color": "white",
              "width": 0.5
             },
             "pattern": {
              "fillmode": "overlay",
              "size": 10,
              "solidity": 0.2
             }
            },
            "type": "bar"
           }
          ],
          "barpolar": [
           {
            "marker": {
             "line": {
              "color": "white",
              "width": 0.5
             },
             "pattern": {
              "fillmode": "overlay",
              "size": 10,
              "solidity": 0.2
             }
            },
            "type": "barpolar"
           }
          ],
          "carpet": [
           {
            "aaxis": {
             "endlinecolor": "#2a3f5f",
             "gridcolor": "#C8D4E3",
             "linecolor": "#C8D4E3",
             "minorgridcolor": "#C8D4E3",
             "startlinecolor": "#2a3f5f"
            },
            "baxis": {
             "endlinecolor": "#2a3f5f",
             "gridcolor": "#C8D4E3",
             "linecolor": "#C8D4E3",
             "minorgridcolor": "#C8D4E3",
             "startlinecolor": "#2a3f5f"
            },
            "type": "carpet"
           }
          ],
          "choropleth": [
           {
            "colorbar": {
             "outlinewidth": 0,
             "ticks": ""
            },
            "type": "choropleth"
           }
          ],
          "contour": [
           {
            "colorbar": {
             "outlinewidth": 0,
             "ticks": ""
            },
            "colorscale": [
             [
              0,
              "#0d0887"
             ],
             [
              0.1111111111111111,
              "#46039f"
             ],
             [
              0.2222222222222222,
              "#7201a8"
             ],
             [
              0.3333333333333333,
              "#9c179e"
             ],
             [
              0.4444444444444444,
              "#bd3786"
             ],
             [
              0.5555555555555556,
              "#d8576b"
             ],
             [
              0.6666666666666666,
              "#ed7953"
             ],
             [
              0.7777777777777778,
              "#fb9f3a"
             ],
             [
              0.8888888888888888,
              "#fdca26"
             ],
             [
              1,
              "#f0f921"
             ]
            ],
            "type": "contour"
           }
          ],
          "contourcarpet": [
           {
            "colorbar": {
             "outlinewidth": 0,
             "ticks": ""
            },
            "type": "contourcarpet"
           }
          ],
          "heatmap": [
           {
            "colorbar": {
             "outlinewidth": 0,
             "ticks": ""
            },
            "colorscale": [
             [
              0,
              "#0d0887"
             ],
             [
              0.1111111111111111,
              "#46039f"
             ],
             [
              0.2222222222222222,
              "#7201a8"
             ],
             [
              0.3333333333333333,
              "#9c179e"
             ],
             [
              0.4444444444444444,
              "#bd3786"
             ],
             [
              0.5555555555555556,
              "#d8576b"
             ],
             [
              0.6666666666666666,
              "#ed7953"
             ],
             [
              0.7777777777777778,
              "#fb9f3a"
             ],
             [
              0.8888888888888888,
              "#fdca26"
             ],
             [
              1,
              "#f0f921"
             ]
            ],
            "type": "heatmap"
           }
          ],
          "histogram": [
           {
            "marker": {
             "pattern": {
              "fillmode": "overlay",
              "size": 10,
              "solidity": 0.2
             }
            },
            "type": "histogram"
           }
          ],
          "histogram2d": [
           {
            "colorbar": {
             "outlinewidth": 0,
             "ticks": ""
            },
            "colorscale": [
             [
              0,
              "#0d0887"
             ],
             [
              0.1111111111111111,
              "#46039f"
             ],
             [
              0.2222222222222222,
              "#7201a8"
             ],
             [
              0.3333333333333333,
              "#9c179e"
             ],
             [
              0.4444444444444444,
              "#bd3786"
             ],
             [
              0.5555555555555556,
              "#d8576b"
             ],
             [
              0.6666666666666666,
              "#ed7953"
             ],
             [
              0.7777777777777778,
              "#fb9f3a"
             ],
             [
              0.8888888888888888,
              "#fdca26"
             ],
             [
              1,
              "#f0f921"
             ]
            ],
            "type": "histogram2d"
           }
          ],
          "histogram2dcontour": [
           {
            "colorbar": {
             "outlinewidth": 0,
             "ticks": ""
            },
            "colorscale": [
             [
              0,
              "#0d0887"
             ],
             [
              0.1111111111111111,
              "#46039f"
             ],
             [
              0.2222222222222222,
              "#7201a8"
             ],
             [
              0.3333333333333333,
              "#9c179e"
             ],
             [
              0.4444444444444444,
              "#bd3786"
             ],
             [
              0.5555555555555556,
              "#d8576b"
             ],
             [
              0.6666666666666666,
              "#ed7953"
             ],
             [
              0.7777777777777778,
              "#fb9f3a"
             ],
             [
              0.8888888888888888,
              "#fdca26"
             ],
             [
              1,
              "#f0f921"
             ]
            ],
            "type": "histogram2dcontour"
           }
          ],
          "mesh3d": [
           {
            "colorbar": {
             "outlinewidth": 0,
             "ticks": ""
            },
            "type": "mesh3d"
           }
          ],
          "parcoords": [
           {
            "line": {
             "colorbar": {
              "outlinewidth": 0,
              "ticks": ""
             }
            },
            "type": "parcoords"
           }
          ],
          "pie": [
           {
            "automargin": true,
            "type": "pie"
           }
          ],
          "scatter": [
           {
            "fillpattern": {
             "fillmode": "overlay",
             "size": 10,
             "solidity": 0.2
            },
            "type": "scatter"
           }
          ],
          "scatter3d": [
           {
            "line": {
             "colorbar": {
              "outlinewidth": 0,
              "ticks": ""
             }
            },
            "marker": {
             "colorbar": {
              "outlinewidth": 0,
              "ticks": ""
             }
            },
            "type": "scatter3d"
           }
          ],
          "scattercarpet": [
           {
            "marker": {
             "colorbar": {
              "outlinewidth": 0,
              "ticks": ""
             }
            },
            "type": "scattercarpet"
           }
          ],
          "scattergeo": [
           {
            "marker": {
             "colorbar": {
              "outlinewidth": 0,
              "ticks": ""
             }
            },
            "type": "scattergeo"
           }
          ],
          "scattergl": [
           {
            "marker": {
             "colorbar": {
              "outlinewidth": 0,
              "ticks": ""
             }
            },
            "type": "scattergl"
           }
          ],
          "scattermap": [
           {
            "marker": {
             "colorbar": {
              "outlinewidth": 0,
              "ticks": ""
             }
            },
            "type": "scattermap"
           }
          ],
          "scattermapbox": [
           {
            "marker": {
             "colorbar": {
              "outlinewidth": 0,
              "ticks": ""
             }
            },
            "type": "scattermapbox"
           }
          ],
          "scatterpolar": [
           {
            "marker": {
             "colorbar": {
              "outlinewidth": 0,
              "ticks": ""
             }
            },
            "type": "scatterpolar"
           }
          ],
          "scatterpolargl": [
           {
            "marker": {
             "colorbar": {
              "outlinewidth": 0,
              "ticks": ""
             }
            },
            "type": "scatterpolargl"
           }
          ],
          "scatterternary": [
           {
            "marker": {
             "colorbar": {
              "outlinewidth": 0,
              "ticks": ""
             }
            },
            "type": "scatterternary"
           }
          ],
          "surface": [
           {
            "colorbar": {
             "outlinewidth": 0,
             "ticks": ""
            },
            "colorscale": [
             [
              0,
              "#0d0887"
             ],
             [
              0.1111111111111111,
              "#46039f"
             ],
             [
              0.2222222222222222,
              "#7201a8"
             ],
             [
              0.3333333333333333,
              "#9c179e"
             ],
             [
              0.4444444444444444,
              "#bd3786"
             ],
             [
              0.5555555555555556,
              "#d8576b"
             ],
             [
              0.6666666666666666,
              "#ed7953"
             ],
             [
              0.7777777777777778,
              "#fb9f3a"
             ],
             [
              0.8888888888888888,
              "#fdca26"
             ],
             [
              1,
              "#f0f921"
             ]
            ],
            "type": "surface"
           }
          ],
          "table": [
           {
            "cells": {
             "fill": {
              "color": "#EBF0F8"
             },
             "line": {
              "color": "white"
             }
            },
            "header": {
             "fill": {
              "color": "#C8D4E3"
             },
             "line": {
              "color": "white"
             }
            },
            "type": "table"
           }
          ]
         },
         "layout": {
          "annotationdefaults": {
           "arrowcolor": "#2a3f5f",
           "arrowhead": 0,
           "arrowwidth": 1
          },
          "autotypenumbers": "strict",
          "coloraxis": {
           "colorbar": {
            "outlinewidth": 0,
            "ticks": ""
           }
          },
          "colorscale": {
           "diverging": [
            [
             0,
             "#8e0152"
            ],
            [
             0.1,
             "#c51b7d"
            ],
            [
             0.2,
             "#de77ae"
            ],
            [
             0.3,
             "#f1b6da"
            ],
            [
             0.4,
             "#fde0ef"
            ],
            [
             0.5,
             "#f7f7f7"
            ],
            [
             0.6,
             "#e6f5d0"
            ],
            [
             0.7,
             "#b8e186"
            ],
            [
             0.8,
             "#7fbc41"
            ],
            [
             0.9,
             "#4d9221"
            ],
            [
             1,
             "#276419"
            ]
           ],
           "sequential": [
            [
             0,
             "#0d0887"
            ],
            [
             0.1111111111111111,
             "#46039f"
            ],
            [
             0.2222222222222222,
             "#7201a8"
            ],
            [
             0.3333333333333333,
             "#9c179e"
            ],
            [
             0.4444444444444444,
             "#bd3786"
            ],
            [
             0.5555555555555556,
             "#d8576b"
            ],
            [
             0.6666666666666666,
             "#ed7953"
            ],
            [
             0.7777777777777778,
             "#fb9f3a"
            ],
            [
             0.8888888888888888,
             "#fdca26"
            ],
            [
             1,
             "#f0f921"
            ]
           ],
           "sequentialminus": [
            [
             0,
             "#0d0887"
            ],
            [
             0.1111111111111111,
             "#46039f"
            ],
            [
             0.2222222222222222,
             "#7201a8"
            ],
            [
             0.3333333333333333,
             "#9c179e"
            ],
            [
             0.4444444444444444,
             "#bd3786"
            ],
            [
             0.5555555555555556,
             "#d8576b"
            ],
            [
             0.6666666666666666,
             "#ed7953"
            ],
            [
             0.7777777777777778,
             "#fb9f3a"
            ],
            [
             0.8888888888888888,
             "#fdca26"
            ],
            [
             1,
             "#f0f921"
            ]
           ]
          },
          "colorway": [
           "#636efa",
           "#EF553B",
           "#00cc96",
           "#ab63fa",
           "#FFA15A",
           "#19d3f3",
           "#FF6692",
           "#B6E880",
           "#FF97FF",
           "#FECB52"
          ],
          "font": {
           "color": "#2a3f5f"
          },
          "geo": {
           "bgcolor": "white",
           "lakecolor": "white",
           "landcolor": "white",
           "showlakes": true,
           "showland": true,
           "subunitcolor": "#C8D4E3"
          },
          "hoverlabel": {
           "align": "left"
          },
          "hovermode": "closest",
          "mapbox": {
           "style": "light"
          },
          "paper_bgcolor": "white",
          "plot_bgcolor": "white",
          "polar": {
           "angularaxis": {
            "gridcolor": "#EBF0F8",
            "linecolor": "#EBF0F8",
            "ticks": ""
           },
           "bgcolor": "white",
           "radialaxis": {
            "gridcolor": "#EBF0F8",
            "linecolor": "#EBF0F8",
            "ticks": ""
           }
          },
          "scene": {
           "xaxis": {
            "backgroundcolor": "white",
            "gridcolor": "#DFE8F3",
            "gridwidth": 2,
            "linecolor": "#EBF0F8",
            "showbackground": true,
            "ticks": "",
            "zerolinecolor": "#EBF0F8"
           },
           "yaxis": {
            "backgroundcolor": "white",
            "gridcolor": "#DFE8F3",
            "gridwidth": 2,
            "linecolor": "#EBF0F8",
            "showbackground": true,
            "ticks": "",
            "zerolinecolor": "#EBF0F8"
           },
           "zaxis": {
            "backgroundcolor": "white",
            "gridcolor": "#DFE8F3",
            "gridwidth": 2,
            "linecolor": "#EBF0F8",
            "showbackground": true,
            "ticks": "",
            "zerolinecolor": "#EBF0F8"
           }
          },
          "shapedefaults": {
           "line": {
            "color": "#2a3f5f"
           }
          },
          "ternary": {
           "aaxis": {
            "gridcolor": "#DFE8F3",
            "linecolor": "#A2B1C6",
            "ticks": ""
           },
           "baxis": {
            "gridcolor": "#DFE8F3",
            "linecolor": "#A2B1C6",
            "ticks": ""
           },
           "bgcolor": "white",
           "caxis": {
            "gridcolor": "#DFE8F3",
            "linecolor": "#A2B1C6",
            "ticks": ""
           }
          },
          "title": {
           "x": 0.05
          },
          "xaxis": {
           "automargin": true,
           "gridcolor": "#EBF0F8",
           "linecolor": "#EBF0F8",
           "ticks": "",
           "title": {
            "standoff": 15
           },
           "zerolinecolor": "#EBF0F8",
           "zerolinewidth": 2
          },
          "yaxis": {
           "automargin": true,
           "gridcolor": "#EBF0F8",
           "linecolor": "#EBF0F8",
           "ticks": "",
           "title": {
            "standoff": 15
           },
           "zerolinecolor": "#EBF0F8",
           "zerolinewidth": 2
          }
         }
        },
        "title": {
         "text": "META Technical Analysis Dashboard"
        },
        "xaxis": {
         "anchor": "y",
         "domain": [
          0,
          1
         ],
         "matches": "x5",
         "rangeslider": {
          "visible": false
         },
         "showticklabels": false
        },
        "xaxis2": {
         "anchor": "y2",
         "domain": [
          0,
          1
         ],
         "matches": "x5",
         "showticklabels": false
        },
        "xaxis3": {
         "anchor": "y3",
         "domain": [
          0,
          1
         ],
         "matches": "x5",
         "showticklabels": false
        },
        "xaxis4": {
         "anchor": "y4",
         "domain": [
          0,
          1
         ],
         "matches": "x5",
         "showticklabels": false
        },
        "xaxis5": {
         "anchor": "y5",
         "domain": [
          0,
          1
         ]
        },
        "yaxis": {
         "anchor": "x",
         "domain": [
          0.6799999999999999,
          1
         ],
         "title": {
          "text": "Price"
         }
        },
        "yaxis2": {
         "anchor": "x2",
         "domain": [
          0.51,
          0.63
         ],
         "title": {
          "text": "Volume"
         }
        },
        "yaxis3": {
         "anchor": "x3",
         "domain": [
          0.33999999999999997,
          0.45999999999999996
         ],
         "title": {
          "text": "RSI/Stochastic"
         }
        },
        "yaxis4": {
         "anchor": "x4",
         "domain": [
          0.16999999999999998,
          0.29
         ],
         "title": {
          "text": "MACD"
         }
        },
        "yaxis5": {
         "anchor": "x5",
         "domain": [
          0,
          0.12
         ],
         "title": {
          "text": "Bollinger Bands"
         }
        }
       }
      }
     },
     "metadata": {},
     "output_type": "display_data"
    },
    {
     "name": "stdout",
     "output_type": "stream",
     "text": [
      "\n",
      "Generating dashboard for MSFT...\n"
     ]
    },
    {
     "data": {
      "application/vnd.plotly.v1+json": {
       "config": {
        "plotlyServerURL": "https://plot.ly"
       },
       "data": [
        {
         "close": {
          "bdata": "AAAAIFwPeUABAADAHnl5QAAAAMD1kHlAAAAA4KPweEABAADAHmV5QAAAAAAAJHlAAAAAoEdVeEABAABACq94QAAAAKBw3XhAAAAAYI9qeUAAAADgo9h5QAAAAKBwlXlAAAAA4KOoeUABAADAHsV5QAAAAADX63lAAAAAIIXbeUAAAADA9Qh6QAAAAKBHcXpAAAAAANdPekAAAAAgXEN6QAAAAKBwlXpAAAAA4KPQekAAAADgUeh6QAAAAAAAsHpAAAAAYI/iekABAADAHuV6QAAAAGC40npAAAAAYLjqeUAAAACAFPJ5QAAAAOBR2HlAAQAAwB4BekAAAAAAKYB6QAAAAOBRiHpAAAAAoJl9ekAAAACA6716QAEAAEDhCntAAAAAwPWQe0AAAACgR5l7QAEAAMAeqXtAAAAAgOsFfEAAAACgcOV7QAEAAEAz23tAAAAA4HocfEAAAABguPp7QAEAAEAzL3xAAAAAYI9CfEAAAACgmU18QAEAAEAz73tAAAAAIK6LfEAAAADgerR8QAAAAOBRzHxAAAAAwPU4fUAAAAAA1yN9QAAAAOCjuHxAAAAAAAAkfUABAABAM2t8QAEAAMDMWHxAAAAAIFxffEAAAADgURh8QAAAAOBRuHtAAAAAgOuFe0AAAACAwlF7QAEAAEAKr3tAAAAAoJnNe0AAAABgZs56QAAAAGBmJnpAAAAA4FGUekAAAAAgrqt6QAAAAGC4bnpA",
          "dtype": "f8"
         },
         "high": {
          "bdata": "AAAAoJkteUABAABAM4N5QAAAACCFx3lAAAAAgD3+eEAAAAAAANB5QAEAAMAeZXlAAAAAYI8ieUAAAAAghRt5QAEAAEDh/nhAAAAAYGZyeUABAABA4d55QAAAAGC46nlAAAAAIK7DeUAAAAAghct5QAAAAIAU9nlAAAAAoJklekAAAAAA1xd6QAAAAMD1fHpAAAAAYLiWekAAAABguG56QAAAAOBRrHpAAAAAIIUPe0AAAABgjwZ7QAAAAKCZGXtAAAAAwPXwekABAADAHu16QAEAAEAK73pAAQAAwMyEekAAAAAAAAx6QAEAAEDhBnpAAQAAQAoHekAAAACgR4F6QAAAAMD1lHpAAAAA4HqkekAAAACgR8F6QAEAAMAeDXtAAAAAYGa2e0AAAACAPbZ7QAAAAIA9sntAAQAAQAovfEAAAACAPSJ8QAAAAOB66HtAAAAAoEcpfEAAAAAAAEx8QAAAAGC4NnxAAAAAoJlZfEAAAABguIJ8QAAAAIAUdnxAAAAAgOuVfEAAAACgcLl8QAAAAOBR0HxAAAAAoJlFfUABAABAMzt9QAAAAKBHNX1AAAAAIFwnfUAAAADgegx9QAAAAIDChXxAAAAAACmUfEABAADAzGR8QAAAAKCZzXtAAAAAYGbKe0AAAACAPZJ7QAAAAKCZyXtAAAAAgD0GfEAAAAAgrpd7QAEAAMDM3HpAAAAAYLjOekAAAABgZgJ7QAEAAMDM0HpA",
          "dtype": "f8"
         },
         "low": {
          "bdata": "AAAAAAC8eEAAAADA9TB5QAAAAOB6bHlAAAAA4HpAeEAAAAAAKVx5QAEAAEAK83hAAAAAYLhSeEAAAADA9WR4QAAAAGBmqnhAAAAAgMIdeUAAAACA62V5QAAAAKBwkXlAAAAAIFxreUAAAACgmZF5QAEAAMDMvHlAAQAAwB6teUABAADAzLh5QAAAAOBRFHpAAAAAoJlFekAAAADgeiB6QAAAAADXP3pAAAAAoJmNekAAAACAFLJ6QAAAAGC4lnpAAAAAYI+GekAAAACgmal6QAEAAEAKm3pAAAAAANfjeUAAAAAAKUh5QAAAAGC4jnlAAQAAQOGaeUABAADAzAR6QAAAAKBHSXpAAAAAAABwekAAAACAPX56QAAAAAAAlHpAAAAAAAAUe0AAAACA63V7QAAAACCFS3tAAAAAIIWLe0AAAACAPc57QAAAAOBRlHtAAAAAACnoe0AAAABgj+Z7QAAAAAAA7HtAAQAAQAoDfEAAAADgUTx8QAAAAGCP5ntAAAAAYI/ae0AAAACAwlF8QAAAAIAUnnxAAAAAIIWvfEAAAAAgXAd9QAAAAAAAoHxAAAAAgMKtfEABAADAzDh8QAAAAGBmKnxAAQAAQOE2fEAAAABgj+p7QAEAAEDhcntAAAAAYGYme0AAAAAAAAB7QAAAAGCPbntAAAAAoJmxe0AAAACgcLl6QAAAAAApGHpAAAAA4FEUekABAABAM4t6QAAAAIDCFXpA",
          "dtype": "f8"
         },
         "name": "OHLC",
         "open": {
          "bdata": "AAAAoEcBeUAAAAAA10N5QAAAAMD1mHlAAAAA4HqgeEAAAABguMJ5QAAAAAAAVHlAAAAAANcXeUAAAACAwol4QAAAAGCP2nhAAAAA4HokeUAAAAAAKYx5QAAAAGCP6nlAAAAAYLiCeUABAADAHql5QAEAAEAKz3lAAAAAACkgekAAAADgUcB5QAAAAGBmHnpAAQAAwMxcekAAAADgo2h6QAAAACBcQ3pAAAAAoEetekAAAACgcOF6QAAAACCFD3tAAQAAQAqzekAAAACAFNp6QAEAAEAKm3pAAQAAwMyEekAAAAAAAAx6QAAAAOB6+HlAAQAAQOHGeUAAAADA9Rx6QAAAAAApgHpAAQAAQDOjekABAABAM4t6QAAAACCul3pAAQAAwB41e0AAAACgmY17QAAAAOB6ZHtAAAAAoHCpe0AAAAAgXBt8QAEAAMDM5HtAAAAAgBT2e0ABAADAzBx8QAAAAAAABHxAAAAAAAAQfEABAABA4UJ8QAEAAMAeUXxAAAAAYI8KfEABAABAM1N8QAEAAEAKo3xAAAAAgMK5fEABAADAzCh9QAAAAAAAMH1AAAAAIIXTfEAAAAAgru98QAAAAKBHZXxAAQAAwMxUfEAAAAAghWN8QAAAAKBwqXtAAAAAoHDFe0AAAACgmRF7QAAAAOCjnHtAAAAAYGa+e0ABAABAM4d7QAEAAMDMzHpAAQAAQDMjekAAAACgR/l6QAAAACCFu3pA",
          "dtype": "f8"
         },
         "type": "candlestick",
         "x": [
          "2024-04-22T00:00:00.000000000",
          "2024-04-23T00:00:00.000000000",
          "2024-04-24T00:00:00.000000000",
          "2024-04-25T00:00:00.000000000",
          "2024-04-26T00:00:00.000000000",
          "2024-04-29T00:00:00.000000000",
          "2024-04-30T00:00:00.000000000",
          "2024-05-01T00:00:00.000000000",
          "2024-05-02T00:00:00.000000000",
          "2024-05-03T00:00:00.000000000",
          "2024-05-06T00:00:00.000000000",
          "2024-05-07T00:00:00.000000000",
          "2024-05-08T00:00:00.000000000",
          "2024-05-09T00:00:00.000000000",
          "2024-05-10T00:00:00.000000000",
          "2024-05-13T00:00:00.000000000",
          "2024-05-14T00:00:00.000000000",
          "2024-05-15T00:00:00.000000000",
          "2024-05-16T00:00:00.000000000",
          "2024-05-17T00:00:00.000000000",
          "2024-05-20T00:00:00.000000000",
          "2024-05-21T00:00:00.000000000",
          "2024-05-22T00:00:00.000000000",
          "2024-05-23T00:00:00.000000000",
          "2024-05-24T00:00:00.000000000",
          "2024-05-28T00:00:00.000000000",
          "2024-05-29T00:00:00.000000000",
          "2024-05-30T00:00:00.000000000",
          "2024-05-31T00:00:00.000000000",
          "2024-06-03T00:00:00.000000000",
          "2024-06-04T00:00:00.000000000",
          "2024-06-05T00:00:00.000000000",
          "2024-06-06T00:00:00.000000000",
          "2024-06-07T00:00:00.000000000",
          "2024-06-10T00:00:00.000000000",
          "2024-06-11T00:00:00.000000000",
          "2024-06-12T00:00:00.000000000",
          "2024-06-13T00:00:00.000000000",
          "2024-06-14T00:00:00.000000000",
          "2024-06-17T00:00:00.000000000",
          "2024-06-18T00:00:00.000000000",
          "2024-06-20T00:00:00.000000000",
          "2024-06-21T00:00:00.000000000",
          "2024-06-24T00:00:00.000000000",
          "2024-06-25T00:00:00.000000000",
          "2024-06-26T00:00:00.000000000",
          "2024-06-27T00:00:00.000000000",
          "2024-06-28T00:00:00.000000000",
          "2024-07-01T00:00:00.000000000",
          "2024-07-02T00:00:00.000000000",
          "2024-07-03T00:00:00.000000000",
          "2024-07-05T00:00:00.000000000",
          "2024-07-08T00:00:00.000000000",
          "2024-07-09T00:00:00.000000000",
          "2024-07-10T00:00:00.000000000",
          "2024-07-11T00:00:00.000000000",
          "2024-07-12T00:00:00.000000000",
          "2024-07-15T00:00:00.000000000",
          "2024-07-16T00:00:00.000000000",
          "2024-07-17T00:00:00.000000000",
          "2024-07-18T00:00:00.000000000",
          "2024-07-19T00:00:00.000000000",
          "2024-07-22T00:00:00.000000000",
          "2024-07-23T00:00:00.000000000",
          "2024-07-24T00:00:00.000000000",
          "2024-07-25T00:00:00.000000000",
          "2024-07-26T00:00:00.000000000",
          "2024-07-29T00:00:00.000000000",
          "2024-07-30T00:00:00.000000000"
         ],
         "xaxis": "x",
         "yaxis": "y"
        },
        {
         "line": {
          "color": "blue"
         },
         "name": "SMA_20",
         "type": "scatter",
         "x": [
          "2024-04-22T00:00:00.000000000",
          "2024-04-23T00:00:00.000000000",
          "2024-04-24T00:00:00.000000000",
          "2024-04-25T00:00:00.000000000",
          "2024-04-26T00:00:00.000000000",
          "2024-04-29T00:00:00.000000000",
          "2024-04-30T00:00:00.000000000",
          "2024-05-01T00:00:00.000000000",
          "2024-05-02T00:00:00.000000000",
          "2024-05-03T00:00:00.000000000",
          "2024-05-06T00:00:00.000000000",
          "2024-05-07T00:00:00.000000000",
          "2024-05-08T00:00:00.000000000",
          "2024-05-09T00:00:00.000000000",
          "2024-05-10T00:00:00.000000000",
          "2024-05-13T00:00:00.000000000",
          "2024-05-14T00:00:00.000000000",
          "2024-05-15T00:00:00.000000000",
          "2024-05-16T00:00:00.000000000",
          "2024-05-17T00:00:00.000000000",
          "2024-05-20T00:00:00.000000000",
          "2024-05-21T00:00:00.000000000",
          "2024-05-22T00:00:00.000000000",
          "2024-05-23T00:00:00.000000000",
          "2024-05-24T00:00:00.000000000",
          "2024-05-28T00:00:00.000000000",
          "2024-05-29T00:00:00.000000000",
          "2024-05-30T00:00:00.000000000",
          "2024-05-31T00:00:00.000000000",
          "2024-06-03T00:00:00.000000000",
          "2024-06-04T00:00:00.000000000",
          "2024-06-05T00:00:00.000000000",
          "2024-06-06T00:00:00.000000000",
          "2024-06-07T00:00:00.000000000",
          "2024-06-10T00:00:00.000000000",
          "2024-06-11T00:00:00.000000000",
          "2024-06-12T00:00:00.000000000",
          "2024-06-13T00:00:00.000000000",
          "2024-06-14T00:00:00.000000000",
          "2024-06-17T00:00:00.000000000",
          "2024-06-18T00:00:00.000000000",
          "2024-06-20T00:00:00.000000000",
          "2024-06-21T00:00:00.000000000",
          "2024-06-24T00:00:00.000000000",
          "2024-06-25T00:00:00.000000000",
          "2024-06-26T00:00:00.000000000",
          "2024-06-27T00:00:00.000000000",
          "2024-06-28T00:00:00.000000000",
          "2024-07-01T00:00:00.000000000",
          "2024-07-02T00:00:00.000000000",
          "2024-07-03T00:00:00.000000000",
          "2024-07-05T00:00:00.000000000",
          "2024-07-08T00:00:00.000000000",
          "2024-07-09T00:00:00.000000000",
          "2024-07-10T00:00:00.000000000",
          "2024-07-11T00:00:00.000000000",
          "2024-07-12T00:00:00.000000000",
          "2024-07-15T00:00:00.000000000",
          "2024-07-16T00:00:00.000000000",
          "2024-07-17T00:00:00.000000000",
          "2024-07-18T00:00:00.000000000",
          "2024-07-19T00:00:00.000000000",
          "2024-07-22T00:00:00.000000000",
          "2024-07-23T00:00:00.000000000",
          "2024-07-24T00:00:00.000000000",
          "2024-07-25T00:00:00.000000000",
          "2024-07-26T00:00:00.000000000",
          "2024-07-29T00:00:00.000000000",
          "2024-07-30T00:00:00.000000000"
         ],
         "xaxis": "x",
         "y": {
          "bdata": "ZmZmdukjekAzMzMTrhd6QM3MzKSbDXpAzczMLLL7eUBmZmYOLfB5QDMzM+tR3nlAmpmZyaHEeUBmZmZWObB5QM3MzCQxoHlAZmZmnhqReUDNzMyUQ4h5QM3MzES2enlAZmZmNolweUCamZlJDGR5QDMzM+tRXnlAzczMTGJeeUBmZmbO9195QJqZmcH1aHlAMzMzA1Z2eUBmZmY+NYd5QM3MzES2mnlAMzMzU+OreUDNzMxUDr15QJqZmYls03lAAAAA+H7meUDNzMy08/x5QJqZmfHSHHpAZmZmppssekDNzMykcDp6QJqZmZHtP3pAZmZmtvNBekCamZkhsE16QDMzMzvfWHpAMzMzkxhiekCamZmZmWx6QDMzM5vEe3pAzczMNF6PekCamZkBK556QAAAAJhur3pAMzMzw/XFekAAAACQwtZ6QAAAAIgW5HpAMzMz+37zekAzMzMzCAR7QGZmZv6pFHtAMzMz0yIme0DNzMx8FDl7QGZmZm7nUntAzczMHC90e0AzMzPDyph7QJqZmVGNvHtAMzMzW2Tfe0DNzMycxAB8QM3MzOxRHXxAZmZmJgY8fECamZnZo018QM3MzMyhV3xAmpmZOYlhfEDNzMyUGGd8QM3MzEw3Y3xAzczMpHBefEAAAABokVd8QDMzM5MYUnxAmpmZCddPfECamZkxMz58QM3MzCQxI3xAmpmZwSANfEAzMzOz8/x7QJqZmWnn4XtA",
          "dtype": "f8"
         },
         "yaxis": "y"
        },
        {
         "line": {
          "color": "orange"
         },
         "name": "SMA_50",
         "type": "scatter",
         "x": [
          "2024-04-22T00:00:00.000000000",
          "2024-04-23T00:00:00.000000000",
          "2024-04-24T00:00:00.000000000",
          "2024-04-25T00:00:00.000000000",
          "2024-04-26T00:00:00.000000000",
          "2024-04-29T00:00:00.000000000",
          "2024-04-30T00:00:00.000000000",
          "2024-05-01T00:00:00.000000000",
          "2024-05-02T00:00:00.000000000",
          "2024-05-03T00:00:00.000000000",
          "2024-05-06T00:00:00.000000000",
          "2024-05-07T00:00:00.000000000",
          "2024-05-08T00:00:00.000000000",
          "2024-05-09T00:00:00.000000000",
          "2024-05-10T00:00:00.000000000",
          "2024-05-13T00:00:00.000000000",
          "2024-05-14T00:00:00.000000000",
          "2024-05-15T00:00:00.000000000",
          "2024-05-16T00:00:00.000000000",
          "2024-05-17T00:00:00.000000000",
          "2024-05-20T00:00:00.000000000",
          "2024-05-21T00:00:00.000000000",
          "2024-05-22T00:00:00.000000000",
          "2024-05-23T00:00:00.000000000",
          "2024-05-24T00:00:00.000000000",
          "2024-05-28T00:00:00.000000000",
          "2024-05-29T00:00:00.000000000",
          "2024-05-30T00:00:00.000000000",
          "2024-05-31T00:00:00.000000000",
          "2024-06-03T00:00:00.000000000",
          "2024-06-04T00:00:00.000000000",
          "2024-06-05T00:00:00.000000000",
          "2024-06-06T00:00:00.000000000",
          "2024-06-07T00:00:00.000000000",
          "2024-06-10T00:00:00.000000000",
          "2024-06-11T00:00:00.000000000",
          "2024-06-12T00:00:00.000000000",
          "2024-06-13T00:00:00.000000000",
          "2024-06-14T00:00:00.000000000",
          "2024-06-17T00:00:00.000000000",
          "2024-06-18T00:00:00.000000000",
          "2024-06-20T00:00:00.000000000",
          "2024-06-21T00:00:00.000000000",
          "2024-06-24T00:00:00.000000000",
          "2024-06-25T00:00:00.000000000",
          "2024-06-26T00:00:00.000000000",
          "2024-06-27T00:00:00.000000000",
          "2024-06-28T00:00:00.000000000",
          "2024-07-01T00:00:00.000000000",
          "2024-07-02T00:00:00.000000000",
          "2024-07-03T00:00:00.000000000",
          "2024-07-05T00:00:00.000000000",
          "2024-07-08T00:00:00.000000000",
          "2024-07-09T00:00:00.000000000",
          "2024-07-10T00:00:00.000000000",
          "2024-07-11T00:00:00.000000000",
          "2024-07-12T00:00:00.000000000",
          "2024-07-15T00:00:00.000000000",
          "2024-07-16T00:00:00.000000000",
          "2024-07-17T00:00:00.000000000",
          "2024-07-18T00:00:00.000000000",
          "2024-07-19T00:00:00.000000000",
          "2024-07-22T00:00:00.000000000",
          "2024-07-23T00:00:00.000000000",
          "2024-07-24T00:00:00.000000000",
          "2024-07-25T00:00:00.000000000",
          "2024-07-26T00:00:00.000000000",
          "2024-07-29T00:00:00.000000000",
          "2024-07-30T00:00:00.000000000"
         ],
         "xaxis": "x",
         "y": {
          "bdata": "hetRCKzseUBmZma2hOh5QOxRuM6I5nlA4XoUbjTkeUDsUbi+MON5QLgehavP4XlAzczM/BjdeUCkcD3qldp5QB+F62Ey2XlApHA9mpnXeUD2KFy/n9h5QD0K1zMz2XlACtej4C3aeUBcj8K1ptt5QB+F69EA3HlACtejAG/beUCamZlZ9dt5QJqZmfl+4nlAMzMzQ4voeUDXo3AdFux5QM3MzGw08nlArkfhGg36eUAK16OQ7f55QJqZmWm8AnpAj8L1GFEEekCPwvXIwwh6QJqZmYmODHpAXI/CZWYKekAUrkcBKwd6QClcj5IYAnpAXI/CpQr+eUC4HoXbaP55QHsUrvdT/3lAcT0KNxoAekAUrkfxYwJ6QAAAAFD8BHpAUrgelUMLekDNzMyMBhJ6QHsUriftGXpAcT0KBz0hekCamZnJMih6QM3MzKxpLnpAFK5HMeY2ekC4HoVLNz16QClcjxKDRnpAFK5HodZSekBcj8K1FV96QMP1KOxRanpAKVyPcht7ekAUrkfBW456QD0K12N/oXpAUrgexbG0ekBI4Xr0/cZ6QNejcB1a2npASOF6lIftekCPwvVIUP56QAAAADDdEntArkfhGsAle0CuR+G6STZ7QM3MzEwVQntAZmZmNqtKe0AUrkchjlN7QGZmZlbsXXtAH4XrMVVoe0DsUbgu3Wx7QBSuR5FcbntAcT0KFyZxe0CamZkZUXJ7QFK4HjXvcntA",
          "dtype": "f8"
         },
         "yaxis": "y"
        },
        {
         "line": {
          "color": "red"
         },
         "name": "SMA_200",
         "type": "scatter",
         "x": [
          "2024-04-22T00:00:00.000000000",
          "2024-04-23T00:00:00.000000000",
          "2024-04-24T00:00:00.000000000",
          "2024-04-25T00:00:00.000000000",
          "2024-04-26T00:00:00.000000000",
          "2024-04-29T00:00:00.000000000",
          "2024-04-30T00:00:00.000000000",
          "2024-05-01T00:00:00.000000000",
          "2024-05-02T00:00:00.000000000",
          "2024-05-03T00:00:00.000000000",
          "2024-05-06T00:00:00.000000000",
          "2024-05-07T00:00:00.000000000",
          "2024-05-08T00:00:00.000000000",
          "2024-05-09T00:00:00.000000000",
          "2024-05-10T00:00:00.000000000",
          "2024-05-13T00:00:00.000000000",
          "2024-05-14T00:00:00.000000000",
          "2024-05-15T00:00:00.000000000",
          "2024-05-16T00:00:00.000000000",
          "2024-05-17T00:00:00.000000000",
          "2024-05-20T00:00:00.000000000",
          "2024-05-21T00:00:00.000000000",
          "2024-05-22T00:00:00.000000000",
          "2024-05-23T00:00:00.000000000",
          "2024-05-24T00:00:00.000000000",
          "2024-05-28T00:00:00.000000000",
          "2024-05-29T00:00:00.000000000",
          "2024-05-30T00:00:00.000000000",
          "2024-05-31T00:00:00.000000000",
          "2024-06-03T00:00:00.000000000",
          "2024-06-04T00:00:00.000000000",
          "2024-06-05T00:00:00.000000000",
          "2024-06-06T00:00:00.000000000",
          "2024-06-07T00:00:00.000000000",
          "2024-06-10T00:00:00.000000000",
          "2024-06-11T00:00:00.000000000",
          "2024-06-12T00:00:00.000000000",
          "2024-06-13T00:00:00.000000000",
          "2024-06-14T00:00:00.000000000",
          "2024-06-17T00:00:00.000000000",
          "2024-06-18T00:00:00.000000000",
          "2024-06-20T00:00:00.000000000",
          "2024-06-21T00:00:00.000000000",
          "2024-06-24T00:00:00.000000000",
          "2024-06-25T00:00:00.000000000",
          "2024-06-26T00:00:00.000000000",
          "2024-06-27T00:00:00.000000000",
          "2024-06-28T00:00:00.000000000",
          "2024-07-01T00:00:00.000000000",
          "2024-07-02T00:00:00.000000000",
          "2024-07-03T00:00:00.000000000",
          "2024-07-05T00:00:00.000000000",
          "2024-07-08T00:00:00.000000000",
          "2024-07-09T00:00:00.000000000",
          "2024-07-10T00:00:00.000000000",
          "2024-07-11T00:00:00.000000000",
          "2024-07-12T00:00:00.000000000",
          "2024-07-15T00:00:00.000000000",
          "2024-07-16T00:00:00.000000000",
          "2024-07-17T00:00:00.000000000",
          "2024-07-18T00:00:00.000000000",
          "2024-07-19T00:00:00.000000000",
          "2024-07-22T00:00:00.000000000",
          "2024-07-23T00:00:00.000000000",
          "2024-07-24T00:00:00.000000000",
          "2024-07-25T00:00:00.000000000",
          "2024-07-26T00:00:00.000000000",
          "2024-07-29T00:00:00.000000000",
          "2024-07-30T00:00:00.000000000"
         ],
         "xaxis": "x",
         "y": {
          "bdata": "AAAAGLf/dkAK16PcVwV3QIXrUYiFC3dArkfh4tgQd0DsUbh2YBZ3QB+F690kG3dASOF61Ksed0ApXI+mmyJ3QHE9Cg+tJXdArkfhas0pd0Bcj8LRIi93QNejcLFhNHdAMzMzs505d0DXo3DxhT53QB+F60muRHdAj8L1IFJLd0Bcj8J1k1F3QHE9Cn+MWHdAzczMIFJfd0DD9SjUvGZ3QLgehcuhbndAmpmZmbt2d0AzMzP/w353QAAAAHTXhndAAAAA3HmPd0CPwvU0EZh3QK5H4VK4oHdAUrgebfind0AK16OYbq93QJqZmbHhtndArkfhGtG+d0Bcj8JRa8d3QK5H4WKhz3dAKVyP2r3Xd0A9Cterz993QM3MzPjT6HdAAAAAQEbyd0ApXI9utPt3QFyPwm3WBHhAFK5HbWcOeEAfhevx4xd4QArXo+xAIXhACtejUI0qeECuR+E2vDN4QFK4Hh1rPXhAhetRgNlGeEB7FK7bClB4QOxRuL5BWXhAUrgeEelieEC4HoWLjmx4QNejcDUAd3hAhetRsBSCeEDD9SiIFo14QOxRuIowmHhA4XoUXu2jeECkcD1C8a54QKRwPb7SuXhA9ihcNyvFeECkcD1yG9B4QPYoXGN/2nhAcT0Km3fkeEC4HoUnse14QClcj1YO+HhAzczMkCACeUAfhevx4wp5QB+F630uEnlA7FG4TtEZeUC4HoVPryF5QMP1KMDsKHlA",
          "dtype": "f8"
         },
         "yaxis": "y"
        },
        {
         "marker": {
          "color": "rgba(0,0,255,0.3)"
         },
         "name": "Volume",
         "type": "bar",
         "x": [
          "2024-04-22T00:00:00.000000000",
          "2024-04-23T00:00:00.000000000",
          "2024-04-24T00:00:00.000000000",
          "2024-04-25T00:00:00.000000000",
          "2024-04-26T00:00:00.000000000",
          "2024-04-29T00:00:00.000000000",
          "2024-04-30T00:00:00.000000000",
          "2024-05-01T00:00:00.000000000",
          "2024-05-02T00:00:00.000000000",
          "2024-05-03T00:00:00.000000000",
          "2024-05-06T00:00:00.000000000",
          "2024-05-07T00:00:00.000000000",
          "2024-05-08T00:00:00.000000000",
          "2024-05-09T00:00:00.000000000",
          "2024-05-10T00:00:00.000000000",
          "2024-05-13T00:00:00.000000000",
          "2024-05-14T00:00:00.000000000",
          "2024-05-15T00:00:00.000000000",
          "2024-05-16T00:00:00.000000000",
          "2024-05-17T00:00:00.000000000",
          "2024-05-20T00:00:00.000000000",
          "2024-05-21T00:00:00.000000000",
          "2024-05-22T00:00:00.000000000",
          "2024-05-23T00:00:00.000000000",
          "2024-05-24T00:00:00.000000000",
          "2024-05-28T00:00:00.000000000",
          "2024-05-29T00:00:00.000000000",
          "2024-05-30T00:00:00.000000000",
          "2024-05-31T00:00:00.000000000",
          "2024-06-03T00:00:00.000000000",
          "2024-06-04T00:00:00.000000000",
          "2024-06-05T00:00:00.000000000",
          "2024-06-06T00:00:00.000000000",
          "2024-06-07T00:00:00.000000000",
          "2024-06-10T00:00:00.000000000",
          "2024-06-11T00:00:00.000000000",
          "2024-06-12T00:00:00.000000000",
          "2024-06-13T00:00:00.000000000",
          "2024-06-14T00:00:00.000000000",
          "2024-06-17T00:00:00.000000000",
          "2024-06-18T00:00:00.000000000",
          "2024-06-20T00:00:00.000000000",
          "2024-06-21T00:00:00.000000000",
          "2024-06-24T00:00:00.000000000",
          "2024-06-25T00:00:00.000000000",
          "2024-06-26T00:00:00.000000000",
          "2024-06-27T00:00:00.000000000",
          "2024-06-28T00:00:00.000000000",
          "2024-07-01T00:00:00.000000000",
          "2024-07-02T00:00:00.000000000",
          "2024-07-03T00:00:00.000000000",
          "2024-07-05T00:00:00.000000000",
          "2024-07-08T00:00:00.000000000",
          "2024-07-09T00:00:00.000000000",
          "2024-07-10T00:00:00.000000000",
          "2024-07-11T00:00:00.000000000",
          "2024-07-12T00:00:00.000000000",
          "2024-07-15T00:00:00.000000000",
          "2024-07-16T00:00:00.000000000",
          "2024-07-17T00:00:00.000000000",
          "2024-07-18T00:00:00.000000000",
          "2024-07-19T00:00:00.000000000",
          "2024-07-22T00:00:00.000000000",
          "2024-07-23T00:00:00.000000000",
          "2024-07-24T00:00:00.000000000",
          "2024-07-25T00:00:00.000000000",
          "2024-07-26T00:00:00.000000000",
          "2024-07-29T00:00:00.000000000",
          "2024-07-30T00:00:00.000000000"
         ],
         "xaxis": "x2",
         "y": {
          "bdata": "tI01AeQW8ADU4OUABE1rAuwaxQGUzCoBWCu3AQSJZwFYOQ4BLDcKAfhYAwEYdDEBrO+zAKQl4AC8gMwASJnrALSM5gAMWVMB9HwLAYhB6gDkSvgA9FlHAWTIEwE0oQYBqMC0AHDW7wCsxewAYLqxAaRZ3AKcywoBZPLaAGA3AwH0w+IAxNnPADir1QA8CN4A+EdVARiK8wCwPs8A8Do9AbQdBQEYTi8BuDcOAuTS8gDsi/8AeOD7ABzt4QA8xrABUIMNAZhQ1QAAkJcALCX0APzJxQCgjwYBhKYVASCmYAHMFvkA2CzcAJQUBgFQTkwBsE09AXCGPwEgOfEAnP/HACgGmQH458gBONxnASjN5gDwxfIB",
          "dtype": "i4"
         },
         "yaxis": "y2"
        },
        {
         "line": {
          "color": "purple"
         },
         "name": "VWAP",
         "type": "scatter",
         "x": [
          "2024-04-22T00:00:00.000000000",
          "2024-04-23T00:00:00.000000000",
          "2024-04-24T00:00:00.000000000",
          "2024-04-25T00:00:00.000000000",
          "2024-04-26T00:00:00.000000000",
          "2024-04-29T00:00:00.000000000",
          "2024-04-30T00:00:00.000000000",
          "2024-05-01T00:00:00.000000000",
          "2024-05-02T00:00:00.000000000",
          "2024-05-03T00:00:00.000000000",
          "2024-05-06T00:00:00.000000000",
          "2024-05-07T00:00:00.000000000",
          "2024-05-08T00:00:00.000000000",
          "2024-05-09T00:00:00.000000000",
          "2024-05-10T00:00:00.000000000",
          "2024-05-13T00:00:00.000000000",
          "2024-05-14T00:00:00.000000000",
          "2024-05-15T00:00:00.000000000",
          "2024-05-16T00:00:00.000000000",
          "2024-05-17T00:00:00.000000000",
          "2024-05-20T00:00:00.000000000",
          "2024-05-21T00:00:00.000000000",
          "2024-05-22T00:00:00.000000000",
          "2024-05-23T00:00:00.000000000",
          "2024-05-24T00:00:00.000000000",
          "2024-05-28T00:00:00.000000000",
          "2024-05-29T00:00:00.000000000",
          "2024-05-30T00:00:00.000000000",
          "2024-05-31T00:00:00.000000000",
          "2024-06-03T00:00:00.000000000",
          "2024-06-04T00:00:00.000000000",
          "2024-06-05T00:00:00.000000000",
          "2024-06-06T00:00:00.000000000",
          "2024-06-07T00:00:00.000000000",
          "2024-06-10T00:00:00.000000000",
          "2024-06-11T00:00:00.000000000",
          "2024-06-12T00:00:00.000000000",
          "2024-06-13T00:00:00.000000000",
          "2024-06-14T00:00:00.000000000",
          "2024-06-17T00:00:00.000000000",
          "2024-06-18T00:00:00.000000000",
          "2024-06-20T00:00:00.000000000",
          "2024-06-21T00:00:00.000000000",
          "2024-06-24T00:00:00.000000000",
          "2024-06-25T00:00:00.000000000",
          "2024-06-26T00:00:00.000000000",
          "2024-06-27T00:00:00.000000000",
          "2024-06-28T00:00:00.000000000",
          "2024-07-01T00:00:00.000000000",
          "2024-07-02T00:00:00.000000000",
          "2024-07-03T00:00:00.000000000",
          "2024-07-05T00:00:00.000000000",
          "2024-07-08T00:00:00.000000000",
          "2024-07-09T00:00:00.000000000",
          "2024-07-10T00:00:00.000000000",
          "2024-07-11T00:00:00.000000000",
          "2024-07-12T00:00:00.000000000",
          "2024-07-15T00:00:00.000000000",
          "2024-07-16T00:00:00.000000000",
          "2024-07-17T00:00:00.000000000",
          "2024-07-18T00:00:00.000000000",
          "2024-07-19T00:00:00.000000000",
          "2024-07-22T00:00:00.000000000",
          "2024-07-23T00:00:00.000000000",
          "2024-07-24T00:00:00.000000000",
          "2024-07-25T00:00:00.000000000",
          "2024-07-26T00:00:00.000000000",
          "2024-07-29T00:00:00.000000000",
          "2024-07-30T00:00:00.000000000"
         ],
         "xaxis": "x2",
         "y": {
          "bdata": "wwa+Qaz+eUCvSa65CfB5QNNzgFjh4nlAy8F0y2mueUC6VCGnLp95QM0Zipw4jXlADHfyuVpreUCHEo8XMEx5QJ7z++KHNHlAfLrqQQUneUCoGvedcSN5QLHhLfUsI3lAp3tpQe0ieUCuT1RrpCx5QFy0RhhmOHlAmTkglE8/eUA6hbJgN0R5QPVl88UQcHlANJMT+Vl+eUCPmzreRZF5QLWKdSPCv3lAFZyu3qPyeUBQqOVPHRp6QLar25K5NXpA+iIxM9BGekBgRDpE7V16QLP5+O8Ub3pAocP2vIRwekD5VWDUZ1l6QBeuW3o3V3pA3EHLGY5WekBmT+lco1Z6QOeCE1iSV3pAJ6jC9+daekDlwMZev1x6QHdTT57fWnpAm02THXxpekCnb4vHZHV6QJRGx1T7f3pAYhaFm/2WekAIZ19Z7al6QLuy4KrVznpA0Lo0AqAue0AA7ciJuVV7QOS/u+A7eHtAa0AGhEeYe0DJWxWW2rR7QFy3h2wpz3tAA+3TvS7ne0BzWIYCUv57QI1Tbz7kEXxAw0wah2gpfECjyTR3Xz58QM8ZUMnrT3xATxNpFs1ifEAII8Jv7HJ8QHvEZWyMf3xA3X1HqGiFfECE8h5FvoV8QONzKphPd3xAOAUUyBVkfEBXYVr8hFR8QKu/zSLBSHxA8PAf2v49fED5pNfEnxh8QIUXmASh2HtA4kanevqre0D2v7KLOYx7QOiDKCGCVXtA",
          "dtype": "f8"
         },
         "yaxis": "y2"
        },
        {
         "line": {
          "color": "blue"
         },
         "name": "RSI",
         "type": "scatter",
         "x": [
          "2024-04-22T00:00:00.000000000",
          "2024-04-23T00:00:00.000000000",
          "2024-04-24T00:00:00.000000000",
          "2024-04-25T00:00:00.000000000",
          "2024-04-26T00:00:00.000000000",
          "2024-04-29T00:00:00.000000000",
          "2024-04-30T00:00:00.000000000",
          "2024-05-01T00:00:00.000000000",
          "2024-05-02T00:00:00.000000000",
          "2024-05-03T00:00:00.000000000",
          "2024-05-06T00:00:00.000000000",
          "2024-05-07T00:00:00.000000000",
          "2024-05-08T00:00:00.000000000",
          "2024-05-09T00:00:00.000000000",
          "2024-05-10T00:00:00.000000000",
          "2024-05-13T00:00:00.000000000",
          "2024-05-14T00:00:00.000000000",
          "2024-05-15T00:00:00.000000000",
          "2024-05-16T00:00:00.000000000",
          "2024-05-17T00:00:00.000000000",
          "2024-05-20T00:00:00.000000000",
          "2024-05-21T00:00:00.000000000",
          "2024-05-22T00:00:00.000000000",
          "2024-05-23T00:00:00.000000000",
          "2024-05-24T00:00:00.000000000",
          "2024-05-28T00:00:00.000000000",
          "2024-05-29T00:00:00.000000000",
          "2024-05-30T00:00:00.000000000",
          "2024-05-31T00:00:00.000000000",
          "2024-06-03T00:00:00.000000000",
          "2024-06-04T00:00:00.000000000",
          "2024-06-05T00:00:00.000000000",
          "2024-06-06T00:00:00.000000000",
          "2024-06-07T00:00:00.000000000",
          "2024-06-10T00:00:00.000000000",
          "2024-06-11T00:00:00.000000000",
          "2024-06-12T00:00:00.000000000",
          "2024-06-13T00:00:00.000000000",
          "2024-06-14T00:00:00.000000000",
          "2024-06-17T00:00:00.000000000",
          "2024-06-18T00:00:00.000000000",
          "2024-06-20T00:00:00.000000000",
          "2024-06-21T00:00:00.000000000",
          "2024-06-24T00:00:00.000000000",
          "2024-06-25T00:00:00.000000000",
          "2024-06-26T00:00:00.000000000",
          "2024-06-27T00:00:00.000000000",
          "2024-06-28T00:00:00.000000000",
          "2024-07-01T00:00:00.000000000",
          "2024-07-02T00:00:00.000000000",
          "2024-07-03T00:00:00.000000000",
          "2024-07-05T00:00:00.000000000",
          "2024-07-08T00:00:00.000000000",
          "2024-07-09T00:00:00.000000000",
          "2024-07-10T00:00:00.000000000",
          "2024-07-11T00:00:00.000000000",
          "2024-07-12T00:00:00.000000000",
          "2024-07-15T00:00:00.000000000",
          "2024-07-16T00:00:00.000000000",
          "2024-07-17T00:00:00.000000000",
          "2024-07-18T00:00:00.000000000",
          "2024-07-19T00:00:00.000000000",
          "2024-07-22T00:00:00.000000000",
          "2024-07-23T00:00:00.000000000",
          "2024-07-24T00:00:00.000000000",
          "2024-07-25T00:00:00.000000000",
          "2024-07-26T00:00:00.000000000",
          "2024-07-29T00:00:00.000000000",
          "2024-07-30T00:00:00.000000000"
         ],
         "xaxis": "x3",
         "y": {
          "bdata": "6II4d2rYQUDdlTcspKBFQEtHDCJHakZAk1Pvg7mpQkCLVCwNw0pGQBgQuAXM1kRAKoZKSK4KQUA0beDcKqFDQDH4dazH5kRAO6+dLVlpSECCQGLxD8RKQDGSL1E7PUlAHY5ElI+qSUBclnNQl1FKQBoxTaeYNktAsfCPwSjBSkA6aNIte99LQNiHGwOuOU5AzXxpb8MnTUDQUnJBD79MQOTCWw3Qqk5AoEGvwHXvT0BIsN9QRTdQQMAVvNCWTE5AqQXT6gx6T0DbkMS+dIlPQAAGH2xrw05ABNwj/bQTR0CNtgyqCk5HQF0ICsyXlUZAVF1ZxCj1R0CHZkiZ8LNLQBFs+mYp7EtAUq+hduuJS0AxvAsL615NQNdZVBYsVU9AxJxNF2MUUUBSTL6jsihRQB7Zxn8YUVFArhffz7MuUkCTPblEFXFRQOKLhHArNFFA3uS5hRffUUCP+NUs0A5RQJHRTyjLnlFAMQKrGn3SUUBTMkhN2/BRQCClrEJuJE9ASKdWocNeUUBXhldaFsJRQMvZKeOR+1FAB0jD6dLoUkBTKrKok2ZSQGZ+HtKbClBA+UdalTghUUBtWi+3YfZLQAA0h7gFbEtAvyJpaZmWS0D74zwh32dJQGfFsZBjyEZAD7fpYbeGRUD2TA4vl0dEQN5tDSwCQ0dAgByjRAstSECTHl3Qjn1CQLRwjwtGsj9AuhJ/n+r4QkDpfQF+zptDQLXPykBGikJA",
          "dtype": "f8"
         },
         "yaxis": "y3"
        },
        {
         "line": {
          "color": "green"
         },
         "name": "Stochastic %K",
         "type": "scatter",
         "x": [
          "2024-04-22T00:00:00.000000000",
          "2024-04-23T00:00:00.000000000",
          "2024-04-24T00:00:00.000000000",
          "2024-04-25T00:00:00.000000000",
          "2024-04-26T00:00:00.000000000",
          "2024-04-29T00:00:00.000000000",
          "2024-04-30T00:00:00.000000000",
          "2024-05-01T00:00:00.000000000",
          "2024-05-02T00:00:00.000000000",
          "2024-05-03T00:00:00.000000000",
          "2024-05-06T00:00:00.000000000",
          "2024-05-07T00:00:00.000000000",
          "2024-05-08T00:00:00.000000000",
          "2024-05-09T00:00:00.000000000",
          "2024-05-10T00:00:00.000000000",
          "2024-05-13T00:00:00.000000000",
          "2024-05-14T00:00:00.000000000",
          "2024-05-15T00:00:00.000000000",
          "2024-05-16T00:00:00.000000000",
          "2024-05-17T00:00:00.000000000",
          "2024-05-20T00:00:00.000000000",
          "2024-05-21T00:00:00.000000000",
          "2024-05-22T00:00:00.000000000",
          "2024-05-23T00:00:00.000000000",
          "2024-05-24T00:00:00.000000000",
          "2024-05-28T00:00:00.000000000",
          "2024-05-29T00:00:00.000000000",
          "2024-05-30T00:00:00.000000000",
          "2024-05-31T00:00:00.000000000",
          "2024-06-03T00:00:00.000000000",
          "2024-06-04T00:00:00.000000000",
          "2024-06-05T00:00:00.000000000",
          "2024-06-06T00:00:00.000000000",
          "2024-06-07T00:00:00.000000000",
          "2024-06-10T00:00:00.000000000",
          "2024-06-11T00:00:00.000000000",
          "2024-06-12T00:00:00.000000000",
          "2024-06-13T00:00:00.000000000",
          "2024-06-14T00:00:00.000000000",
          "2024-06-17T00:00:00.000000000",
          "2024-06-18T00:00:00.000000000",
          "2024-06-20T00:00:00.000000000",
          "2024-06-21T00:00:00.000000000",
          "2024-06-24T00:00:00.000000000",
          "2024-06-25T00:00:00.000000000",
          "2024-06-26T00:00:00.000000000",
          "2024-06-27T00:00:00.000000000",
          "2024-06-28T00:00:00.000000000",
          "2024-07-01T00:00:00.000000000",
          "2024-07-02T00:00:00.000000000",
          "2024-07-03T00:00:00.000000000",
          "2024-07-05T00:00:00.000000000",
          "2024-07-08T00:00:00.000000000",
          "2024-07-09T00:00:00.000000000",
          "2024-07-10T00:00:00.000000000",
          "2024-07-11T00:00:00.000000000",
          "2024-07-12T00:00:00.000000000",
          "2024-07-15T00:00:00.000000000",
          "2024-07-16T00:00:00.000000000",
          "2024-07-17T00:00:00.000000000",
          "2024-07-18T00:00:00.000000000",
          "2024-07-19T00:00:00.000000000",
          "2024-07-22T00:00:00.000000000",
          "2024-07-23T00:00:00.000000000",
          "2024-07-24T00:00:00.000000000",
          "2024-07-25T00:00:00.000000000",
          "2024-07-26T00:00:00.000000000",
          "2024-07-29T00:00:00.000000000",
          "2024-07-30T00:00:00.000000000"
         ],
         "xaxis": "x3",
         "y": {
          "bdata": "IkM5HVD+LkCiH3qRLpRBQMyAvat1y0NACYqr9QCiOkDGy535Fh9GQIFmdE3nMkFAcW8zETEoCUCwuNsdWtAxQDRw1y4+SjlAUFxQMMoxTkAblFhhMKxUQAZETiCE/1NAwcxeo84fVUD5//Esb8tWQMOI1Pg7alhA5uN+xLAuVUAiXrRwKYZXQDoCXPsfeVhAc08jLN/xVUCWexphKWhVQAeQw4X8BFhAAvZaSKJvVkCE85TQ+gdXQBmEotjE8FJA+ykfwEHNVUBdbvS4VvNVQCp4OQXHelRADSzp/5vmMED6973I8UBCQD6qEdAH+T5A6Wc8+47eQ0Bl25Z1IsJQQApjTGRVMlFATpI0xe6eUEANEc6nWxNUQPu9yzeXNVhAmqnmD+p+V0BQyBm7fNRXQJEv0Wlpd1hA/4iwxr6dV0A4IG8f7YVWQI6QBqm1LVZA0bjrVVJPWEAyR6FQIw1WQK2pDu/zw1dAd0UCaOXoV0CY4cOFa39WQHNPxab+21FAKVq1OXuAWEDbyYSJrbRYQHKiQgYovlhArV6zaSZgWEDK8zKWQBdXQFvQ0vbf3VBA2c3aDrEPV0DrDbQdsutDQAlr0ijwYkFAa71hQjtKQkAdJOh+BwMxQDRS6PGtwS1ANaA7oa2VMUAhbv6njh0sQKMYuFCmGD5Ahfof8uWsQUDpJFEhILYJQPJcNFEmX/w/u4Y5iS72L0CpabPMSTszQNy49DTZyCdA",
          "dtype": "f8"
         },
         "yaxis": "y3"
        },
        {
         "line": {
          "color": "red"
         },
         "name": "Stochastic %D",
         "type": "scatter",
         "x": [
          "2024-04-22T00:00:00.000000000",
          "2024-04-23T00:00:00.000000000",
          "2024-04-24T00:00:00.000000000",
          "2024-04-25T00:00:00.000000000",
          "2024-04-26T00:00:00.000000000",
          "2024-04-29T00:00:00.000000000",
          "2024-04-30T00:00:00.000000000",
          "2024-05-01T00:00:00.000000000",
          "2024-05-02T00:00:00.000000000",
          "2024-05-03T00:00:00.000000000",
          "2024-05-06T00:00:00.000000000",
          "2024-05-07T00:00:00.000000000",
          "2024-05-08T00:00:00.000000000",
          "2024-05-09T00:00:00.000000000",
          "2024-05-10T00:00:00.000000000",
          "2024-05-13T00:00:00.000000000",
          "2024-05-14T00:00:00.000000000",
          "2024-05-15T00:00:00.000000000",
          "2024-05-16T00:00:00.000000000",
          "2024-05-17T00:00:00.000000000",
          "2024-05-20T00:00:00.000000000",
          "2024-05-21T00:00:00.000000000",
          "2024-05-22T00:00:00.000000000",
          "2024-05-23T00:00:00.000000000",
          "2024-05-24T00:00:00.000000000",
          "2024-05-28T00:00:00.000000000",
          "2024-05-29T00:00:00.000000000",
          "2024-05-30T00:00:00.000000000",
          "2024-05-31T00:00:00.000000000",
          "2024-06-03T00:00:00.000000000",
          "2024-06-04T00:00:00.000000000",
          "2024-06-05T00:00:00.000000000",
          "2024-06-06T00:00:00.000000000",
          "2024-06-07T00:00:00.000000000",
          "2024-06-10T00:00:00.000000000",
          "2024-06-11T00:00:00.000000000",
          "2024-06-12T00:00:00.000000000",
          "2024-06-13T00:00:00.000000000",
          "2024-06-14T00:00:00.000000000",
          "2024-06-17T00:00:00.000000000",
          "2024-06-18T00:00:00.000000000",
          "2024-06-20T00:00:00.000000000",
          "2024-06-21T00:00:00.000000000",
          "2024-06-24T00:00:00.000000000",
          "2024-06-25T00:00:00.000000000",
          "2024-06-26T00:00:00.000000000",
          "2024-06-27T00:00:00.000000000",
          "2024-06-28T00:00:00.000000000",
          "2024-07-01T00:00:00.000000000",
          "2024-07-02T00:00:00.000000000",
          "2024-07-03T00:00:00.000000000",
          "2024-07-05T00:00:00.000000000",
          "2024-07-08T00:00:00.000000000",
          "2024-07-09T00:00:00.000000000",
          "2024-07-10T00:00:00.000000000",
          "2024-07-11T00:00:00.000000000",
          "2024-07-12T00:00:00.000000000",
          "2024-07-15T00:00:00.000000000",
          "2024-07-16T00:00:00.000000000",
          "2024-07-17T00:00:00.000000000",
          "2024-07-18T00:00:00.000000000",
          "2024-07-19T00:00:00.000000000",
          "2024-07-22T00:00:00.000000000",
          "2024-07-23T00:00:00.000000000",
          "2024-07-24T00:00:00.000000000",
          "2024-07-25T00:00:00.000000000",
          "2024-07-26T00:00:00.000000000",
          "2024-07-29T00:00:00.000000000",
          "2024-07-30T00:00:00.000000000"
         ],
         "xaxis": "x3",
         "y": {
          "bdata": "lZfH5G4JHEA5dqe3EE8yQNWgri3QFD5Af8xZPYzlQEDgBbsKL2lCQMenokCqi0FAMEZu5QBDO0Dn+/hIunMyQJlk5kkU1S5ARFDjHLI/QUA4FM9Yww9MQMWs793dllJAo+EBtyuZVEDsWoqlQE5VQCvHYZgox1ZAjXlsox7MVkDwmAK6XApXQMMWhWVTD1dA8Y9m3WJQV0DDmYgtuJtWQLNzALEBdVZAjAATZe2eVkAw0zuKiClXQOF526UgeFVA3zVyeABCVUDRXufFyeVUQNhaxNQfaVVACSFwKYMaT0DL1GFG741GQBtC0nWCIDxABGdWOazeQUD0+9BEHfVGQJuhq49/Qk1A65qy38zbUEDNrG/w3/ZRQMl17zZLTVRAjX3VT/SXVkBNZZmrVNhXQCuL8GZF7ldA+CqJToz4V0CbnaUaB4lXQJhoty/LxVZA3811X/wAV0CHhYYaudhWQOiN3jEjYFdAybyQ4v49V0BA8Eb0FmRXQIMn2YYabFVAvYO/zKGeVUB/JlUjDVtWQH2XKUNwplhAVe4oU6mbWEBP/GJX2hFYQEi2PVLCcVVAAYb1M5sBVUAPNy1cI6FQQOUGFMxWz0tAeGdN2EmIQkCz0RrHdHQ9QGDt3/7G0jZAgKSyXdl9MECjVR/0hwMvQP9PpmxelDRA8Rb9gmiAOkAgZgsTEuM2QAiVU95W5CpA1eciPRL1G0CdTEKkN6goQLFb3MczZy9A",
          "dtype": "f8"
         },
         "yaxis": "y3"
        },
        {
         "line": {
          "color": "blue"
         },
         "name": "MACD",
         "type": "scatter",
         "x": [
          "2024-04-22T00:00:00.000000000",
          "2024-04-23T00:00:00.000000000",
          "2024-04-24T00:00:00.000000000",
          "2024-04-25T00:00:00.000000000",
          "2024-04-26T00:00:00.000000000",
          "2024-04-29T00:00:00.000000000",
          "2024-04-30T00:00:00.000000000",
          "2024-05-01T00:00:00.000000000",
          "2024-05-02T00:00:00.000000000",
          "2024-05-03T00:00:00.000000000",
          "2024-05-06T00:00:00.000000000",
          "2024-05-07T00:00:00.000000000",
          "2024-05-08T00:00:00.000000000",
          "2024-05-09T00:00:00.000000000",
          "2024-05-10T00:00:00.000000000",
          "2024-05-13T00:00:00.000000000",
          "2024-05-14T00:00:00.000000000",
          "2024-05-15T00:00:00.000000000",
          "2024-05-16T00:00:00.000000000",
          "2024-05-17T00:00:00.000000000",
          "2024-05-20T00:00:00.000000000",
          "2024-05-21T00:00:00.000000000",
          "2024-05-22T00:00:00.000000000",
          "2024-05-23T00:00:00.000000000",
          "2024-05-24T00:00:00.000000000",
          "2024-05-28T00:00:00.000000000",
          "2024-05-29T00:00:00.000000000",
          "2024-05-30T00:00:00.000000000",
          "2024-05-31T00:00:00.000000000",
          "2024-06-03T00:00:00.000000000",
          "2024-06-04T00:00:00.000000000",
          "2024-06-05T00:00:00.000000000",
          "2024-06-06T00:00:00.000000000",
          "2024-06-07T00:00:00.000000000",
          "2024-06-10T00:00:00.000000000",
          "2024-06-11T00:00:00.000000000",
          "2024-06-12T00:00:00.000000000",
          "2024-06-13T00:00:00.000000000",
          "2024-06-14T00:00:00.000000000",
          "2024-06-17T00:00:00.000000000",
          "2024-06-18T00:00:00.000000000",
          "2024-06-20T00:00:00.000000000",
          "2024-06-21T00:00:00.000000000",
          "2024-06-24T00:00:00.000000000",
          "2024-06-25T00:00:00.000000000",
          "2024-06-26T00:00:00.000000000",
          "2024-06-27T00:00:00.000000000",
          "2024-06-28T00:00:00.000000000",
          "2024-07-01T00:00:00.000000000",
          "2024-07-02T00:00:00.000000000",
          "2024-07-03T00:00:00.000000000",
          "2024-07-05T00:00:00.000000000",
          "2024-07-08T00:00:00.000000000",
          "2024-07-09T00:00:00.000000000",
          "2024-07-10T00:00:00.000000000",
          "2024-07-11T00:00:00.000000000",
          "2024-07-12T00:00:00.000000000",
          "2024-07-15T00:00:00.000000000",
          "2024-07-16T00:00:00.000000000",
          "2024-07-17T00:00:00.000000000",
          "2024-07-18T00:00:00.000000000",
          "2024-07-19T00:00:00.000000000",
          "2024-07-22T00:00:00.000000000",
          "2024-07-23T00:00:00.000000000",
          "2024-07-24T00:00:00.000000000",
          "2024-07-25T00:00:00.000000000",
          "2024-07-26T00:00:00.000000000",
          "2024-07-29T00:00:00.000000000",
          "2024-07-30T00:00:00.000000000"
         ],
         "xaxis": "x4",
         "y": {
          "bdata": "gOKpb+etB8CAHVjmH+EIwAC4gz7RlQjAAKon4xZ4DsCAjmRn+BUOwAAfb58gBRDAgNjucMO5FMCAoOi/1mIWwIDiswCtgRbAwGoH/LKHE8CADYC+dI8NwAAwENMEdgjAgAZjGtRrA8AAO2SlEDv8vwDOc7aZgfC/AA6N/Eve4L8AgNW05ca5PwBD7mviyPE/ANGOuwuW+z+A+xI4SfoAQAA9KpmZjQZAALkhho0GDUAAOcZB7FoRQAA0BkTZQhJAwIc3jWnFE0CA4RNxqscUQMA2JGZw9xRAAO3DuT4/EEAA3UlDqQUJQADUuz/52gFAAOUwvxtU+z8AfAcPiZX+PwCIpvP0twBAAE4Sjdc3AUAAKiRLkPoDQAAD0FbN+whAwGLAzeb7EEBAiUaY03kUQADCEqRUSxdAQMWhTG8WG0CAHmM3bBodQACn2OiAJR5AgDtFIBbsH0AAqw2PYCMgQEAtOK/HnSBAoA4lpJ/+IEDAAFC1GTUhQID8ZxqbPCBAIC9Kwv7ZIECAa2keS4whQGCUudClISJAgBFw4hd3I0Ag1bQj6BMkQIDA7eOKQiNAwNmCY2F4I0AgBL71BJIhQIAHDld5ZR9AAKQIvls8HEBAvbdnXwUYQEAGA8fQhxJAgC4tAHIGCkAA5o0I6gD+PwDoSp9m1PM/AFh7uiAk7D8AmjeJZ+vlv4BXUqNy7AXAgJoybTssDsAAFT3kGq4RwEBLLHf4uRTA",
          "dtype": "f8"
         },
         "yaxis": "y4"
        },
        {
         "line": {
          "color": "red"
         },
         "name": "Signal",
         "type": "scatter",
         "x": [
          "2024-04-22T00:00:00.000000000",
          "2024-04-23T00:00:00.000000000",
          "2024-04-24T00:00:00.000000000",
          "2024-04-25T00:00:00.000000000",
          "2024-04-26T00:00:00.000000000",
          "2024-04-29T00:00:00.000000000",
          "2024-04-30T00:00:00.000000000",
          "2024-05-01T00:00:00.000000000",
          "2024-05-02T00:00:00.000000000",
          "2024-05-03T00:00:00.000000000",
          "2024-05-06T00:00:00.000000000",
          "2024-05-07T00:00:00.000000000",
          "2024-05-08T00:00:00.000000000",
          "2024-05-09T00:00:00.000000000",
          "2024-05-10T00:00:00.000000000",
          "2024-05-13T00:00:00.000000000",
          "2024-05-14T00:00:00.000000000",
          "2024-05-15T00:00:00.000000000",
          "2024-05-16T00:00:00.000000000",
          "2024-05-17T00:00:00.000000000",
          "2024-05-20T00:00:00.000000000",
          "2024-05-21T00:00:00.000000000",
          "2024-05-22T00:00:00.000000000",
          "2024-05-23T00:00:00.000000000",
          "2024-05-24T00:00:00.000000000",
          "2024-05-28T00:00:00.000000000",
          "2024-05-29T00:00:00.000000000",
          "2024-05-30T00:00:00.000000000",
          "2024-05-31T00:00:00.000000000",
          "2024-06-03T00:00:00.000000000",
          "2024-06-04T00:00:00.000000000",
          "2024-06-05T00:00:00.000000000",
          "2024-06-06T00:00:00.000000000",
          "2024-06-07T00:00:00.000000000",
          "2024-06-10T00:00:00.000000000",
          "2024-06-11T00:00:00.000000000",
          "2024-06-12T00:00:00.000000000",
          "2024-06-13T00:00:00.000000000",
          "2024-06-14T00:00:00.000000000",
          "2024-06-17T00:00:00.000000000",
          "2024-06-18T00:00:00.000000000",
          "2024-06-20T00:00:00.000000000",
          "2024-06-21T00:00:00.000000000",
          "2024-06-24T00:00:00.000000000",
          "2024-06-25T00:00:00.000000000",
          "2024-06-26T00:00:00.000000000",
          "2024-06-27T00:00:00.000000000",
          "2024-06-28T00:00:00.000000000",
          "2024-07-01T00:00:00.000000000",
          "2024-07-02T00:00:00.000000000",
          "2024-07-03T00:00:00.000000000",
          "2024-07-05T00:00:00.000000000",
          "2024-07-08T00:00:00.000000000",
          "2024-07-09T00:00:00.000000000",
          "2024-07-10T00:00:00.000000000",
          "2024-07-11T00:00:00.000000000",
          "2024-07-12T00:00:00.000000000",
          "2024-07-15T00:00:00.000000000",
          "2024-07-16T00:00:00.000000000",
          "2024-07-17T00:00:00.000000000",
          "2024-07-18T00:00:00.000000000",
          "2024-07-19T00:00:00.000000000",
          "2024-07-22T00:00:00.000000000",
          "2024-07-23T00:00:00.000000000",
          "2024-07-24T00:00:00.000000000",
          "2024-07-25T00:00:00.000000000",
          "2024-07-26T00:00:00.000000000",
          "2024-07-29T00:00:00.000000000",
          "2024-07-30T00:00:00.000000000"
         ],
         "xaxis": "x4",
         "y": {
          "bdata": "dNjWlFvIzT+e2AM12+Tbv9rpanpl0+6/vtRtJZiE+L8y40xHEKb/v3uascJGEQPAyWu6lVOLB8A7YyVeMsoLwDDdZRgHPA/AOtTD1VlmEMC7RHYkbRMQwPjdJv4VnQ7AekyZ0AhgDMBIdtEd74UJwDrzfxC1EQbAezY6QK5/AsAr34BUmkb9v4kL0foa3fO/DvKurFm/5L/A9rJQaSC4vw79Ukt6Qt8/A+Pqd7fc8T9pFvT6giz8PyqEyrLxkgJA1WzrLYXEBkB45F24roYKQEhmJomFmw1AoLAGuFAvDkDnHxQH/CYNQIbdaBKV5ApAUvsL1UY/CEAP7yNfxnQGQKYNPuMCTwVAhRoC0pN9BECeHTzqX2MEQH5L8/+oTgVAf/11hePWB0B/zq2nCkMLQJq/xceQIA9AsQ0JLFDeEUAOERv7iB0UQAsvdPcgHxZA8Jc3mesUGEDBisuzfLgZQE60HwkaORtAGZaO4oeTHEAuRcX9dr4dQPI1lNU2Sh5ANnHHK/j4HkDFuMnIF8wfQPzNdeBdWCBAfdunrRz4IEAEp91eRZchQB2sray57CFApBulN9s7IkAkSt2Q4xkiQHaiZcnbniFAX5K4zYXrIEDZ3BiRT+AfQO6xRwIDNR1A/xJxm9r3GUB/J/svVEYWQDKrjOGuzxJAtjxnpUyBD0BFzw9XqxsIQKIoxRaxzf0/0CtGAB+M5z/oyezZiubSvy7+hSR8XPS/",
          "dtype": "f8"
         },
         "yaxis": "y4"
        },
        {
         "marker": {
          "color": "rgba(0,255,0,0.3)"
         },
         "name": "MACD Diff",
         "type": "bar",
         "x": [
          "2024-04-22T00:00:00.000000000",
          "2024-04-23T00:00:00.000000000",
          "2024-04-24T00:00:00.000000000",
          "2024-04-25T00:00:00.000000000",
          "2024-04-26T00:00:00.000000000",
          "2024-04-29T00:00:00.000000000",
          "2024-04-30T00:00:00.000000000",
          "2024-05-01T00:00:00.000000000",
          "2024-05-02T00:00:00.000000000",
          "2024-05-03T00:00:00.000000000",
          "2024-05-06T00:00:00.000000000",
          "2024-05-07T00:00:00.000000000",
          "2024-05-08T00:00:00.000000000",
          "2024-05-09T00:00:00.000000000",
          "2024-05-10T00:00:00.000000000",
          "2024-05-13T00:00:00.000000000",
          "2024-05-14T00:00:00.000000000",
          "2024-05-15T00:00:00.000000000",
          "2024-05-16T00:00:00.000000000",
          "2024-05-17T00:00:00.000000000",
          "2024-05-20T00:00:00.000000000",
          "2024-05-21T00:00:00.000000000",
          "2024-05-22T00:00:00.000000000",
          "2024-05-23T00:00:00.000000000",
          "2024-05-24T00:00:00.000000000",
          "2024-05-28T00:00:00.000000000",
          "2024-05-29T00:00:00.000000000",
          "2024-05-30T00:00:00.000000000",
          "2024-05-31T00:00:00.000000000",
          "2024-06-03T00:00:00.000000000",
          "2024-06-04T00:00:00.000000000",
          "2024-06-05T00:00:00.000000000",
          "2024-06-06T00:00:00.000000000",
          "2024-06-07T00:00:00.000000000",
          "2024-06-10T00:00:00.000000000",
          "2024-06-11T00:00:00.000000000",
          "2024-06-12T00:00:00.000000000",
          "2024-06-13T00:00:00.000000000",
          "2024-06-14T00:00:00.000000000",
          "2024-06-17T00:00:00.000000000",
          "2024-06-18T00:00:00.000000000",
          "2024-06-20T00:00:00.000000000",
          "2024-06-21T00:00:00.000000000",
          "2024-06-24T00:00:00.000000000",
          "2024-06-25T00:00:00.000000000",
          "2024-06-26T00:00:00.000000000",
          "2024-06-27T00:00:00.000000000",
          "2024-06-28T00:00:00.000000000",
          "2024-07-01T00:00:00.000000000",
          "2024-07-02T00:00:00.000000000",
          "2024-07-03T00:00:00.000000000",
          "2024-07-05T00:00:00.000000000",
          "2024-07-08T00:00:00.000000000",
          "2024-07-09T00:00:00.000000000",
          "2024-07-10T00:00:00.000000000",
          "2024-07-11T00:00:00.000000000",
          "2024-07-12T00:00:00.000000000",
          "2024-07-15T00:00:00.000000000",
          "2024-07-16T00:00:00.000000000",
          "2024-07-17T00:00:00.000000000",
          "2024-07-18T00:00:00.000000000",
          "2024-07-19T00:00:00.000000000",
          "2024-07-22T00:00:00.000000000",
          "2024-07-23T00:00:00.000000000",
          "2024-07-24T00:00:00.000000000",
          "2024-07-25T00:00:00.000000000",
          "2024-07-26T00:00:00.000000000",
          "2024-07-29T00:00:00.000000000",
          "2024-07-30T00:00:00.000000000"
         ],
         "xaxis": "x4",
         "y": {
          "bdata": "B1D3KG2KCcBsord/hGQFwIr96N/34ADAob9w0Mo1AsDOOXyH4IX8vwpHWfj08fm/N0UjTDPoAcDF3ashe/sAwKDPA9Kljvu/MLQcMskK6b+w32NTLLvUP+C3WqxEnOg/9ItsbGno8T+QsT6WzdD2P3QYjGrQofs/9uUtgjaQ/D8rN86vCOP+P0SnX7P+0gJABCXzSNz6AkA2k5iCTLsBQF7dv09KpQJAfkcsyjEYBEDMZhIGl58EQNbjQdXA8gFAq6KD7E3GAEAQvZNTTBH+P3AORIa2pvg/AEsJ3GV50j+cCykPS4XgvwwTWqU3E/K/pBHn6nEq9b88xIBeB6jsv5gWXr43XOK/KGR+J+It2r+A5/zF5zOqvxC85bYiad0/ApAVLNRB9D8CiL4ROWH7P8yIvwAx7P4/Hm8xQT5wAkDkGpB4xvkBQOrvyOK/DABAQI42HKpc/z/8LD+pETn6P8iYQlXVCfg/nBzult2m9T9I8Wqz8a7yP3AY3vn6d+E/UGhnxirY5T/Y8Uig82PqP0BmPAR/lOw/GLBBptn38z/gcLkmFuXzPzBGAXQTXeU/wOHbvWLI4z+AwOhj0/vQv2Dr6d3xwe6/+AKidb9q9r9kfoSlwGv/v1xXiXZkWgXAfve0NkPpCcD+W69bM4wNwGTic3MqtQvAtmbIdkR4CMDFtV05hZYNwOh1WpelaRLAuhKilqEHEsBiSJ42sn8QwGmXFdyyRQ/A",
          "dtype": "f8"
         },
         "yaxis": "y4"
        },
        {
         "line": {
          "color": "gray",
          "dash": "dash"
         },
         "name": "BB Upper",
         "type": "scatter",
         "x": [
          "2024-04-22T00:00:00.000000000",
          "2024-04-23T00:00:00.000000000",
          "2024-04-24T00:00:00.000000000",
          "2024-04-25T00:00:00.000000000",
          "2024-04-26T00:00:00.000000000",
          "2024-04-29T00:00:00.000000000",
          "2024-04-30T00:00:00.000000000",
          "2024-05-01T00:00:00.000000000",
          "2024-05-02T00:00:00.000000000",
          "2024-05-03T00:00:00.000000000",
          "2024-05-06T00:00:00.000000000",
          "2024-05-07T00:00:00.000000000",
          "2024-05-08T00:00:00.000000000",
          "2024-05-09T00:00:00.000000000",
          "2024-05-10T00:00:00.000000000",
          "2024-05-13T00:00:00.000000000",
          "2024-05-14T00:00:00.000000000",
          "2024-05-15T00:00:00.000000000",
          "2024-05-16T00:00:00.000000000",
          "2024-05-17T00:00:00.000000000",
          "2024-05-20T00:00:00.000000000",
          "2024-05-21T00:00:00.000000000",
          "2024-05-22T00:00:00.000000000",
          "2024-05-23T00:00:00.000000000",
          "2024-05-24T00:00:00.000000000",
          "2024-05-28T00:00:00.000000000",
          "2024-05-29T00:00:00.000000000",
          "2024-05-30T00:00:00.000000000",
          "2024-05-31T00:00:00.000000000",
          "2024-06-03T00:00:00.000000000",
          "2024-06-04T00:00:00.000000000",
          "2024-06-05T00:00:00.000000000",
          "2024-06-06T00:00:00.000000000",
          "2024-06-07T00:00:00.000000000",
          "2024-06-10T00:00:00.000000000",
          "2024-06-11T00:00:00.000000000",
          "2024-06-12T00:00:00.000000000",
          "2024-06-13T00:00:00.000000000",
          "2024-06-14T00:00:00.000000000",
          "2024-06-17T00:00:00.000000000",
          "2024-06-18T00:00:00.000000000",
          "2024-06-20T00:00:00.000000000",
          "2024-06-21T00:00:00.000000000",
          "2024-06-24T00:00:00.000000000",
          "2024-06-25T00:00:00.000000000",
          "2024-06-26T00:00:00.000000000",
          "2024-06-27T00:00:00.000000000",
          "2024-06-28T00:00:00.000000000",
          "2024-07-01T00:00:00.000000000",
          "2024-07-02T00:00:00.000000000",
          "2024-07-03T00:00:00.000000000",
          "2024-07-05T00:00:00.000000000",
          "2024-07-08T00:00:00.000000000",
          "2024-07-09T00:00:00.000000000",
          "2024-07-10T00:00:00.000000000",
          "2024-07-11T00:00:00.000000000",
          "2024-07-12T00:00:00.000000000",
          "2024-07-15T00:00:00.000000000",
          "2024-07-16T00:00:00.000000000",
          "2024-07-17T00:00:00.000000000",
          "2024-07-18T00:00:00.000000000",
          "2024-07-19T00:00:00.000000000",
          "2024-07-22T00:00:00.000000000",
          "2024-07-23T00:00:00.000000000",
          "2024-07-24T00:00:00.000000000",
          "2024-07-25T00:00:00.000000000",
          "2024-07-26T00:00:00.000000000",
          "2024-07-29T00:00:00.000000000",
          "2024-07-30T00:00:00.000000000"
         ],
         "xaxis": "x5",
         "y": {
          "bdata": "RiGRVNsoe0DOGGkIcyR7QL5YzzqvHntARKdWHxwle0A70TPAJB57QIkLVpI1EHtADPq4L3cde0B9XuVruxd7QK393ZkxD3tApjsjyXLuekB0G/pxjtR6QLCnhZCXrHpA5T9oeFyNekB4bHXrIFh6QGr31NpBP3pAr+wHgHY/ekBqlXLrVkV6QDU1K+zZaHpAmy+B+HuIekApm7gBIqB6QFAsr/NBxXpAvd8JneXyekBE8e81gh97QPEMlQ/pN3tAgr9LT9dZe0CUCV5f03R7QDG7heksaXtAwqNt3Q5Ne0AnV6hMuTB7QPacCzrqJ3tApFimkfwme0CwXY+p2iV7QO1/LJCBJHtA1v0yPocie0BeGF3v9Ch7QD5WU7rON3tAbionNiFne0AcxdlYYJJ7QLufft7FuntA7Zf3Xebye0CuyCLujht8QPBunKkYPHxAb7VHJoFlfECSYsB/uYV8QNE/+yZFq3xA8tMZOZ3QfEDmM/OtYfR8QBg2c0Hz+HxAoIsuv4AOfUBnTxpckBt9QMYKOaVRJX1Amrk2MsBNfUDgbfy7hmV9QAEBHXDOWn1A5OED/IBhfUB+T30O7U99QOyYt0/6Sn1Axv5slKtEfUAKbVsF9Tx9QKYqH66XQn1Agzax0wBMfUA8rGkl4Fp9QIzRBo+dXn1A68Nz1v1ffUDBZSPNE359QGvpZkExr31A9I9iXcm8fUBnkFJXTsd9QC4R36Z4xn1A",
          "dtype": "f8"
         },
         "yaxis": "y5"
        },
        {
         "line": {
          "color": "gray",
          "dash": "dash"
         },
         "name": "BB Lower",
         "type": "scatter",
         "x": [
          "2024-04-22T00:00:00.000000000",
          "2024-04-23T00:00:00.000000000",
          "2024-04-24T00:00:00.000000000",
          "2024-04-25T00:00:00.000000000",
          "2024-04-26T00:00:00.000000000",
          "2024-04-29T00:00:00.000000000",
          "2024-04-30T00:00:00.000000000",
          "2024-05-01T00:00:00.000000000",
          "2024-05-02T00:00:00.000000000",
          "2024-05-03T00:00:00.000000000",
          "2024-05-06T00:00:00.000000000",
          "2024-05-07T00:00:00.000000000",
          "2024-05-08T00:00:00.000000000",
          "2024-05-09T00:00:00.000000000",
          "2024-05-10T00:00:00.000000000",
          "2024-05-13T00:00:00.000000000",
          "2024-05-14T00:00:00.000000000",
          "2024-05-15T00:00:00.000000000",
          "2024-05-16T00:00:00.000000000",
          "2024-05-17T00:00:00.000000000",
          "2024-05-20T00:00:00.000000000",
          "2024-05-21T00:00:00.000000000",
          "2024-05-22T00:00:00.000000000",
          "2024-05-23T00:00:00.000000000",
          "2024-05-24T00:00:00.000000000",
          "2024-05-28T00:00:00.000000000",
          "2024-05-29T00:00:00.000000000",
          "2024-05-30T00:00:00.000000000",
          "2024-05-31T00:00:00.000000000",
          "2024-06-03T00:00:00.000000000",
          "2024-06-04T00:00:00.000000000",
          "2024-06-05T00:00:00.000000000",
          "2024-06-06T00:00:00.000000000",
          "2024-06-07T00:00:00.000000000",
          "2024-06-10T00:00:00.000000000",
          "2024-06-11T00:00:00.000000000",
          "2024-06-12T00:00:00.000000000",
          "2024-06-13T00:00:00.000000000",
          "2024-06-14T00:00:00.000000000",
          "2024-06-17T00:00:00.000000000",
          "2024-06-18T00:00:00.000000000",
          "2024-06-20T00:00:00.000000000",
          "2024-06-21T00:00:00.000000000",
          "2024-06-24T00:00:00.000000000",
          "2024-06-25T00:00:00.000000000",
          "2024-06-26T00:00:00.000000000",
          "2024-06-27T00:00:00.000000000",
          "2024-06-28T00:00:00.000000000",
          "2024-07-01T00:00:00.000000000",
          "2024-07-02T00:00:00.000000000",
          "2024-07-03T00:00:00.000000000",
          "2024-07-05T00:00:00.000000000",
          "2024-07-08T00:00:00.000000000",
          "2024-07-09T00:00:00.000000000",
          "2024-07-10T00:00:00.000000000",
          "2024-07-11T00:00:00.000000000",
          "2024-07-12T00:00:00.000000000",
          "2024-07-15T00:00:00.000000000",
          "2024-07-16T00:00:00.000000000",
          "2024-07-17T00:00:00.000000000",
          "2024-07-18T00:00:00.000000000",
          "2024-07-19T00:00:00.000000000",
          "2024-07-22T00:00:00.000000000",
          "2024-07-23T00:00:00.000000000",
          "2024-07-24T00:00:00.000000000",
          "2024-07-25T00:00:00.000000000",
          "2024-07-26T00:00:00.000000000",
          "2024-07-29T00:00:00.000000000",
          "2024-07-30T00:00:00.000000000"
         ],
         "xaxis": "x5",
         "y": {
          "bdata": "hqs7mPceeUCYTf0d6Qp5QNxAyg6I/HhAVvJCOkjSeECR+5hcNcJ4QN1aEERurHhAKDl6Y8xreEBPbudAt0h4QO2bu68wMXhAJpGpc8IzeEAmfp+3+Dt4QOrxE/nUSHhA54xk9LVTeEC8xr2n9294QPxukfthfXhA66yRGU59eEBiN1qxmHp4QP/9B5cRaXhAyzblDTBkeECjMRR7SG54QEpt6pUqcHhAqYZcCeFkeEBWqKlzmlp4QEMmngPwbnhAfkC0oCZzeEAGkDsKFIV4QAN4rfl40HhACilfbygMeUBzQvH8J0R5QD6WJ+nwV3lAKHQm2+pceUCE1aOZhXV5QHnmOeY8jXlAkGgz6KmheUDWGtZDPrB5QCgQE3y6v3lALG9yM5u3eUAYblmq9al5QEVggVEXpHlAec5uKAWZeUBSN90x9pF5QBCRY2YUjHlA97Ae0HyBeUDUA6bmVoJ5QPuM0dUOfnlAdJJMbah7eUC0ZaZLx315QLSWWZvbrHlA+g1ret3ZeUD/FkwqBRZ6QG4o+v3IU3pAzKwvhAhxekC6K519Apx6QJmYfGnV33pA6OrIUIsWe0C247WkWkt7QK4A4klJZHtAbjTG3mZ+e0CQLD4kPJF7QPRueuvWg3tAF2PodeBwe0DEU5aqQlR7QNqUX5eTRXtASW+/PLA/e0BzzQ+WUv56QC+wMggxl3pAQKPQJXhdekD/1RMPmTJ6QAYiVCxW/XlA",
          "dtype": "f8"
         },
         "yaxis": "y5"
        },
        {
         "line": {
          "color": "gray"
         },
         "name": "BB Middle",
         "type": "scatter",
         "x": [
          "2024-04-22T00:00:00.000000000",
          "2024-04-23T00:00:00.000000000",
          "2024-04-24T00:00:00.000000000",
          "2024-04-25T00:00:00.000000000",
          "2024-04-26T00:00:00.000000000",
          "2024-04-29T00:00:00.000000000",
          "2024-04-30T00:00:00.000000000",
          "2024-05-01T00:00:00.000000000",
          "2024-05-02T00:00:00.000000000",
          "2024-05-03T00:00:00.000000000",
          "2024-05-06T00:00:00.000000000",
          "2024-05-07T00:00:00.000000000",
          "2024-05-08T00:00:00.000000000",
          "2024-05-09T00:00:00.000000000",
          "2024-05-10T00:00:00.000000000",
          "2024-05-13T00:00:00.000000000",
          "2024-05-14T00:00:00.000000000",
          "2024-05-15T00:00:00.000000000",
          "2024-05-16T00:00:00.000000000",
          "2024-05-17T00:00:00.000000000",
          "2024-05-20T00:00:00.000000000",
          "2024-05-21T00:00:00.000000000",
          "2024-05-22T00:00:00.000000000",
          "2024-05-23T00:00:00.000000000",
          "2024-05-24T00:00:00.000000000",
          "2024-05-28T00:00:00.000000000",
          "2024-05-29T00:00:00.000000000",
          "2024-05-30T00:00:00.000000000",
          "2024-05-31T00:00:00.000000000",
          "2024-06-03T00:00:00.000000000",
          "2024-06-04T00:00:00.000000000",
          "2024-06-05T00:00:00.000000000",
          "2024-06-06T00:00:00.000000000",
          "2024-06-07T00:00:00.000000000",
          "2024-06-10T00:00:00.000000000",
          "2024-06-11T00:00:00.000000000",
          "2024-06-12T00:00:00.000000000",
          "2024-06-13T00:00:00.000000000",
          "2024-06-14T00:00:00.000000000",
          "2024-06-17T00:00:00.000000000",
          "2024-06-18T00:00:00.000000000",
          "2024-06-20T00:00:00.000000000",
          "2024-06-21T00:00:00.000000000",
          "2024-06-24T00:00:00.000000000",
          "2024-06-25T00:00:00.000000000",
          "2024-06-26T00:00:00.000000000",
          "2024-06-27T00:00:00.000000000",
          "2024-06-28T00:00:00.000000000",
          "2024-07-01T00:00:00.000000000",
          "2024-07-02T00:00:00.000000000",
          "2024-07-03T00:00:00.000000000",
          "2024-07-05T00:00:00.000000000",
          "2024-07-08T00:00:00.000000000",
          "2024-07-09T00:00:00.000000000",
          "2024-07-10T00:00:00.000000000",
          "2024-07-11T00:00:00.000000000",
          "2024-07-12T00:00:00.000000000",
          "2024-07-15T00:00:00.000000000",
          "2024-07-16T00:00:00.000000000",
          "2024-07-17T00:00:00.000000000",
          "2024-07-18T00:00:00.000000000",
          "2024-07-19T00:00:00.000000000",
          "2024-07-22T00:00:00.000000000",
          "2024-07-23T00:00:00.000000000",
          "2024-07-24T00:00:00.000000000",
          "2024-07-25T00:00:00.000000000",
          "2024-07-26T00:00:00.000000000",
          "2024-07-29T00:00:00.000000000",
          "2024-07-30T00:00:00.000000000"
         ],
         "xaxis": "x5",
         "y": {
          "bdata": "ZmZmdukjekAzMzMTrhd6QM3MzKSbDXpAzczMLLL7eUBmZmYOLfB5QDMzM+tR3nlAmpmZyaHEeUBmZmZWObB5QM3MzCQxoHlAZmZmnhqReUDNzMyUQ4h5QM3MzES2enlAZmZmNolweUCamZlJDGR5QDMzM+tRXnlAzczMTGJeeUBmZmbO9195QJqZmcH1aHlAMzMzA1Z2eUBmZmY+NYd5QM3MzES2mnlAMzMzU+OreUDNzMxUDr15QJqZmYls03lAAAAA+H7meUDNzMy08/x5QJqZmfHSHHpAZmZmppssekDNzMykcDp6QJqZmZHtP3pAZmZmtvNBekCamZkhsE16QDMzMzvfWHpAMzMzkxhiekCamZmZmWx6QDMzM5vEe3pAzczMNF6PekCamZkBK556QAAAAJhur3pAMzMzw/XFekAAAACQwtZ6QAAAAIgW5HpAMzMz+37zekAzMzMzCAR7QGZmZv6pFHtAMzMz0yIme0DNzMx8FDl7QGZmZm7nUntAzczMHC90e0AzMzPDyph7QJqZmVGNvHtAMzMzW2Tfe0DNzMycxAB8QM3MzOxRHXxAZmZmJgY8fECamZnZo018QM3MzMyhV3xAmpmZOYlhfEDNzMyUGGd8QM3MzEw3Y3xAzczMpHBefEAAAABokVd8QDMzM5MYUnxAmpmZCddPfECamZkxMz58QM3MzCQxI3xAmpmZwSANfEAzMzOz8/x7QJqZmWnn4XtA",
          "dtype": "f8"
         },
         "yaxis": "y5"
        }
       ],
       "layout": {
        "annotations": [
         {
          "font": {
           "size": 16
          },
          "showarrow": false,
          "text": "MSFT Price and Indicators",
          "x": 0.5,
          "xanchor": "center",
          "xref": "paper",
          "y": 1,
          "yanchor": "bottom",
          "yref": "paper"
         },
         {
          "font": {
           "size": 16
          },
          "showarrow": false,
          "text": "Volume and VWAP",
          "x": 0.5,
          "xanchor": "center",
          "xref": "paper",
          "y": 0.63,
          "yanchor": "bottom",
          "yref": "paper"
         },
         {
          "font": {
           "size": 16
          },
          "showarrow": false,
          "text": "RSI and Stochastic",
          "x": 0.5,
          "xanchor": "center",
          "xref": "paper",
          "y": 0.45999999999999996,
          "yanchor": "bottom",
          "yref": "paper"
         },
         {
          "font": {
           "size": 16
          },
          "showarrow": false,
          "text": "MACD",
          "x": 0.5,
          "xanchor": "center",
          "xref": "paper",
          "y": 0.29,
          "yanchor": "bottom",
          "yref": "paper"
         },
         {
          "font": {
           "size": 16
          },
          "showarrow": false,
          "text": "Bollinger Bands",
          "x": 0.5,
          "xanchor": "center",
          "xref": "paper",
          "y": 0.12,
          "yanchor": "bottom",
          "yref": "paper"
         }
        ],
        "height": 1200,
        "legend": {
         "orientation": "h",
         "x": 1,
         "xanchor": "right",
         "y": 1.02,
         "yanchor": "bottom"
        },
        "shapes": [
         {
          "line": {
           "color": "red",
           "dash": "dash"
          },
          "type": "line",
          "x0": 0,
          "x1": 1,
          "xref": "x3 domain",
          "y0": 70,
          "y1": 70,
          "yref": "y3"
         },
         {
          "line": {
           "color": "green",
           "dash": "dash"
          },
          "type": "line",
          "x0": 0,
          "x1": 1,
          "xref": "x3 domain",
          "y0": 30,
          "y1": 30,
          "yref": "y3"
         }
        ],
        "showlegend": true,
        "template": {
         "data": {
          "bar": [
           {
            "error_x": {
             "color": "#2a3f5f"
            },
            "error_y": {
             "color": "#2a3f5f"
            },
            "marker": {
             "line": {
              "color": "white",
              "width": 0.5
             },
             "pattern": {
              "fillmode": "overlay",
              "size": 10,
              "solidity": 0.2
             }
            },
            "type": "bar"
           }
          ],
          "barpolar": [
           {
            "marker": {
             "line": {
              "color": "white",
              "width": 0.5
             },
             "pattern": {
              "fillmode": "overlay",
              "size": 10,
              "solidity": 0.2
             }
            },
            "type": "barpolar"
           }
          ],
          "carpet": [
           {
            "aaxis": {
             "endlinecolor": "#2a3f5f",
             "gridcolor": "#C8D4E3",
             "linecolor": "#C8D4E3",
             "minorgridcolor": "#C8D4E3",
             "startlinecolor": "#2a3f5f"
            },
            "baxis": {
             "endlinecolor": "#2a3f5f",
             "gridcolor": "#C8D4E3",
             "linecolor": "#C8D4E3",
             "minorgridcolor": "#C8D4E3",
             "startlinecolor": "#2a3f5f"
            },
            "type": "carpet"
           }
          ],
          "choropleth": [
           {
            "colorbar": {
             "outlinewidth": 0,
             "ticks": ""
            },
            "type": "choropleth"
           }
          ],
          "contour": [
           {
            "colorbar": {
             "outlinewidth": 0,
             "ticks": ""
            },
            "colorscale": [
             [
              0,
              "#0d0887"
             ],
             [
              0.1111111111111111,
              "#46039f"
             ],
             [
              0.2222222222222222,
              "#7201a8"
             ],
             [
              0.3333333333333333,
              "#9c179e"
             ],
             [
              0.4444444444444444,
              "#bd3786"
             ],
             [
              0.5555555555555556,
              "#d8576b"
             ],
             [
              0.6666666666666666,
              "#ed7953"
             ],
             [
              0.7777777777777778,
              "#fb9f3a"
             ],
             [
              0.8888888888888888,
              "#fdca26"
             ],
             [
              1,
              "#f0f921"
             ]
            ],
            "type": "contour"
           }
          ],
          "contourcarpet": [
           {
            "colorbar": {
             "outlinewidth": 0,
             "ticks": ""
            },
            "type": "contourcarpet"
           }
          ],
          "heatmap": [
           {
            "colorbar": {
             "outlinewidth": 0,
             "ticks": ""
            },
            "colorscale": [
             [
              0,
              "#0d0887"
             ],
             [
              0.1111111111111111,
              "#46039f"
             ],
             [
              0.2222222222222222,
              "#7201a8"
             ],
             [
              0.3333333333333333,
              "#9c179e"
             ],
             [
              0.4444444444444444,
              "#bd3786"
             ],
             [
              0.5555555555555556,
              "#d8576b"
             ],
             [
              0.6666666666666666,
              "#ed7953"
             ],
             [
              0.7777777777777778,
              "#fb9f3a"
             ],
             [
              0.8888888888888888,
              "#fdca26"
             ],
             [
              1,
              "#f0f921"
             ]
            ],
            "type": "heatmap"
           }
          ],
          "histogram": [
           {
            "marker": {
             "pattern": {
              "fillmode": "overlay",
              "size": 10,
              "solidity": 0.2
             }
            },
            "type": "histogram"
           }
          ],
          "histogram2d": [
           {
            "colorbar": {
             "outlinewidth": 0,
             "ticks": ""
            },
            "colorscale": [
             [
              0,
              "#0d0887"
             ],
             [
              0.1111111111111111,
              "#46039f"
             ],
             [
              0.2222222222222222,
              "#7201a8"
             ],
             [
              0.3333333333333333,
              "#9c179e"
             ],
             [
              0.4444444444444444,
              "#bd3786"
             ],
             [
              0.5555555555555556,
              "#d8576b"
             ],
             [
              0.6666666666666666,
              "#ed7953"
             ],
             [
              0.7777777777777778,
              "#fb9f3a"
             ],
             [
              0.8888888888888888,
              "#fdca26"
             ],
             [
              1,
              "#f0f921"
             ]
            ],
            "type": "histogram2d"
           }
          ],
          "histogram2dcontour": [
           {
            "colorbar": {
             "outlinewidth": 0,
             "ticks": ""
            },
            "colorscale": [
             [
              0,
              "#0d0887"
             ],
             [
              0.1111111111111111,
              "#46039f"
             ],
             [
              0.2222222222222222,
              "#7201a8"
             ],
             [
              0.3333333333333333,
              "#9c179e"
             ],
             [
              0.4444444444444444,
              "#bd3786"
             ],
             [
              0.5555555555555556,
              "#d8576b"
             ],
             [
              0.6666666666666666,
              "#ed7953"
             ],
             [
              0.7777777777777778,
              "#fb9f3a"
             ],
             [
              0.8888888888888888,
              "#fdca26"
             ],
             [
              1,
              "#f0f921"
             ]
            ],
            "type": "histogram2dcontour"
           }
          ],
          "mesh3d": [
           {
            "colorbar": {
             "outlinewidth": 0,
             "ticks": ""
            },
            "type": "mesh3d"
           }
          ],
          "parcoords": [
           {
            "line": {
             "colorbar": {
              "outlinewidth": 0,
              "ticks": ""
             }
            },
            "type": "parcoords"
           }
          ],
          "pie": [
           {
            "automargin": true,
            "type": "pie"
           }
          ],
          "scatter": [
           {
            "fillpattern": {
             "fillmode": "overlay",
             "size": 10,
             "solidity": 0.2
            },
            "type": "scatter"
           }
          ],
          "scatter3d": [
           {
            "line": {
             "colorbar": {
              "outlinewidth": 0,
              "ticks": ""
             }
            },
            "marker": {
             "colorbar": {
              "outlinewidth": 0,
              "ticks": ""
             }
            },
            "type": "scatter3d"
           }
          ],
          "scattercarpet": [
           {
            "marker": {
             "colorbar": {
              "outlinewidth": 0,
              "ticks": ""
             }
            },
            "type": "scattercarpet"
           }
          ],
          "scattergeo": [
           {
            "marker": {
             "colorbar": {
              "outlinewidth": 0,
              "ticks": ""
             }
            },
            "type": "scattergeo"
           }
          ],
          "scattergl": [
           {
            "marker": {
             "colorbar": {
              "outlinewidth": 0,
              "ticks": ""
             }
            },
            "type": "scattergl"
           }
          ],
          "scattermap": [
           {
            "marker": {
             "colorbar": {
              "outlinewidth": 0,
              "ticks": ""
             }
            },
            "type": "scattermap"
           }
          ],
          "scattermapbox": [
           {
            "marker": {
             "colorbar": {
              "outlinewidth": 0,
              "ticks": ""
             }
            },
            "type": "scattermapbox"
           }
          ],
          "scatterpolar": [
           {
            "marker": {
             "colorbar": {
              "outlinewidth": 0,
              "ticks": ""
             }
            },
            "type": "scatterpolar"
           }
          ],
          "scatterpolargl": [
           {
            "marker": {
             "colorbar": {
              "outlinewidth": 0,
              "ticks": ""
             }
            },
            "type": "scatterpolargl"
           }
          ],
          "scatterternary": [
           {
            "marker": {
             "colorbar": {
              "outlinewidth": 0,
              "ticks": ""
             }
            },
            "type": "scatterternary"
           }
          ],
          "surface": [
           {
            "colorbar": {
             "outlinewidth": 0,
             "ticks": ""
            },
            "colorscale": [
             [
              0,
              "#0d0887"
             ],
             [
              0.1111111111111111,
              "#46039f"
             ],
             [
              0.2222222222222222,
              "#7201a8"
             ],
             [
              0.3333333333333333,
              "#9c179e"
             ],
             [
              0.4444444444444444,
              "#bd3786"
             ],
             [
              0.5555555555555556,
              "#d8576b"
             ],
             [
              0.6666666666666666,
              "#ed7953"
             ],
             [
              0.7777777777777778,
              "#fb9f3a"
             ],
             [
              0.8888888888888888,
              "#fdca26"
             ],
             [
              1,
              "#f0f921"
             ]
            ],
            "type": "surface"
           }
          ],
          "table": [
           {
            "cells": {
             "fill": {
              "color": "#EBF0F8"
             },
             "line": {
              "color": "white"
             }
            },
            "header": {
             "fill": {
              "color": "#C8D4E3"
             },
             "line": {
              "color": "white"
             }
            },
            "type": "table"
           }
          ]
         },
         "layout": {
          "annotationdefaults": {
           "arrowcolor": "#2a3f5f",
           "arrowhead": 0,
           "arrowwidth": 1
          },
          "autotypenumbers": "strict",
          "coloraxis": {
           "colorbar": {
            "outlinewidth": 0,
            "ticks": ""
           }
          },
          "colorscale": {
           "diverging": [
            [
             0,
             "#8e0152"
            ],
            [
             0.1,
             "#c51b7d"
            ],
            [
             0.2,
             "#de77ae"
            ],
            [
             0.3,
             "#f1b6da"
            ],
            [
             0.4,
             "#fde0ef"
            ],
            [
             0.5,
             "#f7f7f7"
            ],
            [
             0.6,
             "#e6f5d0"
            ],
            [
             0.7,
             "#b8e186"
            ],
            [
             0.8,
             "#7fbc41"
            ],
            [
             0.9,
             "#4d9221"
            ],
            [
             1,
             "#276419"
            ]
           ],
           "sequential": [
            [
             0,
             "#0d0887"
            ],
            [
             0.1111111111111111,
             "#46039f"
            ],
            [
             0.2222222222222222,
             "#7201a8"
            ],
            [
             0.3333333333333333,
             "#9c179e"
            ],
            [
             0.4444444444444444,
             "#bd3786"
            ],
            [
             0.5555555555555556,
             "#d8576b"
            ],
            [
             0.6666666666666666,
             "#ed7953"
            ],
            [
             0.7777777777777778,
             "#fb9f3a"
            ],
            [
             0.8888888888888888,
             "#fdca26"
            ],
            [
             1,
             "#f0f921"
            ]
           ],
           "sequentialminus": [
            [
             0,
             "#0d0887"
            ],
            [
             0.1111111111111111,
             "#46039f"
            ],
            [
             0.2222222222222222,
             "#7201a8"
            ],
            [
             0.3333333333333333,
             "#9c179e"
            ],
            [
             0.4444444444444444,
             "#bd3786"
            ],
            [
             0.5555555555555556,
             "#d8576b"
            ],
            [
             0.6666666666666666,
             "#ed7953"
            ],
            [
             0.7777777777777778,
             "#fb9f3a"
            ],
            [
             0.8888888888888888,
             "#fdca26"
            ],
            [
             1,
             "#f0f921"
            ]
           ]
          },
          "colorway": [
           "#636efa",
           "#EF553B",
           "#00cc96",
           "#ab63fa",
           "#FFA15A",
           "#19d3f3",
           "#FF6692",
           "#B6E880",
           "#FF97FF",
           "#FECB52"
          ],
          "font": {
           "color": "#2a3f5f"
          },
          "geo": {
           "bgcolor": "white",
           "lakecolor": "white",
           "landcolor": "white",
           "showlakes": true,
           "showland": true,
           "subunitcolor": "#C8D4E3"
          },
          "hoverlabel": {
           "align": "left"
          },
          "hovermode": "closest",
          "mapbox": {
           "style": "light"
          },
          "paper_bgcolor": "white",
          "plot_bgcolor": "white",
          "polar": {
           "angularaxis": {
            "gridcolor": "#EBF0F8",
            "linecolor": "#EBF0F8",
            "ticks": ""
           },
           "bgcolor": "white",
           "radialaxis": {
            "gridcolor": "#EBF0F8",
            "linecolor": "#EBF0F8",
            "ticks": ""
           }
          },
          "scene": {
           "xaxis": {
            "backgroundcolor": "white",
            "gridcolor": "#DFE8F3",
            "gridwidth": 2,
            "linecolor": "#EBF0F8",
            "showbackground": true,
            "ticks": "",
            "zerolinecolor": "#EBF0F8"
           },
           "yaxis": {
            "backgroundcolor": "white",
            "gridcolor": "#DFE8F3",
            "gridwidth": 2,
            "linecolor": "#EBF0F8",
            "showbackground": true,
            "ticks": "",
            "zerolinecolor": "#EBF0F8"
           },
           "zaxis": {
            "backgroundcolor": "white",
            "gridcolor": "#DFE8F3",
            "gridwidth": 2,
            "linecolor": "#EBF0F8",
            "showbackground": true,
            "ticks": "",
            "zerolinecolor": "#EBF0F8"
           }
          },
          "shapedefaults": {
           "line": {
            "color": "#2a3f5f"
           }
          },
          "ternary": {
           "aaxis": {
            "gridcolor": "#DFE8F3",
            "linecolor": "#A2B1C6",
            "ticks": ""
           },
           "baxis": {
            "gridcolor": "#DFE8F3",
            "linecolor": "#A2B1C6",
            "ticks": ""
           },
           "bgcolor": "white",
           "caxis": {
            "gridcolor": "#DFE8F3",
            "linecolor": "#A2B1C6",
            "ticks": ""
           }
          },
          "title": {
           "x": 0.05
          },
          "xaxis": {
           "automargin": true,
           "gridcolor": "#EBF0F8",
           "linecolor": "#EBF0F8",
           "ticks": "",
           "title": {
            "standoff": 15
           },
           "zerolinecolor": "#EBF0F8",
           "zerolinewidth": 2
          },
          "yaxis": {
           "automargin": true,
           "gridcolor": "#EBF0F8",
           "linecolor": "#EBF0F8",
           "ticks": "",
           "title": {
            "standoff": 15
           },
           "zerolinecolor": "#EBF0F8",
           "zerolinewidth": 2
          }
         }
        },
        "title": {
         "text": "MSFT Technical Analysis Dashboard"
        },
        "xaxis": {
         "anchor": "y",
         "domain": [
          0,
          1
         ],
         "matches": "x5",
         "rangeslider": {
          "visible": false
         },
         "showticklabels": false
        },
        "xaxis2": {
         "anchor": "y2",
         "domain": [
          0,
          1
         ],
         "matches": "x5",
         "showticklabels": false
        },
        "xaxis3": {
         "anchor": "y3",
         "domain": [
          0,
          1
         ],
         "matches": "x5",
         "showticklabels": false
        },
        "xaxis4": {
         "anchor": "y4",
         "domain": [
          0,
          1
         ],
         "matches": "x5",
         "showticklabels": false
        },
        "xaxis5": {
         "anchor": "y5",
         "domain": [
          0,
          1
         ]
        },
        "yaxis": {
         "anchor": "x",
         "domain": [
          0.6799999999999999,
          1
         ],
         "title": {
          "text": "Price"
         }
        },
        "yaxis2": {
         "anchor": "x2",
         "domain": [
          0.51,
          0.63
         ],
         "title": {
          "text": "Volume"
         }
        },
        "yaxis3": {
         "anchor": "x3",
         "domain": [
          0.33999999999999997,
          0.45999999999999996
         ],
         "title": {
          "text": "RSI/Stochastic"
         }
        },
        "yaxis4": {
         "anchor": "x4",
         "domain": [
          0.16999999999999998,
          0.29
         ],
         "title": {
          "text": "MACD"
         }
        },
        "yaxis5": {
         "anchor": "x5",
         "domain": [
          0,
          0.12
         ],
         "title": {
          "text": "Bollinger Bands"
         }
        }
       }
      }
     },
     "metadata": {},
     "output_type": "display_data"
    },
    {
     "name": "stdout",
     "output_type": "stream",
     "text": [
      "\n",
      "Generating dashboard for NVDA...\n"
     ]
    },
    {
     "data": {
      "application/vnd.plotly.v1+json": {
       "config": {
        "plotlyServerURL": "https://plot.ly"
       },
       "data": [
        {
         "close": {
          "bdata": "AAAA4CbhU0AAAABgEptUQAAAAABU61NAAAAAwHKoVEAAAABACu9VQAAAAMBy8FVAAAAAYLqZVUAAAADAn8JUQAAAAMBJdFVAAAAAAH8yVkAAAADA9QhXQAEAAMB0o1ZAAAAAQF6aVkAAAADgzi9WQAAAACAxeFZAAQAAQImZVkABAADAyNZWQP///99RqFdA////3/mWV0ABAADgpx5XQAAAAIDrsVdAAAAAQLTYV0ABAADAzLxXQAAAAOAi81lA////HwSeWkAAAAAAqnlcQAEAAMDMtFxAAAAAAACgW0AAAAAgg2hbQAAAAAAAwFxAAAAAwPcbXUD/////KJxeQP///z/fP15A/////9Q4XkAAAABgj3JeQAAAAIA9Ol5AAQAAwMxMX0AAAAAghTNgQAAAAAApfGBAAAAAIFxfYEAAAABgj/JgQAAAAMD1WGBAAAAA4HqkX0AAAABACoddQAAAAIDChV9AAAAAoJmZX0D///8fXP9eQAAAAGCP4l5A////PzMTX0ABAABA4apeQAAAAMD1CGBA////vx51X0AAAABgZgZgQAAAAAApbGBAAAAAwB7dYEAAAACgmdlfQAAAACCuJ2BAAAAAgBQOYEAAAABACpdfQP///x9cf11AAAAAgMJFXkAAAAAghXtdQAAAAGCP4l5AAAAAgMKlXkAAAAAAAJBcQAAAAIDrEVxAAQAAANdDXEAAAACAwuVbQAAAAGC47llA",
          "dtype": "f8"
         },
         "high": {
          "bdata": "AAAAAKwEVEAAAABAN7FUQAAAAIA/BVVAAAAAAKzUVEAAAAAgLxVWQAAAAOB8/1VAAAAAgGo0VkAAAAAAAIBVQAAAAAArj1VAAAAA4PtRVkAAAACAFA5XQAEAAOD78VZAAAAAgGrMVkAAAACgm8RWQAAAAACq2VZA////P9+/VkAAAAAAqulWQAEAAAArt1dAAAAAgGr0V0D///8fXK9XQAEAAMDMzFdAAAAAoJnZV0AAAACgRwFYQAAAAOB6lFpAAAAAYGaeWkAAAACgGLxcQAAAAOB831xAAAAAgGr0XEAAAABg4y1cQAAAAAAAwFxAAAAAYGYmXUAAAABgvJxeQAAAAGCRZV9AAAAAwElsXkAAAABgZsZeQAEAACCut15A////31G4X0AAAACgmTlgQAAAAEDhmmBAAAAAIFy3YEAAAABgjwphQAAAAOBRmGFAAAAAAClUYEAAAACgcB1fQAAAAAAAoF9AAAAAANcDYEAAAACAPZpfQAAAAKBw7V9AAAAAgMI1X0AAAACAPdpeQAAAAMD1CGBAAAAAQDMbYEAAAADgo1hgQAAAAIA9umBAAAAAQDPjYEAAAADAzARhQAAAAKBwfWBAAAAA4HpsYEAAAACgRyFgQAAAAGBmdl5AAAAAoJmZXkAAAABgZmZeQAAAAOB6BF9A/////ygsX0ABAADAzPxdQP///99RKF1AAQAAwMwMXUAAAACA6xFdQP///x9c/1tA",
          "dtype": "f8"
         },
         "low": {
          "bdata": "AAAAoJkZU0AAAABg5RBUQAAAAEC2y1NAAAAAoEWOU0AAAACgxNhUQAAAACAGUVVAAAAAQDOTVUAAAADgUVBUQAAAAMDMzFRAAAAAYI/CVUAAAAAghUNWQAAAAEC0QFZAAAAAQOFaVkAAAADAyA5WQAAAACCHTlZAAAAAINshVkAAAACgxjtWQAAAAABW5lZAAAAAgJeGV0AAAACAlfNWQP////8oXFdAAAAAIIVLV0AAAACg709XQAAAAKBHYVlAAAAAAADAWUAAAAAgg3hbQAAAAACquVtAAAAAoG5qW0D/////KLxaQAAAACAxAFxAAQAAQOGCXEAAAADA811dQAAAAOB6lF1AAAAAgGiBXUABAADgo0BdQP///x9cr11AAAAA4HqkXkAAAACAPcpfQAAAAIA9CmBAAAAAYI8yYEAAAACAFFZgQAAAAOCjMGBA////PzMTX0AAAABgj4JdQAAAAOB61F1AAAAAYGamXkABAABA4bpeQAAAAAAAsF5A////vx61XUAAAACA60FeQAAAAEAKV15AAAAAIIVrX0AAAABgj8JfQAAAAMDMFGBAAAAAoHCNYED///8/M8NfQAAAAIAUzl9AAAAAIIXLX0D///+/HiVfQAAAAIAULl1AAQAAANcjXUABAAAgrlddQAAAAEAK911AAAAAYGaGXkD/////KFxcQP///z8zk1pA////vx7lW0D///8/M9NbQAAAAGCPollA",
          "dtype": "f8"
         },
         "name": "OHLC",
         "open": {
          "bdata": "AAAA4KeGU0AAAABANzFUQAAAAMDM/FRAAAAAQI23U0AAAAAgWvRUQAAAAIAU5lVAAAAAIFzPVUAAAACg7URVQAAAAGC8HFVAAAAAAH/yVUAAAADA9VhWQAAAAKBFxlZAAAAAgOleVkAAAAAg26FWQAAAACCFk1ZAAAAAgJeeVkAAAAAAVmZWQAEAAEA1HldAAAAAgD26V0AAAADAnZdXQAAAAAAAcFdAAAAAAFZmV0AAAABAYN1XQP///7/KgVlAAAAAYLwcWkAAAADAnY9bQP///z8zQ1xAAAAAoJmpXEAAAACgRyFcQAAAAIC+Z1xAAQAAANPtXEAAAACAvpddQAAAAGASA19AAAAAoEfxXUABAAAgrhdeQAAAAKBHcV5AAQAAANfDXkAAAADgeixgQAAAAGC4PmBAAAAAIK6fYEAAAADgemRgQAAAAKCZeWFAAQAAIK7HX0D///8fXM9eQAEAAMDMTF5A////31GIX0AAAABgZgZfQP///78eJV9AAAAAgBTeXkD////fUUheQAAAAIA9al5A////31HYX0D///8fXN9fQAAAAEAzS2BAAAAAwPXAYEAAAAAAAPhgQAAAAOBRCGBAAAAAgOtRYEAAAACAFA5gQAAAAGBmVl5AAAAAYGZ2XkAAAABgZhZeQAAAAGBmFl5AAAAAgOuxXkABAABA4cpdQAAAAGCPQlxA/////ygMXUD/////KGxcQAAAAKBH4VtA",
          "dtype": "f8"
         },
         "type": "candlestick",
         "x": [
          "2024-04-22T00:00:00.000000000",
          "2024-04-23T00:00:00.000000000",
          "2024-04-24T00:00:00.000000000",
          "2024-04-25T00:00:00.000000000",
          "2024-04-26T00:00:00.000000000",
          "2024-04-29T00:00:00.000000000",
          "2024-04-30T00:00:00.000000000",
          "2024-05-01T00:00:00.000000000",
          "2024-05-02T00:00:00.000000000",
          "2024-05-03T00:00:00.000000000",
          "2024-05-06T00:00:00.000000000",
          "2024-05-07T00:00:00.000000000",
          "2024-05-08T00:00:00.000000000",
          "2024-05-09T00:00:00.000000000",
          "2024-05-10T00:00:00.000000000",
          "2024-05-13T00:00:00.000000000",
          "2024-05-14T00:00:00.000000000",
          "2024-05-15T00:00:00.000000000",
          "2024-05-16T00:00:00.000000000",
          "2024-05-17T00:00:00.000000000",
          "2024-05-20T00:00:00.000000000",
          "2024-05-21T00:00:00.000000000",
          "2024-05-22T00:00:00.000000000",
          "2024-05-23T00:00:00.000000000",
          "2024-05-24T00:00:00.000000000",
          "2024-05-28T00:00:00.000000000",
          "2024-05-29T00:00:00.000000000",
          "2024-05-30T00:00:00.000000000",
          "2024-05-31T00:00:00.000000000",
          "2024-06-03T00:00:00.000000000",
          "2024-06-04T00:00:00.000000000",
          "2024-06-05T00:00:00.000000000",
          "2024-06-06T00:00:00.000000000",
          "2024-06-07T00:00:00.000000000",
          "2024-06-10T00:00:00.000000000",
          "2024-06-11T00:00:00.000000000",
          "2024-06-12T00:00:00.000000000",
          "2024-06-13T00:00:00.000000000",
          "2024-06-14T00:00:00.000000000",
          "2024-06-17T00:00:00.000000000",
          "2024-06-18T00:00:00.000000000",
          "2024-06-20T00:00:00.000000000",
          "2024-06-21T00:00:00.000000000",
          "2024-06-24T00:00:00.000000000",
          "2024-06-25T00:00:00.000000000",
          "2024-06-26T00:00:00.000000000",
          "2024-06-27T00:00:00.000000000",
          "2024-06-28T00:00:00.000000000",
          "2024-07-01T00:00:00.000000000",
          "2024-07-02T00:00:00.000000000",
          "2024-07-03T00:00:00.000000000",
          "2024-07-05T00:00:00.000000000",
          "2024-07-08T00:00:00.000000000",
          "2024-07-09T00:00:00.000000000",
          "2024-07-10T00:00:00.000000000",
          "2024-07-11T00:00:00.000000000",
          "2024-07-12T00:00:00.000000000",
          "2024-07-15T00:00:00.000000000",
          "2024-07-16T00:00:00.000000000",
          "2024-07-17T00:00:00.000000000",
          "2024-07-18T00:00:00.000000000",
          "2024-07-19T00:00:00.000000000",
          "2024-07-22T00:00:00.000000000",
          "2024-07-23T00:00:00.000000000",
          "2024-07-24T00:00:00.000000000",
          "2024-07-25T00:00:00.000000000",
          "2024-07-26T00:00:00.000000000",
          "2024-07-29T00:00:00.000000000",
          "2024-07-30T00:00:00.000000000"
         ],
         "xaxis": "x",
         "yaxis": "y"
        },
        {
         "line": {
          "color": "blue"
         },
         "name": "SMA_20",
         "type": "scatter",
         "x": [
          "2024-04-22T00:00:00.000000000",
          "2024-04-23T00:00:00.000000000",
          "2024-04-24T00:00:00.000000000",
          "2024-04-25T00:00:00.000000000",
          "2024-04-26T00:00:00.000000000",
          "2024-04-29T00:00:00.000000000",
          "2024-04-30T00:00:00.000000000",
          "2024-05-01T00:00:00.000000000",
          "2024-05-02T00:00:00.000000000",
          "2024-05-03T00:00:00.000000000",
          "2024-05-06T00:00:00.000000000",
          "2024-05-07T00:00:00.000000000",
          "2024-05-08T00:00:00.000000000",
          "2024-05-09T00:00:00.000000000",
          "2024-05-10T00:00:00.000000000",
          "2024-05-13T00:00:00.000000000",
          "2024-05-14T00:00:00.000000000",
          "2024-05-15T00:00:00.000000000",
          "2024-05-16T00:00:00.000000000",
          "2024-05-17T00:00:00.000000000",
          "2024-05-20T00:00:00.000000000",
          "2024-05-21T00:00:00.000000000",
          "2024-05-22T00:00:00.000000000",
          "2024-05-23T00:00:00.000000000",
          "2024-05-24T00:00:00.000000000",
          "2024-05-28T00:00:00.000000000",
          "2024-05-29T00:00:00.000000000",
          "2024-05-30T00:00:00.000000000",
          "2024-05-31T00:00:00.000000000",
          "2024-06-03T00:00:00.000000000",
          "2024-06-04T00:00:00.000000000",
          "2024-06-05T00:00:00.000000000",
          "2024-06-06T00:00:00.000000000",
          "2024-06-07T00:00:00.000000000",
          "2024-06-10T00:00:00.000000000",
          "2024-06-11T00:00:00.000000000",
          "2024-06-12T00:00:00.000000000",
          "2024-06-13T00:00:00.000000000",
          "2024-06-14T00:00:00.000000000",
          "2024-06-17T00:00:00.000000000",
          "2024-06-18T00:00:00.000000000",
          "2024-06-20T00:00:00.000000000",
          "2024-06-21T00:00:00.000000000",
          "2024-06-24T00:00:00.000000000",
          "2024-06-25T00:00:00.000000000",
          "2024-06-26T00:00:00.000000000",
          "2024-06-27T00:00:00.000000000",
          "2024-06-28T00:00:00.000000000",
          "2024-07-01T00:00:00.000000000",
          "2024-07-02T00:00:00.000000000",
          "2024-07-03T00:00:00.000000000",
          "2024-07-05T00:00:00.000000000",
          "2024-07-08T00:00:00.000000000",
          "2024-07-09T00:00:00.000000000",
          "2024-07-10T00:00:00.000000000",
          "2024-07-11T00:00:00.000000000",
          "2024-07-12T00:00:00.000000000",
          "2024-07-15T00:00:00.000000000",
          "2024-07-16T00:00:00.000000000",
          "2024-07-17T00:00:00.000000000",
          "2024-07-18T00:00:00.000000000",
          "2024-07-19T00:00:00.000000000",
          "2024-07-22T00:00:00.000000000",
          "2024-07-23T00:00:00.000000000",
          "2024-07-24T00:00:00.000000000",
          "2024-07-25T00:00:00.000000000",
          "2024-07-26T00:00:00.000000000",
          "2024-07-29T00:00:00.000000000",
          "2024-07-30T00:00:00.000000000"
         ],
         "xaxis": "x",
         "y": {
          "bdata": "ZmZmJn7WVUBmZmZuPa5VQM3MzNwChVVAMzMzM6JsVUAzMzMTP2RVQGZmZj7oW1VAZmZmriVSVUAAAACQMT9VQJqZmXnpPlVAzczMRGlBVUAAAAAAb1FVQAAAANgSYlVAmpmZAd5sVUDNzMzs4mZVQDMzMwNNbFVAMzMz2196VUAzMzNT/IZVQGZmZr7jqFVAAAAAKOTHVUCamZnp+/tVQDMzM4vSLFZAZmZm1k1WVkCamZl5LYdWQDMzM3vpylZAAAAAYNwGV0CamZmJhVpXQAAAAKh5tVdAmpmZEVgNWEAzMzMjjllYQAAAADBurVhAmpmZSS77WEDNzMxMN2FZQJqZmVkXw1lAmpmZQfEpWkCamZmRD5BaQGZmZi6y8VpAZmZmLv9dW0DNzMzM7s1bQJqZmQEARlxAZmZmBjTBXEAzMzNjw0NdQGZmZiYGtV1AmpmZQTUaXkAzMzPTAEheQAAAAFjKhl5AZmZmhsmuXkBmZmZ+HcxeQM3MzNzX9V5AmpmZEcckX0DNzMxUUj1fQGZmZh44Y19AzczMNBFuX0DNzMwUHYVfQJqZmSGwpl9AmpmZCazQX0DNzMykcOVfQAAAADhe8l9AmpmZwZ/uX0DNzMzE9dxfQM3MzFxks19AZmZmJgaFX0BmZmZu51tfQJqZmUE1Ul9AzczMRItgX0CamZnxpzpfQGZmZtZ4DV9AMzMz+37qXkCamZmJQcReQAAAAJhugl5A",
          "dtype": "f8"
         },
         "yaxis": "y"
        },
        {
         "line": {
          "color": "orange"
         },
         "name": "SMA_50",
         "type": "scatter",
         "x": [
          "2024-04-22T00:00:00.000000000",
          "2024-04-23T00:00:00.000000000",
          "2024-04-24T00:00:00.000000000",
          "2024-04-25T00:00:00.000000000",
          "2024-04-26T00:00:00.000000000",
          "2024-04-29T00:00:00.000000000",
          "2024-04-30T00:00:00.000000000",
          "2024-05-01T00:00:00.000000000",
          "2024-05-02T00:00:00.000000000",
          "2024-05-03T00:00:00.000000000",
          "2024-05-06T00:00:00.000000000",
          "2024-05-07T00:00:00.000000000",
          "2024-05-08T00:00:00.000000000",
          "2024-05-09T00:00:00.000000000",
          "2024-05-10T00:00:00.000000000",
          "2024-05-13T00:00:00.000000000",
          "2024-05-14T00:00:00.000000000",
          "2024-05-15T00:00:00.000000000",
          "2024-05-16T00:00:00.000000000",
          "2024-05-17T00:00:00.000000000",
          "2024-05-20T00:00:00.000000000",
          "2024-05-21T00:00:00.000000000",
          "2024-05-22T00:00:00.000000000",
          "2024-05-23T00:00:00.000000000",
          "2024-05-24T00:00:00.000000000",
          "2024-05-28T00:00:00.000000000",
          "2024-05-29T00:00:00.000000000",
          "2024-05-30T00:00:00.000000000",
          "2024-05-31T00:00:00.000000000",
          "2024-06-03T00:00:00.000000000",
          "2024-06-04T00:00:00.000000000",
          "2024-06-05T00:00:00.000000000",
          "2024-06-06T00:00:00.000000000",
          "2024-06-07T00:00:00.000000000",
          "2024-06-10T00:00:00.000000000",
          "2024-06-11T00:00:00.000000000",
          "2024-06-12T00:00:00.000000000",
          "2024-06-13T00:00:00.000000000",
          "2024-06-14T00:00:00.000000000",
          "2024-06-17T00:00:00.000000000",
          "2024-06-18T00:00:00.000000000",
          "2024-06-20T00:00:00.000000000",
          "2024-06-21T00:00:00.000000000",
          "2024-06-24T00:00:00.000000000",
          "2024-06-25T00:00:00.000000000",
          "2024-06-26T00:00:00.000000000",
          "2024-06-27T00:00:00.000000000",
          "2024-06-28T00:00:00.000000000",
          "2024-07-01T00:00:00.000000000",
          "2024-07-02T00:00:00.000000000",
          "2024-07-03T00:00:00.000000000",
          "2024-07-05T00:00:00.000000000",
          "2024-07-08T00:00:00.000000000",
          "2024-07-09T00:00:00.000000000",
          "2024-07-10T00:00:00.000000000",
          "2024-07-11T00:00:00.000000000",
          "2024-07-12T00:00:00.000000000",
          "2024-07-15T00:00:00.000000000",
          "2024-07-16T00:00:00.000000000",
          "2024-07-17T00:00:00.000000000",
          "2024-07-18T00:00:00.000000000",
          "2024-07-19T00:00:00.000000000",
          "2024-07-22T00:00:00.000000000",
          "2024-07-23T00:00:00.000000000",
          "2024-07-24T00:00:00.000000000",
          "2024-07-25T00:00:00.000000000",
          "2024-07-26T00:00:00.000000000",
          "2024-07-29T00:00:00.000000000",
          "2024-07-30T00:00:00.000000000"
         ],
         "xaxis": "x",
         "y": {
          "bdata": "XI/CJaoPVUCPwvX41RxVQOxRuE5YJlVAKVyPQsozVUBmZma2f0VVQK5H4VrTWFVAw/UovHlqVUA9CteT3ntVQOF6FN5Zk1VApHA96nigVUCF61GYhrFVQGZmZnYywFVAzczM7C/PVUDhehTuX91VQLgehbsn61VA7FG4foz1VUAfheuRYf1VQOxRuD55CFZAZmZmlrcPVkA9CtdTeQ9WQJqZmanBGFZAKVyPUg8lVkDD9Sh88ihWQJqZmSl5OVZA9ihcby9RVkBmZmYWjHJWQB+F6wFNlFZAXI/CtU+vVkB7FK4n98dWQPYoXO8g5lZAPQrXY3oCV0BmZmZGmSVXQDMzM4P/SVdAj8L1+DZxV0A9CtdDc5lXQIXrUeiMwFdA9ihcz07uV0AUrkexVSJYQIXrUcguXVhAhetR2C+UWEBSuB71MtJYQGZmZiZYDFlArkfhqvE+WUBxPQrnImJZQI/C9UinkllArkfhOl3GWUAAAAAgLvVZQPYoXB+/J1pAFK5HwXhaWkC4HoUL9JVaQArXo2Be1FpAw/Uo/O0LW0AAAAAACkpbQOxRuL5viFtAzczMDNLEW0BI4XpEkPdbQM3MzGxlLlxAUrgexYFoXEBmZmbmZpxcQLgehXvHwVxAFK5H0dXmXEApXI9i4AldQEjhesRHNF1ACtejcJlfXUCF61Goy35dQPYoXJ/Nml1AZmZmlpW2XUCkcD0KS8xdQK5H4bpJ2F1A",
          "dtype": "f8"
         },
         "yaxis": "y"
        },
        {
         "line": {
          "color": "red"
         },
         "name": "SMA_200",
         "type": "scatter",
         "x": [
          "2024-04-22T00:00:00.000000000",
          "2024-04-23T00:00:00.000000000",
          "2024-04-24T00:00:00.000000000",
          "2024-04-25T00:00:00.000000000",
          "2024-04-26T00:00:00.000000000",
          "2024-04-29T00:00:00.000000000",
          "2024-04-30T00:00:00.000000000",
          "2024-05-01T00:00:00.000000000",
          "2024-05-02T00:00:00.000000000",
          "2024-05-03T00:00:00.000000000",
          "2024-05-06T00:00:00.000000000",
          "2024-05-07T00:00:00.000000000",
          "2024-05-08T00:00:00.000000000",
          "2024-05-09T00:00:00.000000000",
          "2024-05-10T00:00:00.000000000",
          "2024-05-13T00:00:00.000000000",
          "2024-05-14T00:00:00.000000000",
          "2024-05-15T00:00:00.000000000",
          "2024-05-16T00:00:00.000000000",
          "2024-05-17T00:00:00.000000000",
          "2024-05-20T00:00:00.000000000",
          "2024-05-21T00:00:00.000000000",
          "2024-05-22T00:00:00.000000000",
          "2024-05-23T00:00:00.000000000",
          "2024-05-24T00:00:00.000000000",
          "2024-05-28T00:00:00.000000000",
          "2024-05-29T00:00:00.000000000",
          "2024-05-30T00:00:00.000000000",
          "2024-05-31T00:00:00.000000000",
          "2024-06-03T00:00:00.000000000",
          "2024-06-04T00:00:00.000000000",
          "2024-06-05T00:00:00.000000000",
          "2024-06-06T00:00:00.000000000",
          "2024-06-07T00:00:00.000000000",
          "2024-06-10T00:00:00.000000000",
          "2024-06-11T00:00:00.000000000",
          "2024-06-12T00:00:00.000000000",
          "2024-06-13T00:00:00.000000000",
          "2024-06-14T00:00:00.000000000",
          "2024-06-17T00:00:00.000000000",
          "2024-06-18T00:00:00.000000000",
          "2024-06-20T00:00:00.000000000",
          "2024-06-21T00:00:00.000000000",
          "2024-06-24T00:00:00.000000000",
          "2024-06-25T00:00:00.000000000",
          "2024-06-26T00:00:00.000000000",
          "2024-06-27T00:00:00.000000000",
          "2024-06-28T00:00:00.000000000",
          "2024-07-01T00:00:00.000000000",
          "2024-07-02T00:00:00.000000000",
          "2024-07-03T00:00:00.000000000",
          "2024-07-05T00:00:00.000000000",
          "2024-07-08T00:00:00.000000000",
          "2024-07-09T00:00:00.000000000",
          "2024-07-10T00:00:00.000000000",
          "2024-07-11T00:00:00.000000000",
          "2024-07-12T00:00:00.000000000",
          "2024-07-15T00:00:00.000000000",
          "2024-07-16T00:00:00.000000000",
          "2024-07-17T00:00:00.000000000",
          "2024-07-18T00:00:00.000000000",
          "2024-07-19T00:00:00.000000000",
          "2024-07-22T00:00:00.000000000",
          "2024-07-23T00:00:00.000000000",
          "2024-07-24T00:00:00.000000000",
          "2024-07-25T00:00:00.000000000",
          "2024-07-26T00:00:00.000000000",
          "2024-07-29T00:00:00.000000000",
          "2024-07-30T00:00:00.000000000"
         ],
         "xaxis": "x",
         "y": {
          "bdata": "9ihc++OJTEDXo3B5cKNMQHsUrvtvu0xAKVyPxi7VTEA9CtdfPPFMQMP1KJz5C01AKVyPEiwmTUBxPQpXlT1NQKRwPS4cVk1AZmZmRs5wTUCuR+F+pI5NQK5H4UY9rE1ApHA9Jo3JTUBSuB5pHeVNQClcjyqMAU5AH4Xr4QYeTkAUrkchkzpOQOxRuDo7WU5AUrgeTdt3TkCuR+EGtpZOQFyPwnHhtk5AmpmZHVXXTkDhehSaCPdOQD0K10fhHE9AFK5HHclFT0AfhevNjXNPQEjhegzlok9ACtej4JzNT0CPwvUEqPdPQFyPwm+2ElBAj8L1NhoqUEDhehRybUNQQOxRuBAeW1BASOF6FjBzUEBcj8JhFYtQQClcj7yuolBA9ihcUwW8UECPwvVAgtZQQEjhenoZ8VBAUrgepz8LUUBI4Xo01yZRQGZmZtgqQVFAhetRaCJaUUA9Cte93nBRQArXo/hrilFA7FG4ZkmkUUDhehSugb1RQJqZmVOu1lFAAAAA2ubvUUDXo3D7kQhSQKRwPWSSI1JAzczMsMQ9UkBxPQqt3VhSQNejcBtkdVJASOF60m+TUkAzMzO9465SQHE9CkG8ylJAXI/CtWzmUkApXI8kRQFTQIXrUQg9GVNA16NwSREyU0DD9SiSeUlTQMP1KA4VY1NAAAAAyjd8U0CuR+FOepJTQGZmZnbDp1NAzczMknS9U0CPwvVAgtJTQD0K13e55FNA",
          "dtype": "f8"
         },
         "yaxis": "y"
        },
        {
         "marker": {
          "color": "rgba(0,0,255,0.3)"
         },
         "name": "Volume",
         "type": "bar",
         "x": [
          "2024-04-22T00:00:00.000000000",
          "2024-04-23T00:00:00.000000000",
          "2024-04-24T00:00:00.000000000",
          "2024-04-25T00:00:00.000000000",
          "2024-04-26T00:00:00.000000000",
          "2024-04-29T00:00:00.000000000",
          "2024-04-30T00:00:00.000000000",
          "2024-05-01T00:00:00.000000000",
          "2024-05-02T00:00:00.000000000",
          "2024-05-03T00:00:00.000000000",
          "2024-05-06T00:00:00.000000000",
          "2024-05-07T00:00:00.000000000",
          "2024-05-08T00:00:00.000000000",
          "2024-05-09T00:00:00.000000000",
          "2024-05-10T00:00:00.000000000",
          "2024-05-13T00:00:00.000000000",
          "2024-05-14T00:00:00.000000000",
          "2024-05-15T00:00:00.000000000",
          "2024-05-16T00:00:00.000000000",
          "2024-05-17T00:00:00.000000000",
          "2024-05-20T00:00:00.000000000",
          "2024-05-21T00:00:00.000000000",
          "2024-05-22T00:00:00.000000000",
          "2024-05-23T00:00:00.000000000",
          "2024-05-24T00:00:00.000000000",
          "2024-05-28T00:00:00.000000000",
          "2024-05-29T00:00:00.000000000",
          "2024-05-30T00:00:00.000000000",
          "2024-05-31T00:00:00.000000000",
          "2024-06-03T00:00:00.000000000",
          "2024-06-04T00:00:00.000000000",
          "2024-06-05T00:00:00.000000000",
          "2024-06-06T00:00:00.000000000",
          "2024-06-07T00:00:00.000000000",
          "2024-06-10T00:00:00.000000000",
          "2024-06-11T00:00:00.000000000",
          "2024-06-12T00:00:00.000000000",
          "2024-06-13T00:00:00.000000000",
          "2024-06-14T00:00:00.000000000",
          "2024-06-17T00:00:00.000000000",
          "2024-06-18T00:00:00.000000000",
          "2024-06-20T00:00:00.000000000",
          "2024-06-21T00:00:00.000000000",
          "2024-06-24T00:00:00.000000000",
          "2024-06-25T00:00:00.000000000",
          "2024-06-26T00:00:00.000000000",
          "2024-06-27T00:00:00.000000000",
          "2024-06-28T00:00:00.000000000",
          "2024-07-01T00:00:00.000000000",
          "2024-07-02T00:00:00.000000000",
          "2024-07-03T00:00:00.000000000",
          "2024-07-05T00:00:00.000000000",
          "2024-07-08T00:00:00.000000000",
          "2024-07-09T00:00:00.000000000",
          "2024-07-10T00:00:00.000000000",
          "2024-07-11T00:00:00.000000000",
          "2024-07-12T00:00:00.000000000",
          "2024-07-15T00:00:00.000000000",
          "2024-07-16T00:00:00.000000000",
          "2024-07-17T00:00:00.000000000",
          "2024-07-18T00:00:00.000000000",
          "2024-07-19T00:00:00.000000000",
          "2024-07-22T00:00:00.000000000",
          "2024-07-23T00:00:00.000000000",
          "2024-07-24T00:00:00.000000000",
          "2024-07-25T00:00:00.000000000",
          "2024-07-26T00:00:00.000000000",
          "2024-07-29T00:00:00.000000000",
          "2024-07-30T00:00:00.000000000"
         ],
         "xaxis": "x2",
         "y": {
          "bdata": "CHGLIxjhIxqArIce6IFPGbjC1yD4OS8XSMKtFdjUXiEQRIYWiDO+F/hmbBYwTxEaqBtqE0gFiBZIp/wTgCpEEXhWrBFYIeYYgB1PE/hycBXg8/8SUFGbE0C0syCoFMYx8I6ZGcDW5ybQ4zkh8F4MHZimjSTAVCEaYDwKGFDGfh/AdJ4n0IKUGAy+uRKg3EMN+HTbEfQIig/Q2m8SUDoyEXwyixHQhNweHOcRJ+QcYBxsAGEZnJKiFTTwDQ8cZ84S/AH7EHAfBA2IEdwMvBPEDPSqKg5IWQIRqBzXDuy6VhY0mQ8POM5qDFwfzQw4PkAXLMIhE3iS8gyk0WEP2KtdCoR6iRO4EGwbPOp8ESSAyg6UfAQd",
          "dtype": "i4"
         },
         "yaxis": "y2"
        },
        {
         "line": {
          "color": "purple"
         },
         "name": "VWAP",
         "type": "scatter",
         "x": [
          "2024-04-22T00:00:00.000000000",
          "2024-04-23T00:00:00.000000000",
          "2024-04-24T00:00:00.000000000",
          "2024-04-25T00:00:00.000000000",
          "2024-04-26T00:00:00.000000000",
          "2024-04-29T00:00:00.000000000",
          "2024-04-30T00:00:00.000000000",
          "2024-05-01T00:00:00.000000000",
          "2024-05-02T00:00:00.000000000",
          "2024-05-03T00:00:00.000000000",
          "2024-05-06T00:00:00.000000000",
          "2024-05-07T00:00:00.000000000",
          "2024-05-08T00:00:00.000000000",
          "2024-05-09T00:00:00.000000000",
          "2024-05-10T00:00:00.000000000",
          "2024-05-13T00:00:00.000000000",
          "2024-05-14T00:00:00.000000000",
          "2024-05-15T00:00:00.000000000",
          "2024-05-16T00:00:00.000000000",
          "2024-05-17T00:00:00.000000000",
          "2024-05-20T00:00:00.000000000",
          "2024-05-21T00:00:00.000000000",
          "2024-05-22T00:00:00.000000000",
          "2024-05-23T00:00:00.000000000",
          "2024-05-24T00:00:00.000000000",
          "2024-05-28T00:00:00.000000000",
          "2024-05-29T00:00:00.000000000",
          "2024-05-30T00:00:00.000000000",
          "2024-05-31T00:00:00.000000000",
          "2024-06-03T00:00:00.000000000",
          "2024-06-04T00:00:00.000000000",
          "2024-06-05T00:00:00.000000000",
          "2024-06-06T00:00:00.000000000",
          "2024-06-07T00:00:00.000000000",
          "2024-06-10T00:00:00.000000000",
          "2024-06-11T00:00:00.000000000",
          "2024-06-12T00:00:00.000000000",
          "2024-06-13T00:00:00.000000000",
          "2024-06-14T00:00:00.000000000",
          "2024-06-17T00:00:00.000000000",
          "2024-06-18T00:00:00.000000000",
          "2024-06-20T00:00:00.000000000",
          "2024-06-21T00:00:00.000000000",
          "2024-06-24T00:00:00.000000000",
          "2024-06-25T00:00:00.000000000",
          "2024-06-26T00:00:00.000000000",
          "2024-06-27T00:00:00.000000000",
          "2024-06-28T00:00:00.000000000",
          "2024-07-01T00:00:00.000000000",
          "2024-07-02T00:00:00.000000000",
          "2024-07-03T00:00:00.000000000",
          "2024-07-05T00:00:00.000000000",
          "2024-07-08T00:00:00.000000000",
          "2024-07-09T00:00:00.000000000",
          "2024-07-10T00:00:00.000000000",
          "2024-07-11T00:00:00.000000000",
          "2024-07-12T00:00:00.000000000",
          "2024-07-15T00:00:00.000000000",
          "2024-07-16T00:00:00.000000000",
          "2024-07-17T00:00:00.000000000",
          "2024-07-18T00:00:00.000000000",
          "2024-07-19T00:00:00.000000000",
          "2024-07-22T00:00:00.000000000",
          "2024-07-23T00:00:00.000000000",
          "2024-07-24T00:00:00.000000000",
          "2024-07-25T00:00:00.000000000",
          "2024-07-26T00:00:00.000000000",
          "2024-07-29T00:00:00.000000000",
          "2024-07-30T00:00:00.000000000"
         ],
         "xaxis": "x2",
         "y": {
          "bdata": "l1FxIAZLVUAQFWAPDC5VQMugriYdEFVAp+4iLSf4VEDS2m+nw/tUQM3e/sJVAFVAVz80Y+ICVUBQlu5cIepUQLJXjfJT21RA40dEotDcVEDnUShP9OpUQEpx+F4R/lRA704JkyoQVUD08L9a8VZVQEeG5pQUlFVA4cqlBAO2VUCMklw6DeZVQOBDR5lmIlZAG21Ma6BIVkBVEKQWw2NWQFme15u/gVZA2wBpH/vEVkAAcsriP/pWQIuPaUtDfVdAPxpvlNTAV0D+f28KtFZYQNauKzUMz1hAh+2l4x02WUDVfyM1x49ZQEnbZYcd5FlAJvNGvD83WkA68B5o4LFaQEgZxjLWLFtAGp3WI+yIW0CZtgBteNJbQDN7zBfgFlxA5PKauxWUXEDMYkjabRNdQAfhy5Src11Atyhin1PCXUCIxRCTCxheQGVBvKE6ll5AR+p9+VASX0A4jf9TYy9fQB7so+7eVF9AjT+KZl9yX0CbA618yJBfQN+fov1bql9ANzNVAhC0X0CCZhahsbhfQKhIum37vV9AIn7kF/K2X0DAQzJkdKtfQK8pH+Owql9AlGo9qNulX0DFhiLHVoVfQNqPuMmJh19Ai6a4qqO/X0DWdhgmv9RfQIXffRPspV9AMjEqFmiLX0AFTvhWenhfQAYzey89eV9ANorbnFh+X0CzPgP7f0VfQP8tnXyj3F5AskzxzgubXkA76sc0MU1eQC845Yr6rF1A",
          "dtype": "f8"
         },
         "yaxis": "y2"
        },
        {
         "line": {
          "color": "blue"
         },
         "name": "RSI",
         "type": "scatter",
         "x": [
          "2024-04-22T00:00:00.000000000",
          "2024-04-23T00:00:00.000000000",
          "2024-04-24T00:00:00.000000000",
          "2024-04-25T00:00:00.000000000",
          "2024-04-26T00:00:00.000000000",
          "2024-04-29T00:00:00.000000000",
          "2024-04-30T00:00:00.000000000",
          "2024-05-01T00:00:00.000000000",
          "2024-05-02T00:00:00.000000000",
          "2024-05-03T00:00:00.000000000",
          "2024-05-06T00:00:00.000000000",
          "2024-05-07T00:00:00.000000000",
          "2024-05-08T00:00:00.000000000",
          "2024-05-09T00:00:00.000000000",
          "2024-05-10T00:00:00.000000000",
          "2024-05-13T00:00:00.000000000",
          "2024-05-14T00:00:00.000000000",
          "2024-05-15T00:00:00.000000000",
          "2024-05-16T00:00:00.000000000",
          "2024-05-17T00:00:00.000000000",
          "2024-05-20T00:00:00.000000000",
          "2024-05-21T00:00:00.000000000",
          "2024-05-22T00:00:00.000000000",
          "2024-05-23T00:00:00.000000000",
          "2024-05-24T00:00:00.000000000",
          "2024-05-28T00:00:00.000000000",
          "2024-05-29T00:00:00.000000000",
          "2024-05-30T00:00:00.000000000",
          "2024-05-31T00:00:00.000000000",
          "2024-06-03T00:00:00.000000000",
          "2024-06-04T00:00:00.000000000",
          "2024-06-05T00:00:00.000000000",
          "2024-06-06T00:00:00.000000000",
          "2024-06-07T00:00:00.000000000",
          "2024-06-10T00:00:00.000000000",
          "2024-06-11T00:00:00.000000000",
          "2024-06-12T00:00:00.000000000",
          "2024-06-13T00:00:00.000000000",
          "2024-06-14T00:00:00.000000000",
          "2024-06-17T00:00:00.000000000",
          "2024-06-18T00:00:00.000000000",
          "2024-06-20T00:00:00.000000000",
          "2024-06-21T00:00:00.000000000",
          "2024-06-24T00:00:00.000000000",
          "2024-06-25T00:00:00.000000000",
          "2024-06-26T00:00:00.000000000",
          "2024-06-27T00:00:00.000000000",
          "2024-06-28T00:00:00.000000000",
          "2024-07-01T00:00:00.000000000",
          "2024-07-02T00:00:00.000000000",
          "2024-07-03T00:00:00.000000000",
          "2024-07-05T00:00:00.000000000",
          "2024-07-08T00:00:00.000000000",
          "2024-07-09T00:00:00.000000000",
          "2024-07-10T00:00:00.000000000",
          "2024-07-11T00:00:00.000000000",
          "2024-07-12T00:00:00.000000000",
          "2024-07-15T00:00:00.000000000",
          "2024-07-16T00:00:00.000000000",
          "2024-07-17T00:00:00.000000000",
          "2024-07-18T00:00:00.000000000",
          "2024-07-19T00:00:00.000000000",
          "2024-07-22T00:00:00.000000000",
          "2024-07-23T00:00:00.000000000",
          "2024-07-24T00:00:00.000000000",
          "2024-07-25T00:00:00.000000000",
          "2024-07-26T00:00:00.000000000",
          "2024-07-29T00:00:00.000000000",
          "2024-07-30T00:00:00.000000000"
         ],
         "xaxis": "x3",
         "y": {
          "bdata": "6MsseWdKRED3vOfehdZGQOJgTBAvAUVAJ2QPbfd4R0A3C4OHAxlLQBgunV27HEtAlFa+jpoESkCjbBwsZnxHQD5nEtslmUlATM5JRaumS0AClq3X77hNQCWmFyi0YUxA1tzHMz1CTEAqOtXzJstKQIwJ5nk/pEtAk9+WJSoKTEB9Bu1PcclMQPibs+taJk9Agr1rOPTXTkBksdg3qbtMQIpB76ASfk5AKUEEqZDwTkC6Or1YUmZOQJlp2hz051FAIAXx1Xx9UkBYeS+xZcdTQHtvVeXo6VNA6LIzEMqeUUAgvh7eWzFRQOwtcIKYR1JAeHgiT/2JUkAUfzF5rH5TQHyirWm5xlJAHJi6qTa4UkDe6/079uFSQLF7C/6VYVJAUue28+swU0BYsA9eVeJTQElAENKSM1RA+1zHVCKuU0DdNGggf1dUQJKHX6H72FFAB8/m+H79T0B3ATucYR9KQA45WARr301AwZ5nlw0BTkAIwnKtBnNMQDs4pmHrJ0xANLMFlOCOTEB9MPPdqWRLQJfUX+O5XE5AUDLvTI6YTEDf8ZEdp9FNQMql3nWwW09AvklMNTp1UEAIXb/EeqBLQAw+iP9tiUxAz2jmCOgATEBmAsdEcJxKQCdDSgm35EVAK5U/Aua/R0DyiIGK6iRGQCEeC0ILVUlAaGLsrnXQSEB/GTGPfstEQC9lN8PS+ENAxRiFh2J4RECCiNC4pM1DQCoz/aDDrEBA",
          "dtype": "f8"
         },
         "yaxis": "y3"
        },
        {
         "line": {
          "color": "green"
         },
         "name": "Stochastic %K",
         "type": "scatter",
         "x": [
          "2024-04-22T00:00:00.000000000",
          "2024-04-23T00:00:00.000000000",
          "2024-04-24T00:00:00.000000000",
          "2024-04-25T00:00:00.000000000",
          "2024-04-26T00:00:00.000000000",
          "2024-04-29T00:00:00.000000000",
          "2024-04-30T00:00:00.000000000",
          "2024-05-01T00:00:00.000000000",
          "2024-05-02T00:00:00.000000000",
          "2024-05-03T00:00:00.000000000",
          "2024-05-06T00:00:00.000000000",
          "2024-05-07T00:00:00.000000000",
          "2024-05-08T00:00:00.000000000",
          "2024-05-09T00:00:00.000000000",
          "2024-05-10T00:00:00.000000000",
          "2024-05-13T00:00:00.000000000",
          "2024-05-14T00:00:00.000000000",
          "2024-05-15T00:00:00.000000000",
          "2024-05-16T00:00:00.000000000",
          "2024-05-17T00:00:00.000000000",
          "2024-05-20T00:00:00.000000000",
          "2024-05-21T00:00:00.000000000",
          "2024-05-22T00:00:00.000000000",
          "2024-05-23T00:00:00.000000000",
          "2024-05-24T00:00:00.000000000",
          "2024-05-28T00:00:00.000000000",
          "2024-05-29T00:00:00.000000000",
          "2024-05-30T00:00:00.000000000",
          "2024-05-31T00:00:00.000000000",
          "2024-06-03T00:00:00.000000000",
          "2024-06-04T00:00:00.000000000",
          "2024-06-05T00:00:00.000000000",
          "2024-06-06T00:00:00.000000000",
          "2024-06-07T00:00:00.000000000",
          "2024-06-10T00:00:00.000000000",
          "2024-06-11T00:00:00.000000000",
          "2024-06-12T00:00:00.000000000",
          "2024-06-13T00:00:00.000000000",
          "2024-06-14T00:00:00.000000000",
          "2024-06-17T00:00:00.000000000",
          "2024-06-18T00:00:00.000000000",
          "2024-06-20T00:00:00.000000000",
          "2024-06-21T00:00:00.000000000",
          "2024-06-24T00:00:00.000000000",
          "2024-06-25T00:00:00.000000000",
          "2024-06-26T00:00:00.000000000",
          "2024-06-27T00:00:00.000000000",
          "2024-06-28T00:00:00.000000000",
          "2024-07-01T00:00:00.000000000",
          "2024-07-02T00:00:00.000000000",
          "2024-07-03T00:00:00.000000000",
          "2024-07-05T00:00:00.000000000",
          "2024-07-08T00:00:00.000000000",
          "2024-07-09T00:00:00.000000000",
          "2024-07-10T00:00:00.000000000",
          "2024-07-11T00:00:00.000000000",
          "2024-07-12T00:00:00.000000000",
          "2024-07-15T00:00:00.000000000",
          "2024-07-16T00:00:00.000000000",
          "2024-07-17T00:00:00.000000000",
          "2024-07-18T00:00:00.000000000",
          "2024-07-19T00:00:00.000000000",
          "2024-07-22T00:00:00.000000000",
          "2024-07-23T00:00:00.000000000",
          "2024-07-24T00:00:00.000000000",
          "2024-07-25T00:00:00.000000000",
          "2024-07-26T00:00:00.000000000",
          "2024-07-29T00:00:00.000000000",
          "2024-07-30T00:00:00.000000000"
         ],
         "xaxis": "x3",
         "y": {
          "bdata": "to1KpsvZOUCTdP5HC4ZGQIgJph3H5jpARZI2WdQ2R0AIcI34jglUQI7twi7dElRAFl9BZc/VUUD6yTzPksVIQBee12GpAlFAKBMq6b0ZWEA7xJKRLuFYQPUb+lA6flZAdrOQEIdHVkB4b0pr/oJTQKfRuQkk0VRA8F2oa12/VUB81B3X8XRXQM47OO/gklhAfCYqJmt+VkANmPQYRURTQO8zHe1rN1dABLK2N2UkWEBmxfqUagVWQEDXA0wOhFVAKb92d+X9WED5bs7aQwdYQDZMR/ZoY1hAVT7pFpkgVEBgqPyDRVVTQOk96EUJPVhA+AdT7UXWWEDu9+IOH/5YQLIm+LeWmlVA0pos3gBgVUDL84pJIxJWQJBJ8cBgYlVAtNqGcQZYV0C692VUoNJYQPjsuy/IElhAQnHizAlvVkC9nBDcrVxYQBGNOuppn1FAO9NAjudTSUBkV19lr24uQKkKPPujHUNAFmT2krfEQ0AzpLX8s2M9QIBS0FCnfjtAXWOziIaNO0AVlVNY5mA0QPWE0LYDiUZAezgh8bskQUC+GCpr8VtGQPF6409/W01Au7LjYh2QUkDbOp8Sk9dJQORvYyQT7E5AETLNDBW+S0BDZw3R5bxFQLsTa8YjJRpAgL0nJsEfN0Btq5hrOPkbQNvoyoCy0EFAV++JSfDHPkDnudavmogMQLN8vfmSCDRADs77m4SlNkB68E0k0LgxQCHKEw8xUwxA",
          "dtype": "f8"
         },
         "yaxis": "y3"
        },
        {
         "line": {
          "color": "red"
         },
         "name": "Stochastic %D",
         "type": "scatter",
         "x": [
          "2024-04-22T00:00:00.000000000",
          "2024-04-23T00:00:00.000000000",
          "2024-04-24T00:00:00.000000000",
          "2024-04-25T00:00:00.000000000",
          "2024-04-26T00:00:00.000000000",
          "2024-04-29T00:00:00.000000000",
          "2024-04-30T00:00:00.000000000",
          "2024-05-01T00:00:00.000000000",
          "2024-05-02T00:00:00.000000000",
          "2024-05-03T00:00:00.000000000",
          "2024-05-06T00:00:00.000000000",
          "2024-05-07T00:00:00.000000000",
          "2024-05-08T00:00:00.000000000",
          "2024-05-09T00:00:00.000000000",
          "2024-05-10T00:00:00.000000000",
          "2024-05-13T00:00:00.000000000",
          "2024-05-14T00:00:00.000000000",
          "2024-05-15T00:00:00.000000000",
          "2024-05-16T00:00:00.000000000",
          "2024-05-17T00:00:00.000000000",
          "2024-05-20T00:00:00.000000000",
          "2024-05-21T00:00:00.000000000",
          "2024-05-22T00:00:00.000000000",
          "2024-05-23T00:00:00.000000000",
          "2024-05-24T00:00:00.000000000",
          "2024-05-28T00:00:00.000000000",
          "2024-05-29T00:00:00.000000000",
          "2024-05-30T00:00:00.000000000",
          "2024-05-31T00:00:00.000000000",
          "2024-06-03T00:00:00.000000000",
          "2024-06-04T00:00:00.000000000",
          "2024-06-05T00:00:00.000000000",
          "2024-06-06T00:00:00.000000000",
          "2024-06-07T00:00:00.000000000",
          "2024-06-10T00:00:00.000000000",
          "2024-06-11T00:00:00.000000000",
          "2024-06-12T00:00:00.000000000",
          "2024-06-13T00:00:00.000000000",
          "2024-06-14T00:00:00.000000000",
          "2024-06-17T00:00:00.000000000",
          "2024-06-18T00:00:00.000000000",
          "2024-06-20T00:00:00.000000000",
          "2024-06-21T00:00:00.000000000",
          "2024-06-24T00:00:00.000000000",
          "2024-06-25T00:00:00.000000000",
          "2024-06-26T00:00:00.000000000",
          "2024-06-27T00:00:00.000000000",
          "2024-06-28T00:00:00.000000000",
          "2024-07-01T00:00:00.000000000",
          "2024-07-02T00:00:00.000000000",
          "2024-07-03T00:00:00.000000000",
          "2024-07-05T00:00:00.000000000",
          "2024-07-08T00:00:00.000000000",
          "2024-07-09T00:00:00.000000000",
          "2024-07-10T00:00:00.000000000",
          "2024-07-11T00:00:00.000000000",
          "2024-07-12T00:00:00.000000000",
          "2024-07-15T00:00:00.000000000",
          "2024-07-16T00:00:00.000000000",
          "2024-07-17T00:00:00.000000000",
          "2024-07-18T00:00:00.000000000",
          "2024-07-19T00:00:00.000000000",
          "2024-07-22T00:00:00.000000000",
          "2024-07-23T00:00:00.000000000",
          "2024-07-24T00:00:00.000000000",
          "2024-07-25T00:00:00.000000000",
          "2024-07-26T00:00:00.000000000",
          "2024-07-29T00:00:00.000000000",
          "2024-07-30T00:00:00.000000000"
         ],
         "xaxis": "x3",
         "y": {
          "bdata": "K5G0gPqfMUAom0d66PA4QBBAUuPGTEBAia4CEMG6Q0CzJwzzcZRJQOiMTnFHPVFAOZQwhL5QU0CLkIv+0cNQQMWWz8nWfE9AFLKKOxDVUUB9fDH0Mf9VQB1Rku4M01dA4dsJUaU3V0D1FEdElW1VQNymMdeN3lRAWoo5oCqxVEBbAYAZ0QFWQBN6/2VlQldA7LwqpBSCV0Ac/hy6hRxWQCimvg60qFVAq9RCv1w1VkBzju89aSBXQI1vPAhKj1ZA73N8HcrXVkAgVxiKEoNXQB1+2cIweFhA1/1UTRfZVkBPZmQwbUhVQN+2RKCiO1VAa0+954bNVkCbFAoWerBYQDNiDzypz1dA0D2t4TyoVkDEkTr16K5VQGSdjU0snFVAWV1WKS5EVkBUCUqCAi9XQHfq4lF6FFhApxysxdDGV0BT/uTyf59XQLAzDzELeVVAztsjL1k3UkC861lpIrpGQD+R8SC9WUFAuS1cmq/+PkDyaoTZEdxBQHrKPRP3EUBAWXNoR0slPED5GJ0QXCQ5QHOr4sQmAD9A/dezRmafQEBkRwmx5a1EQGOZD+QO9EZAYKjxKjmdTUAVCW4Nb8ZOQBGwmKn1S09ARfTvaz4rTEARA2qrBM1KQEOp4hw1lUFA+xqf6PFgOEDZyMUhkG8oQFmTNhZ86jVATPkBIuF3OEAXiLM1eFM3QMFra4iHIDJA/GvNR8fULkATaQI+TSI0QIV6HezRRS1A",
          "dtype": "f8"
         },
         "yaxis": "y3"
        },
        {
         "line": {
          "color": "blue"
         },
         "name": "MACD",
         "type": "scatter",
         "x": [
          "2024-04-22T00:00:00.000000000",
          "2024-04-23T00:00:00.000000000",
          "2024-04-24T00:00:00.000000000",
          "2024-04-25T00:00:00.000000000",
          "2024-04-26T00:00:00.000000000",
          "2024-04-29T00:00:00.000000000",
          "2024-04-30T00:00:00.000000000",
          "2024-05-01T00:00:00.000000000",
          "2024-05-02T00:00:00.000000000",
          "2024-05-03T00:00:00.000000000",
          "2024-05-06T00:00:00.000000000",
          "2024-05-07T00:00:00.000000000",
          "2024-05-08T00:00:00.000000000",
          "2024-05-09T00:00:00.000000000",
          "2024-05-10T00:00:00.000000000",
          "2024-05-13T00:00:00.000000000",
          "2024-05-14T00:00:00.000000000",
          "2024-05-15T00:00:00.000000000",
          "2024-05-16T00:00:00.000000000",
          "2024-05-17T00:00:00.000000000",
          "2024-05-20T00:00:00.000000000",
          "2024-05-21T00:00:00.000000000",
          "2024-05-22T00:00:00.000000000",
          "2024-05-23T00:00:00.000000000",
          "2024-05-24T00:00:00.000000000",
          "2024-05-28T00:00:00.000000000",
          "2024-05-29T00:00:00.000000000",
          "2024-05-30T00:00:00.000000000",
          "2024-05-31T00:00:00.000000000",
          "2024-06-03T00:00:00.000000000",
          "2024-06-04T00:00:00.000000000",
          "2024-06-05T00:00:00.000000000",
          "2024-06-06T00:00:00.000000000",
          "2024-06-07T00:00:00.000000000",
          "2024-06-10T00:00:00.000000000",
          "2024-06-11T00:00:00.000000000",
          "2024-06-12T00:00:00.000000000",
          "2024-06-13T00:00:00.000000000",
          "2024-06-14T00:00:00.000000000",
          "2024-06-17T00:00:00.000000000",
          "2024-06-18T00:00:00.000000000",
          "2024-06-20T00:00:00.000000000",
          "2024-06-21T00:00:00.000000000",
          "2024-06-24T00:00:00.000000000",
          "2024-06-25T00:00:00.000000000",
          "2024-06-26T00:00:00.000000000",
          "2024-06-27T00:00:00.000000000",
          "2024-06-28T00:00:00.000000000",
          "2024-07-01T00:00:00.000000000",
          "2024-07-02T00:00:00.000000000",
          "2024-07-03T00:00:00.000000000",
          "2024-07-05T00:00:00.000000000",
          "2024-07-08T00:00:00.000000000",
          "2024-07-09T00:00:00.000000000",
          "2024-07-10T00:00:00.000000000",
          "2024-07-11T00:00:00.000000000",
          "2024-07-12T00:00:00.000000000",
          "2024-07-15T00:00:00.000000000",
          "2024-07-16T00:00:00.000000000",
          "2024-07-17T00:00:00.000000000",
          "2024-07-18T00:00:00.000000000",
          "2024-07-19T00:00:00.000000000",
          "2024-07-22T00:00:00.000000000",
          "2024-07-23T00:00:00.000000000",
          "2024-07-24T00:00:00.000000000",
          "2024-07-25T00:00:00.000000000",
          "2024-07-26T00:00:00.000000000",
          "2024-07-29T00:00:00.000000000",
          "2024-07-30T00:00:00.000000000"
         ],
         "xaxis": "x4",
         "y": {
          "bdata": "AKjwIdMU8L/AfuWwjG7xv0C0oifOy/W/AOq2NAYy9b+AHn+No/Drv4B1wL5ZPuC/AKytPv201L8AvCf+nmbcvwDIVue67tO/AOhaPi7SoD8AxQOMtzniPwC5L+C4bOs/wPb/GYH68D+AeyJNCTjxP4BI8W+Pp/I/wFzM+FE79D+At8NMVHX2P4CmZAoqIPw/AKUUEkLm/z9gYB8p6QsAQKAMbGBvaAFAIDHR5bapAkAA1xMtwCcDQIB0Q/ZN+AhAoOA/7OjxDkBQJPNxHQIUQOCJClb2oBdAsOhUb+XQGEDw3RUrzS8ZQKCzKwUX5xpAoOtS6ihmHEDwxenZzCkfQLArBonBQSBAuOaOokOVIEAIgyAHJ8sgQOAJ8flvoCBACCkfq679IEBooxiaSckhQPBQK+ahkSJA8Mdrf6rTIkAwtmIwW4wjQGiN05P6HyNAWNZuplLnIUBgX4t1MskeQKCrKrQfDB1AIBkNNwB0G0AQ7OdGSh8ZQFBvS2O73RZAEBWXGZoUFUAwlcBlzesSQCDn3lXCzRJAsKDHPDu3EUCgX83L7GoRQDAMBEMXABJAUC9pasxgE0DQoebuItcRQCAxZOT3BBFAYMTuNJzaD0Ag2y0SpXMMQGBuamPTHgRAQDQcnCSv/j+A7sn/U9DyP4CGg6qmdfA/gF0V0hNu6j8AgG/E2ld/v4BHQVqGK+q/AMCdtKAY9r9AsBkG28f+v4B2KDEQogfA",
          "dtype": "f8"
         },
         "yaxis": "y4"
        },
        {
         "line": {
          "color": "red"
         },
         "name": "Signal",
         "type": "scatter",
         "x": [
          "2024-04-22T00:00:00.000000000",
          "2024-04-23T00:00:00.000000000",
          "2024-04-24T00:00:00.000000000",
          "2024-04-25T00:00:00.000000000",
          "2024-04-26T00:00:00.000000000",
          "2024-04-29T00:00:00.000000000",
          "2024-04-30T00:00:00.000000000",
          "2024-05-01T00:00:00.000000000",
          "2024-05-02T00:00:00.000000000",
          "2024-05-03T00:00:00.000000000",
          "2024-05-06T00:00:00.000000000",
          "2024-05-07T00:00:00.000000000",
          "2024-05-08T00:00:00.000000000",
          "2024-05-09T00:00:00.000000000",
          "2024-05-10T00:00:00.000000000",
          "2024-05-13T00:00:00.000000000",
          "2024-05-14T00:00:00.000000000",
          "2024-05-15T00:00:00.000000000",
          "2024-05-16T00:00:00.000000000",
          "2024-05-17T00:00:00.000000000",
          "2024-05-20T00:00:00.000000000",
          "2024-05-21T00:00:00.000000000",
          "2024-05-22T00:00:00.000000000",
          "2024-05-23T00:00:00.000000000",
          "2024-05-24T00:00:00.000000000",
          "2024-05-28T00:00:00.000000000",
          "2024-05-29T00:00:00.000000000",
          "2024-05-30T00:00:00.000000000",
          "2024-05-31T00:00:00.000000000",
          "2024-06-03T00:00:00.000000000",
          "2024-06-04T00:00:00.000000000",
          "2024-06-05T00:00:00.000000000",
          "2024-06-06T00:00:00.000000000",
          "2024-06-07T00:00:00.000000000",
          "2024-06-10T00:00:00.000000000",
          "2024-06-11T00:00:00.000000000",
          "2024-06-12T00:00:00.000000000",
          "2024-06-13T00:00:00.000000000",
          "2024-06-14T00:00:00.000000000",
          "2024-06-17T00:00:00.000000000",
          "2024-06-18T00:00:00.000000000",
          "2024-06-20T00:00:00.000000000",
          "2024-06-21T00:00:00.000000000",
          "2024-06-24T00:00:00.000000000",
          "2024-06-25T00:00:00.000000000",
          "2024-06-26T00:00:00.000000000",
          "2024-06-27T00:00:00.000000000",
          "2024-06-28T00:00:00.000000000",
          "2024-07-01T00:00:00.000000000",
          "2024-07-02T00:00:00.000000000",
          "2024-07-03T00:00:00.000000000",
          "2024-07-05T00:00:00.000000000",
          "2024-07-08T00:00:00.000000000",
          "2024-07-09T00:00:00.000000000",
          "2024-07-10T00:00:00.000000000",
          "2024-07-11T00:00:00.000000000",
          "2024-07-12T00:00:00.000000000",
          "2024-07-15T00:00:00.000000000",
          "2024-07-16T00:00:00.000000000",
          "2024-07-17T00:00:00.000000000",
          "2024-07-18T00:00:00.000000000",
          "2024-07-19T00:00:00.000000000",
          "2024-07-22T00:00:00.000000000",
          "2024-07-23T00:00:00.000000000",
          "2024-07-24T00:00:00.000000000",
          "2024-07-25T00:00:00.000000000",
          "2024-07-26T00:00:00.000000000",
          "2024-07-29T00:00:00.000000000",
          "2024-07-30T00:00:00.000000000"
         ],
         "xaxis": "x4",
         "y": {
          "bdata": "JykrcXkX4T8Y7BpPcM3KP3ItdzMT3bq/SsRDATxU1r+iD2kGCwrdv+mhOh6Tut2/iD3rV6js279t8JDfDAXcv/GBuHr8Ztq/W1XR04iz1L8sHn98rorCv0C8zgvubKw/03FhfOVs0D92VzahWOraPzBzqdNcOuI/dLQ/c9Gs5j8qQIEUlh/rPytu4aN3efA/VqzruTmP8z9ssGLY8RD2P/1erdO6nfg/Pvl3OHgo+z+ZUM7YeWP9P1cEYO7ZvwBAM/2/uqmWA0DjpcePk6wHQBDvo8gLZAxAKo5SM8xREECFBOBkzBcSQFj0u1Hb2hNAAFkNPVGQFUD9oWxc0HsXQBKTjE0nShlAWDhDsm3dGkAW+3WRmjUcQDgzJaXbNx1AZDkqYsIrHkB6oiuMUkAfQJS3s//aNiBADe4+GZ68IEBHSXm3kEwhQE698UkMqiFA6lukj022IUCrbBHljz8hQLIB3+IPtCBAeB2aVKYbIEDExPH7GMweQHqA0EMGNh1AZtGRbr2VG0CP+GcGJ9oZQKyOTBZGcRhA4StlhN0YF0BuaeDFE/YVQMhWtKtHKxVAsBtya5XPFEDqnLyFfjcUQChUEf/JkxNAKoryauTYEkALnsY9R+wRQHmJKYi0WRBAYhQSg6Q6DUApqKI1v0MJQGF6wgiQ2wVALkC2BMHOAkDKtmJ1VhH+P6+ke+7qb/U/srqGaAR26T+Eailv8RzQP8rOUo8l7Ni/",
          "dtype": "f8"
         },
         "yaxis": "y4"
        },
        {
         "marker": {
          "color": "rgba(0,255,0,0.3)"
         },
         "name": "MACD Diff",
         "type": "bar",
         "x": [
          "2024-04-22T00:00:00.000000000",
          "2024-04-23T00:00:00.000000000",
          "2024-04-24T00:00:00.000000000",
          "2024-04-25T00:00:00.000000000",
          "2024-04-26T00:00:00.000000000",
          "2024-04-29T00:00:00.000000000",
          "2024-04-30T00:00:00.000000000",
          "2024-05-01T00:00:00.000000000",
          "2024-05-02T00:00:00.000000000",
          "2024-05-03T00:00:00.000000000",
          "2024-05-06T00:00:00.000000000",
          "2024-05-07T00:00:00.000000000",
          "2024-05-08T00:00:00.000000000",
          "2024-05-09T00:00:00.000000000",
          "2024-05-10T00:00:00.000000000",
          "2024-05-13T00:00:00.000000000",
          "2024-05-14T00:00:00.000000000",
          "2024-05-15T00:00:00.000000000",
          "2024-05-16T00:00:00.000000000",
          "2024-05-17T00:00:00.000000000",
          "2024-05-20T00:00:00.000000000",
          "2024-05-21T00:00:00.000000000",
          "2024-05-22T00:00:00.000000000",
          "2024-05-23T00:00:00.000000000",
          "2024-05-24T00:00:00.000000000",
          "2024-05-28T00:00:00.000000000",
          "2024-05-29T00:00:00.000000000",
          "2024-05-30T00:00:00.000000000",
          "2024-05-31T00:00:00.000000000",
          "2024-06-03T00:00:00.000000000",
          "2024-06-04T00:00:00.000000000",
          "2024-06-05T00:00:00.000000000",
          "2024-06-06T00:00:00.000000000",
          "2024-06-07T00:00:00.000000000",
          "2024-06-10T00:00:00.000000000",
          "2024-06-11T00:00:00.000000000",
          "2024-06-12T00:00:00.000000000",
          "2024-06-13T00:00:00.000000000",
          "2024-06-14T00:00:00.000000000",
          "2024-06-17T00:00:00.000000000",
          "2024-06-18T00:00:00.000000000",
          "2024-06-20T00:00:00.000000000",
          "2024-06-21T00:00:00.000000000",
          "2024-06-24T00:00:00.000000000",
          "2024-06-25T00:00:00.000000000",
          "2024-06-26T00:00:00.000000000",
          "2024-06-27T00:00:00.000000000",
          "2024-06-28T00:00:00.000000000",
          "2024-07-01T00:00:00.000000000",
          "2024-07-02T00:00:00.000000000",
          "2024-07-03T00:00:00.000000000",
          "2024-07-05T00:00:00.000000000",
          "2024-07-08T00:00:00.000000000",
          "2024-07-09T00:00:00.000000000",
          "2024-07-10T00:00:00.000000000",
          "2024-07-11T00:00:00.000000000",
          "2024-07-12T00:00:00.000000000",
          "2024-07-15T00:00:00.000000000",
          "2024-07-16T00:00:00.000000000",
          "2024-07-17T00:00:00.000000000",
          "2024-07-18T00:00:00.000000000",
          "2024-07-19T00:00:00.000000000",
          "2024-07-22T00:00:00.000000000",
          "2024-07-23T00:00:00.000000000",
          "2024-07-24T00:00:00.000000000",
          "2024-07-25T00:00:00.000000000",
          "2024-07-26T00:00:00.000000000",
          "2024-07-29T00:00:00.000000000",
          "2024-07-30T00:00:00.000000000"
         ],
         "xaxis": "x4",
         "y": {
          "bdata": "lDyG2o+g+L9D3Mi6Osj0v2lBa/T8HfS/2/HLaO45779eLZUUPNfav7hIMvoCEaa/IEb2ZKzevD/A5LKlh2R4v8Tnhk0G4bk/W7Kcm87N1j+LjCMrY9zmPzzNcv/ppek/ljTPdY++6T9Fy6lJ5vrkP9AdOQzCFOM/DAVZftLJ4T/WLgaFEsvhP6pwBs1kTec/VPFRsBCu6D+oILjzwA3kP4Z0VdpHZuQ/BNJUJutV5D/OurICDdjhP1Lgxg/ocPA/2sb/Yn629j+9oh5Up1cAQLAkcePg3QJADLUEeDL+AECsZdcYA2D8PyD9vs3uMPw/gEoWtV5X+z/Mj/T18bf+PzgR/xFv5fw/YFRqS2Y0+T/oKyzzzYL1PyCC8zoRJPA/YMWgoNd87j9YkRagAknxP+DKvDM31vI/GM9mMWO48D9IZ0vHU/7xP6ABHZ7kXuc/ADc9ZYuCuD+wz7ukaq/tvxBfTUYAcPG/QIecyDEN87/QYifUOrP2v6hEFIIrYfm/WPHqU40E+r98jZ2CZrn7vzCetgEPjva/xCx2HomG9b84J0zomyzyv8BUgkWDWem/AMaOEJDs1r/Q2K+23ALjv0AYadWQduS/0D/Zg7Jc57/Yg32lpZPtvyRJ0VkrKfm/hPQHaiTG+7/SYXtrKrf/v0JuAWd5Qfu/nNFhIHhm+L9KJidQrjD+vzgkzg3XQgHArI5wdNFpAcBwBfKwi2cBwKccPn+LhATA",
          "dtype": "f8"
         },
         "yaxis": "y4"
        },
        {
         "line": {
          "color": "gray",
          "dash": "dash"
         },
         "name": "BB Upper",
         "type": "scatter",
         "x": [
          "2024-04-22T00:00:00.000000000",
          "2024-04-23T00:00:00.000000000",
          "2024-04-24T00:00:00.000000000",
          "2024-04-25T00:00:00.000000000",
          "2024-04-26T00:00:00.000000000",
          "2024-04-29T00:00:00.000000000",
          "2024-04-30T00:00:00.000000000",
          "2024-05-01T00:00:00.000000000",
          "2024-05-02T00:00:00.000000000",
          "2024-05-03T00:00:00.000000000",
          "2024-05-06T00:00:00.000000000",
          "2024-05-07T00:00:00.000000000",
          "2024-05-08T00:00:00.000000000",
          "2024-05-09T00:00:00.000000000",
          "2024-05-10T00:00:00.000000000",
          "2024-05-13T00:00:00.000000000",
          "2024-05-14T00:00:00.000000000",
          "2024-05-15T00:00:00.000000000",
          "2024-05-16T00:00:00.000000000",
          "2024-05-17T00:00:00.000000000",
          "2024-05-20T00:00:00.000000000",
          "2024-05-21T00:00:00.000000000",
          "2024-05-22T00:00:00.000000000",
          "2024-05-23T00:00:00.000000000",
          "2024-05-24T00:00:00.000000000",
          "2024-05-28T00:00:00.000000000",
          "2024-05-29T00:00:00.000000000",
          "2024-05-30T00:00:00.000000000",
          "2024-05-31T00:00:00.000000000",
          "2024-06-03T00:00:00.000000000",
          "2024-06-04T00:00:00.000000000",
          "2024-06-05T00:00:00.000000000",
          "2024-06-06T00:00:00.000000000",
          "2024-06-07T00:00:00.000000000",
          "2024-06-10T00:00:00.000000000",
          "2024-06-11T00:00:00.000000000",
          "2024-06-12T00:00:00.000000000",
          "2024-06-13T00:00:00.000000000",
          "2024-06-14T00:00:00.000000000",
          "2024-06-17T00:00:00.000000000",
          "2024-06-18T00:00:00.000000000",
          "2024-06-20T00:00:00.000000000",
          "2024-06-21T00:00:00.000000000",
          "2024-06-24T00:00:00.000000000",
          "2024-06-25T00:00:00.000000000",
          "2024-06-26T00:00:00.000000000",
          "2024-06-27T00:00:00.000000000",
          "2024-06-28T00:00:00.000000000",
          "2024-07-01T00:00:00.000000000",
          "2024-07-02T00:00:00.000000000",
          "2024-07-03T00:00:00.000000000",
          "2024-07-05T00:00:00.000000000",
          "2024-07-08T00:00:00.000000000",
          "2024-07-09T00:00:00.000000000",
          "2024-07-10T00:00:00.000000000",
          "2024-07-11T00:00:00.000000000",
          "2024-07-12T00:00:00.000000000",
          "2024-07-15T00:00:00.000000000",
          "2024-07-16T00:00:00.000000000",
          "2024-07-17T00:00:00.000000000",
          "2024-07-18T00:00:00.000000000",
          "2024-07-19T00:00:00.000000000",
          "2024-07-22T00:00:00.000000000",
          "2024-07-23T00:00:00.000000000",
          "2024-07-24T00:00:00.000000000",
          "2024-07-25T00:00:00.000000000",
          "2024-07-26T00:00:00.000000000",
          "2024-07-29T00:00:00.000000000",
          "2024-07-30T00:00:00.000000000"
         ],
         "xaxis": "x5",
         "y": {
          "bdata": "x/8ZiYPoV0A7qf0Xnp5XQP9VPStWe1dAUtR+CwpcV0DH46YcoURXQLIIRJs0LFdAc2WUJGsUV0Dv5fbcBfhWQMZVLBuZ91ZAEq+MFAD/VkD+UKMtlzZXQC2+fccjXVdARYTJo5l4V0CKdToAtmZXQNBzjDg0dVdAQ/DUQZuTV0CKhWU7IbRXQFox7uFbAlhA7mLlOypDWEC7UUK6UDBYQN+53eicRlhA9VK4obhtWEBZRxbhxmJYQA1Mt6CT/FhAiJvdwPO9WUA87Qeo4OhaQCuGVJXq3FtAHI8QnN9OXECiGbirdKtcQOlLop+HR11AlpPpwHjmXUCyqaQNFr9eQHhBOKAAXl9APICSGXfWX0BXt9YEtiFgQNRLdmTLRmBAzQaMO5x5YEC/mxeDLMNgQPjUUc1ACWFAICtfGrYtYUDPX07o6WRhQAIB/r7RaWFAFD9DhBM+YUC8T+HSHh9hQPshA95NEmFAC6te/ZUZYUAKB/KFLxlhQLJ0fFwrBGFAbwAa7sPfYEDxr/zmzs5gQGOe0Oy2yWBAl8CWP2XLYEARnEXv4s9gQF7OIOoB32BA0CD2sN4BYUBoSCkBYfxgQM7ZpTljAWFAyG1nIF3+YEAA5kPS3+5gQO3LnAwv9GBAudAicljIYEAtB/DvhMFgQKRDBZpbvWBAdxT9LTmzYEBcFXSo1ctgQDXcju+e42BAJddLgEjzYEClRxyUqwNhQDBK0E15MWFA",
          "dtype": "f8"
         },
         "yaxis": "y5"
        },
        {
         "line": {
          "color": "gray",
          "dash": "dash"
         },
         "name": "BB Lower",
         "type": "scatter",
         "x": [
          "2024-04-22T00:00:00.000000000",
          "2024-04-23T00:00:00.000000000",
          "2024-04-24T00:00:00.000000000",
          "2024-04-25T00:00:00.000000000",
          "2024-04-26T00:00:00.000000000",
          "2024-04-29T00:00:00.000000000",
          "2024-04-30T00:00:00.000000000",
          "2024-05-01T00:00:00.000000000",
          "2024-05-02T00:00:00.000000000",
          "2024-05-03T00:00:00.000000000",
          "2024-05-06T00:00:00.000000000",
          "2024-05-07T00:00:00.000000000",
          "2024-05-08T00:00:00.000000000",
          "2024-05-09T00:00:00.000000000",
          "2024-05-10T00:00:00.000000000",
          "2024-05-13T00:00:00.000000000",
          "2024-05-14T00:00:00.000000000",
          "2024-05-15T00:00:00.000000000",
          "2024-05-16T00:00:00.000000000",
          "2024-05-17T00:00:00.000000000",
          "2024-05-20T00:00:00.000000000",
          "2024-05-21T00:00:00.000000000",
          "2024-05-22T00:00:00.000000000",
          "2024-05-23T00:00:00.000000000",
          "2024-05-24T00:00:00.000000000",
          "2024-05-28T00:00:00.000000000",
          "2024-05-29T00:00:00.000000000",
          "2024-05-30T00:00:00.000000000",
          "2024-05-31T00:00:00.000000000",
          "2024-06-03T00:00:00.000000000",
          "2024-06-04T00:00:00.000000000",
          "2024-06-05T00:00:00.000000000",
          "2024-06-06T00:00:00.000000000",
          "2024-06-07T00:00:00.000000000",
          "2024-06-10T00:00:00.000000000",
          "2024-06-11T00:00:00.000000000",
          "2024-06-12T00:00:00.000000000",
          "2024-06-13T00:00:00.000000000",
          "2024-06-14T00:00:00.000000000",
          "2024-06-17T00:00:00.000000000",
          "2024-06-18T00:00:00.000000000",
          "2024-06-20T00:00:00.000000000",
          "2024-06-21T00:00:00.000000000",
          "2024-06-24T00:00:00.000000000",
          "2024-06-25T00:00:00.000000000",
          "2024-06-26T00:00:00.000000000",
          "2024-06-27T00:00:00.000000000",
          "2024-06-28T00:00:00.000000000",
          "2024-07-01T00:00:00.000000000",
          "2024-07-02T00:00:00.000000000",
          "2024-07-03T00:00:00.000000000",
          "2024-07-05T00:00:00.000000000",
          "2024-07-08T00:00:00.000000000",
          "2024-07-09T00:00:00.000000000",
          "2024-07-10T00:00:00.000000000",
          "2024-07-11T00:00:00.000000000",
          "2024-07-12T00:00:00.000000000",
          "2024-07-15T00:00:00.000000000",
          "2024-07-16T00:00:00.000000000",
          "2024-07-17T00:00:00.000000000",
          "2024-07-18T00:00:00.000000000",
          "2024-07-19T00:00:00.000000000",
          "2024-07-22T00:00:00.000000000",
          "2024-07-23T00:00:00.000000000",
          "2024-07-24T00:00:00.000000000",
          "2024-07-25T00:00:00.000000000",
          "2024-07-26T00:00:00.000000000",
          "2024-07-29T00:00:00.000000000",
          "2024-07-30T00:00:00.000000000"
         ],
         "xaxis": "x5",
         "y": {
          "bdata": "Bc2yw3jEU0CRI8/E3L1TQJtDXI6vjlNAFJLnWjp9U0Cfgr8J3YNTQBrEiOGbi1NAWWc4OOCPU0ARGglDXYZTQG7dBtg5hlNAiOoMddKDU0ACr1zSRmxTQNNBgugBZ1NA765pXyJhU0AQJF/ZD2dTQJby2c1lY1NAI3aRdCRhU0Dc4ABr11lTQHKb3pprT1NAEp0aFJ5MU0B54fAYp8dTQIesiC0IE1RA13kUC+M+VEDb6xwSlKtUQFkar1U/mVRAeGQi/8RPVED4RStrKsxTQNV5q7oIjlNAGKQih9DLU0DETK6apwdUQBe0XcBUE1RAnp9J0uMPVEDo7/SLWANUQLzx+hIuKFRA+LKgaWt9VECGxIUZs9xUQCU14JPNVVVAMr+05cXIVUAdYmqThBVWQESJj2h+eVZAjHYO2PsmV0DJpsn1sr1XQMjK0M5ollhAC7WsekO4WUDuxqMAxFFaQAu8+fP46FpAtnYPEmcqW0C4vujw22VbQDWwoABZ41tAVjL/RgaKXEC4OaDbBt1cQAaQK2MCM11AbBhs6ldFXUB4YQ5LdGpdQHeW8W5cj11Ak/FGsZqdXUDKCEdHH9JdQGVMtPz14V1ApFdkQoXgXUCazRHlK9xdQMEBYKBqfl1AWiuHaFt5XUBzvuz8xDRdQO2rKE+zKV1ArHCfLaRaXUB9CEuSpN1cQGIUr82zU1xAHLjO9WzuW0Dqo/rqK4FbQJ9rX5TqoVpA",
          "dtype": "f8"
         },
         "yaxis": "y5"
        },
        {
         "line": {
          "color": "gray"
         },
         "name": "BB Middle",
         "type": "scatter",
         "x": [
          "2024-04-22T00:00:00.000000000",
          "2024-04-23T00:00:00.000000000",
          "2024-04-24T00:00:00.000000000",
          "2024-04-25T00:00:00.000000000",
          "2024-04-26T00:00:00.000000000",
          "2024-04-29T00:00:00.000000000",
          "2024-04-30T00:00:00.000000000",
          "2024-05-01T00:00:00.000000000",
          "2024-05-02T00:00:00.000000000",
          "2024-05-03T00:00:00.000000000",
          "2024-05-06T00:00:00.000000000",
          "2024-05-07T00:00:00.000000000",
          "2024-05-08T00:00:00.000000000",
          "2024-05-09T00:00:00.000000000",
          "2024-05-10T00:00:00.000000000",
          "2024-05-13T00:00:00.000000000",
          "2024-05-14T00:00:00.000000000",
          "2024-05-15T00:00:00.000000000",
          "2024-05-16T00:00:00.000000000",
          "2024-05-17T00:00:00.000000000",
          "2024-05-20T00:00:00.000000000",
          "2024-05-21T00:00:00.000000000",
          "2024-05-22T00:00:00.000000000",
          "2024-05-23T00:00:00.000000000",
          "2024-05-24T00:00:00.000000000",
          "2024-05-28T00:00:00.000000000",
          "2024-05-29T00:00:00.000000000",
          "2024-05-30T00:00:00.000000000",
          "2024-05-31T00:00:00.000000000",
          "2024-06-03T00:00:00.000000000",
          "2024-06-04T00:00:00.000000000",
          "2024-06-05T00:00:00.000000000",
          "2024-06-06T00:00:00.000000000",
          "2024-06-07T00:00:00.000000000",
          "2024-06-10T00:00:00.000000000",
          "2024-06-11T00:00:00.000000000",
          "2024-06-12T00:00:00.000000000",
          "2024-06-13T00:00:00.000000000",
          "2024-06-14T00:00:00.000000000",
          "2024-06-17T00:00:00.000000000",
          "2024-06-18T00:00:00.000000000",
          "2024-06-20T00:00:00.000000000",
          "2024-06-21T00:00:00.000000000",
          "2024-06-24T00:00:00.000000000",
          "2024-06-25T00:00:00.000000000",
          "2024-06-26T00:00:00.000000000",
          "2024-06-27T00:00:00.000000000",
          "2024-06-28T00:00:00.000000000",
          "2024-07-01T00:00:00.000000000",
          "2024-07-02T00:00:00.000000000",
          "2024-07-03T00:00:00.000000000",
          "2024-07-05T00:00:00.000000000",
          "2024-07-08T00:00:00.000000000",
          "2024-07-09T00:00:00.000000000",
          "2024-07-10T00:00:00.000000000",
          "2024-07-11T00:00:00.000000000",
          "2024-07-12T00:00:00.000000000",
          "2024-07-15T00:00:00.000000000",
          "2024-07-16T00:00:00.000000000",
          "2024-07-17T00:00:00.000000000",
          "2024-07-18T00:00:00.000000000",
          "2024-07-19T00:00:00.000000000",
          "2024-07-22T00:00:00.000000000",
          "2024-07-23T00:00:00.000000000",
          "2024-07-24T00:00:00.000000000",
          "2024-07-25T00:00:00.000000000",
          "2024-07-26T00:00:00.000000000",
          "2024-07-29T00:00:00.000000000",
          "2024-07-30T00:00:00.000000000"
         ],
         "xaxis": "x5",
         "y": {
          "bdata": "ZmZmJn7WVUBmZmZuPa5VQM3MzNwChVVAMzMzM6JsVUAzMzMTP2RVQGZmZj7oW1VAZmZmriVSVUAAAACQMT9VQJqZmXnpPlVAzczMRGlBVUAAAAAAb1FVQAAAANgSYlVAmpmZAd5sVUDNzMzs4mZVQDMzMwNNbFVAMzMz2196VUAzMzNT/IZVQGZmZr7jqFVAAAAAKOTHVUCamZnp+/tVQDMzM4vSLFZAZmZm1k1WVkCamZl5LYdWQDMzM3vpylZAAAAAYNwGV0CamZmJhVpXQAAAAKh5tVdAmpmZEVgNWEAzMzMjjllYQAAAADBurVhAmpmZSS77WEDNzMxMN2FZQJqZmVkXw1lAmpmZQfEpWkCamZmRD5BaQGZmZi6y8VpAZmZmLv9dW0DNzMzM7s1bQJqZmQEARlxAZmZmBjTBXEAzMzNjw0NdQGZmZiYGtV1AmpmZQTUaXkAzMzPTAEheQAAAAFjKhl5AZmZmhsmuXkBmZmZ+HcxeQM3MzNzX9V5AmpmZEcckX0DNzMxUUj1fQGZmZh44Y19AzczMNBFuX0DNzMwUHYVfQJqZmSGwpl9AmpmZCazQX0DNzMykcOVfQAAAADhe8l9AmpmZwZ/uX0DNzMzE9dxfQM3MzFxks19AZmZmJgaFX0BmZmZu51tfQJqZmUE1Ul9AzczMRItgX0CamZnxpzpfQGZmZtZ4DV9AMzMz+37qXkCamZmJQcReQAAAAJhugl5A",
          "dtype": "f8"
         },
         "yaxis": "y5"
        }
       ],
       "layout": {
        "annotations": [
         {
          "font": {
           "size": 16
          },
          "showarrow": false,
          "text": "NVDA Price and Indicators",
          "x": 0.5,
          "xanchor": "center",
          "xref": "paper",
          "y": 1,
          "yanchor": "bottom",
          "yref": "paper"
         },
         {
          "font": {
           "size": 16
          },
          "showarrow": false,
          "text": "Volume and VWAP",
          "x": 0.5,
          "xanchor": "center",
          "xref": "paper",
          "y": 0.63,
          "yanchor": "bottom",
          "yref": "paper"
         },
         {
          "font": {
           "size": 16
          },
          "showarrow": false,
          "text": "RSI and Stochastic",
          "x": 0.5,
          "xanchor": "center",
          "xref": "paper",
          "y": 0.45999999999999996,
          "yanchor": "bottom",
          "yref": "paper"
         },
         {
          "font": {
           "size": 16
          },
          "showarrow": false,
          "text": "MACD",
          "x": 0.5,
          "xanchor": "center",
          "xref": "paper",
          "y": 0.29,
          "yanchor": "bottom",
          "yref": "paper"
         },
         {
          "font": {
           "size": 16
          },
          "showarrow": false,
          "text": "Bollinger Bands",
          "x": 0.5,
          "xanchor": "center",
          "xref": "paper",
          "y": 0.12,
          "yanchor": "bottom",
          "yref": "paper"
         }
        ],
        "height": 1200,
        "legend": {
         "orientation": "h",
         "x": 1,
         "xanchor": "right",
         "y": 1.02,
         "yanchor": "bottom"
        },
        "shapes": [
         {
          "line": {
           "color": "red",
           "dash": "dash"
          },
          "type": "line",
          "x0": 0,
          "x1": 1,
          "xref": "x3 domain",
          "y0": 70,
          "y1": 70,
          "yref": "y3"
         },
         {
          "line": {
           "color": "green",
           "dash": "dash"
          },
          "type": "line",
          "x0": 0,
          "x1": 1,
          "xref": "x3 domain",
          "y0": 30,
          "y1": 30,
          "yref": "y3"
         }
        ],
        "showlegend": true,
        "template": {
         "data": {
          "bar": [
           {
            "error_x": {
             "color": "#2a3f5f"
            },
            "error_y": {
             "color": "#2a3f5f"
            },
            "marker": {
             "line": {
              "color": "white",
              "width": 0.5
             },
             "pattern": {
              "fillmode": "overlay",
              "size": 10,
              "solidity": 0.2
             }
            },
            "type": "bar"
           }
          ],
          "barpolar": [
           {
            "marker": {
             "line": {
              "color": "white",
              "width": 0.5
             },
             "pattern": {
              "fillmode": "overlay",
              "size": 10,
              "solidity": 0.2
             }
            },
            "type": "barpolar"
           }
          ],
          "carpet": [
           {
            "aaxis": {
             "endlinecolor": "#2a3f5f",
             "gridcolor": "#C8D4E3",
             "linecolor": "#C8D4E3",
             "minorgridcolor": "#C8D4E3",
             "startlinecolor": "#2a3f5f"
            },
            "baxis": {
             "endlinecolor": "#2a3f5f",
             "gridcolor": "#C8D4E3",
             "linecolor": "#C8D4E3",
             "minorgridcolor": "#C8D4E3",
             "startlinecolor": "#2a3f5f"
            },
            "type": "carpet"
           }
          ],
          "choropleth": [
           {
            "colorbar": {
             "outlinewidth": 0,
             "ticks": ""
            },
            "type": "choropleth"
           }
          ],
          "contour": [
           {
            "colorbar": {
             "outlinewidth": 0,
             "ticks": ""
            },
            "colorscale": [
             [
              0,
              "#0d0887"
             ],
             [
              0.1111111111111111,
              "#46039f"
             ],
             [
              0.2222222222222222,
              "#7201a8"
             ],
             [
              0.3333333333333333,
              "#9c179e"
             ],
             [
              0.4444444444444444,
              "#bd3786"
             ],
             [
              0.5555555555555556,
              "#d8576b"
             ],
             [
              0.6666666666666666,
              "#ed7953"
             ],
             [
              0.7777777777777778,
              "#fb9f3a"
             ],
             [
              0.8888888888888888,
              "#fdca26"
             ],
             [
              1,
              "#f0f921"
             ]
            ],
            "type": "contour"
           }
          ],
          "contourcarpet": [
           {
            "colorbar": {
             "outlinewidth": 0,
             "ticks": ""
            },
            "type": "contourcarpet"
           }
          ],
          "heatmap": [
           {
            "colorbar": {
             "outlinewidth": 0,
             "ticks": ""
            },
            "colorscale": [
             [
              0,
              "#0d0887"
             ],
             [
              0.1111111111111111,
              "#46039f"
             ],
             [
              0.2222222222222222,
              "#7201a8"
             ],
             [
              0.3333333333333333,
              "#9c179e"
             ],
             [
              0.4444444444444444,
              "#bd3786"
             ],
             [
              0.5555555555555556,
              "#d8576b"
             ],
             [
              0.6666666666666666,
              "#ed7953"
             ],
             [
              0.7777777777777778,
              "#fb9f3a"
             ],
             [
              0.8888888888888888,
              "#fdca26"
             ],
             [
              1,
              "#f0f921"
             ]
            ],
            "type": "heatmap"
           }
          ],
          "histogram": [
           {
            "marker": {
             "pattern": {
              "fillmode": "overlay",
              "size": 10,
              "solidity": 0.2
             }
            },
            "type": "histogram"
           }
          ],
          "histogram2d": [
           {
            "colorbar": {
             "outlinewidth": 0,
             "ticks": ""
            },
            "colorscale": [
             [
              0,
              "#0d0887"
             ],
             [
              0.1111111111111111,
              "#46039f"
             ],
             [
              0.2222222222222222,
              "#7201a8"
             ],
             [
              0.3333333333333333,
              "#9c179e"
             ],
             [
              0.4444444444444444,
              "#bd3786"
             ],
             [
              0.5555555555555556,
              "#d8576b"
             ],
             [
              0.6666666666666666,
              "#ed7953"
             ],
             [
              0.7777777777777778,
              "#fb9f3a"
             ],
             [
              0.8888888888888888,
              "#fdca26"
             ],
             [
              1,
              "#f0f921"
             ]
            ],
            "type": "histogram2d"
           }
          ],
          "histogram2dcontour": [
           {
            "colorbar": {
             "outlinewidth": 0,
             "ticks": ""
            },
            "colorscale": [
             [
              0,
              "#0d0887"
             ],
             [
              0.1111111111111111,
              "#46039f"
             ],
             [
              0.2222222222222222,
              "#7201a8"
             ],
             [
              0.3333333333333333,
              "#9c179e"
             ],
             [
              0.4444444444444444,
              "#bd3786"
             ],
             [
              0.5555555555555556,
              "#d8576b"
             ],
             [
              0.6666666666666666,
              "#ed7953"
             ],
             [
              0.7777777777777778,
              "#fb9f3a"
             ],
             [
              0.8888888888888888,
              "#fdca26"
             ],
             [
              1,
              "#f0f921"
             ]
            ],
            "type": "histogram2dcontour"
           }
          ],
          "mesh3d": [
           {
            "colorbar": {
             "outlinewidth": 0,
             "ticks": ""
            },
            "type": "mesh3d"
           }
          ],
          "parcoords": [
           {
            "line": {
             "colorbar": {
              "outlinewidth": 0,
              "ticks": ""
             }
            },
            "type": "parcoords"
           }
          ],
          "pie": [
           {
            "automargin": true,
            "type": "pie"
           }
          ],
          "scatter": [
           {
            "fillpattern": {
             "fillmode": "overlay",
             "size": 10,
             "solidity": 0.2
            },
            "type": "scatter"
           }
          ],
          "scatter3d": [
           {
            "line": {
             "colorbar": {
              "outlinewidth": 0,
              "ticks": ""
             }
            },
            "marker": {
             "colorbar": {
              "outlinewidth": 0,
              "ticks": ""
             }
            },
            "type": "scatter3d"
           }
          ],
          "scattercarpet": [
           {
            "marker": {
             "colorbar": {
              "outlinewidth": 0,
              "ticks": ""
             }
            },
            "type": "scattercarpet"
           }
          ],
          "scattergeo": [
           {
            "marker": {
             "colorbar": {
              "outlinewidth": 0,
              "ticks": ""
             }
            },
            "type": "scattergeo"
           }
          ],
          "scattergl": [
           {
            "marker": {
             "colorbar": {
              "outlinewidth": 0,
              "ticks": ""
             }
            },
            "type": "scattergl"
           }
          ],
          "scattermap": [
           {
            "marker": {
             "colorbar": {
              "outlinewidth": 0,
              "ticks": ""
             }
            },
            "type": "scattermap"
           }
          ],
          "scattermapbox": [
           {
            "marker": {
             "colorbar": {
              "outlinewidth": 0,
              "ticks": ""
             }
            },
            "type": "scattermapbox"
           }
          ],
          "scatterpolar": [
           {
            "marker": {
             "colorbar": {
              "outlinewidth": 0,
              "ticks": ""
             }
            },
            "type": "scatterpolar"
           }
          ],
          "scatterpolargl": [
           {
            "marker": {
             "colorbar": {
              "outlinewidth": 0,
              "ticks": ""
             }
            },
            "type": "scatterpolargl"
           }
          ],
          "scatterternary": [
           {
            "marker": {
             "colorbar": {
              "outlinewidth": 0,
              "ticks": ""
             }
            },
            "type": "scatterternary"
           }
          ],
          "surface": [
           {
            "colorbar": {
             "outlinewidth": 0,
             "ticks": ""
            },
            "colorscale": [
             [
              0,
              "#0d0887"
             ],
             [
              0.1111111111111111,
              "#46039f"
             ],
             [
              0.2222222222222222,
              "#7201a8"
             ],
             [
              0.3333333333333333,
              "#9c179e"
             ],
             [
              0.4444444444444444,
              "#bd3786"
             ],
             [
              0.5555555555555556,
              "#d8576b"
             ],
             [
              0.6666666666666666,
              "#ed7953"
             ],
             [
              0.7777777777777778,
              "#fb9f3a"
             ],
             [
              0.8888888888888888,
              "#fdca26"
             ],
             [
              1,
              "#f0f921"
             ]
            ],
            "type": "surface"
           }
          ],
          "table": [
           {
            "cells": {
             "fill": {
              "color": "#EBF0F8"
             },
             "line": {
              "color": "white"
             }
            },
            "header": {
             "fill": {
              "color": "#C8D4E3"
             },
             "line": {
              "color": "white"
             }
            },
            "type": "table"
           }
          ]
         },
         "layout": {
          "annotationdefaults": {
           "arrowcolor": "#2a3f5f",
           "arrowhead": 0,
           "arrowwidth": 1
          },
          "autotypenumbers": "strict",
          "coloraxis": {
           "colorbar": {
            "outlinewidth": 0,
            "ticks": ""
           }
          },
          "colorscale": {
           "diverging": [
            [
             0,
             "#8e0152"
            ],
            [
             0.1,
             "#c51b7d"
            ],
            [
             0.2,
             "#de77ae"
            ],
            [
             0.3,
             "#f1b6da"
            ],
            [
             0.4,
             "#fde0ef"
            ],
            [
             0.5,
             "#f7f7f7"
            ],
            [
             0.6,
             "#e6f5d0"
            ],
            [
             0.7,
             "#b8e186"
            ],
            [
             0.8,
             "#7fbc41"
            ],
            [
             0.9,
             "#4d9221"
            ],
            [
             1,
             "#276419"
            ]
           ],
           "sequential": [
            [
             0,
             "#0d0887"
            ],
            [
             0.1111111111111111,
             "#46039f"
            ],
            [
             0.2222222222222222,
             "#7201a8"
            ],
            [
             0.3333333333333333,
             "#9c179e"
            ],
            [
             0.4444444444444444,
             "#bd3786"
            ],
            [
             0.5555555555555556,
             "#d8576b"
            ],
            [
             0.6666666666666666,
             "#ed7953"
            ],
            [
             0.7777777777777778,
             "#fb9f3a"
            ],
            [
             0.8888888888888888,
             "#fdca26"
            ],
            [
             1,
             "#f0f921"
            ]
           ],
           "sequentialminus": [
            [
             0,
             "#0d0887"
            ],
            [
             0.1111111111111111,
             "#46039f"
            ],
            [
             0.2222222222222222,
             "#7201a8"
            ],
            [
             0.3333333333333333,
             "#9c179e"
            ],
            [
             0.4444444444444444,
             "#bd3786"
            ],
            [
             0.5555555555555556,
             "#d8576b"
            ],
            [
             0.6666666666666666,
             "#ed7953"
            ],
            [
             0.7777777777777778,
             "#fb9f3a"
            ],
            [
             0.8888888888888888,
             "#fdca26"
            ],
            [
             1,
             "#f0f921"
            ]
           ]
          },
          "colorway": [
           "#636efa",
           "#EF553B",
           "#00cc96",
           "#ab63fa",
           "#FFA15A",
           "#19d3f3",
           "#FF6692",
           "#B6E880",
           "#FF97FF",
           "#FECB52"
          ],
          "font": {
           "color": "#2a3f5f"
          },
          "geo": {
           "bgcolor": "white",
           "lakecolor": "white",
           "landcolor": "white",
           "showlakes": true,
           "showland": true,
           "subunitcolor": "#C8D4E3"
          },
          "hoverlabel": {
           "align": "left"
          },
          "hovermode": "closest",
          "mapbox": {
           "style": "light"
          },
          "paper_bgcolor": "white",
          "plot_bgcolor": "white",
          "polar": {
           "angularaxis": {
            "gridcolor": "#EBF0F8",
            "linecolor": "#EBF0F8",
            "ticks": ""
           },
           "bgcolor": "white",
           "radialaxis": {
            "gridcolor": "#EBF0F8",
            "linecolor": "#EBF0F8",
            "ticks": ""
           }
          },
          "scene": {
           "xaxis": {
            "backgroundcolor": "white",
            "gridcolor": "#DFE8F3",
            "gridwidth": 2,
            "linecolor": "#EBF0F8",
            "showbackground": true,
            "ticks": "",
            "zerolinecolor": "#EBF0F8"
           },
           "yaxis": {
            "backgroundcolor": "white",
            "gridcolor": "#DFE8F3",
            "gridwidth": 2,
            "linecolor": "#EBF0F8",
            "showbackground": true,
            "ticks": "",
            "zerolinecolor": "#EBF0F8"
           },
           "zaxis": {
            "backgroundcolor": "white",
            "gridcolor": "#DFE8F3",
            "gridwidth": 2,
            "linecolor": "#EBF0F8",
            "showbackground": true,
            "ticks": "",
            "zerolinecolor": "#EBF0F8"
           }
          },
          "shapedefaults": {
           "line": {
            "color": "#2a3f5f"
           }
          },
          "ternary": {
           "aaxis": {
            "gridcolor": "#DFE8F3",
            "linecolor": "#A2B1C6",
            "ticks": ""
           },
           "baxis": {
            "gridcolor": "#DFE8F3",
            "linecolor": "#A2B1C6",
            "ticks": ""
           },
           "bgcolor": "white",
           "caxis": {
            "gridcolor": "#DFE8F3",
            "linecolor": "#A2B1C6",
            "ticks": ""
           }
          },
          "title": {
           "x": 0.05
          },
          "xaxis": {
           "automargin": true,
           "gridcolor": "#EBF0F8",
           "linecolor": "#EBF0F8",
           "ticks": "",
           "title": {
            "standoff": 15
           },
           "zerolinecolor": "#EBF0F8",
           "zerolinewidth": 2
          },
          "yaxis": {
           "automargin": true,
           "gridcolor": "#EBF0F8",
           "linecolor": "#EBF0F8",
           "ticks": "",
           "title": {
            "standoff": 15
           },
           "zerolinecolor": "#EBF0F8",
           "zerolinewidth": 2
          }
         }
        },
        "title": {
         "text": "NVDA Technical Analysis Dashboard"
        },
        "xaxis": {
         "anchor": "y",
         "domain": [
          0,
          1
         ],
         "matches": "x5",
         "rangeslider": {
          "visible": false
         },
         "showticklabels": false
        },
        "xaxis2": {
         "anchor": "y2",
         "domain": [
          0,
          1
         ],
         "matches": "x5",
         "showticklabels": false
        },
        "xaxis3": {
         "anchor": "y3",
         "domain": [
          0,
          1
         ],
         "matches": "x5",
         "showticklabels": false
        },
        "xaxis4": {
         "anchor": "y4",
         "domain": [
          0,
          1
         ],
         "matches": "x5",
         "showticklabels": false
        },
        "xaxis5": {
         "anchor": "y5",
         "domain": [
          0,
          1
         ]
        },
        "yaxis": {
         "anchor": "x",
         "domain": [
          0.6799999999999999,
          1
         ],
         "title": {
          "text": "Price"
         }
        },
        "yaxis2": {
         "anchor": "x2",
         "domain": [
          0.51,
          0.63
         ],
         "title": {
          "text": "Volume"
         }
        },
        "yaxis3": {
         "anchor": "x3",
         "domain": [
          0.33999999999999997,
          0.45999999999999996
         ],
         "title": {
          "text": "RSI/Stochastic"
         }
        },
        "yaxis4": {
         "anchor": "x4",
         "domain": [
          0.16999999999999998,
          0.29
         ],
         "title": {
          "text": "MACD"
         }
        },
        "yaxis5": {
         "anchor": "x5",
         "domain": [
          0,
          0.12
         ],
         "title": {
          "text": "Bollinger Bands"
         }
        }
       }
      }
     },
     "metadata": {},
     "output_type": "display_data"
    },
    {
     "name": "stdout",
     "output_type": "stream",
     "text": [
      "\n",
      "Generating dashboard for TSLA...\n"
     ]
    },
    {
     "data": {
      "application/vnd.plotly.v1+json": {
       "config": {
        "plotlyServerURL": "https://plot.ly"
       },
       "data": [
        {
         "close": {
          "bdata": "AAAAoJnBYUAAAACAwhViQAAAAAApRGRAAAAAgMJFZUAAAACgRwllQAAAAKCZQWhAAAAAwPXoZkAAAAAgrn9mQAAAAOBRgGZAAAAAgBSmZkABAADgURhnQAAAAIDrOWZAAAAAQArXZUAAAABACn9lQAAAAEAKD2VAAAAA4Hp8ZUAAAACgmTFmQAAAACCuv2VAAAAAQOHaZUAAAABguC5mQAAAAGBm3mVA////PzNTZ0AAAAAghYNmQAAAACCut2VAAAAAIK5nZkAAAAAAABhmQAAAAIAUBmZAAAAAoEdZZkAAAABgj0JmQAAAAKBHCWZAAAAA4KPYZUAAAAAAAOBlQAAAAIAUPmZAAAAAIFwvZkAAAACgR7llQAAAAMAeVWVAAAAAoEcpZkAAAABACs9mQAAAAOBRQGZAAAAAgBRuZ0ABAAAghRtnQAAAAIA9smZAAQAA4FHgZkAAAABgj9JmQP///z8za2dAAAAAANeLaEAAAACgcK1oQAAAAAApvGhAAQAAIIU7akABAADgUehsQAAAAOB6zG5A////36Nwb0AAAACAFJ5vQAAAAKBHZXBAAAAAACl0cEAAAADA9SBuQP///x9cB29AAAAA4HqUb0D///+/9QhwQAAAAAAAEG9A////H1wnb0AAAABgZuZtQAEAAOBRcG9AAAAAACnMbkABAAAgrv9qQAAAAAAAiGtAAAAAoJl5a0D///8/MwNtQAAAAADX02tA",
          "dtype": "f8"
         },
         "high": {
          "bdata": "AAAAgBQOYkAAAADgUWhiQAAAAEAK/2RAAAAAAClcZUAAAAAA14NlQAAAAADX22hAAAAAYGbeZ0ABAAAghTtnQP///z8zE2dAAAAAwPUYZ0D///9/63FnQAEAAOBR6GZAAAAAgOsBZkAAAAAA1/NlQAAAAIDroWVAAAAAwMzsZUAAAAAgrm9mQAAAAAAAgGZAAAAAoEf5ZUAAAAAAKXRmQAAAAAAAOGZAAAAAAClcZ0AAAACgmflmQAEAAMDMvGZAAAAAYI+CZkAAAAAAAEhmQAAAAMDMRGZAAAAAoHDVZkAAAACAPYpmQAAAAOB61GZAAAAA4FE4ZkAAAADAzARmQAAAACBcd2ZAAAAAQDNrZkAAAACAPVJmQAAAAAAA2GVAAAAAoJmRZkAAAABgj+JnQAAAAAAAQGdA////f+uZZ0AAAABgZmZnQAAAAGC4JmdAAAAAYGb+ZkAAAACgmZlnQAAAAEAKf2dAAQAA4FG4aEAAAABACtdoQAAAAGBmZmlA////H1ynakAAAACgmelsQP///z8zC29AAAAAANeLb0AAAABACjdwQAAAAIDCmXBAAAAAoHC5cEAAAAAAAPBwQAEAAEDhem9AAAAAoJmZcEAAAACA6ylwQAAAACCFJ3BAAAAAgD0ScEAAAACAFC5vQAAAAGC4pm9AAQAA4FH4b0ABAAAgrj9sQAAAAAAAQGxAAAAAwPXIa0D////fo0htQP///78eDW1A",
          "dtype": "f8"
         },
         "low": {
          "bdata": "AAAAoJlZYUAAAAAghaNhQAAAAOBRsGNAAAAAIIXLY0AAAAAA18tkQAAAAKBHEWdAAQAAQOHaZkAAAADgUWBmQAAAAOCjAGZAAAAAoHBNZkAAAABgZsZmQAAAAMDMLGZAAAAAwMxEZUAAAAAA12tlQAAAAAAA+GRAAAAAAAAgZUAAAACAPcJlQAAAACCFo2VAAAAAgMJtZUAAAAAAAJhlQAAAAOCjsGVAAAAAYLjWZUAAAAAA10NmQAAAAOBRqGVAAAAAIFy3ZUAAAADAHqVlQAAAAIDCvWVAAAAAACnsZUAAAACAPbplQAAAACCuz2VAAAAAAADAZUAAAAAAKYRlQAAAACBcl2VAAAAAYI/yZUAAAACgcKVlQAAAAMAe7WRAAAAAoJk5ZUD///8fXKdmQAAAAKBwHWZAAAAAAAAgZkAAAAAA18tmQAAAAMAedWZAAAAAgBSWZkAAAACgmdFmQAEAAOBRwGZAAQAAIIVLZ0AAAACgmUFoQAEAAOBRaGhA////PzMbaUD///9/60FrQAAAAAAASG1AAAAAYLhObkAAAACAPZJuQAAAAKCZSW9AAAAAgMIdcEABAADAzPRtQAEAAEDhIm1A////H1x3b0AAAACgmbluQAAAAIDCxW5AAAAAYGbmbkAAAABgj5ptQAAAAAAAeG5AAAAAACm0bkAAAABguNZqQP///x9cB2tAAAAAYI/qakAAAABgZhZsQAAAAAAAgGtA",
          "dtype": "f8"
         },
         "name": "OHLC",
         "open": {
          "bdata": "AAAAgOuRYUAAAABgj+phQAAAAEDhWmRAAAAAYLjeY0AAAABAMxtlQAAAAKBwjWdA////H1xfZ0AAAAAAAMBmQAEAACCF22ZA////PzPDZkAAAACgmflmQAEAAMDMzGZAAAAAQOFyZUAAAADgUeBlQAAAAKCZoWVAAAAAAABAZUAAAAAAANBlQAAAAMDMfGZAAAAAQDPDZUAAAACgmbFlQAAAAIDrMWZAAAAA4FHwZUD///8/M9tmQAAAAKCZuWZAAAAAQOHaZUAAAADAzAxmQAAAAIAUxmVAAAAAYI9SZkAAAAAAAFBmQAAAAAApRGZAAAAAwPXYZUAAAABAM+tlQAAAAEAz02VAAAAAACkEZkAAAACA6wFmQAAAAKBwvWVAAAAAANdjZUAAAADgeoxnQAAAAKCZOWdAAAAAoHA9ZkD///9/61FnQAAAAIDCFWdAAAAAoJnJZkAAAABACh9nQAEAAMDMDGdAAAAAoEdRZ0AAAACgcGVoQAAAAKCZ8WhA////36MgaUAAAADgelxrQP///3/rUW1A////f+s5b0AAAABguPZuQAAAAAAAYG9AAAAAwMxscEAAAADAzHRwQAAAAKCZeW1AAAAAQAr/b0D///9/6+lvQP///x9cl29AAQAAQOFib0AAAACgR/luQAAAAGC4hm5A////PzOzb0AAAACgcC1sQAAAAKCZGWtAAAAAgBSma0ABAADAzBxsQAAAAAAACG1A",
          "dtype": "f8"
         },
         "type": "candlestick",
         "x": [
          "2024-04-22T00:00:00.000000000",
          "2024-04-23T00:00:00.000000000",
          "2024-04-24T00:00:00.000000000",
          "2024-04-25T00:00:00.000000000",
          "2024-04-26T00:00:00.000000000",
          "2024-04-29T00:00:00.000000000",
          "2024-04-30T00:00:00.000000000",
          "2024-05-01T00:00:00.000000000",
          "2024-05-02T00:00:00.000000000",
          "2024-05-03T00:00:00.000000000",
          "2024-05-06T00:00:00.000000000",
          "2024-05-07T00:00:00.000000000",
          "2024-05-08T00:00:00.000000000",
          "2024-05-09T00:00:00.000000000",
          "2024-05-10T00:00:00.000000000",
          "2024-05-13T00:00:00.000000000",
          "2024-05-14T00:00:00.000000000",
          "2024-05-15T00:00:00.000000000",
          "2024-05-16T00:00:00.000000000",
          "2024-05-17T00:00:00.000000000",
          "2024-05-20T00:00:00.000000000",
          "2024-05-21T00:00:00.000000000",
          "2024-05-22T00:00:00.000000000",
          "2024-05-23T00:00:00.000000000",
          "2024-05-24T00:00:00.000000000",
          "2024-05-28T00:00:00.000000000",
          "2024-05-29T00:00:00.000000000",
          "2024-05-30T00:00:00.000000000",
          "2024-05-31T00:00:00.000000000",
          "2024-06-03T00:00:00.000000000",
          "2024-06-04T00:00:00.000000000",
          "2024-06-05T00:00:00.000000000",
          "2024-06-06T00:00:00.000000000",
          "2024-06-07T00:00:00.000000000",
          "2024-06-10T00:00:00.000000000",
          "2024-06-11T00:00:00.000000000",
          "2024-06-12T00:00:00.000000000",
          "2024-06-13T00:00:00.000000000",
          "2024-06-14T00:00:00.000000000",
          "2024-06-17T00:00:00.000000000",
          "2024-06-18T00:00:00.000000000",
          "2024-06-20T00:00:00.000000000",
          "2024-06-21T00:00:00.000000000",
          "2024-06-24T00:00:00.000000000",
          "2024-06-25T00:00:00.000000000",
          "2024-06-26T00:00:00.000000000",
          "2024-06-27T00:00:00.000000000",
          "2024-06-28T00:00:00.000000000",
          "2024-07-01T00:00:00.000000000",
          "2024-07-02T00:00:00.000000000",
          "2024-07-03T00:00:00.000000000",
          "2024-07-05T00:00:00.000000000",
          "2024-07-08T00:00:00.000000000",
          "2024-07-09T00:00:00.000000000",
          "2024-07-10T00:00:00.000000000",
          "2024-07-11T00:00:00.000000000",
          "2024-07-12T00:00:00.000000000",
          "2024-07-15T00:00:00.000000000",
          "2024-07-16T00:00:00.000000000",
          "2024-07-17T00:00:00.000000000",
          "2024-07-18T00:00:00.000000000",
          "2024-07-19T00:00:00.000000000",
          "2024-07-22T00:00:00.000000000",
          "2024-07-23T00:00:00.000000000",
          "2024-07-24T00:00:00.000000000",
          "2024-07-25T00:00:00.000000000",
          "2024-07-26T00:00:00.000000000",
          "2024-07-29T00:00:00.000000000",
          "2024-07-30T00:00:00.000000000"
         ],
         "xaxis": "x",
         "yaxis": "y"
        },
        {
         "line": {
          "color": "blue"
         },
         "name": "SMA_20",
         "type": "scatter",
         "x": [
          "2024-04-22T00:00:00.000000000",
          "2024-04-23T00:00:00.000000000",
          "2024-04-24T00:00:00.000000000",
          "2024-04-25T00:00:00.000000000",
          "2024-04-26T00:00:00.000000000",
          "2024-04-29T00:00:00.000000000",
          "2024-04-30T00:00:00.000000000",
          "2024-05-01T00:00:00.000000000",
          "2024-05-02T00:00:00.000000000",
          "2024-05-03T00:00:00.000000000",
          "2024-05-06T00:00:00.000000000",
          "2024-05-07T00:00:00.000000000",
          "2024-05-08T00:00:00.000000000",
          "2024-05-09T00:00:00.000000000",
          "2024-05-10T00:00:00.000000000",
          "2024-05-13T00:00:00.000000000",
          "2024-05-14T00:00:00.000000000",
          "2024-05-15T00:00:00.000000000",
          "2024-05-16T00:00:00.000000000",
          "2024-05-17T00:00:00.000000000",
          "2024-05-20T00:00:00.000000000",
          "2024-05-21T00:00:00.000000000",
          "2024-05-22T00:00:00.000000000",
          "2024-05-23T00:00:00.000000000",
          "2024-05-24T00:00:00.000000000",
          "2024-05-28T00:00:00.000000000",
          "2024-05-29T00:00:00.000000000",
          "2024-05-30T00:00:00.000000000",
          "2024-05-31T00:00:00.000000000",
          "2024-06-03T00:00:00.000000000",
          "2024-06-04T00:00:00.000000000",
          "2024-06-05T00:00:00.000000000",
          "2024-06-06T00:00:00.000000000",
          "2024-06-07T00:00:00.000000000",
          "2024-06-10T00:00:00.000000000",
          "2024-06-11T00:00:00.000000000",
          "2024-06-12T00:00:00.000000000",
          "2024-06-13T00:00:00.000000000",
          "2024-06-14T00:00:00.000000000",
          "2024-06-17T00:00:00.000000000",
          "2024-06-18T00:00:00.000000000",
          "2024-06-20T00:00:00.000000000",
          "2024-06-21T00:00:00.000000000",
          "2024-06-24T00:00:00.000000000",
          "2024-06-25T00:00:00.000000000",
          "2024-06-26T00:00:00.000000000",
          "2024-06-27T00:00:00.000000000",
          "2024-06-28T00:00:00.000000000",
          "2024-07-01T00:00:00.000000000",
          "2024-07-02T00:00:00.000000000",
          "2024-07-03T00:00:00.000000000",
          "2024-07-05T00:00:00.000000000",
          "2024-07-08T00:00:00.000000000",
          "2024-07-09T00:00:00.000000000",
          "2024-07-10T00:00:00.000000000",
          "2024-07-11T00:00:00.000000000",
          "2024-07-12T00:00:00.000000000",
          "2024-07-15T00:00:00.000000000",
          "2024-07-16T00:00:00.000000000",
          "2024-07-17T00:00:00.000000000",
          "2024-07-18T00:00:00.000000000",
          "2024-07-19T00:00:00.000000000",
          "2024-07-22T00:00:00.000000000",
          "2024-07-23T00:00:00.000000000",
          "2024-07-24T00:00:00.000000000",
          "2024-07-25T00:00:00.000000000",
          "2024-07-26T00:00:00.000000000",
          "2024-07-29T00:00:00.000000000",
          "2024-07-30T00:00:00.000000000"
         ],
         "xaxis": "x",
         "y": {
          "bdata": "AAAAAADUZEDNzMysR6dkQGZmZn5qjmRAmpmZ2fl+ZECamZnZ+XJkQGZmZp4akWRAzczMdL6rZECamZnpUb5kQJqZmVmPzGRAzczMvJ/mZEAzMzPTePlkQAAAAMD1+mRAMzMzK7L/ZEAzMzPrfPtkQGZmZiZc92RAZmZmFgQIZUAAAABQuChlQM3MzExiRmVAAAAAcD1uZUAAAABg5Z5lQGZmZjaJ02VAZmZmppsWZkCamZlBYDNmQAAAAHASOWZAAAAAkJdKZkAzMzN76S5mQDMzM2uRI2ZAzczM5KUhZkBmZmZejx5mQDMzM1O4FmZAzczMbLwGZkAzMzNzPQJmQM3MzFxkB2ZAmpmZQTUQZkAzMzNTuBhmQM3MzITAFmZAzczMBFYWZkDNzMxs5yNmQDMzM9v5KGZAmpmZqfE4ZkDNzMzMzEhmQDMzM4PAQGZAmpmZWWRFZkBmZmY2iVNmQJqZmRGDYGZAMzMza+d/ZkCamZk536FmQGZmZn5qwGZAzczMlEPzZkA0MzNLN0tnQAEAANjOvWdAAAAAcD04aEAAAABwPbBoQGZmZv7/N2lAmpmZ6SbHaUBmZmZ2vjdqQM3MzHw/qWpAZmZmHoUZa0AzMzMzM5drQAAAAGDl+GtAMzMzU+NfbECamZmRGLxsQDMzMyuyKW1AZmZmpsaPbUAAAACYmb1tQAAAANjO421AmpmZsZ0HbkDNzMw0Xj5uQDMzM7PIUm5A",
          "dtype": "f8"
         },
         "yaxis": "y"
        },
        {
         "line": {
          "color": "orange"
         },
         "name": "SMA_50",
         "type": "scatter",
         "x": [
          "2024-04-22T00:00:00.000000000",
          "2024-04-23T00:00:00.000000000",
          "2024-04-24T00:00:00.000000000",
          "2024-04-25T00:00:00.000000000",
          "2024-04-26T00:00:00.000000000",
          "2024-04-29T00:00:00.000000000",
          "2024-04-30T00:00:00.000000000",
          "2024-05-01T00:00:00.000000000",
          "2024-05-02T00:00:00.000000000",
          "2024-05-03T00:00:00.000000000",
          "2024-05-06T00:00:00.000000000",
          "2024-05-07T00:00:00.000000000",
          "2024-05-08T00:00:00.000000000",
          "2024-05-09T00:00:00.000000000",
          "2024-05-10T00:00:00.000000000",
          "2024-05-13T00:00:00.000000000",
          "2024-05-14T00:00:00.000000000",
          "2024-05-15T00:00:00.000000000",
          "2024-05-16T00:00:00.000000000",
          "2024-05-17T00:00:00.000000000",
          "2024-05-20T00:00:00.000000000",
          "2024-05-21T00:00:00.000000000",
          "2024-05-22T00:00:00.000000000",
          "2024-05-23T00:00:00.000000000",
          "2024-05-24T00:00:00.000000000",
          "2024-05-28T00:00:00.000000000",
          "2024-05-29T00:00:00.000000000",
          "2024-05-30T00:00:00.000000000",
          "2024-05-31T00:00:00.000000000",
          "2024-06-03T00:00:00.000000000",
          "2024-06-04T00:00:00.000000000",
          "2024-06-05T00:00:00.000000000",
          "2024-06-06T00:00:00.000000000",
          "2024-06-07T00:00:00.000000000",
          "2024-06-10T00:00:00.000000000",
          "2024-06-11T00:00:00.000000000",
          "2024-06-12T00:00:00.000000000",
          "2024-06-13T00:00:00.000000000",
          "2024-06-14T00:00:00.000000000",
          "2024-06-17T00:00:00.000000000",
          "2024-06-18T00:00:00.000000000",
          "2024-06-20T00:00:00.000000000",
          "2024-06-21T00:00:00.000000000",
          "2024-06-24T00:00:00.000000000",
          "2024-06-25T00:00:00.000000000",
          "2024-06-26T00:00:00.000000000",
          "2024-06-27T00:00:00.000000000",
          "2024-06-28T00:00:00.000000000",
          "2024-07-01T00:00:00.000000000",
          "2024-07-02T00:00:00.000000000",
          "2024-07-03T00:00:00.000000000",
          "2024-07-05T00:00:00.000000000",
          "2024-07-08T00:00:00.000000000",
          "2024-07-09T00:00:00.000000000",
          "2024-07-10T00:00:00.000000000",
          "2024-07-11T00:00:00.000000000",
          "2024-07-12T00:00:00.000000000",
          "2024-07-15T00:00:00.000000000",
          "2024-07-16T00:00:00.000000000",
          "2024-07-17T00:00:00.000000000",
          "2024-07-18T00:00:00.000000000",
          "2024-07-19T00:00:00.000000000",
          "2024-07-22T00:00:00.000000000",
          "2024-07-23T00:00:00.000000000",
          "2024-07-24T00:00:00.000000000",
          "2024-07-25T00:00:00.000000000",
          "2024-07-26T00:00:00.000000000",
          "2024-07-29T00:00:00.000000000",
          "2024-07-30T00:00:00.000000000"
         ],
         "xaxis": "x",
         "y": {
          "bdata": "9ihcn802ZkC4HoV7gxdmQEjheqTfBmZAhetRGAT+ZUCuR+F68vBlQHsUrufZ7GVAFK5HsS7iZUDhehSeXtllQGZmZlbsz2VApHA92orFZUAK16OQ7cBlQClcj0Ics2VA9ihcnxqjZUBI4Xr0249lQPYoXA96emVArkfh+stmZUCkcD3qBGBlQOxRuP6yW2VAexSud5xaZUAAAACA2VllQKRwPZqZWWVA9ihcT0BfZUAUrkdh5WBlQHE9ClefY2VAXI/CBVZuZUDsUbhuxXZlQClcjwJNeGVASOF65BR9ZUApXI9ioX5lQIXrUejZgGVAAAAAcF+DZUDNzMy844RlQJqZmfkPhWVAMzMz846DZUBSuB5FR4JlQI/C9Shcf2VAFK5HsS6GZUApXI8yM49lQBSuR7Gdk2VAXI/CpQqiZUAUrkcRpallQKRwPXqlrGVA16NwrdizZUDsUbge9LhlQGZmZrZiw2VAcT0KF7fZZUCuR+F6g/NlQGZmZjarDmZAUrgeJQY1ZkDD9Sgc62pmQM3MzCyyrWZAexSu1xLyZkBxPQonMSxnQB+F6wErZ2dAUrge5fKjZ0CPwvUYBMJnQBSuR4GV62dArkfhehQaaEDsUbhuEktoQArXo4AmdmhASOF6RGmfaEB7FK5ns8ZoQNejcK3Y92hAMzMzA3gnaUAK16Ow4UVpQOF6FP7UZGlAuB6FO99/aUCamZn5D6VpQAAAAECkw2lA",
          "dtype": "f8"
         },
         "yaxis": "y"
        },
        {
         "line": {
          "color": "red"
         },
         "name": "SMA_200",
         "type": "scatter",
         "x": [
          "2024-04-22T00:00:00.000000000",
          "2024-04-23T00:00:00.000000000",
          "2024-04-24T00:00:00.000000000",
          "2024-04-25T00:00:00.000000000",
          "2024-04-26T00:00:00.000000000",
          "2024-04-29T00:00:00.000000000",
          "2024-04-30T00:00:00.000000000",
          "2024-05-01T00:00:00.000000000",
          "2024-05-02T00:00:00.000000000",
          "2024-05-03T00:00:00.000000000",
          "2024-05-06T00:00:00.000000000",
          "2024-05-07T00:00:00.000000000",
          "2024-05-08T00:00:00.000000000",
          "2024-05-09T00:00:00.000000000",
          "2024-05-10T00:00:00.000000000",
          "2024-05-13T00:00:00.000000000",
          "2024-05-14T00:00:00.000000000",
          "2024-05-15T00:00:00.000000000",
          "2024-05-16T00:00:00.000000000",
          "2024-05-17T00:00:00.000000000",
          "2024-05-20T00:00:00.000000000",
          "2024-05-21T00:00:00.000000000",
          "2024-05-22T00:00:00.000000000",
          "2024-05-23T00:00:00.000000000",
          "2024-05-24T00:00:00.000000000",
          "2024-05-28T00:00:00.000000000",
          "2024-05-29T00:00:00.000000000",
          "2024-05-30T00:00:00.000000000",
          "2024-05-31T00:00:00.000000000",
          "2024-06-03T00:00:00.000000000",
          "2024-06-04T00:00:00.000000000",
          "2024-06-05T00:00:00.000000000",
          "2024-06-06T00:00:00.000000000",
          "2024-06-07T00:00:00.000000000",
          "2024-06-10T00:00:00.000000000",
          "2024-06-11T00:00:00.000000000",
          "2024-06-12T00:00:00.000000000",
          "2024-06-13T00:00:00.000000000",
          "2024-06-14T00:00:00.000000000",
          "2024-06-17T00:00:00.000000000",
          "2024-06-18T00:00:00.000000000",
          "2024-06-20T00:00:00.000000000",
          "2024-06-21T00:00:00.000000000",
          "2024-06-24T00:00:00.000000000",
          "2024-06-25T00:00:00.000000000",
          "2024-06-26T00:00:00.000000000",
          "2024-06-27T00:00:00.000000000",
          "2024-06-28T00:00:00.000000000",
          "2024-07-01T00:00:00.000000000",
          "2024-07-02T00:00:00.000000000",
          "2024-07-03T00:00:00.000000000",
          "2024-07-05T00:00:00.000000000",
          "2024-07-08T00:00:00.000000000",
          "2024-07-09T00:00:00.000000000",
          "2024-07-10T00:00:00.000000000",
          "2024-07-11T00:00:00.000000000",
          "2024-07-12T00:00:00.000000000",
          "2024-07-15T00:00:00.000000000",
          "2024-07-16T00:00:00.000000000",
          "2024-07-17T00:00:00.000000000",
          "2024-07-18T00:00:00.000000000",
          "2024-07-19T00:00:00.000000000",
          "2024-07-22T00:00:00.000000000",
          "2024-07-23T00:00:00.000000000",
          "2024-07-24T00:00:00.000000000",
          "2024-07-25T00:00:00.000000000",
          "2024-07-26T00:00:00.000000000",
          "2024-07-29T00:00:00.000000000",
          "2024-07-30T00:00:00.000000000"
         ],
         "xaxis": "x",
         "y": {
          "bdata": "hetREMcJbECPwvWABPVrQHsUrh/S42tAj8L1GOLTa0B7FK6LSsNrQM3MzAzgtWtAexSu3y2ma0AK16NMhJRrQNejcE1igmtAXI/C1cVwa0BI4Xo4RWRrQKRwPeYdV2tAexSuuwVIa0DXo3DBFzlrQOxRuILAKWtApHA9Plcca0BxPQpPHg5rQFyPwgEr/2pAKVyPBl/xakBSuB5xG+VqQNejcKWb12pAFK5HrdjMakAzMzOXbsFqQI/C9URHtWpAZmZm1jSrakDD9ShkO6BqQArXozCZlWpAPQrX29eLakAUrkf5D4NqQIXrUTwse2pAhetRkA90akA9CtcXlW1qQNejcEkMZWpAexSuZyJcakDsUbgOC1JqQGZmZtqKSGpAFK5HAbw+akAK16PotzVqQHE9ChsNKWpApHA9BvAdakBxPQrvOBJqQClcj24SCGpAj8L1sFD8aUBmZmaGOPFpQFyPwln15mlAcT0KG57eaUB7FK6XbtJpQOxRuMZLx2lAXI/CMXe9aUAUrkcBTbZpQD0K1x/SsWlAPQrXg56vaUCPwvUYc61pQClcj3JorWlAcT0KG56uaUDNzMxoAK5pQHE9CjMzrmlAXI/CLZCvaUBxPQr/IbJpQM3MzNR4smlAPQrXR1CyaUCF61FgVLBpQPYoXFsgsWlAPQrX98KuaUDXo3BFtqdpQHE9CmdEoWlAexSuU+OaaUAK16NE2JVpQClcj7Zij2lA",
          "dtype": "f8"
         },
         "yaxis": "y"
        },
        {
         "marker": {
          "color": "rgba(0,0,255,0.3)"
         },
         "name": "Volume",
         "type": "bar",
         "x": [
          "2024-04-22T00:00:00.000000000",
          "2024-04-23T00:00:00.000000000",
          "2024-04-24T00:00:00.000000000",
          "2024-04-25T00:00:00.000000000",
          "2024-04-26T00:00:00.000000000",
          "2024-04-29T00:00:00.000000000",
          "2024-04-30T00:00:00.000000000",
          "2024-05-01T00:00:00.000000000",
          "2024-05-02T00:00:00.000000000",
          "2024-05-03T00:00:00.000000000",
          "2024-05-06T00:00:00.000000000",
          "2024-05-07T00:00:00.000000000",
          "2024-05-08T00:00:00.000000000",
          "2024-05-09T00:00:00.000000000",
          "2024-05-10T00:00:00.000000000",
          "2024-05-13T00:00:00.000000000",
          "2024-05-14T00:00:00.000000000",
          "2024-05-15T00:00:00.000000000",
          "2024-05-16T00:00:00.000000000",
          "2024-05-17T00:00:00.000000000",
          "2024-05-20T00:00:00.000000000",
          "2024-05-21T00:00:00.000000000",
          "2024-05-22T00:00:00.000000000",
          "2024-05-23T00:00:00.000000000",
          "2024-05-24T00:00:00.000000000",
          "2024-05-28T00:00:00.000000000",
          "2024-05-29T00:00:00.000000000",
          "2024-05-30T00:00:00.000000000",
          "2024-05-31T00:00:00.000000000",
          "2024-06-03T00:00:00.000000000",
          "2024-06-04T00:00:00.000000000",
          "2024-06-05T00:00:00.000000000",
          "2024-06-06T00:00:00.000000000",
          "2024-06-07T00:00:00.000000000",
          "2024-06-10T00:00:00.000000000",
          "2024-06-11T00:00:00.000000000",
          "2024-06-12T00:00:00.000000000",
          "2024-06-13T00:00:00.000000000",
          "2024-06-14T00:00:00.000000000",
          "2024-06-17T00:00:00.000000000",
          "2024-06-18T00:00:00.000000000",
          "2024-06-20T00:00:00.000000000",
          "2024-06-21T00:00:00.000000000",
          "2024-06-24T00:00:00.000000000",
          "2024-06-25T00:00:00.000000000",
          "2024-06-26T00:00:00.000000000",
          "2024-06-27T00:00:00.000000000",
          "2024-06-28T00:00:00.000000000",
          "2024-07-01T00:00:00.000000000",
          "2024-07-02T00:00:00.000000000",
          "2024-07-03T00:00:00.000000000",
          "2024-07-05T00:00:00.000000000",
          "2024-07-08T00:00:00.000000000",
          "2024-07-09T00:00:00.000000000",
          "2024-07-10T00:00:00.000000000",
          "2024-07-11T00:00:00.000000000",
          "2024-07-12T00:00:00.000000000",
          "2024-07-15T00:00:00.000000000",
          "2024-07-16T00:00:00.000000000",
          "2024-07-17T00:00:00.000000000",
          "2024-07-18T00:00:00.000000000",
          "2024-07-19T00:00:00.000000000",
          "2024-07-22T00:00:00.000000000",
          "2024-07-23T00:00:00.000000000",
          "2024-07-24T00:00:00.000000000",
          "2024-07-25T00:00:00.000000000",
          "2024-07-26T00:00:00.000000000",
          "2024-07-29T00:00:00.000000000",
          "2024-07-30T00:00:00.000000000"
         ],
         "xaxis": "x2",
         "y": {
          "bdata": "AC5iBkxobAeQjswKbCGJB5SniwYEKIkO+FmSBwR4iAVgSlAFrOh/BJyxBwUMHHkE3DzEBFxS7gMANFQElKD+A+h4JgWYj78EaKmQA6i6nQSo4q0DxNPeBpyOQwVMQkoEFCTnAxiCjwOI6kMD4OaiBKgjAwRERxYE7GKUAwhOdAMYZCoEpDpaA8Q1CAMsMNwDmDtjBaSNFwe4zeME9DOLBhyWHARs3FQD/MDBA6TssQNcp8sDDNW0BQQGVgQURbAFiHwWCFzIOAzchu0JUIA1CRD7XgnUn4wJ6AypByT8Ng1YsksJhLbBCFSuhwcgr+MGCLqbBnytNQW4kwgGiOOrBvSaAgpUl/8FRIujBYh2swesbf4F",
          "dtype": "i4"
         },
         "yaxis": "y2"
        },
        {
         "line": {
          "color": "purple"
         },
         "name": "VWAP",
         "type": "scatter",
         "x": [
          "2024-04-22T00:00:00.000000000",
          "2024-04-23T00:00:00.000000000",
          "2024-04-24T00:00:00.000000000",
          "2024-04-25T00:00:00.000000000",
          "2024-04-26T00:00:00.000000000",
          "2024-04-29T00:00:00.000000000",
          "2024-04-30T00:00:00.000000000",
          "2024-05-01T00:00:00.000000000",
          "2024-05-02T00:00:00.000000000",
          "2024-05-03T00:00:00.000000000",
          "2024-05-06T00:00:00.000000000",
          "2024-05-07T00:00:00.000000000",
          "2024-05-08T00:00:00.000000000",
          "2024-05-09T00:00:00.000000000",
          "2024-05-10T00:00:00.000000000",
          "2024-05-13T00:00:00.000000000",
          "2024-05-14T00:00:00.000000000",
          "2024-05-15T00:00:00.000000000",
          "2024-05-16T00:00:00.000000000",
          "2024-05-17T00:00:00.000000000",
          "2024-05-20T00:00:00.000000000",
          "2024-05-21T00:00:00.000000000",
          "2024-05-22T00:00:00.000000000",
          "2024-05-23T00:00:00.000000000",
          "2024-05-24T00:00:00.000000000",
          "2024-05-28T00:00:00.000000000",
          "2024-05-29T00:00:00.000000000",
          "2024-05-30T00:00:00.000000000",
          "2024-05-31T00:00:00.000000000",
          "2024-06-03T00:00:00.000000000",
          "2024-06-04T00:00:00.000000000",
          "2024-06-05T00:00:00.000000000",
          "2024-06-06T00:00:00.000000000",
          "2024-06-07T00:00:00.000000000",
          "2024-06-10T00:00:00.000000000",
          "2024-06-11T00:00:00.000000000",
          "2024-06-12T00:00:00.000000000",
          "2024-06-13T00:00:00.000000000",
          "2024-06-14T00:00:00.000000000",
          "2024-06-17T00:00:00.000000000",
          "2024-06-18T00:00:00.000000000",
          "2024-06-20T00:00:00.000000000",
          "2024-06-21T00:00:00.000000000",
          "2024-06-24T00:00:00.000000000",
          "2024-06-25T00:00:00.000000000",
          "2024-06-26T00:00:00.000000000",
          "2024-06-27T00:00:00.000000000",
          "2024-06-28T00:00:00.000000000",
          "2024-07-01T00:00:00.000000000",
          "2024-07-02T00:00:00.000000000",
          "2024-07-03T00:00:00.000000000",
          "2024-07-05T00:00:00.000000000",
          "2024-07-08T00:00:00.000000000",
          "2024-07-09T00:00:00.000000000",
          "2024-07-10T00:00:00.000000000",
          "2024-07-11T00:00:00.000000000",
          "2024-07-12T00:00:00.000000000",
          "2024-07-15T00:00:00.000000000",
          "2024-07-16T00:00:00.000000000",
          "2024-07-17T00:00:00.000000000",
          "2024-07-18T00:00:00.000000000",
          "2024-07-19T00:00:00.000000000",
          "2024-07-22T00:00:00.000000000",
          "2024-07-23T00:00:00.000000000",
          "2024-07-24T00:00:00.000000000",
          "2024-07-25T00:00:00.000000000",
          "2024-07-26T00:00:00.000000000",
          "2024-07-29T00:00:00.000000000",
          "2024-07-30T00:00:00.000000000"
         ],
         "xaxis": "x2",
         "y": {
          "bdata": "ZGs/sNpqZECK77kQky5kQDS8NxY+FmRAlsnrjZ8XZEBZBIviGhJkQFmLu5AMjmRAzW1jLNm1ZECDUC1aPMVkQJvH3N9m1mRAdi2OZ2/wZECGAY7JgiJlQBxA5ymBR2VAa+iOwDxzZUCf8lwxAJ5lQPe9Psw73mVAS01Lde0rZkAQBFdS4GhmQIIxSnWCiGZAsiWjUfqdZkDho1579ERmQAsgs08tI2ZAR8rdRekpZkDLjAYODStmQFzcuXarH2ZAkUNThigNZkCKb9+1eQVmQF/nA+yjC2ZAKg1RIbMYZkCuIeetzSlmQF4CXtKqNWZAEjbWy0ozZkCMBYT2PDJmQGFhWGZUN2ZA2c0X7K85ZkAgnqyLKTpmQDDWXbS7FmZAmMroCN8HZkCNVZX2ESpmQE1r4HdPMWZAcuZIs4lLZkAQudlY/lxmQBMZUEORYmZA4JdgKf1sZkAcHqD/vHpmQOFfkZ/djmZAjASc0XK/ZkByTDk5+OpmQEafG9q1H2dAd5vuIeqBZ0AVodm50l1oQMMR8JnfPGlAxtkkrP4LakB8WyL0q89qQCILezh8p2tACCojnUJDbEBxPWvsvtBsQBG+nfY/KW1AOJnzsYmSbUAI1QxG3OdtQDU0fA3cQW5A4IQY8SWEbkDJsPqv3MNuQJgPxBV6Gm9AS+aKOFVlb0A7bbAvmiJvQKnWNM5M825ACFI2oD63bkBQt6726GxuQK5Zh0EzHm5A",
          "dtype": "f8"
         },
         "yaxis": "y2"
        },
        {
         "line": {
          "color": "blue"
         },
         "name": "RSI",
         "type": "scatter",
         "x": [
          "2024-04-22T00:00:00.000000000",
          "2024-04-23T00:00:00.000000000",
          "2024-04-24T00:00:00.000000000",
          "2024-04-25T00:00:00.000000000",
          "2024-04-26T00:00:00.000000000",
          "2024-04-29T00:00:00.000000000",
          "2024-04-30T00:00:00.000000000",
          "2024-05-01T00:00:00.000000000",
          "2024-05-02T00:00:00.000000000",
          "2024-05-03T00:00:00.000000000",
          "2024-05-06T00:00:00.000000000",
          "2024-05-07T00:00:00.000000000",
          "2024-05-08T00:00:00.000000000",
          "2024-05-09T00:00:00.000000000",
          "2024-05-10T00:00:00.000000000",
          "2024-05-13T00:00:00.000000000",
          "2024-05-14T00:00:00.000000000",
          "2024-05-15T00:00:00.000000000",
          "2024-05-16T00:00:00.000000000",
          "2024-05-17T00:00:00.000000000",
          "2024-05-20T00:00:00.000000000",
          "2024-05-21T00:00:00.000000000",
          "2024-05-22T00:00:00.000000000",
          "2024-05-23T00:00:00.000000000",
          "2024-05-24T00:00:00.000000000",
          "2024-05-28T00:00:00.000000000",
          "2024-05-29T00:00:00.000000000",
          "2024-05-30T00:00:00.000000000",
          "2024-05-31T00:00:00.000000000",
          "2024-06-03T00:00:00.000000000",
          "2024-06-04T00:00:00.000000000",
          "2024-06-05T00:00:00.000000000",
          "2024-06-06T00:00:00.000000000",
          "2024-06-07T00:00:00.000000000",
          "2024-06-10T00:00:00.000000000",
          "2024-06-11T00:00:00.000000000",
          "2024-06-12T00:00:00.000000000",
          "2024-06-13T00:00:00.000000000",
          "2024-06-14T00:00:00.000000000",
          "2024-06-17T00:00:00.000000000",
          "2024-06-18T00:00:00.000000000",
          "2024-06-20T00:00:00.000000000",
          "2024-06-21T00:00:00.000000000",
          "2024-06-24T00:00:00.000000000",
          "2024-06-25T00:00:00.000000000",
          "2024-06-26T00:00:00.000000000",
          "2024-06-27T00:00:00.000000000",
          "2024-06-28T00:00:00.000000000",
          "2024-07-01T00:00:00.000000000",
          "2024-07-02T00:00:00.000000000",
          "2024-07-03T00:00:00.000000000",
          "2024-07-05T00:00:00.000000000",
          "2024-07-08T00:00:00.000000000",
          "2024-07-09T00:00:00.000000000",
          "2024-07-10T00:00:00.000000000",
          "2024-07-11T00:00:00.000000000",
          "2024-07-12T00:00:00.000000000",
          "2024-07-15T00:00:00.000000000",
          "2024-07-16T00:00:00.000000000",
          "2024-07-17T00:00:00.000000000",
          "2024-07-18T00:00:00.000000000",
          "2024-07-19T00:00:00.000000000",
          "2024-07-22T00:00:00.000000000",
          "2024-07-23T00:00:00.000000000",
          "2024-07-24T00:00:00.000000000",
          "2024-07-25T00:00:00.000000000",
          "2024-07-26T00:00:00.000000000",
          "2024-07-29T00:00:00.000000000",
          "2024-07-30T00:00:00.000000000"
         ],
         "xaxis": "x3",
         "y": {
          "bdata": "CEnRbNXVO0DARAZa+As/QHWdLOpl10dA03WguSakSkARFcXlcfBJQLwFI9QmU1BAcAqH7NMBTUC9wBgM8PpLQHDvjT4+/EtAUcfHUANOTECNf2VPtkhNQPNKv/uYwEpAApWGyV+wSUBfME5ZCL9IQMDQuYOkj0dA5SXw61/USEB1GmIw989KQEfDfedEdElAzG8d0g/FSUD2iQLo98JKQP9f8PldrUlAu5sGbBbGTUCVKV7mmQpLQExKR+Z3pkhAoO8kD4KTSkD65nMEf6BJQFvxzG06aElA7tnwFx1rSkBxS0RoThpKQLzt7bZWSElAQPihpo6TSEBRxr/cC7FIQDP8ccZuLUpA84pDMcnrSUAfHpRnDeZHQOiMJTUFT0ZAPCRN/xz1SUDw8PCIZFtMQD167HKA9ElAkTWLMr/XTUDwogtjWXxMQHnmjcW7z0pANMOSwsJvS0Akw8QwZTNLQHaF2jDdUk1AaIqf2UhPUEDKdRNl3npQQC7AKCLYjlBAH8Q/iYJIUkD57LAcvy1UQEpUyTkKCFVAwLDFtqtFVUBg+TMgn1ZVQH3h8V/gv1VA9Il7hbnJVUAQStkJRLNQQDjre/pJU1FAb/y8FkawUUA9Hb+WZQFSQH7DwN7EbVBA+JBG5lmAUECkANr15lNNQDn7hjPd+k9AyeV88iM9TkDsmiyHhnFGQOdtXB/HeUdA6ViA9UZgR0Bx5TW2DlVKQIuBUYE4HEhA",
          "dtype": "f8"
         },
         "yaxis": "y3"
        },
        {
         "line": {
          "color": "green"
         },
         "name": "Stochastic %K",
         "type": "scatter",
         "x": [
          "2024-04-22T00:00:00.000000000",
          "2024-04-23T00:00:00.000000000",
          "2024-04-24T00:00:00.000000000",
          "2024-04-25T00:00:00.000000000",
          "2024-04-26T00:00:00.000000000",
          "2024-04-29T00:00:00.000000000",
          "2024-04-30T00:00:00.000000000",
          "2024-05-01T00:00:00.000000000",
          "2024-05-02T00:00:00.000000000",
          "2024-05-03T00:00:00.000000000",
          "2024-05-06T00:00:00.000000000",
          "2024-05-07T00:00:00.000000000",
          "2024-05-08T00:00:00.000000000",
          "2024-05-09T00:00:00.000000000",
          "2024-05-10T00:00:00.000000000",
          "2024-05-13T00:00:00.000000000",
          "2024-05-14T00:00:00.000000000",
          "2024-05-15T00:00:00.000000000",
          "2024-05-16T00:00:00.000000000",
          "2024-05-17T00:00:00.000000000",
          "2024-05-20T00:00:00.000000000",
          "2024-05-21T00:00:00.000000000",
          "2024-05-22T00:00:00.000000000",
          "2024-05-23T00:00:00.000000000",
          "2024-05-24T00:00:00.000000000",
          "2024-05-28T00:00:00.000000000",
          "2024-05-29T00:00:00.000000000",
          "2024-05-30T00:00:00.000000000",
          "2024-05-31T00:00:00.000000000",
          "2024-06-03T00:00:00.000000000",
          "2024-06-04T00:00:00.000000000",
          "2024-06-05T00:00:00.000000000",
          "2024-06-06T00:00:00.000000000",
          "2024-06-07T00:00:00.000000000",
          "2024-06-10T00:00:00.000000000",
          "2024-06-11T00:00:00.000000000",
          "2024-06-12T00:00:00.000000000",
          "2024-06-13T00:00:00.000000000",
          "2024-06-14T00:00:00.000000000",
          "2024-06-17T00:00:00.000000000",
          "2024-06-18T00:00:00.000000000",
          "2024-06-20T00:00:00.000000000",
          "2024-06-21T00:00:00.000000000",
          "2024-06-24T00:00:00.000000000",
          "2024-06-25T00:00:00.000000000",
          "2024-06-26T00:00:00.000000000",
          "2024-06-27T00:00:00.000000000",
          "2024-06-28T00:00:00.000000000",
          "2024-07-01T00:00:00.000000000",
          "2024-07-02T00:00:00.000000000",
          "2024-07-03T00:00:00.000000000",
          "2024-07-05T00:00:00.000000000",
          "2024-07-08T00:00:00.000000000",
          "2024-07-09T00:00:00.000000000",
          "2024-07-10T00:00:00.000000000",
          "2024-07-11T00:00:00.000000000",
          "2024-07-12T00:00:00.000000000",
          "2024-07-15T00:00:00.000000000",
          "2024-07-16T00:00:00.000000000",
          "2024-07-17T00:00:00.000000000",
          "2024-07-18T00:00:00.000000000",
          "2024-07-19T00:00:00.000000000",
          "2024-07-22T00:00:00.000000000",
          "2024-07-23T00:00:00.000000000",
          "2024-07-24T00:00:00.000000000",
          "2024-07-25T00:00:00.000000000",
          "2024-07-26T00:00:00.000000000",
          "2024-07-29T00:00:00.000000000",
          "2024-07-30T00:00:00.000000000"
         ],
         "xaxis": "x3",
         "y": {
          "bdata": "gXLZKMYUIEBgSVdgLhgtQPlTKtIG3ExAKy3gwqBoU0CkYpbJXj1SQDfZ9nB3/lZAhI7CMQGDUkC2XkwfeyRRQNRd0VGcJlFAQLLK21SkUUC2VPParyBTQGug0rs3PFBAkrS0GAHmTUBLbnJsBZxLQNSJcZoor0dASdIKpUpiQUBV2Zj5fa9HQDuxEzs5cjdAUeZwfmPINkD36/nrPu1EQBCrRcgxLEJAIlaNONvJV0DecUlcRTJPQF7o3ru+PD5AJI687gcITkCiDQ8Z9IVHQEwe3nxBD0ZArecy1uzaTEA2Vd4mOWRJQMOnI2jPdD9AYCFuG0GeNUCx3Y7mWBs3QNV9eWzlsUNAHlsRNLQiQkD35bEVIYImQH0aASZE1DNAjIDLAaQvUEB7WsWh+s9PQJFNTVklZEZA2Flj+cwnVUDoH2dPNW5SQMrNs09K6U1A53QHzf55UECmoY5iuwVQQFr1wpF3D1VAb+rp6OLaV0Aa1KoBRfZXQGtDzo6sSFVA0iHSA0opV0BbonYl1vtYQJqn2w1jUFhAPZZUaea3WEAJwH7+YwdXQMWvQNjDC1hAGSKVVtfEV0Cc/qWOHbRQQGFfcitsmlJA2brP/pTXU0CUS6zbILxUQGDJTKensFFAi/1agnHQUUBHpeNXk1VLQJDUJzGll09AziIMAkOHQUD0m8uwBTECQEN/BtMKryNAxexRb7wVIkD75BhGwuQ+QBJsB1m7GixA",
          "dtype": "f8"
         },
         "yaxis": "y3"
        },
        {
         "line": {
          "color": "red"
         },
         "name": "Stochastic %D",
         "type": "scatter",
         "x": [
          "2024-04-22T00:00:00.000000000",
          "2024-04-23T00:00:00.000000000",
          "2024-04-24T00:00:00.000000000",
          "2024-04-25T00:00:00.000000000",
          "2024-04-26T00:00:00.000000000",
          "2024-04-29T00:00:00.000000000",
          "2024-04-30T00:00:00.000000000",
          "2024-05-01T00:00:00.000000000",
          "2024-05-02T00:00:00.000000000",
          "2024-05-03T00:00:00.000000000",
          "2024-05-06T00:00:00.000000000",
          "2024-05-07T00:00:00.000000000",
          "2024-05-08T00:00:00.000000000",
          "2024-05-09T00:00:00.000000000",
          "2024-05-10T00:00:00.000000000",
          "2024-05-13T00:00:00.000000000",
          "2024-05-14T00:00:00.000000000",
          "2024-05-15T00:00:00.000000000",
          "2024-05-16T00:00:00.000000000",
          "2024-05-17T00:00:00.000000000",
          "2024-05-20T00:00:00.000000000",
          "2024-05-21T00:00:00.000000000",
          "2024-05-22T00:00:00.000000000",
          "2024-05-23T00:00:00.000000000",
          "2024-05-24T00:00:00.000000000",
          "2024-05-28T00:00:00.000000000",
          "2024-05-29T00:00:00.000000000",
          "2024-05-30T00:00:00.000000000",
          "2024-05-31T00:00:00.000000000",
          "2024-06-03T00:00:00.000000000",
          "2024-06-04T00:00:00.000000000",
          "2024-06-05T00:00:00.000000000",
          "2024-06-06T00:00:00.000000000",
          "2024-06-07T00:00:00.000000000",
          "2024-06-10T00:00:00.000000000",
          "2024-06-11T00:00:00.000000000",
          "2024-06-12T00:00:00.000000000",
          "2024-06-13T00:00:00.000000000",
          "2024-06-14T00:00:00.000000000",
          "2024-06-17T00:00:00.000000000",
          "2024-06-18T00:00:00.000000000",
          "2024-06-20T00:00:00.000000000",
          "2024-06-21T00:00:00.000000000",
          "2024-06-24T00:00:00.000000000",
          "2024-06-25T00:00:00.000000000",
          "2024-06-26T00:00:00.000000000",
          "2024-06-27T00:00:00.000000000",
          "2024-06-28T00:00:00.000000000",
          "2024-07-01T00:00:00.000000000",
          "2024-07-02T00:00:00.000000000",
          "2024-07-03T00:00:00.000000000",
          "2024-07-05T00:00:00.000000000",
          "2024-07-08T00:00:00.000000000",
          "2024-07-09T00:00:00.000000000",
          "2024-07-10T00:00:00.000000000",
          "2024-07-11T00:00:00.000000000",
          "2024-07-12T00:00:00.000000000",
          "2024-07-15T00:00:00.000000000",
          "2024-07-16T00:00:00.000000000",
          "2024-07-17T00:00:00.000000000",
          "2024-07-18T00:00:00.000000000",
          "2024-07-19T00:00:00.000000000",
          "2024-07-22T00:00:00.000000000",
          "2024-07-23T00:00:00.000000000",
          "2024-07-24T00:00:00.000000000",
          "2024-07-25T00:00:00.000000000",
          "2024-07-26T00:00:00.000000000",
          "2024-07-29T00:00:00.000000000",
          "2024-07-30T00:00:00.000000000"
         ],
         "xaxis": "x3",
         "y": {
          "bdata": "A36G+6NyE0AfIkkRPbwgQO8BT/jXxDpAM4BVpcb7SECX6IP8AFxRQKvNeVTSNlRAc0PFzkfqU0DO7AGWpoxTQK3DSjYImlFAQXpNxM5PUUCWIYWtNflRQMk3MCYUq1FAIcUKYU3FUEA3IURUJ/5NQIw5iAplEEtAHe6kjn3kRkB3vLG9pZVFQA8sDxT3mEFAXcM85DIzP0B1en0wXlw9QAuu0nuL1EBAFMHIYWLkTEDb9kbuXChQQBWGxmMeTE9AYNFROORySUChWj53HuRGQAA+49ZpNElAgwZgeQvQSEALyU/Td29JQDywCzsvU0dA6L03eEBPQUA84grOzWQ5QN2o+kjMCTxAlMLwWxd2QEDrNvpDwfg8QIeWqV2UczZALQVYPUzxP0DrosmSIbNIQFs441TN20xAneROUvQVUEArYNBRXO1QQN/KNtA3LlJA5NPCFvOeUEDxqEo66qJPQJ+uHetl2lFAeIC+SQdQVECf5sd+ivVWQPlVdiicCFdAcGhuMWnNVkDbV7KSmSRXQOsjDL0rJ1hAY/WMiQqsWEBI/+TROQVYQAECXBVa7ldAoDAcD1WdV0An8NPpkoFVQAWA5FogsVNA77KiPQpiUkBBd09XC7pTQOzvQisfbFNAKAYcVxO/UkAtMzNH9mNQQPQm69mzhE9AMTRdLil8SUCv5WovqMBAQBP7zRfIci9ALTeyyQU2HED1CBdNt5cwQMOFbGP//jFA",
          "dtype": "f8"
         },
         "yaxis": "y3"
        },
        {
         "line": {
          "color": "blue"
         },
         "name": "MACD",
         "type": "scatter",
         "x": [
          "2024-04-22T00:00:00.000000000",
          "2024-04-23T00:00:00.000000000",
          "2024-04-24T00:00:00.000000000",
          "2024-04-25T00:00:00.000000000",
          "2024-04-26T00:00:00.000000000",
          "2024-04-29T00:00:00.000000000",
          "2024-04-30T00:00:00.000000000",
          "2024-05-01T00:00:00.000000000",
          "2024-05-02T00:00:00.000000000",
          "2024-05-03T00:00:00.000000000",
          "2024-05-06T00:00:00.000000000",
          "2024-05-07T00:00:00.000000000",
          "2024-05-08T00:00:00.000000000",
          "2024-05-09T00:00:00.000000000",
          "2024-05-10T00:00:00.000000000",
          "2024-05-13T00:00:00.000000000",
          "2024-05-14T00:00:00.000000000",
          "2024-05-15T00:00:00.000000000",
          "2024-05-16T00:00:00.000000000",
          "2024-05-17T00:00:00.000000000",
          "2024-05-20T00:00:00.000000000",
          "2024-05-21T00:00:00.000000000",
          "2024-05-22T00:00:00.000000000",
          "2024-05-23T00:00:00.000000000",
          "2024-05-24T00:00:00.000000000",
          "2024-05-28T00:00:00.000000000",
          "2024-05-29T00:00:00.000000000",
          "2024-05-30T00:00:00.000000000",
          "2024-05-31T00:00:00.000000000",
          "2024-06-03T00:00:00.000000000",
          "2024-06-04T00:00:00.000000000",
          "2024-06-05T00:00:00.000000000",
          "2024-06-06T00:00:00.000000000",
          "2024-06-07T00:00:00.000000000",
          "2024-06-10T00:00:00.000000000",
          "2024-06-11T00:00:00.000000000",
          "2024-06-12T00:00:00.000000000",
          "2024-06-13T00:00:00.000000000",
          "2024-06-14T00:00:00.000000000",
          "2024-06-17T00:00:00.000000000",
          "2024-06-18T00:00:00.000000000",
          "2024-06-20T00:00:00.000000000",
          "2024-06-21T00:00:00.000000000",
          "2024-06-24T00:00:00.000000000",
          "2024-06-25T00:00:00.000000000",
          "2024-06-26T00:00:00.000000000",
          "2024-06-27T00:00:00.000000000",
          "2024-06-28T00:00:00.000000000",
          "2024-07-01T00:00:00.000000000",
          "2024-07-02T00:00:00.000000000",
          "2024-07-03T00:00:00.000000000",
          "2024-07-05T00:00:00.000000000",
          "2024-07-08T00:00:00.000000000",
          "2024-07-09T00:00:00.000000000",
          "2024-07-10T00:00:00.000000000",
          "2024-07-11T00:00:00.000000000",
          "2024-07-12T00:00:00.000000000",
          "2024-07-15T00:00:00.000000000",
          "2024-07-16T00:00:00.000000000",
          "2024-07-17T00:00:00.000000000",
          "2024-07-18T00:00:00.000000000",
          "2024-07-19T00:00:00.000000000",
          "2024-07-22T00:00:00.000000000",
          "2024-07-23T00:00:00.000000000",
          "2024-07-24T00:00:00.000000000",
          "2024-07-25T00:00:00.000000000",
          "2024-07-26T00:00:00.000000000",
          "2024-07-29T00:00:00.000000000",
          "2024-07-30T00:00:00.000000000"
         ],
         "xaxis": "x4",
         "y": {
          "bdata": "8HKS8OY4IMDwN9LpyjkhwGB4wAkuEB7A4ElFp7y2F8BgRWd9chITwIApSD1A/vu/AJBWyuWozL8AwBT7ycTmP4BIbyebAfc/gKiIYYetAEBAXNtBAdIGQECa5p/77wZAQDF96LrLBEDAQ4fePSABQAB47+zPpPc/ANYL2aRt8z+AXd0a2SD3PwAUWdxEOPU/AIKv7E2R9D+A8W04kSr3P4BUXCQQvPU/AN4zqg2eAUAA/c0YOpACQACca/Y9Dv4/ANHXGWgx/z8AUsvC7Iz8PwCJkN+lcPk/gMJIkxoI+j8AV1Gd1Ur5PwBxQ1jhI/Y/AHpLsmh68T8At9qmBtfrPwB8KkG/c+0/AMiK5pE07T8A+ciPekLjPwAA+p2DELo/AFRzJxNvzj8AiH0MOyfoPwAwm9SQdOk/gNOn8/Mg+T8AOibk6UP/PwCZmVuEhP8/wM1p1NiYAECAK+p7TcoAQEBPv4FbywNAQChRLcWtC0BAbwJm+BoRQKDce0eynRNAAHAleaIuGUAAsoBJ1QoiQJAbcVaChShA8CeFhQcjLkBA4lMsrzUxQDirILC2cDNAsDanFGEKNUCYbKZJ/Ec0QKgOWPaMBzRAQBqXg7H0M0DwSJrbwPszQPAlqBFjIjNAGGO43StPMkDgFf7ecacwQOCbLwFFJjBA4DEOpl9SLkDgikr8HZQnQPBdw3DXtCJAoKgRS1s1HUDgVQrNVV8aQMDGbMov0xRA",
          "dtype": "f8"
         },
         "yaxis": "y4"
        },
        {
         "line": {
          "color": "red"
         },
         "name": "Signal",
         "type": "scatter",
         "x": [
          "2024-04-22T00:00:00.000000000",
          "2024-04-23T00:00:00.000000000",
          "2024-04-24T00:00:00.000000000",
          "2024-04-25T00:00:00.000000000",
          "2024-04-26T00:00:00.000000000",
          "2024-04-29T00:00:00.000000000",
          "2024-04-30T00:00:00.000000000",
          "2024-05-01T00:00:00.000000000",
          "2024-05-02T00:00:00.000000000",
          "2024-05-03T00:00:00.000000000",
          "2024-05-06T00:00:00.000000000",
          "2024-05-07T00:00:00.000000000",
          "2024-05-08T00:00:00.000000000",
          "2024-05-09T00:00:00.000000000",
          "2024-05-10T00:00:00.000000000",
          "2024-05-13T00:00:00.000000000",
          "2024-05-14T00:00:00.000000000",
          "2024-05-15T00:00:00.000000000",
          "2024-05-16T00:00:00.000000000",
          "2024-05-17T00:00:00.000000000",
          "2024-05-20T00:00:00.000000000",
          "2024-05-21T00:00:00.000000000",
          "2024-05-22T00:00:00.000000000",
          "2024-05-23T00:00:00.000000000",
          "2024-05-24T00:00:00.000000000",
          "2024-05-28T00:00:00.000000000",
          "2024-05-29T00:00:00.000000000",
          "2024-05-30T00:00:00.000000000",
          "2024-05-31T00:00:00.000000000",
          "2024-06-03T00:00:00.000000000",
          "2024-06-04T00:00:00.000000000",
          "2024-06-05T00:00:00.000000000",
          "2024-06-06T00:00:00.000000000",
          "2024-06-07T00:00:00.000000000",
          "2024-06-10T00:00:00.000000000",
          "2024-06-11T00:00:00.000000000",
          "2024-06-12T00:00:00.000000000",
          "2024-06-13T00:00:00.000000000",
          "2024-06-14T00:00:00.000000000",
          "2024-06-17T00:00:00.000000000",
          "2024-06-18T00:00:00.000000000",
          "2024-06-20T00:00:00.000000000",
          "2024-06-21T00:00:00.000000000",
          "2024-06-24T00:00:00.000000000",
          "2024-06-25T00:00:00.000000000",
          "2024-06-26T00:00:00.000000000",
          "2024-06-27T00:00:00.000000000",
          "2024-06-28T00:00:00.000000000",
          "2024-07-01T00:00:00.000000000",
          "2024-07-02T00:00:00.000000000",
          "2024-07-03T00:00:00.000000000",
          "2024-07-05T00:00:00.000000000",
          "2024-07-08T00:00:00.000000000",
          "2024-07-09T00:00:00.000000000",
          "2024-07-10T00:00:00.000000000",
          "2024-07-11T00:00:00.000000000",
          "2024-07-12T00:00:00.000000000",
          "2024-07-15T00:00:00.000000000",
          "2024-07-16T00:00:00.000000000",
          "2024-07-17T00:00:00.000000000",
          "2024-07-18T00:00:00.000000000",
          "2024-07-19T00:00:00.000000000",
          "2024-07-22T00:00:00.000000000",
          "2024-07-23T00:00:00.000000000",
          "2024-07-24T00:00:00.000000000",
          "2024-07-25T00:00:00.000000000",
          "2024-07-26T00:00:00.000000000",
          "2024-07-29T00:00:00.000000000",
          "2024-07-30T00:00:00.000000000"
         ],
         "xaxis": "x4",
         "y": {
          "bdata": "Z4xrnYb4FsCzhhB1VkQZwAm3M/nnORrANKGdtUW5GcA99cUQtWQYwBKTexAU6hTAwpmmSR7pEMA2uXxcJusJwLnZC8YobwLA9Rip4tfS9r+7d8UC8kLiv1BDB1QK7b0/Iq4xjxah4z9Pji2+dmftP7kdQkiMffA/x3VqmPcT8T+GChtMvknyP2sMwTXZ3/I/vPAjJ4o28z/j8GX38QD0P2me/ZmRWfQ/InGsJa1T9z+1v0JbOxb6P16F5BNv4fo/f5R7ezq++z8zh4tWkef7P8O6vz5iafs/g++nT7oi+z9qNzBfWcT6P4jcAJF01/k/1MgP/j4r+D+QTO/bfx72P3QWqmn5o/Q/9iXJHtZu8z94apvA6njxPye36+R6m+w/UvAbeVZo6D/cQfz8UFvoP+TX6PSQk+g/Hs5jJW+27T+m95U8WyPyP+wX/XVj0PQ/cGWO5j9K9z/zyALqHln5P6rzgVU9Mvw/UTZEK3PQAED0VwTlJUsEQNDRAQfMFAhA2geqz31WDUDx493WuvMSQGHB3jRj+BhA8O6m/PUDIEANgA0PPrIjQO6q5Lh6iCdABQUtnCI+K0B1LwA0GugtQG7FifLm7y9AOVRVexnEMED4UZaO1GgxQJCvZkIkwTFAeNNDLozdMUDA4DXrhp8xQJRsAVYTVDFApiicCBnlMEBq9jtAYb8vQIZxvRasIy1ASYVMM3k7KkA4c/Ejg58nQA1wMuQg+yRA",
          "dtype": "f8"
         },
         "yaxis": "y4"
        },
        {
         "marker": {
          "color": "rgba(0,255,0,0.3)"
         },
         "name": "MACD Diff",
         "type": "bar",
         "x": [
          "2024-04-22T00:00:00.000000000",
          "2024-04-23T00:00:00.000000000",
          "2024-04-24T00:00:00.000000000",
          "2024-04-25T00:00:00.000000000",
          "2024-04-26T00:00:00.000000000",
          "2024-04-29T00:00:00.000000000",
          "2024-04-30T00:00:00.000000000",
          "2024-05-01T00:00:00.000000000",
          "2024-05-02T00:00:00.000000000",
          "2024-05-03T00:00:00.000000000",
          "2024-05-06T00:00:00.000000000",
          "2024-05-07T00:00:00.000000000",
          "2024-05-08T00:00:00.000000000",
          "2024-05-09T00:00:00.000000000",
          "2024-05-10T00:00:00.000000000",
          "2024-05-13T00:00:00.000000000",
          "2024-05-14T00:00:00.000000000",
          "2024-05-15T00:00:00.000000000",
          "2024-05-16T00:00:00.000000000",
          "2024-05-17T00:00:00.000000000",
          "2024-05-20T00:00:00.000000000",
          "2024-05-21T00:00:00.000000000",
          "2024-05-22T00:00:00.000000000",
          "2024-05-23T00:00:00.000000000",
          "2024-05-24T00:00:00.000000000",
          "2024-05-28T00:00:00.000000000",
          "2024-05-29T00:00:00.000000000",
          "2024-05-30T00:00:00.000000000",
          "2024-05-31T00:00:00.000000000",
          "2024-06-03T00:00:00.000000000",
          "2024-06-04T00:00:00.000000000",
          "2024-06-05T00:00:00.000000000",
          "2024-06-06T00:00:00.000000000",
          "2024-06-07T00:00:00.000000000",
          "2024-06-10T00:00:00.000000000",
          "2024-06-11T00:00:00.000000000",
          "2024-06-12T00:00:00.000000000",
          "2024-06-13T00:00:00.000000000",
          "2024-06-14T00:00:00.000000000",
          "2024-06-17T00:00:00.000000000",
          "2024-06-18T00:00:00.000000000",
          "2024-06-20T00:00:00.000000000",
          "2024-06-21T00:00:00.000000000",
          "2024-06-24T00:00:00.000000000",
          "2024-06-25T00:00:00.000000000",
          "2024-06-26T00:00:00.000000000",
          "2024-06-27T00:00:00.000000000",
          "2024-06-28T00:00:00.000000000",
          "2024-07-01T00:00:00.000000000",
          "2024-07-02T00:00:00.000000000",
          "2024-07-03T00:00:00.000000000",
          "2024-07-05T00:00:00.000000000",
          "2024-07-08T00:00:00.000000000",
          "2024-07-09T00:00:00.000000000",
          "2024-07-10T00:00:00.000000000",
          "2024-07-11T00:00:00.000000000",
          "2024-07-12T00:00:00.000000000",
          "2024-07-15T00:00:00.000000000",
          "2024-07-16T00:00:00.000000000",
          "2024-07-17T00:00:00.000000000",
          "2024-07-18T00:00:00.000000000",
          "2024-07-19T00:00:00.000000000",
          "2024-07-22T00:00:00.000000000",
          "2024-07-23T00:00:00.000000000",
          "2024-07-24T00:00:00.000000000",
          "2024-07-25T00:00:00.000000000",
          "2024-07-26T00:00:00.000000000",
          "2024-07-29T00:00:00.000000000",
          "2024-07-30T00:00:00.000000000"
         ],
         "xaxis": "x4",
         "y": {
          "bdata": "8rJyh47yAsBa0ie9fl4CwLgKZoQwsu6/oLrCckgU4D90v3pNCkn1P2QRUwII1QtAQuVTG9cDEEA26UHbWJwPQPl9w1n27w1A+jTdUvMWDEAvuozCvWILQCZgRk2TAAZAb4thierG/z9YwPddwIzzPxxptZIOndw/yAELBWrNwj/oSwk7a1zTP6g8wDRdw8I/QBS5WDystT/oBEAI+kzJP3Bh66XoJ7Y/vJV2XdzQ5z+WdLKscRTmPxC1OBR3Zsk/COTh8myZyz+gWfmHbaukPzAc8/LFi7+/MNDyxfupsb+gBu4dPJi3v0Bc68WZnM2/UDsRL1nD2r8g4gMR+WXgv9BhUyRnqNe/2AcPrjRS07/gt9vitV7fvyd3LHFqWem/Uhs/r5HM4L8A7lw/+Ap6v4ADS/b7H5w/4tjrwXiL5D+0hCBPHUHqPygCOctBaOU/IGyKhOPO4z8aHKMb+HbgP6xV+VvzyOY/3uMZBKS69T8YDQHOldX7P+DO6w8xTf4/JtigIscGBUAPgCO87yERQL91A3ihEhhAAHK8ESM+HEDmiDSTQHIdQARXuU7lsR5AttBCGj+tHUB2U5m+vE8VQMSvTPRlPhBAODAOQsCECUDAtx9oYpcEQABmF/TsE/Y/AOgj3etn3D8AXPmGoQLvv0ALHU3l3PK/YPtQWZO++78U1+KHhlYQwCwn9Eup3RTA8mGHG5dBF8CQkNh6sN8UwFoZ+P0RIxXA",
          "dtype": "f8"
         },
         "yaxis": "y4"
        },
        {
         "line": {
          "color": "gray",
          "dash": "dash"
         },
         "name": "BB Upper",
         "type": "scatter",
         "x": [
          "2024-04-22T00:00:00.000000000",
          "2024-04-23T00:00:00.000000000",
          "2024-04-24T00:00:00.000000000",
          "2024-04-25T00:00:00.000000000",
          "2024-04-26T00:00:00.000000000",
          "2024-04-29T00:00:00.000000000",
          "2024-04-30T00:00:00.000000000",
          "2024-05-01T00:00:00.000000000",
          "2024-05-02T00:00:00.000000000",
          "2024-05-03T00:00:00.000000000",
          "2024-05-06T00:00:00.000000000",
          "2024-05-07T00:00:00.000000000",
          "2024-05-08T00:00:00.000000000",
          "2024-05-09T00:00:00.000000000",
          "2024-05-10T00:00:00.000000000",
          "2024-05-13T00:00:00.000000000",
          "2024-05-14T00:00:00.000000000",
          "2024-05-15T00:00:00.000000000",
          "2024-05-16T00:00:00.000000000",
          "2024-05-17T00:00:00.000000000",
          "2024-05-20T00:00:00.000000000",
          "2024-05-21T00:00:00.000000000",
          "2024-05-22T00:00:00.000000000",
          "2024-05-23T00:00:00.000000000",
          "2024-05-24T00:00:00.000000000",
          "2024-05-28T00:00:00.000000000",
          "2024-05-29T00:00:00.000000000",
          "2024-05-30T00:00:00.000000000",
          "2024-05-31T00:00:00.000000000",
          "2024-06-03T00:00:00.000000000",
          "2024-06-04T00:00:00.000000000",
          "2024-06-05T00:00:00.000000000",
          "2024-06-06T00:00:00.000000000",
          "2024-06-07T00:00:00.000000000",
          "2024-06-10T00:00:00.000000000",
          "2024-06-11T00:00:00.000000000",
          "2024-06-12T00:00:00.000000000",
          "2024-06-13T00:00:00.000000000",
          "2024-06-14T00:00:00.000000000",
          "2024-06-17T00:00:00.000000000",
          "2024-06-18T00:00:00.000000000",
          "2024-06-20T00:00:00.000000000",
          "2024-06-21T00:00:00.000000000",
          "2024-06-24T00:00:00.000000000",
          "2024-06-25T00:00:00.000000000",
          "2024-06-26T00:00:00.000000000",
          "2024-06-27T00:00:00.000000000",
          "2024-06-28T00:00:00.000000000",
          "2024-07-01T00:00:00.000000000",
          "2024-07-02T00:00:00.000000000",
          "2024-07-03T00:00:00.000000000",
          "2024-07-05T00:00:00.000000000",
          "2024-07-08T00:00:00.000000000",
          "2024-07-09T00:00:00.000000000",
          "2024-07-10T00:00:00.000000000",
          "2024-07-11T00:00:00.000000000",
          "2024-07-12T00:00:00.000000000",
          "2024-07-15T00:00:00.000000000",
          "2024-07-16T00:00:00.000000000",
          "2024-07-17T00:00:00.000000000",
          "2024-07-18T00:00:00.000000000",
          "2024-07-19T00:00:00.000000000",
          "2024-07-22T00:00:00.000000000",
          "2024-07-23T00:00:00.000000000",
          "2024-07-24T00:00:00.000000000",
          "2024-07-25T00:00:00.000000000",
          "2024-07-26T00:00:00.000000000",
          "2024-07-29T00:00:00.000000000",
          "2024-07-30T00:00:00.000000000"
         ],
         "xaxis": "x5",
         "y": {
          "bdata": "LZsD8Dl/Z0DcKRyU7YxnQIbo+bYEXmdABmt6oEowZ0DEyQBpohFnQLr6MdkhnWdAk5g9KVjiZ0AI9CkTNg1oQMqNRN5sL2hARAp3RjNhaEBITW2SVJJoQHtsFVbJlWhAyyNATgOeaEAj4j3NrpZoQJPQOt9tkWhAsQdk8g+faEA26n0GObloQJuE7z7FwWhARqmaXvS3aECiwxtdc5toQJkca67HOmhAyK1xwQjdZ0BwzGpN7sVnQDPTMW4awWdA7Y2/sj+5Z0DxGWWbAkxnQLwQ9SHsM2dA+qYqR+kvZ0B9VCwM0ilnQJ9ToDC4GmdAiZ6E3EfvZkA9dUrsIOpmQO+lfF/K72ZA8eFMqHvwZkC70MViaNxmQNZKbNJa4WZAB/tkKMDgZkCN8FwIWPlmQNZHFaMK/GZAUuKSiTo3Z0CGTDKMp1VnQNP32FTPNWdAraOOwrRCZ0CvMrBcNE9nQK0i8+8yeGdA35UNLzTvZ0DoSD6hLlVoQN8w0HsFrWhAZY8bjCFiaUB+xOQ65s9qQHsIZJoIemxAP7aHIFvvbUDsMyJCTypvQF8DiVM7PXBA3D0egOjJcECPVLeHdfpwQDWTqoXDN3FAr5vTRu14cUD2DfU71rFxQPKHmE4v1XFAIksWcFrscUDEgqRCCuFxQFFaJM8T3nFA+LrASrK9cUCWJUpdZoxxQEweC+pSZ3FA1b9hat49cUCwe4TVZgJxQKpGph8J6HBA",
          "dtype": "f8"
         },
         "yaxis": "y5"
        },
        {
         "line": {
          "color": "gray",
          "dash": "dash"
         },
         "name": "BB Lower",
         "type": "scatter",
         "x": [
          "2024-04-22T00:00:00.000000000",
          "2024-04-23T00:00:00.000000000",
          "2024-04-24T00:00:00.000000000",
          "2024-04-25T00:00:00.000000000",
          "2024-04-26T00:00:00.000000000",
          "2024-04-29T00:00:00.000000000",
          "2024-04-30T00:00:00.000000000",
          "2024-05-01T00:00:00.000000000",
          "2024-05-02T00:00:00.000000000",
          "2024-05-03T00:00:00.000000000",
          "2024-05-06T00:00:00.000000000",
          "2024-05-07T00:00:00.000000000",
          "2024-05-08T00:00:00.000000000",
          "2024-05-09T00:00:00.000000000",
          "2024-05-10T00:00:00.000000000",
          "2024-05-13T00:00:00.000000000",
          "2024-05-14T00:00:00.000000000",
          "2024-05-15T00:00:00.000000000",
          "2024-05-16T00:00:00.000000000",
          "2024-05-17T00:00:00.000000000",
          "2024-05-20T00:00:00.000000000",
          "2024-05-21T00:00:00.000000000",
          "2024-05-22T00:00:00.000000000",
          "2024-05-23T00:00:00.000000000",
          "2024-05-24T00:00:00.000000000",
          "2024-05-28T00:00:00.000000000",
          "2024-05-29T00:00:00.000000000",
          "2024-05-30T00:00:00.000000000",
          "2024-05-31T00:00:00.000000000",
          "2024-06-03T00:00:00.000000000",
          "2024-06-04T00:00:00.000000000",
          "2024-06-05T00:00:00.000000000",
          "2024-06-06T00:00:00.000000000",
          "2024-06-07T00:00:00.000000000",
          "2024-06-10T00:00:00.000000000",
          "2024-06-11T00:00:00.000000000",
          "2024-06-12T00:00:00.000000000",
          "2024-06-13T00:00:00.000000000",
          "2024-06-14T00:00:00.000000000",
          "2024-06-17T00:00:00.000000000",
          "2024-06-18T00:00:00.000000000",
          "2024-06-20T00:00:00.000000000",
          "2024-06-21T00:00:00.000000000",
          "2024-06-24T00:00:00.000000000",
          "2024-06-25T00:00:00.000000000",
          "2024-06-26T00:00:00.000000000",
          "2024-06-27T00:00:00.000000000",
          "2024-06-28T00:00:00.000000000",
          "2024-07-01T00:00:00.000000000",
          "2024-07-02T00:00:00.000000000",
          "2024-07-03T00:00:00.000000000",
          "2024-07-05T00:00:00.000000000",
          "2024-07-08T00:00:00.000000000",
          "2024-07-09T00:00:00.000000000",
          "2024-07-10T00:00:00.000000000",
          "2024-07-11T00:00:00.000000000",
          "2024-07-12T00:00:00.000000000",
          "2024-07-15T00:00:00.000000000",
          "2024-07-16T00:00:00.000000000",
          "2024-07-17T00:00:00.000000000",
          "2024-07-18T00:00:00.000000000",
          "2024-07-19T00:00:00.000000000",
          "2024-07-22T00:00:00.000000000",
          "2024-07-23T00:00:00.000000000",
          "2024-07-24T00:00:00.000000000",
          "2024-07-25T00:00:00.000000000",
          "2024-07-26T00:00:00.000000000",
          "2024-07-29T00:00:00.000000000",
          "2024-07-30T00:00:00.000000000"
         ],
         "xaxis": "x5",
         "y": {
          "bdata": "02T8D8YoYkC+b33FocFhQEbk0kXQvmFALsi4EqnNYUBwaTJKUdRhQBLSmmMThWFABwFcwCR1YUAsPwnAbW9hQGql7tSxaWFAVo8iMwxsYUAeGfkTnWBhQIWT6ikiYGFAm0ImCGFhYUBDhCgJS2BhQDn8kW1KXWFAG8VoOvhwYUDKFYKZN5hhQP8Uqlr/ymFAulZlgYYkYkBePORiV6JiQDOwYb5KbGNABB9biy5QZEDEZsg10qBkQM0sznEKsWRAE3JAbe/bZEB1TAFb0BFlQKpVcbQ2E2VAoPJugmITZUBPeKCwTBNlQMcSxnW4EmVAEfsU/TAeZUAp8Rv6WRplQKvzHFr+HmVAQ1Hm2u4vZUCrlaBDCFVlQMROLTcmTGVAk5404etLZUANqTzRdk5lQJAeURPpVWVA4lCgyag6ZUAUTWcN8jtlQJNujbGxS2VAh4+k8BNIZUAdmhwQ3ldlQIcQQDPTSGVAh9BYp5oQZUBM6vTRj+5kQO2b/IDP02RANQp+nWWEZEDqoYFbiMZjQIf3mxWVAWNAwUl4vx+BYkAUzN2dKzZiQA7GulWJ9WFAfLf20nz6YUCvI17dkXpiQDBzRO734mJAbZUlry9BY0B5SnzuucpjQBzwziJsR2RAItA5xhHnZECsLeqdHLZlQMSxHbg8l2ZA3FZLtyikZ0DUtGt1ZmJoQGjD6dv3+GhAi7Nvjn6TaUA6opC+7ndqQBLZGSd/1WpA",
          "dtype": "f8"
         },
         "yaxis": "y5"
        },
        {
         "line": {
          "color": "gray"
         },
         "name": "BB Middle",
         "type": "scatter",
         "x": [
          "2024-04-22T00:00:00.000000000",
          "2024-04-23T00:00:00.000000000",
          "2024-04-24T00:00:00.000000000",
          "2024-04-25T00:00:00.000000000",
          "2024-04-26T00:00:00.000000000",
          "2024-04-29T00:00:00.000000000",
          "2024-04-30T00:00:00.000000000",
          "2024-05-01T00:00:00.000000000",
          "2024-05-02T00:00:00.000000000",
          "2024-05-03T00:00:00.000000000",
          "2024-05-06T00:00:00.000000000",
          "2024-05-07T00:00:00.000000000",
          "2024-05-08T00:00:00.000000000",
          "2024-05-09T00:00:00.000000000",
          "2024-05-10T00:00:00.000000000",
          "2024-05-13T00:00:00.000000000",
          "2024-05-14T00:00:00.000000000",
          "2024-05-15T00:00:00.000000000",
          "2024-05-16T00:00:00.000000000",
          "2024-05-17T00:00:00.000000000",
          "2024-05-20T00:00:00.000000000",
          "2024-05-21T00:00:00.000000000",
          "2024-05-22T00:00:00.000000000",
          "2024-05-23T00:00:00.000000000",
          "2024-05-24T00:00:00.000000000",
          "2024-05-28T00:00:00.000000000",
          "2024-05-29T00:00:00.000000000",
          "2024-05-30T00:00:00.000000000",
          "2024-05-31T00:00:00.000000000",
          "2024-06-03T00:00:00.000000000",
          "2024-06-04T00:00:00.000000000",
          "2024-06-05T00:00:00.000000000",
          "2024-06-06T00:00:00.000000000",
          "2024-06-07T00:00:00.000000000",
          "2024-06-10T00:00:00.000000000",
          "2024-06-11T00:00:00.000000000",
          "2024-06-12T00:00:00.000000000",
          "2024-06-13T00:00:00.000000000",
          "2024-06-14T00:00:00.000000000",
          "2024-06-17T00:00:00.000000000",
          "2024-06-18T00:00:00.000000000",
          "2024-06-20T00:00:00.000000000",
          "2024-06-21T00:00:00.000000000",
          "2024-06-24T00:00:00.000000000",
          "2024-06-25T00:00:00.000000000",
          "2024-06-26T00:00:00.000000000",
          "2024-06-27T00:00:00.000000000",
          "2024-06-28T00:00:00.000000000",
          "2024-07-01T00:00:00.000000000",
          "2024-07-02T00:00:00.000000000",
          "2024-07-03T00:00:00.000000000",
          "2024-07-05T00:00:00.000000000",
          "2024-07-08T00:00:00.000000000",
          "2024-07-09T00:00:00.000000000",
          "2024-07-10T00:00:00.000000000",
          "2024-07-11T00:00:00.000000000",
          "2024-07-12T00:00:00.000000000",
          "2024-07-15T00:00:00.000000000",
          "2024-07-16T00:00:00.000000000",
          "2024-07-17T00:00:00.000000000",
          "2024-07-18T00:00:00.000000000",
          "2024-07-19T00:00:00.000000000",
          "2024-07-22T00:00:00.000000000",
          "2024-07-23T00:00:00.000000000",
          "2024-07-24T00:00:00.000000000",
          "2024-07-25T00:00:00.000000000",
          "2024-07-26T00:00:00.000000000",
          "2024-07-29T00:00:00.000000000",
          "2024-07-30T00:00:00.000000000"
         ],
         "xaxis": "x5",
         "y": {
          "bdata": "AAAAAADUZEDNzMysR6dkQGZmZn5qjmRAmpmZ2fl+ZECamZnZ+XJkQGZmZp4akWRAzczMdL6rZECamZnpUb5kQJqZmVmPzGRAzczMvJ/mZEAzMzPTePlkQAAAAMD1+mRAMzMzK7L/ZEAzMzPrfPtkQGZmZiZc92RAZmZmFgQIZUAAAABQuChlQM3MzExiRmVAAAAAcD1uZUAAAABg5Z5lQGZmZjaJ02VAZmZmppsWZkCamZlBYDNmQAAAAHASOWZAAAAAkJdKZkAzMzN76S5mQDMzM2uRI2ZAzczM5KUhZkBmZmZejx5mQDMzM1O4FmZAzczMbLwGZkAzMzNzPQJmQM3MzFxkB2ZAmpmZQTUQZkAzMzNTuBhmQM3MzITAFmZAzczMBFYWZkDNzMxs5yNmQDMzM9v5KGZAmpmZqfE4ZkDNzMzMzEhmQDMzM4PAQGZAmpmZWWRFZkBmZmY2iVNmQJqZmRGDYGZAMzMza+d/ZkCamZk536FmQGZmZn5qwGZAzczMlEPzZkA0MzNLN0tnQAEAANjOvWdAAAAAcD04aEAAAABwPbBoQGZmZv7/N2lAmpmZ6SbHaUBmZmZ2vjdqQM3MzHw/qWpAZmZmHoUZa0AzMzMzM5drQAAAAGDl+GtAMzMzU+NfbECamZmRGLxsQDMzMyuyKW1AZmZmpsaPbUAAAACYmb1tQAAAANjO421AmpmZsZ0HbkDNzMw0Xj5uQDMzM7PIUm5A",
          "dtype": "f8"
         },
         "yaxis": "y5"
        }
       ],
       "layout": {
        "annotations": [
         {
          "font": {
           "size": 16
          },
          "showarrow": false,
          "text": "TSLA Price and Indicators",
          "x": 0.5,
          "xanchor": "center",
          "xref": "paper",
          "y": 1,
          "yanchor": "bottom",
          "yref": "paper"
         },
         {
          "font": {
           "size": 16
          },
          "showarrow": false,
          "text": "Volume and VWAP",
          "x": 0.5,
          "xanchor": "center",
          "xref": "paper",
          "y": 0.63,
          "yanchor": "bottom",
          "yref": "paper"
         },
         {
          "font": {
           "size": 16
          },
          "showarrow": false,
          "text": "RSI and Stochastic",
          "x": 0.5,
          "xanchor": "center",
          "xref": "paper",
          "y": 0.45999999999999996,
          "yanchor": "bottom",
          "yref": "paper"
         },
         {
          "font": {
           "size": 16
          },
          "showarrow": false,
          "text": "MACD",
          "x": 0.5,
          "xanchor": "center",
          "xref": "paper",
          "y": 0.29,
          "yanchor": "bottom",
          "yref": "paper"
         },
         {
          "font": {
           "size": 16
          },
          "showarrow": false,
          "text": "Bollinger Bands",
          "x": 0.5,
          "xanchor": "center",
          "xref": "paper",
          "y": 0.12,
          "yanchor": "bottom",
          "yref": "paper"
         }
        ],
        "height": 1200,
        "legend": {
         "orientation": "h",
         "x": 1,
         "xanchor": "right",
         "y": 1.02,
         "yanchor": "bottom"
        },
        "shapes": [
         {
          "line": {
           "color": "red",
           "dash": "dash"
          },
          "type": "line",
          "x0": 0,
          "x1": 1,
          "xref": "x3 domain",
          "y0": 70,
          "y1": 70,
          "yref": "y3"
         },
         {
          "line": {
           "color": "green",
           "dash": "dash"
          },
          "type": "line",
          "x0": 0,
          "x1": 1,
          "xref": "x3 domain",
          "y0": 30,
          "y1": 30,
          "yref": "y3"
         }
        ],
        "showlegend": true,
        "template": {
         "data": {
          "bar": [
           {
            "error_x": {
             "color": "#2a3f5f"
            },
            "error_y": {
             "color": "#2a3f5f"
            },
            "marker": {
             "line": {
              "color": "white",
              "width": 0.5
             },
             "pattern": {
              "fillmode": "overlay",
              "size": 10,
              "solidity": 0.2
             }
            },
            "type": "bar"
           }
          ],
          "barpolar": [
           {
            "marker": {
             "line": {
              "color": "white",
              "width": 0.5
             },
             "pattern": {
              "fillmode": "overlay",
              "size": 10,
              "solidity": 0.2
             }
            },
            "type": "barpolar"
           }
          ],
          "carpet": [
           {
            "aaxis": {
             "endlinecolor": "#2a3f5f",
             "gridcolor": "#C8D4E3",
             "linecolor": "#C8D4E3",
             "minorgridcolor": "#C8D4E3",
             "startlinecolor": "#2a3f5f"
            },
            "baxis": {
             "endlinecolor": "#2a3f5f",
             "gridcolor": "#C8D4E3",
             "linecolor": "#C8D4E3",
             "minorgridcolor": "#C8D4E3",
             "startlinecolor": "#2a3f5f"
            },
            "type": "carpet"
           }
          ],
          "choropleth": [
           {
            "colorbar": {
             "outlinewidth": 0,
             "ticks": ""
            },
            "type": "choropleth"
           }
          ],
          "contour": [
           {
            "colorbar": {
             "outlinewidth": 0,
             "ticks": ""
            },
            "colorscale": [
             [
              0,
              "#0d0887"
             ],
             [
              0.1111111111111111,
              "#46039f"
             ],
             [
              0.2222222222222222,
              "#7201a8"
             ],
             [
              0.3333333333333333,
              "#9c179e"
             ],
             [
              0.4444444444444444,
              "#bd3786"
             ],
             [
              0.5555555555555556,
              "#d8576b"
             ],
             [
              0.6666666666666666,
              "#ed7953"
             ],
             [
              0.7777777777777778,
              "#fb9f3a"
             ],
             [
              0.8888888888888888,
              "#fdca26"
             ],
             [
              1,
              "#f0f921"
             ]
            ],
            "type": "contour"
           }
          ],
          "contourcarpet": [
           {
            "colorbar": {
             "outlinewidth": 0,
             "ticks": ""
            },
            "type": "contourcarpet"
           }
          ],
          "heatmap": [
           {
            "colorbar": {
             "outlinewidth": 0,
             "ticks": ""
            },
            "colorscale": [
             [
              0,
              "#0d0887"
             ],
             [
              0.1111111111111111,
              "#46039f"
             ],
             [
              0.2222222222222222,
              "#7201a8"
             ],
             [
              0.3333333333333333,
              "#9c179e"
             ],
             [
              0.4444444444444444,
              "#bd3786"
             ],
             [
              0.5555555555555556,
              "#d8576b"
             ],
             [
              0.6666666666666666,
              "#ed7953"
             ],
             [
              0.7777777777777778,
              "#fb9f3a"
             ],
             [
              0.8888888888888888,
              "#fdca26"
             ],
             [
              1,
              "#f0f921"
             ]
            ],
            "type": "heatmap"
           }
          ],
          "histogram": [
           {
            "marker": {
             "pattern": {
              "fillmode": "overlay",
              "size": 10,
              "solidity": 0.2
             }
            },
            "type": "histogram"
           }
          ],
          "histogram2d": [
           {
            "colorbar": {
             "outlinewidth": 0,
             "ticks": ""
            },
            "colorscale": [
             [
              0,
              "#0d0887"
             ],
             [
              0.1111111111111111,
              "#46039f"
             ],
             [
              0.2222222222222222,
              "#7201a8"
             ],
             [
              0.3333333333333333,
              "#9c179e"
             ],
             [
              0.4444444444444444,
              "#bd3786"
             ],
             [
              0.5555555555555556,
              "#d8576b"
             ],
             [
              0.6666666666666666,
              "#ed7953"
             ],
             [
              0.7777777777777778,
              "#fb9f3a"
             ],
             [
              0.8888888888888888,
              "#fdca26"
             ],
             [
              1,
              "#f0f921"
             ]
            ],
            "type": "histogram2d"
           }
          ],
          "histogram2dcontour": [
           {
            "colorbar": {
             "outlinewidth": 0,
             "ticks": ""
            },
            "colorscale": [
             [
              0,
              "#0d0887"
             ],
             [
              0.1111111111111111,
              "#46039f"
             ],
             [
              0.2222222222222222,
              "#7201a8"
             ],
             [
              0.3333333333333333,
              "#9c179e"
             ],
             [
              0.4444444444444444,
              "#bd3786"
             ],
             [
              0.5555555555555556,
              "#d8576b"
             ],
             [
              0.6666666666666666,
              "#ed7953"
             ],
             [
              0.7777777777777778,
              "#fb9f3a"
             ],
             [
              0.8888888888888888,
              "#fdca26"
             ],
             [
              1,
              "#f0f921"
             ]
            ],
            "type": "histogram2dcontour"
           }
          ],
          "mesh3d": [
           {
            "colorbar": {
             "outlinewidth": 0,
             "ticks": ""
            },
            "type": "mesh3d"
           }
          ],
          "parcoords": [
           {
            "line": {
             "colorbar": {
              "outlinewidth": 0,
              "ticks": ""
             }
            },
            "type": "parcoords"
           }
          ],
          "pie": [
           {
            "automargin": true,
            "type": "pie"
           }
          ],
          "scatter": [
           {
            "fillpattern": {
             "fillmode": "overlay",
             "size": 10,
             "solidity": 0.2
            },
            "type": "scatter"
           }
          ],
          "scatter3d": [
           {
            "line": {
             "colorbar": {
              "outlinewidth": 0,
              "ticks": ""
             }
            },
            "marker": {
             "colorbar": {
              "outlinewidth": 0,
              "ticks": ""
             }
            },
            "type": "scatter3d"
           }
          ],
          "scattercarpet": [
           {
            "marker": {
             "colorbar": {
              "outlinewidth": 0,
              "ticks": ""
             }
            },
            "type": "scattercarpet"
           }
          ],
          "scattergeo": [
           {
            "marker": {
             "colorbar": {
              "outlinewidth": 0,
              "ticks": ""
             }
            },
            "type": "scattergeo"
           }
          ],
          "scattergl": [
           {
            "marker": {
             "colorbar": {
              "outlinewidth": 0,
              "ticks": ""
             }
            },
            "type": "scattergl"
           }
          ],
          "scattermap": [
           {
            "marker": {
             "colorbar": {
              "outlinewidth": 0,
              "ticks": ""
             }
            },
            "type": "scattermap"
           }
          ],
          "scattermapbox": [
           {
            "marker": {
             "colorbar": {
              "outlinewidth": 0,
              "ticks": ""
             }
            },
            "type": "scattermapbox"
           }
          ],
          "scatterpolar": [
           {
            "marker": {
             "colorbar": {
              "outlinewidth": 0,
              "ticks": ""
             }
            },
            "type": "scatterpolar"
           }
          ],
          "scatterpolargl": [
           {
            "marker": {
             "colorbar": {
              "outlinewidth": 0,
              "ticks": ""
             }
            },
            "type": "scatterpolargl"
           }
          ],
          "scatterternary": [
           {
            "marker": {
             "colorbar": {
              "outlinewidth": 0,
              "ticks": ""
             }
            },
            "type": "scatterternary"
           }
          ],
          "surface": [
           {
            "colorbar": {
             "outlinewidth": 0,
             "ticks": ""
            },
            "colorscale": [
             [
              0,
              "#0d0887"
             ],
             [
              0.1111111111111111,
              "#46039f"
             ],
             [
              0.2222222222222222,
              "#7201a8"
             ],
             [
              0.3333333333333333,
              "#9c179e"
             ],
             [
              0.4444444444444444,
              "#bd3786"
             ],
             [
              0.5555555555555556,
              "#d8576b"
             ],
             [
              0.6666666666666666,
              "#ed7953"
             ],
             [
              0.7777777777777778,
              "#fb9f3a"
             ],
             [
              0.8888888888888888,
              "#fdca26"
             ],
             [
              1,
              "#f0f921"
             ]
            ],
            "type": "surface"
           }
          ],
          "table": [
           {
            "cells": {
             "fill": {
              "color": "#EBF0F8"
             },
             "line": {
              "color": "white"
             }
            },
            "header": {
             "fill": {
              "color": "#C8D4E3"
             },
             "line": {
              "color": "white"
             }
            },
            "type": "table"
           }
          ]
         },
         "layout": {
          "annotationdefaults": {
           "arrowcolor": "#2a3f5f",
           "arrowhead": 0,
           "arrowwidth": 1
          },
          "autotypenumbers": "strict",
          "coloraxis": {
           "colorbar": {
            "outlinewidth": 0,
            "ticks": ""
           }
          },
          "colorscale": {
           "diverging": [
            [
             0,
             "#8e0152"
            ],
            [
             0.1,
             "#c51b7d"
            ],
            [
             0.2,
             "#de77ae"
            ],
            [
             0.3,
             "#f1b6da"
            ],
            [
             0.4,
             "#fde0ef"
            ],
            [
             0.5,
             "#f7f7f7"
            ],
            [
             0.6,
             "#e6f5d0"
            ],
            [
             0.7,
             "#b8e186"
            ],
            [
             0.8,
             "#7fbc41"
            ],
            [
             0.9,
             "#4d9221"
            ],
            [
             1,
             "#276419"
            ]
           ],
           "sequential": [
            [
             0,
             "#0d0887"
            ],
            [
             0.1111111111111111,
             "#46039f"
            ],
            [
             0.2222222222222222,
             "#7201a8"
            ],
            [
             0.3333333333333333,
             "#9c179e"
            ],
            [
             0.4444444444444444,
             "#bd3786"
            ],
            [
             0.5555555555555556,
             "#d8576b"
            ],
            [
             0.6666666666666666,
             "#ed7953"
            ],
            [
             0.7777777777777778,
             "#fb9f3a"
            ],
            [
             0.8888888888888888,
             "#fdca26"
            ],
            [
             1,
             "#f0f921"
            ]
           ],
           "sequentialminus": [
            [
             0,
             "#0d0887"
            ],
            [
             0.1111111111111111,
             "#46039f"
            ],
            [
             0.2222222222222222,
             "#7201a8"
            ],
            [
             0.3333333333333333,
             "#9c179e"
            ],
            [
             0.4444444444444444,
             "#bd3786"
            ],
            [
             0.5555555555555556,
             "#d8576b"
            ],
            [
             0.6666666666666666,
             "#ed7953"
            ],
            [
             0.7777777777777778,
             "#fb9f3a"
            ],
            [
             0.8888888888888888,
             "#fdca26"
            ],
            [
             1,
             "#f0f921"
            ]
           ]
          },
          "colorway": [
           "#636efa",
           "#EF553B",
           "#00cc96",
           "#ab63fa",
           "#FFA15A",
           "#19d3f3",
           "#FF6692",
           "#B6E880",
           "#FF97FF",
           "#FECB52"
          ],
          "font": {
           "color": "#2a3f5f"
          },
          "geo": {
           "bgcolor": "white",
           "lakecolor": "white",
           "landcolor": "white",
           "showlakes": true,
           "showland": true,
           "subunitcolor": "#C8D4E3"
          },
          "hoverlabel": {
           "align": "left"
          },
          "hovermode": "closest",
          "mapbox": {
           "style": "light"
          },
          "paper_bgcolor": "white",
          "plot_bgcolor": "white",
          "polar": {
           "angularaxis": {
            "gridcolor": "#EBF0F8",
            "linecolor": "#EBF0F8",
            "ticks": ""
           },
           "bgcolor": "white",
           "radialaxis": {
            "gridcolor": "#EBF0F8",
            "linecolor": "#EBF0F8",
            "ticks": ""
           }
          },
          "scene": {
           "xaxis": {
            "backgroundcolor": "white",
            "gridcolor": "#DFE8F3",
            "gridwidth": 2,
            "linecolor": "#EBF0F8",
            "showbackground": true,
            "ticks": "",
            "zerolinecolor": "#EBF0F8"
           },
           "yaxis": {
            "backgroundcolor": "white",
            "gridcolor": "#DFE8F3",
            "gridwidth": 2,
            "linecolor": "#EBF0F8",
            "showbackground": true,
            "ticks": "",
            "zerolinecolor": "#EBF0F8"
           },
           "zaxis": {
            "backgroundcolor": "white",
            "gridcolor": "#DFE8F3",
            "gridwidth": 2,
            "linecolor": "#EBF0F8",
            "showbackground": true,
            "ticks": "",
            "zerolinecolor": "#EBF0F8"
           }
          },
          "shapedefaults": {
           "line": {
            "color": "#2a3f5f"
           }
          },
          "ternary": {
           "aaxis": {
            "gridcolor": "#DFE8F3",
            "linecolor": "#A2B1C6",
            "ticks": ""
           },
           "baxis": {
            "gridcolor": "#DFE8F3",
            "linecolor": "#A2B1C6",
            "ticks": ""
           },
           "bgcolor": "white",
           "caxis": {
            "gridcolor": "#DFE8F3",
            "linecolor": "#A2B1C6",
            "ticks": ""
           }
          },
          "title": {
           "x": 0.05
          },
          "xaxis": {
           "automargin": true,
           "gridcolor": "#EBF0F8",
           "linecolor": "#EBF0F8",
           "ticks": "",
           "title": {
            "standoff": 15
           },
           "zerolinecolor": "#EBF0F8",
           "zerolinewidth": 2
          },
          "yaxis": {
           "automargin": true,
           "gridcolor": "#EBF0F8",
           "linecolor": "#EBF0F8",
           "ticks": "",
           "title": {
            "standoff": 15
           },
           "zerolinecolor": "#EBF0F8",
           "zerolinewidth": 2
          }
         }
        },
        "title": {
         "text": "TSLA Technical Analysis Dashboard"
        },
        "xaxis": {
         "anchor": "y",
         "domain": [
          0,
          1
         ],
         "matches": "x5",
         "rangeslider": {
          "visible": false
         },
         "showticklabels": false
        },
        "xaxis2": {
         "anchor": "y2",
         "domain": [
          0,
          1
         ],
         "matches": "x5",
         "showticklabels": false
        },
        "xaxis3": {
         "anchor": "y3",
         "domain": [
          0,
          1
         ],
         "matches": "x5",
         "showticklabels": false
        },
        "xaxis4": {
         "anchor": "y4",
         "domain": [
          0,
          1
         ],
         "matches": "x5",
         "showticklabels": false
        },
        "xaxis5": {
         "anchor": "y5",
         "domain": [
          0,
          1
         ]
        },
        "yaxis": {
         "anchor": "x",
         "domain": [
          0.6799999999999999,
          1
         ],
         "title": {
          "text": "Price"
         }
        },
        "yaxis2": {
         "anchor": "x2",
         "domain": [
          0.51,
          0.63
         ],
         "title": {
          "text": "Volume"
         }
        },
        "yaxis3": {
         "anchor": "x3",
         "domain": [
          0.33999999999999997,
          0.45999999999999996
         ],
         "title": {
          "text": "RSI/Stochastic"
         }
        },
        "yaxis4": {
         "anchor": "x4",
         "domain": [
          0.16999999999999998,
          0.29
         ],
         "title": {
          "text": "MACD"
         }
        },
        "yaxis5": {
         "anchor": "x5",
         "domain": [
          0,
          0.12
         ],
         "title": {
          "text": "Bollinger Bands"
         }
        }
       }
      }
     },
     "metadata": {},
     "output_type": "display_data"
    }
   ],
   "source": [
    "def create_stock_dashboard(ticker, days=100):\n",
    "    \"\"\"Create an interactive dashboard for a single stock.\"\"\"\n",
    "    analyzer = analyzers[ticker]\n",
    "    df = analyzer.df.copy()\n",
    "    \n",
    "    # Filter for recent data\n",
    "    end_date = df['Date'].max()\n",
    "    start_date = end_date - pd.Timedelta(days=days)\n",
    "    df = df[(df['Date'] >= start_date) & (df['Date'] <= end_date)]\n",
    "    \n",
    "    # Create subplots\n",
    "    fig = make_subplots(\n",
    "        rows=5, cols=1,\n",
    "        shared_xaxes=True,\n",
    "        vertical_spacing=0.05,\n",
    "        row_heights=[0.4, 0.15, 0.15, 0.15, 0.15],\n",
    "        subplot_titles=(\n",
    "            f'{ticker} Price and Indicators',\n",
    "            'Volume and VWAP',\n",
    "            'RSI and Stochastic',\n",
    "            'MACD',\n",
    "            'Bollinger Bands'\n",
    "        )\n",
    "    )\n",
    "    \n",
    "    # 1. Price and Moving Averages\n",
    "    fig.add_trace(\n",
    "        go.Candlestick(\n",
    "            x=df['Date'],\n",
    "            open=df['Open'],\n",
    "            high=df['High'],\n",
    "            low=df['Low'],\n",
    "            close=df['Close'],\n",
    "            name='OHLC'\n",
    "        ),\n",
    "        row=1, col=1\n",
    "    )\n",
    "    \n",
    "    # Add moving averages\n",
    "    for ma, color in [('SMA_20', 'blue'), ('SMA_50', 'orange'), ('SMA_200', 'red')]:\n",
    "        fig.add_trace(\n",
    "            go.Scatter(\n",
    "                x=df['Date'],\n",
    "                y=df[ma],\n",
    "                name=ma,\n",
    "                line=dict(color=color)\n",
    "            ),\n",
    "            row=1, col=1\n",
    "        )\n",
    "    \n",
    "    # 2. Volume and VWAP\n",
    "    fig.add_trace(\n",
    "        go.Bar(\n",
    "            x=df['Date'],\n",
    "            y=df['Volume'],\n",
    "            name='Volume',\n",
    "            marker_color='rgba(0,0,255,0.3)'\n",
    "        ),\n",
    "        row=2, col=1\n",
    "    )\n",
    "    \n",
    "    fig.add_trace(\n",
    "        go.Scatter(\n",
    "            x=df['Date'],\n",
    "            y=df['VWAP'],\n",
    "            name='VWAP',\n",
    "            line=dict(color='purple')\n",
    "        ),\n",
    "        row=2, col=1\n",
    "    )\n",
    "    \n",
    "    # 3. RSI and Stochastic\n",
    "    fig.add_trace(\n",
    "        go.Scatter(\n",
    "            x=df['Date'],\n",
    "            y=df['RSI'],\n",
    "            name='RSI',\n",
    "            line=dict(color='blue')\n",
    "        ),\n",
    "        row=3, col=1\n",
    "    )\n",
    "    \n",
    "    fig.add_trace(\n",
    "        go.Scatter(\n",
    "            x=df['Date'],\n",
    "            y=df['Stoch_k'],\n",
    "            name='Stochastic %K',\n",
    "            line=dict(color='green')\n",
    "        ),\n",
    "        row=3, col=1\n",
    "    )\n",
    "    \n",
    "    fig.add_trace(\n",
    "        go.Scatter(\n",
    "            x=df['Date'],\n",
    "            y=df['Stoch_d'],\n",
    "            name='Stochastic %D',\n",
    "            line=dict(color='red')\n",
    "        ),\n",
    "        row=3, col=1\n",
    "    )\n",
    "    \n",
    "    # Add RSI levels\n",
    "    fig.add_hline(y=70, line_dash=\"dash\", line_color=\"red\", row=3, col=1)\n",
    "    fig.add_hline(y=30, line_dash=\"dash\", line_color=\"green\", row=3, col=1)\n",
    "    \n",
    "    # 4. MACD\n",
    "    fig.add_trace(\n",
    "        go.Scatter(\n",
    "            x=df['Date'],\n",
    "            y=df['MACD'],\n",
    "            name='MACD',\n",
    "            line=dict(color='blue')\n",
    "        ),\n",
    "        row=4, col=1\n",
    "    )\n",
    "    \n",
    "    fig.add_trace(\n",
    "        go.Scatter(\n",
    "            x=df['Date'],\n",
    "            y=df['MACD_signal'],\n",
    "            name='Signal',\n",
    "            line=dict(color='red')\n",
    "        ),\n",
    "        row=4, col=1\n",
    "    )\n",
    "    \n",
    "    fig.add_trace(\n",
    "        go.Bar(\n",
    "            x=df['Date'],\n",
    "            y=df['MACD_diff'],\n",
    "            name='MACD Diff',\n",
    "            marker_color='rgba(0,255,0,0.3)'\n",
    "        ),\n",
    "        row=4, col=1\n",
    "    )\n",
    "    \n",
    "    # 5. Bollinger Bands\n",
    "    fig.add_trace(\n",
    "        go.Scatter(\n",
    "            x=df['Date'],\n",
    "            y=df['BB_high'],\n",
    "            name='BB Upper',\n",
    "            line=dict(color='gray', dash='dash')\n",
    "        ),\n",
    "        row=5, col=1\n",
    "    )\n",
    "    \n",
    "    fig.add_trace(\n",
    "        go.Scatter(\n",
    "            x=df['Date'],\n",
    "            y=df['BB_low'],\n",
    "            name='BB Lower',\n",
    "            line=dict(color='gray', dash='dash')\n",
    "        ),\n",
    "        row=5, col=1\n",
    "    )\n",
    "    \n",
    "    fig.add_trace(\n",
    "        go.Scatter(\n",
    "            x=df['Date'],\n",
    "            y=df['BB_mid'],\n",
    "            name='BB Middle',\n",
    "            line=dict(color='gray')\n",
    "        ),\n",
    "        row=5, col=1\n",
    "    )\n",
    "    \n",
    "    # Update layout\n",
    "    fig.update_layout(\n",
    "        title=f'{ticker} Technical Analysis Dashboard',\n",
    "        yaxis_title='Price',\n",
    "        yaxis2_title='Volume',\n",
    "        yaxis3_title='RSI/Stochastic',\n",
    "        yaxis4_title='MACD',\n",
    "        yaxis5_title='Bollinger Bands',\n",
    "        xaxis_rangeslider_visible=False,\n",
    "        height=1200,\n",
    "        showlegend=True,\n",
    "        legend=dict(\n",
    "            orientation=\"h\",\n",
    "            yanchor=\"bottom\",\n",
    "            y=1.02,\n",
    "            xanchor=\"right\",\n",
    "            x=1\n",
    "        )\n",
    "    )\n",
    "    \n",
    "    return fig\n",
    "\n",
    "# Create dashboard for each stock\n",
    "for ticker in analyzers:\n",
    "    print(f\"\\nGenerating dashboard for {ticker}...\")\n",
    "    fig = create_stock_dashboard(ticker)\n",
    "    fig.show()"
   ]
  },
  {
   "cell_type": "markdown",
   "metadata": {},
   "source": [
    "## 3. Market Data and Fundamental Analysis"
   ]
  },
  {
   "cell_type": "code",
   "execution_count": 7,
   "metadata": {},
   "outputs": [
    {
     "name": "stdout",
     "output_type": "stream",
     "text": [
      "\n",
      "Generating market summary for AAPL...\n",
      "Error creating market summary for AAPL: '1M_Return'\n",
      "\n",
      "Generating market summary for AMZN...\n",
      "Error creating market summary for AMZN: '1M_Return'\n",
      "\n",
      "Generating market summary for GOOG...\n",
      "Error creating market summary for GOOG: '1M_Return'\n",
      "\n",
      "Generating market summary for META...\n",
      "Error creating market summary for META: '1M_Return'\n",
      "\n",
      "Generating market summary for MSFT...\n",
      "Error creating market summary for MSFT: '1M_Return'\n",
      "\n",
      "Generating market summary for NVDA...\n",
      "Error creating market summary for NVDA: '1M_Return'\n",
      "\n",
      "Generating market summary for TSLA...\n",
      "Error creating market summary for TSLA: '1M_Return'\n"
     ]
    }
   ],
   "source": [
    "def create_market_summary(ticker):\n",
    "    \"\"\"Create a market summary dashboard for a stock.\"\"\"\n",
    "    analyzer = analyzers[ticker]\n",
    "    summary = analyzer.get_market_summary()\n",
    "    \n",
    "    # Create subplots for different metrics\n",
    "    fig = make_subplots(\n",
    "        rows=2, cols=2,\n",
    "        subplot_titles=(\n",
    "            'Technical Indicators',\n",
    "            'Fundamental Metrics',\n",
    "            'Performance Metrics',\n",
    "            'Market Sentiment'\n",
    "        )\n",
    "    )\n",
    "    \n",
    "    # 1. Technical Indicators\n",
    "    tech_data = summary['Technical']\n",
    "    \n",
    "    # Price and Moving Averages\n",
    "    price_data = {\n",
    "        'Current': tech_data['Price']['Current'],\n",
    "        'SMA 20': tech_data['Price']['SMA_20'],\n",
    "        'SMA 50': tech_data['Price']['SMA_50'],\n",
    "        'SMA 200': tech_data['Price']['SMA_200']\n",
    "    }\n",
    "    \n",
    "    fig.add_trace(\n",
    "        go.Bar(\n",
    "            x=list(price_data.keys()),\n",
    "            y=list(price_data.values()),\n",
    "            name='Price Levels',\n",
    "            marker_color='lightblue'\n",
    "        ),\n",
    "        row=1, col=1\n",
    "    )\n",
    "    \n",
    "    # 2. Fundamental Metrics\n",
    "    fund_data = summary['Fundamental']\n",
    "    metrics = []\n",
    "    values = []\n",
    "    \n",
    "    # Only add metrics that have valid values\n",
    "    if fund_data['P/E_Ratio'] is not None:\n",
    "        metrics.append('P/E Ratio')\n",
    "        values.append(fund_data['P/E_Ratio'])\n",
    "    if fund_data['P/B_Ratio'] is not None:\n",
    "        metrics.append('P/B Ratio')\n",
    "        values.append(fund_data['P/B_Ratio'])\n",
    "    if fund_data['ROE'] is not None:\n",
    "        metrics.append('ROE')\n",
    "        values.append(fund_data['ROE'])\n",
    "    if fund_data['Dividend_Yield'] is not None:\n",
    "        metrics.append('Dividend Yield')\n",
    "        values.append(fund_data['Dividend_Yield'])\n",
    "    \n",
    "    if metrics:  # Only add if we have valid metrics\n",
    "        fig.add_trace(\n",
    "            go.Bar(\n",
    "                x=metrics,\n",
    "                y=values,\n",
    "                name='Fundamental Metrics',\n",
    "                marker_color='lightgreen'\n",
    "            ),\n",
    "            row=1, col=2\n",
    "        )\n",
    "    \n",
    "    # 3. Performance Metrics\n",
    "    perf_data = summary['Performance']\n",
    "    returns = {\n",
    "        '1M': perf_data['1M_Return'],\n",
    "        '3M': perf_data['3M_Return'],\n",
    "        '6M': perf_data['6M_Return'],\n",
    "        '1Y': perf_data['1Y_Return'],\n",
    "        'YTD': perf_data['YTD_Return']\n",
    "    }\n",
    "    \n",
    "    # Filter out None values\n",
    "    returns = {k: v for k, v in returns.items() if v is not None}\n",
    "    \n",
    "    if returns:  # Only add if we have valid returns\n",
    "        fig.add_trace(\n",
    "            go.Bar(\n",
    "                x=list(returns.keys()),\n",
    "                y=list(returns.values()),\n",
    "                name='Returns',\n",
    "                marker_color='lightcoral'\n",
    "            ),\n",
    "            row=2, col=1\n",
    "        )\n",
    "    \n",
    "    # 4. Market Sentiment\n",
    "    sent_data = summary['Market_Sentiment']\n",
    "    \n",
    "    if sent_data['Current_Sentiment'] is not None:\n",
    "        # Create a simple bar chart instead of gauge\n",
    "        sentiment_value = sent_data['Current_Sentiment'] * 100\n",
    "        fig.add_trace(\n",
    "            go.Bar(\n",
    "                x=['Market Sentiment'],\n",
    "                y=[sentiment_value],\n",
    "                name='Sentiment',\n",
    "                marker_color='lightseagreen',\n",
    "                text=[f'{sentiment_value:.1f}%'],\n",
    "                textposition='auto'\n",
    "            ),\n",
    "            row=2, col=2\n",
    "        )\n",
    "    \n",
    "    # Update layout\n",
    "    fig.update_layout(\n",
    "        title=f'{ticker} Market Summary',\n",
    "        height=800,\n",
    "        showlegend=True,\n",
    "        legend=dict(\n",
    "            orientation=\"h\",\n",
    "            yanchor=\"bottom\",\n",
    "            y=1.02,\n",
    "            xanchor=\"right\",\n",
    "            x=1\n",
    "        ),\n",
    "        # Add y-axis labels\n",
    "        yaxis_title=\"Price\",\n",
    "        yaxis2_title=\"Value\",\n",
    "        yaxis3_title=\"Return (%)\",\n",
    "        yaxis4_title=\"Sentiment Score\"\n",
    "    )\n",
    "    \n",
    "    # Update y-axis ranges for better visualization\n",
    "    if price_data.values():\n",
    "        max_price = max(price_data.values())\n",
    "        fig.update_yaxes(range=[0, max_price * 1.1], row=1, col=1)\n",
    "    \n",
    "    if values:\n",
    "        max_value = max(values)\n",
    "        fig.update_yaxes(range=[0, max_value * 1.1], row=1, col=2)\n",
    "    \n",
    "    if returns:\n",
    "        min_return = min(returns.values())\n",
    "        max_return = max(returns.values())\n",
    "        fig.update_yaxes(range=[min_return * 1.1, max_return * 1.1], row=2, col=1)\n",
    "    \n",
    "    if sent_data['Current_Sentiment'] is not None:\n",
    "        fig.update_yaxes(range=[0, 100], row=2, col=2)\n",
    "    \n",
    "    return fig\n",
    "\n",
    "# Create market summary for each stock\n",
    "for ticker in analyzers:\n",
    "    print(f\"\\nGenerating market summary for {ticker}...\")\n",
    "    try:\n",
    "        fig = create_market_summary(ticker)\n",
    "        fig.show()\n",
    "    except Exception as e:\n",
    "        print(f\"Error creating market summary for {ticker}: {str(e)}\")"
   ]
  },
  {
   "cell_type": "markdown",
   "metadata": {},
   "source": [
    "## 4. Comparative Analysis"
   ]
  },
  {
   "cell_type": "code",
   "execution_count": 5,
   "metadata": {},
   "outputs": [
    {
     "name": "stdout",
     "output_type": "stream",
     "text": [
      "\n",
      "Generating comparative analysis...\n"
     ]
    },
    {
     "data": {
      "application/vnd.plotly.v1+json": {
       "config": {
        "plotlyServerURL": "https://plot.ly"
       },
       "data": [
        {
         "colorscale": [
          [
           0,
           "rgb(165,0,38)"
          ],
          [
           0.1,
           "rgb(215,48,39)"
          ],
          [
           0.2,
           "rgb(244,109,67)"
          ],
          [
           0.3,
           "rgb(253,174,97)"
          ],
          [
           0.4,
           "rgb(254,224,139)"
          ],
          [
           0.5,
           "rgb(255,255,191)"
          ],
          [
           0.6,
           "rgb(217,239,139)"
          ],
          [
           0.7,
           "rgb(166,217,106)"
          ],
          [
           0.8,
           "rgb(102,189,99)"
          ],
          [
           0.9,
           "rgb(26,152,80)"
          ],
          [
           1,
           "rgb(0,104,55)"
          ]
         ],
         "type": "heatmap",
         "x": [
          "RSI",
          "MACD_Signal",
          "BB_Width",
          "Volatility",
          "MFI"
         ],
         "y": [
          "AAPL",
          "AMZN",
          "GOOG",
          "META",
          "MSFT",
          "NVDA",
          "TSLA"
         ],
         "z": {
          "bdata": "8ipvefetSEAAAAAAAADwv/ZzNwJlwLg/YswlkaDjzT8cGIxKa05BQOKIL/hUNERAAAAAAAAA8L8CTSB6nwXEP+i9/tTce8w/xgHelREpQEDVqtPFxPVCQAAAAAAAAPC/sOwwaRg0xT9KdtMy28bSPyRkkRaDDT9AubZrLwrlQ0AAAAAAAADwv2W6wExspcs//37P/jWv3D+i46qMHm1CQLXPykBGikJAAAAAAAAA8L+C0PqHAmHBP87eX1m568w/lI/2le4bPEAqM/2gw6xAQAAAAAAAAPC/NwprxANE0D/T612+wlHiP6AUrAxu4zhAi4FRgTgcSEAAAAAAAADwvzTLCo5tdc0/8UyS4dxG6j9cjm4rwLtAQA==",
          "dtype": "f8",
          "shape": "7, 5"
         },
         "zmid": 0
        }
       ],
       "layout": {
        "height": 600,
        "template": {
         "data": {
          "bar": [
           {
            "error_x": {
             "color": "#2a3f5f"
            },
            "error_y": {
             "color": "#2a3f5f"
            },
            "marker": {
             "line": {
              "color": "white",
              "width": 0.5
             },
             "pattern": {
              "fillmode": "overlay",
              "size": 10,
              "solidity": 0.2
             }
            },
            "type": "bar"
           }
          ],
          "barpolar": [
           {
            "marker": {
             "line": {
              "color": "white",
              "width": 0.5
             },
             "pattern": {
              "fillmode": "overlay",
              "size": 10,
              "solidity": 0.2
             }
            },
            "type": "barpolar"
           }
          ],
          "carpet": [
           {
            "aaxis": {
             "endlinecolor": "#2a3f5f",
             "gridcolor": "#C8D4E3",
             "linecolor": "#C8D4E3",
             "minorgridcolor": "#C8D4E3",
             "startlinecolor": "#2a3f5f"
            },
            "baxis": {
             "endlinecolor": "#2a3f5f",
             "gridcolor": "#C8D4E3",
             "linecolor": "#C8D4E3",
             "minorgridcolor": "#C8D4E3",
             "startlinecolor": "#2a3f5f"
            },
            "type": "carpet"
           }
          ],
          "choropleth": [
           {
            "colorbar": {
             "outlinewidth": 0,
             "ticks": ""
            },
            "type": "choropleth"
           }
          ],
          "contour": [
           {
            "colorbar": {
             "outlinewidth": 0,
             "ticks": ""
            },
            "colorscale": [
             [
              0,
              "#0d0887"
             ],
             [
              0.1111111111111111,
              "#46039f"
             ],
             [
              0.2222222222222222,
              "#7201a8"
             ],
             [
              0.3333333333333333,
              "#9c179e"
             ],
             [
              0.4444444444444444,
              "#bd3786"
             ],
             [
              0.5555555555555556,
              "#d8576b"
             ],
             [
              0.6666666666666666,
              "#ed7953"
             ],
             [
              0.7777777777777778,
              "#fb9f3a"
             ],
             [
              0.8888888888888888,
              "#fdca26"
             ],
             [
              1,
              "#f0f921"
             ]
            ],
            "type": "contour"
           }
          ],
          "contourcarpet": [
           {
            "colorbar": {
             "outlinewidth": 0,
             "ticks": ""
            },
            "type": "contourcarpet"
           }
          ],
          "heatmap": [
           {
            "colorbar": {
             "outlinewidth": 0,
             "ticks": ""
            },
            "colorscale": [
             [
              0,
              "#0d0887"
             ],
             [
              0.1111111111111111,
              "#46039f"
             ],
             [
              0.2222222222222222,
              "#7201a8"
             ],
             [
              0.3333333333333333,
              "#9c179e"
             ],
             [
              0.4444444444444444,
              "#bd3786"
             ],
             [
              0.5555555555555556,
              "#d8576b"
             ],
             [
              0.6666666666666666,
              "#ed7953"
             ],
             [
              0.7777777777777778,
              "#fb9f3a"
             ],
             [
              0.8888888888888888,
              "#fdca26"
             ],
             [
              1,
              "#f0f921"
             ]
            ],
            "type": "heatmap"
           }
          ],
          "histogram": [
           {
            "marker": {
             "pattern": {
              "fillmode": "overlay",
              "size": 10,
              "solidity": 0.2
             }
            },
            "type": "histogram"
           }
          ],
          "histogram2d": [
           {
            "colorbar": {
             "outlinewidth": 0,
             "ticks": ""
            },
            "colorscale": [
             [
              0,
              "#0d0887"
             ],
             [
              0.1111111111111111,
              "#46039f"
             ],
             [
              0.2222222222222222,
              "#7201a8"
             ],
             [
              0.3333333333333333,
              "#9c179e"
             ],
             [
              0.4444444444444444,
              "#bd3786"
             ],
             [
              0.5555555555555556,
              "#d8576b"
             ],
             [
              0.6666666666666666,
              "#ed7953"
             ],
             [
              0.7777777777777778,
              "#fb9f3a"
             ],
             [
              0.8888888888888888,
              "#fdca26"
             ],
             [
              1,
              "#f0f921"
             ]
            ],
            "type": "histogram2d"
           }
          ],
          "histogram2dcontour": [
           {
            "colorbar": {
             "outlinewidth": 0,
             "ticks": ""
            },
            "colorscale": [
             [
              0,
              "#0d0887"
             ],
             [
              0.1111111111111111,
              "#46039f"
             ],
             [
              0.2222222222222222,
              "#7201a8"
             ],
             [
              0.3333333333333333,
              "#9c179e"
             ],
             [
              0.4444444444444444,
              "#bd3786"
             ],
             [
              0.5555555555555556,
              "#d8576b"
             ],
             [
              0.6666666666666666,
              "#ed7953"
             ],
             [
              0.7777777777777778,
              "#fb9f3a"
             ],
             [
              0.8888888888888888,
              "#fdca26"
             ],
             [
              1,
              "#f0f921"
             ]
            ],
            "type": "histogram2dcontour"
           }
          ],
          "mesh3d": [
           {
            "colorbar": {
             "outlinewidth": 0,
             "ticks": ""
            },
            "type": "mesh3d"
           }
          ],
          "parcoords": [
           {
            "line": {
             "colorbar": {
              "outlinewidth": 0,
              "ticks": ""
             }
            },
            "type": "parcoords"
           }
          ],
          "pie": [
           {
            "automargin": true,
            "type": "pie"
           }
          ],
          "scatter": [
           {
            "fillpattern": {
             "fillmode": "overlay",
             "size": 10,
             "solidity": 0.2
            },
            "type": "scatter"
           }
          ],
          "scatter3d": [
           {
            "line": {
             "colorbar": {
              "outlinewidth": 0,
              "ticks": ""
             }
            },
            "marker": {
             "colorbar": {
              "outlinewidth": 0,
              "ticks": ""
             }
            },
            "type": "scatter3d"
           }
          ],
          "scattercarpet": [
           {
            "marker": {
             "colorbar": {
              "outlinewidth": 0,
              "ticks": ""
             }
            },
            "type": "scattercarpet"
           }
          ],
          "scattergeo": [
           {
            "marker": {
             "colorbar": {
              "outlinewidth": 0,
              "ticks": ""
             }
            },
            "type": "scattergeo"
           }
          ],
          "scattergl": [
           {
            "marker": {
             "colorbar": {
              "outlinewidth": 0,
              "ticks": ""
             }
            },
            "type": "scattergl"
           }
          ],
          "scattermap": [
           {
            "marker": {
             "colorbar": {
              "outlinewidth": 0,
              "ticks": ""
             }
            },
            "type": "scattermap"
           }
          ],
          "scattermapbox": [
           {
            "marker": {
             "colorbar": {
              "outlinewidth": 0,
              "ticks": ""
             }
            },
            "type": "scattermapbox"
           }
          ],
          "scatterpolar": [
           {
            "marker": {
             "colorbar": {
              "outlinewidth": 0,
              "ticks": ""
             }
            },
            "type": "scatterpolar"
           }
          ],
          "scatterpolargl": [
           {
            "marker": {
             "colorbar": {
              "outlinewidth": 0,
              "ticks": ""
             }
            },
            "type": "scatterpolargl"
           }
          ],
          "scatterternary": [
           {
            "marker": {
             "colorbar": {
              "outlinewidth": 0,
              "ticks": ""
             }
            },
            "type": "scatterternary"
           }
          ],
          "surface": [
           {
            "colorbar": {
             "outlinewidth": 0,
             "ticks": ""
            },
            "colorscale": [
             [
              0,
              "#0d0887"
             ],
             [
              0.1111111111111111,
              "#46039f"
             ],
             [
              0.2222222222222222,
              "#7201a8"
             ],
             [
              0.3333333333333333,
              "#9c179e"
             ],
             [
              0.4444444444444444,
              "#bd3786"
             ],
             [
              0.5555555555555556,
              "#d8576b"
             ],
             [
              0.6666666666666666,
              "#ed7953"
             ],
             [
              0.7777777777777778,
              "#fb9f3a"
             ],
             [
              0.8888888888888888,
              "#fdca26"
             ],
             [
              1,
              "#f0f921"
             ]
            ],
            "type": "surface"
           }
          ],
          "table": [
           {
            "cells": {
             "fill": {
              "color": "#EBF0F8"
             },
             "line": {
              "color": "white"
             }
            },
            "header": {
             "fill": {
              "color": "#C8D4E3"
             },
             "line": {
              "color": "white"
             }
            },
            "type": "table"
           }
          ]
         },
         "layout": {
          "annotationdefaults": {
           "arrowcolor": "#2a3f5f",
           "arrowhead": 0,
           "arrowwidth": 1
          },
          "autotypenumbers": "strict",
          "coloraxis": {
           "colorbar": {
            "outlinewidth": 0,
            "ticks": ""
           }
          },
          "colorscale": {
           "diverging": [
            [
             0,
             "#8e0152"
            ],
            [
             0.1,
             "#c51b7d"
            ],
            [
             0.2,
             "#de77ae"
            ],
            [
             0.3,
             "#f1b6da"
            ],
            [
             0.4,
             "#fde0ef"
            ],
            [
             0.5,
             "#f7f7f7"
            ],
            [
             0.6,
             "#e6f5d0"
            ],
            [
             0.7,
             "#b8e186"
            ],
            [
             0.8,
             "#7fbc41"
            ],
            [
             0.9,
             "#4d9221"
            ],
            [
             1,
             "#276419"
            ]
           ],
           "sequential": [
            [
             0,
             "#0d0887"
            ],
            [
             0.1111111111111111,
             "#46039f"
            ],
            [
             0.2222222222222222,
             "#7201a8"
            ],
            [
             0.3333333333333333,
             "#9c179e"
            ],
            [
             0.4444444444444444,
             "#bd3786"
            ],
            [
             0.5555555555555556,
             "#d8576b"
            ],
            [
             0.6666666666666666,
             "#ed7953"
            ],
            [
             0.7777777777777778,
             "#fb9f3a"
            ],
            [
             0.8888888888888888,
             "#fdca26"
            ],
            [
             1,
             "#f0f921"
            ]
           ],
           "sequentialminus": [
            [
             0,
             "#0d0887"
            ],
            [
             0.1111111111111111,
             "#46039f"
            ],
            [
             0.2222222222222222,
             "#7201a8"
            ],
            [
             0.3333333333333333,
             "#9c179e"
            ],
            [
             0.4444444444444444,
             "#bd3786"
            ],
            [
             0.5555555555555556,
             "#d8576b"
            ],
            [
             0.6666666666666666,
             "#ed7953"
            ],
            [
             0.7777777777777778,
             "#fb9f3a"
            ],
            [
             0.8888888888888888,
             "#fdca26"
            ],
            [
             1,
             "#f0f921"
            ]
           ]
          },
          "colorway": [
           "#636efa",
           "#EF553B",
           "#00cc96",
           "#ab63fa",
           "#FFA15A",
           "#19d3f3",
           "#FF6692",
           "#B6E880",
           "#FF97FF",
           "#FECB52"
          ],
          "font": {
           "color": "#2a3f5f"
          },
          "geo": {
           "bgcolor": "white",
           "lakecolor": "white",
           "landcolor": "white",
           "showlakes": true,
           "showland": true,
           "subunitcolor": "#C8D4E3"
          },
          "hoverlabel": {
           "align": "left"
          },
          "hovermode": "closest",
          "mapbox": {
           "style": "light"
          },
          "paper_bgcolor": "white",
          "plot_bgcolor": "white",
          "polar": {
           "angularaxis": {
            "gridcolor": "#EBF0F8",
            "linecolor": "#EBF0F8",
            "ticks": ""
           },
           "bgcolor": "white",
           "radialaxis": {
            "gridcolor": "#EBF0F8",
            "linecolor": "#EBF0F8",
            "ticks": ""
           }
          },
          "scene": {
           "xaxis": {
            "backgroundcolor": "white",
            "gridcolor": "#DFE8F3",
            "gridwidth": 2,
            "linecolor": "#EBF0F8",
            "showbackground": true,
            "ticks": "",
            "zerolinecolor": "#EBF0F8"
           },
           "yaxis": {
            "backgroundcolor": "white",
            "gridcolor": "#DFE8F3",
            "gridwidth": 2,
            "linecolor": "#EBF0F8",
            "showbackground": true,
            "ticks": "",
            "zerolinecolor": "#EBF0F8"
           },
           "zaxis": {
            "backgroundcolor": "white",
            "gridcolor": "#DFE8F3",
            "gridwidth": 2,
            "linecolor": "#EBF0F8",
            "showbackground": true,
            "ticks": "",
            "zerolinecolor": "#EBF0F8"
           }
          },
          "shapedefaults": {
           "line": {
            "color": "#2a3f5f"
           }
          },
          "ternary": {
           "aaxis": {
            "gridcolor": "#DFE8F3",
            "linecolor": "#A2B1C6",
            "ticks": ""
           },
           "baxis": {
            "gridcolor": "#DFE8F3",
            "linecolor": "#A2B1C6",
            "ticks": ""
           },
           "bgcolor": "white",
           "caxis": {
            "gridcolor": "#DFE8F3",
            "linecolor": "#A2B1C6",
            "ticks": ""
           }
          },
          "title": {
           "x": 0.05
          },
          "xaxis": {
           "automargin": true,
           "gridcolor": "#EBF0F8",
           "linecolor": "#EBF0F8",
           "ticks": "",
           "title": {
            "standoff": 15
           },
           "zerolinecolor": "#EBF0F8",
           "zerolinewidth": 2
          },
          "yaxis": {
           "automargin": true,
           "gridcolor": "#EBF0F8",
           "linecolor": "#EBF0F8",
           "ticks": "",
           "title": {
            "standoff": 15
           },
           "zerolinecolor": "#EBF0F8",
           "zerolinewidth": 2
          }
         }
        },
        "title": {
         "text": "Comparative Technical Analysis"
        },
        "xaxis": {
         "title": {
          "text": "Indicators"
         }
        },
        "yaxis": {
         "title": {
          "text": "Stocks"
         }
        }
       }
      }
     },
     "metadata": {},
     "output_type": "display_data"
    }
   ],
   "source": [
    "def create_comparative_analysis():\n",
    "    \"\"\"Create a comparative analysis dashboard across all stocks.\"\"\"\n",
    "    # Prepare data for comparison\n",
    "    comparison_data = {}\n",
    "    for ticker in analyzers:\n",
    "        analyzer = analyzers[ticker]\n",
    "        summary = analyzer.get_technical_summary()\n",
    "        comparison_data[ticker] = {\n",
    "            'RSI': summary['Momentum']['RSI'],\n",
    "            'MACD_Signal': 1 if summary['Momentum']['MACD_Signal'] == 'Bullish' else -1,\n",
    "            'BB_Width': summary['Volatility']['BB_Width'],\n",
    "            'Volatility': summary['Volatility']['Volatility_20d'],\n",
    "            'MFI': summary['Volume']['MFI']\n",
    "        }\n",
    "    \n",
    "    # Convert to DataFrame\n",
    "    df_compare = pd.DataFrame(comparison_data).T\n",
    "    \n",
    "    # Create heatmap\n",
    "    fig = go.Figure(data=go.Heatmap(\n",
    "        z=df_compare.values,\n",
    "        x=df_compare.columns,\n",
    "        y=df_compare.index,\n",
    "        colorscale='RdYlGn',\n",
    "        zmid=0\n",
    "    ))\n",
    "    \n",
    "    fig.update_layout(\n",
    "        title='Comparative Technical Analysis',\n",
    "        xaxis_title='Indicators',\n",
    "        yaxis_title='Stocks',\n",
    "        height=600\n",
    "    )\n",
    "    \n",
    "    return fig\n",
    "\n",
    "# Create comparative analysis\n",
    "print(\"\\nGenerating comparative analysis...\")\n",
    "fig = create_comparative_analysis()\n",
    "fig.show()"
   ]
  }
 ],
 "metadata": {
  "kernelspec": {
   "display_name": ".venv",
   "language": "python",
   "name": "python3"
  },
  "language_info": {
   "codemirror_mode": {
    "name": "ipython",
    "version": 3
   },
   "file_extension": ".py",
   "mimetype": "text/x-python",
   "name": "python",
   "nbconvert_exporter": "python",
   "pygments_lexer": "ipython3",
   "version": "3.13.3"
  }
 },
 "nbformat": 4,
 "nbformat_minor": 4
}
